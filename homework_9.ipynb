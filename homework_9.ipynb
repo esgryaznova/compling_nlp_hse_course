{
  "cells": [
    {
      "cell_type": "markdown",
      "metadata": {
        "id": "view-in-github",
        "colab_type": "text"
      },
      "source": [
        "<a href=\"https://colab.research.google.com/github/esgryaznova/compling_nlp_hse_course/blob/master/homework_9.ipynb\" target=\"_parent\"><img src=\"https://colab.research.google.com/assets/colab-badge.svg\" alt=\"Open In Colab\"/></a>"
      ]
    },
    {
      "cell_type": "markdown",
      "metadata": {
        "id": "4997c44b"
      },
      "source": [
        "# Домашнее задание № 9. Предобученные трансформеры "
      ],
      "id": "4997c44b"
    },
    {
      "cell_type": "markdown",
      "metadata": {
        "id": "ed88fd24"
      },
      "source": [
        "### Задание 1 (8 баллов).\n",
        "Дообучите 3 предобученных модели на тех же данных, что и в семинаре. Сравните качество и выберите лучшую. \n",
        "Модели должны отличаться друг от друга не только параметрами ru/en/multilingual, base/large, cased/uncased. Все три выбранные модели должны работать лучше, чем бейзлайн без дообучения (т.е. если модель не работает, попробуйте другую).\n",
        "\n",
        "\n"
      ],
      "id": "ed88fd24"
    },
    {
      "cell_type": "code",
      "execution_count": null,
      "metadata": {
        "id": "f9948fec"
      },
      "outputs": [],
      "source": [
        "!pip install transformers sklearn pandas matplotlib"
      ],
      "id": "f9948fec"
    },
    {
      "cell_type": "code",
      "execution_count": 2,
      "metadata": {
        "id": "71cf22e0"
      },
      "outputs": [],
      "source": [
        "# стандартные библиотеки\n",
        "import os, re\n",
        "import numpy as np\n",
        "from time import time\n",
        "from sklearn.model_selection import train_test_split\n",
        "import pandas as pd\n",
        "from collections import Counter\n",
        "from string import punctuation\n",
        "import matplotlib.pyplot as plt\n",
        "%matplotlib inline\n",
        "\n",
        "\n",
        "# pytortch и huggingface \n",
        "import torch\n",
        "import torch.nn as nn\n",
        "import torch.nn.functional as F\n",
        "import torch.optim as optim\n",
        "import torch.utils.data\n",
        "from transformers import TFAutoModel\n",
        "from transformers import AutoTokenizer\n",
        "import tensorflow as tf"
      ],
      "id": "71cf22e0"
    },
    {
      "cell_type": "code",
      "execution_count": 3,
      "metadata": {
        "colab": {
          "base_uri": "https://localhost:8080/"
        },
        "id": "_qjfLZIWu1Wu",
        "outputId": "30088cac-aefe-49b6-b07c-53b266bad8ec"
      },
      "outputs": [
        {
          "output_type": "stream",
          "name": "stdout",
          "text": [
            "Drive already mounted at /content/drive; to attempt to forcibly remount, call drive.mount(\"/content/drive\", force_remount=True).\n"
          ]
        }
      ],
      "source": [
        "from google.colab import drive\n",
        "drive.mount('/content/drive')"
      ],
      "id": "_qjfLZIWu1Wu"
    },
    {
      "cell_type": "code",
      "execution_count": 4,
      "metadata": {
        "colab": {
          "base_uri": "https://localhost:8080/"
        },
        "id": "4B2zC8uFu3xl",
        "outputId": "b6f7fb54-629e-4b74-c9a2-57b14885cbf9"
      },
      "outputs": [
        {
          "output_type": "stream",
          "name": "stdout",
          "text": [
            "/content/drive/MyDrive\n"
          ]
        }
      ],
      "source": [
        "%cd /content/drive/MyDrive/"
      ],
      "id": "4B2zC8uFu3xl"
    },
    {
      "cell_type": "code",
      "execution_count": 5,
      "metadata": {
        "id": "tCiYR3Dxuh0a"
      },
      "outputs": [],
      "source": [
        "data = pd.read_csv('lenta_sample.csv')\n",
        "data.dropna(subset=['topic', 'text'], inplace=True)"
      ],
      "id": "tCiYR3Dxuh0a"
    },
    {
      "cell_type": "markdown",
      "source": [
        "Distilbert-base-ru-cased"
      ],
      "metadata": {
        "id": "CZ7GQgKTY_ju"
      },
      "id": "CZ7GQgKTY_ju"
    },
    {
      "cell_type": "code",
      "source": [
        "tokenizer = AutoTokenizer.from_pretrained('Geotrend/distilbert-base-ru-cased')\n",
        "model_distilbert = TFAutoModel.from_pretrained('Geotrend/distilbert-base-ru-cased', trainable=True, from_pt=True)"
      ],
      "metadata": {
        "id": "Gw8r9JHLY-7s"
      },
      "id": "Gw8r9JHLY-7s",
      "execution_count": null,
      "outputs": []
    },
    {
      "cell_type": "code",
      "source": [
        "id2label = {i:label for i, label in enumerate(set(data.topic.values))}\n",
        "label2id = {l:i for i, l in id2label.items()}"
      ],
      "metadata": {
        "id": "8To_ixVyZa3U"
      },
      "id": "8To_ixVyZa3U",
      "execution_count": 8,
      "outputs": []
    },
    {
      "cell_type": "code",
      "source": [
        "X = []\n",
        "\n",
        "for text in data.title:\n",
        "    ids = tokenizer.encode(text)\n",
        "    X.append(ids[:512])\n",
        "\n",
        "X = tf.keras.preprocessing.sequence.pad_sequences(X, padding='post', maxlen=512)\n",
        "y = tf.keras.utils.to_categorical([label2id[label] for label in data.topic.values])"
      ],
      "metadata": {
        "id": "7Dh0DLViZeuO"
      },
      "id": "7Dh0DLViZeuO",
      "execution_count": 9,
      "outputs": []
    },
    {
      "cell_type": "code",
      "source": [
        "train_index, valid_index = train_test_split(list(range(len(X))), test_size=0.05, stratify=data.topic)"
      ],
      "metadata": {
        "id": "bx-R68CGZ7_B"
      },
      "id": "bx-R68CGZ7_B",
      "execution_count": 10,
      "outputs": []
    },
    {
      "cell_type": "code",
      "source": [
        "X_train, y_train = X[train_index], y[train_index]\n",
        "X_valid, y_valid = X[valid_index], y[valid_index]"
      ],
      "metadata": {
        "id": "lRjytNVnZ-cG"
      },
      "id": "lRjytNVnZ-cG",
      "execution_count": 11,
      "outputs": []
    },
    {
      "cell_type": "code",
      "source": [
        "input_word_ids = tf.keras.layers.Input(shape=(512,), dtype=tf.int32,\n",
        "                                     name=\"input_ids\")\n",
        "\n",
        "output = model_distilbert({\"input_ids\":input_word_ids})\n",
        "drop = tf.keras.layers.Dropout(0.3)(output[0][:, 0]) \n",
        "dense = tf.keras.layers.Dense(y.shape[1], activation='softmax')(drop)\n",
        "\n",
        "model_distilbert_clf = tf.keras.Model(inputs=input_word_ids, outputs=dense)\n",
        "\n",
        "\n",
        "model_distilbert_clf.compile(tf.optimizers.Adam(learning_rate=2e-6,\n",
        "                                    ), \n",
        "                  loss='categorical_crossentropy', \n",
        "                  metrics=['accuracy', \n",
        "                           tf.keras.metrics.RecallAtPrecision(0.80, name='rec_prec')])"
      ],
      "metadata": {
        "id": "8A-BNhzGaB-v"
      },
      "id": "8A-BNhzGaB-v",
      "execution_count": 31,
      "outputs": []
    },
    {
      "cell_type": "code",
      "source": [
        "model_distilbert_clf.fit(X_train, y_train, \n",
        "          validation_data=(X_valid, y_valid),\n",
        "          batch_size=2,\n",
        "          epochs=20)"
      ],
      "metadata": {
        "id": "MycvGWlxaTlY"
      },
      "id": "MycvGWlxaTlY",
      "execution_count": null,
      "outputs": []
    },
    {
      "cell_type": "code",
      "source": [
        "pred = model_distilbert_clf.predict(X_valid, batch_size=5).argmax(1)"
      ],
      "metadata": {
        "id": "meggK99cc46r"
      },
      "id": "meggK99cc46r",
      "execution_count": 33,
      "outputs": []
    },
    {
      "cell_type": "code",
      "source": [
        "from sklearn.metrics import classification_report\n",
        "print(classification_report(y_valid.argmax(1), pred, labels=list(range(len(label2id))),\n",
        "                            target_names=list(label2id), zero_division=0))"
      ],
      "metadata": {
        "colab": {
          "base_uri": "https://localhost:8080/"
        },
        "id": "3udg6lf9c-3p",
        "outputId": "8778c0e7-2d3c-494e-8c7d-1e73e08e084e"
      },
      "id": "3udg6lf9c-3p",
      "execution_count": 34,
      "outputs": [
        {
          "output_type": "stream",
          "name": "stdout",
          "text": [
            "                   precision    recall  f1-score   support\n",
            "\n",
            "   69-я параллель       0.00      0.00      0.00         1\n",
            "Силовые структуры       0.67      1.00      0.80         2\n",
            "        Экономика       0.50      1.00      0.67         2\n",
            "           Бизнес       0.33      0.50      0.40         2\n",
            "             Крым       0.00      0.00      0.00         0\n",
            "          Легпром       0.00      0.00      0.00         1\n",
            "              Мир       0.00      0.00      0.00         1\n",
            "              Дом       0.00      0.00      0.00         2\n",
            "         Из жизни       0.00      0.00      0.00         3\n",
            "            Спорт       1.00      1.00      1.00         2\n",
            "   Интернет и СМИ       0.00      0.00      0.00         2\n",
            "         Ценности       0.00      0.00      0.00         2\n",
            "  Наука и техника       0.50      0.33      0.40         3\n",
            "      Бывший СССР       0.50      0.67      0.57         3\n",
            "           Россия       0.00      0.00      0.00         2\n",
            "       Библиотека       0.00      0.00      0.00         0\n",
            "         Культура       0.50      0.67      0.57         3\n",
            "\n",
            "        micro avg       0.39      0.39      0.39        31\n",
            "        macro avg       0.24      0.30      0.26        31\n",
            "     weighted avg       0.31      0.39      0.33        31\n",
            "\n"
          ]
        }
      ]
    },
    {
      "cell_type": "markdown",
      "metadata": {
        "id": "SmiehkUdlVpg"
      },
      "source": [
        "Bert Ru Cased"
      ],
      "id": "SmiehkUdlVpg"
    },
    {
      "cell_type": "code",
      "execution_count": null,
      "metadata": {
        "id": "SXshu9DAWvNu"
      },
      "outputs": [],
      "source": [
        "tokenizer = AutoTokenizer.from_pretrained(\"Geotrend/bert-base-ru-cased\")\n",
        "model_bert = TFAutoModel.from_pretrained(\"Geotrend/bert-base-ru-cased\", trainable=True, from_pt=True)"
      ],
      "id": "SXshu9DAWvNu"
    },
    {
      "cell_type": "code",
      "execution_count": 18,
      "metadata": {
        "id": "S7VzLCT3W18J"
      },
      "outputs": [],
      "source": [
        "X = []\n",
        "\n",
        "for text in data.title:\n",
        "    ids = tokenizer.encode(text)\n",
        "    X.append(ids[:512])\n",
        "\n",
        "X = tf.keras.preprocessing.sequence.pad_sequences(X, padding='post', maxlen=512)"
      ],
      "id": "S7VzLCT3W18J"
    },
    {
      "cell_type": "code",
      "execution_count": 19,
      "metadata": {
        "id": "HbSfa6okW6uU"
      },
      "outputs": [],
      "source": [
        "train_index, valid_index = train_test_split(list(range(len(X))), test_size=0.05, stratify=data.topic)\n",
        "X_train, y_train = X[train_index], y[train_index]\n",
        "X_valid, y_valid = X[valid_index], y[valid_index]"
      ],
      "id": "HbSfa6okW6uU"
    },
    {
      "cell_type": "code",
      "execution_count": 20,
      "metadata": {
        "id": "HqVV66bRW863"
      },
      "outputs": [],
      "source": [
        "input_word_ids = tf.keras.layers.Input(shape=(512,), dtype=tf.int32,\n",
        "                                     name=\"input_ids\")\n",
        "\n",
        "output = model_bert({\"input_ids\":input_word_ids})\n",
        "drop = tf.keras.layers.Dropout(0.3)(output[0][:, 0]) \n",
        "dense = tf.keras.layers.Dense(y.shape[1], activation='softmax')(drop)\n",
        "\n",
        "model_bert_clf = tf.keras.Model(inputs=input_word_ids, outputs=dense)\n",
        "\n",
        "\n",
        "model_bert_clf.compile(tf.optimizers.Adam(learning_rate=2e-6,), \n",
        "                  loss='categorical_crossentropy', \n",
        "                  metrics=['accuracy', \n",
        "                           tf.keras.metrics.RecallAtPrecision(0.80, name='rec_prec')])"
      ],
      "id": "HqVV66bRW863"
    },
    {
      "cell_type": "code",
      "execution_count": null,
      "metadata": {
        "id": "hRxg7L-fXDmR"
      },
      "outputs": [],
      "source": [
        "model_bert_clf.fit(X_train, y_train, \n",
        "          validation_data=(X_valid, y_valid),\n",
        "          batch_size=2,\n",
        "          epochs=20)"
      ],
      "id": "hRxg7L-fXDmR"
    },
    {
      "cell_type": "code",
      "source": [
        "pred5 = model_bert_clf.predict(X_valid, batch_size=5).argmax(1)"
      ],
      "metadata": {
        "id": "AGbZNrs0S3cz"
      },
      "id": "AGbZNrs0S3cz",
      "execution_count": 22,
      "outputs": []
    },
    {
      "cell_type": "code",
      "source": [
        "print(classification_report(y_valid.argmax(1), pred5, labels=list(range(len(label2id))),\n",
        "                            target_names=list(label2id), zero_division=0))"
      ],
      "metadata": {
        "colab": {
          "base_uri": "https://localhost:8080/"
        },
        "id": "UQcR3Tf8S-KV",
        "outputId": "3b6e8c9b-cb4f-4120-dfe1-c28fa68d4c08"
      },
      "id": "UQcR3Tf8S-KV",
      "execution_count": 23,
      "outputs": [
        {
          "output_type": "stream",
          "name": "stdout",
          "text": [
            "                   precision    recall  f1-score   support\n",
            "\n",
            "   Интернет и СМИ       1.00      0.50      0.67         2\n",
            "            Спорт       1.00      1.00      1.00         2\n",
            "           Бизнес       0.40      1.00      0.57         2\n",
            "              Мир       0.00      0.00      0.00         1\n",
            "           Россия       1.00      0.50      0.67         2\n",
            "         Ценности       1.00      0.50      0.67         2\n",
            "Силовые структуры       0.50      0.50      0.50         2\n",
            "         Культура       1.00      1.00      1.00         3\n",
            "  Наука и техника       1.00      0.67      0.80         3\n",
            "         Из жизни       0.33      0.33      0.33         3\n",
            "      Бывший СССР       0.67      0.67      0.67         3\n",
            "   69-я параллель       1.00      1.00      1.00         1\n",
            "          Легпром       0.00      0.00      0.00         1\n",
            "              Дом       1.00      1.00      1.00         2\n",
            "        Экономика       1.00      0.50      0.67         2\n",
            "             Крым       0.00      0.00      0.00         0\n",
            "       Библиотека       0.00      0.00      0.00         0\n",
            "\n",
            "        micro avg       0.65      0.65      0.65        31\n",
            "        macro avg       0.64      0.54      0.56        31\n",
            "     weighted avg       0.77      0.65      0.67        31\n",
            "\n"
          ]
        }
      ]
    },
    {
      "cell_type": "markdown",
      "source": [
        "Rubert-tiny-sentiment-balanced"
      ],
      "metadata": {
        "id": "VR98Hd-IBok2"
      },
      "id": "VR98Hd-IBok2"
    },
    {
      "cell_type": "code",
      "execution_count": null,
      "metadata": {
        "id": "1WqaPuHRla8c"
      },
      "outputs": [],
      "source": [
        "tokenizer = AutoTokenizer.from_pretrained(\"cointegrated/rubert-tiny-sentiment-balanced\")\n",
        "model_rubert = TFAutoModel.from_pretrained(\"cointegrated/rubert-tiny-sentiment-balanced\", trainable = True, from_pt=True)"
      ],
      "id": "1WqaPuHRla8c"
    },
    {
      "cell_type": "code",
      "source": [
        "id2label = {i:label for i, label in enumerate(set(data.topic.values))}\n",
        "label2id = {l:i for i, l in id2label.items()}"
      ],
      "metadata": {
        "id": "BGianyjGHRsb"
      },
      "id": "BGianyjGHRsb",
      "execution_count": 7,
      "outputs": []
    },
    {
      "cell_type": "code",
      "source": [
        "X = []\n",
        "\n",
        "for text in data.title:\n",
        "    ids = tokenizer.encode(text)\n",
        "    X.append(ids[:512])\n",
        "\n",
        "X = tf.keras.preprocessing.sequence.pad_sequences(X, padding='post', maxlen=512)\n",
        "y = tf.keras.utils.to_categorical([label2id[label] for label in data.topic.values])"
      ],
      "metadata": {
        "id": "ZoXIihbeHWNL"
      },
      "id": "ZoXIihbeHWNL",
      "execution_count": 8,
      "outputs": []
    },
    {
      "cell_type": "code",
      "source": [
        "train_index, valid_index = train_test_split(list(range(len(X))), test_size=0.05, stratify=data.topic, random_state=0)\n",
        "X_train, y_train = X[train_index], y[train_index]\n",
        "X_valid, y_valid = X[valid_index], y[valid_index]"
      ],
      "metadata": {
        "id": "ouIzt00JHZ4g"
      },
      "id": "ouIzt00JHZ4g",
      "execution_count": 9,
      "outputs": []
    },
    {
      "cell_type": "code",
      "execution_count": 10,
      "metadata": {
        "id": "iWzVEMWemVmq"
      },
      "outputs": [],
      "source": [
        "input_word_ids = tf.keras.layers.Input(shape=(512,), dtype=tf.int32,\n",
        "                                     name=\"input_ids\")\n",
        "\n",
        "output = model_rubert({\"input_ids\":input_word_ids})\n",
        "drop = tf.keras.layers.Dropout(0.3)(output[0][:, 0]) \n",
        "dense = tf.keras.layers.Dense(y.shape[1], activation='softmax')(drop)\n",
        "\n",
        "model_rubert_clf = tf.keras.Model(inputs=input_word_ids, outputs=dense)\n",
        "\n",
        "\n",
        "model_rubert_clf.compile(tf.optimizers.Adam(learning_rate=2e-6,), \n",
        "                  loss='categorical_crossentropy', \n",
        "                  metrics=['accuracy', \n",
        "                           tf.keras.metrics.RecallAtPrecision(0.80, name='rec_prec')])"
      ],
      "id": "iWzVEMWemVmq"
    },
    {
      "cell_type": "code",
      "execution_count": null,
      "metadata": {
        "id": "YQN87Ke5mucz"
      },
      "outputs": [],
      "source": [
        "model_rubert_clf.fit(X_train, y_train, \n",
        "          validation_data=(X_valid, y_valid),\n",
        "          batch_size=2,\n",
        "          epochs=20)"
      ],
      "id": "YQN87Ke5mucz"
    },
    {
      "cell_type": "code",
      "source": [
        "pred4 = model_rubert_clf.predict(X_valid, batch_size=5).argmax(1)"
      ],
      "metadata": {
        "id": "M8XatKhHLq4h"
      },
      "id": "M8XatKhHLq4h",
      "execution_count": 14,
      "outputs": []
    },
    {
      "cell_type": "code",
      "source": [
        "from sklearn.metrics import classification_report\n",
        "print(classification_report(y_valid.argmax(1), pred4, labels=list(range(len(label2id))),\n",
        "                            target_names=list(label2id), zero_division=0))"
      ],
      "metadata": {
        "colab": {
          "base_uri": "https://localhost:8080/"
        },
        "id": "CgVIoz-VLyiw",
        "outputId": "3078a728-7a97-4b92-a04e-a279fc9cf747"
      },
      "id": "CgVIoz-VLyiw",
      "execution_count": 16,
      "outputs": [
        {
          "output_type": "stream",
          "name": "stdout",
          "text": [
            "                   precision    recall  f1-score   support\n",
            "\n",
            "   Интернет и СМИ       0.00      0.00      0.00         2\n",
            "            Спорт       0.00      0.00      0.00         2\n",
            "           Бизнес       0.00      0.00      0.00         2\n",
            "              Мир       0.00      0.00      0.00         1\n",
            "           Россия       0.00      0.00      0.00         2\n",
            "         Ценности       0.00      0.00      0.00         2\n",
            "Силовые структуры       0.00      0.00      0.00         2\n",
            "         Культура       0.25      0.33      0.29         3\n",
            "  Наука и техника       0.00      0.00      0.00         3\n",
            "         Из жизни       0.33      0.67      0.44         3\n",
            "      Бывший СССР       0.40      0.67      0.50         3\n",
            "   69-я параллель       0.00      0.00      0.00         1\n",
            "          Легпром       0.00      0.00      0.00         1\n",
            "              Дом       0.00      0.00      0.00         2\n",
            "        Экономика       0.00      0.00      0.00         2\n",
            "             Крым       0.00      0.00      0.00         0\n",
            "       Библиотека       0.00      0.00      0.00         0\n",
            "\n",
            "        micro avg       0.16      0.16      0.16        31\n",
            "        macro avg       0.06      0.10      0.07        31\n",
            "     weighted avg       0.10      0.16      0.12        31\n",
            "\n"
          ]
        }
      ]
    },
    {
      "cell_type": "markdown",
      "metadata": {
        "id": "sptLcNXSJX2F"
      },
      "source": [
        "LaBSE"
      ],
      "id": "sptLcNXSJX2F"
    },
    {
      "cell_type": "code",
      "source": [
        "tokenizer = AutoTokenizer.from_pretrained(\"setu4993/smaller-LaBSE\")\n",
        "model_LaBSE = TFAutoModel.from_pretrained('setu4993/smaller-LaBSE', trainable=True, from_pt=True)"
      ],
      "metadata": {
        "id": "xGSef1Fu9nCx"
      },
      "id": "xGSef1Fu9nCx",
      "execution_count": null,
      "outputs": []
    },
    {
      "cell_type": "code",
      "source": [
        "id2label = {i:label for i, label in enumerate(set(data.topic.values))}\n",
        "label2id = {l:i for i, l in id2label.items()}"
      ],
      "metadata": {
        "id": "H8lILvpp9vZk"
      },
      "id": "H8lILvpp9vZk",
      "execution_count": 53,
      "outputs": []
    },
    {
      "cell_type": "code",
      "source": [
        "X = []\n",
        "\n",
        "for text in data.title:\n",
        "    ids = tokenizer.encode(text)\n",
        "    X.append(ids[:512])\n",
        "\n",
        "X = tf.keras.preprocessing.sequence.pad_sequences(X, padding='post', maxlen=512)\n",
        "y = tf.keras.utils.to_categorical([label2id[label] for label in data.topic.values])"
      ],
      "metadata": {
        "id": "8TsrkI9H91A5"
      },
      "id": "8TsrkI9H91A5",
      "execution_count": 54,
      "outputs": []
    },
    {
      "cell_type": "code",
      "source": [
        "input_word_ids = tf.keras.layers.Input(shape=(512,), dtype=tf.int32,\n",
        "                                     name=\"input_ids\")\n",
        "\n",
        "output = model_LaBSE({\"input_ids\":input_word_ids})\n",
        "drop = tf.keras.layers.Dropout(0.3)(output[0][:, 0]) \n",
        "dense = tf.keras.layers.Dense(y.shape[1], activation='softmax')(drop)\n",
        "\n",
        "model_LaBSE_clf = tf.keras.Model(inputs=input_word_ids, outputs=dense)\n",
        "\n",
        "\n",
        "model_LaBSE_clf.compile(tf.optimizers.Adam(learning_rate=2e-6,), \n",
        "                  loss='categorical_crossentropy', \n",
        "                  metrics=['accuracy', \n",
        "                           tf.keras.metrics.RecallAtPrecision(0.80, name='rec_prec')])"
      ],
      "metadata": {
        "id": "CHbeCYXQ9_R6"
      },
      "id": "CHbeCYXQ9_R6",
      "execution_count": 57,
      "outputs": []
    },
    {
      "cell_type": "code",
      "source": [
        "model_LaBSE_clf.fit(X_train, y_train, \n",
        "          validation_data=(X_valid, y_valid),\n",
        "          batch_size=2,\n",
        "          epochs=20)"
      ],
      "metadata": {
        "id": "56GSEEjy-SvU"
      },
      "id": "56GSEEjy-SvU",
      "execution_count": null,
      "outputs": []
    },
    {
      "cell_type": "code",
      "source": [
        "pred3 = model_LaBSE_clf.predict(X_valid, batch_size=5).argmax(1)"
      ],
      "metadata": {
        "id": "H1smj5rh-asK"
      },
      "id": "H1smj5rh-asK",
      "execution_count": 59,
      "outputs": []
    },
    {
      "cell_type": "code",
      "source": [
        "print(classification_report(y_valid.argmax(1), pred3, labels=list(range(len(label2id))),\n",
        "                            target_names=list(label2id), zero_division=0))"
      ],
      "metadata": {
        "colab": {
          "base_uri": "https://localhost:8080/"
        },
        "id": "CqP0gfbL-tC8",
        "outputId": "fcba9d0c-75a1-4a49-da85-13b1e8dd6664"
      },
      "id": "CqP0gfbL-tC8",
      "execution_count": 60,
      "outputs": [
        {
          "output_type": "stream",
          "name": "stdout",
          "text": [
            "                   precision    recall  f1-score   support\n",
            "\n",
            "   69-я параллель       0.00      0.00      0.00         1\n",
            "Силовые структуры       0.00      0.00      0.00         2\n",
            "        Экономика       0.00      0.00      0.00         2\n",
            "           Бизнес       0.00      0.00      0.00         2\n",
            "             Крым       0.00      0.00      0.00         0\n",
            "          Легпром       0.00      0.00      0.00         1\n",
            "              Мир       0.00      0.00      0.00         1\n",
            "              Дом       0.00      0.00      0.00         2\n",
            "         Из жизни       0.20      0.33      0.25         3\n",
            "            Спорт       0.00      0.00      0.00         2\n",
            "   Интернет и СМИ       0.00      0.00      0.00         2\n",
            "         Ценности       0.00      0.00      0.00         2\n",
            "  Наука и техника       0.00      0.00      0.00         3\n",
            "      Бывший СССР       0.00      0.00      0.00         3\n",
            "           Россия       0.00      0.00      0.00         2\n",
            "       Библиотека       0.00      0.00      0.00         0\n",
            "         Культура       0.25      0.33      0.29         3\n",
            "\n",
            "        micro avg       0.06      0.06      0.06        31\n",
            "        macro avg       0.03      0.04      0.03        31\n",
            "     weighted avg       0.04      0.06      0.05        31\n",
            "\n"
          ]
        }
      ]
    },
    {
      "cell_type": "markdown",
      "source": [
        "Я перепробовала еще другие модели, но результат был такой же плохой, возможно они все были слишком большие и на маленьком количестве эпох не обучаются достаточно. Попробую снова позже("
      ],
      "metadata": {
        "id": "Ob08OsvzUXgv"
      },
      "id": "Ob08OsvzUXgv"
    },
    {
      "cell_type": "markdown",
      "metadata": {
        "id": "53f2d572"
      },
      "source": [
        "### Задание  2 (2 балла)\n",
        "\n",
        "Ответьте на следующие вопросы (напишите хотя бы по несколько предложений):\n",
        "\n",
        "1) Чем ROBERTA отличается от BERT? В какой статье описана ROBERTA?\n",
        "\n",
        "2) Чем модель T5 отличается от ROBERTA/BERT? "
      ],
      "id": "53f2d572"
    },
    {
      "cell_type": "markdown",
      "metadata": {
        "id": "0AkRrMh0HSi8"
      },
      "source": [
        "1) Ссылка на статью - https://arxiv.org/pdf/1907.11692.pdf\n",
        "\n",
        "Роберта обучалась дольше и на бОльшей выборке, без цели next sentence prediction, на последовательностях дольше, чем на которых обучалась BERT. Плюс паттерн маскирования токенов динамично меняется во время обучения.\n",
        "\n",
        "2) BERT и ROBERTA - модели типа encoder-only. T5 - модель encoder-decoder. T5 умеет генерировать текст, а BERT и ROBERTA предсказывают класс\n"
      ],
      "id": "0AkRrMh0HSi8"
    }
  ],
  "metadata": {
    "accelerator": "GPU",
    "colab": {
      "collapsed_sections": [],
      "name": "homework_9",
      "provenance": [],
      "include_colab_link": true
    },
    "kernelspec": {
      "display_name": "Python 3 (ipykernel)",
      "language": "python",
      "name": "python3"
    },
    "language_info": {
      "codemirror_mode": {
        "name": "ipython",
        "version": 3
      },
      "file_extension": ".py",
      "mimetype": "text/x-python",
      "name": "python",
      "nbconvert_exporter": "python",
      "pygments_lexer": "ipython3",
      "version": "3.8.12"
    }
  },
  "nbformat": 4,
  "nbformat_minor": 5
}