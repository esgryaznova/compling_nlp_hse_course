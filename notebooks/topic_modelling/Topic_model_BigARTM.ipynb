{
 "cells": [
  {
   "cell_type": "markdown",
   "metadata": {
    "colab_type": "text",
    "id": "wtpQbazT2Npf"
   },
   "source": [
    "BigARTM в целом похожа на тематическое моделирование в генсим, но немного посложнее (сложнее установить, сложнее обучать, сложнее использовать модель на новых данных). Сложность компенсируется скоростью (разница в порядках) и качеством моделей. \n",
    "\n",
    "Если хотите узнать по-подробнее про BigARTM, загуглите \"BigARTM Воронцов\" и кликайте любое видео.\n"
   ]
  },
  {
   "cell_type": "markdown",
   "metadata": {
    "colab_type": "text",
    "id": "BB7ZELB1Y494"
   },
   "source": [
    "### Установка BigARTM\n",
    "\n",
    "Bigartm по-разному ставится для разных ОС. Инструкцию под вашу ОС можно найти тут - https://bigartm.readthedocs.io/en/stable/installation/index.html\n",
    "\n",
    "Там можно пропустить установку питона и пипа.\n",
    "\n",
    "(Если у вас не получается установить, попробуйте тетрадку для колаба или напишите мне)"
   ]
  },
  {
   "cell_type": "code",
   "execution_count": 52,
   "metadata": {
    "colab": {
     "base_uri": "https://localhost:8080/",
     "height": 710
    },
    "colab_type": "code",
    "id": "P6Ay2Ayx3v3W",
    "outputId": "eb400bcc-fd57-4433-f5c2-ce1a9c26c68a"
   },
   "outputs": [],
   "source": [
    "# если вдруг еще не установлены\n",
    "# !pip install pymorphy2[fast] nltk gensim"
   ]
  },
  {
   "cell_type": "code",
   "execution_count": 54,
   "metadata": {
    "colab": {},
    "colab_type": "code",
    "id": "syGkglti0YFf"
   },
   "outputs": [],
   "source": [
    "import artm\n",
    "%matplotlib inline\n",
    "import glob\n",
    "import os, re\n",
    "import matplotlib.pyplot as plt\n",
    "from collections import defaultdict, Counter\n",
    "from nltk.corpus import stopwords\n",
    "import numpy as np\n",
    "from pymorphy2 import MorphAnalyzer\n",
    "import gensim, nltk\n",
    "import string\n",
    "morph = MorphAnalyzer()\n",
    "from nltk.tokenize import word_tokenize"
   ]
  },
  {
   "cell_type": "code",
   "execution_count": 55,
   "metadata": {
    "colab": {
     "base_uri": "https://localhost:8080/",
     "height": 108
    },
    "colab_type": "code",
    "id": "DzdHfztLA1L8",
    "outputId": "c21f940c-f460-4282-adc0-6f361e8680ba"
   },
   "outputs": [
    {
     "name": "stdout",
     "output_type": "stream",
     "text": [
      "[nltk_data] Downloading package punkt to /Users/mnefedov/nltk_data...\n",
      "[nltk_data]   Package punkt is already up-to-date!\n",
      "[nltk_data] Downloading package stopwords to\n",
      "[nltk_data]     /Users/mnefedov/nltk_data...\n",
      "[nltk_data]   Package stopwords is already up-to-date!\n"
     ]
    },
    {
     "data": {
      "text/plain": [
       "True"
      ]
     },
     "execution_count": 55,
     "metadata": {},
     "output_type": "execute_result"
    }
   ],
   "source": [
    "nltk.download('punkt');nltk.download('stopwords')"
   ]
  },
  {
   "cell_type": "code",
   "execution_count": 56,
   "metadata": {
    "colab": {},
    "colab_type": "code",
    "id": "1hLw-SVu0YFm"
   },
   "outputs": [],
   "source": [
    "stops = set(stopwords.words('russian'))\n",
    "\n",
    "\n",
    "def opt_normalize(texts, top=None):\n",
    "    uniq = Counter()\n",
    "    for text in texts:\n",
    "        uniq.update(text)\n",
    "    \n",
    "    norm_uniq = {word:morph.parse(word.replace(':', ''))[0].normal_form for word, _ in uniq.most_common(top)}\n",
    "    \n",
    "    norm_texts = []\n",
    "    for text in texts:\n",
    "        \n",
    "        norm_words = [norm_uniq.get(word) for word in text]\n",
    "        norm_words = [word for word in norm_words if word and word not in stops]\n",
    "        norm_texts.append(norm_words)\n",
    "        \n",
    "    return norm_texts\n",
    "\n",
    "def tokenize(text):\n",
    "    words = [word.strip(string.punctuation) for word in text.split()]\n",
    "    words = [word for word in words if word]\n",
    "    \n",
    "    return words"
   ]
  },
  {
   "cell_type": "markdown",
   "metadata": {
    "colab_type": "text",
    "id": "vlgqYxw90YFp"
   },
   "source": [
    "## Обучение модели\n"
   ]
  },
  {
   "cell_type": "code",
   "execution_count": 78,
   "metadata": {
    "colab": {},
    "colab_type": "code",
    "id": "NDHkAaPb0YFp"
   },
   "outputs": [],
   "source": [
    "texts = open('wiki_data.txt').read().splitlines()\n",
    "texts = opt_normalize([tokenize(text.lower()) for text in texts], 30000)"
   ]
  },
  {
   "cell_type": "code",
   "execution_count": 79,
   "metadata": {
    "colab": {},
    "colab_type": "code",
    "id": "o_yHUX490YFr"
   },
   "outputs": [],
   "source": [
    "# вернемся сюда через какое-то время\n",
    "# ph = gensim.models.Phrases(texts, scoring='npmi', threshold=0.3, \n",
    "#                            common_terms=set(stopwords.words('russian'))) # можно указать слова, которые \n",
    "                                                                          # не будут учитываться\n",
    "# p = gensim.models.phrases.Phraser(ph)\n",
    "# ngrammed_texts = p[texts]"
   ]
  },
  {
   "cell_type": "code",
   "execution_count": 80,
   "metadata": {
    "colab": {},
    "colab_type": "code",
    "id": "5q3JXJV40YFt"
   },
   "outputs": [],
   "source": [
    "# p[habr_texts[1]]"
   ]
  },
  {
   "cell_type": "markdown",
   "metadata": {
    "colab_type": "text",
    "id": "vOiEF_5H0YFv"
   },
   "source": [
    "Для BigARTM требуется специальный формат данных. Их несколько, но мы возьмем vowpal wabbit.  \n",
    "На каждой строчке файла находится одельный текст, записывается такст вот таким образом:  \n",
    "```doc_name |@class_id word_1:1 word_2:3```  \n",
    "\n",
    "|@class_id - задает модальность, но когда она одна её можно не указывать.\n",
    "\n",
    "word_2:3 - слово и его частота (обратите внимание, что : - специальный символ и в словах его быть не может"
   ]
  },
  {
   "cell_type": "code",
   "execution_count": 81,
   "metadata": {
    "colab": {},
    "colab_type": "code",
    "id": "SZD1bmhR0YFw"
   },
   "outputs": [],
   "source": [
    "f = open('wiki_texts.vw', 'w')\n",
    "\n",
    "for i, text in enumerate(texts):\n",
    "    c = Counter(text)\n",
    "    doc = 'doc_'+ str(i) + ' '\n",
    "    vw_text = ' '.join([x+':'+str(c[x]) for x in c])\n",
    "    \n",
    "    f.write(doc + vw_text  + '\\n')\n",
    "f.close()\n",
    "\n"
   ]
  },
  {
   "cell_type": "markdown",
   "metadata": {
    "colab_type": "text",
    "id": "VO4xO6zT0YFy"
   },
   "source": [
    "Для оценки будем использовать такую функцию (из туториалов от создателей библиотеки)"
   ]
  },
  {
   "cell_type": "code",
   "execution_count": 82,
   "metadata": {
    "colab": {},
    "colab_type": "code",
    "id": "xchX4sBs0YFz"
   },
   "outputs": [],
   "source": [
    "def print_measures(model_artm):\n",
    "    print('Sparsity Phi: {0:.3f} ARTM)'.format(\n",
    "        model_artm.score_tracker['SparsityPhiScore'].last_value)\n",
    ")\n",
    "    print('Sparsity Theta: {0:.3f} (ARTM)'.format(\n",
    "        model_artm.score_tracker['SparsityThetaScore'].last_value))\n",
    "\n",
    "    print('Kernel contrast: {0:.3f} (ARTM)'.format(\n",
    "        model_artm.score_tracker['TopicKernelScore'].last_average_contrast))\n",
    "\n",
    "    print('Kernel purity: {0:.3f} (ARTM)'.format(\n",
    "        model_artm.score_tracker['TopicKernelScore'].last_average_purity))\n",
    "\n",
    "    print('Perplexity: {0:.3f} (ARTM)'.format(\n",
    "        model_artm.score_tracker['PerplexityScore'].last_value)\n",
    ")\n",
    "    plt.plot(range(model_artm.num_phi_updates), model_artm.score_tracker['PerplexityScore'].value, 'r--', linewidth=2)\n",
    "    plt.xlabel('Iterations count')\n",
    "    plt.ylabel(' ARTM perp. (red)')\n",
    "    plt.grid(True)\n",
    "    plt.show()\n",
    "    "
   ]
  },
  {
   "cell_type": "markdown",
   "metadata": {
    "colab_type": "text",
    "id": "GHFVe6gK0YF2"
   },
   "source": [
    "BigARTM работает не с целым файлом, а с кусочками. Поэтому разбиваем наш .vw файл специальным классом в artm."
   ]
  },
  {
   "cell_type": "code",
   "execution_count": 83,
   "metadata": {
    "colab": {},
    "colab_type": "code",
    "id": "NhIADC8O0YF2"
   },
   "outputs": [],
   "source": [
    "batch_vectorizer = artm.BatchVectorizer(data_path='wiki_texts.vw',  # название файла\n",
    "                                        data_format='vowpal_wabbit', # формат файла, у нас vw\n",
    "                                        target_folder='batches', # название папки в которую положаться батчи\n",
    "                                       batch_size=1000) # размер батча, подбирайте под свою память"
   ]
  },
  {
   "cell_type": "markdown",
   "metadata": {
    "colab_type": "text",
    "id": "ZjXpddzi0YF6"
   },
   "source": [
    "Уже созданные батчи можно заново загружать"
   ]
  },
  {
   "cell_type": "code",
   "execution_count": 84,
   "metadata": {
    "colab": {},
    "colab_type": "code",
    "id": "AG7xR0gu0YF6"
   },
   "outputs": [],
   "source": [
    "batch_vectorizer = artm.BatchVectorizer(data_path='batches', # название папки с батчами\n",
    "                                        data_format='batches') # указываем формат - батчи"
   ]
  },
  {
   "cell_type": "code",
   "execution_count": 85,
   "metadata": {
    "colab": {},
    "colab_type": "code",
    "id": "Qe0-ERcn0YF8"
   },
   "outputs": [],
   "source": [
    "# инициализируем словарь, чтобы сделать модель\n",
    "dictionary = artm.Dictionary()"
   ]
  },
  {
   "cell_type": "markdown",
   "metadata": {
    "colab_type": "text",
    "id": "sNAKhYQZ0YF-"
   },
   "source": [
    "Собираем словарь по батчам"
   ]
  },
  {
   "cell_type": "code",
   "execution_count": 86,
   "metadata": {
    "colab": {
     "base_uri": "https://localhost:8080/",
     "height": 35
    },
    "colab_type": "code",
    "id": "S6nXvdOq0YGA",
    "outputId": "0e27950a-f0f1-4d32-91c4-e71fb2bd765d"
   },
   "outputs": [
    {
     "data": {
      "text/plain": [
       "artm.Dictionary(name=86833cbc-7b06-424e-aca3-470f5890f068, num_entries=11688)"
      ]
     },
     "execution_count": 86,
     "metadata": {},
     "output_type": "execute_result"
    }
   ],
   "source": [
    "dictionary.gather(data_path='batches')\n",
    "dictionary.filter(class_id='@default_class',\n",
    "                  min_df=10, max_df=2000)"
   ]
  },
  {
   "cell_type": "markdown",
   "metadata": {
    "colab_type": "text",
    "id": "HEuyJjlB0YGB"
   },
   "source": [
    "Его можно сохранить, чтобы не создавать снова или чтобы посмотреть и подредактировать."
   ]
  },
  {
   "cell_type": "code",
   "execution_count": 87,
   "metadata": {
    "colab": {},
    "colab_type": "code",
    "id": "I273a14r0YGC"
   },
   "outputs": [],
   "source": [
    "dictionary.save_text('dict.txt')\n",
    "# dictionary = artm.Dictionary()\n",
    "# dictionary.load_text('dict.txt')"
   ]
  },
  {
   "cell_type": "markdown",
   "metadata": {
    "colab_type": "text",
    "id": "bdMCSZiB0YGE"
   },
   "source": [
    "Создаем модель и сразу включаем два регуляризатора (Декореляции и Сглаживания)"
   ]
  },
  {
   "cell_type": "markdown",
   "metadata": {
    "colab_type": "text",
    "id": "LXN_YR1m0YGF"
   },
   "source": [
    "`artm.DecorrelatorPhiRegularizer` - регуляризатор декорреляции тем, делает темы менее похожими друг на друга (рекомендуется включать его сразу на всех темах с положительным значением tau и не менять его в процессе обучения)  \n",
    "\n",
    "`artm.SmoothSparsePhiRegularizer` - регуляризатор сглаживания/разреженивания Phi (тем) - сглаживает или расреживает распределение слов в темах (отрицательный tau - разреживает, положительный - сглаживает), рекомендуется сразу включать сглаживание на всех темах и не менять его в процессе обучения;\n",
    "\n",
    "Количество тем нужно подбирать, но 200 часто работает хорошо. Снижение количества тем и уменьшения словаря ведут к уменьшению времени обучения модели (а увеличение, наоборот). "
   ]
  },
  {
   "cell_type": "code",
   "execution_count": 88,
   "metadata": {
    "colab": {},
    "colab_type": "code",
    "id": "7gTUMUh90YGG"
   },
   "outputs": [],
   "source": [
    "model_artm = artm.ARTM(topic_names=['topic_{}'.format(i) for i in range(200)],\n",
    "                       \n",
    "                       regularizers=[\n",
    "                           artm.DecorrelatorPhiRegularizer(\n",
    "                                            name='Decorr', tau=0.25, \n",
    "                                            class_ids=['@default_class'],\n",
    "                                            topic_names=['topic_{}'.format(i) for i in range(0, 200)]),\n",
    "                           \n",
    "                           artm.SmoothSparsePhiRegularizer(\n",
    "                                            name='SmoothPhi_1', \n",
    "                                            class_ids=['@default_class'],\n",
    "                                            tau=0.15, \n",
    "                                            topic_names=['topic_{}'.format(i) for i in range(0, 200)])\n",
    "                                    ]\n",
    "                        )\n",
    "\n",
    "# не забывайте менять количество топиков в регуляризаторах, они применяются только на тех темах, что заданы"
   ]
  },
  {
   "cell_type": "code",
   "execution_count": 89,
   "metadata": {
    "colab": {},
    "colab_type": "code",
    "id": "ZXwur8c80YGI"
   },
   "outputs": [],
   "source": [
    "# инициализурем модель словарем\n",
    "model_artm.initialize(dictionary=dictionary, )"
   ]
  },
  {
   "cell_type": "code",
   "execution_count": 90,
   "metadata": {
    "colab": {},
    "colab_type": "code",
    "id": "M7ofKFaN0YGK"
   },
   "outputs": [],
   "source": [
    "# добавляем метрики\n",
    "model_artm.scores.add(artm.PerplexityScore(name='PerplexityScore',\n",
    "                                                    dictionary=dictionary))\n",
    "model_artm.scores.add(artm.SparsityPhiScore(name='SparsityPhiScore')) # разреженность слов в темах\n",
    "model_artm.scores.add(artm.SparsityThetaScore(name='SparsityThetaScore')) # разреженность тем в доках\n",
    "model_artm.scores.add(artm.TopicKernelScore(name='TopicKernelScore', probability_mass_threshold=0.1)) # когерентность по семантичесим ядрам\n",
    "model_artm.scores.add(artm.TopTokensScore(class_id='@default_class', name='TopTokensScore_1', num_tokens=10)) # топ-n-слов для каждой темы "
   ]
  },
  {
   "cell_type": "markdown",
   "metadata": {
    "colab_type": "text",
    "id": "A7ih3cp10YGM"
   },
   "source": [
    "### Тренируем модель"
   ]
  },
  {
   "cell_type": "markdown",
   "metadata": {
    "colab_type": "text",
    "id": "vkujg5tp0YGN"
   },
   "source": [
    "Пройдемся несколько раз по коллекции, чтобы модель немного сошлась (если доков сильно больше то может быть достаточно и 1 прохода). Для сильно больших коллекций есть fit_online, который обновляется в процессе прохода по коллекции, про него можно почитать в документации."
   ]
  },
  {
   "cell_type": "code",
   "execution_count": 91,
   "metadata": {
    "colab": {},
    "colab_type": "code",
    "id": "d3UPM4bd0YGO"
   },
   "outputs": [],
   "source": [
    "model_artm.num_document_passes = 2\n",
    "model_artm.fit_offline(batch_vectorizer=batch_vectorizer, num_collection_passes=3)"
   ]
  },
  {
   "cell_type": "code",
   "execution_count": 92,
   "metadata": {
    "colab": {
     "base_uri": "https://localhost:8080/",
     "height": 370
    },
    "colab_type": "code",
    "id": "sJNAHoO30YGR",
    "outputId": "dfa6250e-2aea-453a-e63c-931431e30904"
   },
   "outputs": [
    {
     "name": "stdout",
     "output_type": "stream",
     "text": [
      "Sparsity Phi: 0.000 ARTM)\n",
      "Sparsity Theta: 0.000 (ARTM)\n",
      "Kernel contrast: 0.002 (ARTM)\n",
      "Kernel purity: 0.001 (ARTM)\n",
      "Perplexity: 759.551 (ARTM)\n"
     ]
    },
    {
     "data": {
      "image/png": "[encoded data removed]",
      "text/plain": [
       "<Figure size 432x288 with 1 Axes>"
      ]
     },
     "metadata": {
      "needs_background": "light"
     },
     "output_type": "display_data"
    }
   ],
   "source": [
    "# посмотрим, что стало с моделью\n",
    "# если график сильно падал на последних итерациях, то можно прогнать обучение ещё несколько раз \n",
    "# (не добавляя другие регуляризаторы)\n",
    "print_measures(model_artm)"
   ]
  },
  {
   "cell_type": "markdown",
   "metadata": {
    "colab_type": "text",
    "id": "ESVQUJm90YGU"
   },
   "source": [
    "Добавим регуляризаторы разреженности тем и документов.\n",
    "\n",
    "Их рекомендуется добавлять после того, как модель уже как-то сошлась. После добавления их рекомендуется постепенно уменьшать, чтобы усиливать разреживание. Их можно применять не ко всем темам, чтобы в каких-то темах собрались все стоп-слова.\n",
    "\n",
    "Можно добавлять их вместе или по отдельности."
   ]
  },
  {
   "cell_type": "code",
   "execution_count": 93,
   "metadata": {
    "colab": {},
    "colab_type": "code",
    "id": "zx8f5J140YGU"
   },
   "outputs": [],
   "source": [
    "model_artm.regularizers.add(artm.SmoothSparsePhiRegularizer(name='SparsePhi', tau=-0.15, \n",
    "                                                            topic_names=['topic_{}'.format(i) for i in range(1, 200)],\n",
    "                                                            ))\n",
    "model_artm.regularizers.add(artm.SmoothSparseThetaRegularizer(name='SparseTheta', tau=-0.15, \n",
    "                                                              topic_names=['topic_{}'.format(i) for i in range(1, 200)]))"
   ]
  },
  {
   "cell_type": "code",
   "execution_count": 94,
   "metadata": {
    "colab": {},
    "colab_type": "code",
    "id": "d-XyXPrF0YGX"
   },
   "outputs": [],
   "source": [
    "model_artm.fit_offline(batch_vectorizer=batch_vectorizer,num_collection_passes=1)"
   ]
  },
  {
   "cell_type": "code",
   "execution_count": 95,
   "metadata": {
    "colab": {},
    "colab_type": "code",
    "id": "CWrgduzK0YGY"
   },
   "outputs": [],
   "source": [
    "# будем постепенно увеличивать значения этих регуляризаторов\n",
    "phi_tau = model_artm.regularizers['SparsePhi'].tau\n",
    "theta_tau = model_artm.regularizers['SparseTheta'].tau\n",
    "\n",
    "for i in range(10):\n",
    "    model_artm.regularizers['SparsePhi'].tau = (phi_tau + (phi_tau*0.5))\n",
    "    model_artm.regularizers['SparseTheta'].tau = (theta_tau + (theta_tau*0.1))\n",
    "    \n",
    "    model_artm.fit_offline(batch_vectorizer=batch_vectorizer,num_collection_passes=1)\n",
    "    "
   ]
  },
  {
   "cell_type": "code",
   "execution_count": 96,
   "metadata": {
    "colab": {
     "base_uri": "https://localhost:8080/",
     "height": 370
    },
    "colab_type": "code",
    "id": "Nz2ZycN80YGb",
    "outputId": "01b02a53-0b16-4569-b030-e0f8a74826ad"
   },
   "outputs": [
    {
     "name": "stdout",
     "output_type": "stream",
     "text": [
      "Sparsity Phi: 0.886 ARTM)\n",
      "Sparsity Theta: 0.761 (ARTM)\n",
      "Kernel contrast: 0.362 (ARTM)\n",
      "Kernel purity: 0.527 (ARTM)\n",
      "Perplexity: 237.531 (ARTM)\n"
     ]
    },
    {
     "data": {
      "image/png": "[encoded data removed]",
      "text/plain": [
       "<Figure size 432x288 with 1 Axes>"
      ]
     },
     "metadata": {
      "needs_background": "light"
     },
     "output_type": "display_data"
    }
   ],
   "source": [
    "# посмотрим на качество\n",
    "print_measures(model_artm)"
   ]
  },
  {
   "cell_type": "markdown",
   "metadata": {
    "colab_type": "text",
    "id": "r0pGwdLb0YGg"
   },
   "source": [
    "Перплексия должна снижаться. Если график выровнился и больше не меняется - модель сошлась (в любом случае прогнать ещё парочку итераций не помешает). Обычно перплексия хорошей модели около 200-1000. На таком небольшом количестве данных возможно такого значения достичь не получится.\n"
   ]
  },
  {
   "cell_type": "code",
   "execution_count": 97,
   "metadata": {
    "colab": {
     "base_uri": "https://localhost:8080/",
     "height": 1000
    },
    "colab_type": "code",
    "id": "tDeYG2kt0YGg",
    "outputId": "82c67735-e8b1-434f-f17d-6cdb9a85953d"
   },
   "outputs": [
    {
     "name": "stdout",
     "output_type": "stream",
     "text": [
      "topic_0: \n",
      "список\n",
      "фамилия\n",
      "представить\n",
      "труд\n",
      "различный\n",
      "честь\n",
      "происхождение\n",
      "назвать\n",
      "герой\n",
      "социалистический\n",
      "---------\n",
      "topic_1: \n",
      "000\n",
      "стадион\n",
      "домашний\n",
      "зритель\n",
      "проводить\n",
      "победа\n",
      "арена\n",
      "объявить\n",
      "арен\n",
      "футбольный\n",
      "---------\n",
      "topic_2: \n",
      "император\n",
      "царь\n",
      "хан\n",
      "двор\n",
      "империя\n",
      "правление\n",
      "династия\n",
      "монета\n",
      "сын\n",
      "константин\n",
      "---------\n",
      "topic_3: \n",
      "научный\n",
      "наука\n",
      "факультет\n",
      "профессор\n",
      "кафедра\n",
      "институт\n",
      "доктор\n",
      "университет\n",
      "диссертация\n",
      "защитить\n",
      "---------\n",
      "topic_4: \n",
      "армия\n",
      "операция\n",
      "войско\n",
      "противник\n",
      "наступление\n",
      "командование\n",
      "солдат\n",
      "сила\n",
      "немецкий\n",
      "действие\n",
      "---------\n",
      "topic_5: \n",
      "академия\n",
      "плата\n",
      "советский\n",
      "союз\n",
      "лауреат\n",
      "класс\n",
      "«за\n",
      "премия\n",
      "народный\n",
      "санкт-петербург\n",
      "---------\n",
      "topic_6: \n",
      "2016\n",
      "2015\n",
      "2019\n",
      "2017\n",
      "2020\n",
      "2012\n",
      "международный\n",
      "2018\n",
      "сотрудничество\n",
      "2013\n",
      "---------\n",
      "topic_7: \n",
      "должность\n",
      "пост\n",
      "премьер-министр\n",
      "отставка\n",
      "фон\n",
      "родиться\n",
      "учитель\n",
      "ложа\n",
      "советник\n",
      "посол\n",
      "---------\n",
      "topic_8: \n",
      "школа\n",
      "училище\n",
      "москва\n",
      "театр\n",
      "художественный\n",
      "рсфср\n",
      "метр\n",
      "академический\n",
      "российский\n",
      "мастерский\n",
      "---------\n",
      "topic_9: \n",
      "современный\n",
      "некоторый\n",
      "оно\n",
      "широкий\n",
      "называть\n",
      "состоять\n",
      "стекло\n",
      "считаться\n",
      "отдельный\n",
      "разный\n",
      "---------\n",
      "topic_10: \n",
      "берег\n",
      "расстояние\n",
      "течение\n",
      "дорога\n",
      "сельский\n",
      "левый\n",
      "харьковский\n",
      "автомобильный\n",
      "проходить\n",
      "коатуа\n",
      "---------\n",
      "topic_11: \n",
      "подвеска\n",
      "величина\n",
      "колесо\n",
      "элемент\n",
      "ося\n",
      "поперечный\n",
      "уравнение\n",
      "точка\n",
      "автомобиль\n",
      "поворот\n",
      "---------\n",
      "topic_12: \n",
      "книга\n",
      "перевод\n",
      "полный\n",
      "рождение\n",
      "порядок\n",
      "слава\n",
      "смерть\n",
      "содержимый\n",
      "издать\n",
      "издание\n",
      "---------\n",
      "topic_13: \n",
      "общество\n",
      "социальный\n",
      "теория\n",
      "учёный\n",
      "наука\n",
      "концепция\n",
      "медицина\n",
      "изучение\n",
      "развитие\n",
      "вопрос\n",
      "---------\n",
      "topic_14: \n",
      "1943\n",
      "начальник\n",
      "1945\n",
      "командир\n",
      "1944\n",
      "1942\n",
      "присвоить\n",
      "1939\n",
      "орден\n",
      "1938\n",
      "---------\n",
      "topic_15: \n",
      "экспедиция\n",
      "скотт\n",
      "нансен\n",
      "лёд\n",
      "судный\n",
      "судно\n",
      "полярный\n",
      "свердруп\n",
      "полюс\n",
      "достигнуть\n",
      "---------\n",
      "topic_16: \n",
      "книга\n",
      "джеймс\n",
      "хороший\n",
      "написать\n",
      "жизнь\n",
      "четыре\n",
      "джон\n",
      "автор\n",
      "сказка\n",
      "генри\n",
      "---------\n",
      "topic_17: \n",
      "канада\n",
      "канадский\n",
      "air\n",
      "регулярный\n",
      "национальный\n",
      "онтарио\n",
      "дэвис\n",
      "международный\n",
      "штаб-квартира\n",
      "альберт\n",
      "---------\n",
      "topic_18: \n",
      "игрок\n",
      "игровой\n",
      "уровень\n",
      "режим\n",
      "компьютерный\n",
      "разработать\n",
      "различный\n",
      "движок\n",
      "прохождение\n",
      "версия\n",
      "---------\n",
      "topic_19: \n",
      "1968\n",
      "1972\n",
      "1980\n",
      "сша\n",
      "америка\n",
      "нидерланды\n",
      "бельгия\n",
      "1984\n",
      "мексика\n",
      "мюнхен\n",
      "---------\n",
      "topic_20: \n",
      "задача\n",
      "подготовка\n",
      "сила\n",
      "база\n",
      "стратегический\n",
      "финский\n",
      "подразделение\n",
      "ракетный\n",
      "боевой\n",
      "действие\n",
      "---------\n",
      "topic_21: \n",
      "республика\n",
      "казахстан\n",
      "казахский\n",
      "1991\n",
      "казах\n",
      "национальный\n",
      "русский\n",
      "период\n",
      "народ\n",
      "этнический\n",
      "---------\n",
      "topic_22: \n",
      "сын\n",
      "карл\n",
      "дочь\n",
      "королева\n",
      "отец\n",
      "король\n",
      "смерть\n",
      "брат\n",
      "принцесса\n",
      "ум\n",
      "---------\n",
      "topic_23: \n",
      "the\n",
      "запись\n",
      "and\n",
      "in\n",
      "джордж\n",
      "«the\n",
      "очень\n",
      "поздний\n",
      "британский\n",
      "боб\n",
      "---------\n",
      "topic_24: \n",
      "роман\n",
      "доктор\n",
      "убийство\n",
      "дом\n",
      "убийца\n",
      "документальный\n",
      "расследование\n",
      "квартира\n",
      "полиция\n",
      "писатель\n",
      "---------\n",
      "topic_25: \n",
      "чемпионат\n",
      "выступать\n",
      "тренер\n",
      "лига\n",
      "команда\n",
      "играть\n",
      "футбол\n",
      "матч\n",
      "сборный\n",
      "ссср\n",
      "---------\n",
      "topic_26: \n",
      "деревня\n",
      "поселение\n",
      "сельский\n",
      "сельсовет\n",
      "колхоз\n",
      "образование\n",
      "муниципальный\n",
      "алнашский\n",
      "статус\n",
      "образовать\n",
      "---------\n",
      "topic_27: \n",
      "ван\n",
      "день\n",
      "сс\n",
      "остаться\n",
      "лента\n",
      "ночь\n",
      "фон\n",
      "германия\n",
      "городок\n",
      "надпись\n",
      "---------\n",
      "topic_28: \n",
      "i\n",
      "графство\n",
      "ирландия\n",
      "владение\n",
      "ирландский\n",
      "граф\n",
      "правитель\n",
      "рибагорс\n",
      "рамон\n",
      "iii\n",
      "---------\n",
      "topic_29: \n",
      "ребёнок\n",
      "дворец\n",
      "архитектор\n",
      "развитие\n",
      "воспитание\n",
      "архитектурный\n",
      "архитектура\n",
      "изучение\n",
      "обучение\n",
      "купец\n",
      "---------\n",
      "topic_30: \n",
      "преступление\n",
      "уголовный\n",
      "лицо\n",
      "ответственность\n",
      "статья\n",
      "кодекс\n",
      "наказание\n",
      "против\n",
      "ст\n",
      "личность\n",
      "---------\n",
      "topic_31: \n",
      "николай\n",
      "мастер\n",
      "стиль\n",
      "виктор\n",
      "александр\n",
      "московский\n",
      "заслужить\n",
      "ярославский\n",
      "алексей\n",
      "москва\n",
      "---------\n",
      "topic_32: \n",
      "боев\n",
      "авиационный\n",
      "советский\n",
      "разведка\n",
      "ввс\n",
      "совершить\n",
      "военный\n",
      "монитор\n",
      "аэродром\n",
      "авиация\n",
      "---------\n",
      "topic_33: \n",
      "производство\n",
      "оператор\n",
      "фирма\n",
      "услуга\n",
      "технология\n",
      "промышленный\n",
      "производственный\n",
      "телефон\n",
      "реализация\n",
      "система\n",
      "---------\n",
      "topic_34: \n",
      "1992\n",
      "испания\n",
      "представлять\n",
      "возраст\n",
      "испанский\n",
      "барселона\n",
      "65\n",
      "зеландия\n",
      "18\n",
      "сообщество\n",
      "---------\n",
      "topic_35: \n",
      "рим\n",
      "э\n",
      "наш\n",
      "римский\n",
      "консул\n",
      "марк\n",
      "гай\n",
      "луция\n",
      "корнелий\n",
      "римляна\n",
      "---------\n",
      "topic_36: \n",
      "газета\n",
      "грузия\n",
      "грузинский\n",
      "журналист\n",
      "редактор\n",
      "редакция\n",
      "русский\n",
      "издание\n",
      "корреспондент\n",
      "тбилиси\n",
      "---------\n",
      "topic_37: \n",
      "улица\n",
      "здание\n",
      "дом\n",
      "москва\n",
      "переулок\n",
      "сторона\n",
      "проспект\n",
      "кремль\n",
      "пожар\n",
      "гостиница\n",
      "---------\n",
      "topic_38: \n",
      "среда\n",
      "поверхность\n",
      "энергия\n",
      "форма\n",
      "метод\n",
      "поток\n",
      "химический\n",
      "различный\n",
      "высокий\n",
      "фактор\n",
      "---------\n",
      "topic_39: \n",
      "университет\n",
      "искусство\n",
      "преподавать\n",
      "изучать\n",
      "степень\n",
      "учиться\n",
      "философия\n",
      "колледж\n",
      "автор\n",
      "современный\n",
      "---------\n",
      "topic_40: \n",
      "студия\n",
      "герой\n",
      "нью-йорк\n",
      "рецензия\n",
      "сайт\n",
      "мнение\n",
      "фотография\n",
      "написать\n",
      "сюжет\n",
      "показать\n",
      "---------\n",
      "topic_41: \n",
      "партия\n",
      "национальный\n",
      "президент\n",
      "парламент\n",
      "выбор\n",
      "политический\n",
      "выборы\n",
      "палата\n",
      "депутат\n",
      "голос\n",
      "---------\n",
      "topic_42: \n",
      "украина\n",
      "марка\n",
      "почтовый\n",
      "украинский\n",
      "киевский\n",
      "ул\n",
      "киев\n",
      "почта\n",
      "малинский\n",
      "1946\n",
      "---------\n",
      "topic_43: \n",
      "культура\n",
      "памятник\n",
      "объект\n",
      "культурный\n",
      "охрана\n",
      "наследие\n",
      "государственный\n",
      "n\n",
      "федеральный\n",
      "народ\n",
      "---------\n",
      "topic_44: \n",
      "серия\n",
      "питер\n",
      "выйти\n",
      "момент\n",
      "начинать\n",
      "2009\n",
      "рейтинг\n",
      "девочка\n",
      "вместе\n",
      "энтони\n",
      "---------\n",
      "topic_45: \n",
      "завод\n",
      "строительство\n",
      "построить\n",
      "предприятие\n",
      "здание\n",
      "комплекс\n",
      "сооружение\n",
      "фабрика\n",
      "помещение\n",
      "строительный\n",
      "---------\n",
      "topic_46: \n",
      "войско\n",
      "битва\n",
      "сражение\n",
      "военный\n",
      "англичанин\n",
      "поражение\n",
      "француз\n",
      "против\n",
      "солдат\n",
      "потеря\n",
      "---------\n",
      "topic_47: \n",
      "житомирский\n",
      "код\n",
      "тело\n",
      "индекс\n",
      "телефонный\n",
      "р-наш\n",
      "почтовый\n",
      "украина\n",
      "коатуа\n",
      "области.############код\n",
      "---------\n",
      "topic_48: \n",
      "птица\n",
      "самка\n",
      "тело\n",
      "самец\n",
      "крыло\n",
      "глаз\n",
      "обитать\n",
      "голов\n",
      "крупный\n",
      "африка\n",
      "---------\n",
      "topic_49: \n",
      "использовать\n",
      "помощь\n",
      "позволять\n",
      "ошибка\n",
      "дать\n",
      "использование\n",
      "сигнал\n",
      "строка\n",
      "некоторый\n",
      "вариант\n",
      "---------\n"
     ]
    }
   ],
   "source": [
    "# посмотрим на темы\n",
    "for topic_name in model_artm.topic_names[:50]:\n",
    "    print(topic_name + ': ')\n",
    "    try:\n",
    "        for x in model_artm.score_tracker['TopTokensScore_1'].last_tokens[topic_name]:\n",
    "            print(x)\n",
    "        print('---------')\n",
    "    \n",
    "    except KeyError: # можно перекрутить параметры и некоторые темы окажутся пустыми\n",
    "        continue"
   ]
  },
  {
   "cell_type": "markdown",
   "metadata": {
    "colab_type": "text",
    "id": "P4I7algi2Ay6"
   },
   "source": [
    "# Домашнее задание\n",
    "\n",
    "\n",
    "Основаная задача - **построить хорошую тематическую модель с интерпретируемыми топиками с помощью BigARTM**.\n",
    "\n",
    "1) сделайте нормализацию (если pymorphy2 работает долго используйте mystem или попробуйте установить быструю версию - `pip install pymorphy2[fast]`, можно использовать какой-то другой токенизатор) \n",
    "\n",
    "2) добавьте нграммы (в тетрадке есть закомменченая ячейка с Phrases, можно также попробовать другие способы построить нграммы); \n",
    "\n",
    "3) сохраните тексты .vw формате;\n",
    "\n",
    "4) сделайте хороший словарь (отфильтруйте слишком частотные и редкие слова, попробуйте удалить стоп-слова, сохраните словарь и посмотрите на него, вдруг что-то плохое сразу будет заметно - из словаря можно просто вручную или правилом удалять строки, при загрузке ничего не сломается); \n",
    "\n",
    "5) постройте несколько ARTM моделей (переберите количество тем, поменяйте значения tau у регуляризаторов), если получаются плохие темы, поработайте дополнительно над предобработкой и словарем; \n",
    "\n",
    "6) для самой хорошей модели в отдельной ячейке напечатайте 3 хороших (на ваш вкус) темы\n",
    "\n",
    "7) в другой ячейке нарисуйте график обучения этой модели \n",
    "\n",
    "8) в третьей ячейки опишите какие параметры (количество тем, регуляризаторы, их tau) вы использовали и как обучали (например, после скольки проходов добавили регуляризатор разрежнивания тем (Phi), добавляли ли разреженность документам (Theta) и когда, как повышали значения, сколько итерации модель продожала улучшаться (снижалась перплексия, росли другие метрики);\n",
    "\n",
    "Сохраните тетрадку с экспериментами и положите её на гитхаб, ссылку на неё укажите в форме.\n",
    "\n",
    "**Оцениваться будут главным образом пункты 6, 7 и 8. (3, 1, 4 баллов соответственно). Чтобы заработать остальные 2 балла, нужно хотя бы немного изменить мой код на промежуточных этапах (добавить что-то, указать другие параметры и т.д). **"
   ]
  },
  {
   "cell_type": "code",
   "execution_count": null,
   "metadata": {},
   "outputs": [],
   "source": []
  }
 ],
 "metadata": {
  "colab": {
   "name": "SEMINAR_2_Topic_model_BigARTM.ipynb",
   "provenance": []
  },
  "kernelspec": {
   "display_name": "Python 3",
   "language": "python",
   "name": "python3"
  },
  "language_info": {
   "codemirror_mode": {
    "name": "ipython",
    "version": 3
   },
   "file_extension": ".py",
   "mimetype": "text/x-python",
   "name": "python",
   "nbconvert_exporter": "python",
   "pygments_lexer": "ipython3",
   "version": "3.6.5"
  }
 },
 "nbformat": 4,
 "nbformat_minor": 1
}
