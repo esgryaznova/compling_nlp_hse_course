{
 "cells": [
  {
   "cell_type": "markdown",
   "metadata": {},
   "source": [
    "## Зависимостный парсинг (Dependency parsing)"
   ]
  },
  {
   "cell_type": "markdown",
   "metadata": {},
   "source": [
    "Зависимостный парсинг - одна из немногих задач, где лингвистика и компьютерные науки продуктивно взаимодействуют. Основную теорию тут разрабатывают лингвисты, они же размечают корпусы, а модели построены на самых последних разробтах в области машинного обучения."
   ]
  },
  {
   "cell_type": "markdown",
   "metadata": {},
   "source": [
    "Так как теория и модели уже очень сложные, сделать что-то самому сопоставимого качества у вас вряд ли получится. Скорее всего вы ничего не будете обучать, а будет использовать готовые инструменты.\n",
    "\n",
    "Самые популярных:\n",
    "    \n",
    "**Syntaxnet (DRAGNN)** - от гугла\n",
    "    \n",
    "**UDPipe** - от Карлова Университета в Чехии\n",
    "    \n",
    "SyntaxNet активно развивается, но его достаточно трудоемко ставить. \n",
    "UdPipe работает похуже, но установить его легче.\n",
    "\n",
    "**TurkuNLP** - от университета Турку (это Финляндия). Позиционируется он как парсер для финского, но там есть много других предобученных моделей и можно обучать свои. \n",
    "\n",
    "\n",
    "Если вам нужен английский, то удобнее всего разбирать предложения через **spacy**.\n",
    "\n",
    "Ещё есть **MaltParser**: http://www.maltparser.org/"
   ]
  },
  {
   "cell_type": "markdown",
   "metadata": {},
   "source": [
    "Где прочитать про алгоритмы если вдруг интересно:\n",
    "\n",
    "-работа про DRAGNN:\n",
    "https://arxiv.org/abs/1703.04474\n",
    "\n",
    "-работа про UDPIPE:\n",
    "http://www.aclweb.org/anthology/K/K17/K17-3009.pdf\n"
   ]
  },
  {
   "cell_type": "markdown",
   "metadata": {},
   "source": [
    "\n",
    "Основные исследования построены на Universal Dependcies (стандарт разметки отношений, объединяющий большое количество языков)."
   ]
  },
  {
   "cell_type": "markdown",
   "metadata": {},
   "source": [
    "    \n",
    "Сайт Universal dependencies приводит ссылки на доступные корпуса (там уже много языков):\n",
    "http://universaldependencies.org/\n",
    "\n",
    "Для русского стандартный корпус - Syntagrus:\n",
    "https://github.com/UniversalDependencies/UD_Russian-SynTagRus\n",
    "\n",
    "И не так давно выпустился корпус Taiga:\n",
    "https://tatianashavrina.github.io/taiga_site/\n",
    "\n",
    "На них можно обучать и тестрировать модели.\n",
    "\n",
    "Большой размеченный UDPipe русскоязычный (и не только) корпус можно взять тут (острожно 24 гб в сжатом виде):\n",
    "https://lindat.mff.cuni.cz/repository/xmlui/handle/11234/1-1989"
   ]
  },
  {
   "cell_type": "markdown",
   "metadata": {},
   "source": [
    "Вот тут описание типов отношений в UD:\n",
    "http://universaldependencies.org/u/dep/"
   ]
  },
  {
   "cell_type": "markdown",
   "metadata": {},
   "source": [
    "## Для чего можно использовать зависимости?"
   ]
  },
  {
   "cell_type": "code",
   "execution_count": 19,
   "metadata": {},
   "outputs": [],
   "source": [
    "from nltk.grammar import DependencyGrammar\n",
    "from nltk.parse import DependencyGraph\n",
    "from collections import Counter\n",
    "import numpy as np\n",
    "import re\n",
    "import warnings\n",
    "import os\n",
    "warnings.filterwarnings('ignore')"
   ]
  },
  {
   "cell_type": "markdown",
   "metadata": {},
   "source": [
    "Посмотрим, как выглядит разобранное предложение. Я взял маленький кусочек корпуса Тайга (Arzamas) - скачать его можно тут - https://linghub.ru/static/Taiga/Arzamas.zip"
   ]
  },
  {
   "cell_type": "markdown",
   "metadata": {},
   "source": [
    "В нем есть папка с обработанными текстами. Соберем их в один список."
   ]
  },
  {
   "cell_type": "code",
   "execution_count": 20,
   "metadata": {},
   "outputs": [],
   "source": [
    "path = 'Arzamas/texts_tagged/'\n",
    "files = [path+file for file in os.listdir(path)]"
   ]
  },
  {
   "cell_type": "code",
   "execution_count": 21,
   "metadata": {},
   "outputs": [
    {
     "data": {
      "text/plain": [
       "'Arzamas/texts_tagged/arzamas_232.txt'"
      ]
     },
     "execution_count": 21,
     "metadata": {},
     "output_type": "execute_result"
    }
   ],
   "source": [
    "files[1]"
   ]
  },
  {
   "cell_type": "markdown",
   "metadata": {},
   "source": [
    "Посмотрим, что лежит в этих файлах."
   ]
  },
  {
   "cell_type": "code",
   "execution_count": 63,
   "metadata": {},
   "outputs": [],
   "source": [
    "file = open(files[0]).read()"
   ]
  },
  {
   "cell_type": "markdown",
   "metadata": {},
   "source": [
    "Разобранные предложения хранятся в формате CONLL (слово на каждой строчке, тэги через табы, предложения отделены двойными отступами)"
   ]
  },
  {
   "cell_type": "code",
   "execution_count": 64,
   "metadata": {},
   "outputs": [],
   "source": [
    "tree = [x for x in file.split('\\n\\n')[0].split('\\n')]"
   ]
  },
  {
   "cell_type": "markdown",
   "metadata": {},
   "source": [
    "Перед разбором ещё может быть указана метаинформация (начало дока, параграфа, номер предложения, само предложения в изначальном виде)."
   ]
  },
  {
   "cell_type": "code",
   "execution_count": 65,
   "metadata": {},
   "outputs": [
    {
     "data": {
      "text/plain": [
       "['# text = # newpar',\n",
       " '# sent_id = 1915',\n",
       " '# text = \"Я люблю богемных писателей: Фицджеральд, этот парень, который покончил жизнь самоубийством...',\n",
       " '1\\t\"\\t\"\\tPUNCT\\t_\\t_\\t2\\tpunct\\t_\\tSpaceAfter=No',\n",
       " '2\\tЯ\\tя\\tPRON\\t_\\tCase=Nom|Number=Sing|Person=1\\t3\\tnsubj\\t_\\t_',\n",
       " '3\\tлюблю\\tлюбить\\tVERB\\t_\\tAspect=Imp|Mood=Ind|Number=Sing|Person=1|Tense=Pres|VerbForm=Fin|Voice=Act\\t0\\troot\\t_\\t_',\n",
       " '4\\tбогемных\\tбогемный\\tADJ\\t_\\tAnimacy=Anim|Case=Acc|Degree=Pos|Number=Plur\\t5\\tamod\\t_\\t_',\n",
       " '5\\tписателей\\tписатель\\tNOUN\\t_\\tAnimacy=Anim|Case=Acc|Gender=Masc|Number=Plur\\t3\\tobj\\t_\\tSpaceAfter=No',\n",
       " '6\\t:\\t:\\tPUNCT\\t_\\t_\\t5\\tpunct\\t_\\t_',\n",
       " '7\\tФицджеральд\\tФицджеральд\\tPROPN\\t_\\tAnimacy=Inan|Case=Nom|Gender=Masc|Number=Sing\\t5\\tnsubj\\t_\\tSpaceAfter=No',\n",
       " '8\\t,\\t,\\tPUNCT\\t_\\t_\\t7\\tpunct\\t_\\t_',\n",
       " '9\\tэтот\\tэтот\\tDET\\t_\\tCase=Nom|Gender=Masc|Number=Sing\\t10\\tamod\\t_\\t_',\n",
       " '10\\tпарень\\tпарень\\tNOUN\\t_\\tAnimacy=Anim|Case=Nom|Gender=Masc|Number=Sing\\t3\\tappos\\t_\\tSpaceAfter=No',\n",
       " '11\\t,\\t,\\tPUNCT\\t_\\t_\\t10\\tpunct\\t_\\t_',\n",
       " '12\\tкоторый\\tкоторый\\tPRON\\t_\\tCase=Nom\\t13\\tnsubj\\t_\\t_',\n",
       " '13\\tпокончил\\tпокончить\\tVERB\\t_\\tAspect=Perf|Gender=Masc|Mood=Ind|Number=Sing|Tense=Past|VerbForm=Fin|Voice=Act\\t10\\tacl:relcl\\t_\\t_',\n",
       " '14\\tжизнь\\tжизнь\\tNOUN\\t_\\tAnimacy=Inan|Case=Acc|Gender=Fem|Number=Sing\\t15\\tobj\\t_\\t_',\n",
       " '15\\tсамоубийством.\\tсамоубийствомотреть\\tVERB\\t_\\tAspect=Imp|Mood=Imp|Number=Sing|Person=2|VerbForm=Fin|Voice=Act\\t13\\txcomp\\t_\\tSpaceAfter=No',\n",
       " '16\\t.\\t.\\tPUNCT\\t_\\t_\\t15\\tpunct\\t_\\tSpaceAfter=No',\n",
       " '17\\t.\\t.\\tPUNCT\\t_\\t_\\t15\\tpunct\\t_\\t_']"
      ]
     },
     "execution_count": 65,
     "metadata": {},
     "output_type": "execute_result"
    }
   ],
   "source": [
    "tree"
   ]
  },
  {
   "cell_type": "markdown",
   "metadata": {},
   "source": [
    "Но нам она не нужна. Соберем в один список все деревья."
   ]
  },
  {
   "cell_type": "code",
   "execution_count": 42,
   "metadata": {},
   "outputs": [],
   "source": [
    "trees = []\n",
    "\n",
    "for file in files:\n",
    "    parsed_sents = open(file).read().split('\\n\\n')\n",
    "    \n",
    "    for sent in parsed_sents:\n",
    "        tree = [line for line in sent.split('\\n') if line[0] != '#']\n",
    "        trees.append('\\n'.join(tree))\n",
    "        "
   ]
  },
  {
   "cell_type": "code",
   "execution_count": 43,
   "metadata": {},
   "outputs": [
    {
     "data": {
      "text/plain": [
       "'1\\t\"\\t\"\\tPUNCT\\t_\\t_\\t2\\tpunct\\t_\\tSpaceAfter=No\\n2\\tЯ\\tя\\tPRON\\t_\\tCase=Nom|Number=Sing|Person=1\\t3\\tnsubj\\t_\\t_\\n3\\tлюблю\\tлюбить\\tVERB\\t_\\tAspect=Imp|Mood=Ind|Number=Sing|Person=1|Tense=Pres|VerbForm=Fin|Voice=Act\\t0\\troot\\t_\\t_\\n4\\tбогемных\\tбогемный\\tADJ\\t_\\tAnimacy=Anim|Case=Acc|Degree=Pos|Number=Plur\\t5\\tamod\\t_\\t_\\n5\\tписателей\\tписатель\\tNOUN\\t_\\tAnimacy=Anim|Case=Acc|Gender=Masc|Number=Plur\\t3\\tobj\\t_\\tSpaceAfter=No\\n6\\t:\\t:\\tPUNCT\\t_\\t_\\t5\\tpunct\\t_\\t_\\n7\\tФицджеральд\\tФицджеральд\\tPROPN\\t_\\tAnimacy=Inan|Case=Nom|Gender=Masc|Number=Sing\\t5\\tnsubj\\t_\\tSpaceAfter=No\\n8\\t,\\t,\\tPUNCT\\t_\\t_\\t7\\tpunct\\t_\\t_\\n9\\tэтот\\tэтот\\tDET\\t_\\tCase=Nom|Gender=Masc|Number=Sing\\t10\\tamod\\t_\\t_\\n10\\tпарень\\tпарень\\tNOUN\\t_\\tAnimacy=Anim|Case=Nom|Gender=Masc|Number=Sing\\t3\\tappos\\t_\\tSpaceAfter=No\\n11\\t,\\t,\\tPUNCT\\t_\\t_\\t10\\tpunct\\t_\\t_\\n12\\tкоторый\\tкоторый\\tPRON\\t_\\tCase=Nom\\t13\\tnsubj\\t_\\t_\\n13\\tпокончил\\tпокончить\\tVERB\\t_\\tAspect=Perf|Gender=Masc|Mood=Ind|Number=Sing|Tense=Past|VerbForm=Fin|Voice=Act\\t10\\tacl:relcl\\t_\\t_\\n14\\tжизнь\\tжизнь\\tNOUN\\t_\\tAnimacy=Inan|Case=Acc|Gender=Fem|Number=Sing\\t15\\tobj\\t_\\t_\\n15\\tсамоубийством.\\tсамоубийствомотреть\\tVERB\\t_\\tAspect=Imp|Mood=Imp|Number=Sing|Person=2|VerbForm=Fin|Voice=Act\\t13\\txcomp\\t_\\tSpaceAfter=No\\n16\\t.\\t.\\tPUNCT\\t_\\t_\\t15\\tpunct\\t_\\tSpaceAfter=No\\n17\\t.\\t.\\tPUNCT\\t_\\t_\\t15\\tpunct\\t_\\t_'"
      ]
     },
     "execution_count": 43,
     "metadata": {},
     "output_type": "execute_result"
    }
   ],
   "source": [
    "trees[0]"
   ]
  },
  {
   "cell_type": "code",
   "execution_count": 66,
   "metadata": {},
   "outputs": [
    {
     "data": {
      "text/plain": [
       "['1 Некоторые некоторый DET _ Case=Nom|Number=Plur 3 nsubj _ _',\n",
       " '2 были быть VERB _ Aspect=Imp|Mood=Ind|Number=Plur|Tense=Past|VerbForm=Fin|Voice=Act 3 cop _ _',\n",
       " '3 алкоголиками алкоголик NOUN _ Animacy=Inan|Case=Ins|Gender=Masc|Number=Plur 0 root _ _',\n",
       " '4 и и CCONJ _ _ 5 cc _ _',\n",
       " '5 наркоманами наркоман NOUN _ Animacy=Inan|Case=Ins|Gender=Masc|Number=Plur 3 conj _ SpaceAfter=No',\n",
       " '6 , , PUNCT _ _ 5 punct _ _',\n",
       " '7 но но CCONJ _ _ 9 cc _ _',\n",
       " '8 классно классно ADV _ Degree=Pos 9 advmod _ _',\n",
       " '9 проводили проводить VERB _ Aspect=Imp|Mood=Ind|Number=Plur|Tense=Past|VerbForm=Fin|Voice=Act 3 conj _ _',\n",
       " '10 время время NOUN _ Animacy=Inan|Case=Acc|Gender=Neut|Number=Sing 9 obj _ SpaceAfter=No',\n",
       " '11 . . PUNCT _ _ 10 punct _ _']"
      ]
     },
     "execution_count": 66,
     "metadata": {},
     "output_type": "execute_result"
    }
   ],
   "source": [
    "[x.replace('\\t', ' ') for x in trees[2].split('\\n')]"
   ]
  },
  {
   "cell_type": "markdown",
   "metadata": {},
   "source": [
    "В nltk есть удобный класс для загрузки таких деревьев:"
   ]
  },
  {
   "cell_type": "code",
   "execution_count": 83,
   "metadata": {},
   "outputs": [],
   "source": [
    "d = DependencyGraph(trees[10])"
   ]
  },
  {
   "cell_type": "markdown",
   "metadata": {},
   "source": [
    "Все хранится в словаре словарей. Первый словарь - индексы слов, а дальше находится разная лингвистическая информация."
   ]
  },
  {
   "cell_type": "code",
   "execution_count": 130,
   "metadata": {
    "scrolled": true
   },
   "outputs": [],
   "source": [
    "d.nodes"
   ]
  },
  {
   "cell_type": "markdown",
   "metadata": {},
   "source": [
    "По названию класса можно понять, что это граф. Из графа соответственно можно достать узлы и ребра."
   ]
  },
  {
   "cell_type": "markdown",
   "metadata": {},
   "source": [
    "У объекта есть метод triples, который достает все узлы."
   ]
  },
  {
   "cell_type": "code",
   "execution_count": 81,
   "metadata": {},
   "outputs": [
    {
     "data": {
      "text/plain": [
       "[((None, 'TOP'), 'root', ('люблю', 'VERB')),\n",
       " (('люблю', 'VERB'), 'nsubj', ('Я', 'PRON')),\n",
       " (('Я', 'PRON'), 'punct', ('\"', 'PUNCT')),\n",
       " (('люблю', 'VERB'), 'obj', ('писателей', 'NOUN')),\n",
       " (('писателей', 'NOUN'), 'amod', ('богемных', 'ADJ')),\n",
       " (('писателей', 'NOUN'), 'punct', (':', 'PUNCT')),\n",
       " (('писателей', 'NOUN'), 'nsubj', ('Фицджеральд', 'PROPN')),\n",
       " (('Фицджеральд', 'PROPN'), 'punct', (',', 'PUNCT')),\n",
       " (('люблю', 'VERB'), 'appos', ('парень', 'NOUN')),\n",
       " (('парень', 'NOUN'), 'amod', ('этот', 'DET')),\n",
       " (('парень', 'NOUN'), 'punct', (',', 'PUNCT')),\n",
       " (('парень', 'NOUN'), 'acl:relcl', ('покончил', 'VERB')),\n",
       " (('покончил', 'VERB'), 'nsubj', ('который', 'PRON')),\n",
       " (('покончил', 'VERB'), 'xcomp', ('самоубийством.', 'VERB')),\n",
       " (('самоубийством.', 'VERB'), 'obj', ('жизнь', 'NOUN')),\n",
       " (('самоубийством.', 'VERB'), 'punct', ('.', 'PUNCT')),\n",
       " (('самоубийством.', 'VERB'), 'punct', ('.', 'PUNCT'))]"
      ]
     },
     "execution_count": 81,
     "metadata": {},
     "output_type": "execute_result"
    }
   ],
   "source": [
    "d.root = d.nodes[0] # чтобы метод сработал нужно установить корневой элемент\n",
    "list(d.triples())"
   ]
  },
  {
   "cell_type": "markdown",
   "metadata": {},
   "source": [
    "Что с этим можно сделать?"
   ]
  },
  {
   "cell_type": "markdown",
   "metadata": {},
   "source": [
    "Можно использовать полученные деревья для анализа корпуса. "
   ]
  },
  {
   "cell_type": "markdown",
   "metadata": {},
   "source": [
    "### Задание 1. \n",
    "Пройдитесь по корпусу, преобразуя дерево в такие же кортежи как и в ячейке выше. Достаньте все модификаторы слов 'парень' и 'девушка'."
   ]
  },
  {
   "cell_type": "code",
   "execution_count": null,
   "metadata": {
    "collapsed": true
   },
   "outputs": [],
   "source": [
    "modifiers = ...\n",
    "for tree in trees:\n",
    "    d = DependencyGraph(tree)\n",
    "    d.root = d.nodes[0] \n",
    "    triples = list(d.triples())\n",
    "    \n",
    "    # ваш код здесь\n",
    "    "
   ]
  },
  {
   "cell_type": "code",
   "execution_count": null,
   "metadata": {},
   "outputs": [],
   "source": []
  },
  {
   "cell_type": "code",
   "execution_count": null,
   "metadata": {},
   "outputs": [],
   "source": []
  },
  {
   "cell_type": "code",
   "execution_count": null,
   "metadata": {},
   "outputs": [],
   "source": []
  },
  {
   "cell_type": "markdown",
   "metadata": {},
   "source": [
    "Одно слова может быть недостаточно. Отношение часто указывает на главное слово в какой-то именной группе, а от него отходят отношения к другим её составляющим. Мы можем захотеть пройтись по всем ответвлениям, чтобы собрать всю именную группу. "
   ]
  },
  {
   "cell_type": "markdown",
   "metadata": {},
   "source": [
    "Удобнее всего это сделать через рекурсию. Напишем функцию, котороя проходит по всем зависимым конкретного узла в дереве и достает их зависимые, пока не упрется в терминальный узел."
   ]
  },
  {
   "cell_type": "markdown",
   "metadata": {},
   "source": [
    "### Задание 2.  "
   ]
  },
  {
   "cell_type": "markdown",
   "metadata": {},
   "source": [
    "Напишите рекурсивную функцию, которая преобразуется список с вложенностью в простой список чисел."
   ]
  },
  {
   "cell_type": "code",
   "execution_count": 67,
   "metadata": {},
   "outputs": [],
   "source": [
    "a = [1, 2, [3, 4], [[5], [6, 7]]]"
   ]
  },
  {
   "cell_type": "code",
   "execution_count": 72,
   "metadata": {},
   "outputs": [],
   "source": [
    "# должно получиться [1, 2, 3, 4, 5, 6, 7]"
   ]
  },
  {
   "cell_type": "code",
   "execution_count": null,
   "metadata": {},
   "outputs": [],
   "source": [
    "def flatten_list(l):\n",
    "    \n",
    "    if stopping_criteria:\n",
    "        return ...\n",
    "    else:\n",
    "        flatten_list"
   ]
  },
  {
   "cell_type": "code",
   "execution_count": null,
   "metadata": {},
   "outputs": [],
   "source": []
  },
  {
   "cell_type": "code",
   "execution_count": null,
   "metadata": {},
   "outputs": [],
   "source": []
  },
  {
   "cell_type": "code",
   "execution_count": null,
   "metadata": {},
   "outputs": [],
   "source": []
  },
  {
   "cell_type": "code",
   "execution_count": null,
   "metadata": {},
   "outputs": [],
   "source": []
  },
  {
   "cell_type": "code",
   "execution_count": null,
   "metadata": {},
   "outputs": [],
   "source": []
  },
  {
   "cell_type": "markdown",
   "metadata": {},
   "source": [
    "Теперь вы лучше будете понимать, что происходит в этой функции."
   ]
  },
  {
   "cell_type": "code",
   "execution_count": 77,
   "metadata": {},
   "outputs": [],
   "source": [
    "def get_subtree(nodes, node):\n",
    "    \n",
    "    \n",
    "    if not nodes[node]['deps']:\n",
    "        return [node]\n",
    "    \n",
    "    else:\n",
    "        return [node] + [get_subtree(nodes, dep) for rel in nodes[node]['deps'] \n",
    "                         if rel != 'punct'  # пунктуацию доставать не будем\n",
    "                         for dep in nodes[node]['deps'][rel]]\n",
    "\n"
   ]
  },
  {
   "cell_type": "markdown",
   "metadata": {},
   "source": [
    "Дерево можно нарисовать через networkx, чтобы лучше понимать какие поддеревья мы хотим достать."
   ]
  },
  {
   "cell_type": "code",
   "execution_count": 101,
   "metadata": {},
   "outputs": [],
   "source": [
    "import matplotlib\n",
    "import matplotlib.pyplot as plt\n",
    "import networkx as nx\n",
    "%matplotlib inline "
   ]
  },
  {
   "cell_type": "code",
   "execution_count": 122,
   "metadata": {},
   "outputs": [
    {
     "data": {
      "image/png": "[encoded data removed]",
      "text/plain": [
       "<Figure size 720x720 with 1 Axes>"
      ]
     },
     "metadata": {},
     "output_type": "display_data"
    }
   ],
   "source": [
    "plt.figure(figsize=(10,10))\n",
    "nx.draw(d.nx_graph(), labels=d.nx_labels, node_size=5000)"
   ]
  },
  {
   "cell_type": "code",
   "execution_count": 114,
   "metadata": {},
   "outputs": [
    {
     "data": {
      "text/plain": [
       "{1: 'Я', 2: 'книги', 3: 'не', 4: 'для', 5: 'красоты', 6: 'покупаю', 7: '.'}"
      ]
     },
     "execution_count": 114,
     "metadata": {},
     "output_type": "execute_result"
    }
   ],
   "source": [
    "d.nx_labels"
   ]
  },
  {
   "cell_type": "markdown",
   "metadata": {},
   "source": [
    "Достанем все поддерево какого-нибудь элемента."
   ]
  },
  {
   "cell_type": "code",
   "execution_count": 124,
   "metadata": {},
   "outputs": [
    {
     "data": {
      "text/plain": [
       "[6, [1], [2], [5, [3], [4]]]"
      ]
     },
     "execution_count": 124,
     "metadata": {},
     "output_type": "execute_result"
    }
   ],
   "source": [
    "get_subtree(d.nodes, 6)"
   ]
  },
  {
   "cell_type": "markdown",
   "metadata": {},
   "source": [
    "Получается список с вложенными списками. Чтобы представить это все в читаемом формате лучше его раплющить ещё одной рекурсивной функцией (такой как мы написали выше). "
   ]
  },
  {
   "cell_type": "code",
   "execution_count": 125,
   "metadata": {},
   "outputs": [],
   "source": [
    "def flatten(l):\n",
    "    flat = []\n",
    "    for el in l:\n",
    "        if not isinstance(el, list):\n",
    "            flat.append(el)\n",
    "        else:\n",
    "            flat += flatten(el)\n",
    "    return flat"
   ]
  },
  {
   "cell_type": "code",
   "execution_count": 126,
   "metadata": {},
   "outputs": [
    {
     "data": {
      "text/plain": [
       "[5, 3, 4]"
      ]
     },
     "execution_count": 126,
     "metadata": {},
     "output_type": "execute_result"
    }
   ],
   "source": [
    "flatten(get_subtree(d.nodes, 5))"
   ]
  },
  {
   "cell_type": "markdown",
   "metadata": {},
   "source": [
    "Проверим, что досталось."
   ]
  },
  {
   "cell_type": "code",
   "execution_count": 127,
   "metadata": {},
   "outputs": [
    {
     "data": {
      "text/plain": [
       "['красоты', 'не', 'для']"
      ]
     },
     "execution_count": 127,
     "metadata": {},
     "output_type": "execute_result"
    }
   ],
   "source": [
    "[d.nodes[i]['word'] for i in flatten(get_subtree(d.nodes, 5))]"
   ]
  },
  {
   "cell_type": "markdown",
   "metadata": {},
   "source": [
    "Нужно ещё восстановить порядок."
   ]
  },
  {
   "cell_type": "code",
   "execution_count": 128,
   "metadata": {},
   "outputs": [
    {
     "data": {
      "text/plain": [
       "['не', 'для', 'красоты']"
      ]
     },
     "execution_count": 128,
     "metadata": {},
     "output_type": "execute_result"
    }
   ],
   "source": [
    "[d.nodes[i]['word'] for i in sorted(flatten(get_subtree(d.nodes, 5)))]"
   ]
  },
  {
   "cell_type": "code",
   "execution_count": 129,
   "metadata": {},
   "outputs": [
    {
     "data": {
      "text/plain": [
       "['не', 'для', 'красоты']"
      ]
     },
     "execution_count": 129,
     "metadata": {},
     "output_type": "execute_result"
    }
   ],
   "source": [
    "[d.nodes[i]['word'] for i in sorted(flatten(get_subtree(d.nodes, 5)))]"
   ]
  },
  {
   "cell_type": "markdown",
   "metadata": {},
   "source": [
    "### Задание 3."
   ]
  },
  {
   "cell_type": "markdown",
   "metadata": {},
   "source": [
    "Попробуйте теперь также пройтись по корпусу, найти глаголы и если у этих глаголов есть **nsubj** и **obj** (или **obl**), то достать всё поддерево для них."
   ]
  },
  {
   "cell_type": "markdown",
   "metadata": {},
   "source": [
    "Результат должен выглядеть как-то так:\n",
    "    ('Субъект', 'глагол', 'объект')"
   ]
  },
  {
   "cell_type": "code",
   "execution_count": null,
   "metadata": {
    "collapsed": true
   },
   "outputs": [],
   "source": [
    "# ваш код здесь\n",
    "...\n",
    "...\n"
   ]
  },
  {
   "cell_type": "markdown",
   "metadata": {},
   "source": [
    "### Использование для других задач"
   ]
  },
  {
   "cell_type": "markdown",
   "metadata": {},
   "source": [
    "Ещё зависимости можно использовать в качестве признаков для классификации или кластеризации."
   ]
  },
  {
   "cell_type": "markdown",
   "metadata": {},
   "source": [
    "Допустим мы хотим научиться выделять отношения между существительными. Мы можем пройтись по корпусу, достать все фразы, а потом достать из графа самый короткий путь, соединящию эти фразы."
   ]
  },
  {
   "cell_type": "markdown",
   "metadata": {},
   "source": [
    "Дальше путь можно каким-то образом преобразовать в векторы и напрмую засовывать в классификатор или кластеризатор. "
   ]
  },
  {
   "cell_type": "code",
   "execution_count": 30,
   "metadata": {
    "collapsed": true
   },
   "outputs": [],
   "source": [
    "# поиск самого короткого пути есть в networkx\n",
    "import networkx as nx"
   ]
  },
  {
   "cell_type": "code",
   "execution_count": 36,
   "metadata": {
    "collapsed": true
   },
   "outputs": [],
   "source": [
    "\n",
    "dg = DependencyGraph(trees[123])\n",
    "edges = []\n",
    "\n",
    "for e in dg.nodes:\n",
    "    for dep in dg.nodes[e]['deps']:\n",
    "        for t in dg.nodes[e]['deps'][dep]:\n",
    "            edges.append((e, t))\n",
    "\n",
    "\n"
   ]
  },
  {
   "cell_type": "code",
   "execution_count": 38,
   "metadata": {},
   "outputs": [
    {
     "data": {
      "image/svg+xml": [
       "<?xml version=\"1.0\" encoding=\"UTF-8\" standalone=\"no\"?>\n",
       "<!DOCTYPE svg PUBLIC \"-//W3C//DTD SVG 1.1//EN\"\n",
       " \"http://www.w3.org/Graphics/SVG/1.1/DTD/svg11.dtd\">\n",
       "<!-- Generated by graphviz version 2.38.0 (20140413.2041)\n",
       " -->\n",
       "<!-- Title: G Pages: 1 -->\n",
       "<svg width=\"540pt\" height=\"653pt\"\n",
       " viewBox=\"0.00 0.00 539.50 653.00\" xmlns=\"http://www.w3.org/2000/svg\" xmlns:xlink=\"http://www.w3.org/1999/xlink\">\n",
       "<g id=\"graph0\" class=\"graph\" transform=\"scale(1 1) rotate(0) translate(4 649)\">\n",
       "<title>G</title>\n",
       "<polygon fill=\"white\" stroke=\"none\" points=\"-4,4 -4,-649 535.5,-649 535.5,4 -4,4\"/>\n",
       "<!-- 0 -->\n",
       "<g id=\"node1\" class=\"node\"><title>0</title>\n",
       "<text text-anchor=\"middle\" x=\"260\" y=\"-623.3\" font-family=\"Times,serif\" font-size=\"14.00\">0 (None)</text>\n",
       "</g>\n",
       "<!-- 21 -->\n",
       "<g id=\"node2\" class=\"node\"><title>21</title>\n",
       "<text text-anchor=\"middle\" x=\"260\" y=\"-536.3\" font-family=\"Times,serif\" font-size=\"14.00\">21 (запрещается)</text>\n",
       "</g>\n",
       "<!-- 0&#45;&gt;21 -->\n",
       "<g id=\"edge1\" class=\"edge\"><title>0&#45;&gt;21</title>\n",
       "<path fill=\"none\" stroke=\"black\" d=\"M260,-608.799C260,-597.163 260,-581.548 260,-568.237\"/>\n",
       "<polygon fill=\"black\" stroke=\"black\" points=\"263.5,-568.175 260,-558.175 256.5,-568.175 263.5,-568.175\"/>\n",
       "<text text-anchor=\"middle\" x=\"271\" y=\"-579.8\" font-family=\"Times,serif\" font-size=\"14.00\">root</text>\n",
       "</g>\n",
       "<!-- 1 -->\n",
       "<g id=\"node3\" class=\"node\"><title>1</title>\n",
       "<text text-anchor=\"middle\" x=\"129\" y=\"-449.3\" font-family=\"Times,serif\" font-size=\"14.00\">1 (Привлечение)</text>\n",
       "</g>\n",
       "<!-- 21&#45;&gt;1 -->\n",
       "<g id=\"edge21\" class=\"edge\"><title>21&#45;&gt;1</title>\n",
       "<path fill=\"none\" stroke=\"black\" d=\"M233.49,-521.799C213.514,-508.838 185.932,-490.941 164.122,-476.789\"/>\n",
       "<polygon fill=\"black\" stroke=\"black\" points=\"165.764,-473.683 155.47,-471.175 161.954,-479.555 165.764,-473.683\"/>\n",
       "<text text-anchor=\"middle\" x=\"218\" y=\"-492.8\" font-family=\"Times,serif\" font-size=\"14.00\">nsubj</text>\n",
       "</g>\n",
       "<!-- 10 -->\n",
       "<g id=\"node12\" class=\"node\"><title>10</title>\n",
       "<text text-anchor=\"middle\" x=\"260\" y=\"-449.3\" font-family=\"Times,serif\" font-size=\"14.00\">10 (исполнению)</text>\n",
       "</g>\n",
       "<!-- 21&#45;&gt;10 -->\n",
       "<g id=\"edge20\" class=\"edge\"><title>21&#45;&gt;10</title>\n",
       "<path fill=\"none\" stroke=\"black\" d=\"M260,-521.799C260,-510.163 260,-494.548 260,-481.237\"/>\n",
       "<polygon fill=\"black\" stroke=\"black\" points=\"263.5,-481.175 260,-471.175 256.5,-481.175 263.5,-481.175\"/>\n",
       "<text text-anchor=\"middle\" x=\"269\" y=\"-492.8\" font-family=\"Times,serif\" font-size=\"14.00\">obl</text>\n",
       "</g>\n",
       "<!-- 22 -->\n",
       "<g id=\"node23\" class=\"node\"><title>22</title>\n",
       "<text text-anchor=\"middle\" x=\"362\" y=\"-449.3\" font-family=\"Times,serif\" font-size=\"14.00\">22 (.)</text>\n",
       "</g>\n",
       "<!-- 21&#45;&gt;22 -->\n",
       "<g id=\"edge22\" class=\"edge\"><title>21&#45;&gt;22</title>\n",
       "<path fill=\"none\" stroke=\"black\" d=\"M280.641,-521.799C295.849,-509.126 316.72,-491.734 333.515,-477.738\"/>\n",
       "<polygon fill=\"black\" stroke=\"black\" points=\"335.948,-480.266 341.389,-471.175 331.467,-474.889 335.948,-480.266\"/>\n",
       "<text text-anchor=\"middle\" x=\"333.5\" y=\"-492.8\" font-family=\"Times,serif\" font-size=\"14.00\">punct</text>\n",
       "</g>\n",
       "<!-- 2 -->\n",
       "<g id=\"node4\" class=\"node\"><title>2</title>\n",
       "<text text-anchor=\"middle\" x=\"129\" y=\"-362.3\" font-family=\"Times,serif\" font-size=\"14.00\">2 (граждан)</text>\n",
       "</g>\n",
       "<!-- 1&#45;&gt;2 -->\n",
       "<g id=\"edge2\" class=\"edge\"><title>1&#45;&gt;2</title>\n",
       "<path fill=\"none\" stroke=\"black\" d=\"M129,-434.799C129,-423.163 129,-407.548 129,-394.237\"/>\n",
       "<polygon fill=\"black\" stroke=\"black\" points=\"132.5,-394.175 129,-384.175 125.5,-394.175 132.5,-394.175\"/>\n",
       "<text text-anchor=\"middle\" x=\"145\" y=\"-405.8\" font-family=\"Times,serif\" font-size=\"14.00\">nmod</text>\n",
       "</g>\n",
       "<!-- 3 -->\n",
       "<g id=\"node5\" class=\"node\"><title>3</title>\n",
       "<text text-anchor=\"middle\" x=\"27\" y=\"-275.3\" font-family=\"Times,serif\" font-size=\"14.00\">3 (,)</text>\n",
       "</g>\n",
       "<!-- 2&#45;&gt;3 -->\n",
       "<g id=\"edge3\" class=\"edge\"><title>2&#45;&gt;3</title>\n",
       "<path fill=\"none\" stroke=\"black\" d=\"M108.359,-347.799C93.1508,-335.126 72.2802,-317.734 55.4852,-303.738\"/>\n",
       "<polygon fill=\"black\" stroke=\"black\" points=\"57.5334,-300.889 47.6105,-297.175 53.0521,-306.266 57.5334,-300.889\"/>\n",
       "<text text-anchor=\"middle\" x=\"100.5\" y=\"-318.8\" font-family=\"Times,serif\" font-size=\"14.00\">punct</text>\n",
       "</g>\n",
       "<!-- 4 -->\n",
       "<g id=\"node6\" class=\"node\"><title>4</title>\n",
       "<text text-anchor=\"middle\" x=\"131\" y=\"-275.3\" font-family=\"Times,serif\" font-size=\"14.00\">4 (направленных)</text>\n",
       "</g>\n",
       "<!-- 2&#45;&gt;4 -->\n",
       "<g id=\"edge4\" class=\"edge\"><title>2&#45;&gt;4</title>\n",
       "<path fill=\"none\" stroke=\"black\" d=\"M129.405,-347.799C129.679,-336.163 130.046,-320.548 130.359,-307.237\"/>\n",
       "<polygon fill=\"black\" stroke=\"black\" points=\"133.86,-307.255 130.596,-297.175 126.862,-307.09 133.86,-307.255\"/>\n",
       "<text text-anchor=\"middle\" x=\"146.5\" y=\"-318.8\" font-family=\"Times,serif\" font-size=\"14.00\">amod</text>\n",
       "</g>\n",
       "<!-- 7 -->\n",
       "<g id=\"node7\" class=\"node\"><title>7</title>\n",
       "<text text-anchor=\"middle\" x=\"131\" y=\"-188.3\" font-family=\"Times,serif\" font-size=\"14.00\">7 (сборы)</text>\n",
       "</g>\n",
       "<!-- 4&#45;&gt;7 -->\n",
       "<g id=\"edge5\" class=\"edge\"><title>4&#45;&gt;7</title>\n",
       "<path fill=\"none\" stroke=\"black\" d=\"M131,-260.799C131,-249.163 131,-233.548 131,-220.237\"/>\n",
       "<polygon fill=\"black\" stroke=\"black\" points=\"134.5,-220.175 131,-210.175 127.5,-220.175 134.5,-220.175\"/>\n",
       "<text text-anchor=\"middle\" x=\"140\" y=\"-231.8\" font-family=\"Times,serif\" font-size=\"14.00\">obl</text>\n",
       "</g>\n",
       "<!-- 5 -->\n",
       "<g id=\"node8\" class=\"node\"><title>5</title>\n",
       "<text text-anchor=\"middle\" x=\"44\" y=\"-101.3\" font-family=\"Times,serif\" font-size=\"14.00\">5 (на)</text>\n",
       "</g>\n",
       "<!-- 7&#45;&gt;5 -->\n",
       "<g id=\"edge6\" class=\"edge\"><title>7&#45;&gt;5</title>\n",
       "<path fill=\"none\" stroke=\"black\" d=\"M113.394,-173.799C100.659,-161.356 83.2671,-144.364 69.081,-130.504\"/>\n",
       "<polygon fill=\"black\" stroke=\"black\" points=\"71.1783,-127.66 61.5796,-123.175 66.2865,-132.667 71.1783,-127.66\"/>\n",
       "<text text-anchor=\"middle\" x=\"105\" y=\"-144.8\" font-family=\"Times,serif\" font-size=\"14.00\">case</text>\n",
       "</g>\n",
       "<!-- 6 -->\n",
       "<g id=\"node9\" class=\"node\"><title>6</title>\n",
       "<text text-anchor=\"middle\" x=\"131\" y=\"-101.3\" font-family=\"Times,serif\" font-size=\"14.00\">6 (учебные)</text>\n",
       "</g>\n",
       "<!-- 7&#45;&gt;6 -->\n",
       "<g id=\"edge8\" class=\"edge\"><title>7&#45;&gt;6</title>\n",
       "<path fill=\"none\" stroke=\"black\" d=\"M131,-173.799C131,-162.163 131,-146.548 131,-133.237\"/>\n",
       "<polygon fill=\"black\" stroke=\"black\" points=\"134.5,-133.175 131,-123.175 127.5,-133.175 134.5,-133.175\"/>\n",
       "<text text-anchor=\"middle\" x=\"146.5\" y=\"-144.8\" font-family=\"Times,serif\" font-size=\"14.00\">amod</text>\n",
       "</g>\n",
       "<!-- 8 -->\n",
       "<g id=\"node10\" class=\"node\"><title>8</title>\n",
       "<text text-anchor=\"middle\" x=\"218\" y=\"-101.3\" font-family=\"Times,serif\" font-size=\"14.00\">8 (,)</text>\n",
       "</g>\n",
       "<!-- 7&#45;&gt;8 -->\n",
       "<g id=\"edge7\" class=\"edge\"><title>7&#45;&gt;8</title>\n",
       "<path fill=\"none\" stroke=\"black\" d=\"M148.606,-173.799C161.341,-161.356 178.733,-144.364 192.919,-130.504\"/>\n",
       "<polygon fill=\"black\" stroke=\"black\" points=\"195.714,-132.667 200.42,-123.175 190.822,-127.66 195.714,-132.667\"/>\n",
       "<text text-anchor=\"middle\" x=\"195.5\" y=\"-144.8\" font-family=\"Times,serif\" font-size=\"14.00\">punct</text>\n",
       "</g>\n",
       "<!-- 9 -->\n",
       "<g id=\"node11\" class=\"node\"><title>9</title>\n",
       "<text text-anchor=\"middle\" x=\"259\" y=\"-362.3\" font-family=\"Times,serif\" font-size=\"14.00\">9 (к)</text>\n",
       "</g>\n",
       "<!-- 10&#45;&gt;9 -->\n",
       "<g id=\"edge9\" class=\"edge\"><title>10&#45;&gt;9</title>\n",
       "<path fill=\"none\" stroke=\"black\" d=\"M259.798,-434.799C259.661,-423.163 259.477,-407.548 259.32,-394.237\"/>\n",
       "<polygon fill=\"black\" stroke=\"black\" points=\"262.82,-394.134 259.202,-384.175 255.82,-394.216 262.82,-394.134\"/>\n",
       "<text text-anchor=\"middle\" x=\"272\" y=\"-405.8\" font-family=\"Times,serif\" font-size=\"14.00\">case</text>\n",
       "</g>\n",
       "<!-- 18 -->\n",
       "<g id=\"node13\" class=\"node\"><title>18</title>\n",
       "<text text-anchor=\"middle\" x=\"346\" y=\"-362.3\" font-family=\"Times,serif\" font-size=\"14.00\">18 (сборов)</text>\n",
       "</g>\n",
       "<!-- 10&#45;&gt;18 -->\n",
       "<g id=\"edge10\" class=\"edge\"><title>10&#45;&gt;18</title>\n",
       "<path fill=\"none\" stroke=\"black\" d=\"M277.403,-434.799C289.993,-422.356 307.184,-405.364 321.207,-391.504\"/>\n",
       "<polygon fill=\"black\" stroke=\"black\" points=\"323.971,-393.694 328.622,-384.175 319.05,-388.716 323.971,-393.694\"/>\n",
       "<text text-anchor=\"middle\" x=\"325\" y=\"-405.8\" font-family=\"Times,serif\" font-size=\"14.00\">nmod</text>\n",
       "</g>\n",
       "<!-- 11 -->\n",
       "<g id=\"node14\" class=\"node\"><title>11</title>\n",
       "<text text-anchor=\"middle\" x=\"245\" y=\"-275.3\" font-family=\"Times,serif\" font-size=\"14.00\">11 (иных)</text>\n",
       "</g>\n",
       "<!-- 18&#45;&gt;11 -->\n",
       "<g id=\"edge17\" class=\"edge\"><title>18&#45;&gt;11</title>\n",
       "<path fill=\"none\" stroke=\"black\" d=\"M325.561,-347.799C310.502,-335.126 289.836,-317.734 273.206,-303.738\"/>\n",
       "<polygon fill=\"black\" stroke=\"black\" points=\"275.313,-300.937 265.408,-297.175 270.806,-306.292 275.313,-300.937\"/>\n",
       "<text text-anchor=\"middle\" x=\"317.5\" y=\"-318.8\" font-family=\"Times,serif\" font-size=\"14.00\">amod</text>\n",
       "</g>\n",
       "<!-- 17 -->\n",
       "<g id=\"node20\" class=\"node\"><title>17</title>\n",
       "<text text-anchor=\"middle\" x=\"346\" y=\"-275.3\" font-family=\"Times,serif\" font-size=\"14.00\">17 (учебных)</text>\n",
       "</g>\n",
       "<!-- 18&#45;&gt;17 -->\n",
       "<g id=\"edge18\" class=\"edge\"><title>18&#45;&gt;17</title>\n",
       "<path fill=\"none\" stroke=\"black\" d=\"M346,-347.799C346,-336.163 346,-320.548 346,-307.237\"/>\n",
       "<polygon fill=\"black\" stroke=\"black\" points=\"349.5,-307.175 346,-297.175 342.5,-307.175 349.5,-307.175\"/>\n",
       "<text text-anchor=\"middle\" x=\"361.5\" y=\"-318.8\" font-family=\"Times,serif\" font-size=\"14.00\">amod</text>\n",
       "</g>\n",
       "<!-- 19 -->\n",
       "<g id=\"node21\" class=\"node\"><title>19</title>\n",
       "<text text-anchor=\"middle\" x=\"471\" y=\"-275.3\" font-family=\"Times,serif\" font-size=\"14.00\">19 (обязанностей)</text>\n",
       "</g>\n",
       "<!-- 18&#45;&gt;19 -->\n",
       "<g id=\"edge16\" class=\"edge\"><title>18&#45;&gt;19</title>\n",
       "<path fill=\"none\" stroke=\"black\" d=\"M371.296,-347.799C390.272,-334.895 416.442,-317.099 437.209,-302.978\"/>\n",
       "<polygon fill=\"black\" stroke=\"black\" points=\"439.441,-305.693 445.742,-297.175 435.505,-299.904 439.441,-305.693\"/>\n",
       "<text text-anchor=\"middle\" x=\"432\" y=\"-318.8\" font-family=\"Times,serif\" font-size=\"14.00\">nmod</text>\n",
       "</g>\n",
       "<!-- 12 -->\n",
       "<g id=\"node15\" class=\"node\"><title>12</title>\n",
       "<text text-anchor=\"middle\" x=\"229\" y=\"-188.3\" font-family=\"Times,serif\" font-size=\"14.00\">12 (,)</text>\n",
       "</g>\n",
       "<!-- 11&#45;&gt;12 -->\n",
       "<g id=\"edge11\" class=\"edge\"><title>11&#45;&gt;12</title>\n",
       "<path fill=\"none\" stroke=\"black\" d=\"M241.762,-260.799C239.572,-249.163 236.633,-233.548 234.127,-220.237\"/>\n",
       "<polygon fill=\"black\" stroke=\"black\" points=\"237.523,-219.355 232.233,-210.175 230.643,-220.65 237.523,-219.355\"/>\n",
       "<text text-anchor=\"middle\" x=\"253.5\" y=\"-231.8\" font-family=\"Times,serif\" font-size=\"14.00\">punct</text>\n",
       "</g>\n",
       "<!-- 14 -->\n",
       "<g id=\"node16\" class=\"node\"><title>14</title>\n",
       "<text text-anchor=\"middle\" x=\"326\" y=\"-188.3\" font-family=\"Times,serif\" font-size=\"14.00\">14 (связанных)</text>\n",
       "</g>\n",
       "<!-- 11&#45;&gt;14 -->\n",
       "<g id=\"edge12\" class=\"edge\"><title>11&#45;&gt;14</title>\n",
       "<path fill=\"none\" stroke=\"black\" d=\"M261.392,-260.799C273.249,-248.356 289.441,-231.364 302.649,-217.504\"/>\n",
       "<polygon fill=\"black\" stroke=\"black\" points=\"305.268,-219.829 309.633,-210.175 300.2,-215 305.268,-219.829\"/>\n",
       "<text text-anchor=\"middle\" x=\"303\" y=\"-231.8\" font-family=\"Times,serif\" font-size=\"14.00\">conj</text>\n",
       "</g>\n",
       "<!-- 13 -->\n",
       "<g id=\"node17\" class=\"node\"><title>13</title>\n",
       "<text text-anchor=\"middle\" x=\"308\" y=\"-101.3\" font-family=\"Times,serif\" font-size=\"14.00\">13 (не)</text>\n",
       "</g>\n",
       "<!-- 14&#45;&gt;13 -->\n",
       "<g id=\"edge14\" class=\"edge\"><title>14&#45;&gt;13</title>\n",
       "<path fill=\"none\" stroke=\"black\" d=\"M322.357,-173.799C319.893,-162.163 316.587,-146.548 313.768,-133.237\"/>\n",
       "<polygon fill=\"black\" stroke=\"black\" points=\"317.133,-132.233 311.637,-123.175 310.285,-133.684 317.133,-132.233\"/>\n",
       "<text text-anchor=\"middle\" x=\"341.5\" y=\"-144.8\" font-family=\"Times,serif\" font-size=\"14.00\">advmod</text>\n",
       "</g>\n",
       "<!-- 16 -->\n",
       "<g id=\"node18\" class=\"node\"><title>16</title>\n",
       "<text text-anchor=\"middle\" x=\"419\" y=\"-101.3\" font-family=\"Times,serif\" font-size=\"14.00\">16 (прохождением)</text>\n",
       "</g>\n",
       "<!-- 14&#45;&gt;16 -->\n",
       "<g id=\"edge13\" class=\"edge\"><title>14&#45;&gt;16</title>\n",
       "<path fill=\"none\" stroke=\"black\" d=\"M347.22,-173.88C353.961,-168.292 361.382,-161.984 368,-156 377.013,-147.85 386.6,-138.613 394.999,-130.315\"/>\n",
       "<polygon fill=\"black\" stroke=\"black\" points=\"397.713,-132.553 402.329,-123.017 392.774,-127.592 397.713,-132.553\"/>\n",
       "<text text-anchor=\"middle\" x=\"393\" y=\"-144.8\" font-family=\"Times,serif\" font-size=\"14.00\">obl</text>\n",
       "</g>\n",
       "<!-- 15 -->\n",
       "<g id=\"node19\" class=\"node\"><title>15</title>\n",
       "<text text-anchor=\"middle\" x=\"419\" y=\"-14.3\" font-family=\"Times,serif\" font-size=\"14.00\">15 (с)</text>\n",
       "</g>\n",
       "<!-- 16&#45;&gt;15 -->\n",
       "<g id=\"edge15\" class=\"edge\"><title>16&#45;&gt;15</title>\n",
       "<path fill=\"none\" stroke=\"black\" d=\"M419,-86.799C419,-75.1626 419,-59.5479 419,-46.2368\"/>\n",
       "<polygon fill=\"black\" stroke=\"black\" points=\"422.5,-46.1754 419,-36.1754 415.5,-46.1755 422.5,-46.1754\"/>\n",
       "<text text-anchor=\"middle\" x=\"431\" y=\"-57.8\" font-family=\"Times,serif\" font-size=\"14.00\">case</text>\n",
       "</g>\n",
       "<!-- 20 -->\n",
       "<g id=\"node22\" class=\"node\"><title>20</title>\n",
       "<text text-anchor=\"middle\" x=\"471\" y=\"-188.3\" font-family=\"Times,serif\" font-size=\"14.00\">20 (,)</text>\n",
       "</g>\n",
       "<!-- 19&#45;&gt;20 -->\n",
       "<g id=\"edge19\" class=\"edge\"><title>19&#45;&gt;20</title>\n",
       "<path fill=\"none\" stroke=\"black\" d=\"M471,-260.799C471,-249.163 471,-233.548 471,-220.237\"/>\n",
       "<polygon fill=\"black\" stroke=\"black\" points=\"474.5,-220.175 471,-210.175 467.5,-220.175 474.5,-220.175\"/>\n",
       "<text text-anchor=\"middle\" x=\"486.5\" y=\"-231.8\" font-family=\"Times,serif\" font-size=\"14.00\">punct</text>\n",
       "</g>\n",
       "</g>\n",
       "</svg>\n"
      ],
      "text/plain": [
       "<DependencyGraph with 23 nodes>"
      ]
     },
     "execution_count": 38,
     "metadata": {},
     "output_type": "execute_result"
    }
   ],
   "source": [
    "dg"
   ]
  },
  {
   "cell_type": "code",
   "execution_count": 37,
   "metadata": {},
   "outputs": [
    {
     "data": {
      "text/plain": [
       "[(0, 21),\n",
       " (1, 2),\n",
       " (2, 3),\n",
       " (2, 4),\n",
       " (4, 7),\n",
       " (7, 5),\n",
       " (7, 8),\n",
       " (7, 6),\n",
       " (10, 9),\n",
       " (10, 18),\n",
       " (11, 12),\n",
       " (11, 14),\n",
       " (14, 16),\n",
       " (14, 13),\n",
       " (16, 15),\n",
       " (18, 19),\n",
       " (18, 11),\n",
       " (18, 17),\n",
       " (19, 20),\n",
       " (21, 10),\n",
       " (21, 1),\n",
       " (21, 22)]"
      ]
     },
     "execution_count": 37,
     "metadata": {},
     "output_type": "execute_result"
    }
   ],
   "source": [
    "edges"
   ]
  },
  {
   "cell_type": "code",
   "execution_count": 39,
   "metadata": {
    "collapsed": true
   },
   "outputs": [],
   "source": [
    "graph = nx.Graph()\n",
    "graph.add_edges_from(ebunch=edges)"
   ]
  },
  {
   "cell_type": "code",
   "execution_count": 40,
   "metadata": {},
   "outputs": [
    {
     "data": {
      "text/plain": [
       "[1, 21, 10]"
      ]
     },
     "execution_count": 40,
     "metadata": {},
     "output_type": "execute_result"
    }
   ],
   "source": [
    "nx.shortest_path(graph, 1, 10)"
   ]
  },
  {
   "cell_type": "markdown",
   "metadata": {},
   "source": [
    "Ещё с помощью деревьев завимимостей можно находить похожие по структуре предложения. Похожесть графов не тривиальная проблема, но кое-что готовое есть.\n",
    "\n",
    "Например, есть библиотека zss (https://github.com/timtadh/zhang-shasha), которая реализует алгоритм редактирования деревьев (примерно как с Левенштейном, но с учетом структуры дерева)."
   ]
  },
  {
   "cell_type": "markdown",
   "metadata": {},
   "source": [
    "По умолчанию разница высчитывается на основе расстояния между названиями узлов и для своих задач её лучше переопределить."
   ]
  },
  {
   "cell_type": "code",
   "execution_count": 4,
   "metadata": {
    "collapsed": true
   },
   "outputs": [],
   "source": [
    "import zss\n",
    "import re"
   ]
  },
  {
   "cell_type": "code",
   "execution_count": 6,
   "metadata": {
    "collapsed": true
   },
   "outputs": [],
   "source": [
    "# эта функция достает поддерво элементов\n",
    "# c дополнительной информацией и возвращает\n",
    "# все в нужном zss формате\n",
    "\n",
    "def subtree(node, tree):\n",
    "    if not tree[node]['deps']:\n",
    "        word = tree[node]['word'].replace(\"'\", '\"')\n",
    "        \n",
    "        if not word:\n",
    "            word = 'UNK'\n",
    "        pos = tree[node]['ctag'].replace(\"'\", '\"')\n",
    "        rel = tree[node]['rel'].replace(\"'\", '\"')\n",
    "        label = 'WORD=#{}#,POS=#{}#,REL=#{}#'.format(word, pos, rel)\n",
    "        return \"WNode('{}', [])\".format(label)\n",
    "    else:\n",
    "        sub = []\n",
    "        for dep in tree[node]['deps']:\n",
    "            for n in tree[node]['deps'][dep]:\n",
    "                sub.append(subtree(n, tree))\n",
    "        \n",
    "        if not tree[node]['rel']:\n",
    "            if tree[node]['ctag'] == 'TOP':\n",
    "                name = 'TOP'\n",
    "                word = 'TOP'\n",
    "                if not word:\n",
    "                    word = 'UNK'\n",
    "                pos = 'TOP'\n",
    "                rel = 'TOP'\n",
    "            else:\n",
    "                print('Node numeber - {} is None and not TOP!'.format(node))\n",
    "                raise KeyError\n",
    "        else:    \n",
    "            word = tree[node]['word'].replace(\"'\", '\"')\n",
    "            pos = tree[node]['ctag'].replace(\"'\", '\"')\n",
    "            rel = tree[node]['rel'].replace(\"'\", '\"')\n",
    "        label = 'WORD=#{}#,POS=#{}#,REL=#{}#'.format(word, pos, rel)\n",
    "            \n",
    "        return \"WNode('{}', [{}])\".format(label , ', '.join(sub))\n",
    "\n",
    "\n",
    "# функция раастояния для деревьев\n",
    "\n",
    "def weird_dist(A, B):\n",
    "    ma = re.search('WORD=#(.*?)#,POS=#(.*?)#,REL=#(.*?)#', A)\n",
    "    mb = re.search('WORD=#(.*?)#,POS=#(.*?)#,REL=#(.*?)#', B)\n",
    "    \n",
    "    # для удаления \n",
    "    if not ma and mb: # сколько стоит добавление узла\n",
    "        return 1\n",
    "    elif ma and not mb: # сколько стоит удаление узла\n",
    "        return 3\n",
    "    elif not ma and not mb:\n",
    "        return 0\n",
    "    \n",
    "    # для расчета расстояния можно учитывать само слов\n",
    "    # часть речи, отношение и любую другую информацию\n",
    "    \n",
    "    word_a, pos_a, rel_a = ma.groups()\n",
    "    word_b, pos_b, rel_b = mb.groups()\n",
    "    \n",
    "    \n",
    "    dist = 0\n",
    "    \n",
    "    \n",
    "    if word_a != word_b:\n",
    "        dist += 1\n",
    "    \n",
    "    if pos_a != pos_b:\n",
    "        dist += 1\n",
    "    \n",
    "    if rel_a != rel_b:\n",
    "        dist += 1\n",
    "    \n",
    "    \n",
    "    return dist\n",
    "\n",
    "# специальный класс для zss\n",
    "class WNode(object):\n",
    "\n",
    "    def __init__(self, label, children=None):\n",
    "        self.my_label = label\n",
    "        self.my_children = children or list()\n",
    "\n",
    "    @staticmethod\n",
    "    def get_children(node):\n",
    "        return node.my_children\n",
    "\n",
    "    @staticmethod\n",
    "    def get_label(node):\n",
    "        return node.my_label\n",
    "\n",
    "    def addkid(self, node, before=False):\n",
    "        if before:  self.my_children.insert(0, node)\n",
    "        else:   self.my_children.append(node)\n",
    "        return self\n",
    "    \n",
    "    def __str__(self):\n",
    "        s = \"%d:%s\" % (len(self.my_children), self.my_label)\n",
    "        s = '\\n'.join([s]+[str(c) for c in self.my_children])\n",
    "        return s\n",
    "\n"
   ]
  },
  {
   "cell_type": "code",
   "execution_count": 7,
   "metadata": {},
   "outputs": [
    {
     "name": "stdout",
     "output_type": "stream",
     "text": [
      "63\n"
     ]
    }
   ],
   "source": [
    "A = eval(subtree(0, DependencyGraph(trees[123]).nodes))\n",
    "B = eval(subtree(0, DependencyGraph(trees[1223]).nodes))\n",
    "print(zss.simple_distance(A, B, WNode.get_children, \n",
    "                                   WNode.get_label, weird_dist))"
   ]
  },
  {
   "cell_type": "markdown",
   "metadata": {},
   "source": [
    "Посравниваем деревья."
   ]
  },
  {
   "cell_type": "code",
   "execution_count": 8,
   "metadata": {},
   "outputs": [
    {
     "name": "stdout",
     "output_type": "stream",
     "text": [
      "0\n",
      "1\n",
      "2\n",
      "3\n",
      "4\n",
      "5\n",
      "6\n",
      "7\n",
      "8\n",
      "9\n",
      "10\n",
      "11\n",
      "12\n",
      "13\n",
      "14\n",
      "15\n",
      "16\n",
      "17\n"
     ]
    },
    {
     "ename": "KeyboardInterrupt",
     "evalue": "",
     "output_type": "error",
     "traceback": [
      "\u001b[0;31m---------------------------------------------------------------------------\u001b[0m",
      "\u001b[0;31mKeyboardInterrupt\u001b[0m                         Traceback (most recent call last)",
      "\u001b[0;32m<ipython-input-8-e023c2986441>\u001b[0m in \u001b[0;36m<module>\u001b[0;34m()\u001b[0m\n\u001b[1;32m      9\u001b[0m             \u001b[0mB\u001b[0m \u001b[0;34m=\u001b[0m \u001b[0meval\u001b[0m\u001b[0;34m(\u001b[0m\u001b[0msubtree\u001b[0m\u001b[0;34m(\u001b[0m\u001b[0;36m0\u001b[0m\u001b[0;34m,\u001b[0m \u001b[0mDependencyGraph\u001b[0m\u001b[0;34m(\u001b[0m\u001b[0mtrees\u001b[0m\u001b[0;34m[\u001b[0m\u001b[0mj\u001b[0m\u001b[0;34m]\u001b[0m\u001b[0;34m)\u001b[0m\u001b[0;34m.\u001b[0m\u001b[0mnodes\u001b[0m\u001b[0;34m)\u001b[0m\u001b[0;34m)\u001b[0m\u001b[0;34m\u001b[0m\u001b[0m\n\u001b[1;32m     10\u001b[0m             dist = zss.simple_distance(A, B, WNode.get_children, \n\u001b[0;32m---> 11\u001b[0;31m                                        WNode.get_label, weird_dist)\n\u001b[0m\u001b[1;32m     12\u001b[0m             \u001b[0mdistances\u001b[0m\u001b[0;34m.\u001b[0m\u001b[0mappend\u001b[0m\u001b[0;34m(\u001b[0m\u001b[0;34m(\u001b[0m\u001b[0mi\u001b[0m\u001b[0;34m,\u001b[0m \u001b[0mj\u001b[0m\u001b[0;34m,\u001b[0m \u001b[0mdist\u001b[0m\u001b[0;34m)\u001b[0m\u001b[0;34m)\u001b[0m\u001b[0;34m\u001b[0m\u001b[0m\n\u001b[1;32m     13\u001b[0m     \u001b[0;32mexcept\u001b[0m \u001b[0mTypeError\u001b[0m\u001b[0;34m:\u001b[0m\u001b[0;34m\u001b[0m\u001b[0m\n",
      "\u001b[0;32m/usr/local/lib/python3.5/dist-packages/zss/compare.py\u001b[0m in \u001b[0;36msimple_distance\u001b[0;34m(A, B, get_children, get_label, label_dist)\u001b[0m\n\u001b[1;32m    122\u001b[0m         \u001b[0minsert_cost\u001b[0m\u001b[0;34m=\u001b[0m\u001b[0;32mlambda\u001b[0m \u001b[0mnode\u001b[0m\u001b[0;34m:\u001b[0m \u001b[0mlabel_dist\u001b[0m\u001b[0;34m(\u001b[0m\u001b[0;34m''\u001b[0m\u001b[0;34m,\u001b[0m \u001b[0mget_label\u001b[0m\u001b[0;34m(\u001b[0m\u001b[0mnode\u001b[0m\u001b[0;34m)\u001b[0m\u001b[0;34m)\u001b[0m\u001b[0;34m,\u001b[0m\u001b[0;34m\u001b[0m\u001b[0m\n\u001b[1;32m    123\u001b[0m         \u001b[0mremove_cost\u001b[0m\u001b[0;34m=\u001b[0m\u001b[0;32mlambda\u001b[0m \u001b[0mnode\u001b[0m\u001b[0;34m:\u001b[0m \u001b[0mlabel_dist\u001b[0m\u001b[0;34m(\u001b[0m\u001b[0mget_label\u001b[0m\u001b[0;34m(\u001b[0m\u001b[0mnode\u001b[0m\u001b[0;34m)\u001b[0m\u001b[0;34m,\u001b[0m \u001b[0;34m''\u001b[0m\u001b[0;34m)\u001b[0m\u001b[0;34m,\u001b[0m\u001b[0;34m\u001b[0m\u001b[0m\n\u001b[0;32m--> 124\u001b[0;31m         \u001b[0mupdate_cost\u001b[0m\u001b[0;34m=\u001b[0m\u001b[0;32mlambda\u001b[0m \u001b[0ma\u001b[0m\u001b[0;34m,\u001b[0m \u001b[0mb\u001b[0m\u001b[0;34m:\u001b[0m \u001b[0mlabel_dist\u001b[0m\u001b[0;34m(\u001b[0m\u001b[0mget_label\u001b[0m\u001b[0;34m(\u001b[0m\u001b[0ma\u001b[0m\u001b[0;34m)\u001b[0m\u001b[0;34m,\u001b[0m \u001b[0mget_label\u001b[0m\u001b[0;34m(\u001b[0m\u001b[0mb\u001b[0m\u001b[0;34m)\u001b[0m\u001b[0;34m)\u001b[0m\u001b[0;34m,\u001b[0m\u001b[0;34m\u001b[0m\u001b[0m\n\u001b[0m\u001b[1;32m    125\u001b[0m     )\n\u001b[1;32m    126\u001b[0m \u001b[0;34m\u001b[0m\u001b[0m\n",
      "\u001b[0;32m/usr/local/lib/python3.5/dist-packages/zss/compare.py\u001b[0m in \u001b[0;36mdistance\u001b[0;34m(A, B, get_children, insert_cost, remove_cost, update_cost)\u001b[0m\n\u001b[1;32m    212\u001b[0m     \u001b[0;32mfor\u001b[0m \u001b[0mi\u001b[0m \u001b[0;32min\u001b[0m \u001b[0mA\u001b[0m\u001b[0;34m.\u001b[0m\u001b[0mkeyroots\u001b[0m\u001b[0;34m:\u001b[0m\u001b[0;34m\u001b[0m\u001b[0m\n\u001b[1;32m    213\u001b[0m         \u001b[0;32mfor\u001b[0m \u001b[0mj\u001b[0m \u001b[0;32min\u001b[0m \u001b[0mB\u001b[0m\u001b[0;34m.\u001b[0m\u001b[0mkeyroots\u001b[0m\u001b[0;34m:\u001b[0m\u001b[0;34m\u001b[0m\u001b[0m\n\u001b[0;32m--> 214\u001b[0;31m             \u001b[0mtreedist\u001b[0m\u001b[0;34m(\u001b[0m\u001b[0mi\u001b[0m\u001b[0;34m,\u001b[0m\u001b[0mj\u001b[0m\u001b[0;34m)\u001b[0m\u001b[0;34m\u001b[0m\u001b[0m\n\u001b[0m\u001b[1;32m    215\u001b[0m \u001b[0;34m\u001b[0m\u001b[0m\n\u001b[1;32m    216\u001b[0m     \u001b[0;32mreturn\u001b[0m \u001b[0mtreedists\u001b[0m\u001b[0;34m[\u001b[0m\u001b[0;34m-\u001b[0m\u001b[0;36m1\u001b[0m\u001b[0;34m]\u001b[0m\u001b[0;34m[\u001b[0m\u001b[0;34m-\u001b[0m\u001b[0;36m1\u001b[0m\u001b[0;34m]\u001b[0m\u001b[0;34m\u001b[0m\u001b[0m\n",
      "\u001b[0;31mKeyboardInterrupt\u001b[0m: "
     ]
    }
   ],
   "source": [
    "distances = []\n",
    "for i in range(0, 500):\n",
    "    \n",
    "    \n",
    "    try:\n",
    "        A = eval(subtree(0, DependencyGraph(trees[i]).nodes))\n",
    "        print(i)\n",
    "        for j in np.random.choice(range(len(trees)), 100):\n",
    "            B = eval(subtree(0, DependencyGraph(trees[j]).nodes))\n",
    "            dist = zss.simple_distance(A, B, WNode.get_children, \n",
    "                                       WNode.get_label, weird_dist)\n",
    "            distances.append((i, j, dist))\n",
    "    except TypeError:\n",
    "        continue"
   ]
  },
  {
   "cell_type": "markdown",
   "metadata": {},
   "source": [
    "Посмотрим, что нашлось."
   ]
  },
  {
   "cell_type": "code",
   "execution_count": 131,
   "metadata": {},
   "outputs": [],
   "source": [
    "# sorted(distances, key=lambda x: x[2])"
   ]
  },
  {
   "cell_type": "code",
   "execution_count": 26,
   "metadata": {},
   "outputs": [
    {
     "data": {
      "text/plain": [
       "['1 Панихиду Панихида VERB _ Aspect=Perf|Mood=Ind|Number=Sing|Person=1|Tense=Fut|VerbForm=Fin|Voice=Act 0 root _ _',\n",
       " '2 по по ADP _ _ 3 case _ _',\n",
       " '3 жертвам жертва NOUN _ Animacy=Anim|Case=Dat|Gender=Fem|Number=Plur 1 obl _ _',\n",
       " '4 трагедии трагедия NOUN _ Animacy=Inan|Case=Gen|Gender=Fem|Number=Sing 3 nmod _ SpaceAfter=No',\n",
       " '5 , , PUNCT _ _ 4 punct _ _',\n",
       " '6 произошедшей произоходить VERB _ Aspect=Perf|Case=Loc|Gender=Fem|Number=Sing|Tense=Past|VerbForm=Part|Voice=Act 3 amod _ _',\n",
       " '7 в в ADP _ _ 8 case _ _',\n",
       " '8 Одессе одесса PROPN _ Animacy=Inan|Case=Loc|Gender=Fem|Number=Sing 6 obl _ _',\n",
       " '9 2 2 NUM _ _ 6 nummod _ _',\n",
       " '10 мая май NOUN _ Animacy=Inan|Case=Gen|Gender=Masc|Number=Sing 9 nmod _ SpaceAfter=No',\n",
       " '11 , , PUNCT _ _ 10 punct _ _',\n",
       " '12 отслужили отслуживать VERB _ Aspect=Perf|Mood=Ind|Number=Plur|Tense=Past|VerbForm=Fin|Voice=Act 1 parataxis _ _',\n",
       " '13 в в ADP _ _ 14 case _ _',\n",
       " '14 воскресенье воскресенье NOUN _ Animacy=Inan|Case=Acc|Gender=Neut|Number=Sing 12 obl _ _',\n",
       " '15 2 2 NUM _ _ 16 nummod _ _',\n",
       " '16 ноября ноябрь NOUN _ Animacy=Inan|Case=Gen|Gender=Masc|Number=Sing 12 obl _ _',\n",
       " '17 в в ADP _ _ 18 case _ _',\n",
       " '18 храме храм NOUN _ Animacy=Inan|Case=Loc|Gender=Masc|Number=Sing 16 nmod _ _',\n",
       " '19 Живоначальной Живоначальный ADJ _ Case=Gen|Degree=Pos|Gender=Fem|Number=Sing 20 amod _ _',\n",
       " '20 Троицы Троица PROPN _ Animacy=Inan|Case=Gen|Gender=Fem|Number=Sing 18 nmod _ _',\n",
       " '21 на на ADP _ _ 23 case _ _',\n",
       " '22 Воробьевых Воробьевой ADJ _ Case=Loc|Degree=Pos|Number=Plur 23 amod _ _',\n",
       " '23 горах гора NOUN _ Animacy=Inan|Case=Loc|Gender=Fem|Number=Plur 16 nmod _ _',\n",
       " '24 в в ADP _ _ 25 case _ _',\n",
       " '25 Москве москва PROPN _ Animacy=Inan|Case=Loc|Gender=Fem|Number=Sing 23 nmod _ _']"
      ]
     },
     "execution_count": 26,
     "metadata": {},
     "output_type": "execute_result"
    }
   ],
   "source": [
    "\n",
    "[x.replace('\\t', ' ') for x in trees[0].split('\\n')]"
   ]
  },
  {
   "cell_type": "code",
   "execution_count": null,
   "metadata": {
    "collapsed": true
   },
   "outputs": [],
   "source": []
  },
  {
   "cell_type": "code",
   "execution_count": 27,
   "metadata": {},
   "outputs": [
    {
     "data": {
      "text/plain": [
       "['1 ЗАСО ЗАСО ADP _ _ 3 case _ _',\n",
       " '2 \" \" PUNCT _ _ 3 punct _ SpaceAfter=No',\n",
       " '3 Белнефтестрах Белнефтестра PROPN _ Animacy=Inan|Case=Loc|Gender=Fem|Number=Plur 0 root _ SpaceAfter=No',\n",
       " '4 \" \" PUNCT _ _ 3 punct _ _',\n",
       " '5 - - PUNCT _ _ 3 punct _ _',\n",
       " '6 Высококачественное высококачественный ADJ _ Case=Nom|Degree=Pos|Gender=Neut|Number=Sing 7 amod _ _',\n",
       " '7 страхование страхование NOUN _ Animacy=Inan|Case=Nom|Gender=Neut|Number=Sing 3 parataxis _ _',\n",
       " '8 для для ADP _ _ 12 case _ _',\n",
       " '9 физических физический ADJ _ Case=Gen|Degree=Pos|Number=Plur 12 amod _ _',\n",
       " '10 и и CCONJ _ _ 11 cc _ _',\n",
       " '11 юридических юридический ADJ _ Case=Gen|Degree=Pos|Number=Plur 9 conj _ _',\n",
       " '12 лиц лицо NOUN _ Animacy=Anim|Case=Gen|Gender=Neut|Number=Plur 7 nmod _ _',\n",
       " '13 в в ADP _ _ 14 case _ _',\n",
       " '14 Беларуси Беларусь PROPN _ Animacy=Inan|Case=Loc|Gender=Fem|Number=Sing 12 nmod _ _']"
      ]
     },
     "execution_count": 27,
     "metadata": {},
     "output_type": "execute_result"
    }
   ],
   "source": [
    "# Как выглядит его дерево\n",
    "[x.replace('\\t', ' ') for x in trees[9371].split('\\n')]"
   ]
  },
  {
   "cell_type": "code",
   "execution_count": 58,
   "metadata": {
    "collapsed": true
   },
   "outputs": [],
   "source": [
    "WNode('WORD=#TOP#,POS=#TOP#,REL=#TOP#', [WNode('WORD=#презентовала#,POS=#VERB#,REL=#root#', [WNode('WORD=#Компания#,POS=#PROPN#,REL=#nsubj#', [WNode('WORD=#ИНТРА»#,POS=#PROPN#,REL=#flat:name#', []), WNode('WORD=#«Сервисная#,POS=#ADJ#,REL=#amod#', [])]), WNode('WORD=#21#,POS=#NUM#,REL=#nummod#', [WNode('WORD=#-#,POS=#PUNCT#,REL=#punct#', []), WNode('WORD=#июня#,POS=#NOUN#,REL=#nmod#', [WNode('WORD=#ООО#,POS=#PROPN#,REL=#nmod#', [])]), WNode('WORD=#22#,POS=#NUM#,REL=#nummod#', [])]), WNode('WORD=#технологии#,POS=#NOUN#,REL=#obj#', [WNode('WORD=#ремонта#,POS=#NOUN#,REL=#nmod#', [WNode('WORD=#композитного#,POS=#ADJ#,REL=#amod#', [])]), WNode('WORD=#конференции#,POS=#NOUN#,REL=#nmod#', [WNode('WORD=#на#,POS=#ADP#,REL=#case#', []), WNode('WORD=#ТРУБОПРОВОДЫ#,POS=#PROPN#,REL=#appos#', [WNode('WORD=#'2016#,POS=#X#,REL=#flat:foreign#', []), WNode('WORD=#ПРОМЫСЛОВЫЕ#,POS=#ADJ#,REL=#amod#', [])]), WNode('WORD=#5-ой#,POS=#ADJ#,REL=#amod#', []), WNode('WORD=#Ежегодной#,POS=#ADJ#,REL=#amod#', []), WNode('WORD=#технической#,POS=#ADJ#,REL=#amod#', [WNode('WORD=#производственно#,POS=#ADJ#,REL=#compound#', [WNode('WORD=#-#,POS=#PUNCT#,REL=#punct#', [])])])])])])])"
   ]
  },
  {
   "cell_type": "code",
   "execution_count": 59,
   "metadata": {},
   "outputs": [
    {
     "data": {
      "text/plain": [
       "66"
      ]
     },
     "execution_count": 59,
     "metadata": {},
     "output_type": "execute_result"
    }
   ],
   "source": [
    "dist"
   ]
  }
 ],
 "metadata": {
  "kernelspec": {
   "display_name": "Python 3",
   "language": "python",
   "name": "python3"
  },
  "language_info": {
   "codemirror_mode": {
    "name": "ipython",
    "version": 3
   },
   "file_extension": ".py",
   "mimetype": "text/x-python",
   "name": "python",
   "nbconvert_exporter": "python",
   "pygments_lexer": "ipython3",
   "version": "3.6.3"
  }
 },
 "nbformat": 4,
 "nbformat_minor": 2
}
