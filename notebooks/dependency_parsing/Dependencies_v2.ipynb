{
 "cells": [
  {
   "cell_type": "markdown",
   "metadata": {},
   "source": [
    "## Зависимостный парсинг (Dependency parsing)"
   ]
  },
  {
   "cell_type": "markdown",
   "metadata": {},
   "source": [
    "Зависимостный парсинг - одна из немногих задач, где лингвистика и компьютерные науки продуктивно взаимодействуют. Основную теорию тут разрабатывают лингвисты, они же размечают корпусы, а модели построены на самых последних разробтах в области машинного обучения."
   ]
  },
  {
   "cell_type": "markdown",
   "metadata": {},
   "source": [
    "Лингвистическая часть это прежде всего Universal Dependcies - стандарт разметки отношений, объединяющий большое количество языков. \n",
    "    \n",
    "На сайте Universal dependencies есть полное описание всех типов зависимостей, а также ссылки на доступные корпуса (там уже много языков):\n",
    "http://universaldependencies.org/\n",
    "\n",
    "Для русского стандартный корпус - Syntagrus:\n",
    "https://github.com/UniversalDependencies/UD_Russian-SynTagRus\n",
    "\n",
    "И не так давно выпустился корпус Taiga:\n",
    "https://tatianashavrina.github.io/taiga_site/\n",
    "\n"
   ]
  },
  {
   "cell_type": "markdown",
   "metadata": {},
   "source": [
    "Есть несколько хороших моделей, обученных на этих корпусах. **UDPipe** (от Карлова Университета в Чехии), **SyntaxNet** (Google), **MaltParser**, **TurkuNLP**, **Stanford NLP**. \n",
    "\n",
    "Лучшим выбором на данный момент является UDPipe - его просто установить и использовать, да и работает он неплохо. Подробнее про качество работы парсеров для русского языка вы можете узнать в этой статье - https://habr.com/ru/company/sberbank/blog/418701/ "
   ]
  },
  {
   "cell_type": "markdown",
   "metadata": {},
   "source": [
    "Попробуем UDPipe. Нужно установить пакет ufal.udpipe"
   ]
  },
  {
   "cell_type": "code",
   "execution_count": null,
   "metadata": {},
   "outputs": [],
   "source": [
    "#pip install ufal.udpipe"
   ]
  },
  {
   "cell_type": "markdown",
   "metadata": {},
   "source": [
    "А чтобы было удобнее, установим ещё spacy_udpipe. Это spacy-подобный интерфейс к udpipe."
   ]
  },
  {
   "cell_type": "code",
   "execution_count": null,
   "metadata": {},
   "outputs": [],
   "source": [
    "#pip install spacy-udpipe"
   ]
  },
  {
   "cell_type": "code",
   "execution_count": 1,
   "metadata": {},
   "outputs": [],
   "source": [
    "import spacy_udpipe"
   ]
  },
  {
   "cell_type": "code",
   "execution_count": 2,
   "metadata": {},
   "outputs": [],
   "source": [
    "# можно воспольоваться такой командой если вылезает PersmissionError\n",
    "# !sudo chmod 777 /usr/local/lib/python3.6/site-packages/spacy_udpipe/models"
   ]
  },
  {
   "cell_type": "markdown",
   "metadata": {},
   "source": [
    "Скачиваем модель для русского."
   ]
  },
  {
   "cell_type": "code",
   "execution_count": 2,
   "metadata": {},
   "outputs": [
    {
     "name": "stdout",
     "output_type": "stream",
     "text": [
      "Already downloaded a model for the 'ru' language\n"
     ]
    }
   ],
   "source": [
    "spacy_udpipe.download(\"ru\")"
   ]
  },
  {
   "cell_type": "markdown",
   "metadata": {},
   "source": [
    "Загружаем."
   ]
  },
  {
   "cell_type": "code",
   "execution_count": 3,
   "metadata": {},
   "outputs": [],
   "source": [
    "nlp = spacy_udpipe.load(\"ru\")"
   ]
  },
  {
   "cell_type": "markdown",
   "metadata": {},
   "source": [
    "Попробуем разобрать какой-нибудь текст."
   ]
  },
  {
   "cell_type": "code",
   "execution_count": 4,
   "metadata": {},
   "outputs": [
    {
     "name": "stdout",
     "output_type": "stream",
     "text": [
      "1 Более более ADV _ RBR 2 advmod _ _\n",
      "2 150 150 NUM _ CD 3 nummod:gov _ _\n",
      "3 лет год NOUN _ NN 7 obl _ _\n",
      "4 назад назад ADV _ RB 7 advmod _ _\n",
      "5 Майкл Майкл PROPN _ NNP 7 nsubj _ _\n",
      "6 Фарадей Фарадей PROPN _ NNP 5 flat:name _ _\n",
      "7 предположил предположить VERB _ VBC 7 ROOT _ _\n",
      "8 , , PUNCT _ , 12 punct _ _\n",
      "9 что что SCONJ _ IN 12 mark _ _\n",
      "10 скользкость скользкость NOUN _ NN 12 nsubj:pass _ _\n",
      "11 льда лед NOUN _ NN 10 nmod _ _\n",
      "12 связана связать VERB _ VBNH 7 ccomp _ _\n",
      "13 с с ADP _ IN 14 case _ _\n",
      "14 возникновением возникновение NOUN _ NN 12 obl _ _\n",
      "15 тонкого тонкий ADJ _ JJL 16 amod _ _\n",
      "16 слоя слой NOUN _ NN 14 nmod _ _\n",
      "17 жидкой жидкий ADJ _ JJL 18 amod _ _\n",
      "18 воды вода NOUN _ NN 16 nmod _ _\n",
      "19 на на ADP _ IN 21 case _ _\n",
      "20 его его DET _ PRP$ 21 det _ _\n",
      "21 поверхности поверхность NOUN _ NN 12 obl _ _\n",
      "22 . . PUNCT _ . 7 punct _ _\n"
     ]
    }
   ],
   "source": [
    "text = (\"Более 150 лет назад Майкл Фарадей предположил, \"\n",
    "        \"что скользкость льда связана с возникновением тонкого \" \n",
    "        \"слоя жидкой воды на его поверхности.\")\n",
    "\n",
    "# text = 'Я написал любое другое предложение.'\n",
    "doc = nlp(text)\n",
    "for token in doc:\n",
    "    print(token.i+1, token.text, token.lemma_, \n",
    "          token.pos_, '_', token.tag_, token.head.i+1, token.dep_, '_', '_')"
   ]
  },
  {
   "cell_type": "markdown",
   "metadata": {},
   "source": [
    "Формат, в которым мы напечатали текст, называется Conll (по названию конференции Conference on Computational Natural Language Learning, в рамках который проводились и проводятся соревнования по парсингу). "
   ]
  },
  {
   "cell_type": "code",
   "execution_count": 5,
   "metadata": {},
   "outputs": [],
   "source": [
    "tree = []\n",
    "\n",
    "for token in doc:\n",
    "    if token.dep_ == 'ROOT':\n",
    "        tree.append('\\t'.join([str(token.i+1), token.text, token.lemma_, \n",
    "          token.pos_, '_', token.tag_, str(0), token.dep_, '_', '_']))\n",
    "    else:\n",
    "        tree.append('\\t'.join([str(token.i+1), token.text, token.lemma_, \n",
    "          token.pos_, '_', token.tag_, str(token.head.i+1), token.dep_, '_', '_']))"
   ]
  },
  {
   "cell_type": "markdown",
   "metadata": {},
   "source": [
    "Для работы с таким форматов в nltk есть специальный класс - DependencyGraph. Давайте посмотрим, как он работает."
   ]
  },
  {
   "cell_type": "code",
   "execution_count": 6,
   "metadata": {},
   "outputs": [],
   "source": [
    "from nltk.grammar import DependencyGrammar\n",
    "from nltk.parse import DependencyGraph\n",
    "from collections import Counter\n",
    "import numpy as np\n",
    "import re\n",
    "import warnings\n",
    "import os\n",
    "warnings.filterwarnings('ignore')"
   ]
  },
  {
   "cell_type": "markdown",
   "metadata": {},
   "source": [
    "Обрабатываем наше предложение через него."
   ]
  },
  {
   "cell_type": "code",
   "execution_count": 7,
   "metadata": {},
   "outputs": [],
   "source": [
    "d = DependencyGraph('\\n'.join(tree))"
   ]
  },
  {
   "cell_type": "markdown",
   "metadata": {},
   "source": [
    "Теперь элементы хранятся в словаре (ключи - индексы слов)"
   ]
  },
  {
   "cell_type": "code",
   "execution_count": 8,
   "metadata": {
    "scrolled": true
   },
   "outputs": [
    {
     "data": {
      "text/plain": [
       "defaultdict(<function nltk.parse.dependencygraph.DependencyGraph.__init__.<locals>.<lambda>()>,\n",
       "            {0: {'address': 0,\n",
       "              'word': None,\n",
       "              'lemma': None,\n",
       "              'ctag': 'TOP',\n",
       "              'tag': 'TOP',\n",
       "              'feats': None,\n",
       "              'head': None,\n",
       "              'deps': defaultdict(list, {'ROOT': [7]}),\n",
       "              'rel': None},\n",
       "             1: {'address': 1,\n",
       "              'word': 'Более',\n",
       "              'lemma': 'более',\n",
       "              'ctag': 'ADV',\n",
       "              'tag': '_',\n",
       "              'feats': 'RBR',\n",
       "              'head': 2,\n",
       "              'deps': defaultdict(list, {}),\n",
       "              'rel': 'advmod'},\n",
       "             2: {'address': 2,\n",
       "              'word': '150',\n",
       "              'lemma': '150',\n",
       "              'ctag': 'NUM',\n",
       "              'tag': '_',\n",
       "              'feats': 'CD',\n",
       "              'head': 3,\n",
       "              'deps': defaultdict(list, {'advmod': [1]}),\n",
       "              'rel': 'nummod:gov'},\n",
       "             3: {'address': 3,\n",
       "              'word': 'лет',\n",
       "              'lemma': 'год',\n",
       "              'ctag': 'NOUN',\n",
       "              'tag': '_',\n",
       "              'feats': 'NN',\n",
       "              'head': 7,\n",
       "              'deps': defaultdict(list, {'nummod:gov': [2]}),\n",
       "              'rel': 'obl'},\n",
       "             7: {'address': 7,\n",
       "              'word': 'предположил',\n",
       "              'lemma': 'предположить',\n",
       "              'ctag': 'VERB',\n",
       "              'tag': '_',\n",
       "              'feats': 'VBC',\n",
       "              'head': 0,\n",
       "              'deps': defaultdict(list,\n",
       "                          {'obl': [3],\n",
       "                           'advmod': [4],\n",
       "                           'nsubj': [5],\n",
       "                           'ccomp': [12],\n",
       "                           'punct': [22]}),\n",
       "              'rel': 'ROOT'},\n",
       "             4: {'address': 4,\n",
       "              'word': 'назад',\n",
       "              'lemma': 'назад',\n",
       "              'ctag': 'ADV',\n",
       "              'tag': '_',\n",
       "              'feats': 'RB',\n",
       "              'head': 7,\n",
       "              'deps': defaultdict(list, {}),\n",
       "              'rel': 'advmod'},\n",
       "             5: {'address': 5,\n",
       "              'word': 'Майкл',\n",
       "              'lemma': 'Майкл',\n",
       "              'ctag': 'PROPN',\n",
       "              'tag': '_',\n",
       "              'feats': 'NNP',\n",
       "              'head': 7,\n",
       "              'deps': defaultdict(list, {'flat:name': [6]}),\n",
       "              'rel': 'nsubj'},\n",
       "             6: {'address': 6,\n",
       "              'word': 'Фарадей',\n",
       "              'lemma': 'Фарадей',\n",
       "              'ctag': 'PROPN',\n",
       "              'tag': '_',\n",
       "              'feats': 'NNP',\n",
       "              'head': 5,\n",
       "              'deps': defaultdict(list, {}),\n",
       "              'rel': 'flat:name'},\n",
       "             8: {'address': 8,\n",
       "              'word': ',',\n",
       "              'lemma': ',',\n",
       "              'ctag': 'PUNCT',\n",
       "              'tag': '_',\n",
       "              'feats': ',',\n",
       "              'head': 12,\n",
       "              'deps': defaultdict(list, {}),\n",
       "              'rel': 'punct'},\n",
       "             12: {'address': 12,\n",
       "              'word': 'связана',\n",
       "              'lemma': 'связать',\n",
       "              'ctag': 'VERB',\n",
       "              'tag': '_',\n",
       "              'feats': 'VBNH',\n",
       "              'head': 7,\n",
       "              'deps': defaultdict(list,\n",
       "                          {'punct': [8],\n",
       "                           'mark': [9],\n",
       "                           'nsubj:pass': [10],\n",
       "                           'obl': [14, 21]}),\n",
       "              'rel': 'ccomp'},\n",
       "             9: {'address': 9,\n",
       "              'word': 'что',\n",
       "              'lemma': 'что',\n",
       "              'ctag': 'SCONJ',\n",
       "              'tag': '_',\n",
       "              'feats': 'IN',\n",
       "              'head': 12,\n",
       "              'deps': defaultdict(list, {}),\n",
       "              'rel': 'mark'},\n",
       "             10: {'address': 10,\n",
       "              'word': 'скользкость',\n",
       "              'lemma': 'скользкость',\n",
       "              'ctag': 'NOUN',\n",
       "              'tag': '_',\n",
       "              'feats': 'NN',\n",
       "              'head': 12,\n",
       "              'deps': defaultdict(list, {'nmod': [11]}),\n",
       "              'rel': 'nsubj:pass'},\n",
       "             11: {'address': 11,\n",
       "              'word': 'льда',\n",
       "              'lemma': 'лед',\n",
       "              'ctag': 'NOUN',\n",
       "              'tag': '_',\n",
       "              'feats': 'NN',\n",
       "              'head': 10,\n",
       "              'deps': defaultdict(list, {}),\n",
       "              'rel': 'nmod'},\n",
       "             13: {'address': 13,\n",
       "              'word': 'с',\n",
       "              'lemma': 'с',\n",
       "              'ctag': 'ADP',\n",
       "              'tag': '_',\n",
       "              'feats': 'IN',\n",
       "              'head': 14,\n",
       "              'deps': defaultdict(list, {}),\n",
       "              'rel': 'case'},\n",
       "             14: {'address': 14,\n",
       "              'word': 'возникновением',\n",
       "              'lemma': 'возникновение',\n",
       "              'ctag': 'NOUN',\n",
       "              'tag': '_',\n",
       "              'feats': 'NN',\n",
       "              'head': 12,\n",
       "              'deps': defaultdict(list, {'case': [13], 'nmod': [16]}),\n",
       "              'rel': 'obl'},\n",
       "             15: {'address': 15,\n",
       "              'word': 'тонкого',\n",
       "              'lemma': 'тонкий',\n",
       "              'ctag': 'ADJ',\n",
       "              'tag': '_',\n",
       "              'feats': 'JJL',\n",
       "              'head': 16,\n",
       "              'deps': defaultdict(list, {}),\n",
       "              'rel': 'amod'},\n",
       "             16: {'address': 16,\n",
       "              'word': 'слоя',\n",
       "              'lemma': 'слой',\n",
       "              'ctag': 'NOUN',\n",
       "              'tag': '_',\n",
       "              'feats': 'NN',\n",
       "              'head': 14,\n",
       "              'deps': defaultdict(list, {'amod': [15], 'nmod': [18]}),\n",
       "              'rel': 'nmod'},\n",
       "             17: {'address': 17,\n",
       "              'word': 'жидкой',\n",
       "              'lemma': 'жидкий',\n",
       "              'ctag': 'ADJ',\n",
       "              'tag': '_',\n",
       "              'feats': 'JJL',\n",
       "              'head': 18,\n",
       "              'deps': defaultdict(list, {}),\n",
       "              'rel': 'amod'},\n",
       "             18: {'address': 18,\n",
       "              'word': 'воды',\n",
       "              'lemma': 'вода',\n",
       "              'ctag': 'NOUN',\n",
       "              'tag': '_',\n",
       "              'feats': 'NN',\n",
       "              'head': 16,\n",
       "              'deps': defaultdict(list, {'amod': [17]}),\n",
       "              'rel': 'nmod'},\n",
       "             19: {'address': 19,\n",
       "              'word': 'на',\n",
       "              'lemma': 'на',\n",
       "              'ctag': 'ADP',\n",
       "              'tag': '_',\n",
       "              'feats': 'IN',\n",
       "              'head': 21,\n",
       "              'deps': defaultdict(list, {}),\n",
       "              'rel': 'case'},\n",
       "             21: {'address': 21,\n",
       "              'word': 'поверхности',\n",
       "              'lemma': 'поверхность',\n",
       "              'ctag': 'NOUN',\n",
       "              'tag': '_',\n",
       "              'feats': 'NN',\n",
       "              'head': 12,\n",
       "              'deps': defaultdict(list, {'case': [19], 'det': [20]}),\n",
       "              'rel': 'obl'},\n",
       "             20: {'address': 20,\n",
       "              'word': 'его',\n",
       "              'lemma': 'его',\n",
       "              'ctag': 'DET',\n",
       "              'tag': '_',\n",
       "              'feats': 'PRP$',\n",
       "              'head': 21,\n",
       "              'deps': defaultdict(list, {}),\n",
       "              'rel': 'det'},\n",
       "             22: {'address': 22,\n",
       "              'word': '.',\n",
       "              'lemma': '.',\n",
       "              'ctag': 'PUNCT',\n",
       "              'tag': '_',\n",
       "              'feats': '.',\n",
       "              'head': 7,\n",
       "              'deps': defaultdict(list, {}),\n",
       "              'rel': 'punct'}})"
      ]
     },
     "execution_count": 8,
     "metadata": {},
     "output_type": "execute_result"
    }
   ],
   "source": [
    "d.nodes"
   ]
  },
  {
   "cell_type": "markdown",
   "metadata": {},
   "source": [
    "Есть ещё удобный метод .triples() который возращается все тройки СЛОВО_1 - зависимость - СЛОВО_2"
   ]
  },
  {
   "cell_type": "code",
   "execution_count": 9,
   "metadata": {},
   "outputs": [
    {
     "data": {
      "text/plain": [
       "[((None, 'TOP'), 'ROOT', ('предположил', 'VERB')),\n",
       " (('предположил', 'VERB'), 'obl', ('лет', 'NOUN')),\n",
       " (('лет', 'NOUN'), 'nummod:gov', ('150', 'NUM')),\n",
       " (('150', 'NUM'), 'advmod', ('Более', 'ADV')),\n",
       " (('предположил', 'VERB'), 'advmod', ('назад', 'ADV')),\n",
       " (('предположил', 'VERB'), 'nsubj', ('Майкл', 'PROPN')),\n",
       " (('Майкл', 'PROPN'), 'flat:name', ('Фарадей', 'PROPN')),\n",
       " (('предположил', 'VERB'), 'ccomp', ('связана', 'VERB')),\n",
       " (('связана', 'VERB'), 'punct', (',', 'PUNCT')),\n",
       " (('связана', 'VERB'), 'mark', ('что', 'SCONJ')),\n",
       " (('связана', 'VERB'), 'nsubj:pass', ('скользкость', 'NOUN')),\n",
       " (('скользкость', 'NOUN'), 'nmod', ('льда', 'NOUN')),\n",
       " (('связана', 'VERB'), 'obl', ('возникновением', 'NOUN')),\n",
       " (('возникновением', 'NOUN'), 'case', ('с', 'ADP')),\n",
       " (('возникновением', 'NOUN'), 'nmod', ('слоя', 'NOUN')),\n",
       " (('слоя', 'NOUN'), 'amod', ('тонкого', 'ADJ')),\n",
       " (('слоя', 'NOUN'), 'nmod', ('воды', 'NOUN')),\n",
       " (('воды', 'NOUN'), 'amod', ('жидкой', 'ADJ')),\n",
       " (('связана', 'VERB'), 'obl', ('поверхности', 'NOUN')),\n",
       " (('поверхности', 'NOUN'), 'case', ('на', 'ADP')),\n",
       " (('поверхности', 'NOUN'), 'det', ('его', 'DET')),\n",
       " (('предположил', 'VERB'), 'punct', ('.', 'PUNCT'))]"
      ]
     },
     "execution_count": 9,
     "metadata": {},
     "output_type": "execute_result"
    }
   ],
   "source": [
    "d.root = d.nodes[0] # чтобы метод сработал нужно установить корневой элемент\n",
    "list(d.triples())"
   ]
  },
  {
   "cell_type": "markdown",
   "metadata": {},
   "source": [
    "## Для чего можно использовать зависимости?"
   ]
  },
  {
   "cell_type": "markdown",
   "metadata": {},
   "source": [
    "Попробуем проанализировать тексты с помощью зависимостей. Сами парсить не будет, а возьмем уже готовые разборы из Тайги."
   ]
  },
  {
   "cell_type": "markdown",
   "metadata": {},
   "source": [
    "Я взял маленький кусочек (Arzamas) - скачать его можно тут - https://linghub.ru/static/Taiga/Arzamas.zip"
   ]
  },
  {
   "cell_type": "markdown",
   "metadata": {},
   "source": [
    "В нем есть папка с обработанными текстами. Соберем их в один список."
   ]
  },
  {
   "cell_type": "code",
   "execution_count": 11,
   "metadata": {},
   "outputs": [],
   "source": [
    "path = 'Arzamas/texts_tagged/'\n",
    "files = [path+file for file in os.listdir(path)]"
   ]
  },
  {
   "cell_type": "markdown",
   "metadata": {},
   "source": [
    "Посмотрим, что лежит в этих файлах."
   ]
  },
  {
   "cell_type": "code",
   "execution_count": 12,
   "metadata": {},
   "outputs": [],
   "source": [
    "file = open(files[0]).read()"
   ]
  },
  {
   "cell_type": "markdown",
   "metadata": {},
   "source": [
    "Разобранные предложения в том же формате CONLL"
   ]
  },
  {
   "cell_type": "code",
   "execution_count": 13,
   "metadata": {},
   "outputs": [],
   "source": [
    "tree = [x for x in file.split('\\n\\n')[0].split('\\n')]"
   ]
  },
  {
   "cell_type": "markdown",
   "metadata": {},
   "source": [
    "Перед разбором ещё может быть указана метаинформация (начало дока, параграфа, номер предложения, само предложения в изначальном виде)."
   ]
  },
  {
   "cell_type": "code",
   "execution_count": 14,
   "metadata": {
    "scrolled": true
   },
   "outputs": [
    {
     "data": {
      "text/plain": [
       "['# text = # newpar',\n",
       " '# sent_id = 1915',\n",
       " '# text = \"Я люблю богемных писателей: Фицджеральд, этот парень, который покончил жизнь самоубийством...',\n",
       " '1\\t\"\\t\"\\tPUNCT\\t_\\t_\\t2\\tpunct\\t_\\tSpaceAfter=No',\n",
       " '2\\tЯ\\tя\\tPRON\\t_\\tCase=Nom|Number=Sing|Person=1\\t3\\tnsubj\\t_\\t_',\n",
       " '3\\tлюблю\\tлюбить\\tVERB\\t_\\tAspect=Imp|Mood=Ind|Number=Sing|Person=1|Tense=Pres|VerbForm=Fin|Voice=Act\\t0\\troot\\t_\\t_',\n",
       " '4\\tбогемных\\tбогемный\\tADJ\\t_\\tAnimacy=Anim|Case=Acc|Degree=Pos|Number=Plur\\t5\\tamod\\t_\\t_',\n",
       " '5\\tписателей\\tписатель\\tNOUN\\t_\\tAnimacy=Anim|Case=Acc|Gender=Masc|Number=Plur\\t3\\tobj\\t_\\tSpaceAfter=No',\n",
       " '6\\t:\\t:\\tPUNCT\\t_\\t_\\t5\\tpunct\\t_\\t_',\n",
       " '7\\tФицджеральд\\tФицджеральд\\tPROPN\\t_\\tAnimacy=Inan|Case=Nom|Gender=Masc|Number=Sing\\t5\\tnsubj\\t_\\tSpaceAfter=No',\n",
       " '8\\t,\\t,\\tPUNCT\\t_\\t_\\t7\\tpunct\\t_\\t_',\n",
       " '9\\tэтот\\tэтот\\tDET\\t_\\tCase=Nom|Gender=Masc|Number=Sing\\t10\\tamod\\t_\\t_',\n",
       " '10\\tпарень\\tпарень\\tNOUN\\t_\\tAnimacy=Anim|Case=Nom|Gender=Masc|Number=Sing\\t3\\tappos\\t_\\tSpaceAfter=No',\n",
       " '11\\t,\\t,\\tPUNCT\\t_\\t_\\t10\\tpunct\\t_\\t_',\n",
       " '12\\tкоторый\\tкоторый\\tPRON\\t_\\tCase=Nom\\t13\\tnsubj\\t_\\t_',\n",
       " '13\\tпокончил\\tпокончить\\tVERB\\t_\\tAspect=Perf|Gender=Masc|Mood=Ind|Number=Sing|Tense=Past|VerbForm=Fin|Voice=Act\\t10\\tacl:relcl\\t_\\t_',\n",
       " '14\\tжизнь\\tжизнь\\tNOUN\\t_\\tAnimacy=Inan|Case=Acc|Gender=Fem|Number=Sing\\t15\\tobj\\t_\\t_',\n",
       " '15\\tсамоубийством.\\tсамоубийствомотреть\\tVERB\\t_\\tAspect=Imp|Mood=Imp|Number=Sing|Person=2|VerbForm=Fin|Voice=Act\\t13\\txcomp\\t_\\tSpaceAfter=No',\n",
       " '16\\t.\\t.\\tPUNCT\\t_\\t_\\t15\\tpunct\\t_\\tSpaceAfter=No',\n",
       " '17\\t.\\t.\\tPUNCT\\t_\\t_\\t15\\tpunct\\t_\\t_']"
      ]
     },
     "execution_count": 14,
     "metadata": {},
     "output_type": "execute_result"
    }
   ],
   "source": [
    "tree"
   ]
  },
  {
   "cell_type": "markdown",
   "metadata": {},
   "source": [
    "Но нам она не нужна. Соберем в один список все деревья."
   ]
  },
  {
   "cell_type": "code",
   "execution_count": 15,
   "metadata": {},
   "outputs": [],
   "source": [
    "trees = []\n",
    "\n",
    "for file in files:\n",
    "    parsed_sents = open(file).read().split('\\n\\n')\n",
    "    \n",
    "    for sent in parsed_sents:\n",
    "        tree = [line for line in sent.split('\\n') if line[0] != '#']\n",
    "        trees.append('\\n'.join(tree))\n",
    "        "
   ]
  },
  {
   "cell_type": "code",
   "execution_count": 16,
   "metadata": {},
   "outputs": [
    {
     "data": {
      "text/plain": [
       "'1\\t\"\\t\"\\tPUNCT\\t_\\t_\\t2\\tpunct\\t_\\tSpaceAfter=No\\n2\\tЯ\\tя\\tPRON\\t_\\tCase=Nom|Number=Sing|Person=1\\t3\\tnsubj\\t_\\t_\\n3\\tлюблю\\tлюбить\\tVERB\\t_\\tAspect=Imp|Mood=Ind|Number=Sing|Person=1|Tense=Pres|VerbForm=Fin|Voice=Act\\t0\\troot\\t_\\t_\\n4\\tбогемных\\tбогемный\\tADJ\\t_\\tAnimacy=Anim|Case=Acc|Degree=Pos|Number=Plur\\t5\\tamod\\t_\\t_\\n5\\tписателей\\tписатель\\tNOUN\\t_\\tAnimacy=Anim|Case=Acc|Gender=Masc|Number=Plur\\t3\\tobj\\t_\\tSpaceAfter=No\\n6\\t:\\t:\\tPUNCT\\t_\\t_\\t5\\tpunct\\t_\\t_\\n7\\tФицджеральд\\tФицджеральд\\tPROPN\\t_\\tAnimacy=Inan|Case=Nom|Gender=Masc|Number=Sing\\t5\\tnsubj\\t_\\tSpaceAfter=No\\n8\\t,\\t,\\tPUNCT\\t_\\t_\\t7\\tpunct\\t_\\t_\\n9\\tэтот\\tэтот\\tDET\\t_\\tCase=Nom|Gender=Masc|Number=Sing\\t10\\tamod\\t_\\t_\\n10\\tпарень\\tпарень\\tNOUN\\t_\\tAnimacy=Anim|Case=Nom|Gender=Masc|Number=Sing\\t3\\tappos\\t_\\tSpaceAfter=No\\n11\\t,\\t,\\tPUNCT\\t_\\t_\\t10\\tpunct\\t_\\t_\\n12\\tкоторый\\tкоторый\\tPRON\\t_\\tCase=Nom\\t13\\tnsubj\\t_\\t_\\n13\\tпокончил\\tпокончить\\tVERB\\t_\\tAspect=Perf|Gender=Masc|Mood=Ind|Number=Sing|Tense=Past|VerbForm=Fin|Voice=Act\\t10\\tacl:relcl\\t_\\t_\\n14\\tжизнь\\tжизнь\\tNOUN\\t_\\tAnimacy=Inan|Case=Acc|Gender=Fem|Number=Sing\\t15\\tobj\\t_\\t_\\n15\\tсамоубийством.\\tсамоубийствомотреть\\tVERB\\t_\\tAspect=Imp|Mood=Imp|Number=Sing|Person=2|VerbForm=Fin|Voice=Act\\t13\\txcomp\\t_\\tSpaceAfter=No\\n16\\t.\\t.\\tPUNCT\\t_\\t_\\t15\\tpunct\\t_\\tSpaceAfter=No\\n17\\t.\\t.\\tPUNCT\\t_\\t_\\t15\\tpunct\\t_\\t_'"
      ]
     },
     "execution_count": 16,
     "metadata": {},
     "output_type": "execute_result"
    }
   ],
   "source": [
    "trees[0]"
   ]
  },
  {
   "cell_type": "code",
   "execution_count": 17,
   "metadata": {},
   "outputs": [
    {
     "data": {
      "text/plain": [
       "['1 Некоторые некоторый DET _ Case=Nom|Number=Plur 3 nsubj _ _',\n",
       " '2 были быть VERB _ Aspect=Imp|Mood=Ind|Number=Plur|Tense=Past|VerbForm=Fin|Voice=Act 3 cop _ _',\n",
       " '3 алкоголиками алкоголик NOUN _ Animacy=Inan|Case=Ins|Gender=Masc|Number=Plur 0 root _ _',\n",
       " '4 и и CCONJ _ _ 5 cc _ _',\n",
       " '5 наркоманами наркоман NOUN _ Animacy=Inan|Case=Ins|Gender=Masc|Number=Plur 3 conj _ SpaceAfter=No',\n",
       " '6 , , PUNCT _ _ 5 punct _ _',\n",
       " '7 но но CCONJ _ _ 9 cc _ _',\n",
       " '8 классно классно ADV _ Degree=Pos 9 advmod _ _',\n",
       " '9 проводили проводить VERB _ Aspect=Imp|Mood=Ind|Number=Plur|Tense=Past|VerbForm=Fin|Voice=Act 3 conj _ _',\n",
       " '10 время время NOUN _ Animacy=Inan|Case=Acc|Gender=Neut|Number=Sing 9 obj _ SpaceAfter=No',\n",
       " '11 . . PUNCT _ _ 10 punct _ _']"
      ]
     },
     "execution_count": 17,
     "metadata": {},
     "output_type": "execute_result"
    }
   ],
   "source": [
    "[x.replace('\\t', ' ') for x in trees[2].split('\\n')]"
   ]
  },
  {
   "cell_type": "code",
   "execution_count": 18,
   "metadata": {},
   "outputs": [],
   "source": [
    "d = DependencyGraph(trees[10])"
   ]
  },
  {
   "cell_type": "code",
   "execution_count": 19,
   "metadata": {
    "scrolled": true
   },
   "outputs": [
    {
     "data": {
      "text/plain": [
       "defaultdict(<function nltk.parse.dependencygraph.DependencyGraph.__init__.<locals>.<lambda>()>,\n",
       "            {0: {'address': 0,\n",
       "              'word': None,\n",
       "              'lemma': None,\n",
       "              'ctag': 'TOP',\n",
       "              'tag': 'TOP',\n",
       "              'feats': None,\n",
       "              'head': None,\n",
       "              'deps': defaultdict(list, {'root': [6], 'ROOT': []}),\n",
       "              'rel': None},\n",
       "             1: {'address': 1,\n",
       "              'word': 'Я',\n",
       "              'lemma': 'я',\n",
       "              'ctag': 'PRON',\n",
       "              'tag': '_',\n",
       "              'feats': 'Case=Nom|Number=Sing|Person=1',\n",
       "              'head': 6,\n",
       "              'deps': defaultdict(list, {}),\n",
       "              'rel': 'nsubj'},\n",
       "             6: {'address': 6,\n",
       "              'word': 'покупаю',\n",
       "              'lemma': 'покупать',\n",
       "              'ctag': 'VERB',\n",
       "              'tag': '_',\n",
       "              'feats': 'Aspect=Imp|Mood=Ind|Number=Sing|Person=1|Tense=Pres|VerbForm=Fin|Voice=Act',\n",
       "              'head': 0,\n",
       "              'deps': defaultdict(list,\n",
       "                          {'nsubj': [1, 2], 'obl': [5], 'punct': [7]}),\n",
       "              'rel': 'root'},\n",
       "             2: {'address': 2,\n",
       "              'word': 'книги',\n",
       "              'lemma': 'книга',\n",
       "              'ctag': 'NOUN',\n",
       "              'tag': '_',\n",
       "              'feats': 'Animacy=Inan|Case=Nom|Gender=Fem|Number=Plur',\n",
       "              'head': 6,\n",
       "              'deps': defaultdict(list, {}),\n",
       "              'rel': 'nsubj'},\n",
       "             3: {'address': 3,\n",
       "              'word': 'не',\n",
       "              'lemma': 'не',\n",
       "              'ctag': 'PART',\n",
       "              'tag': '_',\n",
       "              'feats': '_',\n",
       "              'head': 5,\n",
       "              'deps': defaultdict(list, {}),\n",
       "              'rel': 'advmod'},\n",
       "             5: {'address': 5,\n",
       "              'word': 'красоты',\n",
       "              'lemma': 'красота',\n",
       "              'ctag': 'NOUN',\n",
       "              'tag': '_',\n",
       "              'feats': 'Animacy=Inan|Case=Gen|Gender=Fem|Number=Sing',\n",
       "              'head': 6,\n",
       "              'deps': defaultdict(list, {'advmod': [3], 'case': [4]}),\n",
       "              'rel': 'obl'},\n",
       "             4: {'address': 4,\n",
       "              'word': 'для',\n",
       "              'lemma': 'для',\n",
       "              'ctag': 'ADP',\n",
       "              'tag': '_',\n",
       "              'feats': '_',\n",
       "              'head': 5,\n",
       "              'deps': defaultdict(list, {}),\n",
       "              'rel': 'case'},\n",
       "             7: {'address': 7,\n",
       "              'word': '.',\n",
       "              'lemma': '.',\n",
       "              'ctag': 'PUNCT',\n",
       "              'tag': '_',\n",
       "              'feats': '_',\n",
       "              'head': 6,\n",
       "              'deps': defaultdict(list, {}),\n",
       "              'rel': 'punct'}})"
      ]
     },
     "execution_count": 19,
     "metadata": {},
     "output_type": "execute_result"
    }
   ],
   "source": [
    "d.nodes"
   ]
  },
  {
   "cell_type": "code",
   "execution_count": 20,
   "metadata": {},
   "outputs": [
    {
     "data": {
      "text/plain": [
       "[((None, 'TOP'), 'root', ('покупаю', 'VERB')),\n",
       " (('покупаю', 'VERB'), 'nsubj', ('Я', 'PRON')),\n",
       " (('покупаю', 'VERB'), 'nsubj', ('книги', 'NOUN')),\n",
       " (('покупаю', 'VERB'), 'obl', ('красоты', 'NOUN')),\n",
       " (('красоты', 'NOUN'), 'advmod', ('не', 'PART')),\n",
       " (('красоты', 'NOUN'), 'case', ('для', 'ADP')),\n",
       " (('покупаю', 'VERB'), 'punct', ('.', 'PUNCT'))]"
      ]
     },
     "execution_count": 20,
     "metadata": {},
     "output_type": "execute_result"
    }
   ],
   "source": [
    "d.root = d.nodes[0] # чтобы метод сработал нужно установить корневой элемент\n",
    "list(d.triples())"
   ]
  },
  {
   "cell_type": "markdown",
   "metadata": {},
   "source": [
    "Что с этим можно сделать?"
   ]
  },
  {
   "cell_type": "markdown",
   "metadata": {},
   "source": [
    "Например, можно пройтись по корпусу и достать все зависимые какого-то слова."
   ]
  },
  {
   "cell_type": "code",
   "execution_count": 21,
   "metadata": {},
   "outputs": [],
   "source": [
    "modifiers = Counter()\n",
    "for tree in trees:\n",
    "    d = DependencyGraph(tree)\n",
    "    d.root = d.nodes[0] \n",
    "    triples = list(d.triples())\n",
    "    \n",
    "    for e1, rel, e2 in triples:\n",
    "        if e1[0] == 'писатель' and rel == 'amod':\n",
    "            modifiers[e2[0]] += 1\n",
    "    # ваш код здесь\n",
    "    "
   ]
  },
  {
   "cell_type": "code",
   "execution_count": 22,
   "metadata": {},
   "outputs": [
    {
     "data": {
      "text/plain": [
       "Counter({'изощренный': 1,\n",
       "         'наш': 1,\n",
       "         'любимый': 1,\n",
       "         'русский': 1,\n",
       "         'московский': 2,\n",
       "         'грузинский': 2,\n",
       "         'великий': 2,\n",
       "         'Сам': 1,\n",
       "         'умеющий': 1,\n",
       "         'известный': 1,\n",
       "         'оказавшийся': 1,\n",
       "         'церковный': 1,\n",
       "         'древнегреческий': 1,\n",
       "         'Замечательный': 1,\n",
       "         'разоблаченный': 1,\n",
       "         'Британский': 1})"
      ]
     },
     "execution_count": 22,
     "metadata": {},
     "output_type": "execute_result"
    }
   ],
   "source": [
    "modifiers"
   ]
  },
  {
   "cell_type": "code",
   "execution_count": 23,
   "metadata": {},
   "outputs": [],
   "source": [
    "modifiers = Counter()\n",
    "for tree in trees:\n",
    "    d = DependencyGraph(tree)\n",
    "    d.root = d.nodes[0] \n",
    "    triples = list(d.triples())\n",
    "    \n",
    "    for e1, rel, e2 in triples:\n",
    "        if e1[0] == \"мужчина\" and rel == 'amod':\n",
    "            modifiers[e2[0]] += 1\n",
    "    # ваш код здесь\n",
    "    "
   ]
  },
  {
   "cell_type": "code",
   "execution_count": 24,
   "metadata": {},
   "outputs": [
    {
     "data": {
      "text/plain": [
       "Counter({'сильный': 1,\n",
       "         'молодой': 1,\n",
       "         'одетый': 1,\n",
       "         '33-летний': 1,\n",
       "         'Человеке-гризли': 1,\n",
       "         'благообразный': 1})"
      ]
     },
     "execution_count": 24,
     "metadata": {},
     "output_type": "execute_result"
    }
   ],
   "source": [
    "modifiers"
   ]
  },
  {
   "cell_type": "markdown",
   "metadata": {},
   "source": [
    "Одно слова может быть недостаточно. Отношение часто указывает на главное слово в какой-то именной группе, а от него отходят отношения к другим её составляющим. Мы можем захотеть пройтись по всем ответвлениям, чтобы собрать всю именную группу. "
   ]
  },
  {
   "cell_type": "markdown",
   "metadata": {},
   "source": [
    "Удобнее всего это сделать через рекурсию. Напишем функцию, котороя проходит по всем зависимым конкретного узла в дереве и достает их зависимые, пока не упрется в терминальный узел."
   ]
  },
  {
   "cell_type": "markdown",
   "metadata": {},
   "source": [
    "Чтобы лучше понять, как работает рекурсия возьмем простую задачу - превратить список в вложенными списками в один список."
   ]
  },
  {
   "cell_type": "code",
   "execution_count": 24,
   "metadata": {},
   "outputs": [],
   "source": [
    "a = [1, 2, [3, 4], [[5], [6, 7]]]"
   ]
  },
  {
   "cell_type": "code",
   "execution_count": 72,
   "metadata": {},
   "outputs": [],
   "source": [
    "# должно получиться [1, 2, 3, 4, 5, 6, 7]"
   ]
  },
  {
   "cell_type": "code",
   "execution_count": 23,
   "metadata": {},
   "outputs": [],
   "source": [
    "def flatten_list(l):\n",
    "    result = []\n",
    "    \n",
    "    for el in l:\n",
    "        # окончание рекурсии - если текущий элемент не список\n",
    "        if not isinstance(el, list):\n",
    "            result.append(el)\n",
    "        #если текущий элемент список, то применяем к нему flatten_list \n",
    "        else:\n",
    "            result += flatten_list(el)\n",
    "    \n",
    "    return result"
   ]
  },
  {
   "cell_type": "code",
   "execution_count": 25,
   "metadata": {},
   "outputs": [
    {
     "data": {
      "text/plain": [
       "[1, 2, 3, 4, 5, 6, 7]"
      ]
     },
     "execution_count": 25,
     "metadata": {},
     "output_type": "execute_result"
    }
   ],
   "source": [
    "flatten_list(a)"
   ]
  },
  {
   "cell_type": "markdown",
   "metadata": {},
   "source": [
    "Подробнее про рекурсию тут - https://foxford.ru/wiki/informatika/rekursiya-v-python"
   ]
  },
  {
   "cell_type": "markdown",
   "metadata": {},
   "source": [
    "Теперь вы лучше будете понимать, что происходит в этой функции."
   ]
  },
  {
   "cell_type": "code",
   "execution_count": 32,
   "metadata": {},
   "outputs": [],
   "source": [
    "def get_subtree(nodes, node):\n",
    "    \n",
    "    \n",
    "    if not nodes[node]['deps']:\n",
    "        return [node]\n",
    "    \n",
    "    else:\n",
    "        return [node] + [get_subtree(nodes, dep) for rel in nodes[node]['deps'] \n",
    "                         if rel != 'punct'  # пунктуацию доставать не будем\n",
    "                         for dep in nodes[node]['deps'][rel]]\n",
    "\n"
   ]
  },
  {
   "cell_type": "markdown",
   "metadata": {},
   "source": [
    "Дерево можно нарисовать через networkx, чтобы лучше понимать какие поддеревья мы хотим достать."
   ]
  },
  {
   "cell_type": "code",
   "execution_count": 28,
   "metadata": {},
   "outputs": [],
   "source": [
    "import matplotlib\n",
    "import matplotlib.pyplot as plt\n",
    "import networkx as nx\n",
    "%matplotlib inline "
   ]
  },
  {
   "cell_type": "code",
   "execution_count": 29,
   "metadata": {},
   "outputs": [
    {
     "data": {
      "image/png": "[encoded data removed]",
      "text/plain": [
       "<Figure size 720x720 with 1 Axes>"
      ]
     },
     "metadata": {},
     "output_type": "display_data"
    }
   ],
   "source": [
    "plt.figure(figsize=(10,10))\n",
    "nx.draw(d.nx_graph(), labels=d.nx_labels, node_size=5000)"
   ]
  },
  {
   "cell_type": "code",
   "execution_count": 33,
   "metadata": {},
   "outputs": [
    {
     "data": {
      "text/plain": [
       "{1: 'Я', 2: 'написал', 3: 'любое', 4: 'другое', 5: 'предложение', 6: '.'}"
      ]
     },
     "execution_count": 33,
     "metadata": {},
     "output_type": "execute_result"
    }
   ],
   "source": [
    "d.nx_labels"
   ]
  },
  {
   "cell_type": "markdown",
   "metadata": {},
   "source": [
    "Достанем все поддерево какого-нибудь элемента."
   ]
  },
  {
   "cell_type": "code",
   "execution_count": 38,
   "metadata": {},
   "outputs": [
    {
     "data": {
      "text/plain": [
       "[5, [3], [4]]"
      ]
     },
     "execution_count": 38,
     "metadata": {},
     "output_type": "execute_result"
    }
   ],
   "source": [
    "get_subtree(d.nodes, 5)"
   ]
  },
  {
   "cell_type": "markdown",
   "metadata": {},
   "source": [
    "Получается список с вложенными списками. Чтобы представить это все в читаемом формате лучше его раплющить ещё одной рекурсивной функцией (такой как мы написали выше). "
   ]
  },
  {
   "cell_type": "code",
   "execution_count": 39,
   "metadata": {},
   "outputs": [],
   "source": [
    "def flatten(l):\n",
    "    flat = []\n",
    "    for el in l:\n",
    "        if not isinstance(el, list):\n",
    "            flat.append(el)\n",
    "        else:\n",
    "            flat += flatten(el)\n",
    "    return flat"
   ]
  },
  {
   "cell_type": "code",
   "execution_count": 40,
   "metadata": {},
   "outputs": [
    {
     "data": {
      "text/plain": [
       "[5, 3, 4]"
      ]
     },
     "execution_count": 40,
     "metadata": {},
     "output_type": "execute_result"
    }
   ],
   "source": [
    "flatten(get_subtree(d.nodes, 5))"
   ]
  },
  {
   "cell_type": "markdown",
   "metadata": {},
   "source": [
    "Проверим, что досталось."
   ]
  },
  {
   "cell_type": "code",
   "execution_count": 41,
   "metadata": {},
   "outputs": [
    {
     "data": {
      "text/plain": [
       "['предложение', 'любое', 'другое']"
      ]
     },
     "execution_count": 41,
     "metadata": {},
     "output_type": "execute_result"
    }
   ],
   "source": [
    "[d.nodes[i]['word'] for i in flatten(get_subtree(d.nodes, 5))]"
   ]
  },
  {
   "cell_type": "markdown",
   "metadata": {},
   "source": [
    "Нужно ещё восстановить порядок."
   ]
  },
  {
   "cell_type": "code",
   "execution_count": 42,
   "metadata": {},
   "outputs": [
    {
     "data": {
      "text/plain": [
       "['любое', 'другое', 'предложение']"
      ]
     },
     "execution_count": 42,
     "metadata": {},
     "output_type": "execute_result"
    }
   ],
   "source": [
    "[d.nodes[i]['word'] for i in sorted(flatten(get_subtree(d.nodes, 5)))]"
   ]
  },
  {
   "cell_type": "code",
   "execution_count": 43,
   "metadata": {},
   "outputs": [
    {
     "data": {
      "text/plain": [
       "['любое', 'другое', 'предложение']"
      ]
     },
     "execution_count": 43,
     "metadata": {},
     "output_type": "execute_result"
    }
   ],
   "source": [
    "[d.nodes[i]['word'] for i in sorted(flatten(get_subtree(d.nodes, 5)))]"
   ]
  },
  {
   "cell_type": "markdown",
   "metadata": {},
   "source": [
    "Попробуем теперь также пройтись по корпусу, найти глаголы и если у этих глаголов есть **nsubj** и **obj** (или **obl**), то достать всё поддерево для них. Возможно таким способом получится доставь главную информацию из каждого предложения и получить саммари текста."
   ]
  },
  {
   "cell_type": "markdown",
   "metadata": {},
   "source": [
    "Возьмем ещё сырые тексты."
   ]
  },
  {
   "cell_type": "code",
   "execution_count": 89,
   "metadata": {},
   "outputs": [],
   "source": [
    "path_raw = 'Arzamas/texts/'\n",
    "files_raw = [path_raw+file for file in os.listdir(path_raw)]"
   ]
  },
  {
   "cell_type": "code",
   "execution_count": 90,
   "metadata": {},
   "outputs": [],
   "source": [
    "text_trees = []\n",
    "\n",
    "for i, file in enumerate(files):\n",
    "    parsed_sents = open(file).read().split('\\n\\n')\n",
    "    raw = open(files_raw[i]).read()\n",
    "    text = []\n",
    "    for sent in parsed_sents:\n",
    "        tree = [line for line in sent.split('\\n') if line[0] != '#']\n",
    "        text.append('\\n'.join(tree))\n",
    "    text_trees.append((raw, text))"
   ]
  },
  {
   "cell_type": "code",
   "execution_count": 98,
   "metadata": {},
   "outputs": [],
   "source": [
    "summaries = []\n",
    "\n",
    "for raw_text, trees in text_trees:\n",
    "    sov_text = []\n",
    "    \n",
    "    for tree in trees:\n",
    "        d = DependencyGraph(tree)\n",
    "        \n",
    "        for node_i, node in d.nodes.items():\n",
    "            if node['ctag'] == 'VERB' and 'nsubj' in node['deps'] and ('obj' in node['deps']\n",
    "                                                                       or 'obl' in node['deps']):\n",
    "\n",
    "                subject = [d.nodes[i]['word'] for i in sorted(flatten(get_subtree(d.nodes, \n",
    "                                                                              node['deps']['nsubj'][0])))]\n",
    "                verb = node['word']\n",
    "\n",
    "                obj = [d.nodes[i]['word'] for i in sorted(flatten(get_subtree(d.nodes, \n",
    "                                                                              node['deps'].get('obj',\n",
    "                                                                              node['deps'].get('obl'))[0])))]\n",
    "\n",
    "                sov_text.append((' '.join(subject), verb, ' '.join(obj)))\n",
    "                \n",
    "    summaries.append((raw_text, sov_text))\n",
    "    "
   ]
  },
  {
   "cell_type": "code",
   "execution_count": 102,
   "metadata": {},
   "outputs": [
    {
     "data": {
      "text/plain": [
       "('В конце марта 1938 года в американском посольстве в Москве снова устраивали прием. Посол Джозеф Дэвис получил новое назначение и собрал московский высший свет, чтобы попрощаться. На прием был приглашен и Александр Афиногенов. Он танцевал с женой посла, и она светски жаловалась ему: \"Вы  --  исключительная страна, единственная в мире. Что такое какая-нибудь Бельгия после вас!\"\\nНа приеме Афиногенова окружали новые лица: за прошедший год состав участников вечеров в посольстве кардинально изменился. Из знакомых остался только литовский поэт и дипломат Юргис Балтрушайтис: остальные не пережили 1937-й. Сенсацией вечера был председатель Военной коллегии Верховного суда СССР Василий Ульрих, выносивший приговоры на всех главных показательных процессах конца 1930-х годов. За две недели до приема в посольстве он приговорил к расстрелу участников вымышленного \"правотроцкистского блока\", среди которых были Генрих Ягода и Николай Бухарин. Весь вечер Ульриха окружали иностранные журналисты. Кто-то из них пустил остроту: \"Странно видеть ходячую гильотину в зале для танцев\". Чтобы сгладить возможное неприятное впечатление, посол Дэвис подошел к Ульриху и громко произнес: \"Я считаю приговор суда абсолютно справедливым и, если б был судьей, приговорил именно так\".\\nАфиногенов вполне мог поддержать слова Дэвиса: к этому моменту он уже ощущал свою общность с законопослушными советскими гражданами. Со смертью его бывшего покровителя Ягоды неприятности закончились и жизнь должна была войти в привычное русло. Правда, одним из негласных условий возвращения в общественную жизнь был запрет на сколь-либо публичное обсуждение пережитого опыта.\\nБолее того, работа по внутреннему самосовершенствованию, которой Афиногенов уделил столько места на страницах дневника, оказалась никому не нужна. В советских реалиях 1938 года не нашлось ни одной инстанции, готовой выслушать Афиногенова и оценить его страдания. Все внутренние разговоры нужно было прекратить. Как ни в чем не бывало Афиногенов продолжал ходить на собрания Союза писателей и обсуждал планы по развитию искусства соцреализма. Такая задача давалась ему непросто, и это хорошо видно по дневнику 1938 года. С каждым следующим месяцем записей становится всё меньше, да и те разрозненные. \"Заброшенные листы записей. Стыдно, как распустился! Мысль  --  а может быть, и не стоит продолжать\",  --  записал он 30 июня. Еще год Афиногенов вел дневник с огромными перерывами, а в 1940 году  --  впервые с 1925-го  --  вообще не сделал ни одной записи. Это молчание и стало его свидетельством о пережитом опыте.\\n***\\nПри изучении свидетельств террора, перед исследователем всегда стоит задача не только проанализировать то, что известно и сохранилось, но и попытаться реконструировать непроизнесенное или уничтоженное. В автобиографическом романе \"Эпилог\" Вениамин Каверин описал, как он зашел в гости к Юрию Тынянову осенью 1937 года. Тынянов подвел его к окну и показал на стоявшую в воздухе узкого ленинградского двора мелкую пепельную пыль. \"Я схожу с ума,  --  сказал он,  --  когда думаю, что каждую ночь тысячи людей бросают в огонь свои дневники\". Дневник Афиногенова за 1937 год сохранился и важен не только тем, что в нем написано, но и тем, о чем автор предпочел умолчать.\\nДневники Афиногенова эпохи Большого террора  --  продукт внимательной саморедактуры: ножницами вырезаны куски множества страниц, у некоторых записей отрезаны начало или конец. Сам Афиногенов писал, что использовал дневники как материал для будущего романа. В его архиве действительно хранится папка с вырезками, но все ли куски в нее попали, неизвестно.\\nВо многих местах дневник выглядит очевидно отцензурированным или неполным. Внимательно следивший за переделкинской жизнью писателей Афиногенов, к примеру, ни разу не упомянул о том, что Пастернак, с которым они тогда много общались, отказался подписать письмо с требованием расстрела маршала Тухачевского. В дневнике также нет ни слова про арест писателей Бруно Ясенского и Владимира Киршона (в статьях, предшествовавших исключению из Союза писателей, Киршон упоминался через запятую от Афиногенова)  --  записи в дни арестов отсутствуют. Нет и прямой реакции на арест Бориса Пильняка в конце октября 1937-го. Еще в сентябре Пильняк и Афиногенов обсуждали необходимость менять профессию  --  а уже в ноябрьской записи Афиногенов размышляет о том, что Пильняк с большой вероятностью мог быть иностранным шпионом.\\nЕще непонятнее ситуация с записями апреля 1937 года  --  месяца, когда Афиногенов узнал об аресте Ягоды, а самому ему пришлось пережить три дня общественного собрания. В десятых числах он приехал в Ленинград и остановился в гостиничном номере. Позже в дневнике он написал, что это был \"порыв к самоубийству\" и он \"старался в смерть спрятаться от отчаяния и обиды и от сознания, что некому пожаловаться, что никто не поверит и надо умирать\". Дальше дневник прерывается на 13 дней, а у следующих записей перепутаны даты (апрелем помечены майские события). Что именно делал Афиногенов в дни перед собранием, совершенно неясно.\\nВпрочем, некоторые пробелы можно восстановить по другим свидетельствам. Два раза на страницах дневника появляется Соня (в одном месте имя зачеркнуто и написано \"Надя\"). Из дневника про нее не известно ничего, кроме того, что ее муж был арестован, а сама она тщетно пыталась найти адекватное объяснение случившемуся: \"Соня пытается шутить и острить, поет громко и говорит о посторонних вещах, но видно, что это всё от желания подавить в себе идущие к горлу вопросы, не думать о проклятом, забыться, рассеяться\",  --  записал Афиногенов 30 июля 1937 года. Само по себе общение с женой арестованного должно было ставить Афиногенова в еще более опасное положение, но настоящую степень риска можно понять, только установив личность Сони. Эту возможность дают опубликованные в начале 1990-х годов мемуары Софьи Евсеевны Прокофьевой, в которых она рассказывает, что получила восемь лет лагерей как жена репрессированного члена высшего руководства НКВД Георгия Прокофьева. Она пишет, что Афиногенов был чуть ли не единственным, кто не прекратил общения с ней после ареста мужа, прекрасно понимая, чем ему это грозит.\\nЕще одно неожиданное свидетельство об Афиногенове оставил друживший с ним американский журналист Морис Хиндус (именно к нему Афиногенов пришел в конце 1936 года праздновать принятие сталинской конституции): \"Он был одним из немногих среди знакомых мне русских литераторов, кто любил Библию. Главным образом он читал Библию короля Иакова  Библия короля Иакова  --  перевод Библии на английский язык, выполненный по распоряжению короля Англии Якова I в 1611 году. и постоянно ее перечитывал во время года своего домашнего заключения\". Если это действительно так, афиногеновские признания в прозрении и перерождении выглядят совершенно иначе: его вера в торжество миропорядка сталинизма оказывается подсвеченной совершенно немыслимым для коммуниста обращением в христианство.\\nПожалуй, самая выразительная брешь в дневнике  --  почти полное отсутствие семьи Афиногенова. Драма, которую он переживал, не могла быть делом сугубо личным. Вместе с ним в Переделкино была его жена Дженни и их крошечная дочь Джоя, родившаяся в марте 1937 года. Для близких Афиногенова ситуация выглядела едва ли менее угрожающей, чем для него самого. Американская танцовщица, Дженни Марлинг приехала в Советский Союз в начале 1930-х годов вместе с мужем Джоном Бовингдоном, тоже танцором. Супруги симпатизировали идеям коммунизма и местному строю и хотели продемонстрировать здесь свои танцевальные импровизации. Бурный роман с Афиногеновым круто поменял жизнь Дженни: она рассталась с Бовингдоном, вышла замуж за советского писателя, получила новое гражданство и имя  --  Евгения Бернардовна Афиногенова. В случае ареста мужа Дженни осталась бы одна в чужой стране, без связей и с угрозой получить обвинение в шпионаже.\\nАфиногенов несколько раз упоминает жену в дневнике, но из этих записей совершенно неясно, как Дженни переживала и интерпретировала случившуюся катастрофу. О ее роли мы знаем из воспоминаний Вячеслава Иванова  --  лингвиста и сына писателя Всеволода Иванова, жившего в Переделкино по соседству с Афиногеновыми: \"Когда стали запрещать его пьесы и начались аресты людей из РАППа, Афиногеновы почувствовали приближающуюся опасность. И тогда Дженни написала письмо Сталину следующего содержания: „Вам пишет американская коммунистка, любящая вашу страну. И поэтому все, что она напишет, будет правдой. А правда заключается в том, что ее муж не сделал ничего плохого, верен партии и не нужно его обижать“\". Действительно ли такое письмо существовало и обязан ли Афиногенов своим спасением жене, мы не знаем  --  в дневнике об этом нет ни слова.\\n***\\nПолноценное возвращение Афиногенова на советскую сцену произошло весной 1941 года. Его пьесу \"Машенька\" поставили сразу Московский театр транспорта и Театр имени Моссовета. Пьеса быстро стала всесоюзным хитом  --  она шла в 300 театрах по всей стране. Для советского искусства тех лет сюжет был не вполне обычным. После смерти отца и нового замужества матери 15-летняя Маша приезжает в Москву к своему дедушке  --  профессору Окаёмову, специалисту по древним рукописям. Внучка нарушает размеренную жизнь профессора и одновременно с этим наполняет ее смыслом. Вся пьеса представляет собой набор картин, показывающих, как пробуждается и крепнет их взаимная привязанность. В последнем акте в Москву приезжает мать Маши и пробует забрать ее обратно. В итоге семья решает жить вместе.\\nМногие детали пьесы выглядят нарочито несоветски. На 24-м году советской власти профессор Окаёмов демонстративно не слушает радио, занимается немарксистской наукой и не принимает участия ни в какой общественной работе. Чтобы наладить связь с внучкой, он просит ее почитать ему вслух \"Дэвида Копперфильда\" Диккенса и вспоминает, что так же ему читал Диккенса его отец в день, когда убили Александра II. Афиногенов пересек негласный водораздел между советской и царской Россией: в его тексте пионеры соседствуют со средневековыми рукописями.\\nЭто уклонение от идеологического регламента хорошо почувствовали критики, назвавшие пьесу \"безыдейной\". 4 мая в Москве прошла творческая конференция по драматургии. Одно из заседаний было целиком посвящено \"Машеньке\". Осип Брик обратил внимание на странную особенность пьесы  --  очень слабую проработку изначального конфликта. Толком неизвестно, почему Окаёмов рассердился на сына, отчего тот умер и почему мать Маши прислала дочь к нелюбимому свекру. Формально Афиногенов давал ответы на некоторые из вопросов, но по сути Брик был прав: все эти повороты сюжета выглядели драматичными, но неубедительными, а также  --  и это особенно важно для советского регламента  --  социально необоснованными. В центре мира \"Машеньки\"  --  разрушенная семья, где члены разных поколений не могут понять друг друга и страдают от одиночества.\\nВ конце первого акта между Машей и Окаёмовым происходит следующий диалог:\\n\"М а ш а: Разве вы тоже одинокий?\\n\\nО к а ё м о в: Да, девочка. Все от меня ушли.\\n\\nМ а ш а: Куда?\\n\\nО к а ё м о в: Сначала ушли мои отец и мать. Потом жена. Потом мои сверстники, один за другим. Потом сын мой  --  твой папа. Значит, и мне пора. Настанет такой день, когда и я наконец уйду… Пора\".\\nЭта сцена имела максимальный успех у зрителя: зал начинал плакать. Вообще, вся пьеса, по наблюдению Брика, оказывалась невероятно слезоточивой: \"Все, кто смотрел, говорят: „Чудная вещь, я так наплакалась!“ Рина Зеленая прямо заявила: „Вода стоит по щиколотку“!\". Необычную реакцию зала отметил и исполнитель роли Окаёмова Евсей Любимов-Ланской: \"О чем мне говорит зрительный зал: мы  --  люди, современники  --  очень нуждаемся в ласке, в душевности, в хорошем отношении, в каком-то глубоком человеческом подходе. Надоело нам видеть оскаленные морды противных людей, которые существуют у нас, не хочется нам видеть мерзавцев и негодяев, которые у нас существуют\".\\n1 / 3Вера Марецкая и Евсей Любимов-Ланской в спектакле «Машенька» в Московском театре им. Моссовета. Март 1941 годаРоссийский государственный архив литературы и искусства2 / 3Вера Марецкая в спектакле «Машенька» в Московском театре им. Моссовета. Март 1941 годаРоссийский государственный архив литературы и искусства3 / 3Сцена из спектакля «Машенька» в Московском театре им. Моссовета. Март 1941 годаРоссийский государственный архив литературы и искусства\\nСоветские зрители, пережившие ужас террора, с радостью ухватились за возможность сопереживать истории, в которой главными действующими силами были не идеологическая бдительность или готовность принести себя в жертву делу коммунизма, а любовь дедушки и внучки. Они оплакивали разрушенные террором семьи и свое одиночество, пусть и не могли говорить о его причинах в открытую. Сам Афиногенов напрямую связывал замысел своей пьесы с потрясением, пережитым во время Большого террора. В письме своему другу Борису Игрицкому, тоже пережившему чистку, он писал: \"Что говорить  --  обоими нами прожито и пережито столько, что ни в одну пьесу не уложится. Тут и несправедливость, и клевета, и разочарование в „друзьях“, и руки порой опускаются в бессилии и нежелании продолжать борьбу… Как это ни странно  --  отсюда и родилась „Машенька“… от страстного желания побыть среди хороших людей, полных чистых чувств, благородных намерений, сердечной теплоты и подлинной дружбы\".\\nМногие детали пьесы приобретают дополнительный смысл, если сопоставить их с текстом дневника 1937 года. Так, в одном из персонажей  --  геологе Леониде Борисовиче  --  можно без труда узнать Бориса Леонидовича Пастернака. Как и Пастернак в дневнике Афиногенова, он парит над советской повседневностью. Получив за какое-то открытие 30 тысяч рублей, он выступает в пьесе в роли рассеянного и жизнерадостного волшебника: всем дарит подарки, помогает решать конфликты, для каждого находит доброе слово. Он дарит Окаёмову бюст Гераклита (подсказывая зрителю, что за окаёмовской фразой \"Всё пройдет\" стоит философская традиция). Он советует Маше выкинуть пузырек с чернилами со стола профессора и купить новую красивую чернильницу. Он же объясняет профессору, что Маша  --  это продолжение Окаёмова в бессмертии.\\nНаписанная Афиногеновым пьеса о профессоре и его внучке поднимала вопрос о том, как преодолеть страх смерти, и показывала, что человек может сделать это, не надеясь на государство и официальную идеологию, с помощью своего внутреннего мира: книг, семьи и близких друзей. Афиногенов изобразил драму пережившего террор человека, полностью умолчав об опасной социальной реальности. По всей видимости, советский зритель прекрасно знал, что скрывается за этим молчанием.',\n",
       " [('Посол Джозеф Дэвис', 'получил', 'новое назначение'),\n",
       "  ('и Александр Афиногенов', 'приглашен', 'На прием'),\n",
       "  ('Он', 'танцевал', 'с женой посла'),\n",
       "  ('она', 'жаловалась', 'ему'),\n",
       "  ('новые лица за прошедший год состав участников вечеров в посольстве кардинально изменился',\n",
       "   'окружали',\n",
       "   'На приеме Афиногенова'),\n",
       "  ('за прошедший год состав участников вечеров', 'изменился', 'в посольстве'),\n",
       "  ('только литовский поэт и дипломат Юргис Балтрушайтис',\n",
       "   'остался',\n",
       "   'Из знакомых'),\n",
       "  ('остальные', 'пережили', '1937-й'),\n",
       "  ('он', 'приговорил', 'За две недели до приема в посольстве'),\n",
       "  ('иностранные журналисты', 'окружали', 'Весь вечер Ульриха'),\n",
       "  ('Кто-то из них', 'пустил', 'остроту'),\n",
       "  ('посол Дэвис', 'подошел', 'к Ульриху'),\n",
       "  ('Я', 'считаю', 'приговор суда'),\n",
       "  ('он', 'ощущал', 'свою общность'),\n",
       "  ('неприятности', 'закончились', 'Со смертью его бывшего покровителя Ягоды'),\n",
       "  ('работа по внутреннему самосовершенствованию', 'оказалась', 'Более того'),\n",
       "  ('Афиногенов', 'уделил', 'которой'),\n",
       "  ('ни одной инстанции готовой выслушать Афиногенова и оценить его страдания',\n",
       "   'нашлось',\n",
       "   'В советских реалиях 1938 года'),\n",
       "  ('Афиногенов', 'бывало', 'ни в чем'),\n",
       "  ('он', 'записал', '30 июня'),\n",
       "  ('Афиногенов', 'вел', 'дневник с огромными перерывами'),\n",
       "  ('Это молчание', 'стало', 'его свидетельством о пережитом опыте'),\n",
       "  ('задача', 'стоит', 'При изучении свидетельств террора'),\n",
       "  ('Вениамин Каверин', 'описал', 'В автобиографическом романе Эпилог'),\n",
       "  ('он', 'зашел', 'в гости'),\n",
       "  ('Тынянов', 'подвел', 'его'),\n",
       "  ('Я', 'схожу', 'с ума'),\n",
       "  ('автор', 'предпочел', 'о чем'),\n",
       "  ('все ли куски', 'попали', 'в нее'),\n",
       "  ('дневник', 'выглядит', 'Во многих местах'),\n",
       "  ('они', 'общались', 'с которым'),\n",
       "  ('ни слова про арест писателей', 'нет', 'В дневнике'),\n",
       "  ('Киршон', 'упоминался', 'предшествовавших исключению из Союза писателей'),\n",
       "  ('Афиногенов', 'размышляет', 'уже в ноябрьской записи'),\n",
       "  ('Пильняк с большой вероятностью', 'мог', 'быть иностранным шпионом'),\n",
       "  ('Афиногенов', 'узнал', 'об аресте Ягоды'),\n",
       "  ('пережить три дня общественного собрания', 'пришлось', 'самому ему'),\n",
       "  ('он', 'приехал', 'В десятых числах'),\n",
       "  ('он', 'написал', 'Позже в дневнике'),\n",
       "  ('Афиногенов', 'делал', 'Что'),\n",
       "  ('Соня', 'зачеркнуто', 'в одном месте'),\n",
       "  ('опубликованные в начале 1990-х годов мемуары Софьи Евсеевны Прокофьевой',\n",
       "   'дают',\n",
       "   'Эту возможность'),\n",
       "  ('она', 'рассказывает', 'в которых'),\n",
       "  ('жена репрессированного члена высшего руководства НКВД Георгия Прокофьева',\n",
       "   'получила',\n",
       "   'восемь лет лагерей'),\n",
       "  ('кто', 'прекратил', 'общения с ней'),\n",
       "  ('друживший с ним американский журналист Морис Хиндус',\n",
       "   'пришел',\n",
       "   'именно к нему'),\n",
       "  ('кто', 'любил', 'Библию'),\n",
       "  ('он', 'читал', 'Библию короля Иакова Библия короля Иакова'),\n",
       "  ('его вера', 'оказывается', 'в торжество миропорядка сталинизма'),\n",
       "  ('Драма которую он переживал', 'могла', 'быть делом'),\n",
       "  ('он', 'переживал', 'которую'),\n",
       "  ('ситуация', 'выглядела', 'Для близких Афиногенова'),\n",
       "  ('Американская танцовщица Дженни Марлинг', 'приехала', 'в Советский Союз'),\n",
       "  ('Супруги', 'симпатизировали', 'идеям коммунизма и местному строю'),\n",
       "  ('Бурный роман с Афиногеновым', 'поменял', 'жизнь Дженни'),\n",
       "  ('она', 'рассталась', 'с Бовингдоном'),\n",
       "  ('одна в чужой стране без связей',\n",
       "   'осталась',\n",
       "   'В случае ареста мужа Дженни'),\n",
       "  ('Афиногенов несколько раз', 'упоминает', 'жену'),\n",
       "  ('мы', 'знаем', 'лингвиста и сына'),\n",
       "  ('Афиногеновы', 'почувствовали', 'приближающуюся опасность'),\n",
       "  ('Дженни', 'написала', 'письмо'),\n",
       "  ('американская коммунистка любящая вашу страну', 'пишет', 'Вам'),\n",
       "  ('она', 'напишет', 'что'),\n",
       "  ('правда',\n",
       "   'заключается',\n",
       "   'в том что ее муж не сделал ничего плохого верен партии и не нужно его обижать'),\n",
       "  ('ее муж', 'сделал', 'ничего плохого'),\n",
       "  ('ни слова', 'нет', 'в дневнике'),\n",
       "  ('Полноценное возвращение Афиногенова на советскую сцену',\n",
       "   'произошло',\n",
       "   'весной 1941 года'),\n",
       "  ('сразу Московский театр транспорта и Театр имени Моссовета',\n",
       "   'поставили',\n",
       "   'Его пьесу Машенька'),\n",
       "  ('Пьеса', 'стала', 'всесоюзным хитом'),\n",
       "  ('она', 'шла', 'в 300 театрах'),\n",
       "  ('15-летняя Маша',\n",
       "   'приезжает',\n",
       "   'После смерти отца и нового замужества матери'),\n",
       "  ('Внучка', 'нарушает', 'размеренную жизнь профессора'),\n",
       "  ('Вся пьеса',\n",
       "   'представляет',\n",
       "   'набор картин показывающих как пробуждается и крепнет их взаимная привязанность'),\n",
       "  ('взаимная привязанность', 'крепнет', 'их'),\n",
       "  ('семья', 'решает', 'В итоге'),\n",
       "  ('профессор Окаёмов', 'слушает', 'радио'),\n",
       "  ('он', 'просит', 'ее'),\n",
       "  ('его отец', 'читал', 'Диккенса'),\n",
       "  ('Афиногенов', 'пересек', 'в его тексте'),\n",
       "  ('пионеры', 'соседствуют', 'со средневековыми рукописями'),\n",
       "  ('Одно из заседаний', 'посвящено', 'Машеньке'),\n",
       "  ('Осип Брик', 'обратил', 'внимание на странную особенность пьесы'),\n",
       "  ('Окаёмов', 'рассердился', 'на сына'),\n",
       "  ('тот', 'умер', 'и почему мать Маши прислала дочь к нелюбимому свекру'),\n",
       "  ('Афиногенов', 'давал', 'ответы на некоторые из вопросов'),\n",
       "  ('следующий диалог М а ш а Разве вы тоже одинокий',\n",
       "   'происходит',\n",
       "   'В конце первого акта между Машей и Окаёмовым'),\n",
       "  ('Все', 'ушли', 'от меня'),\n",
       "  ('мои отец и мать', 'ушли', 'О к а ё м'),\n",
       "  ('Эта сцена', 'имела', 'максимальный успех'),\n",
       "  ('вся пьеса',\n",
       "   'оказывалась',\n",
       "   'невероятно слезоточивой Все кто смотрел говорят Чудная вещь я так наплакалась'),\n",
       "  ('Вода', 'стоит', 'по щиколотку'),\n",
       "  ('мы люди современники', 'отметил', 'Необычную реакцию зала'),\n",
       "  ('зрительный зал', 'говорит', 'О чем'),\n",
       "  ('оскаленные морды противных людей которые существуют у нас',\n",
       "   'видеть',\n",
       "   'нам'),\n",
       "  ('которые', 'существуют', 'у нас'),\n",
       "  ('видеть мерзавцев и негодяев которые у нас существуют', 'хочется', 'нам'),\n",
       "  ('которые', 'существуют', 'у нас'),\n",
       "  ('Март 1941 годаРоссийский государственный архив литературы и искусства Советские зрители пережившие ужас террора с радостью',\n",
       "   'ухватились',\n",
       "   'за возможность сопереживать истории в которой главными действующими силами были не идеологическая бдительность или готовность принести себя в жертву делу коммунизма'),\n",
       "  ('Они', 'оплакивали', 'разрушенные террором семьи'),\n",
       "  ('Сам Афиногенов', 'связывал', 'замысел своей пьесы'),\n",
       "  ('он',\n",
       "   'писал',\n",
       "   'В письме своему другу Борису Игрицкому тоже пережившему чистку'),\n",
       "  ('руки', 'опускаются', 'в бессилии и нежелании'),\n",
       "  ('Машенька', 'родилась', 'от страстного желания'),\n",
       "  ('Многие детали пьесы', 'приобретают', 'дополнительный смысл'),\n",
       "  ('Как и Пастернак в дневнике Афиногенова',\n",
       "   'парит',\n",
       "   'над советской повседневностью'),\n",
       "  ('он', 'выступает', 'в пьесе'),\n",
       "  ('Он', 'дарит', 'Окаёмову'),\n",
       "  ('бюст Гераклита',\n",
       "   'пройдет',\n",
       "   'подсказывая зрителю что за окаёмовской фразой'),\n",
       "  ('Он же', 'объясняет', 'профессору что'),\n",
       "  ('Написанная Афиногеновым пьеса о профессоре и его внучке',\n",
       "   'поднимала',\n",
       "   'вопрос о том как преодолеть страх смерти и показывала что человек может сделать это не надеясь на государство и официальную идеологию с помощью своего внутреннего мира книг семьи и близких друзей'),\n",
       "  ('Афиногенов', 'изобразил', 'драму пережившего террор человека')])"
      ]
     },
     "execution_count": 102,
     "metadata": {},
     "output_type": "execute_result"
    }
   ],
   "source": [
    "summaries[3]"
   ]
  },
  {
   "cell_type": "markdown",
   "metadata": {},
   "source": [
    "Хороших саммари конечно не получилось. Чтобы довести это до ума нужно будет поправить много вещей: порядок субъекта и дополнения, отрицание, однородные дополнения, сложные предложения, анафору. "
   ]
  },
  {
   "cell_type": "markdown",
   "metadata": {},
   "source": [
    "Извлечение таких троек даже оформилось в отдельную задачу Open Information Extraction. Подробнее про неё можно почитать тут -   \n",
    "1) оригинальная работа http://www.aaai.org/Papers/IJCAI/2007/IJCAI07-429.pdf  \n",
    "2) одна из самых известных работ http://ml.cs.washington.edu/www/media/papers/reverb_emnlp2011.pdf  \n",
    "3) одна из последних статей http://www.cse.iitd.ac.in/~mausam/papers/coling18.pdf  \n",
    "\n",
    "Реализация OpenIE есть StandfordNLP и вот тут - https://github.com/dair-iitd/OpenIE-standalone"
   ]
  },
  {
   "cell_type": "markdown",
   "metadata": {},
   "source": [
    "### Использование для других задач"
   ]
  },
  {
   "cell_type": "markdown",
   "metadata": {},
   "source": [
    "Ещё зависимости можно использовать в качестве признаков для классификации или кластеризации."
   ]
  },
  {
   "cell_type": "markdown",
   "metadata": {},
   "source": [
    "Допустим мы хотим научиться выделять отношения между существительными. Мы можем пройтись по корпусу, достать все фразы, а потом достать из графа самый короткий путь, соединящию эти фразы."
   ]
  },
  {
   "cell_type": "markdown",
   "metadata": {},
   "source": [
    "Дальше путь можно каким-то образом преобразовать в векторы и напрмую засовывать в классификатор или кластеризатор. "
   ]
  },
  {
   "cell_type": "code",
   "execution_count": 30,
   "metadata": {
    "collapsed": true
   },
   "outputs": [],
   "source": [
    "# поиск самого короткого пути есть в networkx\n",
    "import networkx as nx"
   ]
  },
  {
   "cell_type": "code",
   "execution_count": 123,
   "metadata": {},
   "outputs": [],
   "source": [
    "trees = []\n",
    "\n",
    "for file in files:\n",
    "    parsed_sents = open(file).read().split('\\n\\n')\n",
    "    \n",
    "    for sent in parsed_sents:\n",
    "        tree = [line for line in sent.split('\\n') if line[0] != '#']\n",
    "        trees.append('\\n'.join(tree))\n",
    "        "
   ]
  },
  {
   "cell_type": "code",
   "execution_count": 142,
   "metadata": {},
   "outputs": [],
   "source": [
    "\n",
    "dg = DependencyGraph(trees[100])\n",
    "edges = []\n",
    "\n",
    "for e in dg.nodes:\n",
    "    for dep in dg.nodes[e]['deps']:\n",
    "        for t in dg.nodes[e]['deps'][dep]:\n",
    "            edges.append((e, t))\n",
    "\n",
    "\n"
   ]
  },
  {
   "cell_type": "code",
   "execution_count": 143,
   "metadata": {},
   "outputs": [
    {
     "data": {
      "image/png": "[encoded data removed]",
      "text/plain": [
       "<Figure size 720x720 with 1 Axes>"
      ]
     },
     "metadata": {},
     "output_type": "display_data"
    }
   ],
   "source": [
    "plt.figure(figsize=(10,10))\n",
    "nx.draw(dg.nx_graph(), labels=dg.nx_labels, node_size=5000)"
   ]
  },
  {
   "cell_type": "code",
   "execution_count": 144,
   "metadata": {},
   "outputs": [
    {
     "data": {
      "text/plain": [
       "{1: 'Для',\n",
       " 2: 'близких',\n",
       " 3: 'Афиногенова',\n",
       " 4: 'ситуация',\n",
       " 5: 'выглядела',\n",
       " 6: 'едва',\n",
       " 7: 'ли',\n",
       " 8: 'менее',\n",
       " 9: 'угрожающей',\n",
       " 10: ',',\n",
       " 11: 'чем',\n",
       " 12: 'для',\n",
       " 13: 'него',\n",
       " 14: 'самого',\n",
       " 15: '.'}"
      ]
     },
     "execution_count": 144,
     "metadata": {},
     "output_type": "execute_result"
    }
   ],
   "source": [
    "dg.nx_labels"
   ]
  },
  {
   "cell_type": "code",
   "execution_count": 116,
   "metadata": {},
   "outputs": [],
   "source": [
    "graph = nx.Graph()\n",
    "graph.add_edges_from(edges)"
   ]
  },
  {
   "cell_type": "code",
   "execution_count": 148,
   "metadata": {},
   "outputs": [
    {
     "data": {
      "text/plain": [
       "[4, 5, 6, 8, 9]"
      ]
     },
     "execution_count": 148,
     "metadata": {},
     "output_type": "execute_result"
    }
   ],
   "source": [
    "nx.shortest_path(graph, 4, 9)"
   ]
  },
  {
   "cell_type": "code",
   "execution_count": 149,
   "metadata": {},
   "outputs": [
    {
     "data": {
      "text/plain": [
       "['ситуация', 'выглядела', 'едва', 'менее', 'угрожающей']"
      ]
     },
     "execution_count": 149,
     "metadata": {},
     "output_type": "execute_result"
    }
   ],
   "source": [
    "[dg.nx_labels[i] for i in nx.shortest_path(graph, 4, 9)]"
   ]
  }
 ],
 "metadata": {
  "kernelspec": {
   "display_name": "Python 3",
   "language": "python",
   "name": "python3"
  },
  "language_info": {
   "codemirror_mode": {
    "name": "ipython",
    "version": 3
   },
   "file_extension": ".py",
   "mimetype": "text/x-python",
   "name": "python",
   "nbconvert_exporter": "python",
   "pygments_lexer": "ipython3",
   "version": "3.6.3"
  }
 },
 "nbformat": 4,
 "nbformat_minor": 2
}
