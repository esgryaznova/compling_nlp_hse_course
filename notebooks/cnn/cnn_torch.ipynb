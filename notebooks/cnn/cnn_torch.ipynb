{
 "cells": [
  {
   "cell_type": "markdown",
   "metadata": {},
   "source": [
    "# Дисклеймер\n",
    "Эту тетрадку нужно запускать в колабе или в vast.ai. Не мучатесь с установкой библиотек и с обучением на cpu.\n",
    "\n",
    "Я разбирался в торче пока делал этот семинар, так что относитесь к моим наработкам как к обучающему материалу, а не стандарту. Скорее всего, есть более правильные, эффективные, красивые решения. "
   ]
  },
  {
   "cell_type": "code",
   "execution_count": 1,
   "metadata": {
    "scrolled": true
   },
   "outputs": [
    {
     "name": "stdout",
     "output_type": "stream",
     "text": [
      "Collecting torch\n",
      "  Downloading torch-1.8.1-cp36-cp36m-manylinux1_x86_64.whl (804.1 MB)\n",
      "\u001b[K     |█████████████▋                  | 342.3 MB 79.2 MB/s eta 0:00:066"
     ]
    },
    {
     "name": "stderr",
     "output_type": "stream",
     "text": [
      "IOPub data rate exceeded.\n",
      "The notebook server will temporarily stop sending output\n",
      "to the client in order to avoid crashing it.\n",
      "To change this limit, set the config variable\n",
      "`--NotebookApp.iopub_data_rate_limit`.\n",
      "\n",
      "Current values:\n",
      "NotebookApp.iopub_data_rate_limit=1000000.0 (bytes/sec)\n",
      "NotebookApp.rate_limit_window=3.0 (secs)\n",
      "\n"
     ]
    },
    {
     "name": "stdout",
     "output_type": "stream",
     "text": [
      "\u001b[K     |██████████████████████████▍     | 663.3 MB 84.6 MB/s eta 0:00:02"
     ]
    },
    {
     "name": "stderr",
     "output_type": "stream",
     "text": [
      "IOPub data rate exceeded.\n",
      "The notebook server will temporarily stop sending output\n",
      "to the client in order to avoid crashing it.\n",
      "To change this limit, set the config variable\n",
      "`--NotebookApp.iopub_data_rate_limit`.\n",
      "\n",
      "Current values:\n",
      "NotebookApp.iopub_data_rate_limit=1000000.0 (bytes/sec)\n",
      "NotebookApp.rate_limit_window=3.0 (secs)\n",
      "\n"
     ]
    },
    {
     "name": "stdout",
     "output_type": "stream",
     "text": [
      "\u001b[K     |████████████████████████████████| 804.1 MB 113.4 MB/s eta 0:00:01\u001b[K     |████████████████████████████████| 804.1 MB 34 kB/s \n",
      "\u001b[?25hCollecting torch-vision\n",
      "  Downloading torch_vision-0.1.6.dev0-py2.py3-none-any.whl (23 kB)\n",
      "Requirement already satisfied: typing-extensions in /usr/local/lib/python3.6/dist-packages (from torch) (3.7.4.3)\n",
      "Requirement already satisfied: numpy in /usr/local/lib/python3.6/dist-packages (from torch) (1.19.5)\n",
      "Requirement already satisfied: dataclasses; python_version < \"3.7\" in /usr/local/lib/python3.6/dist-packages (from torch) (0.8)\n",
      "Installing collected packages: torch, torch-vision\n",
      "Successfully installed torch-1.8.1 torch-vision-0.1.6.dev0\n",
      "\u001b[33mWARNING: You are using pip version 20.2.4; however, version 21.1.1 is available.\n",
      "You should consider upgrading via the '/usr/bin/python3 -m pip install --upgrade pip' command.\u001b[0m\n"
     ]
    }
   ],
   "source": [
    "!pip install torch torch-vision"
   ]
  },
  {
   "cell_type": "code",
   "execution_count": 2,
   "metadata": {},
   "outputs": [
    {
     "name": "stdout",
     "output_type": "stream",
     "text": [
      "Reading package lists... Done\n",
      "Building dependency tree       \n",
      "Reading state information... Done\n",
      "unzip is already the newest version (6.0-21ubuntu1.1).\n",
      "0 upgraded, 0 newly installed, 0 to remove and 11 not upgraded.\n"
     ]
    }
   ],
   "source": [
    "!apt-get install unzip"
   ]
  },
  {
   "cell_type": "code",
   "execution_count": 3,
   "metadata": {},
   "outputs": [
    {
     "name": "stdout",
     "output_type": "stream",
     "text": [
      "Archive:  data.zip\n",
      "  inflating: lenta_sample.csv        \n",
      "  inflating: __MACOSX/._lenta_sample.csv  \n"
     ]
    }
   ],
   "source": [
    "!unzip data.zip"
   ]
  },
  {
   "cell_type": "code",
   "execution_count": 4,
   "metadata": {
    "scrolled": true
   },
   "outputs": [
    {
     "name": "stdout",
     "output_type": "stream",
     "text": [
      "Collecting pandas\n",
      "  Downloading pandas-1.1.5-cp36-cp36m-manylinux1_x86_64.whl (9.5 MB)\n",
      "\u001b[K     |████████████████████████████████| 9.5 MB 3.8 MB/s eta 0:00:01\n",
      "\u001b[?25hCollecting scikit-learn\n",
      "  Downloading scikit_learn-0.24.2-cp36-cp36m-manylinux2010_x86_64.whl (22.2 MB)\n",
      "\u001b[K     |████████████████████████████████| 22.2 MB 51.2 MB/s eta 0:00:01\n",
      "\u001b[?25hCollecting matplotlib\n",
      "  Downloading matplotlib-3.3.4-cp36-cp36m-manylinux1_x86_64.whl (11.5 MB)\n",
      "\u001b[K     |████████████████████████████████| 11.5 MB 58.7 MB/s eta 0:00:01\n",
      "\u001b[?25hRequirement already satisfied: numpy>=1.15.4 in /usr/local/lib/python3.6/dist-packages (from pandas) (1.19.5)\n",
      "Requirement already satisfied: python-dateutil>=2.7.3 in /usr/local/lib/python3.6/dist-packages (from pandas) (2.8.1)\n",
      "Requirement already satisfied: pytz>=2017.2 in /usr/local/lib/python3.6/dist-packages (from pandas) (2021.1)\n",
      "Collecting threadpoolctl>=2.0.0\n",
      "  Downloading threadpoolctl-2.1.0-py3-none-any.whl (12 kB)\n",
      "Collecting joblib>=0.11\n",
      "  Downloading joblib-1.0.1-py3-none-any.whl (303 kB)\n",
      "\u001b[K     |████████████████████████████████| 303 kB 58.1 MB/s eta 0:00:01\n",
      "\u001b[?25hCollecting scipy>=0.19.1\n",
      "  Downloading scipy-1.5.4-cp36-cp36m-manylinux1_x86_64.whl (25.9 MB)\n",
      "\u001b[K     |████████████████████████████████| 25.9 MB 50.9 MB/s eta 0:00:01\n",
      "\u001b[?25hCollecting cycler>=0.10\n",
      "  Downloading cycler-0.10.0-py2.py3-none-any.whl (6.5 kB)\n",
      "Collecting pillow>=6.2.0\n",
      "  Downloading Pillow-8.2.0-cp36-cp36m-manylinux1_x86_64.whl (3.0 MB)\n",
      "\u001b[K     |████████████████████████████████| 3.0 MB 49.3 MB/s eta 0:00:01\n",
      "\u001b[?25hCollecting kiwisolver>=1.0.1\n",
      "  Downloading kiwisolver-1.3.1-cp36-cp36m-manylinux1_x86_64.whl (1.1 MB)\n",
      "\u001b[K     |████████████████████████████████| 1.1 MB 58.6 MB/s eta 0:00:01\n",
      "\u001b[?25hRequirement already satisfied: pyparsing!=2.0.4,!=2.1.2,!=2.1.6,>=2.0.3 in /usr/local/lib/python3.6/dist-packages (from matplotlib) (2.4.7)\n",
      "Requirement already satisfied: six>=1.5 in /usr/local/lib/python3.6/dist-packages (from python-dateutil>=2.7.3->pandas) (1.15.0)\n",
      "Installing collected packages: pandas, threadpoolctl, joblib, scipy, scikit-learn, cycler, pillow, kiwisolver, matplotlib\n",
      "Successfully installed cycler-0.10.0 joblib-1.0.1 kiwisolver-1.3.1 matplotlib-3.3.4 pandas-1.1.5 pillow-8.2.0 scikit-learn-0.24.2 scipy-1.5.4 threadpoolctl-2.1.0\n",
      "\u001b[33mWARNING: You are using pip version 20.2.4; however, version 21.1.1 is available.\n",
      "You should consider upgrading via the '/usr/bin/python3 -m pip install --upgrade pip' command.\u001b[0m\n"
     ]
    }
   ],
   "source": [
    "!pip install pandas scikit-learn matplotlib"
   ]
  },
  {
   "cell_type": "markdown",
   "metadata": {},
   "source": [
    "## Сверточные нейронные сети"
   ]
  },
  {
   "cell_type": "markdown",
   "metadata": {},
   "source": [
    "Несколько полносвязных слоев (с нелинейностями посередине) - это уже полноценная нейронная сеть. Однако это скорее какая-то базовая вещь. Действительно нужен полносвязный слой только в конце сети, а в качестве основных используются сверточные или рекуррентные слои. Главное их отличие (=преимущество) - учитывание структукры данных. В этом семинаре мы попробуем использовать сверточные сети. Лучше всего они работают в картинках, но для текстов их тоже можно применять (они быстрее рекуррентных и могут лучше работать на длинных последовательностях).\n",
    "\n",
    "Про то как работают сверточные слои посмотрите в этом видео - https://www.youtube.com/watch?v=bNb2fEVKeEo\n",
    "\n",
    "Основная идея - использовать много небольших (сильно меньше размера текста или картинки) матриц, которые применяются к кусочкам векторизованного текста/картинки. Между кусочком и матрицей считается близость, и эта близость передается дальше по сети. Т.е. кусочек как-бы **сворачивается** в одно число. \n",
    "\n",
    "Эти небольшие матрицы обучаются на данных и, например, для картинок в них собираются различные паттерны, важные для задачи. Например, для определения рукописных цифр, такие матрицы могут представлять горизонтальные черточки, волнистые линии, кружки и т.д. Есть даже целое направление исследований, которое занимается визуализацией и интерпретацией обученных сверток.\n",
    "\n",
    "Из-за того, что матрицы применяются к кусочкам, а не отедльным элементам, гораздо лучше учитывается структура. "
   ]
  },
  {
   "cell_type": "markdown",
   "metadata": {},
   "source": [
    "## Классификация с помощью CNN"
   ]
  },
  {
   "cell_type": "markdown",
   "metadata": {},
   "source": [
    "Давайте посмотрим, как в торче использовать сверточные сети и как их соединять с Embedding и Linear слоями."
   ]
  },
  {
   "cell_type": "code",
   "execution_count": 5,
   "metadata": {},
   "outputs": [],
   "source": [
    "import torch\n",
    "import torch.nn as nn\n",
    "import torch.nn.functional as F\n",
    "import torch.optim as optim\n",
    "import torch.utils.data"
   ]
  },
  {
   "cell_type": "code",
   "execution_count": 6,
   "metadata": {},
   "outputs": [],
   "source": [
    "import pandas as pd\n",
    "import numpy as np\n",
    "from string import punctuation\n",
    "from sklearn.model_selection import train_test_split\n",
    "from collections import Counter\n",
    "import matplotlib.pyplot as plt\n",
    "%matplotlib inline"
   ]
  },
  {
   "cell_type": "code",
   "execution_count": 7,
   "metadata": {},
   "outputs": [],
   "source": [
    "# данные - статьи из ленты ру, нужно предсказать категорию новости\n",
    "data = pd.read_csv('lenta_sample.csv')"
   ]
  },
  {
   "cell_type": "code",
   "execution_count": 8,
   "metadata": {},
   "outputs": [],
   "source": [
    "data.dropna(subset=['topic', 'text'], inplace=True)"
   ]
  },
  {
   "cell_type": "markdown",
   "metadata": {},
   "source": [
    "Предобработка нам тут особо не важна."
   ]
  },
  {
   "cell_type": "code",
   "execution_count": 9,
   "metadata": {},
   "outputs": [],
   "source": [
    "def preprocess(text):\n",
    "    tokens = text.lower().split()\n",
    "    tokens = [token.strip(punctuation) for token in tokens]\n",
    "    return tokens"
   ]
  },
  {
   "cell_type": "markdown",
   "metadata": {},
   "source": [
    "В предыдущей домашке не хватало фмеры. Ее нет в керасе, но можно взять вот такую функцию (взятую со стаковерфлоу)"
   ]
  },
  {
   "cell_type": "markdown",
   "metadata": {},
   "source": [
    "Предобработка точно такая же"
   ]
  },
  {
   "cell_type": "code",
   "execution_count": 10,
   "metadata": {},
   "outputs": [],
   "source": [
    "# словарь\n",
    "vocab = Counter()\n",
    "\n",
    "for text in data.text:\n",
    "    vocab.update(preprocess(text))"
   ]
  },
  {
   "cell_type": "code",
   "execution_count": 11,
   "metadata": {},
   "outputs": [
    {
     "data": {
      "text/plain": [
       "670782"
      ]
     },
     "execution_count": 11,
     "metadata": {},
     "output_type": "execute_result"
    }
   ],
   "source": [
    "len(vocab)"
   ]
  },
  {
   "cell_type": "code",
   "execution_count": 12,
   "metadata": {},
   "outputs": [],
   "source": [
    "# отфильтрованный словарь\n",
    "filtered_vocab = set()\n",
    "\n",
    "for word in vocab:\n",
    "    if vocab[word] > 30:\n",
    "        filtered_vocab.add(word)"
   ]
  },
  {
   "cell_type": "code",
   "execution_count": 13,
   "metadata": {},
   "outputs": [
    {
     "data": {
      "text/plain": [
       "55293"
      ]
     },
     "execution_count": 13,
     "metadata": {},
     "output_type": "execute_result"
    }
   ],
   "source": [
    "len(filtered_vocab)"
   ]
  },
  {
   "cell_type": "code",
   "execution_count": 14,
   "metadata": {},
   "outputs": [],
   "source": [
    "# индексируем слова\n",
    "word2id = {'PAD':0}\n",
    "\n",
    "for word in filtered_vocab:\n",
    "    word2id[word] = len(word2id)"
   ]
  },
  {
   "cell_type": "code",
   "execution_count": 15,
   "metadata": {},
   "outputs": [],
   "source": [
    "id2word = {i:word for word, i in word2id.items()}"
   ]
  },
  {
   "cell_type": "markdown",
   "metadata": {},
   "source": [
    "Обертка для данных - такая же как и в предыдущем семинаре"
   ]
  },
  {
   "cell_type": "code",
   "execution_count": 16,
   "metadata": {},
   "outputs": [],
   "source": [
    "class Dataset(torch.utils.data.Dataset):\n",
    "\n",
    "    def __init__(self, word2id, MAX_LEN, texts, targets):\n",
    "        \n",
    "        # храним сырой датасет\n",
    "        # еще лучше можно сделать, если считывать из файла при генерации\n",
    "        self.texts = [torch.LongTensor([word2id[w] for w in self.preprocess(t) if w in word2id][:MAX_LEN]) for t in texts]\n",
    "        self.texts = torch.nn.utils.rnn.pad_sequence(self.texts, batch_first=True)\n",
    "        \n",
    "        # мы не считаем словарь прямо тут, т.к. нам нужно шерить словарь между трейном и валидацией\n",
    "        self.word2id = word2id\n",
    "        self.MAX_LEN = MAX_LEN\n",
    "        self.length = len(texts)\n",
    "        # таргеты можно сразу целиком выделить \n",
    "        \n",
    "        self.target = torch.LongTensor(targets)\n",
    "\n",
    "    def __len__(self):\n",
    "        # нужно уметь возвращать длину датасета, в нашем случае это просто сделать\n",
    "        # если не загружать данные целиком, а читать из файла - это может быть сложнее\n",
    "        return self.length\n",
    "\n",
    "    def __getitem__(self, index):\n",
    "\n",
    "        # в index будут индексы от 0 до self.length\n",
    "        # по ним мы достанем тексты, предобработаем,переведем в векторы, западим и вернем\n",
    "\n",
    "        ids = self.texts[index]\n",
    "        y = self.target[index]\n",
    "\n",
    "        return ids, y\n",
    "    \n",
    "    def preprocess(self, text):\n",
    "        tokens = text.lower().split()\n",
    "        tokens = [token.strip(punctuation) for token in tokens]\n",
    "        tokens = [token for token in tokens if token]\n",
    "        return tokens\n"
   ]
  },
  {
   "cell_type": "code",
   "execution_count": 17,
   "metadata": {},
   "outputs": [],
   "source": [
    "MAX_LEN = 200"
   ]
  },
  {
   "cell_type": "code",
   "execution_count": 18,
   "metadata": {},
   "outputs": [],
   "source": [
    "texts = data.text.values\n",
    "id2label = {i:l for i,l in enumerate(set(data.topic))}\n",
    "label2id = {l:i for i,l in id2label.items()}\n",
    "targets = [label2id[l] for l in data.topic]"
   ]
  },
  {
   "cell_type": "code",
   "execution_count": 19,
   "metadata": {},
   "outputs": [],
   "source": [
    "train_texts, valid_texts, train_targets, valid_targets = train_test_split(texts, targets, test_size=0.05)"
   ]
  },
  {
   "cell_type": "code",
   "execution_count": 20,
   "metadata": {},
   "outputs": [],
   "source": [
    "training_set = Dataset(word2id, MAX_LEN, train_texts, train_targets)\n",
    "training_generator = torch.utils.data.DataLoader(training_set, batch_size=256, shuffle=True, )"
   ]
  },
  {
   "cell_type": "code",
   "execution_count": 21,
   "metadata": {},
   "outputs": [],
   "source": [
    "valid_set = Dataset(word2id, MAX_LEN, valid_texts, valid_targets)\n",
    "valid_generator = torch.utils.data.DataLoader(valid_set, batch_size=256, shuffle=True)"
   ]
  },
  {
   "cell_type": "markdown",
   "metadata": {},
   "source": [
    "Для сравнения сначала обучим сеть только с помощью Dense слоев. Трейн луп такой же как и в предыдущем семинаре"
   ]
  },
  {
   "cell_type": "code",
   "execution_count": 22,
   "metadata": {},
   "outputs": [],
   "source": [
    "from sklearn.metrics import f1_score\n",
    "\n",
    "def train(model, iterator, optimizer, criterion, print_every=1000):\n",
    "    \n",
    "    epoch_loss = []\n",
    "    epoch_f1 = []\n",
    "    \n",
    "    model.train()  \n",
    "\n",
    "    for i, (texts, ys) in enumerate(iterator):\n",
    "        \n",
    "        optimizer.zero_grad()   \n",
    "        predictions = model(texts.to(device)).squeeze()  \n",
    "        loss = criterion(predictions, ys.to(device))        \n",
    "        \n",
    "        \n",
    "        \n",
    "        loss.backward()\n",
    "        optimizer.step()     \n",
    "        preds = predictions.detach().to('cpu').numpy().argmax(1).tolist()\n",
    "        y_true = ys.tolist()\n",
    "        \n",
    "        epoch_loss.append(loss.item())\n",
    "        epoch_f1.append(f1_score(y_true, preds, average=\"micro\"))\n",
    "        \n",
    "        if not (i+1) % print_every:\n",
    "            print(f'Loss: {np.mean(epoch_loss)}; F1 measure: {np.mean(epoch_f1)}')\n",
    "        \n",
    "    return np.mean(epoch_f1)\n",
    "\n",
    "\n",
    "def evaluate(model, iterator, criterion):\n",
    "    \n",
    "    epoch_loss = []\n",
    "    epoch_f1 = []\n",
    "    \n",
    "    model.eval()  \n",
    "    with torch.no_grad():\n",
    "        for texts, ys in iterator:   \n",
    "\n",
    "            predictions = model(texts.to(device)).squeeze()  \n",
    "            loss = criterion(predictions, ys.to(device))        \n",
    "            preds = predictions.detach().to('cpu').numpy().argmax(1).tolist()\n",
    "            y_true = ys.tolist()\n",
    "            \n",
    "\n",
    "            epoch_loss.append(loss.item())  \n",
    "            epoch_f1.append(f1_score(y_true, preds, average=\"micro\"))\n",
    "            \n",
    "    return np.mean(epoch_f1)# / len(iterator)"
   ]
  },
  {
   "cell_type": "code",
   "execution_count": 23,
   "metadata": {},
   "outputs": [],
   "source": [
    "# сеть с двумя полносвязными слоями и активацией\n",
    "class Clf(nn.Module):\n",
    "    \n",
    "    def __init__(self, vocab_size, embedding_dim, hidden, output_dim):\n",
    "        super().__init__()          \n",
    "        self.embedding = nn.Embedding(vocab_size, embedding_dim)\n",
    "        self.fc = nn.Linear(embedding_dim, hidden)\n",
    "        self.fc_1 = nn.Linear(hidden, output_dim)\n",
    "        self.act = nn.LogSoftmax(1) \n",
    "        self.relu = nn.ReLU()       \n",
    "        \n",
    "    def forward(self, text):\n",
    "        embedded = self.embedding(text)   \n",
    "        hidden = torch.mean(embedded, dim=1)\n",
    "        hidden = self.relu(self.fc(hidden))\n",
    "        dense_outputs=self.fc_1(hidden) \n",
    "\n",
    "        outputs=self.act(dense_outputs)\n",
    "        \n",
    "        return outputs\n",
    "\n",
    "\n",
    "device = torch.device('cuda' if torch.cuda.is_available() else 'cpu')  \n",
    "model = Clf(len(word2id), 30, 30, len(label2id))\n",
    "\n",
    "\n",
    "optimizer = optim.Adam(model.parameters(), lr=0.001)\n",
    "criterion = nn.NLLLoss() \n",
    "model = model.to(device)\n",
    "criterion = criterion.to(device)"
   ]
  },
  {
   "cell_type": "markdown",
   "metadata": {},
   "source": [
    "Запускаем обучение"
   ]
  },
  {
   "cell_type": "code",
   "execution_count": 24,
   "metadata": {
    "scrolled": true
   },
   "outputs": [
    {
     "name": "stdout",
     "output_type": "stream",
     "text": [
      "0\n",
      "Loss: 2.6197411823272705; F1 measure: 0.1808203125\n",
      "Loss: 2.4586977422237397; F1 measure: 0.19806640625\n",
      "Loss: 2.373960111141205; F1 measure: 0.20907552083333333\n",
      "Loss: 2.293777464926243; F1 measure: 0.235419921875\n",
      "Loss: 2.1999969239234924; F1 measure: 0.2706328125\n",
      "Eval -  0.46314655172413793\n",
      "1\n",
      "Loss: 1.5232779133319854; F1 measure: 0.5215234375\n",
      "Loss: 1.4571399873495101; F1 measure: 0.54337890625\n",
      "Loss: 1.4014333546161652; F1 measure: 0.5609895833333334\n",
      "Loss: 1.355219143331051; F1 measure: 0.57517578125\n",
      "Loss: 1.313402940273285; F1 measure: 0.588875\n",
      "Eval -  0.6512631704980844\n",
      "2\n",
      "Loss: 1.0344296985864638; F1 measure: 0.6799609375\n",
      "Loss: 1.0047901949286462; F1 measure: 0.68927734375\n",
      "Loss: 0.9862580219904582; F1 measure: 0.6943098958333334\n",
      "Loss: 0.9652436164021492; F1 measure: 0.701083984375\n",
      "Loss: 0.9504220184087754; F1 measure: 0.705734375\n",
      "Eval -  0.7233494971264368\n",
      "3\n",
      "Loss: 0.8189972084760666; F1 measure: 0.74671875\n",
      "Loss: 0.812115375995636; F1 measure: 0.7473046875\n",
      "Loss: 0.8023925479253133; F1 measure: 0.7495442708333333\n",
      "Loss: 0.7957931512594223; F1 measure: 0.752353515625\n",
      "Loss: 0.7878573575019836; F1 measure: 0.7547265625\n",
      "Eval -  0.7482405411877395\n",
      "4\n",
      "Loss: 0.7163863027095795; F1 measure: 0.7746484375\n",
      "Loss: 0.7063124039769173; F1 measure: 0.77802734375\n",
      "Loss: 0.70201800207297; F1 measure: 0.7785416666666667\n",
      "Loss: 0.6974907685816288; F1 measure: 0.780703125\n",
      "Loss: 0.6953367521762848; F1 measure: 0.7814453125\n",
      "Eval -  0.7612601772030652\n",
      "5\n",
      "Loss: 0.6381947246193885; F1 measure: 0.801328125\n",
      "Loss: 0.6351038740575313; F1 measure: 0.8006640625\n",
      "Loss: 0.6329314880569776; F1 measure: 0.8010026041666667\n",
      "Loss: 0.6318752785772085; F1 measure: 0.80125\n",
      "Loss: 0.6284054705500602; F1 measure: 0.801921875\n",
      "Eval -  0.7726394875478927\n",
      "6\n",
      "Loss: 0.583585424721241; F1 measure: 0.8152734375\n",
      "Loss: 0.5796784365177154; F1 measure: 0.81775390625\n",
      "Loss: 0.5782570865750313; F1 measure: 0.8176432291666667\n",
      "Loss: 0.5759222892671824; F1 measure: 0.81875\n",
      "Loss: 0.5757328113317489; F1 measure: 0.8190625\n",
      "Eval -  0.7789146312260536\n",
      "7\n",
      "Loss: 0.5341010338068009; F1 measure: 0.831484375\n",
      "Loss: 0.5356463412940502; F1 measure: 0.8300390625\n",
      "Loss: 0.5386197704076767; F1 measure: 0.8299479166666667\n",
      "Loss: 0.5349517285823822; F1 measure: 0.83123046875\n",
      "Loss: 0.5324598643779754; F1 measure: 0.832328125\n",
      "Eval -  0.7886871408045977\n",
      "8\n",
      "Loss: 0.48952979385852813; F1 measure: 0.8453515625\n",
      "Loss: 0.4932489763200283; F1 measure: 0.8452734375\n",
      "Loss: 0.4943637558817863; F1 measure: 0.8448307291666667\n",
      "Loss: 0.49427898682653904; F1 measure: 0.8447265625\n",
      "Loss: 0.4922732102274895; F1 measure: 0.8455859375\n",
      "Eval -  0.7920222701149425\n",
      "9\n",
      "Loss: 0.46336703181266786; F1 measure: 0.85640625\n",
      "Loss: 0.46282783165574076; F1 measure: 0.85646484375\n",
      "Loss: 0.4612191939353943; F1 measure: 0.8561067708333333\n",
      "Loss: 0.4582536684721708; F1 measure: 0.8560546875\n",
      "Loss: 0.4556128804087639; F1 measure: 0.856703125\n",
      "Eval -  0.7923473419540229\n"
     ]
    }
   ],
   "source": [
    "f1s = []\n",
    "f1s_eval = []\n",
    "\n",
    "for i in range(10):\n",
    "    print(i)\n",
    "    f1s.append(train(model, training_generator, optimizer, criterion, 100))\n",
    "    evl = evaluate(model, valid_generator, criterion)\n",
    "    print('Eval - ', evl)\n",
    "    f1s_eval.append(evl)"
   ]
  },
  {
   "cell_type": "code",
   "execution_count": 25,
   "metadata": {},
   "outputs": [
    {
     "data": {
      "image/png": "[encoded data removed]",
      "text/plain": [
       "<Figure size 432x288 with 1 Axes>"
      ]
     },
     "metadata": {
      "needs_background": "light"
     },
     "output_type": "display_data"
    }
   ],
   "source": [
    "plt.plot(f1s)\n",
    "plt.plot(f1s_eval)\n",
    "plt.title('model f1 micro')\n",
    "plt.ylabel('f1')\n",
    "plt.xlabel('epoch')\n",
    "plt.legend(['train', 'val'], loc='upper left')\n",
    "plt.show()"
   ]
  },
  {
   "cell_type": "markdown",
   "metadata": {},
   "source": [
    "Посмотрим еще максимальную f меру"
   ]
  },
  {
   "cell_type": "code",
   "execution_count": 26,
   "metadata": {},
   "outputs": [
    {
     "data": {
      "text/plain": [
       "0.7923473419540229"
      ]
     },
     "execution_count": 26,
     "metadata": {},
     "output_type": "execute_result"
    }
   ],
   "source": [
    "max(f1s_eval)"
   ]
  },
  {
   "cell_type": "markdown",
   "metadata": {},
   "source": [
    "Теперь попробуем сверточные слои. В торче сверточные слои не очень простые - нужно подробно разобраться в параметрах и расчитывать изменения в размере последовательности вручную. "
   ]
  },
  {
   "cell_type": "code",
   "execution_count": 67,
   "metadata": {},
   "outputs": [],
   "source": [
    "class Clf(nn.Module):\n",
    "    \n",
    "    def __init__(self, output_dim):\n",
    "        \n",
    "        super().__init__() \n",
    "        # параметры лучше передавать снаружи\n",
    "        # но для простоты напишем тут\n",
    "        self.VOCAB_SIZE = len(word2id)\n",
    "        self.EMB_DIM = 100 # размерность эмбединга слов\n",
    "        self.KERNEL_SIZE = 10 # размер фильтров в CNN, влияет на выходную длину последовательности\n",
    "        self.MAX_LEN = 200 # длина последовательности до которой западили \n",
    "        self.IN_CHANNELS = self.EMB_DIM # параметр который нужно передать в CNN, соответствующий размеру эмбединга\n",
    "        self.OUT_CHANNELS = 32 # количество фильтров в CNN, будет соответствовать размерности векторов на выходе из CNN\n",
    "        self.STRIDE = 1 # параметр CNN влияющий на выходную длину последовательности\n",
    "        self.HIDDEN_FC = 64 # перед финальной классификацией поставим еще один полносвязный слой\n",
    "        \n",
    "        \n",
    "        self.embedding = nn.Embedding(self.VOCAB_SIZE, self.EMB_DIM)\n",
    "        \n",
    "        self.conv = nn.Conv1d(self.IN_CHANNELS, \n",
    "                              self.OUT_CHANNELS, \n",
    "                              kernel_size=self.KERNEL_SIZE, \n",
    "                              stride=self.STRIDE, ) \n",
    "        \n",
    "        # к выходу из CNN и к выходу промежуточного полносвязного слоя нужно применить активацию\n",
    "        self.relu = nn.ReLU() \n",
    "        \n",
    "        \n",
    "        # расчитываем по формуле размерность получившейся последовательности\n",
    "        # умножаем на OUT_CHANNELS чтобы получить размер вектора\n",
    "        # который получиться если конкатенировать все в 1 вектор\n",
    "        \n",
    "        \n",
    "        self.flattened_size = int((((self.MAX_LEN-(self.KERNEL_SIZE-1)-1)/self.STRIDE)+1)*self.OUT_CHANNELS)\n",
    "        \n",
    "        # используем размер вектора для определения полносвязного слоя\n",
    "        self.fc = nn.Linear(self.flattened_size, \n",
    "                            self.HIDDEN_FC)\n",
    "        \n",
    "        self.fc_1 = nn.Linear(self.HIDDEN_FC, output_dim)\n",
    "        self.act = nn.LogSoftmax(1) \n",
    "        \n",
    "        \n",
    "    def forward(self, text):\n",
    "        \n",
    "        # сверточный слой ожидает на вход последовательность такого вида\n",
    "        # (batch_size, emb_dim, max_len)\n",
    "        # а у нас получается \n",
    "        # (batch_size, max_len, emb_dim)\n",
    "        # поэтому используем permute чтобы поменять местами max_len и emb_dim\n",
    "        embedded = self.embedding(text).permute(0, 2, 1)\n",
    "        \n",
    "        convoluted = self.relu(self.conv(embedded)) # пропускаем через свертку и применяем релу\n",
    "        hidden = torch.flatten(convoluted, 1, -1) # конкатенируем\n",
    "        hidden = self.relu(self.fc(hidden))  # подаем в полносвязный и применяем активацию\n",
    "        \n",
    "        dense_outputs = self.fc_1(hidden) \n",
    "        outputs=self.act(dense_outputs) \n",
    "        \n",
    "        return outputs\n",
    "\n",
    "\n",
    "device = torch.device('cuda' if torch.cuda.is_available() else 'cpu')  \n",
    "model = Clf(len(label2id))\n",
    "\n",
    "\n",
    "optimizer = optim.Adam(model.parameters(), lr=0.001)\n",
    "criterion = nn.NLLLoss() \n",
    "model = model.to(device)\n",
    "criterion = criterion.to(device)"
   ]
  },
  {
   "cell_type": "code",
   "execution_count": 24,
   "metadata": {
    "scrolled": true
   },
   "outputs": [
    {
     "name": "stdout",
     "output_type": "stream",
     "text": [
      "0\n",
      "Loss: 2.6197411823272705; F1 measure: 0.1808203125\n",
      "Loss: 2.4586977422237397; F1 measure: 0.19806640625\n",
      "Loss: 2.373960111141205; F1 measure: 0.20907552083333333\n",
      "Loss: 2.293777464926243; F1 measure: 0.235419921875\n",
      "Loss: 2.1999969239234924; F1 measure: 0.2706328125\n",
      "Eval -  0.46314655172413793\n",
      "1\n",
      "Loss: 1.5232779133319854; F1 measure: 0.5215234375\n",
      "Loss: 1.4571399873495101; F1 measure: 0.54337890625\n",
      "Loss: 1.4014333546161652; F1 measure: 0.5609895833333334\n",
      "Loss: 1.355219143331051; F1 measure: 0.57517578125\n",
      "Loss: 1.313402940273285; F1 measure: 0.588875\n",
      "Eval -  0.6512631704980844\n",
      "2\n",
      "Loss: 1.0344296985864638; F1 measure: 0.6799609375\n",
      "Loss: 1.0047901949286462; F1 measure: 0.68927734375\n",
      "Loss: 0.9862580219904582; F1 measure: 0.6943098958333334\n",
      "Loss: 0.9652436164021492; F1 measure: 0.701083984375\n",
      "Loss: 0.9504220184087754; F1 measure: 0.705734375\n",
      "Eval -  0.7233494971264368\n",
      "3\n",
      "Loss: 0.8189972084760666; F1 measure: 0.74671875\n",
      "Loss: 0.812115375995636; F1 measure: 0.7473046875\n",
      "Loss: 0.8023925479253133; F1 measure: 0.7495442708333333\n",
      "Loss: 0.7957931512594223; F1 measure: 0.752353515625\n",
      "Loss: 0.7878573575019836; F1 measure: 0.7547265625\n",
      "Eval -  0.7482405411877395\n",
      "4\n",
      "Loss: 0.7163863027095795; F1 measure: 0.7746484375\n",
      "Loss: 0.7063124039769173; F1 measure: 0.77802734375\n",
      "Loss: 0.70201800207297; F1 measure: 0.7785416666666667\n",
      "Loss: 0.6974907685816288; F1 measure: 0.780703125\n",
      "Loss: 0.6953367521762848; F1 measure: 0.7814453125\n",
      "Eval -  0.7612601772030652\n",
      "5\n",
      "Loss: 0.6381947246193885; F1 measure: 0.801328125\n",
      "Loss: 0.6351038740575313; F1 measure: 0.8006640625\n",
      "Loss: 0.6329314880569776; F1 measure: 0.8010026041666667\n",
      "Loss: 0.6318752785772085; F1 measure: 0.80125\n",
      "Loss: 0.6284054705500602; F1 measure: 0.801921875\n",
      "Eval -  0.7726394875478927\n",
      "6\n",
      "Loss: 0.583585424721241; F1 measure: 0.8152734375\n",
      "Loss: 0.5796784365177154; F1 measure: 0.81775390625\n",
      "Loss: 0.5782570865750313; F1 measure: 0.8176432291666667\n",
      "Loss: 0.5759222892671824; F1 measure: 0.81875\n",
      "Loss: 0.5757328113317489; F1 measure: 0.8190625\n",
      "Eval -  0.7789146312260536\n",
      "7\n",
      "Loss: 0.5341010338068009; F1 measure: 0.831484375\n",
      "Loss: 0.5356463412940502; F1 measure: 0.8300390625\n",
      "Loss: 0.5386197704076767; F1 measure: 0.8299479166666667\n",
      "Loss: 0.5349517285823822; F1 measure: 0.83123046875\n",
      "Loss: 0.5324598643779754; F1 measure: 0.832328125\n",
      "Eval -  0.7886871408045977\n",
      "8\n",
      "Loss: 0.48952979385852813; F1 measure: 0.8453515625\n",
      "Loss: 0.4932489763200283; F1 measure: 0.8452734375\n",
      "Loss: 0.4943637558817863; F1 measure: 0.8448307291666667\n",
      "Loss: 0.49427898682653904; F1 measure: 0.8447265625\n",
      "Loss: 0.4922732102274895; F1 measure: 0.8455859375\n",
      "Eval -  0.7920222701149425\n",
      "9\n",
      "Loss: 0.46336703181266786; F1 measure: 0.85640625\n",
      "Loss: 0.46282783165574076; F1 measure: 0.85646484375\n",
      "Loss: 0.4612191939353943; F1 measure: 0.8561067708333333\n",
      "Loss: 0.4582536684721708; F1 measure: 0.8560546875\n",
      "Loss: 0.4556128804087639; F1 measure: 0.856703125\n",
      "Eval -  0.7923473419540229\n"
     ]
    }
   ],
   "source": [
    "f1s = []\n",
    "f1s_eval = []\n",
    "\n",
    "for i in range(10):\n",
    "    print(i)\n",
    "    f1s.append(train(model, training_generator, optimizer, criterion, 100))\n",
    "    evl = evaluate(model, valid_generator, criterion)\n",
    "    print('Eval - ', evl)\n",
    "    f1s_eval.append(evl)"
   ]
  },
  {
   "cell_type": "code",
   "execution_count": 25,
   "metadata": {},
   "outputs": [
    {
     "data": {
      "image/png": "[encoded data removed]",
      "text/plain": [
       "<Figure size 432x288 with 1 Axes>"
      ]
     },
     "metadata": {
      "needs_background": "light"
     },
     "output_type": "display_data"
    }
   ],
   "source": [
    "plt.plot(f1s)\n",
    "plt.plot(f1s_eval)\n",
    "plt.title('model f1 micro')\n",
    "plt.ylabel('f1')\n",
    "plt.xlabel('epoch')\n",
    "plt.legend(['train', 'val'], loc='upper left')\n",
    "plt.show()"
   ]
  },
  {
   "cell_type": "code",
   "execution_count": null,
   "metadata": {},
   "outputs": [],
   "source": [
    "max(f1s_eval)"
   ]
  },
  {
   "cell_type": "markdown",
   "metadata": {},
   "source": [
    "# Пулинг"
   ]
  },
  {
   "cell_type": "markdown",
   "metadata": {},
   "source": [
    "Вместе с CNN слоями часто используют пулинг слои. По сути это такие же сверточные слои, но без обучаемой части. В CNN фильтры обучаются под конкретную задачу, а в пулинге фильтры фиксированы (как правило это стандартная функция - максимум, среднее). Например, MaxPooling будет брать кусочек входной последовательности и передавать дальше максимальное значение в этом кусочке.\n",
    "\n",
    "Параметры пулинга практически такие же как и в CNN (kernel_size, stride), но нет in_channels, out_channels, так как размерность вектора никак не меняется. Расчитать длину последовательности после пулинга можно также как и в CNN - нужно знать длину входной последовательности, kernel_size и stride."
   ]
  },
  {
   "cell_type": "code",
   "execution_count": 76,
   "metadata": {},
   "outputs": [],
   "source": [
    "class Clf(nn.Module):\n",
    "    \n",
    "    def __init__(self, output_dim):\n",
    "        \n",
    "        super().__init__()          \n",
    "        self.VOCAB_SIZE = len(word2id)\n",
    "        self.EMB_DIM = 100\n",
    "        self.KERNEL_SIZE = 5\n",
    "        self.MAX_LEN = 200\n",
    "        self.IN_CHANNELS = self.EMB_DIM\n",
    "        self.OUT_CHANNELS = 128\n",
    "        self.STRIDE = 2\n",
    "        self.STRIDE_POOL = 2\n",
    "        self.KERNEL_SIZE_POOL = 2\n",
    "        self.HIDDEN_FC = 64\n",
    "        \n",
    "        \n",
    "        self.embedding = nn.Embedding(self.VOCAB_SIZE, self.EMB_DIM)\n",
    "        self.conv = nn.Conv1d(self.IN_CHANNELS, \n",
    "                              self.OUT_CHANNELS, \n",
    "                              kernel_size=self.KERNEL_SIZE, \n",
    "                              stride=self.STRIDE) \n",
    "        \n",
    "        # считаем длину после снн\n",
    "        self.conv_length = int((((self.MAX_LEN-(self.KERNEL_SIZE-1)-1)/self.STRIDE)+1))\n",
    "        \n",
    "        \n",
    "        # пулинг с максимумом\n",
    "        self.max_pool = nn.MaxPool1d(kernel_size=self.KERNEL_SIZE_POOL, \n",
    "                                     stride=self.STRIDE_POOL) \n",
    "        # также считаем длину после пулинга\n",
    "        self.pool_length = int((((self.conv_length-(self.KERNEL_SIZE_POOL-1)-1)/self.STRIDE_POOL)+1))\n",
    "        \n",
    "        \n",
    "        # функций активации много \n",
    "        # релу самая популярная\n",
    "        # у нее есть вариант с \"протечкой\"\n",
    "        # в нем отрицательные значений зануляются не полностью\n",
    "        # а с каким-то маленьким коэффициентом (0.05) например\n",
    "        self.relu = torch.nn.LeakyReLU()\n",
    "        \n",
    "        \n",
    "        # считаем размерность конкатенированного вектора\n",
    "        # умножаем размерность вектора после CNN на длину последовательности после пулинга\n",
    "        self.fc = nn.Linear(self.OUT_CHANNELS * self.pool_length, \n",
    "                            self.HIDDEN_FC)\n",
    "        self.fc_1 = nn.Linear(self.HIDDEN_FC, output_dim)\n",
    "        self.act = nn.LogSoftmax(1) \n",
    "        \n",
    "        \n",
    "    def forward(self, text):\n",
    "        embedded = self.embedding(text).permute(0, 2, 1)\n",
    "        convoluted = self.relu(self.conv(embedded))\n",
    "        pooled = self.max_pool(convoluted)\n",
    "        hidden = torch.flatten(pooled, 1, -1)\n",
    "        hidden = self.relu(self.fc(hidden))\n",
    "        dense_outputs=self.fc_1(hidden) \n",
    "        outputs=self.act(dense_outputs)\n",
    "        return outputs\n",
    "\n",
    "\n",
    "device = torch.device('cuda' if torch.cuda.is_available() else 'cpu')  \n",
    "model = Clf(len(label2id))\n",
    "\n",
    "\n",
    "optimizer = optim.Adam(model.parameters(), lr=0.001)\n",
    "criterion = nn.NLLLoss() \n",
    "model = model.to(device)\n",
    "criterion = criterion.to(device)"
   ]
  },
  {
   "cell_type": "code",
   "execution_count": 24,
   "metadata": {
    "scrolled": true
   },
   "outputs": [
    {
     "name": "stdout",
     "output_type": "stream",
     "text": [
      "0\n",
      "Loss: 2.6197411823272705; F1 measure: 0.1808203125\n",
      "Loss: 2.4586977422237397; F1 measure: 0.19806640625\n",
      "Loss: 2.373960111141205; F1 measure: 0.20907552083333333\n",
      "Loss: 2.293777464926243; F1 measure: 0.235419921875\n",
      "Loss: 2.1999969239234924; F1 measure: 0.2706328125\n",
      "Eval -  0.46314655172413793\n",
      "1\n",
      "Loss: 1.5232779133319854; F1 measure: 0.5215234375\n",
      "Loss: 1.4571399873495101; F1 measure: 0.54337890625\n",
      "Loss: 1.4014333546161652; F1 measure: 0.5609895833333334\n",
      "Loss: 1.355219143331051; F1 measure: 0.57517578125\n",
      "Loss: 1.313402940273285; F1 measure: 0.588875\n",
      "Eval -  0.6512631704980844\n",
      "2\n",
      "Loss: 1.0344296985864638; F1 measure: 0.6799609375\n",
      "Loss: 1.0047901949286462; F1 measure: 0.68927734375\n",
      "Loss: 0.9862580219904582; F1 measure: 0.6943098958333334\n",
      "Loss: 0.9652436164021492; F1 measure: 0.701083984375\n",
      "Loss: 0.9504220184087754; F1 measure: 0.705734375\n",
      "Eval -  0.7233494971264368\n",
      "3\n",
      "Loss: 0.8189972084760666; F1 measure: 0.74671875\n",
      "Loss: 0.812115375995636; F1 measure: 0.7473046875\n",
      "Loss: 0.8023925479253133; F1 measure: 0.7495442708333333\n",
      "Loss: 0.7957931512594223; F1 measure: 0.752353515625\n",
      "Loss: 0.7878573575019836; F1 measure: 0.7547265625\n",
      "Eval -  0.7482405411877395\n",
      "4\n",
      "Loss: 0.7163863027095795; F1 measure: 0.7746484375\n",
      "Loss: 0.7063124039769173; F1 measure: 0.77802734375\n",
      "Loss: 0.70201800207297; F1 measure: 0.7785416666666667\n",
      "Loss: 0.6974907685816288; F1 measure: 0.780703125\n",
      "Loss: 0.6953367521762848; F1 measure: 0.7814453125\n",
      "Eval -  0.7612601772030652\n",
      "5\n",
      "Loss: 0.6381947246193885; F1 measure: 0.801328125\n",
      "Loss: 0.6351038740575313; F1 measure: 0.8006640625\n",
      "Loss: 0.6329314880569776; F1 measure: 0.8010026041666667\n",
      "Loss: 0.6318752785772085; F1 measure: 0.80125\n",
      "Loss: 0.6284054705500602; F1 measure: 0.801921875\n",
      "Eval -  0.7726394875478927\n",
      "6\n",
      "Loss: 0.583585424721241; F1 measure: 0.8152734375\n",
      "Loss: 0.5796784365177154; F1 measure: 0.81775390625\n",
      "Loss: 0.5782570865750313; F1 measure: 0.8176432291666667\n",
      "Loss: 0.5759222892671824; F1 measure: 0.81875\n",
      "Loss: 0.5757328113317489; F1 measure: 0.8190625\n",
      "Eval -  0.7789146312260536\n",
      "7\n",
      "Loss: 0.5341010338068009; F1 measure: 0.831484375\n",
      "Loss: 0.5356463412940502; F1 measure: 0.8300390625\n",
      "Loss: 0.5386197704076767; F1 measure: 0.8299479166666667\n",
      "Loss: 0.5349517285823822; F1 measure: 0.83123046875\n",
      "Loss: 0.5324598643779754; F1 measure: 0.832328125\n",
      "Eval -  0.7886871408045977\n",
      "8\n",
      "Loss: 0.48952979385852813; F1 measure: 0.8453515625\n",
      "Loss: 0.4932489763200283; F1 measure: 0.8452734375\n",
      "Loss: 0.4943637558817863; F1 measure: 0.8448307291666667\n",
      "Loss: 0.49427898682653904; F1 measure: 0.8447265625\n",
      "Loss: 0.4922732102274895; F1 measure: 0.8455859375\n",
      "Eval -  0.7920222701149425\n",
      "9\n",
      "Loss: 0.46336703181266786; F1 measure: 0.85640625\n",
      "Loss: 0.46282783165574076; F1 measure: 0.85646484375\n",
      "Loss: 0.4612191939353943; F1 measure: 0.8561067708333333\n",
      "Loss: 0.4582536684721708; F1 measure: 0.8560546875\n",
      "Loss: 0.4556128804087639; F1 measure: 0.856703125\n",
      "Eval -  0.7923473419540229\n"
     ]
    }
   ],
   "source": [
    "f1s = []\n",
    "f1s_eval = []\n",
    "\n",
    "for i in range(10):\n",
    "    print(i)\n",
    "    f1s.append(train(model, training_generator, optimizer, criterion, 100))\n",
    "    evl = evaluate(model, valid_generator, criterion)\n",
    "    print('Eval - ', evl)\n",
    "    f1s_eval.append(evl)"
   ]
  },
  {
   "cell_type": "code",
   "execution_count": 25,
   "metadata": {},
   "outputs": [
    {
     "data": {
      "image/png": "[encoded data removed]",
      "text/plain": [
       "<Figure size 432x288 with 1 Axes>"
      ]
     },
     "metadata": {
      "needs_background": "light"
     },
     "output_type": "display_data"
    }
   ],
   "source": [
    "plt.plot(f1s)\n",
    "plt.plot(f1s_eval)\n",
    "plt.title('model f1 micro')\n",
    "plt.ylabel('f1')\n",
    "plt.xlabel('epoch')\n",
    "plt.legend(['train', 'val'], loc='upper left')\n",
    "plt.show()"
   ]
  },
  {
   "cell_type": "code",
   "execution_count": 79,
   "metadata": {},
   "outputs": [
    {
     "data": {
      "text/plain": [
       "0.7615385536398468"
      ]
     },
     "execution_count": 79,
     "metadata": {},
     "output_type": "execute_result"
    }
   ],
   "source": [
    "max(f1s_eval)"
   ]
  },
  {
   "cell_type": "markdown",
   "metadata": {},
   "source": [
    "# Регуляризация"
   ]
  },
  {
   "cell_type": "markdown",
   "metadata": {},
   "source": [
    "Для того, чтобы сократить переобучение (а часто и просто чтобы улучшить качество) используют BatchNorm, DropOut и регуляризацию. \n",
    "\n",
    "DropOut - самый простой метод, он просто с какой-то вероятностью зануляет числа во входной матрице (есть еще dropout который зануляет рандомно, но уже сразу целиком какую-то размерность; в нашем случае он может например во всех эмбедингах занулить 2 и 5 элементы. Такой дропаут в торче называется DropOut2d). Использовать его очень легко - ```drop = nn.Dropout(0.3); drop(input)``` (также как relu в предыдущих примерах, но с 1 параметром). Для сверток Dropout однако почти не используют. \n",
    "\n",
    "В свертках используют BatchNorm. BatchNorm нормализует числа внутри батча так, чтобы они лежали в каком-то фиксированном интервале (от до 1). Это помогает сделать модель более устойчивой к изменениями во входных данных (например, если какое-то значение вдруг слишком сильно увеличится, то батчнорм не позволит ему слишком сильно повлиять на последующие слои), а также просто ускоряет обучение. Технически батчнорм не очень простой (там еще есть обучаемые параметры), вот несколько видео, если вам интересно разобраться -  https://www.youtube.com/watch?v=dXB-KQYkzNU , https://www.youtube.com/watch?v=nUUqwaxLnWs\n",
    "\n",
    "Регуляризация - это ограничения на значения параметров в модели. В торче добавить L2 регуляризацию можно в оптимайзере, задав параметр weight_decay и указав веса какого слоя нужно регуляризировать. Скорее всего вам это не пригодится, но полезно знать про такую возможность."
   ]
  },
  {
   "cell_type": "markdown",
   "metadata": {},
   "source": [
    "Добавим батчнорм и регуляризацию."
   ]
  },
  {
   "cell_type": "code",
   "execution_count": 103,
   "metadata": {},
   "outputs": [],
   "source": [
    "class Clf(nn.Module):\n",
    "    \n",
    "    def __init__(self, output_dim):\n",
    "        \n",
    "        super().__init__()          \n",
    "        self.VOCAB_SIZE = len(word2id)\n",
    "        self.EMB_DIM = 100\n",
    "        self.KERNEL_SIZE = 5\n",
    "        self.MAX_LEN = 200\n",
    "        self.IN_CHANNELS = self.EMB_DIM\n",
    "        self.OUT_CHANNELS = 128\n",
    "        self.STRIDE = 2\n",
    "        self.STRIDE_POOL = 2\n",
    "        self.KERNEL_SIZE_POOL = 2\n",
    "        self.HIDDEN_FC = 64\n",
    "        \n",
    "        \n",
    "        self.embedding = nn.Embedding(self.VOCAB_SIZE, self.EMB_DIM)\n",
    "        self.conv = nn.Conv1d(self.IN_CHANNELS, \n",
    "                              self.OUT_CHANNELS, \n",
    "                              kernel_size=self.KERNEL_SIZE, \n",
    "                              stride=self.STRIDE) \n",
    "        self.conv_length = int((((self.MAX_LEN-(self.KERNEL_SIZE-1)-1)/self.STRIDE)+1))\n",
    "        \n",
    "        # инициализируем батчнорм\n",
    "        self.batch_norm = nn.BatchNorm1d(self.conv_length)\n",
    "\n",
    "        \n",
    "        self.max_pool = nn.MaxPool1d(kernel_size=self.KERNEL_SIZE_POOL, \n",
    "                                     stride=self.STRIDE_POOL) \n",
    "        self.pool_length = int((((self.conv_length-(self.KERNEL_SIZE_POOL-1)-1)/self.STRIDE_POOL)+1))\n",
    "        \n",
    "        self.relu = torch.nn.LeakyReLU()\n",
    "        \n",
    "\n",
    "        self.fc = nn.Linear(self.OUT_CHANNELS * self.pool_length, \n",
    "                            self.HIDDEN_FC)\n",
    "        self.fc_1 = nn.Linear(self.HIDDEN_FC, output_dim)\n",
    "        self.act = nn.LogSoftmax(1) \n",
    "        \n",
    "        \n",
    "    def forward(self, text):\n",
    "        embedded = self.embedding(text).permute(0, 2, 1)\n",
    "        convoluted = self.conv(embedded)\n",
    "        # я не нашел совсем достоверной информации, но пару авторитетных мнений\n",
    "        # указывают на то, что батчнорм нужно ставить после свертки-пулинга-активации\n",
    "        # а не где-то внутри этой тройки\n",
    "        # то есть нужно держаться структуры свертка-*пулинг*-активация-батчнорм (пулинг опциональный)\n",
    "        pooled = self.batch_norm(self.relu(self.max_pool(convoluted)))\n",
    "        hidden = torch.flatten(pooled, 1, -1)\n",
    "        hidden = self.relu(self.fc(hidden))\n",
    "        dense_outputs=self.fc_1(hidden) \n",
    "        outputs=self.act(dense_outputs)\n",
    "        \n",
    "        return outputs\n",
    "\n",
    "\n",
    "\n",
    "device = torch.device('cuda' if torch.cuda.is_available() else 'cpu')  \n",
    "model = Clf(len(label2id))\n",
    "\n",
    "\n",
    "optimizer = optim.Adam([{'params':model.fc_1.parameters()},\n",
    "                        {'params':model.conv.parameters()},\n",
    "                        {'params':model.embedding.parameters()},\n",
    "                        {'params': model.fc.parameters(), 'weight_decay':0.1}],  # указываем в этом слое L2 регуляризацию\n",
    "                                                                                 # можно пробовать значения как в sklearn\n",
    "                                                                                 # в параметре C в логреге\n",
    "                       \n",
    "                         lr=0.001) # лернирг рейт тоже можно отдельно указать выше, но мы используем 1 на все слои\n",
    "criterion = nn.CrossEntropyLoss() \n",
    "model = model.to(device)\n",
    "criterion = criterion.to(device)"
   ]
  },
  {
   "cell_type": "code",
   "execution_count": 24,
   "metadata": {
    "scrolled": true
   },
   "outputs": [
    {
     "name": "stdout",
     "output_type": "stream",
     "text": [
      "0\n",
      "Loss: 2.6197411823272705; F1 measure: 0.1808203125\n",
      "Loss: 2.4586977422237397; F1 measure: 0.19806640625\n",
      "Loss: 2.373960111141205; F1 measure: 0.20907552083333333\n",
      "Loss: 2.293777464926243; F1 measure: 0.235419921875\n",
      "Loss: 2.1999969239234924; F1 measure: 0.2706328125\n",
      "Eval -  0.46314655172413793\n",
      "1\n",
      "Loss: 1.5232779133319854; F1 measure: 0.5215234375\n",
      "Loss: 1.4571399873495101; F1 measure: 0.54337890625\n",
      "Loss: 1.4014333546161652; F1 measure: 0.5609895833333334\n",
      "Loss: 1.355219143331051; F1 measure: 0.57517578125\n",
      "Loss: 1.313402940273285; F1 measure: 0.588875\n",
      "Eval -  0.6512631704980844\n",
      "2\n",
      "Loss: 1.0344296985864638; F1 measure: 0.6799609375\n",
      "Loss: 1.0047901949286462; F1 measure: 0.68927734375\n",
      "Loss: 0.9862580219904582; F1 measure: 0.6943098958333334\n",
      "Loss: 0.9652436164021492; F1 measure: 0.701083984375\n",
      "Loss: 0.9504220184087754; F1 measure: 0.705734375\n",
      "Eval -  0.7233494971264368\n",
      "3\n",
      "Loss: 0.8189972084760666; F1 measure: 0.74671875\n",
      "Loss: 0.812115375995636; F1 measure: 0.7473046875\n",
      "Loss: 0.8023925479253133; F1 measure: 0.7495442708333333\n",
      "Loss: 0.7957931512594223; F1 measure: 0.752353515625\n",
      "Loss: 0.7878573575019836; F1 measure: 0.7547265625\n",
      "Eval -  0.7482405411877395\n",
      "4\n",
      "Loss: 0.7163863027095795; F1 measure: 0.7746484375\n",
      "Loss: 0.7063124039769173; F1 measure: 0.77802734375\n",
      "Loss: 0.70201800207297; F1 measure: 0.7785416666666667\n",
      "Loss: 0.6974907685816288; F1 measure: 0.780703125\n",
      "Loss: 0.6953367521762848; F1 measure: 0.7814453125\n",
      "Eval -  0.7612601772030652\n",
      "5\n",
      "Loss: 0.6381947246193885; F1 measure: 0.801328125\n",
      "Loss: 0.6351038740575313; F1 measure: 0.8006640625\n",
      "Loss: 0.6329314880569776; F1 measure: 0.8010026041666667\n",
      "Loss: 0.6318752785772085; F1 measure: 0.80125\n",
      "Loss: 0.6284054705500602; F1 measure: 0.801921875\n",
      "Eval -  0.7726394875478927\n",
      "6\n",
      "Loss: 0.583585424721241; F1 measure: 0.8152734375\n",
      "Loss: 0.5796784365177154; F1 measure: 0.81775390625\n",
      "Loss: 0.5782570865750313; F1 measure: 0.8176432291666667\n",
      "Loss: 0.5759222892671824; F1 measure: 0.81875\n",
      "Loss: 0.5757328113317489; F1 measure: 0.8190625\n",
      "Eval -  0.7789146312260536\n",
      "7\n",
      "Loss: 0.5341010338068009; F1 measure: 0.831484375\n",
      "Loss: 0.5356463412940502; F1 measure: 0.8300390625\n",
      "Loss: 0.5386197704076767; F1 measure: 0.8299479166666667\n",
      "Loss: 0.5349517285823822; F1 measure: 0.83123046875\n",
      "Loss: 0.5324598643779754; F1 measure: 0.832328125\n",
      "Eval -  0.7886871408045977\n",
      "8\n",
      "Loss: 0.48952979385852813; F1 measure: 0.8453515625\n",
      "Loss: 0.4932489763200283; F1 measure: 0.8452734375\n",
      "Loss: 0.4943637558817863; F1 measure: 0.8448307291666667\n",
      "Loss: 0.49427898682653904; F1 measure: 0.8447265625\n",
      "Loss: 0.4922732102274895; F1 measure: 0.8455859375\n",
      "Eval -  0.7920222701149425\n",
      "9\n",
      "Loss: 0.46336703181266786; F1 measure: 0.85640625\n",
      "Loss: 0.46282783165574076; F1 measure: 0.85646484375\n",
      "Loss: 0.4612191939353943; F1 measure: 0.8561067708333333\n",
      "Loss: 0.4582536684721708; F1 measure: 0.8560546875\n",
      "Loss: 0.4556128804087639; F1 measure: 0.856703125\n",
      "Eval -  0.7923473419540229\n"
     ]
    }
   ],
   "source": [
    "f1s = []\n",
    "f1s_eval = []\n",
    "\n",
    "for i in range(10):\n",
    "    print(i)\n",
    "    f1s.append(train(model, training_generator, optimizer, criterion, 100))\n",
    "    evl = evaluate(model, valid_generator, criterion)\n",
    "    print('Eval - ', evl)\n",
    "    f1s_eval.append(evl)"
   ]
  },
  {
   "cell_type": "code",
   "execution_count": 25,
   "metadata": {},
   "outputs": [
    {
     "data": {
      "image/png": "[encoded data removed]",
      "text/plain": [
       "<Figure size 432x288 with 1 Axes>"
      ]
     },
     "metadata": {
      "needs_background": "light"
     },
     "output_type": "display_data"
    }
   ],
   "source": [
    "plt.plot(f1s)\n",
    "plt.plot(f1s_eval)\n",
    "plt.title('model f1 micro')\n",
    "plt.ylabel('f1')\n",
    "plt.xlabel('epoch')\n",
    "plt.legend(['train', 'val'], loc='upper left')\n",
    "plt.show()"
   ]
  },
  {
   "cell_type": "code",
   "execution_count": null,
   "metadata": {},
   "outputs": [],
   "source": []
  },
  {
   "cell_type": "code",
   "execution_count": 107,
   "metadata": {},
   "outputs": [
    {
     "data": {
      "text/plain": [
       "0.7343342911877394"
      ]
     },
     "execution_count": 107,
     "metadata": {},
     "output_type": "execute_result"
    }
   ],
   "source": [
    "max(f1s_eval)"
   ]
  },
  {
   "cell_type": "code",
   "execution_count": null,
   "metadata": {},
   "outputs": [],
   "source": []
  },
  {
   "cell_type": "markdown",
   "metadata": {},
   "source": [
    "### Несколько слоев с паддингом"
   ]
  },
  {
   "cell_type": "markdown",
   "metadata": {},
   "source": [
    "Во всех сетках выше только 1 CNN слой и еще 1 доп. пулинг. Но рабочие сверточные сети это обычно десятки сверток и пулингов, которые наслаиваются друг на друга. Из когда выше видно, что собрать такую сетку будет непросто - будет очень много промежуточного когда для расчета размерностей. Чтобы этого избежать можно написать отдельный класс, который будет применять сверточный слой и сохранять длину последовательности. Для этого мы воспользуемся паддингом - добьем нулями исходную последовательность, чтобы на выходе получилась изначальная длина."
   ]
  },
  {
   "cell_type": "code",
   "execution_count": 167,
   "metadata": {},
   "outputs": [],
   "source": [
    "# созданный класс в торче можно использовать просто как слой!\n",
    "\n",
    "class Conv_layer_with_pad(nn.Module):\n",
    "    \n",
    "    def __init__(self, in_channels, out_channels):\n",
    "        \n",
    "        super().__init__()          \n",
    "        self.KERNEL_SIZE = 7\n",
    "        self.IN_CHANNELS = in_channels\n",
    "        self.OUT_CHANNELS = 32\n",
    "        self.STRIDE = 1\n",
    "        self.conv = nn.Conv1d(self.IN_CHANNELS, \n",
    "                              self.OUT_CHANNELS, \n",
    "                              kernel_size=self.KERNEL_SIZE, \n",
    "                              stride=self.STRIDE, ) \n",
    "        \n",
    "        self.act = nn.LeakyReLU()\n",
    "        \n",
    "    def forward(self, embedded):\n",
    "        \"\"\"\n",
    "        Раньше мы расчитывали длину, которая получится, после применения сверточного слоя  по формуле:\n",
    "        OUTPUT_LENGTH = (((MAX_LEN-(KERNEL_SIZE-1)-1)/STRIDE)+1)\n",
    "        \n",
    "        \n",
    "        Теперь мы хотим на выходе получить длину, которая будет соответствовать длине изначальной последовательности.\n",
    "        Т.е. мы знаем OUTPUT_LENGTH и наша задача найти такой MAX_LEN, при котором он получается (остальные параметры фиксированы)\n",
    "        Перенесем все известные значения влево и получится вот такая формула\n",
    "        ((OUTPUT_LENGTH-1)*STRIDE)+1+(KERNEL_SIZE-1) = MAX_LEN\n",
    "        \n",
    "        Используя нужное значение MAX_LEN, нам нужно допаддить изначальную последовательность до этой длины\n",
    "        Т.к. мы будет падить с двух сторон, то нужно, чтобы получившееся число делилось на 2\n",
    "        \n",
    "        \n",
    "        \n",
    "        \"\"\"\n",
    "        MAX_LEN = embedded.size(2)\n",
    "        EXP_LEN = ((MAX_LEN-1)*self.STRIDE)+1+(self.KERNEL_SIZE-1)\n",
    "\n",
    "        # нужно чтобы все сходилось, иначе выдавать ошибку\n",
    "        assert not (EXP_LEN-MAX_LEN)%2, f\"Не ровный паддинг! {EXP_LEN}\"\n",
    "        \n",
    "        # допустим чтобы получить изначальную длину в 200\n",
    "        # нужно добавить нулей до 210\n",
    "        # тогда мы добавляем 5 нулей слева и 5 справа\n",
    "        # ассерт выше выкинул бы ошибку если бы у нас получалось например 209, \n",
    "        # то есть мы не смогли бы ровно западить с 2 сторон\n",
    "        padded = F.pad(embedded, (int((EXP_LEN-MAX_LEN)/2), \n",
    "                                                   int((EXP_LEN-MAX_LEN)/2)))\n",
    "        \n",
    "        convoluted = self.conv(padded)\n",
    "        \n",
    "        return self.act(convoluted)\n",
    "\n",
    "\n",
    "class Clf(nn.Module):\n",
    "    \n",
    "    def __init__(self, output_dim):\n",
    "        \n",
    "        super().__init__()          \n",
    "        self.VOCAB_SIZE = len(word2id)\n",
    "        self.EMB_DIM = 100\n",
    "        self.KERNEL_SIZE = 7\n",
    "        self.MAX_LEN = 200\n",
    "        self.IN_CHANNELS = self.MAX_LEN\n",
    "        self.OUT_CHANNELS = 32\n",
    "        self.STRIDE = 1\n",
    "        self.HIDDEN_FC = 64\n",
    "        \n",
    "        \n",
    "        self.embedding = nn.Embedding(self.VOCAB_SIZE, self.EMB_DIM)\n",
    "        \n",
    "        # теперь слои удобно стакать\n",
    "        # нужно только указывать OUT_CHANNELS как IN_CHANNELS в следующем слое\n",
    "        self.conv = Conv_layer_with_pad(self.EMB_DIM, self.OUT_CHANNELS)\n",
    "        self.conv1 = Conv_layer_with_pad(self.OUT_CHANNELS, 16)\n",
    "        self.relu = nn.ReLU()\n",
    "        # если бы мы поставили еще 1 слой, то его IN_CHANNELS была бы 16 и тд\n",
    "\n",
    "        # длина сохраняется поэтому просто умножаем макс лен на OUT_CHANNELS последнего слоя\n",
    "        self.flattened_size = int(self.MAX_LEN*16)\n",
    "        \n",
    "        self.fc = nn.Linear(self.flattened_size, \n",
    "                            self.HIDDEN_FC)\n",
    "        self.fc_1 = nn.Linear(self.HIDDEN_FC, output_dim)\n",
    "        self.act = nn.LogSoftmax(1) \n",
    "        \n",
    "        \n",
    "    def forward(self, text):\n",
    "\n",
    "        embedded = self.embedding(text)\n",
    "        convoluted = self.relu(self.conv1(self.conv(embedded.permute(0, 2, 1))))\n",
    "        hidden = torch.flatten(convoluted, 1, -1)\n",
    "        hidden = torch.relu(self.fc(hidden))\n",
    "        dense_outputs=self.fc_1(hidden) \n",
    "        outputs=self.act(dense_outputs)\n",
    "\n",
    "        return outputs\n",
    "\n",
    "\n",
    "device = torch.device('cuda' if torch.cuda.is_available() else 'cpu')  \n",
    "model = Clf(len(label2id))\n",
    "\n",
    "\n",
    "optimizer = optim.Adam(model.parameters(), lr=0.001)\n",
    "criterion = nn.NLLLoss() \n",
    "\n",
    "model = model.to(device)\n",
    "criterion = criterion.to(device)"
   ]
  },
  {
   "cell_type": "code",
   "execution_count": 24,
   "metadata": {
    "scrolled": true
   },
   "outputs": [
    {
     "name": "stdout",
     "output_type": "stream",
     "text": [
      "0\n",
      "Loss: 2.6197411823272705; F1 measure: 0.1808203125\n",
      "Loss: 2.4586977422237397; F1 measure: 0.19806640625\n",
      "Loss: 2.373960111141205; F1 measure: 0.20907552083333333\n",
      "Loss: 2.293777464926243; F1 measure: 0.235419921875\n",
      "Loss: 2.1999969239234924; F1 measure: 0.2706328125\n",
      "Eval -  0.46314655172413793\n",
      "1\n",
      "Loss: 1.5232779133319854; F1 measure: 0.5215234375\n",
      "Loss: 1.4571399873495101; F1 measure: 0.54337890625\n",
      "Loss: 1.4014333546161652; F1 measure: 0.5609895833333334\n",
      "Loss: 1.355219143331051; F1 measure: 0.57517578125\n",
      "Loss: 1.313402940273285; F1 measure: 0.588875\n",
      "Eval -  0.6512631704980844\n",
      "2\n",
      "Loss: 1.0344296985864638; F1 measure: 0.6799609375\n",
      "Loss: 1.0047901949286462; F1 measure: 0.68927734375\n",
      "Loss: 0.9862580219904582; F1 measure: 0.6943098958333334\n",
      "Loss: 0.9652436164021492; F1 measure: 0.701083984375\n",
      "Loss: 0.9504220184087754; F1 measure: 0.705734375\n",
      "Eval -  0.7233494971264368\n",
      "3\n",
      "Loss: 0.8189972084760666; F1 measure: 0.74671875\n",
      "Loss: 0.812115375995636; F1 measure: 0.7473046875\n",
      "Loss: 0.8023925479253133; F1 measure: 0.7495442708333333\n",
      "Loss: 0.7957931512594223; F1 measure: 0.752353515625\n",
      "Loss: 0.7878573575019836; F1 measure: 0.7547265625\n",
      "Eval -  0.7482405411877395\n",
      "4\n",
      "Loss: 0.7163863027095795; F1 measure: 0.7746484375\n",
      "Loss: 0.7063124039769173; F1 measure: 0.77802734375\n",
      "Loss: 0.70201800207297; F1 measure: 0.7785416666666667\n",
      "Loss: 0.6974907685816288; F1 measure: 0.780703125\n",
      "Loss: 0.6953367521762848; F1 measure: 0.7814453125\n",
      "Eval -  0.7612601772030652\n",
      "5\n",
      "Loss: 0.6381947246193885; F1 measure: 0.801328125\n",
      "Loss: 0.6351038740575313; F1 measure: 0.8006640625\n",
      "Loss: 0.6329314880569776; F1 measure: 0.8010026041666667\n",
      "Loss: 0.6318752785772085; F1 measure: 0.80125\n",
      "Loss: 0.6284054705500602; F1 measure: 0.801921875\n",
      "Eval -  0.7726394875478927\n",
      "6\n",
      "Loss: 0.583585424721241; F1 measure: 0.8152734375\n",
      "Loss: 0.5796784365177154; F1 measure: 0.81775390625\n",
      "Loss: 0.5782570865750313; F1 measure: 0.8176432291666667\n",
      "Loss: 0.5759222892671824; F1 measure: 0.81875\n",
      "Loss: 0.5757328113317489; F1 measure: 0.8190625\n",
      "Eval -  0.7789146312260536\n",
      "7\n",
      "Loss: 0.5341010338068009; F1 measure: 0.831484375\n",
      "Loss: 0.5356463412940502; F1 measure: 0.8300390625\n",
      "Loss: 0.5386197704076767; F1 measure: 0.8299479166666667\n",
      "Loss: 0.5349517285823822; F1 measure: 0.83123046875\n",
      "Loss: 0.5324598643779754; F1 measure: 0.832328125\n",
      "Eval -  0.7886871408045977\n",
      "8\n",
      "Loss: 0.48952979385852813; F1 measure: 0.8453515625\n",
      "Loss: 0.4932489763200283; F1 measure: 0.8452734375\n",
      "Loss: 0.4943637558817863; F1 measure: 0.8448307291666667\n",
      "Loss: 0.49427898682653904; F1 measure: 0.8447265625\n",
      "Loss: 0.4922732102274895; F1 measure: 0.8455859375\n",
      "Eval -  0.7920222701149425\n",
      "9\n",
      "Loss: 0.46336703181266786; F1 measure: 0.85640625\n",
      "Loss: 0.46282783165574076; F1 measure: 0.85646484375\n",
      "Loss: 0.4612191939353943; F1 measure: 0.8561067708333333\n",
      "Loss: 0.4582536684721708; F1 measure: 0.8560546875\n",
      "Loss: 0.4556128804087639; F1 measure: 0.856703125\n",
      "Eval -  0.7923473419540229\n"
     ]
    }
   ],
   "source": [
    "f1s = []\n",
    "f1s_eval = []\n",
    "\n",
    "for i in range(10):\n",
    "    print(i)\n",
    "    f1s.append(train(model, training_generator, optimizer, criterion, 100))\n",
    "    evl = evaluate(model, valid_generator, criterion)\n",
    "    print('Eval - ', evl)\n",
    "    f1s_eval.append(evl)"
   ]
  },
  {
   "cell_type": "code",
   "execution_count": 25,
   "metadata": {},
   "outputs": [
    {
     "data": {
      "image/png": "[encoded data removed]",
      "text/plain": [
       "<Figure size 432x288 with 1 Axes>"
      ]
     },
     "metadata": {
      "needs_background": "light"
     },
     "output_type": "display_data"
    }
   ],
   "source": [
    "plt.plot(f1s)\n",
    "plt.plot(f1s_eval)\n",
    "plt.title('model f1 micro')\n",
    "plt.ylabel('f1')\n",
    "plt.xlabel('epoch')\n",
    "plt.legend(['train', 'val'], loc='upper left')\n",
    "plt.show()"
   ]
  },
  {
   "cell_type": "code",
   "execution_count": 107,
   "metadata": {},
   "outputs": [
    {
     "data": {
      "text/plain": [
       "0.7343342911877394"
      ]
     },
     "execution_count": 107,
     "metadata": {},
     "output_type": "execute_result"
    }
   ],
   "source": [
    "max(f1s_eval)"
   ]
  },
  {
   "cell_type": "markdown",
   "metadata": {},
   "source": [
    "## Домашнее задание"
   ]
  },
  {
   "cell_type": "markdown",
   "metadata": {},
   "source": [
    "Соберите 1 сетку со всеми разобранными элементами - несколькими свертками, пулингами, батчнормами, активациями, дропаутами и регуляризацией. В вашей архитектуре должны быть как наслоенные (CNN-CNN-CNN-POOLING, например) друг на друга, так и параллельные элементы (CNN-POOLING; CNN-POOLING с конткатенацией выходов первого и второго перед flatten в 1 вектор) "
   ]
  },
  {
   "cell_type": "markdown",
   "metadata": {},
   "source": [
    "Запустите обучение и напечатайте результат. Важно, чтобы получилось не хуже, чем на картинках выше (т.е. качество хотя бы 0.75)"
   ]
  }
 ],
 "metadata": {
  "kernelspec": {
   "display_name": "Python 3",
   "language": "python",
   "name": "python3"
  },
  "language_info": {
   "codemirror_mode": {
    "name": "ipython",
    "version": 3
   },
   "file_extension": ".py",
   "mimetype": "text/x-python",
   "name": "python",
   "nbconvert_exporter": "python",
   "pygments_lexer": "ipython3",
   "version": "3.6.9"
  }
 },
 "nbformat": 4,
 "nbformat_minor": 4
}
