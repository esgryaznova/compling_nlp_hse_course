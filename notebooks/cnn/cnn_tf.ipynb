{
 "cells": [
  {
   "cell_type": "markdown",
   "metadata": {},
   "source": [
    "# Дисклеймер\n",
    "Эту тетрадку нужно запускать в колабе или в vast.ai. Не мучатесь с установкой библиотек и с обучением на cpu."
   ]
  },
  {
   "cell_type": "code",
   "execution_count": 1,
   "metadata": {},
   "outputs": [
    {
     "name": "stdout",
     "output_type": "stream",
     "text": [
      "Archive:  lenta-ru-news.csv.zip\n",
      "  inflating: lenta-ru-news.csv       \n",
      "  inflating: __MACOSX/._lenta-ru-news.csv  \n"
     ]
    }
   ],
   "source": [
    "!unzip lenta-ru-news.csv.zip"
   ]
  },
  {
   "cell_type": "code",
   "execution_count": 2,
   "metadata": {
    "scrolled": true
   },
   "outputs": [
    {
     "name": "stdout",
     "output_type": "stream",
     "text": [
      "Collecting pandas\n",
      "  Downloading pandas-1.1.5-cp36-cp36m-manylinux1_x86_64.whl (9.5 MB)\n",
      "\u001b[K     |████████████████████████████████| 9.5 MB 11.9 MB/s eta 0:00:01\n",
      "\u001b[?25hCollecting scikit-learn\n",
      "  Downloading scikit_learn-0.24.1-cp36-cp36m-manylinux2010_x86_64.whl (22.2 MB)\n",
      "\u001b[K     |████████████████████████████████| 22.2 MB 2.3 MB/s eta 0:00:01\n",
      "\u001b[?25hCollecting matplotlib\n",
      "  Downloading matplotlib-3.3.4-cp36-cp36m-manylinux1_x86_64.whl (11.5 MB)\n",
      "\u001b[K     |████████████████████████████████| 11.5 MB 1.1 MB/s eta 0:00:01\n",
      "\u001b[?25hRequirement already satisfied: numpy>=1.15.4 in /usr/local/lib/python3.6/dist-packages (from pandas) (1.19.5)\n",
      "Requirement already satisfied: pytz>=2017.2 in /usr/local/lib/python3.6/dist-packages (from pandas) (2021.1)\n",
      "Requirement already satisfied: python-dateutil>=2.7.3 in /usr/local/lib/python3.6/dist-packages (from pandas) (2.8.1)\n",
      "Collecting joblib>=0.11\n",
      "  Downloading joblib-1.0.1-py3-none-any.whl (303 kB)\n",
      "\u001b[K     |████████████████████████████████| 303 kB 52.8 MB/s eta 0:00:01\n",
      "\u001b[?25hCollecting scipy>=0.19.1\n",
      "  Downloading scipy-1.5.4-cp36-cp36m-manylinux1_x86_64.whl (25.9 MB)\n",
      "\u001b[K     |████████████████████████████████| 25.9 MB 25.3 MB/s eta 0:00:01\n",
      "\u001b[?25hCollecting threadpoolctl>=2.0.0\n",
      "  Downloading threadpoolctl-2.1.0-py3-none-any.whl (12 kB)\n",
      "Collecting cycler>=0.10\n",
      "  Downloading cycler-0.10.0-py2.py3-none-any.whl (6.5 kB)\n",
      "Collecting kiwisolver>=1.0.1\n",
      "  Downloading kiwisolver-1.3.1-cp36-cp36m-manylinux1_x86_64.whl (1.1 MB)\n",
      "\u001b[K     |████████████████████████████████| 1.1 MB 50.4 MB/s eta 0:00:01\n",
      "\u001b[?25hCollecting pillow>=6.2.0\n",
      "  Downloading Pillow-8.2.0-cp36-cp36m-manylinux1_x86_64.whl (3.0 MB)\n",
      "\u001b[K     |████████████████████████████████| 3.0 MB 37.4 MB/s eta 0:00:01\n",
      "\u001b[?25hRequirement already satisfied: pyparsing!=2.0.4,!=2.1.2,!=2.1.6,>=2.0.3 in /usr/local/lib/python3.6/dist-packages (from matplotlib) (2.4.7)\n",
      "Requirement already satisfied: six>=1.5 in /usr/local/lib/python3.6/dist-packages (from python-dateutil>=2.7.3->pandas) (1.15.0)\n",
      "Installing collected packages: pandas, joblib, scipy, threadpoolctl, scikit-learn, cycler, kiwisolver, pillow, matplotlib\n",
      "Successfully installed cycler-0.10.0 joblib-1.0.1 kiwisolver-1.3.1 matplotlib-3.3.4 pandas-1.1.5 pillow-8.2.0 scikit-learn-0.24.1 scipy-1.5.4 threadpoolctl-2.1.0\n",
      "\u001b[33mWARNING: You are using pip version 20.2.4; however, version 21.0.1 is available.\n",
      "You should consider upgrading via the '/usr/bin/python3 -m pip install --upgrade pip' command.\u001b[0m\n"
     ]
    }
   ],
   "source": [
    "!pip install pandas scikit-learn matplotlib"
   ]
  },
  {
   "cell_type": "markdown",
   "metadata": {},
   "source": [
    "## Сверточные нейронные сети"
   ]
  },
  {
   "cell_type": "markdown",
   "metadata": {},
   "source": [
    "Несколько полносвязных слоев (с нелинейностями посередине) - это уже полноценная нейронная сеть. Однако это скорее какая-то базовая вещь. Действительно нужен полносвязный слой только в конце сети, а в качестве основных используются сверточные или рекуррентные слои. Главное их отличие (=преимущество) - учитывание структукры данных. В этом семинаре мы попробуем использовать сверточные сети. Лучше всего они работают в картинках, но для текстов их тоже можно применять (они быстрее рекуррентных и могут лучше работать на длинных последовательностях)."
   ]
  },
  {
   "cell_type": "markdown",
   "metadata": {},
   "source": [
    "Про то как работают сверточные слои посмотрите в этом видео - https://www.youtube.com/watch?v=bNb2fEVKeEo\n",
    "\n",
    "Основная идея - использовать много небольших (сильно меньше размера текста или картинки) матриц, которые применяются к кусочкам векторизованного текста/картинки. Между кусочком и матрицей считается близость, и эта близость передается дальше по сети. Т.е. кусочек как-бы **сворачивается** в одно число. \n",
    "\n",
    "Эти небольшие матрицы обучаются на данных и, например, для картинок в них собираются различные паттерны, важные для задачи. Например, для определения рукописных цифр, такие матрицы могут представлять горизонтальные черточки, волнистые линии, кружки и т.д. Есть даже целое направление исследований, которое занимается визуализацией и интерпретацией обученных сверток.\n",
    "\n",
    "Из-за того, что матрицы применяются к кусочкам, а не отедльным элементам, гораздо лучше учитывается структура. "
   ]
  },
  {
   "cell_type": "markdown",
   "metadata": {},
   "source": [
    "## Классификация с помощью CNN"
   ]
  },
  {
   "cell_type": "markdown",
   "metadata": {},
   "source": [
    "Давайте посмотрим, как в тензорфлоу использовать сверточные сети и как их соединять с Embedding и Dense слоями."
   ]
  },
  {
   "cell_type": "code",
   "execution_count": 3,
   "metadata": {},
   "outputs": [],
   "source": [
    "import tensorflow as tf"
   ]
  },
  {
   "cell_type": "code",
   "execution_count": 4,
   "metadata": {},
   "outputs": [],
   "source": [
    "import pandas as pd\n",
    "import numpy as np\n",
    "from string import punctuation\n",
    "from sklearn.model_selection import train_test_split\n",
    "from collections import Counter\n",
    "import matplotlib.pyplot as plt\n",
    "%matplotlib inline"
   ]
  },
  {
   "cell_type": "code",
   "execution_count": 5,
   "metadata": {},
   "outputs": [
    {
     "name": "stderr",
     "output_type": "stream",
     "text": [
      "/usr/local/lib/python3.6/dist-packages/IPython/core/interactiveshell.py:3072: DtypeWarning: Columns (3) have mixed types.Specify dtype option on import or set low_memory=False.\n",
      "  interactivity=interactivity, compiler=compiler, result=result)\n"
     ]
    }
   ],
   "source": [
    "# data = pd.read_csv('lenta-ru-news.csv').sample(frac=0.2)"
   ]
  },
  {
   "cell_type": "code",
   "execution_count": 32,
   "metadata": {},
   "outputs": [],
   "source": [
    "# data.dropna(subset=['topic', 'text'], inplace=True)"
   ]
  },
  {
   "cell_type": "code",
   "execution_count": 30,
   "metadata": {},
   "outputs": [],
   "source": [
    "# data.to_csv('lenta_sample.csv', index=None)"
   ]
  },
  {
   "cell_type": "code",
   "execution_count": 31,
   "metadata": {},
   "outputs": [],
   "source": [
    "data = pd.read_csv('lenta_sample.csv')"
   ]
  },
  {
   "cell_type": "markdown",
   "metadata": {},
   "source": [
    "Предобработка нам тут особо не важна."
   ]
  },
  {
   "cell_type": "code",
   "execution_count": 7,
   "metadata": {},
   "outputs": [],
   "source": [
    "def preprocess(text):\n",
    "    tokens = text.lower().split()\n",
    "    tokens = [token.strip(punctuation) for token in tokens]\n",
    "    return tokens"
   ]
  },
  {
   "cell_type": "markdown",
   "metadata": {},
   "source": [
    "В предыдущей домашке не хватало фмеры. Ее нет в керасе, но можно взять вот такую функцию (взятую со стаковерфлоу)"
   ]
  },
  {
   "cell_type": "code",
   "execution_count": 8,
   "metadata": {},
   "outputs": [],
   "source": [
    "from tensorflow.keras import backend as K\n",
    "def f1(y_true, y_pred):\n",
    "    def recall(y_true, y_pred):\n",
    "        \"\"\"Recall metric.\n",
    "\n",
    "        Only computes a batch-wise average of recall.\n",
    "\n",
    "        Computes the recall, a metric for multi-label classification of\n",
    "        how many relevant items are selected.\n",
    "        \"\"\"\n",
    "        true_positives = K.sum(K.round(K.clip(y_true * y_pred, 0, 1)))\n",
    "        possible_positives = K.sum(K.round(K.clip(y_true, 0, 1)))\n",
    "        recall = true_positives / (possible_positives + K.epsilon())\n",
    "        return recall\n",
    "\n",
    "    def precision(y_true, y_pred):\n",
    "        \"\"\"Precision metric.\n",
    "\n",
    "        Only computes a batch-wise average of precision.\n",
    "\n",
    "        Computes the precision, a metric for multi-label classification of\n",
    "        how many selected items are relevant.\n",
    "        \"\"\"\n",
    "        true_positives = K.sum(K.round(K.clip(y_true * y_pred, 0, 1)))\n",
    "        predicted_positives = K.sum(K.round(K.clip(y_pred, 0, 1)))\n",
    "        precision = true_positives / (predicted_positives + K.epsilon())\n",
    "        return precision\n",
    "    precision = precision(y_true, y_pred)\n",
    "    recall = recall(y_true, y_pred)\n",
    "    return 2*((precision*recall)/(precision+recall+K.epsilon()))"
   ]
  },
  {
   "cell_type": "markdown",
   "metadata": {},
   "source": [
    "Предобработка точно такая же"
   ]
  },
  {
   "cell_type": "code",
   "execution_count": 9,
   "metadata": {},
   "outputs": [],
   "source": [
    "# словарь\n",
    "vocab = Counter()\n",
    "\n",
    "for text in data.text:\n",
    "    vocab.update(preprocess(text))"
   ]
  },
  {
   "cell_type": "code",
   "execution_count": 10,
   "metadata": {},
   "outputs": [
    {
     "data": {
      "text/plain": [
       "670782"
      ]
     },
     "execution_count": 10,
     "metadata": {},
     "output_type": "execute_result"
    }
   ],
   "source": [
    "len(vocab)"
   ]
  },
  {
   "cell_type": "code",
   "execution_count": 11,
   "metadata": {},
   "outputs": [],
   "source": [
    "# отфильтрованный словарь\n",
    "filtered_vocab = set()\n",
    "\n",
    "for word in vocab:\n",
    "    if vocab[word] > 30:\n",
    "        filtered_vocab.add(word)"
   ]
  },
  {
   "cell_type": "code",
   "execution_count": 12,
   "metadata": {},
   "outputs": [
    {
     "data": {
      "text/plain": [
       "55293"
      ]
     },
     "execution_count": 12,
     "metadata": {},
     "output_type": "execute_result"
    }
   ],
   "source": [
    "len(filtered_vocab)"
   ]
  },
  {
   "cell_type": "code",
   "execution_count": 13,
   "metadata": {},
   "outputs": [],
   "source": [
    "# индексируем слова\n",
    "word2id = {'PAD':0}\n",
    "\n",
    "for word in filtered_vocab:\n",
    "    word2id[word] = len(word2id)"
   ]
  },
  {
   "cell_type": "code",
   "execution_count": 14,
   "metadata": {},
   "outputs": [],
   "source": [
    "id2word = {i:word for word, i in word2id.items()}"
   ]
  },
  {
   "cell_type": "code",
   "execution_count": 15,
   "metadata": {},
   "outputs": [],
   "source": [
    "# переводим тексты в последовательности индексов\n",
    "X = []\n",
    "\n",
    "for text in data.text:\n",
    "    tokens = preprocess(text)\n",
    "    ids = [word2id.get(token, 1) for token in tokens]\n",
    "    X.append(ids)"
   ]
  },
  {
   "cell_type": "code",
   "execution_count": 16,
   "metadata": {},
   "outputs": [],
   "source": [
    "MAX_LEN = max(len(x) for x in X)"
   ]
  },
  {
   "cell_type": "markdown",
   "metadata": {},
   "source": [
    "Можно посчитать среднюю или медианную длину, если максимальная кажется слишком большой."
   ]
  },
  {
   "cell_type": "code",
   "execution_count": 17,
   "metadata": {},
   "outputs": [],
   "source": [
    "MEAN_LEN = np.median([len(x) for x in X])"
   ]
  },
  {
   "cell_type": "code",
   "execution_count": 18,
   "metadata": {},
   "outputs": [
    {
     "data": {
      "text/plain": [
       "(3578, 170.0)"
      ]
     },
     "execution_count": 18,
     "metadata": {},
     "output_type": "execute_result"
    }
   ],
   "source": [
    "MAX_LEN, MEAN_LEN"
   ]
  },
  {
   "cell_type": "code",
   "execution_count": 19,
   "metadata": {},
   "outputs": [],
   "source": [
    "MAX_LEN = int(MEAN_LEN + 30)"
   ]
  },
  {
   "cell_type": "code",
   "execution_count": 20,
   "metadata": {},
   "outputs": [],
   "source": [
    "# паддинг\n",
    "X = tf.keras.preprocessing.sequence.pad_sequences(X, maxlen=MAX_LEN)"
   ]
  },
  {
   "cell_type": "code",
   "execution_count": 21,
   "metadata": {},
   "outputs": [
    {
     "data": {
      "text/plain": [
       "(147852, 200)"
      ]
     },
     "execution_count": 21,
     "metadata": {},
     "output_type": "execute_result"
    }
   ],
   "source": [
    "X.shape"
   ]
  },
  {
   "cell_type": "code",
   "execution_count": 22,
   "metadata": {},
   "outputs": [],
   "source": [
    "id2label = {i:label for i, label in enumerate(set(data.topic.values))}\n",
    "label2id = {l:i for i, l in id2label.items()}"
   ]
  },
  {
   "cell_type": "code",
   "execution_count": 23,
   "metadata": {},
   "outputs": [],
   "source": [
    "y = tf.keras.utils.to_categorical([label2id[label] for label in data.topic.values])"
   ]
  },
  {
   "cell_type": "code",
   "execution_count": 24,
   "metadata": {},
   "outputs": [
    {
     "data": {
      "text/plain": [
       "19"
      ]
     },
     "execution_count": 24,
     "metadata": {},
     "output_type": "execute_result"
    }
   ],
   "source": [
    "len(label2id)"
   ]
  },
  {
   "cell_type": "code",
   "execution_count": null,
   "metadata": {},
   "outputs": [],
   "source": []
  },
  {
   "cell_type": "code",
   "execution_count": null,
   "metadata": {},
   "outputs": [],
   "source": []
  },
  {
   "cell_type": "markdown",
   "metadata": {},
   "source": [
    "В этот раз добавим стратификацию, т.к. в данных у нас дисбаланс классов."
   ]
  },
  {
   "cell_type": "code",
   "execution_count": 25,
   "metadata": {},
   "outputs": [],
   "source": [
    "X_train, X_valid, y_train, y_valid = train_test_split(X, y, test_size=0.05)"
   ]
  },
  {
   "cell_type": "markdown",
   "metadata": {},
   "source": [
    "Для сравнения сначала обучим сеть только с помощью Dense слоев."
   ]
  },
  {
   "cell_type": "code",
   "execution_count": 26,
   "metadata": {},
   "outputs": [],
   "source": [
    "inputs = tf.keras.layers.Input(shape=(MAX_LEN,))\n",
    "embeddings = tf.keras.layers.Embedding(input_dim=len(word2id), output_dim=30)(inputs, )\n",
    "mean = tf.keras.layers.Flatten()(embeddings)\n",
    "dense = tf.keras.layers.Dense(30, activation='relu')(mean)\n",
    "outputs = tf.keras.layers.Dense(len(label2id), activation='softmax')(dense)\n",
    "\n",
    "model = tf.keras.Model(inputs=inputs, outputs=outputs)\n",
    "optimizer = tf.keras.optimizers.Adam(learning_rate=0.001)\n",
    "model.compile(optimizer=optimizer,\n",
    "              loss='categorical_crossentropy',\n",
    "              # фмеры тут нет, но есть точность и полнота по отдельности, \n",
    "              # и есть полнота при заданном пороге точности\n",
    "              # name тут нужен для удобства,\n",
    "              # иначе метрика будет называться типа \"Precision_i\"\n",
    "              # и придется менять i в дальнейших визуализациях \n",
    "              metrics=[tf.keras.metrics.RecallAtPrecision(0.8, name='rec@prec')])\n",
    "\n"
   ]
  },
  {
   "cell_type": "code",
   "execution_count": 27,
   "metadata": {
    "scrolled": true
   },
   "outputs": [
    {
     "name": "stdout",
     "output_type": "stream",
     "text": [
      "Epoch 1/5\n",
      "71/71 [==============================] - 5s 54ms/step - loss: 2.5193 - rec@prec: 0.0019 - val_loss: 1.5970 - val_rec@prec: 0.1969\n",
      "Epoch 2/5\n",
      "71/71 [==============================] - 3s 42ms/step - loss: 1.3394 - rec@prec: 0.4452 - val_loss: 0.8981 - val_rec@prec: 0.6848\n",
      "Epoch 3/5\n",
      "71/71 [==============================] - 3s 42ms/step - loss: 0.7545 - rec@prec: 0.7627 - val_loss: 0.7005 - val_rec@prec: 0.7841\n",
      "Epoch 4/5\n",
      "71/71 [==============================] - 3s 42ms/step - loss: 0.5140 - rec@prec: 0.8828 - val_loss: 0.6365 - val_rec@prec: 0.8173\n",
      "Epoch 5/5\n",
      "71/71 [==============================] - 3s 42ms/step - loss: 0.3629 - rec@prec: 0.9446 - val_loss: 0.6273 - val_rec@prec: 0.8156\n"
     ]
    },
    {
     "data": {
      "text/plain": [
       "<tensorflow.python.keras.callbacks.History at 0x7fea82039208>"
      ]
     },
     "execution_count": 27,
     "metadata": {},
     "output_type": "execute_result"
    }
   ],
   "source": [
    "model.fit(X_train, y_train, \n",
    "          validation_data=(X_valid, y_valid),\n",
    "          batch_size=2000,\n",
    "         epochs=5)"
   ]
  },
  {
   "cell_type": "code",
   "execution_count": 28,
   "metadata": {},
   "outputs": [
    {
     "name": "stdout",
     "output_type": "stream",
     "text": [
      "dict_keys(['loss', 'rec@prec', 'val_loss', 'val_rec@prec'])\n"
     ]
    },
    {
     "data": {
      "image/png": "[encoded data removed]",
      "text/plain": [
       "<Figure size 432x288 with 1 Axes>"
      ]
     },
     "metadata": {
      "needs_background": "light"
     },
     "output_type": "display_data"
    }
   ],
   "source": [
    "print(model.history.history.keys())\n",
    "# summarize history for accuracy\n",
    "plt.plot(model.history.history['rec@prec'])\n",
    "plt.plot(model.history.history['val_rec@prec'])\n",
    "plt.title('model f1')\n",
    "plt.ylabel('f1')\n",
    "plt.xlabel('epoch')\n",
    "plt.legend(['train', 'val'], loc='upper left')\n",
    "plt.show()"
   ]
  },
  {
   "cell_type": "markdown",
   "metadata": {},
   "source": [
    "А теперь попробуем со сверточным слоем. В керасе они называются Conv1D (2D тоже есть, они используются для картинок). Их нужно ставить сразу после Embedding слоя."
   ]
  },
  {
   "cell_type": "code",
   "execution_count": 77,
   "metadata": {},
   "outputs": [],
   "source": [
    "inputs = tf.keras.layers.Input(shape=(MAX_LEN,))\n",
    "embeddings = tf.keras.layers.Embedding(input_dim=len(word2id), output_dim=30)(inputs, )\n",
    "\n",
    "# все остальное точно такое же\n",
    "# возвращает сверточный слой тоже последовательность векторов слегка измененной или такой же длины\n",
    "conv1 = tf.keras.layers.Conv1D(kernel_size=10, filters=128, strides=5)(embeddings)\n",
    "\n",
    "# выход со сверточного слоя также можно просто конкатенировать\n",
    "concat = tf.keras.layers.Flatten()(conv1)\n",
    "dense = tf.keras.layers.Dense(64, activation='relu')(concat)\n",
    "outputs = tf.keras.layers.Dense(len(label2id), activation='softmax')(dense)\n",
    "\n",
    "model = tf.keras.Model(inputs=inputs, outputs=outputs)\n",
    "optimizer = tf.keras.optimizers.Adam(learning_rate=0.001)\n",
    "model.compile(optimizer=optimizer,\n",
    "              loss='categorical_crossentropy',\n",
    "              metrics=[f1, tf.keras.metrics.RecallAtPrecision(0.8, name='rec@prec')])\n"
   ]
  },
  {
   "cell_type": "code",
   "execution_count": 78,
   "metadata": {},
   "outputs": [
    {
     "name": "stdout",
     "output_type": "stream",
     "text": [
      "Model: \"model_7\"\n",
      "_________________________________________________________________\n",
      "Layer (type)                 Output Shape              Param #   \n",
      "=================================================================\n",
      "input_11 (InputLayer)        [(None, 201)]             0         \n",
      "_________________________________________________________________\n",
      "embedding_9 (Embedding)      (None, 201, 30)           1659180   \n",
      "_________________________________________________________________\n",
      "conv1d_5 (Conv1D)            (None, 39, 128)           38528     \n",
      "_________________________________________________________________\n",
      "flatten_7 (Flatten)          (None, 4992)              0         \n",
      "_________________________________________________________________\n",
      "dense_14 (Dense)             (None, 64)                319552    \n",
      "_________________________________________________________________\n",
      "dense_15 (Dense)             (None, 19)                1235      \n",
      "=================================================================\n",
      "Total params: 2,018,495\n",
      "Trainable params: 2,018,495\n",
      "Non-trainable params: 0\n",
      "_________________________________________________________________\n"
     ]
    }
   ],
   "source": [
    "model.summary()"
   ]
  },
  {
   "cell_type": "code",
   "execution_count": 79,
   "metadata": {
    "scrolled": true
   },
   "outputs": [
    {
     "name": "stdout",
     "output_type": "stream",
     "text": [
      "Epoch 1/5\n",
      "141/141 [==============================] - 8s 44ms/step - loss: 2.1177 - f1: 0.1492 - rec@prec: 0.1014 - val_loss: 0.9621 - val_f1: 0.6896 - val_rec@prec: 0.6129\n",
      "Epoch 2/5\n",
      "141/141 [==============================] - 5s 38ms/step - loss: 0.7510 - f1: 0.7637 - rec@prec: 0.7556 - val_loss: 0.7174 - val_f1: 0.7744 - val_rec@prec: 0.7629\n",
      "Epoch 3/5\n",
      "141/141 [==============================] - 5s 38ms/step - loss: 0.4071 - f1: 0.8754 - rec@prec: 0.9221 - val_loss: 0.7081 - val_f1: 0.7906 - val_rec@prec: 0.7851\n",
      "Epoch 4/5\n",
      "141/141 [==============================] - 5s 38ms/step - loss: 0.2123 - f1: 0.9410 - rec@prec: 0.9791 - val_loss: 0.8861 - val_f1: 0.7800 - val_rec@prec: 0.7626\n",
      "Epoch 5/5\n",
      "141/141 [==============================] - 5s 38ms/step - loss: 0.0864 - f1: 0.9800 - rec@prec: 0.9965 - val_loss: 1.1194 - val_f1: 0.7797 - val_rec@prec: 0.7587\n"
     ]
    },
    {
     "data": {
      "text/plain": [
       "<tensorflow.python.keras.callbacks.History at 0x7f70a0682588>"
      ]
     },
     "execution_count": 79,
     "metadata": {},
     "output_type": "execute_result"
    }
   ],
   "source": [
    "# как выглядит ошибка при слишком большом батче\n",
    "model.fit(X_train, y_train, \n",
    "          validation_data=(X_valid, y_valid),\n",
    "          batch_size=1000,\n",
    "         epochs=5)"
   ]
  },
  {
   "cell_type": "code",
   "execution_count": 80,
   "metadata": {},
   "outputs": [
    {
     "name": "stdout",
     "output_type": "stream",
     "text": [
      "dict_keys(['loss', 'f1', 'rec@prec', 'val_loss', 'val_f1', 'val_rec@prec'])\n"
     ]
    },
    {
     "data": {
      "image/png": "[encoded data removed]",
      "text/plain": [
       "<Figure size 432x288 with 1 Axes>"
      ]
     },
     "metadata": {
      "needs_background": "light"
     },
     "output_type": "display_data"
    }
   ],
   "source": [
    "print(model.history.history.keys())\n",
    "# summarize history for accuracy\n",
    "plt.plot(model.history.history['rec@prec'])\n",
    "plt.plot(model.history.history['val_rec@prec'])\n",
    "plt.title('model f1')\n",
    "plt.ylabel('f1')\n",
    "plt.xlabel('epoch')\n",
    "plt.legend(['train', 'val'], loc='upper left')\n",
    "plt.show()"
   ]
  },
  {
   "cell_type": "code",
   "execution_count": 81,
   "metadata": {},
   "outputs": [
    {
     "name": "stdout",
     "output_type": "stream",
     "text": [
      "dict_keys(['loss', 'f1', 'rec@prec', 'val_loss', 'val_f1', 'val_rec@prec'])\n"
     ]
    },
    {
     "data": {
      "image/png": "[encoded data removed]",
      "text/plain": [
       "<Figure size 432x288 with 1 Axes>"
      ]
     },
     "metadata": {
      "needs_background": "light"
     },
     "output_type": "display_data"
    }
   ],
   "source": [
    "print(model.history.history.keys())\n",
    "# summarize history for accuracy\n",
    "plt.plot(model.history.history['f1'])\n",
    "plt.plot(model.history.history['val_f1'])\n",
    "plt.title('model f1')\n",
    "plt.ylabel('f1')\n",
    "plt.xlabel('epoch')\n",
    "plt.legend(['train', 'val'], loc='upper left')\n",
    "plt.show()"
   ]
  },
  {
   "cell_type": "markdown",
   "metadata": {},
   "source": [
    "Сверточные слои можно накладывать друг на друга."
   ]
  },
  {
   "cell_type": "markdown",
   "metadata": {},
   "source": [
    "Давайте еще разберем параметры:  \n",
    "    **kernel_size** - это размер кусочков, к которым мы применяем сверточные матрицы (похоже на размер нграмма)   \n",
    "    **filters** - количество матриц свертки  (это как бы размерность до которой будет сжат или развернут вектор)    \n",
    "    **stride** - шаг по которому выбираются кусочки из последовательности (это как параметр шаг в функции range в питоне)  "
   ]
  },
  {
   "cell_type": "code",
   "execution_count": 82,
   "metadata": {},
   "outputs": [],
   "source": [
    "inputs = tf.keras.layers.Input(shape=(MAX_LEN,))\n",
    "embeddings = tf.keras.layers.Embedding(input_dim=len(word2id), output_dim=100)(inputs, )\n",
    "conv1 = tf.keras.layers.Conv1D(kernel_size=5, filters=32, strides=1)(embeddings)\n",
    "conv2 = tf.keras.layers.Conv1D(kernel_size=5, filters=32, strides=1, activation='relu')(conv1)\n",
    "concat = tf.keras.layers.Flatten()(conv2)\n",
    "dense = tf.keras.layers.Dense(64, activation='relu')(concat)\n",
    "outputs = tf.keras.layers.Dense(len(label2id), activation='softmax')(dense)\n",
    "\n",
    "model = tf.keras.Model(inputs=inputs, outputs=outputs)\n",
    "optimizer = tf.keras.optimizers.Adam(learning_rate=0.001)\n",
    "model.compile(optimizer=optimizer,\n",
    "              loss='categorical_crossentropy',\n",
    "              metrics=[f1])\n"
   ]
  },
  {
   "cell_type": "code",
   "execution_count": 83,
   "metadata": {},
   "outputs": [
    {
     "name": "stdout",
     "output_type": "stream",
     "text": [
      "Model: \"model_8\"\n",
      "_________________________________________________________________\n",
      "Layer (type)                 Output Shape              Param #   \n",
      "=================================================================\n",
      "input_12 (InputLayer)        [(None, 201)]             0         \n",
      "_________________________________________________________________\n",
      "embedding_10 (Embedding)     (None, 201, 100)          5530600   \n",
      "_________________________________________________________________\n",
      "conv1d_6 (Conv1D)            (None, 197, 32)           16032     \n",
      "_________________________________________________________________\n",
      "conv1d_7 (Conv1D)            (None, 193, 32)           5152      \n",
      "_________________________________________________________________\n",
      "flatten_8 (Flatten)          (None, 6176)              0         \n",
      "_________________________________________________________________\n",
      "dense_16 (Dense)             (None, 64)                395328    \n",
      "_________________________________________________________________\n",
      "dense_17 (Dense)             (None, 19)                1235      \n",
      "=================================================================\n",
      "Total params: 5,948,347\n",
      "Trainable params: 5,948,347\n",
      "Non-trainable params: 0\n",
      "_________________________________________________________________\n"
     ]
    }
   ],
   "source": [
    "model.summary()"
   ]
  },
  {
   "cell_type": "code",
   "execution_count": 84,
   "metadata": {
    "scrolled": true
   },
   "outputs": [
    {
     "name": "stdout",
     "output_type": "stream",
     "text": [
      "Epoch 1/5\n",
      "71/71 [==============================] - 14s 174ms/step - loss: 2.2801 - f1: 0.0609 - val_loss: 1.1753 - val_f1: 0.6315\n",
      "Epoch 2/5\n",
      "71/71 [==============================] - 12s 167ms/step - loss: 0.9642 - f1: 0.6986 - val_loss: 0.7664 - val_f1: 0.7607\n",
      "Epoch 3/5\n",
      "71/71 [==============================] - 12s 167ms/step - loss: 0.5140 - f1: 0.8425 - val_loss: 0.7034 - val_f1: 0.7917\n",
      "Epoch 4/5\n",
      "71/71 [==============================] - 12s 166ms/step - loss: 0.2918 - f1: 0.9170 - val_loss: 0.8021 - val_f1: 0.7897\n",
      "Epoch 5/5\n",
      "71/71 [==============================] - 12s 170ms/step - loss: 0.1633 - f1: 0.9564 - val_loss: 1.0091 - val_f1: 0.7790\n"
     ]
    },
    {
     "data": {
      "text/plain": [
       "<tensorflow.python.keras.callbacks.History at 0x7f7028d3a358>"
      ]
     },
     "execution_count": 84,
     "metadata": {},
     "output_type": "execute_result"
    }
   ],
   "source": [
    "model.fit(X_train, y_train, \n",
    "          validation_data=(X_valid, y_valid),\n",
    "          batch_size=2000,\n",
    "          epochs=5)"
   ]
  },
  {
   "cell_type": "code",
   "execution_count": 86,
   "metadata": {},
   "outputs": [
    {
     "name": "stdout",
     "output_type": "stream",
     "text": [
      "dict_keys(['loss', 'f1', 'val_loss', 'val_f1'])\n"
     ]
    },
    {
     "data": {
      "image/png": "[encoded data removed]",
      "text/plain": [
       "<Figure size 432x288 with 1 Axes>"
      ]
     },
     "metadata": {
      "needs_background": "light"
     },
     "output_type": "display_data"
    }
   ],
   "source": [
    "print(model.history.history.keys())\n",
    "# summarize history for accuracy\n",
    "plt.plot(model.history.history['f1'])\n",
    "plt.plot(model.history.history['val_f1'])\n",
    "plt.title('model f1')\n",
    "plt.ylabel('f1')\n",
    "plt.xlabel('epoch')\n",
    "plt.legend(['train', 'val'], loc='upper left')\n",
    "plt.show()"
   ]
  },
  {
   "cell_type": "markdown",
   "metadata": {},
   "source": [
    "Со сверточными слоями часто используется Pooling. Это тоже своего рода свертка, но без обучаемых параметров. В пулингах используется какое-то правило, по которому из чисел в каком-то окне выбирается 1 число (т.е. происходит свертка). В качестве правила используется максимум или среднее. Pooling слой ставят после сверточного. "
   ]
  },
  {
   "cell_type": "code",
   "execution_count": 90,
   "metadata": {},
   "outputs": [],
   "source": [
    "inputs = tf.keras.layers.Input(shape=(MAX_LEN,))\n",
    "embeddings = tf.keras.layers.Embedding(input_dim=len(word2id), output_dim=100)(inputs, )\n",
    "\n",
    "conv1 = tf.keras.layers.Conv1D(kernel_size=10, filters=32, strides=5)(embeddings)\n",
    "conv2 = tf.keras.layers.Conv1D(kernel_size=5, filters=32, strides=1, activation='relu')(conv1)\n",
    "pool = tf.keras.layers.AveragePooling1D()(conv2)\n",
    "\n",
    "concat = tf.keras.layers.Flatten()(pool)\n",
    "dense = tf.keras.layers.Dense(64, activation='relu')(concat)\n",
    "outputs = tf.keras.layers.Dense(len(label2id), activation='softmax')(dense)\n",
    "\n",
    "model = tf.keras.Model(inputs=inputs, outputs=outputs)\n",
    "optimizer = tf.keras.optimizers.Adam(learning_rate=0.001)\n",
    "model.compile(optimizer=optimizer,\n",
    "              loss='binary_crossentropy',\n",
    "              metrics=[f1])\n"
   ]
  },
  {
   "cell_type": "code",
   "execution_count": 91,
   "metadata": {
    "scrolled": true
   },
   "outputs": [
    {
     "name": "stdout",
     "output_type": "stream",
     "text": [
      "Epoch 1/5\n",
      "71/71 [==============================] - 14s 170ms/step - loss: 0.4321 - f1: 0.0148 - val_loss: 0.1698 - val_f1: 0.0000e+00\n",
      "Epoch 2/5\n",
      "71/71 [==============================] - 11s 157ms/step - loss: 0.1631 - f1: 0.0547 - val_loss: 0.1431 - val_f1: 0.3513\n",
      "Epoch 3/5\n",
      "71/71 [==============================] - 11s 156ms/step - loss: 0.1292 - f1: 0.4426 - val_loss: 0.0919 - val_f1: 0.6686\n",
      "Epoch 4/5\n",
      "71/71 [==============================] - 11s 156ms/step - loss: 0.0762 - f1: 0.7320 - val_loss: 0.0744 - val_f1: 0.7375\n",
      "Epoch 5/5\n",
      "71/71 [==============================] - 11s 156ms/step - loss: 0.0522 - f1: 0.8315 - val_loss: 0.0717 - val_f1: 0.7595\n"
     ]
    },
    {
     "data": {
      "text/plain": [
       "<tensorflow.python.keras.callbacks.History at 0x7f70289fb470>"
      ]
     },
     "execution_count": 91,
     "metadata": {},
     "output_type": "execute_result"
    }
   ],
   "source": [
    "# как выглядит ошибка при слишком большом батче\n",
    "model.fit(X_train, y_train, \n",
    "          validation_data=(X_valid, y_valid),\n",
    "          batch_size=2000,\n",
    "         epochs=5)"
   ]
  },
  {
   "cell_type": "code",
   "execution_count": 92,
   "metadata": {},
   "outputs": [
    {
     "name": "stdout",
     "output_type": "stream",
     "text": [
      "dict_keys(['loss', 'f1', 'val_loss', 'val_f1'])\n"
     ]
    },
    {
     "data": {
      "image/png": "[encoded data removed]",
      "text/plain": [
       "<Figure size 432x288 with 1 Axes>"
      ]
     },
     "metadata": {
      "needs_background": "light"
     },
     "output_type": "display_data"
    }
   ],
   "source": [
    "print(model.history.history.keys())\n",
    "# summarize history for accuracy\n",
    "plt.plot(model.history.history['f1'])\n",
    "plt.plot(model.history.history['val_f1'])\n",
    "plt.title('model f1')\n",
    "plt.ylabel('f1')\n",
    "plt.xlabel('epoch')\n",
    "plt.legend(['train', 'val'], loc='upper left')\n",
    "plt.show()"
   ]
  },
  {
   "cell_type": "markdown",
   "metadata": {},
   "source": [
    "До этого мы разбирали сами слои и как-то не обращали внимание на результаты. А они получаются так себе. Видно, что есть переобучение."
   ]
  },
  {
   "cell_type": "markdown",
   "metadata": {},
   "source": [
    "Для борьбы с переобучением в нейронках есть регуляризация и Dropout. \n",
    "\n",
    "    Базовая регуляризация тут как в классических алгоритмах - l1 и l2. В большинстве слоев есть параметры smth_regularizer (можно строкой указать l1 или l2), где вместо smth какая-то специфичная часть слоя, которая обучается (kernel_regularizer в свертках  это регуляризация весов в матрицах).\n",
    "    \n",
    "    А Dropout - это отдельный слой, в котором часть подаваемых значений просто случайно зануляется. Это застявляет нейронку смотреть  на большее количество паттернов, а не переобучаться только на какой-то один.\n",
    " "
   ]
  },
  {
   "cell_type": "code",
   "execution_count": 105,
   "metadata": {},
   "outputs": [],
   "source": [
    "inputs = tf.keras.layers.Input(shape=(MAX_LEN,))\n",
    "\n",
    "embeddings = tf.keras.layers.Embedding(input_dim=len(word2id), output_dim=100)(inputs)\n",
    "drop1 = tf.keras.layers.Dropout(0.1)(embeddings)\n",
    "conv1 = tf.keras.layers.Conv1D(kernel_size=5, filters=32, strides=1)(embeddings)\n",
    "conv2 = tf.keras.layers.Conv1D(kernel_size=5, filters=32, strides=1, \n",
    "                                               kernel_regularizer='l2',\n",
    "                                              activation='relu')(conv1)\n",
    "\n",
    "drop2 = tf.keras.layers.Dropout(0.1)(conv2) # это значит что случайно заменяется половина всех значений\n",
    "\n",
    "concat = tf.keras.layers.Flatten()(drop2)\n",
    "dense = tf.keras.layers.Dense(50, activation='relu', kernel_regularizer='l2')(concat)\n",
    "outputs = tf.keras.layers.Dense(len(label2id), activation='softmax')(dense)\n",
    "\n",
    "model = tf.keras.Model(inputs=inputs, outputs=outputs)\n",
    "optimizer = tf.keras.optimizers.Adam(learning_rate=0.01)\n",
    "model.compile(optimizer=optimizer,\n",
    "              loss='binary_crossentropy',\n",
    "              metrics=[f1])\n"
   ]
  },
  {
   "cell_type": "code",
   "execution_count": 106,
   "metadata": {},
   "outputs": [
    {
     "name": "stdout",
     "output_type": "stream",
     "text": [
      "Model: \"model_15\"\n",
      "_________________________________________________________________\n",
      "Layer (type)                 Output Shape              Param #   \n",
      "=================================================================\n",
      "input_20 (InputLayer)        [(None, 201)]             0         \n",
      "_________________________________________________________________\n",
      "embedding_18 (Embedding)     (None, 201, 100)          5530600   \n",
      "_________________________________________________________________\n",
      "conv1d_22 (Conv1D)           (None, 197, 32)           16032     \n",
      "_________________________________________________________________\n",
      "conv1d_23 (Conv1D)           (None, 193, 32)           5152      \n",
      "_________________________________________________________________\n",
      "dropout_11 (Dropout)         (None, 193, 32)           0         \n",
      "_________________________________________________________________\n",
      "flatten_15 (Flatten)         (None, 6176)              0         \n",
      "_________________________________________________________________\n",
      "dense_30 (Dense)             (None, 50)                308850    \n",
      "_________________________________________________________________\n",
      "dense_31 (Dense)             (None, 19)                969       \n",
      "=================================================================\n",
      "Total params: 5,861,603\n",
      "Trainable params: 5,861,603\n",
      "Non-trainable params: 0\n",
      "_________________________________________________________________\n"
     ]
    }
   ],
   "source": [
    "model.summary()"
   ]
  },
  {
   "cell_type": "code",
   "execution_count": 107,
   "metadata": {
    "scrolled": true
   },
   "outputs": [
    {
     "name": "stdout",
     "output_type": "stream",
     "text": [
      "Epoch 1/10\n",
      "71/71 [==============================] - 14s 178ms/step - loss: 0.5320 - f1: 0.0476 - val_loss: 0.1560 - val_f1: 0.2912\n",
      "Epoch 2/10\n",
      "71/71 [==============================] - 12s 168ms/step - loss: 0.1432 - f1: 0.4668 - val_loss: 0.2562 - val_f1: 0.4885\n",
      "Epoch 3/10\n",
      "71/71 [==============================] - 12s 170ms/step - loss: 0.1639 - f1: 0.6210 - val_loss: 0.1199 - val_f1: 0.6566\n",
      "Epoch 4/10\n",
      "71/71 [==============================] - 12s 170ms/step - loss: 0.1014 - f1: 0.7104 - val_loss: 0.2223 - val_f1: 0.6487\n",
      "Epoch 5/10\n",
      "71/71 [==============================] - 12s 169ms/step - loss: 0.1570 - f1: 0.6927 - val_loss: 0.1100 - val_f1: 0.6638\n",
      "Epoch 6/10\n",
      "71/71 [==============================] - 12s 169ms/step - loss: 0.0919 - f1: 0.7388 - val_loss: 0.0952 - val_f1: 0.6980\n",
      "Epoch 7/10\n",
      "71/71 [==============================] - 12s 168ms/step - loss: 0.0781 - f1: 0.7756 - val_loss: 0.1007 - val_f1: 0.6958\n",
      "Epoch 8/10\n",
      "71/71 [==============================] - 12s 169ms/step - loss: 0.0906 - f1: 0.7638 - val_loss: 0.1093 - val_f1: 0.7012\n",
      "Epoch 9/10\n",
      "71/71 [==============================] - 12s 171ms/step - loss: 0.0774 - f1: 0.7947 - val_loss: 0.0991 - val_f1: 0.7018\n",
      "Epoch 10/10\n",
      "71/71 [==============================] - 12s 170ms/step - loss: 0.0668 - f1: 0.8180 - val_loss: 0.0962 - val_f1: 0.7048\n"
     ]
    },
    {
     "data": {
      "text/plain": [
       "<tensorflow.python.keras.callbacks.History at 0x7f700dc8b710>"
      ]
     },
     "execution_count": 107,
     "metadata": {},
     "output_type": "execute_result"
    }
   ],
   "source": [
    "model.fit(X_train, y_train, \n",
    "          validation_data=(X_valid, y_valid),\n",
    "          batch_size=2000,\n",
    "         epochs=10)"
   ]
  },
  {
   "cell_type": "markdown",
   "metadata": {},
   "source": [
    "Переобучаться стало сильно меньше."
   ]
  },
  {
   "cell_type": "code",
   "execution_count": 108,
   "metadata": {},
   "outputs": [
    {
     "name": "stdout",
     "output_type": "stream",
     "text": [
      "dict_keys(['loss', 'f1', 'val_loss', 'val_f1'])\n"
     ]
    },
    {
     "data": {
      "image/png": "[encoded data removed]",
      "text/plain": [
       "<Figure size 432x288 with 1 Axes>"
      ]
     },
     "metadata": {
      "needs_background": "light"
     },
     "output_type": "display_data"
    }
   ],
   "source": [
    "print(model.history.history.keys())\n",
    "# summarize history for accuracy\n",
    "plt.plot(model.history.history['f1'])\n",
    "plt.plot(model.history.history['val_f1'])\n",
    "plt.title('model f1')\n",
    "plt.ylabel('f1')\n",
    "plt.xlabel('epoch')\n",
    "plt.legend(['train', 'val'], loc='upper left')\n",
    "plt.show()"
   ]
  },
  {
   "cell_type": "markdown",
   "metadata": {},
   "source": [
    "Еще один параметр в сверточном слое - padding. Так как мы проходим каким-то окном по последовательности, на выходе последовательность сокращается. Но мы можем добавить нулей в начало и конец, чтобы на выходе было такое же число (padding='same').\n",
    "\n",
    "Так мы можем наслаивать огромное количество слоев (она не уменьшается на каждом шаге).\n",
    "\n",
    "А еще это позволяет, например, сделать вот такую сеть:"
   ]
  },
  {
   "cell_type": "code",
   "execution_count": 110,
   "metadata": {},
   "outputs": [],
   "source": [
    "inputs = tf.keras.layers.Input(shape=(MAX_LEN,))\n",
    "embeddings = tf.keras.layers.Embedding(input_dim=len(word2id), output_dim=100)(inputs, )\n",
    "convs = []\n",
    "\n",
    "# мы делаем несколько параллельных сверточных слоев (даже пар слоев с пулингом) с разным окном\n",
    "# но из-за того, что бы сделали паддинг, длинна получается одинаковая и мы можем сконкатенировать \n",
    "# векторы по второй размерности (так же как вы склеивали эбмединги от фастекста и ворд2века в предыдущей домашке)\n",
    "\n",
    "for ks in [3,4,5,7,10]:\n",
    "    conv1 = tf.keras.layers.Conv1D(kernel_size=ks, filters=32, padding='same',strides=1)(embeddings)\n",
    "    conv2 = tf.keras.layers.Conv1D(kernel_size=ks, filters=32, padding='same',strides=1, \n",
    "                                  kernel_regularizer='l2', activation='relu')(conv1)\n",
    "    convs.append(conv2)\n",
    "\n",
    "\n",
    "concat = tf.keras.layers.concatenate(convs, axis=2)\n",
    "\n",
    "# а тут мы можем поставить еще свертку\n",
    "conv_global = tf.keras.layers.Conv1D(kernel_size=5, filters=32, strides=1)(concat)\n",
    "flatten = tf.keras.layers.Flatten()(conv_global)\n",
    "dense = tf.keras.layers.Dense(50, activation='relu')(flatten)\n",
    "outputs = tf.keras.layers.Dense(len(label2id), activation='softmax')(dense)\n",
    "\n",
    "model = tf.keras.Model(inputs=inputs, outputs=outputs)\n",
    "optimizer = tf.keras.optimizers.Adam(learning_rate=0.001)\n",
    "model.compile(optimizer=optimizer,\n",
    "              loss='binary_crossentropy',\n",
    "              metrics=[f1])\n"
   ]
  },
  {
   "cell_type": "code",
   "execution_count": 111,
   "metadata": {},
   "outputs": [
    {
     "name": "stdout",
     "output_type": "stream",
     "text": [
      "Model: \"model_17\"\n",
      "__________________________________________________________________________________________________\n",
      "Layer (type)                    Output Shape         Param #     Connected to                     \n",
      "==================================================================================================\n",
      "input_22 (InputLayer)           [(None, 201)]        0                                            \n",
      "__________________________________________________________________________________________________\n",
      "embedding_20 (Embedding)        (None, 201, 100)     5530600     input_22[0][0]                   \n",
      "__________________________________________________________________________________________________\n",
      "conv1d_35 (Conv1D)              (None, 201, 32)      9632        embedding_20[0][0]               \n",
      "__________________________________________________________________________________________________\n",
      "conv1d_37 (Conv1D)              (None, 201, 32)      12832       embedding_20[0][0]               \n",
      "__________________________________________________________________________________________________\n",
      "conv1d_39 (Conv1D)              (None, 201, 32)      16032       embedding_20[0][0]               \n",
      "__________________________________________________________________________________________________\n",
      "conv1d_41 (Conv1D)              (None, 201, 32)      22432       embedding_20[0][0]               \n",
      "__________________________________________________________________________________________________\n",
      "conv1d_43 (Conv1D)              (None, 201, 32)      32032       embedding_20[0][0]               \n",
      "__________________________________________________________________________________________________\n",
      "conv1d_36 (Conv1D)              (None, 201, 32)      3104        conv1d_35[0][0]                  \n",
      "__________________________________________________________________________________________________\n",
      "conv1d_38 (Conv1D)              (None, 201, 32)      4128        conv1d_37[0][0]                  \n",
      "__________________________________________________________________________________________________\n",
      "conv1d_40 (Conv1D)              (None, 201, 32)      5152        conv1d_39[0][0]                  \n",
      "__________________________________________________________________________________________________\n",
      "conv1d_42 (Conv1D)              (None, 201, 32)      7200        conv1d_41[0][0]                  \n",
      "__________________________________________________________________________________________________\n",
      "conv1d_44 (Conv1D)              (None, 201, 32)      10272       conv1d_43[0][0]                  \n",
      "__________________________________________________________________________________________________\n",
      "concatenate_1 (Concatenate)     (None, 201, 160)     0           conv1d_36[0][0]                  \n",
      "                                                                 conv1d_38[0][0]                  \n",
      "                                                                 conv1d_40[0][0]                  \n",
      "                                                                 conv1d_42[0][0]                  \n",
      "                                                                 conv1d_44[0][0]                  \n",
      "__________________________________________________________________________________________________\n",
      "conv1d_45 (Conv1D)              (None, 197, 32)      25632       concatenate_1[0][0]              \n",
      "__________________________________________________________________________________________________\n",
      "flatten_17 (Flatten)            (None, 6304)         0           conv1d_45[0][0]                  \n",
      "__________________________________________________________________________________________________\n",
      "dense_34 (Dense)                (None, 50)           315250      flatten_17[0][0]                 \n",
      "__________________________________________________________________________________________________\n",
      "dense_35 (Dense)                (None, 19)           969         dense_34[0][0]                   \n",
      "==================================================================================================\n",
      "Total params: 5,995,267\n",
      "Trainable params: 5,995,267\n",
      "Non-trainable params: 0\n",
      "__________________________________________________________________________________________________\n"
     ]
    }
   ],
   "source": [
    "model.summary()"
   ]
  },
  {
   "cell_type": "code",
   "execution_count": 112,
   "metadata": {},
   "outputs": [
    {
     "name": "stdout",
     "output_type": "stream",
     "text": [
      "Epoch 1/5\n",
      "71/71 [==============================] - 25s 321ms/step - loss: 1.4183 - f1: 0.0072 - val_loss: 0.4284 - val_f1: 0.0084\n",
      "Epoch 2/5\n",
      "71/71 [==============================] - 24s 337ms/step - loss: 0.3309 - f1: 0.1004 - val_loss: 0.1513 - val_f1: 0.5782\n",
      "Epoch 3/5\n",
      "71/71 [==============================] - 24s 344ms/step - loss: 0.1236 - f1: 0.6519 - val_loss: 0.0908 - val_f1: 0.7120\n",
      "Epoch 4/5\n",
      "71/71 [==============================] - 24s 342ms/step - loss: 0.0767 - f1: 0.7619 - val_loss: 0.0831 - val_f1: 0.7228\n",
      "Epoch 5/5\n",
      "71/71 [==============================] - 24s 338ms/step - loss: 0.0617 - f1: 0.8082 - val_loss: 0.0819 - val_f1: 0.7297\n"
     ]
    },
    {
     "data": {
      "text/plain": [
       "<tensorflow.python.keras.callbacks.History at 0x7f7028b68198>"
      ]
     },
     "execution_count": 112,
     "metadata": {},
     "output_type": "execute_result"
    }
   ],
   "source": [
    "model.fit(X_train, y_train, \n",
    "          validation_data=(X_valid, y_valid),\n",
    "          batch_size=2000,\n",
    "         epochs=5)"
   ]
  },
  {
   "cell_type": "code",
   "execution_count": 114,
   "metadata": {},
   "outputs": [
    {
     "name": "stdout",
     "output_type": "stream",
     "text": [
      "dict_keys(['loss', 'f1', 'val_loss', 'val_f1'])\n"
     ]
    },
    {
     "data": {
      "image/png": "[encoded data removed]",
      "text/plain": [
       "<Figure size 432x288 with 1 Axes>"
      ]
     },
     "metadata": {
      "needs_background": "light"
     },
     "output_type": "display_data"
    }
   ],
   "source": [
    "print(model.history.history.keys())\n",
    "# summarize history for accuracy\n",
    "plt.plot(model.history.history['f1'])\n",
    "plt.plot(model.history.history['val_f1'])\n",
    "plt.title('model f1')\n",
    "plt.ylabel('f1')\n",
    "plt.xlabel('epoch')\n",
    "plt.legend(['train', 'val'], loc='upper left')\n",
    "plt.show()"
   ]
  },
  {
   "cell_type": "markdown",
   "metadata": {},
   "source": [
    "В Conv1D только один вариант паддинга - нулями. Но есть и другие способы (посмотрите лекцию по ссылке в начале). В функции tf.pad дает больше выбора паддинга. Его можно вставить в tf.keras.layers.Lambda, чтобы использовать в сети. \n",
    "\n",
    "Для текстов это наверное не так актуально, но при работе с картинками может пригодиться."
   ]
  },
  {
   "cell_type": "code",
   "execution_count": 138,
   "metadata": {},
   "outputs": [
    {
     "data": {
      "text/plain": [
       "<tensorflow.python.keras.layers.core.Lambda at 0x7f4545d80940>"
      ]
     },
     "execution_count": 138,
     "metadata": {},
     "output_type": "execute_result"
    }
   ],
   "source": [
    "# пример\n",
    "tf.keras.layers.Lambda(lambda x: tf.pad(x, \n",
    "                                        [[0,0], [1,1], [0,0]], \n",
    "                                        mode='CONSTANT'))\n",
    "\n",
    "# x тут это то, что будет на входе, например последовательность эмбедингов\n",
    "#\n",
    "# второй параметр - это значения паддинга для каждой из размерности слева и справа\n",
    "\n",
    "# у нас будут последовательности вида (batch_size, max_len, embedding_size)\n",
    "\n",
    "# с размером батча ничего не делаем, поэтому [0, 0]\n",
    "\n",
    "# длину последовательности меняем, она связана с kernel_size как раз и меняется - [1, 1], \n",
    "# т.е. паддим одну колонку слева и одну справа (была 134, станет 136, например)\n",
    "\n",
    "# размер эмбединга тоже не трогаем, т.к. фильтра применяется на всю глубину\n",
    "#\n",
    "\n",
    "# mode - это тип паддинга, CONSTANT - это паддинг нулями\n",
    "# еще есть SYMMETRIC, REFLECT\n",
    "\n",
    "# вот примеры, как это работает\n",
    "\n",
    "# tf.pad(t, paddings, \"CONSTANT\")  # [[0, 0, 0, 0, 0, 0, 0],\n",
    "#                                  #  [0, 0, 1, 2, 3, 0, 0],\n",
    "#                                  #  [0, 0, 4, 5, 6, 0, 0],\n",
    "#                                  #  [0, 0, 0, 0, 0, 0, 0]]\n",
    "\n",
    "# tf.pad(t, paddings, \"REFLECT\")  # [[6, 5, 4, 5, 6, 5, 4],\n",
    "#                                 #  [3, 2, 1, 2, 3, 2, 1],\n",
    "#                                 #  [6, 5, 4, 5, 6, 5, 4],\n",
    "#                                 #  [3, 2, 1, 2, 3, 2, 1]]\n",
    "\n",
    "# tf.pad(t, paddings, \"SYMMETRIC\")  # [[2, 1, 1, 2, 3, 3, 2],\n",
    "#                                   #  [2, 1, 1, 2, 3, 3, 2],\n",
    "#                                   #  [5, 4, 4, 5, 6, 6, 5],\n",
    "#                                   #  [5, 4, 4, 5, 6, 6, 5]]"
   ]
  },
  {
   "cell_type": "markdown",
   "metadata": {},
   "source": [
    "### Попробуйте подбирать паддинги, чтобы понять, как это работает, на игрушечном тензоре"
   ]
  },
  {
   "cell_type": "code",
   "execution_count": 139,
   "metadata": {},
   "outputs": [],
   "source": [
    "x = [[[1,2,3],[3, 4,5]], [[6,7,8], [9,10, 11]]]"
   ]
  },
  {
   "cell_type": "code",
   "execution_count": 144,
   "metadata": {},
   "outputs": [
    {
     "data": {
      "text/plain": [
       "array([[[ 1,  2,  3],\n",
       "        [ 3,  4,  5]],\n",
       "\n",
       "       [[ 6,  7,  8],\n",
       "        [ 9, 10, 11]]])"
      ]
     },
     "execution_count": 144,
     "metadata": {},
     "output_type": "execute_result"
    }
   ],
   "source": [
    "np.array(x)"
   ]
  },
  {
   "cell_type": "code",
   "execution_count": 146,
   "metadata": {},
   "outputs": [
    {
     "data": {
      "text/plain": [
       "(2, 2, 3)"
      ]
     },
     "execution_count": 146,
     "metadata": {},
     "output_type": "execute_result"
    }
   ],
   "source": [
    "np.array(x).shape"
   ]
  },
  {
   "cell_type": "code",
   "execution_count": 140,
   "metadata": {},
   "outputs": [
    {
     "data": {
      "text/plain": [
       "<tf.Tensor: shape=(2, 4, 3), dtype=int32, numpy=\n",
       "array([[[ 0,  0,  0],\n",
       "        [ 1,  2,  3],\n",
       "        [ 3,  4,  5],\n",
       "        [ 0,  0,  0]],\n",
       "\n",
       "       [[ 0,  0,  0],\n",
       "        [ 6,  7,  8],\n",
       "        [ 9, 10, 11],\n",
       "        [ 0,  0,  0]]], dtype=int32)>"
      ]
     },
     "execution_count": 140,
     "metadata": {},
     "output_type": "execute_result"
    }
   ],
   "source": [
    "tf.pad(x, [[0, 0], [1, 1], [0, 0]])"
   ]
  },
  {
   "cell_type": "markdown",
   "metadata": {},
   "source": [
    "Это еще не все сложности.\n",
    "\n",
    "Понадобится ещё разобраться в том, как расчитывается размер выхода из свертки в зависимости от размера фильтра.\n",
    "\n",
    "В лекции была такая формула -   \n",
    "output = (shape-kernel_size)/stride + 1\n",
    "\n",
    "\n",
    "Из неё нам нужно вывести размер паддинга с каждой стороны нашей матрицы. Для этого нам нужно найти такой shape, при котором выход из свертки будет равняться нашему текущему shape.   \n",
    "shape = (X-kernel_size)/stride + 1\n",
    "\n",
    "Потом его нужно разделить на 2 и получить размер паддинга с каждой стороны. \n",
    "\n",
    "Получается что-то такое -   \n",
    "X = ((((shape - 1) * stride) + kernel_size) - shape) / 2 (может еще упрощается, но я давно не считал руками)\n",
    "\n",
    "Тут еще нужно учесть, что не при любом значении kernel_size будут получаться четные числа, а это значит нужно будет паддить не ровно. Это вы можете доделать самостоятельно. Я просто взял значения kernel_size (3,5), при которых все сходится."
   ]
  },
  {
   "cell_type": "markdown",
   "metadata": {},
   "source": [
    "Еще небольшая проблема в том, что мы не можем задать сетку, как это делали выше (через цикл). Я не знаю, почему так, но если развернуть цикл и написать все без переменных, то работает."
   ]
  },
  {
   "cell_type": "code",
   "execution_count": 129,
   "metadata": {},
   "outputs": [
    {
     "data": {
      "text/plain": [
       "1.0"
      ]
     },
     "execution_count": 129,
     "metadata": {},
     "output_type": "execute_result"
    }
   ],
   "source": [
    "# Паддинг для kernel_size=3\n",
    "ks = 3\n",
    "((((MAX_LEN - 1) * 1) + ks) -  MAX_LEN) / 2"
   ]
  },
  {
   "cell_type": "code",
   "execution_count": 130,
   "metadata": {},
   "outputs": [
    {
     "data": {
      "text/plain": [
       "2.0"
      ]
     },
     "execution_count": 130,
     "metadata": {},
     "output_type": "execute_result"
    }
   ],
   "source": [
    "# Паддинг для kernel_size=5\n",
    "ks = 5\n",
    "((((MAX_LEN - 1) * 1) + ks) -  MAX_LEN) / 2"
   ]
  },
  {
   "cell_type": "code",
   "execution_count": 115,
   "metadata": {},
   "outputs": [],
   "source": [
    "\n",
    "inputs = tf.keras.layers.Input(shape=(MAX_LEN,))\n",
    "embeddings = tf.keras.layers.Embedding(input_dim=len(word2id), output_dim=100)(inputs, )\n",
    "convs = []\n",
    "\n",
    "\n",
    "# kernel_size = 3\n",
    "pad1 = tf.keras.layers.Lambda(lambda x: tf.pad(x, \n",
    "                                               [[0,0], [1,1], [0, 0]], \n",
    "                                               mode='REFLECT'))(embeddings)\n",
    "\n",
    "conv1 = tf.keras.layers.Conv1D(kernel_size=3, filters=32, strides=1)(pad1)\n",
    "\n",
    "pad2 = tf.keras.layers.Lambda(lambda x: tf.pad(x, \n",
    "                                               [[0,0], [1,1], [0, 0]], \n",
    "                                               mode='REFLECT'))(conv1)\n",
    "\n",
    "conv2 = tf.keras.layers.Conv1D(kernel_size=3, filters=32,strides=1, \n",
    "                              kernel_regularizer='l2', activation='relu')(pad2)\n",
    "\n",
    "\n",
    "#kernel_size = 5\n",
    "pad3 = tf.keras.layers.Lambda(lambda x: tf.pad(x, \n",
    "                                               [[0,0], [2,2], [0, 0]], \n",
    "                                               mode='REFLECT'))(embeddings)\n",
    "\n",
    "conv3 = tf.keras.layers.Conv1D(kernel_size=5, filters=32, strides=1)(pad3)\n",
    "\n",
    "pad4 = tf.keras.layers.Lambda(lambda x: tf.pad(x, \n",
    "                                               [[0,0], [2,2], [0, 0]], \n",
    "                                               mode='REFLECT'))(conv3)\n",
    "\n",
    "conv4 = tf.keras.layers.Conv1D(kernel_size=5, filters=32,strides=1, \n",
    "                              kernel_regularizer='l2', activation='relu')(pad4)\n",
    "\n",
    "\n",
    "\n",
    "concat = tf.keras.layers.concatenate([conv2, conv4])\n",
    "\n",
    "conv_global = tf.keras.layers.Conv1D(kernel_size=5, filters=32, strides=1)(concat)\n",
    "flatten = tf.keras.layers.Flatten()(conv_global)\n",
    "dense = tf.keras.layers.Dense(50, activation='relu')(flatten)\n",
    "outputs = tf.keras.layers.Dense(len(label2id), activation='softmax')(dense)\n",
    "\n",
    "model = tf.keras.Model(inputs=inputs, outputs=outputs)\n",
    "optimizer = tf.keras.optimizers.Adam(learning_rate=0.001)\n",
    "model.compile(optimizer=optimizer,\n",
    "              loss='binary_crossentropy',\n",
    "              metrics=[f1])\n"
   ]
  },
  {
   "cell_type": "code",
   "execution_count": 116,
   "metadata": {},
   "outputs": [
    {
     "name": "stdout",
     "output_type": "stream",
     "text": [
      "Model: \"model_18\"\n",
      "__________________________________________________________________________________________________\n",
      "Layer (type)                    Output Shape         Param #     Connected to                     \n",
      "==================================================================================================\n",
      "input_23 (InputLayer)           [(None, 201)]        0                                            \n",
      "__________________________________________________________________________________________________\n",
      "embedding_21 (Embedding)        (None, 201, 100)     5530600     input_23[0][0]                   \n",
      "__________________________________________________________________________________________________\n",
      "lambda (Lambda)                 (None, 203, 100)     0           embedding_21[0][0]               \n",
      "__________________________________________________________________________________________________\n",
      "lambda_2 (Lambda)               (None, 205, 100)     0           embedding_21[0][0]               \n",
      "__________________________________________________________________________________________________\n",
      "conv1d_46 (Conv1D)              (None, 201, 32)      9632        lambda[0][0]                     \n",
      "__________________________________________________________________________________________________\n",
      "conv1d_48 (Conv1D)              (None, 201, 32)      16032       lambda_2[0][0]                   \n",
      "__________________________________________________________________________________________________\n",
      "lambda_1 (Lambda)               (None, 203, 32)      0           conv1d_46[0][0]                  \n",
      "__________________________________________________________________________________________________\n",
      "lambda_3 (Lambda)               (None, 205, 32)      0           conv1d_48[0][0]                  \n",
      "__________________________________________________________________________________________________\n",
      "conv1d_47 (Conv1D)              (None, 201, 32)      3104        lambda_1[0][0]                   \n",
      "__________________________________________________________________________________________________\n",
      "conv1d_49 (Conv1D)              (None, 201, 32)      5152        lambda_3[0][0]                   \n",
      "__________________________________________________________________________________________________\n",
      "concatenate_2 (Concatenate)     (None, 201, 64)      0           conv1d_47[0][0]                  \n",
      "                                                                 conv1d_49[0][0]                  \n",
      "__________________________________________________________________________________________________\n",
      "conv1d_50 (Conv1D)              (None, 197, 32)      10272       concatenate_2[0][0]              \n",
      "__________________________________________________________________________________________________\n",
      "flatten_18 (Flatten)            (None, 6304)         0           conv1d_50[0][0]                  \n",
      "__________________________________________________________________________________________________\n",
      "dense_36 (Dense)                (None, 50)           315250      flatten_18[0][0]                 \n",
      "__________________________________________________________________________________________________\n",
      "dense_37 (Dense)                (None, 19)           969         dense_36[0][0]                   \n",
      "==================================================================================================\n",
      "Total params: 5,891,011\n",
      "Trainable params: 5,891,011\n",
      "Non-trainable params: 0\n",
      "__________________________________________________________________________________________________\n"
     ]
    }
   ],
   "source": [
    "model.summary()"
   ]
  },
  {
   "cell_type": "code",
   "execution_count": 117,
   "metadata": {},
   "outputs": [
    {
     "name": "stdout",
     "output_type": "stream",
     "text": [
      "Epoch 1/5\n",
      "71/71 [==============================] - 17s 212ms/step - loss: 0.7792 - f1: 2.6767e-05 - val_loss: 0.3100 - val_f1: 0.0000e+00\n",
      "Epoch 2/5\n",
      "71/71 [==============================] - 15s 207ms/step - loss: 0.2570 - f1: 0.1484 - val_loss: 0.1517 - val_f1: 0.4862\n",
      "Epoch 3/5\n",
      "71/71 [==============================] - 15s 208ms/step - loss: 0.1313 - f1: 0.5529 - val_loss: 0.1043 - val_f1: 0.6510\n",
      "Epoch 4/5\n",
      "71/71 [==============================] - 15s 206ms/step - loss: 0.0909 - f1: 0.7038 - val_loss: 0.0882 - val_f1: 0.7033\n",
      "Epoch 5/5\n",
      "71/71 [==============================] - 15s 208ms/step - loss: 0.0721 - f1: 0.7719 - val_loss: 0.0845 - val_f1: 0.7213\n"
     ]
    },
    {
     "data": {
      "text/plain": [
       "<tensorflow.python.keras.callbacks.History at 0x7f7042cc71d0>"
      ]
     },
     "execution_count": 117,
     "metadata": {},
     "output_type": "execute_result"
    }
   ],
   "source": [
    "model.fit(X_train, y_train, \n",
    "          validation_data=(X_valid, y_valid),\n",
    "          batch_size=2000,\n",
    "         epochs=5)"
   ]
  },
  {
   "cell_type": "code",
   "execution_count": 118,
   "metadata": {},
   "outputs": [
    {
     "name": "stdout",
     "output_type": "stream",
     "text": [
      "dict_keys(['loss', 'f1', 'val_loss', 'val_f1'])\n"
     ]
    },
    {
     "data": {
      "image/png": "[encoded data removed]",
      "text/plain": [
       "<Figure size 432x288 with 1 Axes>"
      ]
     },
     "metadata": {
      "needs_background": "light"
     },
     "output_type": "display_data"
    }
   ],
   "source": [
    "print(model.history.history.keys())\n",
    "# summarize history for accuracy\n",
    "plt.plot(model.history.history['f1'])\n",
    "plt.plot(model.history.history['val_f1'])\n",
    "plt.title('model f1')\n",
    "plt.ylabel('f1')\n",
    "plt.xlabel('epoch')\n",
    "plt.legend(['train', 'val'], loc='upper left')\n",
    "plt.show()"
   ]
  },
  {
   "cell_type": "markdown",
   "metadata": {},
   "source": [
    "## Сохранение и загрузка модели"
   ]
  },
  {
   "cell_type": "markdown",
   "metadata": {},
   "source": [
    "Когда какая-то модель получилась, её может потребоваться сохранить."
   ]
  },
  {
   "cell_type": "code",
   "execution_count": 45,
   "metadata": {},
   "outputs": [
    {
     "name": "stdout",
     "output_type": "stream",
     "text": [
      "INFO:tensorflow:Assets written to: model/assets\n"
     ]
    }
   ],
   "source": [
    "model.save('model')"
   ]
  },
  {
   "cell_type": "code",
   "execution_count": 37,
   "metadata": {
    "scrolled": true
   },
   "outputs": [],
   "source": [
    "# сохраненную модель можно загрузить вот так, НО\n",
    "# модель с метрикой ф1 не будет загружаться, так как она не стандартная\n",
    "# model = tf.keras.models.load_model('model')"
   ]
  },
  {
   "cell_type": "markdown",
   "metadata": {},
   "source": [
    "Можно сохранить только веса, но потом придется задать модель и только после этого загрузить веса."
   ]
  },
  {
   "cell_type": "code",
   "execution_count": 46,
   "metadata": {},
   "outputs": [],
   "source": [
    "model.save_weights('model.weights')"
   ]
  },
  {
   "cell_type": "code",
   "execution_count": 47,
   "metadata": {},
   "outputs": [],
   "source": [
    "inputs = tf.keras.layers.Input(shape=(MAX_LEN,))\n",
    "embeddings = tf.keras.layers.Embedding(input_dim=len(word2id), output_dim=100)(inputs, )\n",
    "convs = []\n",
    "\n",
    "for ks in [2,3,4,5]:\n",
    "    conv1 = tf.keras.layers.Conv1D(kernel_size=ks, filters=32, padding='same',strides=1)(embeddings)\n",
    "    conv2 = tf.keras.layers.Conv1D(kernel_size=ks, filters=32, padding='same',strides=1, \n",
    "                                  kernel_regularizer='l2', activation='relu')(conv1)\n",
    "    convs.append(conv2)\n",
    "concat = tf.keras.layers.concatenate(convs, axis=2)\n",
    "conv_global = tf.keras.layers.Conv1D(kernel_size=5, filters=32, strides=1)(concat)\n",
    "flatten = tf.keras.layers.Flatten()(conv_global)\n",
    "dense = tf.keras.layers.Dense(50, activation='relu')(flatten)\n",
    "outputs = tf.keras.layers.Dense(len(label2id), activation='softmax')(dense)\n",
    "\n",
    "model = tf.keras.Model(inputs=inputs, outputs=outputs)\n",
    "optimizer = tf.keras.optimizers.Adam(learning_rate=0.001)\n",
    "model.compile(optimizer=optimizer,\n",
    "              loss='binary_crossentropy',\n",
    "              metrics=[f1])\n"
   ]
  },
  {
   "cell_type": "code",
   "execution_count": 48,
   "metadata": {},
   "outputs": [
    {
     "data": {
      "text/plain": [
       "<tensorflow.python.training.tracking.util.CheckpointLoadStatus at 0x7f491073d5c0>"
      ]
     },
     "execution_count": 48,
     "metadata": {},
     "output_type": "execute_result"
    }
   ],
   "source": [
    "model.load_weights('model.weights')"
   ]
  },
  {
   "cell_type": "markdown",
   "metadata": {},
   "source": [
    "## Callbacks"
   ]
  },
  {
   "cell_type": "markdown",
   "metadata": {},
   "source": [
    "Еще есть такая штука как колбеки. С помощью них можно сохранять модель с лучшим результатом, останавливать обучение, если уже не обучается или менять learning_rate в зависимости от текущего состояния. С колбеками можно поставить нейронку обучаться и заняться какими-то другими делами, зная, что лучшие веса сохранятся.\n",
    "\n",
    "Описание стандартных колбеков - https://www.tensorflow.org/api_docs/python/tf/keras/callbacks"
   ]
  },
  {
   "cell_type": "code",
   "execution_count": 22,
   "metadata": {},
   "outputs": [],
   "source": [
    "# ModelCheckpoint сохраняет лучшие версии моделей\n",
    "checkpoint = tf.keras.callbacks.ModelCheckpoint('model.weights', # названия файла \n",
    "                                                monitor='val_f1', # за какой метрикой следить\n",
    "                                                verbose=1, # будет печатать что происходит\n",
    "                                                save_weights_only=True, # если нужно только веса сохранить\n",
    "                                                save_best_only=True, # сохранять только лучшие\n",
    "                                                mode='max', # если метрика должна расти, то тут max и min если наоборот\n",
    "                                                save_freq='epoch' # как часто вызывать\n",
    "                                               )\n",
    "\n",
    "# EarlyStopping позволяет автоматически остановить обучение, если качество не улучшается \n",
    "early_stop = tf.keras.callbacks.EarlyStopping(monitor='val_f1', \n",
    "                                              min_delta=0.01, # какая разница считается как улучшение\n",
    "                                              patience=3, # сколько эпох терпеть отсутствие улучшений\n",
    "                                              verbose=1, \n",
    "                                              mode='max',\n",
    "                                              )"
   ]
  },
  {
   "cell_type": "code",
   "execution_count": 23,
   "metadata": {},
   "outputs": [],
   "source": [
    "inputs = tf.keras.layers.Input(shape=(MAX_LEN,))\n",
    "\n",
    "embeddings = tf.keras.layers.Embedding(input_dim=len(word2id), output_dim=100)(inputs)\n",
    "drop1 = tf.keras.layers.Dropout(0.3)(embeddings)\n",
    "conv1 = tf.keras.layers.Conv1D(kernel_size=3, filters=128, strides=1, \n",
    "                                               kernel_regularizer='l2',\n",
    "                                              activation='relu')(embeddings)\n",
    "conv2 = tf.keras.layers.Conv1D(kernel_size=5, filters=128, strides=2, \n",
    "                                               kernel_regularizer='l2',\n",
    "                                              activation='relu')(conv1)\n",
    "\n",
    "drop2 = tf.keras.layers.Dropout(0.5)(conv2) # это значит что случайно заменяется половина всех значений\n",
    "\n",
    "flatten = tf.keras.layers.Flatten()(drop2)\n",
    "dense = tf.keras.layers.Dense(50, activation='relu')(flatten)\n",
    "outputs = tf.keras.layers.Dense(len(label2id), activation='softmax')(dense)\n",
    "\n",
    "model = tf.keras.Model(inputs=inputs, outputs=outputs)\n",
    "optimizer = tf.keras.optimizers.Adam(learning_rate=0.001)\n",
    "model.compile(optimizer=optimizer,\n",
    "              loss='binary_crossentropy',\n",
    "              metrics=[f1])\n"
   ]
  },
  {
   "cell_type": "code",
   "execution_count": 24,
   "metadata": {},
   "outputs": [
    {
     "name": "stdout",
     "output_type": "stream",
     "text": [
      "Epoch 1/10\n",
      "621/621 [==============================] - ETA: 0s - loss: 0.2668 - f1: 0.3060\n",
      "Epoch 00001: val_f1 improved from -inf to 0.52367, saving model to model.weights\n",
      "621/621 [==============================] - 65s 105ms/step - loss: 0.2668 - f1: 0.3060 - val_loss: 0.1307 - val_f1: 0.5237\n",
      "Epoch 2/10\n",
      "621/621 [==============================] - ETA: 0s - loss: 0.1262 - f1: 0.5597\n",
      "Epoch 00002: val_f1 did not improve from 0.52367\n",
      "621/621 [==============================] - 65s 105ms/step - loss: 0.1262 - f1: 0.5597 - val_loss: 0.1279 - val_f1: 0.5177\n",
      "Epoch 3/10\n",
      "621/621 [==============================] - ETA: 0s - loss: 0.1187 - f1: 0.5877\n",
      "Epoch 00003: val_f1 improved from 0.52367 to 0.56685, saving model to model.weights\n",
      "621/621 [==============================] - 65s 104ms/step - loss: 0.1187 - f1: 0.5877 - val_loss: 0.1242 - val_f1: 0.5669\n",
      "Epoch 4/10\n",
      "621/621 [==============================] - ETA: 0s - loss: 0.1142 - f1: 0.6055\n",
      "Epoch 00004: val_f1 did not improve from 0.56685\n",
      "621/621 [==============================] - 65s 104ms/step - loss: 0.1142 - f1: 0.6055 - val_loss: 0.1260 - val_f1: 0.5379\n",
      "Epoch 5/10\n",
      "621/621 [==============================] - ETA: 0s - loss: 0.1105 - f1: 0.6206\n",
      "Epoch 00005: val_f1 improved from 0.56685 to 0.58214, saving model to model.weights\n",
      "621/621 [==============================] - 65s 104ms/step - loss: 0.1105 - f1: 0.6206 - val_loss: 0.1261 - val_f1: 0.5821\n",
      "Epoch 6/10\n",
      "621/621 [==============================] - ETA: 0s - loss: 0.1076 - f1: 0.6317\n",
      "Epoch 00006: val_f1 improved from 0.58214 to 0.59003, saving model to model.weights\n",
      "621/621 [==============================] - 64s 104ms/step - loss: 0.1076 - f1: 0.6317 - val_loss: 0.1280 - val_f1: 0.5900\n",
      "Epoch 7/10\n",
      "621/621 [==============================] - ETA: 0s - loss: 0.1048 - f1: 0.6454\n",
      "Epoch 00007: val_f1 did not improve from 0.59003\n",
      "621/621 [==============================] - 64s 104ms/step - loss: 0.1048 - f1: 0.6454 - val_loss: 0.1292 - val_f1: 0.5811\n",
      "Epoch 8/10\n",
      "621/621 [==============================] - ETA: 0s - loss: 0.1022 - f1: 0.6595\n",
      "Epoch 00008: val_f1 did not improve from 0.59003\n",
      "621/621 [==============================] - 68s 109ms/step - loss: 0.1022 - f1: 0.6595 - val_loss: 0.1309 - val_f1: 0.5722\n",
      "Epoch 9/10\n",
      "621/621 [==============================] - ETA: 0s - loss: 0.0994 - f1: 0.6712\n",
      "Epoch 00009: val_f1 improved from 0.59003 to 0.60026, saving model to model.weights\n",
      "621/621 [==============================] - 65s 104ms/step - loss: 0.0994 - f1: 0.6712 - val_loss: 0.1319 - val_f1: 0.6003\n",
      "Epoch 10/10\n",
      "621/621 [==============================] - ETA: 0s - loss: 0.0971 - f1: 0.6834\n",
      "Epoch 00010: val_f1 did not improve from 0.60026\n",
      "621/621 [==============================] - 64s 104ms/step - loss: 0.0971 - f1: 0.6834 - val_loss: 0.1375 - val_f1: 0.5873\n"
     ]
    },
    {
     "data": {
      "text/plain": [
       "<tensorflow.python.keras.callbacks.History at 0x7fe840025ba8>"
      ]
     },
     "execution_count": 24,
     "metadata": {},
     "output_type": "execute_result"
    }
   ],
   "source": [
    "\n",
    "model.fit(X_train, y_train, \n",
    "          validation_data=(X_valid, y_valid),\n",
    "          batch_size=2000,\n",
    "         epochs=10,\n",
    "         callbacks=[checkpoint, early_stop])"
   ]
  },
  {
   "cell_type": "code",
   "execution_count": 25,
   "metadata": {},
   "outputs": [
    {
     "name": "stdout",
     "output_type": "stream",
     "text": [
      "dict_keys(['loss', 'f1', 'val_loss', 'val_f1'])\n"
     ]
    },
    {
     "data": {
      "image/png": "[encoded data removed]",
      "text/plain": [
       "<Figure size 432x288 with 1 Axes>"
      ]
     },
     "metadata": {
      "needs_background": "light"
     },
     "output_type": "display_data"
    }
   ],
   "source": [
    "print(model.history.history.keys())\n",
    "# summarize history for accuracy\n",
    "plt.plot(model.history.history['f1'])\n",
    "plt.plot(model.history.history['val_f1'])\n",
    "plt.title('model f1')\n",
    "plt.ylabel('f1')\n",
    "plt.xlabel('epoch')\n",
    "plt.legend(['train', 'val'], loc='upper left')\n",
    "plt.show()"
   ]
  },
  {
   "cell_type": "markdown",
   "metadata": {},
   "source": [
    "## Домашка\n",
    "\n",
    "\n",
    "Обучите модель с минимум 15 слоями, где у каждого слоя разные параметры (Dropout, Conv1d и Pooling считаются слоями, остальное нет). Как мимнимум 4 слоя должны быть наложены друг на друга и как минимум 2 параллельных слоя (последовательности слоев). Должен быть хотя бы один слой каждого типа.\n",
    "\n",
    "При обучении используйте колбек для отслеживания лучшей модели. Ориентируйтесь на ф1 меру. Должно получиться сопоставимое качество с моделями выше.\n",
    "\n",
    "Советы: Начните с небольших сетей и постепенно добавляйте, не пытайтесь сразу собрать все слои. Иногда кернел может крашиться просто так или из-за слишком больших матриц.\n"
   ]
  },
  {
   "cell_type": "code",
   "execution_count": null,
   "metadata": {},
   "outputs": [],
   "source": []
  }
 ],
 "metadata": {
  "kernelspec": {
   "display_name": "Python 3",
   "language": "python",
   "name": "python3"
  },
  "language_info": {
   "codemirror_mode": {
    "name": "ipython",
    "version": 3
   },
   "file_extension": ".py",
   "mimetype": "text/x-python",
   "name": "python",
   "nbconvert_exporter": "python",
   "pygments_lexer": "ipython3",
   "version": "3.7.2"
  }
 },
 "nbformat": 4,
 "nbformat_minor": 4
}
