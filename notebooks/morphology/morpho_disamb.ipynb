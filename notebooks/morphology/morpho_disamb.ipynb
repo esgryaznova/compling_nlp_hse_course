{
  "nbformat": 4,
  "nbformat_minor": 0,
  "metadata": {
    "colab": {
      "name": "morpho_disamb.ipynb",
      "version": "0.3.2",
      "provenance": [],
      "include_colab_link": true
    },
    "kernelspec": {
      "name": "python3",
      "display_name": "Python 3"
    },
    "accelerator": "GPU"
  },
  "cells": [
    {
      "cell_type": "markdown",
      "metadata": {
        "id": "view-in-github",
        "colab_type": "text"
      },
      "source": [
        "<a href=\"https://colab.research.google.com/github/mannefedov/compling_nlp_hse_course/blob/master/notebooks/morpho_disamb.ipynb\" target=\"_parent\"><img src=\"https://colab.research.google.com/assets/colab-badge.svg\" alt=\"Open In Colab\"/></a>"
      ]
    },
    {
      "metadata": {
        "id": "NPOgMnI-81so",
        "colab_type": "text"
      },
      "cell_type": "markdown",
      "source": [
        "Про существующие инструменты хорошо написано вот тут  - http://web-corpora.net/wsgi/mystemplus.wsgi/mystemplus/instructions/"
      ]
    },
    {
      "metadata": {
        "id": "P6H5NM8O9BJf",
        "colab_type": "text"
      },
      "cell_type": "markdown",
      "source": [
        "Не все из списка просто установить даже в колабе. Воспользуемся TreeTagger. Он хотя бы работает."
      ]
    },
    {
      "metadata": {
        "id": "t6g4DGAj9BMp",
        "colab_type": "text"
      },
      "cell_type": "markdown",
      "source": [
        "Скачиваем нужные файлы по инструкции."
      ]
    },
    {
      "metadata": {
        "id": "QJSOrmGM80vJ",
        "colab_type": "code",
        "outputId": "523033a3-0e5c-4daa-b5c6-390b8740d660",
        "colab": {
          "base_uri": "https://localhost:8080/",
          "height": 224
        }
      },
      "cell_type": "code",
      "source": [
        "!wget http://www.cis.uni-muenchen.de/~schmid/tools/TreeTagger/data/tree-tagger-linux-3.2.2.tar.gz"
      ],
      "execution_count": 2,
      "outputs": [
        {
          "output_type": "stream",
          "text": [
            "--2019-04-29 07:59:23--  http://www.cis.uni-muenchen.de/~schmid/tools/TreeTagger/data/tree-tagger-linux-3.2.2.tar.gz\n",
            "Resolving www.cis.uni-muenchen.de (www.cis.uni-muenchen.de)... 129.187.148.72, 2001:4ca0:4f01::5\n",
            "Connecting to www.cis.uni-muenchen.de (www.cis.uni-muenchen.de)|129.187.148.72|:80... connected.\n",
            "HTTP request sent, awaiting response... 200 OK\n",
            "Length: 1821366 (1.7M) [application/x-gzip]\n",
            "Saving to: ‘tree-tagger-linux-3.2.2.tar.gz’\n",
            "\n",
            "tree-tagger-linux-3 100%[===================>]   1.74M  1.06MB/s    in 1.6s    \n",
            "\n",
            "2019-04-29 07:59:26 (1.06 MB/s) - ‘tree-tagger-linux-3.2.2.tar.gz’ saved [1821366/1821366]\n",
            "\n"
          ],
          "name": "stdout"
        }
      ]
    },
    {
      "metadata": {
        "id": "uAH8K4T_5z8o",
        "colab_type": "code",
        "outputId": "3f850330-7492-4997-d43e-9d4cd6909293",
        "colab": {
          "base_uri": "https://localhost:8080/",
          "height": 224
        }
      },
      "cell_type": "code",
      "source": [
        "!wget http://www.cis.uni-muenchen.de/~schmid/tools/TreeTagger/data/tagger-scripts.tar.gz"
      ],
      "execution_count": 3,
      "outputs": [
        {
          "output_type": "stream",
          "text": [
            "--2019-04-29 07:59:29--  http://www.cis.uni-muenchen.de/~schmid/tools/TreeTagger/data/tagger-scripts.tar.gz\n",
            "Resolving www.cis.uni-muenchen.de (www.cis.uni-muenchen.de)... 129.187.148.72, 2001:4ca0:4f01::5\n",
            "Connecting to www.cis.uni-muenchen.de (www.cis.uni-muenchen.de)|129.187.148.72|:80... connected.\n",
            "HTTP request sent, awaiting response... 200 OK\n",
            "Length: 100702 (98K) [application/x-gzip]\n",
            "Saving to: ‘tagger-scripts.tar.gz’\n",
            "\n",
            "\rtagger-scripts.tar.   0%[                    ]       0  --.-KB/s               \rtagger-scripts.tar.  22%[===>                ]  21.84K  81.2KB/s               \rtagger-scripts.tar.  50%[=========>          ]  50.12K  93.1KB/s               \rtagger-scripts.tar. 100%[===================>]  98.34K   182KB/s    in 0.5s    \n",
            "\n",
            "2019-04-29 07:59:30 (182 KB/s) - ‘tagger-scripts.tar.gz’ saved [100702/100702]\n",
            "\n"
          ],
          "name": "stdout"
        }
      ]
    },
    {
      "metadata": {
        "id": "8SJ8rbYf5z-e",
        "colab_type": "code",
        "outputId": "79547e92-135d-4836-fdc9-fdfadb2407d1",
        "colab": {
          "base_uri": "https://localhost:8080/",
          "height": 224
        }
      },
      "cell_type": "code",
      "source": [
        "!wget http://www.cis.uni-muenchen.de/~schmid/tools/TreeTagger/data/install-tagger.sh"
      ],
      "execution_count": 4,
      "outputs": [
        {
          "output_type": "stream",
          "text": [
            "--2019-04-29 07:59:34--  http://www.cis.uni-muenchen.de/~schmid/tools/TreeTagger/data/install-tagger.sh\n",
            "Resolving www.cis.uni-muenchen.de (www.cis.uni-muenchen.de)... 129.187.148.72, 2001:4ca0:4f01::5\n",
            "Connecting to www.cis.uni-muenchen.de (www.cis.uni-muenchen.de)|129.187.148.72|:80... connected.\n",
            "HTTP request sent, awaiting response... 200 OK\n",
            "Length: 11901 (12K) [application/x-shellscript]\n",
            "Saving to: ‘install-tagger.sh’\n",
            "\n",
            "\rinstall-tagger.sh     0%[                    ]       0  --.-KB/s               \rinstall-tagger.sh   100%[===================>]  11.62K  --.-KB/s    in 0s      \n",
            "\n",
            "2019-04-29 07:59:35 (165 MB/s) - ‘install-tagger.sh’ saved [11901/11901]\n",
            "\n"
          ],
          "name": "stdout"
        }
      ]
    },
    {
      "metadata": {
        "id": "n__NxBzk50DC",
        "colab_type": "code",
        "outputId": "fb62ab48-bbbe-4afb-d248-82ba8afc63c7",
        "colab": {
          "base_uri": "https://localhost:8080/",
          "height": 224
        }
      },
      "cell_type": "code",
      "source": [
        "!wget http://www.cis.uni-muenchen.de/~schmid/tools/TreeTagger/data/russian.par.gz"
      ],
      "execution_count": 5,
      "outputs": [
        {
          "output_type": "stream",
          "text": [
            "--2019-04-29 07:59:39--  http://www.cis.uni-muenchen.de/~schmid/tools/TreeTagger/data/russian.par.gz\n",
            "Resolving www.cis.uni-muenchen.de (www.cis.uni-muenchen.de)... 129.187.148.72, 2001:4ca0:4f01::5\n",
            "Connecting to www.cis.uni-muenchen.de (www.cis.uni-muenchen.de)|129.187.148.72|:80... connected.\n",
            "HTTP request sent, awaiting response... 200 OK\n",
            "Length: 115748255 (110M) [application/x-gzip]\n",
            "Saving to: ‘russian.par.gz’\n",
            "\n",
            "russian.par.gz      100%[===================>] 110.39M  10.2MB/s    in 12s     \n",
            "\n",
            "2019-04-29 07:59:52 (8.85 MB/s) - ‘russian.par.gz’ saved [115748255/115748255]\n",
            "\n"
          ],
          "name": "stdout"
        }
      ]
    },
    {
      "metadata": {
        "id": "zUTvm68R9Qz8",
        "colab_type": "text"
      },
      "cell_type": "markdown",
      "source": [
        "Устанавливаем."
      ]
    },
    {
      "metadata": {
        "id": "Y_Zl4nv050G0",
        "colab_type": "code",
        "outputId": "e8cfd9fa-5a5a-42dd-f01f-6bc48fcc9370",
        "colab": {
          "base_uri": "https://localhost:8080/",
          "height": 173
        }
      },
      "cell_type": "code",
      "source": [
        "!sh install-tagger.sh"
      ],
      "execution_count": 6,
      "outputs": [
        {
          "output_type": "stream",
          "text": [
            "\n",
            "TreeTagger version for PC-Linux installed.\n",
            "Tagging scripts installed.\n",
            "Russian parameter file installed.\n",
            "Path variables modified in tagging scripts.\n",
            "\n",
            "You might want to add /content/cmd and /content/bin to the PATH variable so that you do not need to specify the full path to run the tagging scripts.\n",
            "\n"
          ],
          "name": "stdout"
        }
      ]
    },
    {
      "metadata": {
        "id": "83EIeB1j9TR4",
        "colab_type": "text"
      },
      "cell_type": "markdown",
      "source": [
        "Предобученная модель для русского уже есть. Можно потестить."
      ]
    },
    {
      "metadata": {
        "id": "opn4plRc50Ij",
        "colab_type": "code",
        "outputId": "b4a01dba-bd31-414e-dcfa-16ebc7240d66",
        "colab": {
          "base_uri": "https://localhost:8080/",
          "height": 153
        }
      },
      "cell_type": "code",
      "source": [
        "!echo 'Я хочу съесть яблоко!' | cmd/tree-tagger-russian "
      ],
      "execution_count": 7,
      "outputs": [
        {
          "output_type": "stream",
          "text": [
            "\treading parameters ...\n",
            "\ttagging ...\n",
            "Я\tP-1-snn\tя\n",
            "хочу\tVmip1s-a-e\tхотеть\n",
            "съесть\tVmn----a-p\tсъесть\n",
            "яблоко\tNcnsan\tяблоко\n",
            "!\tSENT\t!\n",
            "\t finished.\n"
          ],
          "name": "stdout"
        }
      ]
    },
    {
      "metadata": {
        "id": "Va0btbvi9Y55",
        "colab_type": "text"
      },
      "cell_type": "markdown",
      "source": [
        "Но тэги тут странноватые. Чтобы оценить это все на нашем корпусе, нужно будет обучить модель заново."
      ]
    },
    {
      "metadata": {
        "id": "M0V-1lxg50NF",
        "colab_type": "code",
        "outputId": "90e5c19e-d7d4-40bf-fb51-285d80faea9a",
        "colab": {
          "base_uri": "https://localhost:8080/",
          "height": 224
        }
      },
      "cell_type": "code",
      "source": [
        "!wget http://opencorpora.org/files/export/annot/annot.opcorpora.no_ambig_strict.xml.zip"
      ],
      "execution_count": 8,
      "outputs": [
        {
          "output_type": "stream",
          "text": [
            "--2019-04-29 08:00:08--  http://opencorpora.org/files/export/annot/annot.opcorpora.no_ambig_strict.xml.zip\n",
            "Resolving opencorpora.org (opencorpora.org)... 148.251.2.141\n",
            "Connecting to opencorpora.org (opencorpora.org)|148.251.2.141|:80... connected.\n",
            "HTTP request sent, awaiting response... 200 OK\n",
            "Length: 2183148 (2.1M) [application/zip]\n",
            "Saving to: ‘annot.opcorpora.no_ambig_strict.xml.zip’\n",
            "\n",
            "annot.opcorpora.no_ 100%[===================>]   2.08M  1.12MB/s    in 1.9s    \n",
            "\n",
            "2019-04-29 08:00:10 (1.12 MB/s) - ‘annot.opcorpora.no_ambig_strict.xml.zip’ saved [2183148/2183148]\n",
            "\n"
          ],
          "name": "stdout"
        }
      ]
    },
    {
      "metadata": {
        "id": "JHLr7nmv-F3c",
        "colab_type": "code",
        "outputId": "8ea35612-0630-47d9-b28e-fa77a532c558",
        "colab": {
          "base_uri": "https://localhost:8080/",
          "height": 51
        }
      },
      "cell_type": "code",
      "source": [
        "!unzip annot.opcorpora.no_ambig_strict.xml.zip"
      ],
      "execution_count": 9,
      "outputs": [
        {
          "output_type": "stream",
          "text": [
            "Archive:  annot.opcorpora.no_ambig_strict.xml.zip\n",
            "  inflating: annot.opcorpora.no_ambig_strict.xml  \n"
          ],
          "name": "stdout"
        }
      ]
    },
    {
      "metadata": {
        "id": "dh8OpwE5-F6h",
        "colab_type": "code",
        "colab": {}
      },
      "cell_type": "code",
      "source": [
        "from lxml import etree\n",
        "from collections import defaultdict"
      ],
      "execution_count": 0,
      "outputs": []
    },
    {
      "metadata": {
        "id": "GCuVu_w9-bC2",
        "colab_type": "code",
        "colab": {}
      },
      "cell_type": "code",
      "source": [
        "open_corpora = etree.fromstring(open('annot.opcorpora.no_ambig_strict.xml', 'rb').read())"
      ],
      "execution_count": 0,
      "outputs": []
    },
    {
      "metadata": {
        "id": "KAi-Sq0A9num",
        "colab_type": "text"
      },
      "cell_type": "markdown",
      "source": [
        "Формат файлов делаем по инструкции."
      ]
    },
    {
      "metadata": {
        "id": "PWp7bYeD-bEg",
        "colab_type": "code",
        "colab": {}
      },
      "cell_type": "code",
      "source": [
        "corpus = open('corpus_train.txt', 'w')\n",
        "vocab = defaultdict(set)\n",
        "tags = set()\n",
        "\n",
        "for sentence in open_corpora.xpath('//tokens'):\n",
        "    length = len(sentence.xpath('token'))\n",
        "    ended = False\n",
        "    for i,token in enumerate(sentence.xpath('token')):\n",
        "        word = token.xpath('@text')\n",
        "        gram_info = token.xpath('tfr/v/l/g/@v')\n",
        "        \n",
        "        if (i+1)==length and gram_info[0] == 'PNCT':\n",
        "            gram_info = ['SENT']\n",
        "            ended = True\n",
        "        \n",
        "            \n",
        "        corpus.write(word[0] + '\\t' + ','.join(gram_info) + '\\n')\n",
        "        lemma = token.xpath('tfr/v/l/@t')[0]\n",
        "        vocab[word[0].lower()].add((','.join(gram_info), lemma.lower()))\n",
        "        tags.add(','.join(gram_info))\n",
        "    \n",
        "    if not ended:\n",
        "        corpus.write('.\\tSENT\\n')\n",
        "\n",
        "        "
      ],
      "execution_count": 0,
      "outputs": []
    },
    {
      "metadata": {
        "id": "Ow7I0AkC9rsa",
        "colab_type": "text"
      },
      "cell_type": "markdown",
      "source": [
        "Словарь создаем по инструкции."
      ]
    },
    {
      "metadata": {
        "id": "2ffrmMswF7h-",
        "colab_type": "code",
        "colab": {}
      },
      "cell_type": "code",
      "source": [
        "f = open('lexicon.txt', 'w')\n",
        "\n",
        "for word in vocab:\n",
        "    f.write(word + '\\t')\n",
        "    f.write('\\t'.join([' '.join(pair) for pair in vocab[word]]))\n",
        "    f.write('\\n')\n",
        "# f.write('SENT\\tSENT .')\n",
        "f.close()"
      ],
      "execution_count": 0,
      "outputs": []
    },
    {
      "metadata": {
        "id": "IoUI-i1A9yS1",
        "colab_type": "text"
      },
      "cell_type": "markdown",
      "source": [
        "Словарь для UNK создаем по инструкции."
      ]
    },
    {
      "metadata": {
        "id": "d1MbTCEKG4gj",
        "colab_type": "code",
        "colab": {}
      },
      "cell_type": "code",
      "source": [
        "f = open('open_class.txt', 'w')\n",
        "\n",
        "f.write('\\n'.join([tag for tag in tags if 'NOUN' in tag or 'VERB' in tag or 'ADJF' in tag]))\n",
        "f.close()"
      ],
      "execution_count": 0,
      "outputs": []
    },
    {
      "metadata": {
        "id": "C-QgRvn9908G",
        "colab_type": "text"
      },
      "cell_type": "markdown",
      "source": [
        "Обучаем."
      ]
    },
    {
      "metadata": {
        "id": "W3J535DI-bMy",
        "colab_type": "code",
        "outputId": "e328220c-b732-4151-c9ce-022a2e19a032",
        "colab": {
          "base_uri": "https://localhost:8080/",
          "height": 445
        }
      },
      "cell_type": "code",
      "source": [
        "!./bin/train-tree-tagger lexicon.txt open_class.txt corpus_train.txt model_oc "
      ],
      "execution_count": 15,
      "outputs": [
        {
          "output_type": "stream",
          "text": [
            "\n",
            "train-tree-tagger -cl 2 -dtg 0.50 -sw 1.00 -ecw 0.15 -atg 1.20 lexicon.txt open_class.txt corpus_train.txt model_oc\n",
            "\n",
            "\treading the lexicon ...\n",
            "\t\treading the tagset ...\n",
            "\t\treading the lemmas ...\n",
            "\t\treading the entries ...\n",
            "\t\tsorting the lexicon ...\n",
            "\t\treading the open class tags ...\n",
            "\tcalculating tag frequencies ...\n",
            "\r1000\r2000\r3000\r4000\r5000\r6000\r7000\r8000\r9000\r10000\r11000\r12000\r13000\r14000\r15000\r16000\r17000\r18000\r19000\r20000\r21000\r22000\r23000\r24000\r25000\r26000\r27000\r28000\r29000\r30000\r31000\r32000\r33000\r34000\r35000\r36000\r37000\r38000\r39000\r40000\r41000\r42000\r43000\r44000\r45000\r46000\r47000\r48000\r49000\r50000\r51000\r52000\r53000\r54000\r55000\r56000\r57000\tmaking affix tree ...\n",
            "prefix lexicon: 806 nodes\n",
            "suffix lexicon: 1785 nodes\n",
            "\treading classes ...\n",
            "\tmaking ngram table ...\n",
            "\r1000\t943\r2000\t1734\r3000\t2523\r4000\t3306\r5000\t3866\r6000\t4601\r7000\t5239\r8000\t5814\r9000\t6489\r10000\t7175\r11000\t7829\r12000\t8478\r13000\t9105\r14000\t9724\r15000\t10272\r16000\t10824\r17000\t11405\r18000\t12020\r19000\t12494\r20000\t13096\r21000\t13696\r22000\t14269\r23000\t14796\r24000\t15349\r25000\t15890\r26000\t16442\r27000\t17015\r28000\t17555\r29000\t18081\r30000\t18611\r31000\t19100\r32000\t19611\r33000\t20116\r34000\t20507\r35000\t21012\r36000\t21538\r37000\t21986\r38000\t22365\r39000\t22743\r40000\t23151\r41000\t23534\r42000\t23912\r43000\t24346\r44000\t24584\r45000\t24822\r46000\t25183\r47000\t25541\r48000\t25944\r49000\t26329\r50000\t26709\r51000\t27116\r52000\t27488\r53000\t27866\r54000\t28194\r55000\t28444\r56000\t28768\r57000\t29150\r58000\t29529\r59000\t29873\r60000\t30161\r61000\t30465\r62000\t30842\r63000\t31285\r64000\t31674\r65000\t32051\r66000\t32450\r67000\t32778\r68000\t33043\r69000\t33352\r70000\t33686\r71000\t33844\r71084\t33863\n",
            "finished.\n",
            "\tmaking decision tree ...\n",
            "94\tsaving parameters ...\n",
            "\n",
            "Number of nodes: 95\n",
            "Max. path length: 16\n",
            "\n",
            "done.\n"
          ],
          "name": "stdout"
        }
      ]
    },
    {
      "metadata": {
        "id": "9G_X1NAd93Cy",
        "colab_type": "text"
      },
      "cell_type": "markdown",
      "source": [
        "Предиктим."
      ]
    },
    {
      "metadata": {
        "id": "ZOIlVOF7xNE0",
        "colab_type": "code",
        "colab": {}
      },
      "cell_type": "code",
      "source": [
        "test = open('test_corpus.txt', 'w')\n",
        "\n",
        "test.write('\\n'.join('Я хочу съесть яблоко .'.split()))\n",
        "\n",
        "test.close()"
      ],
      "execution_count": 0,
      "outputs": []
    },
    {
      "metadata": {
        "id": "9tsgrLND-bOu",
        "colab_type": "code",
        "outputId": "886a82ef-8952-4962-c911-8275beacc61e",
        "colab": {
          "base_uri": "https://localhost:8080/",
          "height": 68
        }
      },
      "cell_type": "code",
      "source": [
        "!./bin/tree-tagger model_oc test_corpus.txt output.txt"
      ],
      "execution_count": 17,
      "outputs": [
        {
          "output_type": "stream",
          "text": [
            "\treading parameters ...\n",
            "\ttagging ...\n",
            "\t finished.\n"
          ],
          "name": "stdout"
        }
      ]
    },
    {
      "metadata": {
        "id": "SqQK1I2jhk2v",
        "colab_type": "code",
        "outputId": "c03216a6-44fa-43c5-a672-4abbccbf1c40",
        "colab": {
          "base_uri": "https://localhost:8080/",
          "height": 102
        }
      },
      "cell_type": "code",
      "source": [
        "!head output.txt"
      ],
      "execution_count": 18,
      "outputs": [
        {
          "output_type": "stream",
          "text": [
            "NOUN,inan,masc,sing,nomn\n",
            "VERB,impf,tran,sing,1per,pres,indc\n",
            "VERB,perf,tran,masc,sing,past,indc\n",
            "NOUN,anim,masc,Name,sing,nomn\n",
            "SENT\n"
          ],
          "name": "stdout"
        }
      ]
    },
    {
      "metadata": {
        "id": "P4OyesBr97wT",
        "colab_type": "text"
      },
      "cell_type": "markdown",
      "source": [
        "Ещё можно просто обучить нейронку на этих же данных. Построим модель, которая предсказывает часть речи и одушевленность. Остальные тэги можно добавить по аналогии."
      ]
    },
    {
      "metadata": {
        "id": "i6gGX5EXhk54",
        "colab_type": "code",
        "outputId": "e382d287-d42b-46df-e917-260b423cb40a",
        "colab": {
          "base_uri": "https://localhost:8080/",
          "height": 34
        }
      },
      "cell_type": "code",
      "source": [
        "import keras\n",
        "from collections import Counter"
      ],
      "execution_count": 19,
      "outputs": [
        {
          "output_type": "stream",
          "text": [
            "Using TensorFlow backend.\n"
          ],
          "name": "stderr"
        }
      ]
    },
    {
      "metadata": {
        "id": "KXsYDfvrFEaz",
        "colab_type": "text"
      },
      "cell_type": "markdown",
      "source": [
        "Соберем корпус в список."
      ]
    },
    {
      "metadata": {
        "id": "c5iNhTg-hk87",
        "colab_type": "code",
        "colab": {}
      },
      "cell_type": "code",
      "source": [
        "corpus = []\n",
        "vocab = defaultdict(set)\n",
        "tags = set()\n",
        "\n",
        "for sentence in open_corpora.xpath('//tokens'):\n",
        "    sent = []\n",
        "    for token in sentence.xpath('token'):\n",
        "        word = token.xpath('@text')\n",
        "        gram_info = token.xpath('tfr/v/l/g/@v')\n",
        "        \n",
        "        \n",
        "            \n",
        "        sent.append(word + gram_info)\n",
        "    corpus.append(sent)\n"
      ],
      "execution_count": 0,
      "outputs": []
    },
    {
      "metadata": {
        "id": "RRhYKi5JFNv9",
        "colab_type": "text"
      },
      "cell_type": "markdown",
      "source": [
        "Создадим словарь для слов и частей речи. По одушевленности и другим тэгам проще построить словарь вручную."
      ]
    },
    {
      "metadata": {
        "id": "SloEf3JMHMq7",
        "colab_type": "code",
        "colab": {
          "base_uri": "https://localhost:8080/",
          "height": 136
        },
        "outputId": "9ca23a3d-cda8-4ba8-825f-3811c4811507"
      },
      "cell_type": "code",
      "source": [
        "corpus[0]"
      ],
      "execution_count": 28,
      "outputs": [
        {
          "output_type": "execute_result",
          "data": {
            "text/plain": [
              "[['«', 'PNCT'],\n",
              " ['Школа', 'NOUN', 'inan', 'femn', 'sing', 'nomn'],\n",
              " ['злословия', 'NOUN', 'inan', 'neut', 'sing', 'gent'],\n",
              " ['»', 'PNCT'],\n",
              " ['учит', 'VERB', 'impf', 'tran', 'sing', '3per', 'pres', 'indc'],\n",
              " ['прикусить', 'INFN', 'perf', 'tran'],\n",
              " ['язык', 'NOUN', 'inan', 'masc', 'sing', 'accs']]"
            ]
          },
          "metadata": {
            "tags": []
          },
          "execution_count": 28
        }
      ]
    },
    {
      "metadata": {
        "id": "iMa9OGsVlQ3s",
        "colab_type": "code",
        "colab": {}
      },
      "cell_type": "code",
      "source": [
        "vocab = Counter()\n",
        "poses = Counter()\n",
        "\n",
        "\n",
        "for sent in corpus:\n",
        "  for word, pos, *tags in sent:\n",
        "    vocab[word.lower()] += 1\n",
        "    poses[pos] += 1\n",
        "    "
      ],
      "execution_count": 0,
      "outputs": []
    },
    {
      "metadata": {
        "id": "EQNISgpXFQW_",
        "colab_type": "text"
      },
      "cell_type": "markdown",
      "source": [
        "Возьмем только слова, встретившиеся 3+ раз."
      ]
    },
    {
      "metadata": {
        "id": "Fqpx4Df3wddO",
        "colab_type": "code",
        "colab": {}
      },
      "cell_type": "code",
      "source": [
        "vocab = {word for word,c in vocab.most_common() if c > 3}"
      ],
      "execution_count": 0,
      "outputs": []
    },
    {
      "metadata": {
        "id": "pAV7d5u0l914",
        "colab_type": "code",
        "outputId": "28b68f12-f003-49ac-8b41-718c557c0071",
        "colab": {
          "base_uri": "https://localhost:8080/",
          "height": 34
        }
      },
      "cell_type": "code",
      "source": [
        "len(vocab)"
      ],
      "execution_count": 32,
      "outputs": [
        {
          "output_type": "execute_result",
          "data": {
            "text/plain": [
              "2144"
            ]
          },
          "metadata": {
            "tags": []
          },
          "execution_count": 32
        }
      ]
    },
    {
      "metadata": {
        "id": "ZWsJKnP1l946",
        "colab_type": "code",
        "outputId": "48b28420-41ee-4394-8485-c1bc05bd3ddc",
        "colab": {
          "base_uri": "https://localhost:8080/",
          "height": 34
        }
      },
      "cell_type": "code",
      "source": [
        "len(poses)"
      ],
      "execution_count": 34,
      "outputs": [
        {
          "output_type": "execute_result",
          "data": {
            "text/plain": [
              "22"
            ]
          },
          "metadata": {
            "tags": []
          },
          "execution_count": 34
        }
      ]
    },
    {
      "metadata": {
        "id": "dKBqaMfVFU6g",
        "colab_type": "text"
      },
      "cell_type": "markdown",
      "source": [
        "Сдалем словари - слово в индекс, тэг в индекс и наоборот."
      ]
    },
    {
      "metadata": {
        "id": "6oThfWNQGOXh",
        "colab_type": "text"
      },
      "cell_type": "markdown",
      "source": [
        "UNK нужен для словарных слов."
      ]
    },
    {
      "metadata": {
        "id": "oY9qXo91lQ5n",
        "colab_type": "code",
        "colab": {}
      },
      "cell_type": "code",
      "source": [
        "id2word = {i+2:word for i, word in enumerate(vocab)}\n",
        "id2word[0] = '<PAD>'\n",
        "id2word[1] = '<UNK>'\n",
        "word2id = {word:i for i, word in id2word.items()}"
      ],
      "execution_count": 0,
      "outputs": []
    },
    {
      "metadata": {
        "id": "OgQiZm4ClQ9w",
        "colab_type": "code",
        "colab": {}
      },
      "cell_type": "code",
      "source": [
        "id2pos = {i+1:pos for i, pos in enumerate(poses)}\n",
        "id2pos[0] = '<PAD>'\n",
        "pos2id = {pos:i for i, pos in id2pos.items()}"
      ],
      "execution_count": 0,
      "outputs": []
    },
    {
      "metadata": {
        "id": "sPPJySJFH84A",
        "colab_type": "code",
        "colab": {}
      },
      "cell_type": "code",
      "source": [
        "id2anim = {1:'NONE', 2:'anim', 3:'inan'}\n",
        "id2anim[0] = '<PAD>'\n",
        "anim2id = {tag:i for i, tag in id2anim.items()}"
      ],
      "execution_count": 0,
      "outputs": []
    },
    {
      "metadata": {
        "id": "DQV1HXWzme7-",
        "colab_type": "text"
      },
      "cell_type": "markdown",
      "source": [
        "Создадим три списка - предложения, части речи и одушевленности. Вместо слов и тэгов в этих списках - индексы из построенных словарей."
      ]
    },
    {
      "metadata": {
        "id": "4gxt7oCPmdUV",
        "colab_type": "code",
        "colab": {}
      },
      "cell_type": "code",
      "source": [
        "sents_ids = []\n",
        "poses_ids = []\n",
        "anim_ids = []\n",
        "\n",
        "for sent in corpus:\n",
        "    sents_ids.append([word2id.get(word.lower(), 1) for word, *_ in sent])\n",
        "    poses_ids.append([tag2id[tag] for word, tag, *_ in sent])\n",
        "    anim_ids_sent = []\n",
        "    \n",
        "    for word, pos, *tags in sent:\n",
        "      anim_tag = 1\n",
        "      for tag in tags:\n",
        "        if tag in anim2id:\n",
        "          anim_tag = anim2id[tag]\n",
        "      anim_ids_sent.append(anim_tag)\n",
        "    anim_ids.append(anim_ids_sent)\n",
        "    "
      ],
      "execution_count": 0,
      "outputs": []
    },
    {
      "metadata": {
        "id": "MH08lR5ipBBN",
        "colab_type": "code",
        "outputId": "30906557-d24d-4228-febc-d1b6fb72ac22",
        "colab": {
          "base_uri": "https://localhost:8080/",
          "height": 34
        }
      },
      "cell_type": "code",
      "source": [
        "import numpy as np\n",
        "np.mean([len(sent) for sent in sents_ids])"
      ],
      "execution_count": 49,
      "outputs": [
        {
          "output_type": "execute_result",
          "data": {
            "text/plain": [
              "6.534678794769755"
            ]
          },
          "metadata": {
            "tags": []
          },
          "execution_count": 49
        }
      ]
    },
    {
      "metadata": {
        "id": "CbWAdBkZmOWc",
        "colab_type": "text"
      },
      "cell_type": "markdown",
      "source": [
        "Приведем все предложения к одной длине. 10 больше средней длины, но и не очень большая, чтобы сильно усложнить модель."
      ]
    },
    {
      "metadata": {
        "id": "oUvScVMzqIc9",
        "colab_type": "code",
        "colab": {}
      },
      "cell_type": "code",
      "source": [
        "MAX_LENGTH = 10"
      ],
      "execution_count": 0,
      "outputs": []
    },
    {
      "metadata": {
        "id": "j9VeIBkBMNve",
        "colab_type": "code",
        "colab": {}
      },
      "cell_type": "code",
      "source": [
        "from keras.preprocessing.sequence import pad_sequences\n",
        " \n",
        "sents_ids_padded = pad_sequences(sents_ids, maxlen=MAX_LENGTH, padding='post',  truncating='post')\n",
        "poses_ids_padded = pad_sequences(poses_ids, maxlen=MAX_LENGTH, padding='post',  truncating='post')\n",
        "anim_ids_padded = pad_sequences(anim_ids, maxlen=MAX_LENGTH, padding='post',  truncating='post')"
      ],
      "execution_count": 0,
      "outputs": []
    },
    {
      "metadata": {
        "id": "gGtReOwHGa1n",
        "colab_type": "text"
      },
      "cell_type": "markdown",
      "source": [
        "Разбиваем выборку на трейн и тест."
      ]
    },
    {
      "metadata": {
        "id": "8aiF0PWTL_LR",
        "colab_type": "code",
        "colab": {}
      },
      "cell_type": "code",
      "source": [
        "from sklearn.model_selection import train_test_split\n",
        "train_index, test_index = train_test_split(list(range(sents_ids_padded.shape[0])),test_size=0.2)"
      ],
      "execution_count": 0,
      "outputs": []
    },
    {
      "metadata": {
        "id": "7u1BMK5rNWAr",
        "colab_type": "code",
        "colab": {}
      },
      "cell_type": "code",
      "source": [
        "train_sents, test_sents = sents_ids_padded[train_index], sents_ids_padded[test_index]\n",
        "train_pos, test_pos = poses_ids_padded[train_index], poses_ids_padded[test_index]\n",
        "train_anim, test_anim = anim_ids_padded[train_index], anim_ids_padded[test_index]\n"
      ],
      "execution_count": 0,
      "outputs": []
    },
    {
      "metadata": {
        "id": "eQU4RooaGy35",
        "colab_type": "text"
      },
      "cell_type": "markdown",
      "source": [
        "Создаем модель (у модели два выхода - 1. для части речи 2. для одушевленности)"
      ]
    },
    {
      "metadata": {
        "id": "YHaLrN_onVwm",
        "colab_type": "code",
        "colab": {}
      },
      "cell_type": "code",
      "source": [
        "from keras.models import Model\n",
        "from keras.layers import Dense, LSTM, Input, Bidirectional, TimeDistributed, Embedding, Activation\n",
        "from keras.optimizers import Adam\n",
        " \n",
        "\n",
        "inp = Input(shape=(MAX_LENGTH, ))\n",
        "# создаем эбмеддинги размерностью 8\n",
        "x = Embedding(len(word2id), 8)(inp)\n",
        "\n",
        "# пропускаем эмбединги через LSTM, чтобы модель учитывала контекст\n",
        "x = LSTM(20, return_sequences=True)(x)\n",
        "\n",
        "# каждый выход - последовательность классов\n",
        "pos = TimeDistributed(Dense(len(pos2id), activation='softmax'))(x)\n",
        "anim = TimeDistributed(Dense(len(anim2id), activation='softmax'))(x)\n",
        "\n",
        " \n",
        "model= Model(inputs=inp, outputs=[pos, anim], \n",
        "           )\n",
        " \n",
        "model.compile(loss='categorical_crossentropy',\n",
        "              optimizer='adam',\n",
        "              metrics=['accuracy'])\n"
      ],
      "execution_count": 0,
      "outputs": []
    },
    {
      "metadata": {
        "id": "gXgTymivtVqQ",
        "colab_type": "code",
        "colab": {}
      },
      "cell_type": "code",
      "source": [
        "from keras.utils import to_categorical"
      ],
      "execution_count": 0,
      "outputs": []
    },
    {
      "metadata": {
        "id": "Qd-71dFEG6uD",
        "colab_type": "text"
      },
      "cell_type": "markdown",
      "source": [
        "Обучаем."
      ]
    },
    {
      "metadata": {
        "id": "CM2pnjrbtMJc",
        "colab_type": "code",
        "outputId": "7054aed2-9a0e-46b1-eefa-d9c9990478e3",
        "colab": {
          "base_uri": "https://localhost:8080/",
          "height": 1142
        }
      },
      "cell_type": "code",
      "source": [
        "model.fit(x=train_sents, \n",
        "        y=[to_categorical(train_pos), to_categorical(train_anim)], \n",
        "          batch_size=128, epochs=30, validation_split=0.2)\n",
        " "
      ],
      "execution_count": 67,
      "outputs": [
        {
          "output_type": "stream",
          "text": [
            "WARNING:tensorflow:From /usr/local/lib/python3.6/dist-packages/tensorflow/python/ops/math_ops.py:3066: to_int32 (from tensorflow.python.ops.math_ops) is deprecated and will be removed in a future version.\n",
            "Instructions for updating:\n",
            "Use tf.cast instead.\n",
            "Train on 6754 samples, validate on 1689 samples\n",
            "Epoch 1/30\n",
            "6754/6754 [==============================] - 7s 1ms/step - loss: 4.2063 - time_distributed_3_loss: 2.9366 - time_distributed_4_loss: 1.2697 - time_distributed_3_acc: 0.4166 - time_distributed_4_acc: 0.7320 - val_loss: 3.4317 - val_time_distributed_3_loss: 2.3983 - val_time_distributed_4_loss: 1.0334 - val_time_distributed_3_acc: 0.4409 - val_time_distributed_4_acc: 0.6710\n",
            "Epoch 2/30\n",
            "6754/6754 [==============================] - 3s 453us/step - loss: 2.7577 - time_distributed_3_loss: 1.8563 - time_distributed_4_loss: 0.9014 - time_distributed_3_acc: 0.4423 - time_distributed_4_acc: 0.6681 - val_loss: 2.4113 - val_time_distributed_3_loss: 1.6215 - val_time_distributed_4_loss: 0.7898 - val_time_distributed_3_acc: 0.4811 - val_time_distributed_4_acc: 0.7019\n",
            "Epoch 3/30\n",
            "6754/6754 [==============================] - 3s 452us/step - loss: 2.1607 - time_distributed_3_loss: 1.5029 - time_distributed_4_loss: 0.6577 - time_distributed_3_acc: 0.5276 - time_distributed_4_acc: 0.7605 - val_loss: 1.9228 - val_time_distributed_3_loss: 1.3603 - val_time_distributed_4_loss: 0.5625 - val_time_distributed_3_acc: 0.5764 - val_time_distributed_4_acc: 0.7953\n",
            "Epoch 4/30\n",
            "6754/6754 [==============================] - 3s 459us/step - loss: 1.8360 - time_distributed_3_loss: 1.3114 - time_distributed_4_loss: 0.5246 - time_distributed_3_acc: 0.5965 - time_distributed_4_acc: 0.8141 - val_loss: 1.7361 - val_time_distributed_3_loss: 1.2424 - val_time_distributed_4_loss: 0.4937 - val_time_distributed_3_acc: 0.6250 - val_time_distributed_4_acc: 0.8213\n",
            "Epoch 5/30\n",
            "6754/6754 [==============================] - 3s 455us/step - loss: 1.7081 - time_distributed_3_loss: 1.2292 - time_distributed_4_loss: 0.4789 - time_distributed_3_acc: 0.6344 - time_distributed_4_acc: 0.8257 - val_loss: 1.6504 - val_time_distributed_3_loss: 1.1859 - val_time_distributed_4_loss: 0.4645 - val_time_distributed_3_acc: 0.6533 - val_time_distributed_4_acc: 0.8229\n",
            "Epoch 6/30\n",
            "6754/6754 [==============================] - 3s 456us/step - loss: 1.6366 - time_distributed_3_loss: 1.1805 - time_distributed_4_loss: 0.4560 - time_distributed_3_acc: 0.6551 - time_distributed_4_acc: 0.8265 - val_loss: 1.5909 - val_time_distributed_3_loss: 1.1446 - val_time_distributed_4_loss: 0.4463 - val_time_distributed_3_acc: 0.6604 - val_time_distributed_4_acc: 0.8233\n",
            "Epoch 7/30\n",
            "6754/6754 [==============================] - 3s 456us/step - loss: 1.5779 - time_distributed_3_loss: 1.1398 - time_distributed_4_loss: 0.4381 - time_distributed_3_acc: 0.6619 - time_distributed_4_acc: 0.8266 - val_loss: 1.5367 - val_time_distributed_3_loss: 1.1075 - val_time_distributed_4_loss: 0.4292 - val_time_distributed_3_acc: 0.6689 - val_time_distributed_4_acc: 0.8251\n",
            "Epoch 8/30\n",
            "6754/6754 [==============================] - 3s 456us/step - loss: 1.5111 - time_distributed_3_loss: 1.0932 - time_distributed_4_loss: 0.4179 - time_distributed_3_acc: 0.6791 - time_distributed_4_acc: 0.8268 - val_loss: 1.4563 - val_time_distributed_3_loss: 1.0512 - val_time_distributed_4_loss: 0.4051 - val_time_distributed_3_acc: 0.7088 - val_time_distributed_4_acc: 0.8238\n",
            "Epoch 9/30\n",
            "6754/6754 [==============================] - 3s 455us/step - loss: 1.4167 - time_distributed_3_loss: 1.0269 - time_distributed_4_loss: 0.3898 - time_distributed_3_acc: 0.7202 - time_distributed_4_acc: 0.8306 - val_loss: 1.3476 - val_time_distributed_3_loss: 0.9758 - val_time_distributed_4_loss: 0.3719 - val_time_distributed_3_acc: 0.7311 - val_time_distributed_4_acc: 0.8332\n",
            "Epoch 10/30\n",
            "6754/6754 [==============================] - 3s 449us/step - loss: 1.2981 - time_distributed_3_loss: 0.9432 - time_distributed_4_loss: 0.3549 - time_distributed_3_acc: 0.7335 - time_distributed_4_acc: 0.8407 - val_loss: 1.2318 - val_time_distributed_3_loss: 0.8939 - val_time_distributed_4_loss: 0.3379 - val_time_distributed_3_acc: 0.7401 - val_time_distributed_4_acc: 0.8480\n",
            "Epoch 11/30\n",
            "6754/6754 [==============================] - 3s 456us/step - loss: 1.1840 - time_distributed_3_loss: 0.8625 - time_distributed_4_loss: 0.3216 - time_distributed_3_acc: 0.7590 - time_distributed_4_acc: 0.8553 - val_loss: 1.1278 - val_time_distributed_3_loss: 0.8197 - val_time_distributed_4_loss: 0.3081 - val_time_distributed_3_acc: 0.7782 - val_time_distributed_4_acc: 0.8612\n",
            "Epoch 12/30\n",
            "6754/6754 [==============================] - 3s 449us/step - loss: 1.0845 - time_distributed_3_loss: 0.7912 - time_distributed_4_loss: 0.2933 - time_distributed_3_acc: 0.7857 - time_distributed_4_acc: 0.8701 - val_loss: 1.0356 - val_time_distributed_3_loss: 0.7540 - val_time_distributed_4_loss: 0.2817 - val_time_distributed_3_acc: 0.7967 - val_time_distributed_4_acc: 0.8796\n",
            "Epoch 13/30\n",
            "6754/6754 [==============================] - 3s 451us/step - loss: 0.9981 - time_distributed_3_loss: 0.7286 - time_distributed_4_loss: 0.2694 - time_distributed_3_acc: 0.7966 - time_distributed_4_acc: 0.8867 - val_loss: 0.9579 - val_time_distributed_3_loss: 0.6973 - val_time_distributed_4_loss: 0.2607 - val_time_distributed_3_acc: 0.8044 - val_time_distributed_4_acc: 0.8931\n",
            "Epoch 14/30\n",
            "6754/6754 [==============================] - 3s 457us/step - loss: 0.9261 - time_distributed_3_loss: 0.6749 - time_distributed_4_loss: 0.2512 - time_distributed_3_acc: 0.8063 - time_distributed_4_acc: 0.8960 - val_loss: 0.8922 - val_time_distributed_3_loss: 0.6474 - val_time_distributed_4_loss: 0.2449 - val_time_distributed_3_acc: 0.8146 - val_time_distributed_4_acc: 0.8993\n",
            "Epoch 15/30\n",
            "6754/6754 [==============================] - 3s 454us/step - loss: 0.8650 - time_distributed_3_loss: 0.6274 - time_distributed_4_loss: 0.2376 - time_distributed_3_acc: 0.8199 - time_distributed_4_acc: 0.9016 - val_loss: 0.8373 - val_time_distributed_3_loss: 0.6036 - val_time_distributed_4_loss: 0.2336 - val_time_distributed_3_acc: 0.8278 - val_time_distributed_4_acc: 0.9026\n",
            "Epoch 16/30\n",
            "6754/6754 [==============================] - 3s 450us/step - loss: 0.8135 - time_distributed_3_loss: 0.5856 - time_distributed_4_loss: 0.2279 - time_distributed_3_acc: 0.8343 - time_distributed_4_acc: 0.9040 - val_loss: 0.7917 - val_time_distributed_3_loss: 0.5659 - val_time_distributed_4_loss: 0.2258 - val_time_distributed_3_acc: 0.8432 - val_time_distributed_4_acc: 0.9030\n",
            "Epoch 17/30\n",
            "6754/6754 [==============================] - 3s 451us/step - loss: 0.7704 - time_distributed_3_loss: 0.5498 - time_distributed_4_loss: 0.2206 - time_distributed_3_acc: 0.8483 - time_distributed_4_acc: 0.9056 - val_loss: 0.7550 - val_time_distributed_3_loss: 0.5347 - val_time_distributed_4_loss: 0.2202 - val_time_distributed_3_acc: 0.8539 - val_time_distributed_4_acc: 0.9036\n",
            "Epoch 18/30\n",
            "6754/6754 [==============================] - 3s 441us/step - loss: 0.7354 - time_distributed_3_loss: 0.5199 - time_distributed_4_loss: 0.2155 - time_distributed_3_acc: 0.8581 - time_distributed_4_acc: 0.9065 - val_loss: 0.7240 - val_time_distributed_3_loss: 0.5084 - val_time_distributed_4_loss: 0.2156 - val_time_distributed_3_acc: 0.8622 - val_time_distributed_4_acc: 0.9065\n",
            "Epoch 19/30\n",
            "6754/6754 [==============================] - 3s 446us/step - loss: 0.7053 - time_distributed_3_loss: 0.4945 - time_distributed_4_loss: 0.2108 - time_distributed_3_acc: 0.8660 - time_distributed_4_acc: 0.9074 - val_loss: 0.6980 - val_time_distributed_3_loss: 0.4862 - val_time_distributed_4_loss: 0.2117 - val_time_distributed_3_acc: 0.8687 - val_time_distributed_4_acc: 0.9056\n",
            "Epoch 20/30\n",
            "6754/6754 [==============================] - 3s 447us/step - loss: 0.6790 - time_distributed_3_loss: 0.4727 - time_distributed_4_loss: 0.2064 - time_distributed_3_acc: 0.8714 - time_distributed_4_acc: 0.9086 - val_loss: 0.6758 - val_time_distributed_3_loss: 0.4676 - val_time_distributed_4_loss: 0.2082 - val_time_distributed_3_acc: 0.8747 - val_time_distributed_4_acc: 0.9090\n",
            "Epoch 21/30\n",
            "6754/6754 [==============================] - 3s 450us/step - loss: 0.6559 - time_distributed_3_loss: 0.4534 - time_distributed_4_loss: 0.2025 - time_distributed_3_acc: 0.8773 - time_distributed_4_acc: 0.9100 - val_loss: 0.6551 - val_time_distributed_3_loss: 0.4508 - val_time_distributed_4_loss: 0.2043 - val_time_distributed_3_acc: 0.8772 - val_time_distributed_4_acc: 0.9085\n",
            "Epoch 22/30\n",
            "6754/6754 [==============================] - 3s 453us/step - loss: 0.6348 - time_distributed_3_loss: 0.4363 - time_distributed_4_loss: 0.1985 - time_distributed_3_acc: 0.8812 - time_distributed_4_acc: 0.9127 - val_loss: 0.6372 - val_time_distributed_3_loss: 0.4360 - val_time_distributed_4_loss: 0.2011 - val_time_distributed_3_acc: 0.8801 - val_time_distributed_4_acc: 0.9119\n",
            "Epoch 23/30\n",
            "6754/6754 [==============================] - 3s 450us/step - loss: 0.6160 - time_distributed_3_loss: 0.4211 - time_distributed_4_loss: 0.1949 - time_distributed_3_acc: 0.8846 - time_distributed_4_acc: 0.9151 - val_loss: 0.6216 - val_time_distributed_3_loss: 0.4229 - val_time_distributed_4_loss: 0.1987 - val_time_distributed_3_acc: 0.8826 - val_time_distributed_4_acc: 0.9121\n",
            "Epoch 24/30\n",
            "6754/6754 [==============================] - 3s 450us/step - loss: 0.5990 - time_distributed_3_loss: 0.4074 - time_distributed_4_loss: 0.1916 - time_distributed_3_acc: 0.8875 - time_distributed_4_acc: 0.9170 - val_loss: 0.6060 - val_time_distributed_3_loss: 0.4106 - val_time_distributed_4_loss: 0.1954 - val_time_distributed_3_acc: 0.8862 - val_time_distributed_4_acc: 0.9154\n",
            "Epoch 25/30\n",
            "6754/6754 [==============================] - 3s 451us/step - loss: 0.5830 - time_distributed_3_loss: 0.3947 - time_distributed_4_loss: 0.1882 - time_distributed_3_acc: 0.8903 - time_distributed_4_acc: 0.9197 - val_loss: 0.5930 - val_time_distributed_3_loss: 0.4001 - val_time_distributed_4_loss: 0.1929 - val_time_distributed_3_acc: 0.8874 - val_time_distributed_4_acc: 0.9160\n",
            "Epoch 26/30\n",
            "6754/6754 [==============================] - 3s 450us/step - loss: 0.5690 - time_distributed_3_loss: 0.3834 - time_distributed_4_loss: 0.1856 - time_distributed_3_acc: 0.8928 - time_distributed_4_acc: 0.9218 - val_loss: 0.5809 - val_time_distributed_3_loss: 0.3902 - val_time_distributed_4_loss: 0.1907 - val_time_distributed_3_acc: 0.8892 - val_time_distributed_4_acc: 0.9181\n",
            "Epoch 27/30\n",
            "6754/6754 [==============================] - 3s 452us/step - loss: 0.5558 - time_distributed_3_loss: 0.3732 - time_distributed_4_loss: 0.1826 - time_distributed_3_acc: 0.8944 - time_distributed_4_acc: 0.9235 - val_loss: 0.5692 - val_time_distributed_3_loss: 0.3807 - val_time_distributed_4_loss: 0.1885 - val_time_distributed_3_acc: 0.8923 - val_time_distributed_4_acc: 0.9191\n",
            "Epoch 28/30\n",
            "6754/6754 [==============================] - 3s 448us/step - loss: 0.5436 - time_distributed_3_loss: 0.3636 - time_distributed_4_loss: 0.1800 - time_distributed_3_acc: 0.8961 - time_distributed_4_acc: 0.9252 - val_loss: 0.5593 - val_time_distributed_3_loss: 0.3728 - val_time_distributed_4_loss: 0.1866 - val_time_distributed_3_acc: 0.8923 - val_time_distributed_4_acc: 0.9202\n",
            "Epoch 29/30\n",
            "6754/6754 [==============================] - 3s 452us/step - loss: 0.5325 - time_distributed_3_loss: 0.3550 - time_distributed_4_loss: 0.1774 - time_distributed_3_acc: 0.8979 - time_distributed_4_acc: 0.9264 - val_loss: 0.5498 - val_time_distributed_3_loss: 0.3658 - val_time_distributed_4_loss: 0.1840 - val_time_distributed_3_acc: 0.8947 - val_time_distributed_4_acc: 0.9220\n",
            "Epoch 30/30\n",
            "6754/6754 [==============================] - 3s 451us/step - loss: 0.5217 - time_distributed_3_loss: 0.3465 - time_distributed_4_loss: 0.1752 - time_distributed_3_acc: 0.8991 - time_distributed_4_acc: 0.9273 - val_loss: 0.5437 - val_time_distributed_3_loss: 0.3602 - val_time_distributed_4_loss: 0.1835 - val_time_distributed_3_acc: 0.8950 - val_time_distributed_4_acc: 0.9210\n"
          ],
          "name": "stdout"
        },
        {
          "output_type": "execute_result",
          "data": {
            "text/plain": [
              "<keras.callbacks.History at 0x7fc027024898>"
            ]
          },
          "metadata": {
            "tags": []
          },
          "execution_count": 67
        }
      ]
    },
    {
      "metadata": {
        "id": "fv-WKLdalVmW",
        "colab_type": "text"
      },
      "cell_type": "markdown",
      "source": [
        "Протестируем и посмотрим на метрики."
      ]
    },
    {
      "metadata": {
        "id": "r7erY3-Iqttr",
        "colab_type": "code",
        "outputId": "f6445358-593d-4e07-a569-2049c865b33e",
        "colab": {
          "base_uri": "https://localhost:8080/",
          "height": 34
        }
      },
      "cell_type": "code",
      "source": [
        "scores = model.evaluate(x=test_sents, y=[to_categorical(test_pos),\n",
        "                                         to_categorical(test_anim)], )"
      ],
      "execution_count": 68,
      "outputs": [
        {
          "output_type": "stream",
          "text": [
            "2111/2111 [==============================] - 1s 588us/step\n"
          ],
          "name": "stdout"
        }
      ]
    },
    {
      "metadata": {
        "id": "traYEbL4sUgO",
        "colab_type": "code",
        "outputId": "6b9e6fe7-a39e-4cb8-9ab1-60994fa3d914",
        "colab": {
          "base_uri": "https://localhost:8080/",
          "height": 102
        }
      },
      "cell_type": "code",
      "source": [
        "scores"
      ],
      "execution_count": 70,
      "outputs": [
        {
          "output_type": "execute_result",
          "data": {
            "text/plain": [
              "[0.5706330581843034,\n",
              " 0.3736714443455709,\n",
              " 0.19696161021050093,\n",
              " 0.8916153452058699,\n",
              " 0.9164377099413942]"
            ]
          },
          "metadata": {
            "tags": []
          },
          "execution_count": 70
        }
      ]
    },
    {
      "metadata": {
        "id": "mNlrNWV2UdaV",
        "colab_type": "code",
        "colab": {
          "base_uri": "https://localhost:8080/",
          "height": 102
        },
        "outputId": "c91c9a63-c970-48e4-9609-2ccc606684a6"
      },
      "cell_type": "code",
      "source": [
        "model.metrics_names"
      ],
      "execution_count": 71,
      "outputs": [
        {
          "output_type": "execute_result",
          "data": {
            "text/plain": [
              "['loss',\n",
              " 'time_distributed_3_loss',\n",
              " 'time_distributed_4_loss',\n",
              " 'time_distributed_3_acc',\n",
              " 'time_distributed_4_acc']"
            ]
          },
          "metadata": {
            "tags": []
          },
          "execution_count": 71
        }
      ]
    },
    {
      "metadata": {
        "id": "83Aae57OG9jW",
        "colab_type": "text"
      },
      "cell_type": "markdown",
      "source": [
        "Тестируем на нашем предложении."
      ]
    },
    {
      "metadata": {
        "id": "XwLzu3ZCsNiA",
        "colab_type": "code",
        "colab": {}
      },
      "cell_type": "code",
      "source": [
        "\n",
        "test_samples = [\n",
        "    \"эти типы стали есть на складе .\".split(),\n",
        "]"
      ],
      "execution_count": 0,
      "outputs": []
    },
    {
      "metadata": {
        "id": "DpYyrQqZk4Gf",
        "colab_type": "text"
      },
      "cell_type": "markdown",
      "source": [
        "Предобработаем предложения таким же способов как и обучающую выборку."
      ]
    },
    {
      "metadata": {
        "id": "ygWXMpfOnVzg",
        "colab_type": "code",
        "outputId": "2ab79e9d-573a-4b2b-cf55-15ff3bc51dfe",
        "colab": {
          "base_uri": "https://localhost:8080/",
          "height": 51
        }
      },
      "cell_type": "code",
      "source": [
        "test_samples_X = []\n",
        "for sent in test_samples:\n",
        "    sent_ids = []\n",
        "    for word in sent:\n",
        "        if word not in word2id:\n",
        "            print(word)\n",
        "        sent_ids.append(word2id.get(word.lower(), 1))\n",
        "    test_samples_X.append(sent_ids)\n",
        "        "
      ],
      "execution_count": 73,
      "outputs": [
        {
          "output_type": "stream",
          "text": [
            "есть\n",
            "складе\n"
          ],
          "name": "stdout"
        }
      ]
    },
    {
      "metadata": {
        "id": "s9lJvCOQqFWA",
        "colab_type": "code",
        "outputId": "7294a534-cbaa-41f0-d90b-1e6634b1bf67",
        "colab": {
          "base_uri": "https://localhost:8080/",
          "height": 34
        }
      },
      "cell_type": "code",
      "source": [
        "test_samples_X"
      ],
      "execution_count": 0,
      "outputs": [
        {
          "output_type": "execute_result",
          "data": {
            "text/plain": [
              "[[1695, 1766, 1022, 1, 2100, 1, 167]]"
            ]
          },
          "metadata": {
            "tags": []
          },
          "execution_count": 71
        }
      ]
    },
    {
      "metadata": {
        "id": "VBBdjilPnV1d",
        "colab_type": "code",
        "outputId": "ca0533ed-51a0-40de-b829-36cf5585b215",
        "colab": {
          "base_uri": "https://localhost:8080/",
          "height": 34
        }
      },
      "cell_type": "code",
      "source": [
        "test_samples_X = pad_sequences(test_samples_X, maxlen=MAX_LENGTH, padding='post')\n",
        "print(test_samples_X)"
      ],
      "execution_count": 74,
      "outputs": [
        {
          "output_type": "stream",
          "text": [
            "[[1458 1809 2052    1 1743    1 1406    0    0    0]]\n"
          ],
          "name": "stdout"
        }
      ]
    },
    {
      "metadata": {
        "id": "PQPc6xdXnV4b",
        "colab_type": "code",
        "colab": {}
      },
      "cell_type": "code",
      "source": [
        "predictions = model.predict(test_samples_X)"
      ],
      "execution_count": 0,
      "outputs": []
    },
    {
      "metadata": {
        "id": "t64ePuFslGge",
        "colab_type": "text"
      },
      "cell_type": "markdown",
      "source": [
        "Модель выдает по предикшену для каждого аутпута"
      ]
    },
    {
      "metadata": {
        "id": "rgujSXjrqLCz",
        "colab_type": "code",
        "outputId": "8f632844-5677-4084-a91e-a14ebcb18abd",
        "colab": {
          "base_uri": "https://localhost:8080/",
          "height": 34
        }
      },
      "cell_type": "code",
      "source": [
        "\n",
        "len(predictions)"
      ],
      "execution_count": 82,
      "outputs": [
        {
          "output_type": "execute_result",
          "data": {
            "text/plain": [
              "2"
            ]
          },
          "metadata": {
            "tags": []
          },
          "execution_count": 82
        }
      ]
    },
    {
      "metadata": {
        "id": "aiubwR8xnV7h",
        "colab_type": "code",
        "outputId": "41290379-9b9d-4e15-a675-9d7551215eac",
        "colab": {
          "base_uri": "https://localhost:8080/",
          "height": 136
        }
      },
      "cell_type": "code",
      "source": [
        "\n",
        "for i, idx in enumerate(predictions[0].argmax(axis=2)[0]):\n",
        "  if i > (len(test_samples[0])-1):\n",
        "    break\n",
        "  print(test_samples[0][i], id2pos[idx])"
      ],
      "execution_count": 80,
      "outputs": [
        {
          "output_type": "stream",
          "text": [
            "эти ADJF\n",
            "типы NOUN\n",
            "стали VERB\n",
            "есть NOUN\n",
            "на PREP\n",
            "складе NOUN\n",
            ". PNCT\n"
          ],
          "name": "stdout"
        }
      ]
    },
    {
      "metadata": {
        "id": "vWkwNnyzVcew",
        "colab_type": "code",
        "colab": {
          "base_uri": "https://localhost:8080/",
          "height": 136
        },
        "outputId": "0b776964-2757-42c2-8639-5918585b295e"
      },
      "cell_type": "code",
      "source": [
        "\n",
        "for i, idx in enumerate(predictions[1].argmax(axis=2)[0]):\n",
        "  if i > (len(test_samples[0])-1):\n",
        "    break\n",
        "  print(test_samples[0][i], id2anim[idx])"
      ],
      "execution_count": 81,
      "outputs": [
        {
          "output_type": "stream",
          "text": [
            "эти NONE\n",
            "типы inan\n",
            "стали NONE\n",
            "есть NONE\n",
            "на NONE\n",
            "складе inan\n",
            ". NONE\n"
          ],
          "name": "stdout"
        }
      ]
    }
  ]
}