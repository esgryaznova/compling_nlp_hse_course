{
 "cells": [
  {
   "cell_type": "markdown",
   "metadata": {},
   "source": [
    "## Кластеризация"
   ]
  },
  {
   "cell_type": "markdown",
   "metadata": {},
   "source": [
    "Кластеризация - задача разбиения объектов на группы (кластеры). Кластеризация в отличие от регрессии и классификации не использует правильные ответы при обучении, поэтому это задача обучения без учителя. \n",
    "\n",
    "Основное предположение в кластеризации - объекты, близкие в признаковом пространстве, близки на самом деле. Все алгоритмы кластеризации так или иначе вычисляют близость между объектами (это может быть, например, косинусное расстояние) и стараются организовать кластеры так, чтобы между объектами одного кластера было небольшое расстояние."
   ]
  },
  {
   "cell_type": "markdown",
   "metadata": {},
   "source": [
    "Так как считать близости между всеми объектами может быть долго, данные могут распологаться в пространстве странным образом (без четких границ, например) или иметь выбросы, в конкретных алгоритмах кластеризации используются дополнительные предположения и разные трюки. Часто к ним привязывается гиперпараметр(ы), который нужно настраивать самому. Сделать это обычно непросто из-за того, что у нас нет конкретного критерия качества, а сами параметры могут быть непонятными. \n",
    "\n",
    "Есть метрики, которые оценивают качество кластеризации по каким-то внутренним критериям. Также есть способы оценивать качество кластеризации с использованием правильных ответов*. Однако они не всегда коррелируют с тем, что мы хотим получить и приходится оценивать просто на глаз.\n",
    "\n",
    "\\* У вас может возникнуть вопрос - а зачем использовать кластеризацию, когда есть правильные ответы? Это может быть нужно, когда размеченных данных мало относительно общего количества имеющихся данных. В классификации и регрессии мы смогли бы использовать только размеченную часть, а кластеризацию мы можем обучить на всех данных, проверив качество на размеченном куске."
   ]
  },
  {
   "cell_type": "markdown",
   "metadata": {},
   "source": [
    "Давайте попробуем кластеризовать заголовки объявлений на Авито, чтобы нагляднее увидеть сложности кластеризации."
   ]
  },
  {
   "cell_type": "code",
   "execution_count": 2,
   "metadata": {},
   "outputs": [],
   "source": [
    "import pandas as pd"
   ]
  },
  {
   "cell_type": "code",
   "execution_count": 3,
   "metadata": {},
   "outputs": [],
   "source": [
    "data = pd.read_csv('data.csv')"
   ]
  },
  {
   "cell_type": "code",
   "execution_count": 4,
   "metadata": {},
   "outputs": [
    {
     "data": {
      "text/html": [
       "<div>\n",
       "<style scoped>\n",
       "    .dataframe tbody tr th:only-of-type {\n",
       "        vertical-align: middle;\n",
       "    }\n",
       "\n",
       "    .dataframe tbody tr th {\n",
       "        vertical-align: top;\n",
       "    }\n",
       "\n",
       "    .dataframe thead th {\n",
       "        text-align: right;\n",
       "    }\n",
       "</style>\n",
       "<table border=\"1\" class=\"dataframe\">\n",
       "  <thead>\n",
       "    <tr style=\"text-align: right;\">\n",
       "      <th></th>\n",
       "      <th>item_id</th>\n",
       "      <th>user_id</th>\n",
       "      <th>region</th>\n",
       "      <th>city</th>\n",
       "      <th>parent_category_name</th>\n",
       "      <th>category_name</th>\n",
       "      <th>param_1</th>\n",
       "      <th>param_2</th>\n",
       "      <th>param_3</th>\n",
       "      <th>title</th>\n",
       "      <th>description</th>\n",
       "      <th>price</th>\n",
       "      <th>item_seq_number</th>\n",
       "      <th>activation_date</th>\n",
       "      <th>user_type</th>\n",
       "      <th>image</th>\n",
       "      <th>image_top_1</th>\n",
       "    </tr>\n",
       "  </thead>\n",
       "  <tbody>\n",
       "    <tr>\n",
       "      <th>0</th>\n",
       "      <td>793dd3d5f0f0</td>\n",
       "      <td>9467e0341c0e</td>\n",
       "      <td>Алтайский край</td>\n",
       "      <td>Барнаул</td>\n",
       "      <td>Личные вещи</td>\n",
       "      <td>Детская одежда и обувь</td>\n",
       "      <td>Для девочек</td>\n",
       "      <td>Платья и юбки</td>\n",
       "      <td>146-152 см (10-12 лет)</td>\n",
       "      <td>Платье праздничное для девочки</td>\n",
       "      <td>Очень красивое торг</td>\n",
       "      <td>1500.0</td>\n",
       "      <td>106</td>\n",
       "      <td>2017-04-12</td>\n",
       "      <td>Company</td>\n",
       "      <td>ace7b2b7f066a6b6ff244f90d030c2c1a1bf118dd0e1ac...</td>\n",
       "      <td>573.0</td>\n",
       "    </tr>\n",
       "    <tr>\n",
       "      <th>1</th>\n",
       "      <td>f8c965d9b668</td>\n",
       "      <td>1905516660f5</td>\n",
       "      <td>Свердловская область</td>\n",
       "      <td>Каменск-Уральский</td>\n",
       "      <td>Для дома и дачи</td>\n",
       "      <td>Мебель и интерьер</td>\n",
       "      <td>Кровати, диваны и кресла</td>\n",
       "      <td>NaN</td>\n",
       "      <td>NaN</td>\n",
       "      <td>Кровать двухспальная</td>\n",
       "      <td>Двуспальная кровать 140х200 с металлическим ка...</td>\n",
       "      <td>5700.0</td>\n",
       "      <td>10</td>\n",
       "      <td>2017-04-15</td>\n",
       "      <td>Private</td>\n",
       "      <td>b38ef24dd5b876ed626bd98241e228e4e19e4160d33abe...</td>\n",
       "      <td>1439.0</td>\n",
       "    </tr>\n",
       "    <tr>\n",
       "      <th>2</th>\n",
       "      <td>2f153c00d561</td>\n",
       "      <td>b4dc4849fdd4</td>\n",
       "      <td>Самарская область</td>\n",
       "      <td>Самара</td>\n",
       "      <td>Бытовая электроника</td>\n",
       "      <td>Телефоны</td>\n",
       "      <td>Samsung</td>\n",
       "      <td>NaN</td>\n",
       "      <td>NaN</td>\n",
       "      <td>Samsung S3 mini gt-i8190</td>\n",
       "      <td>Продам телефон самсунг 2 ядра, 1 гиг оперативн...</td>\n",
       "      <td>1500.0</td>\n",
       "      <td>6</td>\n",
       "      <td>2017-04-12</td>\n",
       "      <td>Private</td>\n",
       "      <td>8530cc0c8d5dc6d212497dffd610d89b92a7db952934db...</td>\n",
       "      <td>2932.0</td>\n",
       "    </tr>\n",
       "    <tr>\n",
       "      <th>3</th>\n",
       "      <td>7fc5eea56915</td>\n",
       "      <td>02c14d39fdb4</td>\n",
       "      <td>Саратовская область</td>\n",
       "      <td>Саратов</td>\n",
       "      <td>Личные вещи</td>\n",
       "      <td>Одежда, обувь, аксессуары</td>\n",
       "      <td>Женская одежда</td>\n",
       "      <td>Платья и юбки</td>\n",
       "      <td>44–46 (M)</td>\n",
       "      <td>Красивое платье на одно плечо, в идеале размер м</td>\n",
       "      <td>Заказывала в Сша, прекрасное качество, в деле ...</td>\n",
       "      <td>1000.0</td>\n",
       "      <td>1280</td>\n",
       "      <td>2017-04-13</td>\n",
       "      <td>Company</td>\n",
       "      <td>eb21745ba276d3b00b05856a58fe719e31a82419c0221a...</td>\n",
       "      <td>386.0</td>\n",
       "    </tr>\n",
       "    <tr>\n",
       "      <th>4</th>\n",
       "      <td>b01000d29ea3</td>\n",
       "      <td>b17f14110367</td>\n",
       "      <td>Удмуртия</td>\n",
       "      <td>Ижевск</td>\n",
       "      <td>Личные вещи</td>\n",
       "      <td>Детская одежда и обувь</td>\n",
       "      <td>Для мальчиков</td>\n",
       "      <td>Шапки, варежки, шарфы</td>\n",
       "      <td>NaN</td>\n",
       "      <td>Стильная панама</td>\n",
       "      <td>Состояние новой. Размер до года- полтора.  По ...</td>\n",
       "      <td>150.0</td>\n",
       "      <td>145</td>\n",
       "      <td>2017-04-14</td>\n",
       "      <td>Company</td>\n",
       "      <td>5bf1001fa681b96f121ad8047c85e3747f3dac37830dd0...</td>\n",
       "      <td>209.0</td>\n",
       "    </tr>\n",
       "  </tbody>\n",
       "</table>\n",
       "</div>"
      ],
      "text/plain": [
       "        item_id       user_id                region               city  \\\n",
       "0  793dd3d5f0f0  9467e0341c0e        Алтайский край            Барнаул   \n",
       "1  f8c965d9b668  1905516660f5  Свердловская область  Каменск-Уральский   \n",
       "2  2f153c00d561  b4dc4849fdd4     Самарская область             Самара   \n",
       "3  7fc5eea56915  02c14d39fdb4   Саратовская область            Саратов   \n",
       "4  b01000d29ea3  b17f14110367              Удмуртия             Ижевск   \n",
       "\n",
       "  parent_category_name              category_name                   param_1  \\\n",
       "0          Личные вещи     Детская одежда и обувь               Для девочек   \n",
       "1      Для дома и дачи          Мебель и интерьер  Кровати, диваны и кресла   \n",
       "2  Бытовая электроника                   Телефоны                   Samsung   \n",
       "3          Личные вещи  Одежда, обувь, аксессуары            Женская одежда   \n",
       "4          Личные вещи     Детская одежда и обувь             Для мальчиков   \n",
       "\n",
       "                 param_2                 param_3  \\\n",
       "0          Платья и юбки  146-152 см (10-12 лет)   \n",
       "1                    NaN                     NaN   \n",
       "2                    NaN                     NaN   \n",
       "3          Платья и юбки               44–46 (M)   \n",
       "4  Шапки, варежки, шарфы                     NaN   \n",
       "\n",
       "                                              title  \\\n",
       "0                    Платье праздничное для девочки   \n",
       "1                              Кровать двухспальная   \n",
       "2                          Samsung S3 mini gt-i8190   \n",
       "3  Красивое платье на одно плечо, в идеале размер м   \n",
       "4                                   Стильная панама   \n",
       "\n",
       "                                         description   price  item_seq_number  \\\n",
       "0                                Очень красивое торг  1500.0              106   \n",
       "1  Двуспальная кровать 140х200 с металлическим ка...  5700.0               10   \n",
       "2  Продам телефон самсунг 2 ядра, 1 гиг оперативн...  1500.0                6   \n",
       "3  Заказывала в Сша, прекрасное качество, в деле ...  1000.0             1280   \n",
       "4  Состояние новой. Размер до года- полтора.  По ...   150.0              145   \n",
       "\n",
       "  activation_date user_type  \\\n",
       "0      2017-04-12   Company   \n",
       "1      2017-04-15   Private   \n",
       "2      2017-04-12   Private   \n",
       "3      2017-04-13   Company   \n",
       "4      2017-04-14   Company   \n",
       "\n",
       "                                               image  image_top_1  \n",
       "0  ace7b2b7f066a6b6ff244f90d030c2c1a1bf118dd0e1ac...        573.0  \n",
       "1  b38ef24dd5b876ed626bd98241e228e4e19e4160d33abe...       1439.0  \n",
       "2  8530cc0c8d5dc6d212497dffd610d89b92a7db952934db...       2932.0  \n",
       "3  eb21745ba276d3b00b05856a58fe719e31a82419c0221a...        386.0  \n",
       "4  5bf1001fa681b96f121ad8047c85e3747f3dac37830dd0...        209.0  "
      ]
     },
     "execution_count": 4,
     "metadata": {},
     "output_type": "execute_result"
    }
   ],
   "source": [
    "data.head(5)"
   ]
  },
  {
   "cell_type": "markdown",
   "metadata": {},
   "source": [
    "Возьмем ещё название категорий, чтобы попробовать через него оценивать качетство кластеризации."
   ]
  },
  {
   "cell_type": "code",
   "execution_count": 5,
   "metadata": {},
   "outputs": [],
   "source": [
    "data = data[['category_name', 'title']]"
   ]
  },
  {
   "cell_type": "code",
   "execution_count": 6,
   "metadata": {},
   "outputs": [
    {
     "data": {
      "text/plain": [
       "(254219, 2)"
      ]
     },
     "execution_count": 6,
     "metadata": {},
     "output_type": "execute_result"
    }
   ],
   "source": [
    "data.shape"
   ]
  },
  {
   "cell_type": "code",
   "execution_count": 9,
   "metadata": {},
   "outputs": [],
   "source": [
    "pd.set_option('display.max_rows', 500)"
   ]
  },
  {
   "cell_type": "markdown",
   "metadata": {},
   "source": [
    "#### Импотируем разные алгоритмы кластеризации и метрики "
   ]
  },
  {
   "cell_type": "code",
   "execution_count": 10,
   "metadata": {},
   "outputs": [],
   "source": [
    "from sklearn.cluster import AffinityPropagation, AgglomerativeClustering, DBSCAN, \\\n",
    "                            KMeans, MiniBatchKMeans, Birch, MeanShift, SpectralClustering\n",
    "from sklearn.metrics import adjusted_rand_score, adjusted_mutual_info_score, \\\n",
    "                            silhouette_score\n",
    "\n",
    "from sklearn.feature_extraction.text import CountVectorizer\n",
    "from sklearn.decomposition import TruncatedSVD\n",
    "from sklearn import metrics\n",
    "from sklearn.datasets import make_blobs"
   ]
  },
  {
   "cell_type": "markdown",
   "metadata": {},
   "source": [
    "## AffinityPropagation"
   ]
  },
  {
   "cell_type": "code",
   "execution_count": 11,
   "metadata": {},
   "outputs": [
    {
     "data": {
      "text/html": [
       "<img src=\"https://www.researchgate.net/publication/275558354/figure/fig12/AS:669589163745280@1536653905013/Affinity-propagation-demo-18.png\"/>"
      ],
      "text/plain": [
       "<IPython.core.display.Image object>"
      ]
     },
     "execution_count": 11,
     "metadata": {},
     "output_type": "execute_result"
    }
   ],
   "source": [
    "from IPython.display import Image\n",
    "from IPython.core.display import HTML \n",
    "Image(url= \"https://www.researchgate.net/publication/275558354/figure/fig12/AS:669589163745280@1536653905013/Affinity-propagation-demo-18.png\")"
   ]
  },
  {
   "cell_type": "markdown",
   "metadata": {},
   "source": [
    "В AP хитрым образом ищутся \"экземпляры\", объекты в выборке которые могут использоваться как прототипы. Ближайшие к прототипам объекты записываются в этот кластер.\n",
    "\n",
    "Приемущества AP - не нужно подбирать количество кластеров.  \n",
    "Недостатки - медленно и тратится много памяти, параметры не очевидные."
   ]
  },
  {
   "cell_type": "markdown",
   "metadata": {},
   "source": [
    "AffinityPropagation не очень с большими дасетами (10к + строчек), поэтому сделаем подвыборку"
   ]
  },
  {
   "cell_type": "code",
   "execution_count": 12,
   "metadata": {},
   "outputs": [],
   "source": [
    "# можно переопределить датасет его частью\n",
    "sample = data.sample(frac=0.01)"
   ]
  },
  {
   "cell_type": "code",
   "execution_count": 13,
   "metadata": {},
   "outputs": [
    {
     "data": {
      "text/plain": [
       "(2542, 2)"
      ]
     },
     "execution_count": 13,
     "metadata": {},
     "output_type": "execute_result"
    }
   ],
   "source": [
    "sample.shape"
   ]
  },
  {
   "cell_type": "markdown",
   "metadata": {},
   "source": [
    "С векторизацией пока не будем заморачиваться"
   ]
  },
  {
   "cell_type": "code",
   "execution_count": 14,
   "metadata": {},
   "outputs": [],
   "source": [
    "cv = CountVectorizer(max_features=500)\n",
    "X = cv.fit_transform(sample['title'])\n",
    "\n",
    "y = sample['category_name']"
   ]
  },
  {
   "cell_type": "code",
   "execution_count": 15,
   "metadata": {},
   "outputs": [
    {
     "data": {
      "text/plain": [
       "(2542, 500)"
      ]
     },
     "execution_count": 15,
     "metadata": {},
     "output_type": "execute_result"
    }
   ],
   "source": [
    "X.shape"
   ]
  },
  {
   "cell_type": "markdown",
   "metadata": {},
   "source": [
    "У AP два основных параметра - damping и preference. Второй влияет на количество находимых экземпляров (чем выше значение, тем больше кластеров). Первый не очень понятный, его нужно ставить от 0.5 до 1. Ещё можно поставить max_iter побольше 200, если пишет, что не сошлось."
   ]
  },
  {
   "cell_type": "code",
   "execution_count": 16,
   "metadata": {},
   "outputs": [
    {
     "name": "stdout",
     "output_type": "stream",
     "text": [
      "Converged after 212 iterations.\n"
     ]
    },
    {
     "data": {
      "text/plain": [
       "AffinityPropagation(affinity='euclidean', convergence_iter=15, copy=True,\n",
       "          damping=0.7, max_iter=400, preference=-5, verbose=2)"
      ]
     },
     "execution_count": 16,
     "metadata": {},
     "output_type": "execute_result"
    }
   ],
   "source": [
    "cluster = AffinityPropagation(damping=0.7, preference=-5, \n",
    "                              max_iter=400, verbose=2)\n",
    "cluster.fit(X)"
   ]
  },
  {
   "cell_type": "markdown",
   "metadata": {},
   "source": [
    "Метки кластеров для всех объектов в датасете лежат в cluster.labels_"
   ]
  },
  {
   "cell_type": "code",
   "execution_count": 17,
   "metadata": {},
   "outputs": [],
   "source": [
    "labels = cluster.labels_"
   ]
  },
  {
   "cell_type": "markdown",
   "metadata": {},
   "source": [
    "Посмотрим сколько кластеров образовалось"
   ]
  },
  {
   "cell_type": "code",
   "execution_count": 18,
   "metadata": {},
   "outputs": [],
   "source": [
    "n_clusters = len(set(labels))"
   ]
  },
  {
   "cell_type": "code",
   "execution_count": 19,
   "metadata": {},
   "outputs": [
    {
     "data": {
      "text/plain": [
       "148"
      ]
     },
     "execution_count": 19,
     "metadata": {},
     "output_type": "execute_result"
    }
   ],
   "source": [
    "len(set(labels))"
   ]
  },
  {
   "cell_type": "markdown",
   "metadata": {},
   "source": [
    "Давайте попробуем посчитать метрики "
   ]
  },
  {
   "cell_type": "markdown",
   "metadata": {},
   "source": [
    "Основная внутренняя метрика - силуэты. Она считает насколько близки объекты внутри кластера, а также насколько объекты одного кластера далеко от другого кластера."
   ]
  },
  {
   "cell_type": "code",
   "execution_count": 88,
   "metadata": {},
   "outputs": [
    {
     "name": "stdout",
     "output_type": "stream",
     "text": [
      "Silhouette Coefficient: 0.292\n"
     ]
    }
   ],
   "source": [
    "print(\"Silhouette Coefficient: %0.3f\"\n",
    "      % metrics.silhouette_score(X, labels))"
   ]
  },
  {
   "cell_type": "markdown",
   "metadata": {},
   "source": [
    "Метрики с учётом правильных ответов (в нашем случае категории). Подробно мы их разбирать не будем, основная идея всех метрик - сравнить разбиения без привязки к конкретным меткам. Для этого так или иначе используется информация о том, какие объекты относятся к одному классу и одному кластеру, и какие объекты относятся к разным классам и разным кластерам."
   ]
  },
  {
   "cell_type": "markdown",
   "metadata": {},
   "source": [
    "Про метрики можно почитать тут - https://nlp.stanford.edu/IR-book/html/htmledition/evaluation-of-clustering-1.html"
   ]
  },
  {
   "cell_type": "code",
   "execution_count": 20,
   "metadata": {},
   "outputs": [
    {
     "name": "stdout",
     "output_type": "stream",
     "text": [
      "Homogeneity: 0.461\n",
      "Completeness: 0.396\n",
      "V-measure: 0.426\n",
      "Adjusted Rand Index: -0.001\n",
      "Adjusted Mutual Information: 0.272\n"
     ]
    }
   ],
   "source": [
    "# эти три метрки что-то вроде точности, полноты и ф-меры для кластеризации\n",
    "print(\"Homogeneity: %0.3f\" % metrics.homogeneity_score(y, labels)) # проверяет, что в кластере объекты одного класса\n",
    "print(\"Completeness: %0.3f\" % metrics.completeness_score(y, labels)) # проверяет, что объекты класса только в одном кластере\n",
    "print(\"V-measure: %0.3f\" % metrics.v_measure_score(y, labels)) # превращает обе метрики в одну \n",
    "\n",
    "print(\"Adjusted Rand Index: %0.3f\"\n",
    "      % metrics.adjusted_rand_score(y, labels))\n",
    "print(\"Adjusted Mutual Information: %0.3f\"\n",
    "      % metrics.adjusted_mutual_info_score(y, labels))"
   ]
  },
  {
   "cell_type": "markdown",
   "metadata": {},
   "source": [
    "Сложно сказать, насколько хорошие или плохие это числа. Давайте попробуем посмотреть глазами"
   ]
  },
  {
   "cell_type": "code",
   "execution_count": 21,
   "metadata": {},
   "outputs": [],
   "source": [
    "sample['cluster'] = cluster.labels_"
   ]
  },
  {
   "cell_type": "code",
   "execution_count": 23,
   "metadata": {
    "scrolled": true
   },
   "outputs": [
    {
     "data": {
      "text/html": [
       "<div>\n",
       "<style scoped>\n",
       "    .dataframe tbody tr th:only-of-type {\n",
       "        vertical-align: middle;\n",
       "    }\n",
       "\n",
       "    .dataframe tbody tr th {\n",
       "        vertical-align: top;\n",
       "    }\n",
       "\n",
       "    .dataframe thead th {\n",
       "        text-align: right;\n",
       "    }\n",
       "</style>\n",
       "<table border=\"1\" class=\"dataframe\">\n",
       "  <thead>\n",
       "    <tr style=\"text-align: right;\">\n",
       "      <th></th>\n",
       "      <th>category_name</th>\n",
       "      <th>title</th>\n",
       "      <th>cluster</th>\n",
       "    </tr>\n",
       "  </thead>\n",
       "  <tbody>\n",
       "    <tr>\n",
       "      <th>100705</th>\n",
       "      <td>Велосипеды</td>\n",
       "      <td>Велосипед</td>\n",
       "      <td>15</td>\n",
       "    </tr>\n",
       "    <tr>\n",
       "      <th>137695</th>\n",
       "      <td>Товары для детей и игрушки</td>\n",
       "      <td>Велосипед Forvard</td>\n",
       "      <td>15</td>\n",
       "    </tr>\n",
       "    <tr>\n",
       "      <th>176436</th>\n",
       "      <td>Велосипеды</td>\n",
       "      <td>Велосипед</td>\n",
       "      <td>15</td>\n",
       "    </tr>\n",
       "    <tr>\n",
       "      <th>73202</th>\n",
       "      <td>Товары для детей и игрушки</td>\n",
       "      <td>Велосипед 3-х колесный</td>\n",
       "      <td>15</td>\n",
       "    </tr>\n",
       "    <tr>\n",
       "      <th>249439</th>\n",
       "      <td>Товары для детей и игрушки</td>\n",
       "      <td>Велосипед двухколёсный 2402X MaxxPro Verona 24</td>\n",
       "      <td>15</td>\n",
       "    </tr>\n",
       "    <tr>\n",
       "      <th>116061</th>\n",
       "      <td>Велосипеды</td>\n",
       "      <td>Продаётся велосипед</td>\n",
       "      <td>15</td>\n",
       "    </tr>\n",
       "    <tr>\n",
       "      <th>42802</th>\n",
       "      <td>Велосипеды</td>\n",
       "      <td>Велосипед горный, взрослый - подростковый, 21 ...</td>\n",
       "      <td>15</td>\n",
       "    </tr>\n",
       "    <tr>\n",
       "      <th>101022</th>\n",
       "      <td>Велосипеды</td>\n",
       "      <td>Велосипед Spider</td>\n",
       "      <td>15</td>\n",
       "    </tr>\n",
       "    <tr>\n",
       "      <th>195078</th>\n",
       "      <td>Товары для детей и игрушки</td>\n",
       "      <td>Велосипед трёхколёсный \"Black Aqua\" -9р В наличии</td>\n",
       "      <td>15</td>\n",
       "    </tr>\n",
       "    <tr>\n",
       "      <th>65016</th>\n",
       "      <td>Товары для детей и игрушки</td>\n",
       "      <td>Трехколесный велосипед Lexus Trike с фарой</td>\n",
       "      <td>15</td>\n",
       "    </tr>\n",
       "  </tbody>\n",
       "</table>\n",
       "</div>"
      ],
      "text/plain": [
       "                     category_name  \\\n",
       "100705                  Велосипеды   \n",
       "137695  Товары для детей и игрушки   \n",
       "176436                  Велосипеды   \n",
       "73202   Товары для детей и игрушки   \n",
       "249439  Товары для детей и игрушки   \n",
       "116061                  Велосипеды   \n",
       "42802                   Велосипеды   \n",
       "101022                  Велосипеды   \n",
       "195078  Товары для детей и игрушки   \n",
       "65016   Товары для детей и игрушки   \n",
       "\n",
       "                                                    title  cluster  \n",
       "100705                                          Велосипед       15  \n",
       "137695                                  Велосипед Forvard       15  \n",
       "176436                                          Велосипед       15  \n",
       "73202                              Велосипед 3-х колесный       15  \n",
       "249439     Велосипед двухколёсный 2402X MaxxPro Verona 24       15  \n",
       "116061                                Продаётся велосипед       15  \n",
       "42802   Велосипед горный, взрослый - подростковый, 21 ...       15  \n",
       "101022                                   Велосипед Spider       15  \n",
       "195078  Велосипед трёхколёсный \"Black Aqua\" -9р В наличии       15  \n",
       "65016          Трехколесный велосипед Lexus Trike с фарой       15  "
      ]
     },
     "execution_count": 23,
     "metadata": {},
     "output_type": "execute_result"
    }
   ],
   "source": [
    "sample[sample.cluster==15].head(10)"
   ]
  },
  {
   "cell_type": "markdown",
   "metadata": {},
   "source": [
    "## AgglomerativeClustering"
   ]
  },
  {
   "cell_type": "code",
   "execution_count": 24,
   "metadata": {},
   "outputs": [
    {
     "data": {
      "text/html": [
       "<img src=\"https://www.datanovia.com/en/wp-content/uploads/dn-tutorials/003-hierarchical-clustering-in-r/figures/002-agglomerative-clustering-cutree-cut-dendrogram-1.png\"/>"
      ],
      "text/plain": [
       "<IPython.core.display.Image object>"
      ]
     },
     "execution_count": 24,
     "metadata": {},
     "output_type": "execute_result"
    }
   ],
   "source": [
    "from IPython.display import Image\n",
    "from IPython.core.display import HTML \n",
    "Image(url= \"https://www.datanovia.com/en/wp-content/uploads/dn-tutorials/003-hierarchical-clustering-in-r/figures/002-agglomerative-clustering-cutree-cut-dendrogram-1.png\")\n"
   ]
  },
  {
   "cell_type": "markdown",
   "metadata": {},
   "source": [
    "В агломеративной кластеризации каждому объекту припывается свой кластер и потом ближайшие кластеры постепенно объединяются, пока не получится 1 кластер или не получится количество, заданное как параметр. "
   ]
  },
  {
   "cell_type": "markdown",
   "metadata": {},
   "source": [
    "Когда рассказывают про этот вид кластеризации обычно рисуют вот такие картинки. Предполагается, что можно посмотреть на то, как объекты постепенно соединяются и найти оптимальное количество кластеров. Однако это сработает только на небольшом количестве объектов, больше 100 объектов нарисовать будет очень сложно."
   ]
  },
  {
   "cell_type": "markdown",
   "metadata": {},
   "source": [
    "Этот вид кластеризации может обработать немного побольше данных"
   ]
  },
  {
   "cell_type": "code",
   "execution_count": 25,
   "metadata": {},
   "outputs": [],
   "source": [
    "sample = data.sample(frac=0.05)"
   ]
  },
  {
   "cell_type": "code",
   "execution_count": 26,
   "metadata": {},
   "outputs": [
    {
     "data": {
      "text/plain": [
       "(12711, 2)"
      ]
     },
     "execution_count": 26,
     "metadata": {},
     "output_type": "execute_result"
    }
   ],
   "source": [
    "sample.shape"
   ]
  },
  {
   "cell_type": "markdown",
   "metadata": {},
   "source": [
    "Аггломеративная кластеризация не умеет работать с sparse матрицами, можно понизить размерность через svd"
   ]
  },
  {
   "cell_type": "code",
   "execution_count": 27,
   "metadata": {},
   "outputs": [],
   "source": [
    "cv = CountVectorizer(max_features=500)\n",
    "svd = TruncatedSVD(50)\n",
    "X = cv.fit_transform(sample['title'])\n",
    "X_svd = svd.fit_transform(X)\n",
    "\n",
    "y = sample['category_name']"
   ]
  },
  {
   "cell_type": "code",
   "execution_count": 28,
   "metadata": {},
   "outputs": [
    {
     "data": {
      "text/plain": [
       "47"
      ]
     },
     "execution_count": 28,
     "metadata": {},
     "output_type": "execute_result"
    }
   ],
   "source": [
    "len(y.unique())"
   ]
  },
  {
   "cell_type": "code",
   "execution_count": 29,
   "metadata": {},
   "outputs": [
    {
     "data": {
      "text/plain": [
       "(12711, 500)"
      ]
     },
     "execution_count": 29,
     "metadata": {},
     "output_type": "execute_result"
    }
   ],
   "source": [
    "X.shape"
   ]
  },
  {
   "cell_type": "code",
   "execution_count": 30,
   "metadata": {},
   "outputs": [
    {
     "data": {
      "text/plain": [
       "AgglomerativeClustering(affinity='euclidean', compute_full_tree='auto',\n",
       "            connectivity=None, linkage='ward', memory=None, n_clusters=170,\n",
       "            pooling_func=<function mean at 0x103daa598>)"
      ]
     },
     "execution_count": 30,
     "metadata": {},
     "output_type": "execute_result"
    }
   ],
   "source": [
    "# так как визуально мы не может найти оптимальное количество кластеров, придется подбирать\n",
    "# поставим число категорий\n",
    "cluster = AgglomerativeClustering(n_clusters=170)\n",
    "cluster.fit(X_svd)"
   ]
  },
  {
   "cell_type": "code",
   "execution_count": 31,
   "metadata": {},
   "outputs": [
    {
     "data": {
      "text/plain": [
       "170"
      ]
     },
     "execution_count": 31,
     "metadata": {},
     "output_type": "execute_result"
    }
   ],
   "source": [
    "len(set(cluster.labels_))"
   ]
  },
  {
   "cell_type": "code",
   "execution_count": 32,
   "metadata": {},
   "outputs": [],
   "source": [
    "labels = cluster.labels_"
   ]
  },
  {
   "cell_type": "markdown",
   "metadata": {},
   "source": [
    "Давайте попробуем посчитать метрики "
   ]
  },
  {
   "cell_type": "code",
   "execution_count": 33,
   "metadata": {
    "scrolled": true
   },
   "outputs": [
    {
     "name": "stdout",
     "output_type": "stream",
     "text": [
      "Silhouette Coefficient: 0.271\n"
     ]
    }
   ],
   "source": [
    "print(\"Silhouette Coefficient: %0.3f\"\n",
    "      % metrics.silhouette_score(X, labels))"
   ]
  },
  {
   "cell_type": "code",
   "execution_count": 34,
   "metadata": {},
   "outputs": [
    {
     "name": "stdout",
     "output_type": "stream",
     "text": [
      "Homogeneity: 0.373\n",
      "Completeness: 0.354\n",
      "V-measure: 0.363\n",
      "Adjusted Rand Index: -0.001\n",
      "Adjusted Mutual Information: 0.310\n"
     ]
    }
   ],
   "source": [
    "# эти три метрки что-то вроде точности, полноты и ф-меры для кластеризации\n",
    "print(\"Homogeneity: %0.3f\" % metrics.homogeneity_score(y, labels)) # проверяет, что в кластере объекты одного класса\n",
    "print(\"Completeness: %0.3f\" % metrics.completeness_score(y, labels)) # проверяет, что объекты класса только в одном кластере\n",
    "print(\"V-measure: %0.3f\" % metrics.v_measure_score(y, labels)) # превращает обе метрики в одну \n",
    "\n",
    "print(\"Adjusted Rand Index: %0.3f\"\n",
    "      % metrics.adjusted_rand_score(y, labels))\n",
    "print(\"Adjusted Mutual Information: %0.3f\"\n",
    "      % metrics.adjusted_mutual_info_score(y, labels))"
   ]
  },
  {
   "cell_type": "code",
   "execution_count": 35,
   "metadata": {},
   "outputs": [],
   "source": [
    "sample['cluster'] = cluster.labels_"
   ]
  },
  {
   "cell_type": "markdown",
   "metadata": {},
   "source": [
    "Можно проанализировать сколько разных категорий намешалось в один кластер (тем меньше, тем лучше)"
   ]
  },
  {
   "cell_type": "code",
   "execution_count": 36,
   "metadata": {
    "scrolled": true
   },
   "outputs": [
    {
     "data": {
      "text/plain": [
       "15     245\n",
       "115    116\n",
       "30      35\n",
       "39      26\n",
       "27      22\n",
       "149     19\n",
       "161     18\n",
       "24      14\n",
       "7       12\n",
       "91      11\n",
       "124     10\n",
       "117      8\n",
       "155      5\n",
       "102      4\n",
       "113      4\n",
       "65       3\n",
       "48       3\n",
       "34       3\n",
       "158      3\n",
       "114      2\n",
       "94       1\n",
       "159      1\n",
       "140      1\n",
       "4        1\n",
       "Name: cluster, dtype: int64"
      ]
     },
     "execution_count": 36,
     "metadata": {},
     "output_type": "execute_result"
    }
   ],
   "source": [
    "sample[sample.category_name=='Телефоны'].cluster.value_counts()"
   ]
  },
  {
   "cell_type": "markdown",
   "metadata": {},
   "source": [
    "## Mean Shift"
   ]
  },
  {
   "cell_type": "code",
   "execution_count": 37,
   "metadata": {},
   "outputs": [
    {
     "data": {
      "text/html": [
       "<img src=\"https://www.researchgate.net/publication/326242239/figure/fig3/AS:645578044231681@1530929208053/Intuitive-description-of-the-mean-shift-procedure-find-the-densest-regions-in-the.png\"/>"
      ],
      "text/plain": [
       "<IPython.core.display.Image object>"
      ]
     },
     "execution_count": 37,
     "metadata": {},
     "output_type": "execute_result"
    }
   ],
   "source": [
    "from IPython.display import Image\n",
    "from IPython.core.display import HTML \n",
    "Image(url= \"https://www.researchgate.net/publication/326242239/figure/fig3/AS:645578044231681@1530929208053/Intuitive-description-of-the-mean-shift-procedure-find-the-densest-regions-in-the.png\")\n"
   ]
  },
  {
   "cell_type": "markdown",
   "metadata": {},
   "source": [
    "MS ищет плотные скопления объектов и ставит там кружочки определеного размера. Все, что попадает в кружочек, относится к кластеру. Количество кластеров задавать не нужно. \n",
    "\n",
    "Это первый их рассмотренных алгоритмов, который не относит к кластерам все объекты."
   ]
  },
  {
   "cell_type": "code",
   "execution_count": 38,
   "metadata": {},
   "outputs": [],
   "source": [
    "sample = data.sample(frac=0.01)"
   ]
  },
  {
   "cell_type": "code",
   "execution_count": 39,
   "metadata": {},
   "outputs": [
    {
     "data": {
      "text/plain": [
       "(2542, 2)"
      ]
     },
     "execution_count": 39,
     "metadata": {},
     "output_type": "execute_result"
    }
   ],
   "source": [
    "sample.shape"
   ]
  },
  {
   "cell_type": "markdown",
   "metadata": {},
   "source": [
    "MS тоже не умеет работать с sparse матрицами"
   ]
  },
  {
   "cell_type": "code",
   "execution_count": 40,
   "metadata": {},
   "outputs": [],
   "source": [
    "cv = CountVectorizer(max_features=2000)\n",
    "svd = TruncatedSVD(50)\n",
    "X = cv.fit_transform(sample['title'])\n",
    "X_svd = svd.fit_transform(X)\n",
    "\n",
    "y = sample['category_name']"
   ]
  },
  {
   "cell_type": "code",
   "execution_count": 45,
   "metadata": {},
   "outputs": [
    {
     "data": {
      "text/plain": [
       "0.7429017812518477"
      ]
     },
     "execution_count": 45,
     "metadata": {},
     "output_type": "execute_result"
    }
   ],
   "source": [
    "# bandwidth - как раз рамер этого кружка, но его сложно подбирать самому, т.к. в каждой задаче он будет свой\n",
    "# вот так можно узнать, что будет по умолчанию и начать с этого значения, постепенно уменьшая или увеличивая\n",
    "import sklearn\n",
    "sklearn.cluster.estimate_bandwidth(X_svd)"
   ]
  },
  {
   "cell_type": "code",
   "execution_count": 46,
   "metadata": {},
   "outputs": [
    {
     "data": {
      "text/plain": [
       "MeanShift(bandwidth=0.5, bin_seeding=False, cluster_all=False, min_bin_freq=1,\n",
       "     n_jobs=1, seeds=None)"
      ]
     },
     "execution_count": 46,
     "metadata": {},
     "output_type": "execute_result"
    }
   ],
   "source": [
    "# cluster_all=False чтобы не записывать все объекты в кластеры\n",
    "cluster = MeanShift(cluster_all=False, bandwidth=0.5)\n",
    "cluster.fit(X_svd)"
   ]
  },
  {
   "cell_type": "markdown",
   "metadata": {},
   "source": [
    "Посмотрим сколько кластеров образовалось"
   ]
  },
  {
   "cell_type": "code",
   "execution_count": 47,
   "metadata": {},
   "outputs": [
    {
     "data": {
      "text/plain": [
       "274"
      ]
     },
     "execution_count": 47,
     "metadata": {},
     "output_type": "execute_result"
    }
   ],
   "source": [
    "len(set(cluster.labels_))"
   ]
  },
  {
   "cell_type": "code",
   "execution_count": 48,
   "metadata": {},
   "outputs": [],
   "source": [
    "labels = cluster.labels_"
   ]
  },
  {
   "cell_type": "code",
   "execution_count": 49,
   "metadata": {},
   "outputs": [
    {
     "name": "stdout",
     "output_type": "stream",
     "text": [
      "Silhouette Coefficient: 0.012\n"
     ]
    }
   ],
   "source": [
    "print(\"Silhouette Coefficient: %0.3f\"\n",
    "      % metrics.silhouette_score(X, labels))"
   ]
  },
  {
   "cell_type": "code",
   "execution_count": 50,
   "metadata": {},
   "outputs": [
    {
     "name": "stdout",
     "output_type": "stream",
     "text": [
      "Homogeneity: 0.385\n",
      "Completeness: 0.376\n",
      "V-measure: 0.380\n",
      "Adjusted Rand Index: -0.004\n",
      "Adjusted Mutual Information: 0.218\n"
     ]
    }
   ],
   "source": [
    "# эти три метрки что-то вроде точности, полноты и ф-меры для кластеризации\n",
    "print(\"Homogeneity: %0.3f\" % metrics.homogeneity_score(y, labels)) # проверяет, что в кластере объекты одного класса\n",
    "print(\"Completeness: %0.3f\" % metrics.completeness_score(y, labels)) # проверяет, что объекты класса только в одном кластере\n",
    "print(\"V-measure: %0.3f\" % metrics.v_measure_score(y, labels)) # превращает обе метрики в одну \n",
    "\n",
    "print(\"Adjusted Rand Index: %0.3f\"\n",
    "      % metrics.adjusted_rand_score(y, labels))\n",
    "print(\"Adjusted Mutual Information: %0.3f\"\n",
    "      % metrics.adjusted_mutual_info_score(y, labels))"
   ]
  },
  {
   "cell_type": "code",
   "execution_count": 51,
   "metadata": {},
   "outputs": [],
   "source": [
    "sample['cluster'] = cluster.labels_"
   ]
  },
  {
   "cell_type": "markdown",
   "metadata": {},
   "source": [
    "Алгоритмы кластеризация, которые умеют отфильтровывать выбросы, приписывают им -1 кластер."
   ]
  },
  {
   "cell_type": "code",
   "execution_count": 54,
   "metadata": {
    "scrolled": true
   },
   "outputs": [
    {
     "data": {
      "text/html": [
       "<div>\n",
       "<style scoped>\n",
       "    .dataframe tbody tr th:only-of-type {\n",
       "        vertical-align: middle;\n",
       "    }\n",
       "\n",
       "    .dataframe tbody tr th {\n",
       "        vertical-align: top;\n",
       "    }\n",
       "\n",
       "    .dataframe thead th {\n",
       "        text-align: right;\n",
       "    }\n",
       "</style>\n",
       "<table border=\"1\" class=\"dataframe\">\n",
       "  <thead>\n",
       "    <tr style=\"text-align: right;\">\n",
       "      <th></th>\n",
       "      <th>category_name</th>\n",
       "      <th>title</th>\n",
       "      <th>cluster</th>\n",
       "    </tr>\n",
       "  </thead>\n",
       "  <tbody>\n",
       "    <tr>\n",
       "      <th>183142</th>\n",
       "      <td>Автомобили</td>\n",
       "      <td>Toyota Land Cruiser Prado, 1993</td>\n",
       "      <td>-1</td>\n",
       "    </tr>\n",
       "    <tr>\n",
       "      <th>17609</th>\n",
       "      <td>Ремонт и строительство</td>\n",
       "      <td>Сруб в чашу или лапу, 5з8 и др размеры по желанию</td>\n",
       "      <td>-1</td>\n",
       "    </tr>\n",
       "    <tr>\n",
       "      <th>185213</th>\n",
       "      <td>Мебель и интерьер</td>\n",
       "      <td>Софа-диван-кровать</td>\n",
       "      <td>-1</td>\n",
       "    </tr>\n",
       "    <tr>\n",
       "      <th>18211</th>\n",
       "      <td>Детская одежда и обувь</td>\n",
       "      <td>Резиновые сапоги</td>\n",
       "      <td>-1</td>\n",
       "    </tr>\n",
       "    <tr>\n",
       "      <th>171561</th>\n",
       "      <td>Детская одежда и обувь</td>\n",
       "      <td>Детские платья пакетом</td>\n",
       "      <td>-1</td>\n",
       "    </tr>\n",
       "  </tbody>\n",
       "</table>\n",
       "</div>"
      ],
      "text/plain": [
       "                 category_name  \\\n",
       "183142              Автомобили   \n",
       "17609   Ремонт и строительство   \n",
       "185213       Мебель и интерьер   \n",
       "18211   Детская одежда и обувь   \n",
       "171561  Детская одежда и обувь   \n",
       "\n",
       "                                                    title  cluster  \n",
       "183142                    Toyota Land Cruiser Prado, 1993       -1  \n",
       "17609   Сруб в чашу или лапу, 5з8 и др размеры по желанию       -1  \n",
       "185213                                 Софа-диван-кровать       -1  \n",
       "18211                                    Резиновые сапоги       -1  \n",
       "171561                             Детские платья пакетом       -1  "
      ]
     },
     "execution_count": 54,
     "metadata": {},
     "output_type": "execute_result"
    }
   ],
   "source": [
    "# так мы можем оценить, действительно ли отсеивается мусор или мы просто недокластеризуем\n",
    "sample[sample.cluster==-1].head()"
   ]
  },
  {
   "cell_type": "markdown",
   "metadata": {},
   "source": [
    "## Spectral Clustering"
   ]
  },
  {
   "cell_type": "markdown",
   "metadata": {},
   "source": [
    "В SC перед тем как кластерозовать к объектам применяется какое-то преобразование. Это преобразование должно приводить странно организованные в пространстве объекты к более стандартному виду, который могут переварить простые алгоритмы кластеризации (по дефолту используется KMEANS - про него немного ниже)"
   ]
  },
  {
   "cell_type": "markdown",
   "metadata": {},
   "source": [
    "Так как кластируется через kmeans нужно подбирать количество кластеров самому."
   ]
  },
  {
   "cell_type": "code",
   "execution_count": 145,
   "metadata": {},
   "outputs": [],
   "source": [
    "sample = data.sample(frac=0.01)"
   ]
  },
  {
   "cell_type": "code",
   "execution_count": 146,
   "metadata": {},
   "outputs": [
    {
     "data": {
      "text/plain": [
       "(2542, 2)"
      ]
     },
     "execution_count": 146,
     "metadata": {},
     "output_type": "execute_result"
    }
   ],
   "source": [
    "sample.shape"
   ]
  },
  {
   "cell_type": "markdown",
   "metadata": {},
   "source": [
    "Аггломеративная кластеризация не умеет работать с sparse матрицами, можно понизить размерность через svd"
   ]
  },
  {
   "cell_type": "code",
   "execution_count": 147,
   "metadata": {},
   "outputs": [],
   "source": [
    "cv = CountVectorizer(max_features=500)\n",
    "svd = TruncatedSVD(50)\n",
    "X = cv.fit_transform(sample['title'])\n",
    "X_svd = svd.fit_transform(X)\n",
    "\n",
    "y = sample['category_name']"
   ]
  },
  {
   "cell_type": "code",
   "execution_count": 148,
   "metadata": {},
   "outputs": [
    {
     "data": {
      "text/plain": [
       "(2542, 500)"
      ]
     },
     "execution_count": 148,
     "metadata": {},
     "output_type": "execute_result"
    }
   ],
   "source": [
    "X.shape"
   ]
  },
  {
   "cell_type": "code",
   "execution_count": 149,
   "metadata": {},
   "outputs": [
    {
     "data": {
      "text/plain": [
       "SpectralClustering(affinity='rbf', assign_labels='kmeans', coef0=1, degree=3,\n",
       "          eigen_solver=None, eigen_tol=0.0, gamma=1.0, kernel_params=None,\n",
       "          n_clusters=47, n_init=10, n_jobs=1, n_neighbors=10,\n",
       "          random_state=None)"
      ]
     },
     "execution_count": 149,
     "metadata": {},
     "output_type": "execute_result"
    }
   ],
   "source": [
    "cluster = SpectralClustering(n_clusters=47)\n",
    "cluster.fit(X_svd)"
   ]
  },
  {
   "cell_type": "markdown",
   "metadata": {},
   "source": [
    "Метки кластеров для всех объектов в датасете лежат в cluster.labels_"
   ]
  },
  {
   "cell_type": "code",
   "execution_count": 150,
   "metadata": {},
   "outputs": [
    {
     "data": {
      "text/plain": [
       "array([38, 40,  1, ...,  3,  7,  1], dtype=int32)"
      ]
     },
     "execution_count": 150,
     "metadata": {},
     "output_type": "execute_result"
    }
   ],
   "source": [
    "cluster.labels_"
   ]
  },
  {
   "cell_type": "markdown",
   "metadata": {},
   "source": [
    "Посмотрим сколько кластеров образовалось"
   ]
  },
  {
   "cell_type": "code",
   "execution_count": 151,
   "metadata": {},
   "outputs": [
    {
     "data": {
      "text/plain": [
       "47"
      ]
     },
     "execution_count": 151,
     "metadata": {},
     "output_type": "execute_result"
    }
   ],
   "source": [
    "len(set(cluster.labels_))"
   ]
  },
  {
   "cell_type": "code",
   "execution_count": 152,
   "metadata": {},
   "outputs": [],
   "source": [
    "labels = cluster.labels_"
   ]
  },
  {
   "cell_type": "markdown",
   "metadata": {},
   "source": [
    "Давайте попробуем посчитать метрики "
   ]
  },
  {
   "cell_type": "code",
   "execution_count": 153,
   "metadata": {
    "scrolled": true
   },
   "outputs": [
    {
     "name": "stdout",
     "output_type": "stream",
     "text": [
      "Silhouette Coefficient: 0.175\n"
     ]
    }
   ],
   "source": [
    "print(\"Silhouette Coefficient: %0.3f\"\n",
    "      % metrics.silhouette_score(X, labels))"
   ]
  },
  {
   "cell_type": "code",
   "execution_count": 154,
   "metadata": {},
   "outputs": [
    {
     "name": "stdout",
     "output_type": "stream",
     "text": [
      "Homogeneity: 0.298\n",
      "Completeness: 0.362\n",
      "V-measure: 0.327\n",
      "Adjusted Rand Index: -0.005\n",
      "Adjusted Mutual Information: 0.225\n"
     ]
    }
   ],
   "source": [
    "# эти три метрки что-то вроде точности, полноты и ф-меры для кластеризации\n",
    "print(\"Homogeneity: %0.3f\" % metrics.homogeneity_score(y, labels)) # проверяет, что в кластере объекты одного класса\n",
    "print(\"Completeness: %0.3f\" % metrics.completeness_score(y, labels)) # проверяет, что объекты класса только в одном кластере\n",
    "print(\"V-measure: %0.3f\" % metrics.v_measure_score(y, labels)) # превращает обе метрики в одну \n",
    "\n",
    "print(\"Adjusted Rand Index: %0.3f\"\n",
    "      % metrics.adjusted_rand_score(y, labels))\n",
    "print(\"Adjusted Mutual Information: %0.3f\"\n",
    "      % metrics.adjusted_mutual_info_score(y, labels))"
   ]
  },
  {
   "cell_type": "markdown",
   "metadata": {},
   "source": [
    "Посмотрим на глаз"
   ]
  },
  {
   "cell_type": "code",
   "execution_count": 155,
   "metadata": {},
   "outputs": [],
   "source": [
    "sample['cluster'] = cluster.labels_"
   ]
  },
  {
   "cell_type": "code",
   "execution_count": 160,
   "metadata": {
    "scrolled": true
   },
   "outputs": [
    {
     "data": {
      "text/html": [
       "<div>\n",
       "<style scoped>\n",
       "    .dataframe tbody tr th:only-of-type {\n",
       "        vertical-align: middle;\n",
       "    }\n",
       "\n",
       "    .dataframe tbody tr th {\n",
       "        vertical-align: top;\n",
       "    }\n",
       "\n",
       "    .dataframe thead th {\n",
       "        text-align: right;\n",
       "    }\n",
       "</style>\n",
       "<table border=\"1\" class=\"dataframe\">\n",
       "  <thead>\n",
       "    <tr style=\"text-align: right;\">\n",
       "      <th></th>\n",
       "      <th>category_name</th>\n",
       "      <th>title</th>\n",
       "      <th>cluster</th>\n",
       "    </tr>\n",
       "  </thead>\n",
       "  <tbody>\n",
       "    <tr>\n",
       "      <th>153172</th>\n",
       "      <td>Земельные участки</td>\n",
       "      <td>Участок 7.8 сот. (СНТ, ДНП)</td>\n",
       "      <td>35</td>\n",
       "    </tr>\n",
       "    <tr>\n",
       "      <th>21443</th>\n",
       "      <td>Земельные участки</td>\n",
       "      <td>Участок 6 сот. (СНТ, ДНП)</td>\n",
       "      <td>35</td>\n",
       "    </tr>\n",
       "    <tr>\n",
       "      <th>15608</th>\n",
       "      <td>Земельные участки</td>\n",
       "      <td>Участок 6 сот. (СНТ, ДНП)</td>\n",
       "      <td>35</td>\n",
       "    </tr>\n",
       "    <tr>\n",
       "      <th>127016</th>\n",
       "      <td>Земельные участки</td>\n",
       "      <td>Участок 5.64 га (СНТ, ДНП)</td>\n",
       "      <td>35</td>\n",
       "    </tr>\n",
       "    <tr>\n",
       "      <th>4234</th>\n",
       "      <td>Земельные участки</td>\n",
       "      <td>Участок 15 сот. (СНТ, ДНП)</td>\n",
       "      <td>35</td>\n",
       "    </tr>\n",
       "    <tr>\n",
       "      <th>54916</th>\n",
       "      <td>Земельные участки</td>\n",
       "      <td>Куплю участок (СНТ, ДНП)</td>\n",
       "      <td>35</td>\n",
       "    </tr>\n",
       "    <tr>\n",
       "      <th>202213</th>\n",
       "      <td>Земельные участки</td>\n",
       "      <td>Участок 7 сот. (СНТ, ДНП)</td>\n",
       "      <td>35</td>\n",
       "    </tr>\n",
       "    <tr>\n",
       "      <th>236993</th>\n",
       "      <td>Земельные участки</td>\n",
       "      <td>Участок 7 сот. (СНТ, ДНП)</td>\n",
       "      <td>35</td>\n",
       "    </tr>\n",
       "    <tr>\n",
       "      <th>144766</th>\n",
       "      <td>Земельные участки</td>\n",
       "      <td>Участок 8 сот. (СНТ, ДНП)</td>\n",
       "      <td>35</td>\n",
       "    </tr>\n",
       "    <tr>\n",
       "      <th>3297</th>\n",
       "      <td>Земельные участки</td>\n",
       "      <td>Участок 7.8 сот. (СНТ, ДНП)</td>\n",
       "      <td>35</td>\n",
       "    </tr>\n",
       "    <tr>\n",
       "      <th>118944</th>\n",
       "      <td>Земельные участки</td>\n",
       "      <td>Участок 23.8 сот. (СНТ, ДНП)</td>\n",
       "      <td>35</td>\n",
       "    </tr>\n",
       "    <tr>\n",
       "      <th>250772</th>\n",
       "      <td>Земельные участки</td>\n",
       "      <td>Участок 8 сот. (СНТ, ДНП)</td>\n",
       "      <td>35</td>\n",
       "    </tr>\n",
       "  </tbody>\n",
       "</table>\n",
       "</div>"
      ],
      "text/plain": [
       "            category_name                         title  cluster\n",
       "153172  Земельные участки   Участок 7.8 сот. (СНТ, ДНП)       35\n",
       "21443   Земельные участки     Участок 6 сот. (СНТ, ДНП)       35\n",
       "15608   Земельные участки     Участок 6 сот. (СНТ, ДНП)       35\n",
       "127016  Земельные участки    Участок 5.64 га (СНТ, ДНП)       35\n",
       "4234    Земельные участки    Участок 15 сот. (СНТ, ДНП)       35\n",
       "54916   Земельные участки      Куплю участок (СНТ, ДНП)       35\n",
       "202213  Земельные участки     Участок 7 сот. (СНТ, ДНП)       35\n",
       "236993  Земельные участки     Участок 7 сот. (СНТ, ДНП)       35\n",
       "144766  Земельные участки     Участок 8 сот. (СНТ, ДНП)       35\n",
       "3297    Земельные участки   Участок 7.8 сот. (СНТ, ДНП)       35\n",
       "118944  Земельные участки  Участок 23.8 сот. (СНТ, ДНП)       35\n",
       "250772  Земельные участки     Участок 8 сот. (СНТ, ДНП)       35"
      ]
     },
     "execution_count": 160,
     "metadata": {},
     "output_type": "execute_result"
    }
   ],
   "source": [
    "sample[sample.cluster==35]"
   ]
  },
  {
   "cell_type": "markdown",
   "metadata": {},
   "source": [
    "## DBSCAN"
   ]
  },
  {
   "cell_type": "code",
   "execution_count": 56,
   "metadata": {},
   "outputs": [
    {
     "data": {
      "text/html": [
       "<img src=\"https://media.giphy.com/media/lCL2GQewp7fkk/giphy.gif\"/>"
      ],
      "text/plain": [
       "<IPython.core.display.Image object>"
      ]
     },
     "execution_count": 56,
     "metadata": {},
     "output_type": "execute_result"
    }
   ],
   "source": [
    "from IPython.display import Image\n",
    "from IPython.core.display import HTML \n",
    "Image(url= \"https://media.giphy.com/media/lCL2GQewp7fkk/giphy.gif\")"
   ]
  },
  {
   "cell_type": "markdown",
   "metadata": {},
   "source": [
    "DBSCAN похож на MS и Spectral Clustering. К данным применяется какое-то преобразование, чтобы скучковать близкие объекты и ещё дальше откинуть выбросы. Потом выбирается какой-то объект и в его окрестностях ищутся другие объекты. Если находятся, то эти объекты сливаются в один кластер и так далее. Если количество объектов в кластере меньше порога, то объекты считаются выбросами. (На самом деле там все немного сложнее чем на картинке, но это не так важно)\n",
    "\n",
    "DBSCAN сам находит количество кластеров и умеет отфильтровывать выбросы. Параметрами можно настраивать объём окрестности и таким оброзом влиять на кластеры."
   ]
  },
  {
   "cell_type": "markdown",
   "metadata": {},
   "source": [
    "Интерактивная визуализация есть тут - https://www.naftaliharris.com/blog/visualizing-dbscan-clustering/"
   ]
  },
  {
   "cell_type": "code",
   "execution_count": 57,
   "metadata": {},
   "outputs": [],
   "source": [
    "sample = data.sample(frac=0.05)"
   ]
  },
  {
   "cell_type": "code",
   "execution_count": 58,
   "metadata": {},
   "outputs": [
    {
     "data": {
      "text/plain": [
       "(12711, 2)"
      ]
     },
     "execution_count": 58,
     "metadata": {},
     "output_type": "execute_result"
    }
   ],
   "source": [
    "sample.shape"
   ]
  },
  {
   "cell_type": "markdown",
   "metadata": {},
   "source": [
    "Аггломеративная кластеризация не умеет работать с sparse матрицами, можно понизить размерность через svd"
   ]
  },
  {
   "cell_type": "code",
   "execution_count": 59,
   "metadata": {},
   "outputs": [],
   "source": [
    "cv = CountVectorizer(max_features=2000)\n",
    "svd = TruncatedSVD(50)\n",
    "X = cv.fit_transform(sample['title'])\n",
    "X_svd = svd.fit_transform(X)\n",
    "\n",
    "y = sample['category_name']"
   ]
  },
  {
   "cell_type": "code",
   "execution_count": 60,
   "metadata": {},
   "outputs": [
    {
     "data": {
      "text/plain": [
       "(12711, 2000)"
      ]
     },
     "execution_count": 60,
     "metadata": {},
     "output_type": "execute_result"
    }
   ],
   "source": [
    "X.shape"
   ]
  },
  {
   "cell_type": "code",
   "execution_count": 61,
   "metadata": {},
   "outputs": [
    {
     "data": {
      "text/plain": [
       "DBSCAN(algorithm='auto', eps=0.3, leaf_size=30, metric='euclidean',\n",
       "    metric_params=None, min_samples=10, n_jobs=1, p=None)"
      ]
     },
     "execution_count": 61,
     "metadata": {},
     "output_type": "execute_result"
    }
   ],
   "source": [
    "# eps - задает максимальную для объединения дистанцию между объектами == размер окрестности\n",
    "# min_samples - минимальное количество объектов в классе\n",
    "\n",
    "cluster = DBSCAN(min_samples=10, eps=0.3) \n",
    "cluster.fit(X_svd)"
   ]
  },
  {
   "cell_type": "markdown",
   "metadata": {},
   "source": [
    "Метки кластеров для всех объектов в датасете лежат в cluster.labels_"
   ]
  },
  {
   "cell_type": "code",
   "execution_count": 62,
   "metadata": {},
   "outputs": [
    {
     "data": {
      "text/plain": [
       "array([ 0,  0,  0, ..., 17, 85, 12])"
      ]
     },
     "execution_count": 62,
     "metadata": {},
     "output_type": "execute_result"
    }
   ],
   "source": [
    "cluster.labels_"
   ]
  },
  {
   "cell_type": "markdown",
   "metadata": {},
   "source": [
    "Посмотрим сколько кластеров образовалось"
   ]
  },
  {
   "cell_type": "code",
   "execution_count": 63,
   "metadata": {},
   "outputs": [
    {
     "data": {
      "text/plain": [
       "92"
      ]
     },
     "execution_count": 63,
     "metadata": {},
     "output_type": "execute_result"
    }
   ],
   "source": [
    "len(set(cluster.labels_))"
   ]
  },
  {
   "cell_type": "markdown",
   "metadata": {},
   "source": [
    "Давайте попробуем посчитать метрики "
   ]
  },
  {
   "cell_type": "code",
   "execution_count": 64,
   "metadata": {
    "scrolled": true
   },
   "outputs": [],
   "source": [
    "labels = cluster.labels_"
   ]
  },
  {
   "cell_type": "code",
   "execution_count": 65,
   "metadata": {},
   "outputs": [
    {
     "name": "stdout",
     "output_type": "stream",
     "text": [
      "Silhouette Coefficient: 0.069\n"
     ]
    }
   ],
   "source": [
    "print(\"Silhouette Coefficient: %0.3f\"\n",
    "      % metrics.silhouette_score(X, labels))"
   ]
  },
  {
   "cell_type": "code",
   "execution_count": 66,
   "metadata": {},
   "outputs": [
    {
     "name": "stdout",
     "output_type": "stream",
     "text": [
      "Homogeneity: 0.286\n",
      "Completeness: 0.338\n",
      "V-measure: 0.310\n",
      "Adjusted Rand Index: -0.005\n",
      "Adjusted Mutual Information: 0.254\n"
     ]
    }
   ],
   "source": [
    "# эти три метрки что-то вроде точности, полноты и ф-меры для кластеризации\n",
    "print(\"Homogeneity: %0.3f\" % metrics.homogeneity_score(y, labels)) # проверяет, что в кластере объекты одного класса\n",
    "print(\"Completeness: %0.3f\" % metrics.completeness_score(y, labels)) # проверяет, что объекты класса только в одном кластере\n",
    "print(\"V-measure: %0.3f\" % metrics.v_measure_score(y, labels)) # превращает обе метрики в одну \n",
    "\n",
    "print(\"Adjusted Rand Index: %0.3f\"\n",
    "      % metrics.adjusted_rand_score(y, labels))\n",
    "print(\"Adjusted Mutual Information: %0.3f\"\n",
    "      % metrics.adjusted_mutual_info_score(y, labels))"
   ]
  },
  {
   "cell_type": "code",
   "execution_count": 67,
   "metadata": {},
   "outputs": [],
   "source": [
    "sample['cluster'] = cluster.labels_"
   ]
  },
  {
   "cell_type": "code",
   "execution_count": 69,
   "metadata": {
    "scrolled": true
   },
   "outputs": [
    {
     "data": {
      "text/html": [
       "<div>\n",
       "<style scoped>\n",
       "    .dataframe tbody tr th:only-of-type {\n",
       "        vertical-align: middle;\n",
       "    }\n",
       "\n",
       "    .dataframe tbody tr th {\n",
       "        vertical-align: top;\n",
       "    }\n",
       "\n",
       "    .dataframe thead th {\n",
       "        text-align: right;\n",
       "    }\n",
       "</style>\n",
       "<table border=\"1\" class=\"dataframe\">\n",
       "  <thead>\n",
       "    <tr style=\"text-align: right;\">\n",
       "      <th></th>\n",
       "      <th>category_name</th>\n",
       "      <th>title</th>\n",
       "      <th>cluster</th>\n",
       "    </tr>\n",
       "  </thead>\n",
       "  <tbody>\n",
       "    <tr>\n",
       "      <th>151391</th>\n",
       "      <td>Автомобили</td>\n",
       "      <td>ВАЗ 2106, 1989</td>\n",
       "      <td>5</td>\n",
       "    </tr>\n",
       "    <tr>\n",
       "      <th>246618</th>\n",
       "      <td>Автомобили</td>\n",
       "      <td>ВАЗ 2107, 2002</td>\n",
       "      <td>5</td>\n",
       "    </tr>\n",
       "    <tr>\n",
       "      <th>201694</th>\n",
       "      <td>Автомобили</td>\n",
       "      <td>ВАЗ 2112, 2001</td>\n",
       "      <td>5</td>\n",
       "    </tr>\n",
       "    <tr>\n",
       "      <th>209754</th>\n",
       "      <td>Автомобили</td>\n",
       "      <td>ВАЗ 2110, 2001</td>\n",
       "      <td>5</td>\n",
       "    </tr>\n",
       "    <tr>\n",
       "      <th>9165</th>\n",
       "      <td>Автомобили</td>\n",
       "      <td>ВАЗ 21099, 2004</td>\n",
       "      <td>5</td>\n",
       "    </tr>\n",
       "  </tbody>\n",
       "</table>\n",
       "</div>"
      ],
      "text/plain": [
       "       category_name            title  cluster\n",
       "151391    Автомобили   ВАЗ 2106, 1989        5\n",
       "246618    Автомобили   ВАЗ 2107, 2002        5\n",
       "201694    Автомобили   ВАЗ 2112, 2001        5\n",
       "209754    Автомобили   ВАЗ 2110, 2001        5\n",
       "9165      Автомобили  ВАЗ 21099, 2004        5"
      ]
     },
     "execution_count": 69,
     "metadata": {},
     "output_type": "execute_result"
    }
   ],
   "source": [
    "sample[sample.cluster==5].head()"
   ]
  },
  {
   "cell_type": "markdown",
   "metadata": {},
   "source": [
    "Есть еще HDBSCAN - оптимизированная версия DBSCAN. Его нет в sklearn, но есть отдельная библиотека с аналогичным интерфейсом - https://hdbscan.readthedocs.io/en/latest/how_hdbscan_works.html "
   ]
  },
  {
   "cell_type": "markdown",
   "metadata": {},
   "source": [
    "## KMeans"
   ]
  },
  {
   "cell_type": "code",
   "execution_count": 71,
   "metadata": {},
   "outputs": [
    {
     "data": {
      "text/html": [
       "<img src=\"https://media.giphy.com/media/hgCM9JNzlqAr6/giphy.gif\"/>"
      ],
      "text/plain": [
       "<IPython.core.display.Image object>"
      ]
     },
     "execution_count": 71,
     "metadata": {},
     "output_type": "execute_result"
    }
   ],
   "source": [
    "from IPython.display import Image\n",
    "from IPython.core.display import HTML \n",
    "Image(url= \"https://media.giphy.com/media/hgCM9JNzlqAr6/giphy.gif\")"
   ]
  },
  {
   "cell_type": "markdown",
   "metadata": {},
   "source": [
    "KMeans наверное самый известный алгоритм кластеризации. Выбирается количество кластеров, случайно раскидываются центры этих кластеров, объекты относятся к ближайшим кластерам, центры кластеров пересчитываются в среднее значение попавших в него объектов."
   ]
  },
  {
   "cell_type": "markdown",
   "metadata": {},
   "source": [
    "Более интерактивную версию можно посмотреть вот тут - https://www.naftaliharris.com/blog/visualizing-k-means-clustering/"
   ]
  },
  {
   "cell_type": "markdown",
   "metadata": {},
   "source": [
    "KMeans достаточно быстрый"
   ]
  },
  {
   "cell_type": "code",
   "execution_count": 72,
   "metadata": {},
   "outputs": [],
   "source": [
    "sample = data.sample(frac=0.1)"
   ]
  },
  {
   "cell_type": "code",
   "execution_count": 73,
   "metadata": {},
   "outputs": [
    {
     "data": {
      "text/plain": [
       "(25422, 2)"
      ]
     },
     "execution_count": 73,
     "metadata": {},
     "output_type": "execute_result"
    }
   ],
   "source": [
    "sample.shape"
   ]
  },
  {
   "cell_type": "markdown",
   "metadata": {},
   "source": [
    "Kmeans и так и так может"
   ]
  },
  {
   "cell_type": "code",
   "execution_count": 74,
   "metadata": {},
   "outputs": [],
   "source": [
    "cv = CountVectorizer(max_features=500)\n",
    "svd = TruncatedSVD(50)\n",
    "X = cv.fit_transform(sample['title'])\n",
    "X_svd = svd.fit_transform(X)\n",
    "\n",
    "y = sample['category_name']"
   ]
  },
  {
   "cell_type": "code",
   "execution_count": 75,
   "metadata": {},
   "outputs": [
    {
     "data": {
      "text/plain": [
       "47"
      ]
     },
     "execution_count": 75,
     "metadata": {},
     "output_type": "execute_result"
    }
   ],
   "source": [
    "len(y.unique())"
   ]
  },
  {
   "cell_type": "code",
   "execution_count": 76,
   "metadata": {},
   "outputs": [
    {
     "data": {
      "text/plain": [
       "(25422, 500)"
      ]
     },
     "execution_count": 76,
     "metadata": {},
     "output_type": "execute_result"
    }
   ],
   "source": [
    "X.shape"
   ]
  },
  {
   "cell_type": "code",
   "execution_count": 77,
   "metadata": {},
   "outputs": [
    {
     "data": {
      "text/plain": [
       "KMeans(algorithm='auto', copy_x=True, init='k-means++', max_iter=300,\n",
       "    n_clusters=47, n_init=10, n_jobs=1, precompute_distances='auto',\n",
       "    random_state=None, tol=0.0001, verbose=0)"
      ]
     },
     "execution_count": 77,
     "metadata": {},
     "output_type": "execute_result"
    }
   ],
   "source": [
    "cluster = KMeans(n_clusters=47)\n",
    "cluster.fit(X_svd)"
   ]
  },
  {
   "cell_type": "code",
   "execution_count": 78,
   "metadata": {},
   "outputs": [],
   "source": [
    "labels = cluster.labels_"
   ]
  },
  {
   "cell_type": "markdown",
   "metadata": {},
   "source": [
    "Давайте попробуем посчитать метрики (данных теперь больше и силуэты долго будут считаться)"
   ]
  },
  {
   "cell_type": "code",
   "execution_count": 79,
   "metadata": {
    "scrolled": true
   },
   "outputs": [
    {
     "name": "stdout",
     "output_type": "stream",
     "text": [
      "Silhouette Coefficient: 0.243\n"
     ]
    }
   ],
   "source": [
    "print(\"Silhouette Coefficient: %0.3f\"\n",
    "      % metrics.silhouette_score(X[:10000], labels[:10000]))"
   ]
  },
  {
   "cell_type": "code",
   "execution_count": 80,
   "metadata": {},
   "outputs": [
    {
     "name": "stdout",
     "output_type": "stream",
     "text": [
      "Homogeneity: 0.298\n",
      "Completeness: 0.379\n",
      "V-measure: 0.334\n",
      "Adjusted Rand Index: 0.001\n",
      "Adjusted Mutual Information: 0.288\n"
     ]
    }
   ],
   "source": [
    "# эти три метрки что-то вроде точности, полноты и ф-меры для кластеризации\n",
    "print(\"Homogeneity: %0.3f\" % metrics.homogeneity_score(y, labels)) # проверяет, что в кластере объекты одного класса\n",
    "print(\"Completeness: %0.3f\" % metrics.completeness_score(y, labels)) # проверяет, что объекты класса только в одном кластере\n",
    "print(\"V-measure: %0.3f\" % metrics.v_measure_score(y, labels)) # превращает обе метрики в одну \n",
    "\n",
    "print(\"Adjusted Rand Index: %0.3f\"\n",
    "      % metrics.adjusted_rand_score(y, labels))\n",
    "print(\"Adjusted Mutual Information: %0.3f\"\n",
    "      % metrics.adjusted_mutual_info_score(y, labels))"
   ]
  },
  {
   "cell_type": "code",
   "execution_count": 81,
   "metadata": {},
   "outputs": [],
   "source": [
    "sample['cluster'] = cluster.labels_"
   ]
  },
  {
   "cell_type": "code",
   "execution_count": 82,
   "metadata": {
    "scrolled": true
   },
   "outputs": [
    {
     "data": {
      "text/html": [
       "<div>\n",
       "<style scoped>\n",
       "    .dataframe tbody tr th:only-of-type {\n",
       "        vertical-align: middle;\n",
       "    }\n",
       "\n",
       "    .dataframe tbody tr th {\n",
       "        vertical-align: top;\n",
       "    }\n",
       "\n",
       "    .dataframe thead th {\n",
       "        text-align: right;\n",
       "    }\n",
       "</style>\n",
       "<table border=\"1\" class=\"dataframe\">\n",
       "  <thead>\n",
       "    <tr style=\"text-align: right;\">\n",
       "      <th></th>\n",
       "      <th>category_name</th>\n",
       "      <th>title</th>\n",
       "      <th>cluster</th>\n",
       "    </tr>\n",
       "  </thead>\n",
       "  <tbody>\n",
       "    <tr>\n",
       "      <th>28940</th>\n",
       "      <td>Квартиры</td>\n",
       "      <td>Сниму 1-к квартиру</td>\n",
       "      <td>13</td>\n",
       "    </tr>\n",
       "    <tr>\n",
       "      <th>65749</th>\n",
       "      <td>Квартиры</td>\n",
       "      <td>Куплю 2-к квартиру</td>\n",
       "      <td>13</td>\n",
       "    </tr>\n",
       "    <tr>\n",
       "      <th>140302</th>\n",
       "      <td>Квартиры</td>\n",
       "      <td>Куплю 2-к квартиру</td>\n",
       "      <td>13</td>\n",
       "    </tr>\n",
       "    <tr>\n",
       "      <th>27500</th>\n",
       "      <td>Дома, дачи, коттеджи</td>\n",
       "      <td>Сниму дом</td>\n",
       "      <td>13</td>\n",
       "    </tr>\n",
       "    <tr>\n",
       "      <th>162460</th>\n",
       "      <td>Коммерческая недвижимость</td>\n",
       "      <td>Сниму помещение под кофейню</td>\n",
       "      <td>13</td>\n",
       "    </tr>\n",
       "  </tbody>\n",
       "</table>\n",
       "</div>"
      ],
      "text/plain": [
       "                    category_name                        title  cluster\n",
       "28940                    Квартиры           Сниму 1-к квартиру       13\n",
       "65749                    Квартиры           Куплю 2-к квартиру       13\n",
       "140302                   Квартиры           Куплю 2-к квартиру       13\n",
       "27500        Дома, дачи, коттеджи                    Сниму дом       13\n",
       "162460  Коммерческая недвижимость  Сниму помещение под кофейню       13"
      ]
     },
     "execution_count": 82,
     "metadata": {},
     "output_type": "execute_result"
    }
   ],
   "source": [
    "sample[sample.cluster==13].head()"
   ]
  },
  {
   "cell_type": "markdown",
   "metadata": {},
   "source": [
    "# MiniBatchKMeans"
   ]
  },
  {
   "cell_type": "markdown",
   "metadata": {},
   "source": [
    "Kmeans работает и быстрее и переваривает больше данных, чем предыдущие алгоритмы. Но есть и ещё более мощный алгоритм - MiniBatchKmeans. По названию можно догадаться, что это тот же Kmeans только на батчах. Кластеры обновляются на батчах, что позволяет значительно ускорить схождение и уменьшить требования к памяти. MiniBatchKmeans может переварить огромные датасеты (никакого сэмпла тут делать не надо). Результат конечно будет отличаться от Kmeans в худшую сторону, но есть эксперименты, которые показывают, что отличие не значительное и перекрывается остальными преимуществами."
   ]
  },
  {
   "cell_type": "code",
   "execution_count": 83,
   "metadata": {},
   "outputs": [],
   "source": [
    "cv = CountVectorizer(max_features=5000)\n",
    "svd = TruncatedSVD(200)\n",
    "X = cv.fit_transform(data['title'])\n",
    "X_svd = svd.fit_transform(X)\n",
    "\n",
    "y = data['category_name']"
   ]
  },
  {
   "cell_type": "code",
   "execution_count": 84,
   "metadata": {},
   "outputs": [
    {
     "data": {
      "text/plain": [
       "(254219, 5000)"
      ]
     },
     "execution_count": 84,
     "metadata": {},
     "output_type": "execute_result"
    }
   ],
   "source": [
    "X.shape"
   ]
  },
  {
   "cell_type": "code",
   "execution_count": 85,
   "metadata": {},
   "outputs": [
    {
     "data": {
      "text/plain": [
       "47"
      ]
     },
     "execution_count": 85,
     "metadata": {},
     "output_type": "execute_result"
    }
   ],
   "source": [
    "len(y.unique())"
   ]
  },
  {
   "cell_type": "code",
   "execution_count": 86,
   "metadata": {
    "scrolled": true
   },
   "outputs": [
    {
     "name": "stdout",
     "output_type": "stream",
     "text": [
      "Init 1/3 with method: k-means++\n",
      "Inertia for init 1/3: 750.054492\n",
      "Init 2/3 with method: k-means++\n",
      "Inertia for init 2/3: 750.253051\n",
      "Init 3/3 with method: k-means++\n",
      "Inertia for init 3/3: 720.099500\n",
      "Minibatch iteration 1/12715000: mean batch inertia: 0.192597, ewa inertia: 0.192597 \n",
      "Minibatch iteration 2/12715000: mean batch inertia: 0.134174, ewa inertia: 0.192551 \n",
      "Minibatch iteration 3/12715000: mean batch inertia: 0.256749, ewa inertia: 0.192601 \n",
      "Minibatch iteration 4/12715000: mean batch inertia: 0.270063, ewa inertia: 0.192662 \n",
      "Minibatch iteration 5/12715000: mean batch inertia: 0.300767, ewa inertia: 0.192747 \n",
      "Minibatch iteration 6/12715000: mean batch inertia: 0.221604, ewa inertia: 0.192770 \n",
      "Minibatch iteration 7/12715000: mean batch inertia: 0.214805, ewa inertia: 0.192787 \n",
      "Minibatch iteration 8/12715000: mean batch inertia: 0.288842, ewa inertia: 0.192863 \n",
      "Minibatch iteration 9/12715000: mean batch inertia: 0.171374, ewa inertia: 0.192846 \n",
      "[MiniBatchKMeans] Reassigning 50 cluster centers.\n",
      "Minibatch iteration 10/12715000: mean batch inertia: 0.149643, ewa inertia: 0.192812 \n",
      "Minibatch iteration 11/12715000: mean batch inertia: 0.160466, ewa inertia: 0.192786 \n",
      "Minibatch iteration 12/12715000: mean batch inertia: 0.260365, ewa inertia: 0.192840 \n",
      "Minibatch iteration 13/12715000: mean batch inertia: 0.168328, ewa inertia: 0.192820 \n",
      "Minibatch iteration 14/12715000: mean batch inertia: 0.154126, ewa inertia: 0.192790 \n",
      "Minibatch iteration 15/12715000: mean batch inertia: 0.207093, ewa inertia: 0.192801 \n",
      "Minibatch iteration 16/12715000: mean batch inertia: 0.170974, ewa inertia: 0.192784 \n",
      "Minibatch iteration 17/12715000: mean batch inertia: 0.268448, ewa inertia: 0.192843 \n",
      "Minibatch iteration 18/12715000: mean batch inertia: 0.170628, ewa inertia: 0.192826 \n",
      "Minibatch iteration 19/12715000: mean batch inertia: 0.176384, ewa inertia: 0.192813 \n",
      "[MiniBatchKMeans] Reassigning 50 cluster centers.\n",
      "Minibatch iteration 20/12715000: mean batch inertia: 0.224175, ewa inertia: 0.192838 \n",
      "Minibatch iteration 21/12715000: mean batch inertia: 0.260231, ewa inertia: 0.192891 \n",
      "Minibatch iteration 22/12715000: mean batch inertia: 0.198847, ewa inertia: 0.192895 \n",
      "Minibatch iteration 23/12715000: mean batch inertia: 0.240896, ewa inertia: 0.192933 \n",
      "Minibatch iteration 24/12715000: mean batch inertia: 0.215739, ewa inertia: 0.192951 \n",
      "Minibatch iteration 25/12715000: mean batch inertia: 0.165941, ewa inertia: 0.192930 \n",
      "Minibatch iteration 26/12715000: mean batch inertia: 0.172152, ewa inertia: 0.192914 \n",
      "Minibatch iteration 27/12715000: mean batch inertia: 0.231835, ewa inertia: 0.192944 \n",
      "Minibatch iteration 28/12715000: mean batch inertia: 0.311138, ewa inertia: 0.193037 \n",
      "Minibatch iteration 29/12715000: mean batch inertia: 0.176915, ewa inertia: 0.193024 \n",
      "[MiniBatchKMeans] Reassigning 50 cluster centers.\n",
      "Minibatch iteration 30/12715000: mean batch inertia: 0.183026, ewa inertia: 0.193017 \n",
      "Minibatch iteration 31/12715000: mean batch inertia: 0.192507, ewa inertia: 0.193016 \n",
      "Minibatch iteration 32/12715000: mean batch inertia: 0.202041, ewa inertia: 0.193023 \n",
      "Minibatch iteration 33/12715000: mean batch inertia: 0.221816, ewa inertia: 0.193046 \n",
      "Minibatch iteration 34/12715000: mean batch inertia: 0.205791, ewa inertia: 0.193056 \n",
      "Minibatch iteration 35/12715000: mean batch inertia: 0.170244, ewa inertia: 0.193038 \n",
      "Minibatch iteration 36/12715000: mean batch inertia: 0.241606, ewa inertia: 0.193076 \n",
      "Minibatch iteration 37/12715000: mean batch inertia: 0.269919, ewa inertia: 0.193137 \n",
      "Minibatch iteration 38/12715000: mean batch inertia: 0.208696, ewa inertia: 0.193149 \n",
      "Minibatch iteration 39/12715000: mean batch inertia: 0.338921, ewa inertia: 0.193264 \n",
      "[MiniBatchKMeans] Reassigning 50 cluster centers.\n",
      "Minibatch iteration 40/12715000: mean batch inertia: 0.214153, ewa inertia: 0.193280 \n",
      "Minibatch iteration 41/12715000: mean batch inertia: 0.204610, ewa inertia: 0.193289 \n",
      "Minibatch iteration 42/12715000: mean batch inertia: 0.252914, ewa inertia: 0.193336 \n",
      "Minibatch iteration 43/12715000: mean batch inertia: 0.181735, ewa inertia: 0.193327 \n",
      "Minibatch iteration 44/12715000: mean batch inertia: 0.155907, ewa inertia: 0.193297 \n",
      "Minibatch iteration 45/12715000: mean batch inertia: 0.129296, ewa inertia: 0.193247 \n",
      "Minibatch iteration 46/12715000: mean batch inertia: 0.190542, ewa inertia: 0.193245 \n",
      "Minibatch iteration 47/12715000: mean batch inertia: 0.167259, ewa inertia: 0.193224 \n",
      "Minibatch iteration 48/12715000: mean batch inertia: 0.282115, ewa inertia: 0.193294 \n",
      "Minibatch iteration 49/12715000: mean batch inertia: 0.170215, ewa inertia: 0.193276 \n",
      "[MiniBatchKMeans] Reassigning 50 cluster centers.\n",
      "Minibatch iteration 50/12715000: mean batch inertia: 0.158308, ewa inertia: 0.193249 \n",
      "Minibatch iteration 51/12715000: mean batch inertia: 0.162218, ewa inertia: 0.193224 \n",
      "Minibatch iteration 52/12715000: mean batch inertia: 0.184756, ewa inertia: 0.193218 \n",
      "Minibatch iteration 53/12715000: mean batch inertia: 0.169936, ewa inertia: 0.193199 \n",
      "Minibatch iteration 54/12715000: mean batch inertia: 0.199686, ewa inertia: 0.193204 \n",
      "Minibatch iteration 55/12715000: mean batch inertia: 0.251393, ewa inertia: 0.193250 \n",
      "Minibatch iteration 56/12715000: mean batch inertia: 0.164874, ewa inertia: 0.193228 \n",
      "Minibatch iteration 57/12715000: mean batch inertia: 0.221148, ewa inertia: 0.193250 \n",
      "Minibatch iteration 58/12715000: mean batch inertia: 0.212062, ewa inertia: 0.193265 \n",
      "Minibatch iteration 59/12715000: mean batch inertia: 0.192353, ewa inertia: 0.193264 \n",
      "[MiniBatchKMeans] Reassigning 50 cluster centers.\n",
      "Minibatch iteration 60/12715000: mean batch inertia: 0.170153, ewa inertia: 0.193246 \n",
      "Minibatch iteration 61/12715000: mean batch inertia: 0.214176, ewa inertia: 0.193262 \n",
      "Minibatch iteration 62/12715000: mean batch inertia: 0.216894, ewa inertia: 0.193281 \n",
      "Minibatch iteration 63/12715000: mean batch inertia: 0.161505, ewa inertia: 0.193256 \n",
      "Minibatch iteration 64/12715000: mean batch inertia: 0.192403, ewa inertia: 0.193255 \n",
      "Minibatch iteration 65/12715000: mean batch inertia: 0.193199, ewa inertia: 0.193255 \n",
      "Minibatch iteration 66/12715000: mean batch inertia: 0.128334, ewa inertia: 0.193204 \n",
      "Minibatch iteration 67/12715000: mean batch inertia: 0.181436, ewa inertia: 0.193195 \n",
      "Minibatch iteration 68/12715000: mean batch inertia: 0.202138, ewa inertia: 0.193202 \n",
      "Minibatch iteration 69/12715000: mean batch inertia: 0.180014, ewa inertia: 0.193191 \n",
      "[MiniBatchKMeans] Reassigning 50 cluster centers.\n",
      "Minibatch iteration 70/12715000: mean batch inertia: 0.293859, ewa inertia: 0.193271 \n",
      "Minibatch iteration 71/12715000: mean batch inertia: 0.219192, ewa inertia: 0.193291 \n",
      "Minibatch iteration 72/12715000: mean batch inertia: 0.257413, ewa inertia: 0.193341 \n",
      "Minibatch iteration 73/12715000: mean batch inertia: 0.190786, ewa inertia: 0.193339 \n",
      "Minibatch iteration 74/12715000: mean batch inertia: 0.214401, ewa inertia: 0.193356 \n",
      "Minibatch iteration 75/12715000: mean batch inertia: 0.191939, ewa inertia: 0.193355 \n",
      "Minibatch iteration 76/12715000: mean batch inertia: 0.219522, ewa inertia: 0.193375 \n",
      "Minibatch iteration 77/12715000: mean batch inertia: 0.287568, ewa inertia: 0.193450 \n",
      "Minibatch iteration 78/12715000: mean batch inertia: 0.220388, ewa inertia: 0.193471 \n",
      "Minibatch iteration 79/12715000: mean batch inertia: 0.252722, ewa inertia: 0.193517 \n",
      "[MiniBatchKMeans] Reassigning 50 cluster centers.\n",
      "Minibatch iteration 80/12715000: mean batch inertia: 0.210321, ewa inertia: 0.193531 \n",
      "Minibatch iteration 81/12715000: mean batch inertia: 0.351132, ewa inertia: 0.193655 \n",
      "Minibatch iteration 82/12715000: mean batch inertia: 0.242306, ewa inertia: 0.193693 \n",
      "Minibatch iteration 83/12715000: mean batch inertia: 0.280874, ewa inertia: 0.193761 \n",
      "Minibatch iteration 84/12715000: mean batch inertia: 0.175795, ewa inertia: 0.193747 \n",
      "Minibatch iteration 85/12715000: mean batch inertia: 0.191196, ewa inertia: 0.193745 \n",
      "Minibatch iteration 86/12715000: mean batch inertia: 0.179413, ewa inertia: 0.193734 \n",
      "Minibatch iteration 87/12715000: mean batch inertia: 0.181386, ewa inertia: 0.193724 \n",
      "Minibatch iteration 88/12715000: mean batch inertia: 0.157505, ewa inertia: 0.193696 \n",
      "Minibatch iteration 89/12715000: mean batch inertia: 0.263829, ewa inertia: 0.193751 \n",
      "[MiniBatchKMeans] Reassigning 50 cluster centers.\n",
      "Minibatch iteration 90/12715000: mean batch inertia: 0.219034, ewa inertia: 0.193771 \n",
      "Minibatch iteration 91/12715000: mean batch inertia: 0.186637, ewa inertia: 0.193765 \n",
      "Minibatch iteration 92/12715000: mean batch inertia: 0.254698, ewa inertia: 0.193813 \n",
      "Minibatch iteration 93/12715000: mean batch inertia: 0.114522, ewa inertia: 0.193751 \n",
      "Minibatch iteration 94/12715000: mean batch inertia: 0.163656, ewa inertia: 0.193727 \n",
      "Minibatch iteration 95/12715000: mean batch inertia: 0.169791, ewa inertia: 0.193708 \n",
      "Minibatch iteration 96/12715000: mean batch inertia: 0.179497, ewa inertia: 0.193697 \n",
      "Minibatch iteration 97/12715000: mean batch inertia: 0.231148, ewa inertia: 0.193727 \n",
      "Minibatch iteration 98/12715000: mean batch inertia: 0.264900, ewa inertia: 0.193783 \n",
      "[MiniBatchKMeans] Reassigning 50 cluster centers.\n",
      "Minibatch iteration 99/12715000: mean batch inertia: 0.280796, ewa inertia: 0.193851 \n",
      "Minibatch iteration 100/12715000: mean batch inertia: 0.177877, ewa inertia: 0.193838 \n",
      "Minibatch iteration 101/12715000: mean batch inertia: 0.141065, ewa inertia: 0.193797 \n",
      "Minibatch iteration 102/12715000: mean batch inertia: 0.209963, ewa inertia: 0.193810 \n",
      "Converged (lack of improvement in inertia) at iteration 102/12715000\n",
      "Computing label assignment and total inertia\n"
     ]
    },
    {
     "data": {
      "text/plain": [
       "MiniBatchKMeans(batch_size=100, compute_labels=True, init='k-means++',\n",
       "        init_size=5000, max_iter=5000, max_no_improvement=100,\n",
       "        n_clusters=1000, n_init=3, random_state=None,\n",
       "        reassignment_ratio=0.3, tol=0.0, verbose=1)"
      ]
     },
     "execution_count": 86,
     "metadata": {},
     "output_type": "execute_result"
    }
   ],
   "source": [
    "cluster = MiniBatchKMeans(n_clusters=1000, init_size=5000, verbose=1, max_iter=5000, \n",
    "                          max_no_improvement=100, reassignment_ratio=0.3)\n",
    "cluster.fit(X_svd)"
   ]
  },
  {
   "cell_type": "markdown",
   "metadata": {},
   "source": [
    "Метки кластеров для всех объектов в датасете лежат в cluster.labels_"
   ]
  },
  {
   "cell_type": "code",
   "execution_count": 87,
   "metadata": {},
   "outputs": [],
   "source": [
    "labels = cluster.labels_"
   ]
  },
  {
   "cell_type": "markdown",
   "metadata": {},
   "source": [
    "Давайте попробуем посчитать метрики "
   ]
  },
  {
   "cell_type": "code",
   "execution_count": 88,
   "metadata": {
    "scrolled": true
   },
   "outputs": [
    {
     "name": "stdout",
     "output_type": "stream",
     "text": [
      "Silhouette Coefficient: 0.105\n"
     ]
    }
   ],
   "source": [
    "print(\"Silhouette Coefficient: %0.3f\"\n",
    "      % metrics.silhouette_score(X[:10000], labels[:10000]))"
   ]
  },
  {
   "cell_type": "code",
   "execution_count": 89,
   "metadata": {},
   "outputs": [
    {
     "name": "stdout",
     "output_type": "stream",
     "text": [
      "Homogeneity: 0.561\n",
      "Completeness: 0.293\n",
      "V-measure: 0.385\n",
      "Adjusted Rand Index: 0.020\n",
      "Adjusted Mutual Information: 0.283\n"
     ]
    }
   ],
   "source": [
    "# эти три метрки что-то вроде точности, полноты и ф-меры для кластеризации\n",
    "print(\"Homogeneity: %0.3f\" % metrics.homogeneity_score(y, labels)) # проверяет, что в кластере объекты одного класса\n",
    "print(\"Completeness: %0.3f\" % metrics.completeness_score(y, labels)) # проверяет, что объекты класса только в одном кластере\n",
    "print(\"V-measure: %0.3f\" % metrics.v_measure_score(y, labels)) # превращает обе метрики в одну \n",
    "\n",
    "print(\"Adjusted Rand Index: %0.3f\"\n",
    "      % metrics.adjusted_rand_score(y, labels))\n",
    "print(\"Adjusted Mutual Information: %0.3f\"\n",
    "      % metrics.adjusted_mutual_info_score(y, labels))"
   ]
  },
  {
   "cell_type": "code",
   "execution_count": null,
   "metadata": {},
   "outputs": [],
   "source": []
  },
  {
   "cell_type": "markdown",
   "metadata": {},
   "source": [
    "## Как найти отптимальное количество кластеров?"
   ]
  },
  {
   "cell_type": "markdown",
   "metadata": {},
   "source": [
    "Такой вопрос часто задают на собеседованиях. Правильный ответ - методом локтя. Нужно перебрать разные значения количества кластеров и посчитать какую-то метрику. Затем нарисовать график или просто посмотреть на числа - оптимально выбрать число кластеров, после которого метрика перестала улучшаться (или даже стала ухудшаться). На графике это выглядит как локоть, поэтому так и называется"
   ]
  },
  {
   "cell_type": "code",
   "execution_count": 90,
   "metadata": {},
   "outputs": [],
   "source": [
    "from tqdm import tqdm\n",
    "import numpy as np\n",
    "%matplotlib inline\n",
    "import matplotlib.pyplot as plt"
   ]
  },
  {
   "cell_type": "code",
   "execution_count": 91,
   "metadata": {},
   "outputs": [],
   "source": [
    "sample = data.sample(frac=0.1)"
   ]
  },
  {
   "cell_type": "code",
   "execution_count": 92,
   "metadata": {},
   "outputs": [
    {
     "data": {
      "text/plain": [
       "(25422, 2)"
      ]
     },
     "execution_count": 92,
     "metadata": {},
     "output_type": "execute_result"
    }
   ],
   "source": [
    "sample.shape"
   ]
  },
  {
   "cell_type": "code",
   "execution_count": 93,
   "metadata": {},
   "outputs": [],
   "source": [
    "cv = CountVectorizer(max_features=1000)\n",
    "svd = TruncatedSVD(50)\n",
    "X = cv.fit_transform(sample['title'])\n",
    "X_svd = svd.fit_transform(X)\n"
   ]
  },
  {
   "cell_type": "code",
   "execution_count": 94,
   "metadata": {},
   "outputs": [
    {
     "data": {
      "text/plain": [
       "(25422, 1000)"
      ]
     },
     "execution_count": 94,
     "metadata": {},
     "output_type": "execute_result"
    }
   ],
   "source": [
    "X.shape"
   ]
  },
  {
   "cell_type": "code",
   "execution_count": 95,
   "metadata": {},
   "outputs": [
    {
     "name": "stderr",
     "output_type": "stream",
     "text": [
      "100%|██████████| 60/60 [06:32<00:00,  6.54s/it]\n"
     ]
    }
   ],
   "source": [
    "scores = []\n",
    "# tqdm._instances.clear()\n",
    "for i in tqdm(range(5, 3000, 50)):\n",
    "    cluster = MiniBatchKMeans(n_clusters=i, init_size=i*3)\n",
    "    cluster.fit(X)\n",
    "    # силуэты считать на всех данных считать долго\n",
    "    # можно взять внутреннюю метрику кминса\n",
    "    # она большая, поэтому можно взять корень\n",
    "    scores.append(np.sqrt(cluster.inertia_))"
   ]
  },
  {
   "cell_type": "code",
   "execution_count": 96,
   "metadata": {},
   "outputs": [
    {
     "data": {
      "text/plain": [
       "[<matplotlib.lines.Line2D at 0x140f8ab00>]"
      ]
     },
     "execution_count": 96,
     "metadata": {},
     "output_type": "execute_result"
    },
    {
     "data": {
      "image/png": "[encoded data removed]",
      "text/plain": [
       "<Figure size 864x360 with 1 Axes>"
      ]
     },
     "metadata": {
      "needs_background": "light"
     },
     "output_type": "display_data"
    }
   ],
   "source": [
    "plt.figure(figsize=(12, 5))\n",
    "plt.plot(list(range(5, 3000, 50)), scores)"
   ]
  },
  {
   "cell_type": "markdown",
   "metadata": {},
   "source": [
    "В реальности метод локтя работает так себе (где на картинке локоть сказать сложно). И честным ответом на \"как найти оптимальное количество кластеров\" будет - а спросите что-нибудь попроще."
   ]
  },
  {
   "cell_type": "markdown",
   "metadata": {},
   "source": [
    "## Домашнее задание"
   ]
  },
  {
   "cell_type": "markdown",
   "metadata": {},
   "source": [
    "1. На нескольких алгоритмах кластеризации, умеющих работать с sparse матрицами, проверьте, что работает лучше Count_Vectorizer или TfidfVectorizer (попробуйте выжать максимум из каждого - попробуйте нграммы, символьные нграммы, разные значения max_features и min_df) (3 балла)\n",
    "\n",
    "2. На нескольких алгоритмах кластеризации проверьте, какое матричное разложение (TruncatedSVD или NMF) работает лучше для кластеризации. (3 балла)\n",
    "\n",
    "3. С помощью алгоритмов, умеющих выделять выбросы, попробуйте найти необычные объявления (необычные - это такие, которые непонятно к какой категории можно вообще отнести, что-то с ошибками или вообще какая-то дичь). В этом задании можно использовать любую векторизацию. (4 балла)\n",
    "\n",
    "Используйте те же данные, что и в семинаре (колонки - title и category_name)\n",
    "\n",
    "Делайте соответствующие вашими ресурсам и потребностям алгоритма подвыборки из всего датасета. Для сравнения используйте любую из метрик, которые есть в семинаре. Оценивать на глаз тоже можно, но тогда нужно объяснить, почему вы считаете одну кластеризацию лучше. \n",
    "\n",
    "НЕ ЗАБЫВАЙТЕ подбирать параметры в кластеризации. **За использование всех параметров по умолчанию, оценка будет снижаться** (под использованием всех параметров по умолчанию я имею в виду что-то такое -  `cluster = DBSCAN()`) \n",
    "\n",
    "Если получится, используйте метод локтя. (1 бонусный балл)"
   ]
  },
  {
   "cell_type": "code",
   "execution_count": null,
   "metadata": {},
   "outputs": [],
   "source": []
  }
 ],
 "metadata": {
  "kernelspec": {
   "display_name": "Python 3",
   "language": "python",
   "name": "python3"
  },
  "language_info": {
   "codemirror_mode": {
    "name": "ipython",
    "version": 3
   },
   "file_extension": ".py",
   "mimetype": "text/x-python",
   "name": "python",
   "nbconvert_exporter": "python",
   "pygments_lexer": "ipython3",
   "version": "3.7.2"
  }
 },
 "nbformat": 4,
 "nbformat_minor": 4
}
