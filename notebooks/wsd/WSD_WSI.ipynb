{
 "cells": [
  {
   "cell_type": "markdown",
   "metadata": {},
   "source": [
    "# Word Sense Disambiguation (снятие лексической неоднозначности слов) и Word Sense Induction (нахождение значений слова)"
   ]
  },
  {
   "cell_type": "markdown",
   "metadata": {},
   "source": [
    "WSD и WSI  - это связанные задачи про определение значений, в которых употребляются слова. WSI занимается определением возможных значений слова, а WSD нужна для того, чтобы определить, в каком из имеющихся значений слово употреблено в тексте. \n",
    "\n",
    "Основное предположение, на котором строятся все модели для снятия и определения неоднозначности - значение определяется в контексте (отличие от эмбедингов в том, что тут имеется в виду конкретный контекст и конкретное значение, а не набор всех контекстов и общее значение=смысл слова). \n",
    "\n",
    "На практике WSD/WSI применяются достаточно редко. Современные модели (вроде BERT) используют фиксированные эмбединги для отдельных слов и преобразуют их в зависимости от контекста. Преобразованные (контекстуализированные) эмбединги удобно использовать для предсказания (именованных сущностей, частей речи, перевода), но из них нельзя вытащить информацию о том, сколько значений есть у слова. А это может требоваться в специфичных лингвистических задачах.   "
   ]
  },
  {
   "cell_type": "markdown",
   "metadata": {},
   "source": [
    "Готовых инстурментов тоже не очень много и они малоизвестные. В семинаре мы попробуем одну библиотеку - adagram."
   ]
  },
  {
   "cell_type": "code",
   "execution_count": 5,
   "metadata": {
    "scrolled": true
   },
   "outputs": [
    {
     "name": "stdout",
     "output_type": "stream",
     "text": [
      "Requirement already satisfied: Cython in /Users/mnefedov/.pyenv/versions/3.7.2/lib/python3.7/site-packages (0.29.26)\n",
      "Requirement already satisfied: numpy in /Users/mnefedov/.pyenv/versions/3.7.2/lib/python3.7/site-packages (1.21.4)\n",
      "\u001b[33mWARNING: You are using pip version 21.0.1; however, version 21.3.1 is available.\n",
      "You should consider upgrading via the '/Users/mnefedov/.pyenv/versions/3.7.2/bin/python3.7 -m pip install --upgrade pip' command.\u001b[0m\n",
      "Collecting git+https://github.com/lopuhin/python-adagram.git\n",
      "  Cloning https://github.com/lopuhin/python-adagram.git to /private/var/folders/sw/k25rhtrn2psc2hztd0t4tqmh0000gn/T/pip-req-build-eg0pqctv\n",
      "  Running command git clone -q https://github.com/lopuhin/python-adagram.git /private/var/folders/sw/k25rhtrn2psc2hztd0t4tqmh0000gn/T/pip-req-build-eg0pqctv\n",
      "Requirement already satisfied: cython in /Users/mnefedov/.pyenv/versions/3.7.2/lib/python3.7/site-packages (from adagram==0.0.1) (0.29.26)\n",
      "Requirement already satisfied: joblib in /Users/mnefedov/.pyenv/versions/3.7.2/lib/python3.7/site-packages (from adagram==0.0.1) (1.0.1)\n",
      "Requirement already satisfied: numpy>=1.9 in /Users/mnefedov/.pyenv/versions/3.7.2/lib/python3.7/site-packages (from adagram==0.0.1) (1.21.4)\n",
      "Requirement already satisfied: six in /Users/mnefedov/.pyenv/versions/3.7.2/lib/python3.7/site-packages (from adagram==0.0.1) (1.15.0)\n",
      "Building wheels for collected packages: adagram\n",
      "  Building wheel for adagram (setup.py) ... \u001b[?25ldone\n",
      "\u001b[?25h  Created wheel for adagram: filename=adagram-0.0.1-cp37-cp37m-macosx_11_0_x86_64.whl size=220772 sha256=a6542ad6fc1d4e2cd04111ee3b13451732f899d51fa38f60cececdf0ed3eaad8\n",
      "  Stored in directory: /private/var/folders/sw/k25rhtrn2psc2hztd0t4tqmh0000gn/T/pip-ephem-wheel-cache-z4lmd6fh/wheels/5a/8c/f9/7dee902dd325a3317e768f126aa6f7aa085c79a6e763ed2cb8\n",
      "Successfully built adagram\n",
      "Installing collected packages: adagram\n",
      "Successfully installed adagram-0.0.1\n",
      "\u001b[33mWARNING: You are using pip version 21.0.1; however, version 21.3.1 is available.\n",
      "You should consider upgrading via the '/Users/mnefedov/.pyenv/versions/3.7.2/bin/python3.7 -m pip install --upgrade pip' command.\u001b[0m\n"
     ]
    }
   ],
   "source": [
    "!pip install Cython numpy\n",
    "!pip install git+https://github.com/lopuhin/python-adagram.git"
   ]
  },
  {
   "cell_type": "code",
   "execution_count": 7,
   "metadata": {},
   "outputs": [
    {
     "name": "stdout",
     "output_type": "stream",
     "text": [
      "Collecting lxml\n",
      "  Downloading lxml-4.7.1-cp37-cp37m-macosx_10_14_x86_64.whl (4.5 MB)\n",
      "\u001b[K     |████████████████████████████████| 4.5 MB 2.8 MB/s eta 0:00:01\n",
      "\u001b[?25hInstalling collected packages: lxml\n",
      "Successfully installed lxml-4.7.1\n",
      "\u001b[33mWARNING: You are using pip version 21.0.1; however, version 21.3.1 is available.\n",
      "You should consider upgrading via the '/Users/mnefedov/.pyenv/versions/3.7.2/bin/python3.7 -m pip install --upgrade pip' command.\u001b[0m\n"
     ]
    }
   ],
   "source": [
    "!pip install lxml"
   ]
  },
  {
   "cell_type": "code",
   "execution_count": 56,
   "metadata": {},
   "outputs": [],
   "source": [
    "import adagram\n",
    "from lxml import html\n",
    "from nltk.tokenize import word_tokenize\n",
    "from nltk.corpus import stopwords\n",
    "from nltk.corpus import wordnet as wn\n",
    "from pymorphy2 import MorphAnalyzer\n",
    "from string import punctuation\n",
    "import json, os, re, sys\n",
    "from collections import Counter\n",
    "import numpy as np\n",
    "from razdel import tokenize as razdel_tokenize\n",
    "from matplotlib import pyplot as plt\n",
    "import gensim\n",
    "import pandas as pd\n",
    "from sklearn.metrics import adjusted_rand_score\n",
    "import tqdm\n",
    "from sklearn.metrics import f1_score\n",
    "from sklearn.ensemble import RandomForestClassifier\n",
    "from sklearn.linear_model import LogisticRegression\n",
    "from sklearn.model_selection import cross_val_score\n",
    "from sklearn.metrics import classification_report\n",
    "from sklearn.model_selection import KFold\n",
    "\n",
    "\n",
    "%matplotlib inline\n",
    "import warnings\n",
    "warnings.filterwarnings('ignore')\n",
    "morph = MorphAnalyzer()\n",
    "punct = punctuation+'«»—…“”*№–'\n",
    "stops = set(stopwords.words('russian'))\n",
    "\n",
    "def normalize(text):\n",
    "    \n",
    "    words = [token.text.strip(punct) for token in list(razdel_tokenize(text))]\n",
    "    words = [morph.parse(word)[0].normal_form for word in words if word and word not in stops]\n",
    "\n",
    "    return words\n"
   ]
  },
  {
   "cell_type": "markdown",
   "metadata": {},
   "source": [
    "## Адаграм"
   ]
  },
  {
   "cell_type": "markdown",
   "metadata": {},
   "source": [
    "Word2Vec и Fasttext каждому слову (или буквенному нграму) сопоставляют 1 вектор. Это значит, что у каждого слова в векторном пространстве только 1 значение. У многозначных слов векторы будут просто каким-то усреднением или обобщением всех его значений. "
   ]
  },
  {
   "cell_type": "markdown",
   "metadata": {},
   "source": [
    "В работе https://arxiv.org/pdf/1502.07257.pdf предлагается способ улучшить Skip Gram, так чтобы каждому слову сопостовлялось K различных векторов, так что каждый из них представляет какое-то из его значений. При этом сам параметр K задавать не нужно, модель сама находит нужное количество \"значений\" для каждого слова (т.е. делает WSI). Обученная модель определяет вероятности значений слова для заданного контекста и выдает вектор наиболее вероятного (т.е. делает WSD)"
   ]
  },
  {
   "cell_type": "markdown",
   "metadata": {},
   "source": [
    "Изначально этот  подход реализован на julia, но есть реализация на питоне - https://github.com/lopuhin/python-adagram"
   ]
  },
  {
   "cell_type": "markdown",
   "metadata": {},
   "source": [
    "Обучается адаграм через командную строку."
   ]
  },
  {
   "cell_type": "markdown",
   "metadata": {},
   "source": [
    "Возьмем небольшой корпус вики. Нормализуем."
   ]
  },
  {
   "cell_type": "code",
   "execution_count": 12,
   "metadata": {},
   "outputs": [],
   "source": [
    "corpus = open('wiki_data.txt').read()\n",
    "corpus = normalize(corpus)"
   ]
  },
  {
   "cell_type": "code",
   "execution_count": 13,
   "metadata": {},
   "outputs": [
    {
     "data": {
      "text/plain": [
       "['новостройка',\n",
       " 'нижегородский',\n",
       " 'область',\n",
       " 'новостро́йка',\n",
       " 'сельский',\n",
       " 'посёлок',\n",
       " 'дивеевский',\n",
       " 'район',\n",
       " 'нижегородский',\n",
       " 'область']"
      ]
     },
     "execution_count": 13,
     "metadata": {},
     "output_type": "execute_result"
    }
   ],
   "source": [
    "corpus[:10]"
   ]
  },
  {
   "cell_type": "markdown",
   "metadata": {},
   "source": [
    "И положим одним куском в файл."
   ]
  },
  {
   "cell_type": "code",
   "execution_count": 14,
   "metadata": {},
   "outputs": [],
   "source": [
    "f = open('corpus.txt', 'w')\n",
    "f.write(' '.join(corpus))\n",
    "f.close()"
   ]
  },
  {
   "cell_type": "markdown",
   "metadata": {},
   "source": [
    "Обучим модель (обучается достаточно долго)"
   ]
  },
  {
   "cell_type": "code",
   "execution_count": 15,
   "metadata": {
    "scrolled": true
   },
   "outputs": [
    {
     "name": "stdout",
     "output_type": "stream",
     "text": [
      "[INFO] 2022-01-26 11:15:52,378 Building dictionary...\n",
      "[INFO] 2022-01-26 11:21:31,472 Done! 29513 words.\n",
      "[INFO] 2022-01-26 11:27:14,979 1.75% -8.3891 0.0246 1.2/2.0 0.19 kwords/sec\n",
      "[INFO] 2022-01-26 11:27:17,246 3.51% -8.1752 0.0241 1.3/3.0 28.22 kwords/sec\n",
      "[INFO] 2022-01-26 11:27:19,442 5.26% -7.9792 0.0237 1.3/3.0 29.15 kwords/sec\n",
      "[INFO] 2022-01-26 11:27:21,522 7.02% -7.8107 0.0232 1.4/4.0 30.78 kwords/sec\n",
      "[INFO] 2022-01-26 11:27:23,549 8.77% -7.6608 0.0228 1.4/5.0 31.56 kwords/sec\n",
      "[INFO] 2022-01-26 11:27:25,525 10.52% -7.5241 0.0224 1.5/5.0 32.40 kwords/sec\n",
      "[INFO] 2022-01-26 11:27:27,496 12.28% -7.3983 0.0219 1.5/5.0 32.46 kwords/sec\n",
      "[INFO] 2022-01-26 11:27:29,625 14.03% -7.2825 0.0215 1.6/5.0 30.07 kwords/sec\n",
      "[INFO] 2022-01-26 11:27:31,818 15.79% -7.1759 0.0211 1.6/5.0 29.18 kwords/sec\n",
      "[INFO] 2022-01-26 11:27:34,136 17.54% -7.0781 0.0206 1.6/5.0 27.61 kwords/sec\n",
      "[INFO] 2022-01-26 11:27:36,544 19.30% -6.9884 0.0202 1.6/5.0 26.59 kwords/sec\n",
      "[INFO] 2022-01-26 11:27:38,575 21.05% -6.9060 0.0197 1.6/5.0 31.51 kwords/sec\n",
      "[INFO] 2022-01-26 11:27:40,534 22.80% -6.8305 0.0193 1.6/5.0 32.66 kwords/sec\n",
      "[INFO] 2022-01-26 11:27:42,474 24.56% -6.7611 0.0189 1.6/5.0 33.00 kwords/sec\n",
      "[INFO] 2022-01-26 11:27:44,439 26.31% -6.6973 0.0184 1.6/5.0 32.56 kwords/sec\n",
      "[INFO] 2022-01-26 11:27:46,389 28.07% -6.6384 0.0180 1.6/5.0 32.83 kwords/sec\n",
      "[INFO] 2022-01-26 11:27:48,340 29.82% -6.5840 0.0175 1.6/5.0 32.81 kwords/sec\n",
      "[INFO] 2022-01-26 11:27:50,516 31.57% -6.5336 0.0171 1.6/5.0 29.41 kwords/sec\n",
      "[INFO] 2022-01-26 11:27:52,838 33.33% -6.4869 0.0167 1.6/5.0 27.56 kwords/sec\n",
      "[INFO] 2022-01-26 11:27:55,173 35.08% -6.4434 0.0162 1.6/5.0 27.41 kwords/sec\n",
      "[INFO] 2022-01-26 11:27:58,337 36.84% -6.4028 0.0158 1.6/5.0 20.23 kwords/sec\n",
      "[INFO] 2022-01-26 11:28:00,881 38.59% -6.3648 0.0154 1.6/5.0 25.16 kwords/sec\n",
      "[INFO] 2022-01-26 11:28:03,015 40.35% -6.3293 0.0149 1.6/5.0 29.99 kwords/sec\n",
      "[INFO] 2022-01-26 11:28:05,211 42.10% -6.2959 0.0145 1.6/5.0 29.14 kwords/sec\n",
      "[INFO] 2022-01-26 11:28:07,769 43.85% -6.2645 0.0140 1.6/5.0 25.03 kwords/sec\n",
      "[INFO] 2022-01-26 11:28:10,010 45.61% -6.2349 0.0136 1.6/5.0 28.55 kwords/sec\n",
      "[INFO] 2022-01-26 11:28:12,032 47.36% -6.2070 0.0132 1.6/5.0 31.65 kwords/sec\n",
      "[INFO] 2022-01-26 11:28:14,090 49.12% -6.1805 0.0127 1.6/5.0 31.10 kwords/sec\n",
      "[INFO] 2022-01-26 11:28:16,713 50.87% -6.1555 0.0123 1.6/5.0 24.40 kwords/sec\n",
      "[INFO] 2022-01-26 11:28:19,214 52.62% -6.1317 0.0118 1.6/5.0 25.59 kwords/sec\n",
      "[INFO] 2022-01-26 11:28:21,160 54.38% -6.1091 0.0114 1.6/5.0 32.89 kwords/sec\n",
      "[INFO] 2022-01-26 11:28:23,005 56.13% -6.0875 0.0110 1.6/5.0 34.69 kwords/sec\n",
      "[INFO] 2022-01-26 11:28:24,878 57.89% -6.0670 0.0105 1.6/5.0 34.16 kwords/sec\n",
      "[INFO] 2022-01-26 11:28:26,825 59.64% -6.0474 0.0101 1.6/5.0 32.88 kwords/sec\n",
      "[INFO] 2022-01-26 11:28:28,977 61.40% -6.0287 0.0097 1.6/5.0 29.74 kwords/sec\n",
      "[INFO] 2022-01-26 11:28:31,146 63.15% -6.0108 0.0092 1.6/5.0 29.51 kwords/sec\n",
      "[INFO] 2022-01-26 11:28:33,298 64.90% -5.9936 0.0088 1.6/5.0 29.73 kwords/sec\n",
      "[INFO] 2022-01-26 11:28:35,400 66.66% -5.9772 0.0083 1.6/5.0 30.45 kwords/sec\n",
      "[INFO] 2022-01-26 11:28:37,639 68.41% -5.9614 0.0079 1.6/5.0 28.59 kwords/sec\n",
      "[INFO] 2022-01-26 11:28:39,497 70.17% -5.9462 0.0075 1.6/5.0 34.44 kwords/sec\n",
      "[INFO] 2022-01-26 11:28:41,373 71.92% -5.9317 0.0070 1.6/5.0 34.12 kwords/sec\n",
      "[INFO] 2022-01-26 11:28:43,192 73.67% -5.9177 0.0066 1.6/5.0 35.17 kwords/sec\n",
      "[INFO] 2022-01-26 11:28:45,028 75.43% -5.9042 0.0061 1.6/5.0 34.86 kwords/sec\n",
      "[INFO] 2022-01-26 11:28:46,848 77.18% -5.8913 0.0057 1.6/5.0 35.16 kwords/sec\n",
      "[INFO] 2022-01-26 11:28:48,877 78.94% -5.8788 0.0053 1.6/5.0 31.55 kwords/sec\n",
      "[INFO] 2022-01-26 11:28:51,005 80.69% -5.8668 0.0048 1.6/5.0 30.08 kwords/sec\n",
      "[INFO] 2022-01-26 11:28:53,184 82.45% -5.8552 0.0044 1.6/5.0 29.36 kwords/sec\n",
      "[INFO] 2022-01-26 11:28:55,276 84.20% -5.8441 0.0040 1.6/5.0 30.59 kwords/sec\n",
      "[INFO] 2022-01-26 11:28:57,050 85.95% -5.8334 0.0035 1.6/5.0 36.09 kwords/sec\n",
      "[INFO] 2022-01-26 11:28:58,949 87.71% -5.8231 0.0031 1.6/5.0 33.70 kwords/sec\n",
      "[INFO] 2022-01-26 11:29:00,849 89.46% -5.8132 0.0026 1.6/5.0 33.68 kwords/sec\n",
      "[INFO] 2022-01-26 11:29:02,672 91.22% -5.8037 0.0022 1.6/5.0 35.10 kwords/sec\n",
      "[INFO] 2022-01-26 11:29:04,573 92.97% -5.7946 0.0018 1.6/5.0 33.67 kwords/sec\n",
      "[INFO] 2022-01-26 11:29:06,333 94.72% -5.7859 0.0013 1.6/5.0 36.38 kwords/sec\n",
      "[INFO] 2022-01-26 11:29:08,078 96.48% -5.7775 0.0009 1.6/5.0 36.67 kwords/sec\n",
      "[INFO] 2022-01-26 11:29:09,922 98.23% -5.7697 0.0004 1.6/5.0 34.71 kwords/sec\n",
      "[INFO] 2022-01-26 11:29:11,759 99.99% -5.7622 0.0000 1.6/5.0 34.85 kwords/sec\n",
      "[INFO] 2022-01-26 11:29:11,779 100.00% -5.7623 0.0000 1.6/5.0 24.30 kwords/sec\n"
     ]
    }
   ],
   "source": [
    "!adagram-train corpus.txt out.pkl"
   ]
  },
  {
   "cell_type": "markdown",
   "metadata": {},
   "source": [
    "Обученная модель загружается вот так."
   ]
  },
  {
   "cell_type": "code",
   "execution_count": 16,
   "metadata": {},
   "outputs": [],
   "source": [
    "vm = adagram.VectorModel.load(\"out.pkl\")"
   ]
  },
  {
   "cell_type": "code",
   "execution_count": 31,
   "metadata": {},
   "outputs": [
    {
     "name": "stdout",
     "output_type": "stream",
     "text": [
      "--2022-01-26 11:36:16--  https://s3.amazonaws.com/kostia.lopuhin/all.a010.p10.d300.w5.m100.nonorm.slim.joblib\n",
      "Распознаётся s3.amazonaws.com (s3.amazonaws.com)… 52.216.104.85\n",
      "Подключение к s3.amazonaws.com (s3.amazonaws.com)|52.216.104.85|:443... соединение установлено.\n",
      "HTTP-запрос отправлен. Ожидание ответа… 200 OK\n",
      "Длина: 1462416741 (1,4G) [application/x-www-form-urlencoded]\n",
      "Сохранение в: «all.a010.p10.d300.w5.m100.nonorm.slim.joblib»\n",
      "\n",
      "all.a010.p10.d300.w 100%[===================>]   1,36G   114KB/s    за 97m 51s \n",
      "\n",
      "2022-01-26 13:14:08 (243 KB/s) - «all.a010.p10.d300.w5.m100.nonorm.slim.joblib» сохранён [1462416741/1462416741]\n",
      "\n"
     ]
    }
   ],
   "source": [
    "# модель обученная на большом корпусе (острожно 1.5 гб)\n",
    "# !wget 'https://s3.amazonaws.com/kostia.lopuhin/all.a010.p10.d300.w5.m100.nonorm.slim.joblib'\n",
    "vm = adagram.VectorModel.load('all.a010.p10.d300.w5.m100.nonorm.slim.joblib')"
   ]
  },
  {
   "cell_type": "markdown",
   "metadata": {},
   "source": [
    "Посмотрим на значения каких-нибудь слов."
   ]
  },
  {
   "cell_type": "code",
   "execution_count": 35,
   "metadata": {},
   "outputs": [
    {
     "data": {
      "text/plain": [
       "[(0, 0.06268646203840206),\n",
       " (1, 0.20436841565195035),\n",
       " (2, 0.28245536273741867),\n",
       " (3, 0.4499986631679041)]"
      ]
     },
     "execution_count": 35,
     "metadata": {},
     "output_type": "execute_result"
    }
   ],
   "source": [
    "vm.word_sense_probs('мир')\n",
    "# возвращается список туплов, где первая цифра - номер значения, а вторая - вероятность (распространенность) этого значения"
   ]
  },
  {
   "cell_type": "markdown",
   "metadata": {},
   "source": [
    "Посмотрим какие слова близки к каждому из значений."
   ]
  },
  {
   "cell_type": "code",
   "execution_count": 192,
   "metadata": {},
   "outputs": [
    {
     "data": {
      "text/plain": [
       "[('европа', 0, 0.86309934),\n",
       " ('азия', 0, 0.78430116),\n",
       " ('юниор', 0, 0.75505394),\n",
       " ('россия', 3, 0.7537),\n",
       " ('призерка', 0, 0.74310327),\n",
       " ('юниорский', 0, 0.72926927),\n",
       " ('победитель', 0, 0.72810775),\n",
       " ('командный', 0, 0.72130823),\n",
       " ('победительница', 0, 0.7165182),\n",
       " ('среди', 4, 0.7144474)]"
      ]
     },
     "execution_count": 192,
     "metadata": {},
     "output_type": "execute_result"
    }
   ],
   "source": [
    "vm.sense_neighbors('мир', 0) # первое значение слова мир"
   ]
  },
  {
   "cell_type": "code",
   "execution_count": 38,
   "metadata": {},
   "outputs": [
    {
     "data": {
      "text/plain": [
       "[('реальность', 1, 0.73328036),\n",
       " ('космос', 2, 0.7112729),\n",
       " ('действительность', 2, 0.7024969),\n",
       " ('восприятие', 1, 0.6677514),\n",
       " ('единство', 0, 0.6616055),\n",
       " ('универсум', 0, 0.65104866),\n",
       " ('природа', 0, 0.6396402),\n",
       " ('жизнь', 3, 0.6382615),\n",
       " ('бытие', 1, 0.6363367),\n",
       " ('ноуменальный', 0, 0.63162166)]"
      ]
     },
     "execution_count": 38,
     "metadata": {},
     "output_type": "execute_result"
    }
   ],
   "source": [
    "vm.sense_neighbors('мир', 2) # второе"
   ]
  },
  {
   "cell_type": "markdown",
   "metadata": {},
   "source": [
    "Чтобы не гадать, можно посмотреть на все слова у которых есть хотя бы 2 устойчивых значения."
   ]
  },
  {
   "cell_type": "code",
   "execution_count": 41,
   "metadata": {},
   "outputs": [],
   "source": [
    "ambiguous = []\n",
    "for word in vm.dictionary.id2word:\n",
    "    if len(word) < 6:\n",
    "        continue\n",
    "    probs = vm.word_sense_probs(word)\n",
    "    if len(probs) > 1 and probs[0][1] < 0.8: # второе условие нужно, чтоб выкинуть слова с не очень сильным вторым значением\n",
    "        ambiguous.append(word)"
   ]
  },
  {
   "cell_type": "code",
   "execution_count": 42,
   "metadata": {
    "scrolled": true
   },
   "outputs": [
    {
     "data": {
      "text/plain": [
       "['который',\n",
       " 'человек',\n",
       " 'только',\n",
       " 'другой',\n",
       " 'становиться',\n",
       " 'сказать',\n",
       " 'первый',\n",
       " 'говорить',\n",
       " 'работа',\n",
       " 'хотеть']"
      ]
     },
     "execution_count": 42,
     "metadata": {},
     "output_type": "execute_result"
    }
   ],
   "source": [
    "ambiguous[:10]"
   ]
  },
  {
   "cell_type": "markdown",
   "metadata": {},
   "source": [
    "Определить значение по контексту можно вот так:"
   ]
  },
  {
   "cell_type": "code",
   "execution_count": 43,
   "metadata": {},
   "outputs": [
    {
     "data": {
      "text/plain": [
       "array([2.14328237e-05, 1.11974898e-02, 8.70955672e-01, 1.17825405e-01,\n",
       "       0.00000000e+00, 0.00000000e+00, 0.00000000e+00, 0.00000000e+00,\n",
       "       0.00000000e+00, 0.00000000e+00])"
      ]
     },
     "execution_count": 43,
     "metadata": {},
     "output_type": "execute_result"
    }
   ],
   "source": [
    "vm.disambiguate(\"мир\", ['реальность', \"космос\"]) # выдает вероятности"
   ]
  },
  {
   "cell_type": "code",
   "execution_count": 44,
   "metadata": {},
   "outputs": [
    {
     "data": {
      "text/plain": [
       "2"
      ]
     },
     "execution_count": 44,
     "metadata": {},
     "output_type": "execute_result"
    }
   ],
   "source": [
    "# достаем номер самого вероятного значения\n",
    "vm.disambiguate(\"мир\", ['существование', \"космический\"]).argmax()"
   ]
  },
  {
   "cell_type": "markdown",
   "metadata": {},
   "source": [
    "А вектор нужно смысла можно достать вот так:"
   ]
  },
  {
   "cell_type": "code",
   "execution_count": 45,
   "metadata": {},
   "outputs": [],
   "source": [
    "v = vm.sense_vector(\"мир\", 0)"
   ]
  },
  {
   "cell_type": "code",
   "execution_count": 46,
   "metadata": {
    "scrolled": true
   },
   "outputs": [
    {
     "data": {
      "text/plain": [
       "array([ 4.37387705e-01, -4.17701691e-01, -1.68972075e-01, -1.31608978e-01,\n",
       "       -3.58765095e-01, -2.69918740e-01,  8.17285478e-02, -2.88361549e-01,\n",
       "       -7.78897524e-01, -1.07620642e-01,  4.13761586e-01,  2.00120255e-01,\n",
       "       -2.17124864e-01,  1.69630170e-01, -6.04783855e-02, -2.85457760e-01,\n",
       "        2.45123908e-01, -2.58435696e-01, -2.93894112e-01,  3.84041101e-01,\n",
       "       -1.48722053e-01, -3.67544800e-01,  4.83283289e-02, -1.93067133e-01,\n",
       "        1.07686751e-01,  4.84683551e-02,  2.33559936e-01,  2.47575402e-01,\n",
       "        1.77351832e-01,  5.35611570e-01, -9.10755098e-02,  7.43860304e-01,\n",
       "       -4.04182345e-01,  4.39577013e-01,  1.00546956e-01,  2.84698576e-01,\n",
       "        6.52314723e-02,  2.96857178e-01,  2.65073836e-01, -2.53373921e-01,\n",
       "       -4.76764947e-01,  1.24576494e-01,  2.38348663e-01, -2.84977645e-01,\n",
       "       -2.37765592e-02,  1.86345071e-01,  4.95471507e-02, -9.81912091e-02,\n",
       "       -3.34809333e-01, -2.25521475e-01, -7.94327259e-02, -2.49491557e-01,\n",
       "        4.76329505e-01,  2.44226515e-01,  5.66449910e-02,  1.19256554e-02,\n",
       "        8.09801072e-02, -3.08680296e-01,  1.88337922e-01, -3.87160152e-01,\n",
       "       -5.25988400e-01, -3.61683667e-01,  2.06151269e-02, -1.43003136e-01,\n",
       "       -6.82243630e-02, -8.10354203e-02, -7.99031034e-02,  4.97534633e-01,\n",
       "        2.29470670e-01,  7.78004155e-02, -3.36135864e-01, -1.90396875e-01,\n",
       "       -4.94896322e-01, -2.40504742e-01, -1.74121618e-01,  3.00958026e-02,\n",
       "       -1.49656430e-01, -3.66989732e-01,  2.89615870e-01, -5.16057253e-01,\n",
       "        6.75411448e-02, -6.96494244e-03, -1.14449777e-01, -1.16137967e-01,\n",
       "       -1.16999231e-01,  1.60731271e-01,  7.22016990e-02, -3.86740535e-01,\n",
       "        3.99374872e-01, -2.08080515e-01,  3.38177979e-01, -3.29183787e-01,\n",
       "       -3.78503843e-04,  9.52891409e-02,  8.80016536e-02,  3.48225832e-02,\n",
       "        3.48160177e-01,  1.65647835e-01,  2.48385891e-01, -1.44383967e-01,\n",
       "       -1.51642129e-01, -1.10571720e-01, -1.07544877e-01, -3.86257887e-01,\n",
       "        4.26543690e-03,  2.32086405e-01, -1.25326231e-01, -2.76075333e-01,\n",
       "       -8.44160020e-02,  1.87146381e-01,  4.84058470e-01, -2.04581738e-01,\n",
       "       -2.40352511e-01, -3.52197528e-01, -4.06028368e-02,  6.47548214e-02,\n",
       "       -2.63245463e-01, -8.01220715e-01, -4.19874698e-01,  3.15394104e-01,\n",
       "        1.48483142e-01,  3.18790346e-01,  2.95784418e-02,  3.66161823e-01,\n",
       "       -6.13591194e-01, -6.25595525e-02,  1.52943537e-01,  1.15290999e-01,\n",
       "        5.79655804e-02,  4.58960794e-02,  1.47597581e-01,  9.94933844e-02,\n",
       "        1.33899108e-01, -5.54637909e-01, -3.57714355e-01,  2.55209744e-01,\n",
       "       -2.21125349e-01,  2.90722139e-02,  1.96043253e-02,  4.38512452e-02,\n",
       "        5.12877069e-02, -2.85208702e-01, -7.17604021e-03, -3.35164279e-01,\n",
       "       -5.12293637e-01,  2.49219924e-01,  3.37460220e-01, -2.66414613e-01,\n",
       "       -1.83226421e-01, -3.61274853e-02, -2.36538142e-01, -5.72669394e-02,\n",
       "       -8.18024650e-02,  4.76743467e-02,  1.87442094e-01,  1.70011565e-01,\n",
       "        2.83135116e-01, -1.46796048e-01,  1.78322330e-01,  1.75723344e-01,\n",
       "        5.23898840e-01, -7.80288100e-01, -1.80260018e-01, -4.35704999e-02,\n",
       "       -4.82770577e-02,  4.54969466e-01,  3.39720547e-02,  2.19876319e-01,\n",
       "        1.57534391e-01, -3.81837159e-01, -6.30098641e-01,  8.78976062e-02,\n",
       "       -3.32023889e-01,  1.64798453e-01, -1.04117744e-01,  1.57429338e-01,\n",
       "        2.89618503e-02,  1.34959742e-02, -3.45349878e-01,  1.75122082e-01,\n",
       "       -8.12363178e-02,  1.56154662e-01, -9.16514769e-02,  3.81824970e-01,\n",
       "       -4.04698521e-01,  9.63882282e-02, -4.98060048e-01,  2.06480175e-01,\n",
       "       -3.38597655e-01,  1.64008126e-01,  1.92376763e-01,  1.73878491e-01,\n",
       "       -2.26547793e-01, -3.58670741e-01, -8.00441504e-02, -2.60072470e-01,\n",
       "       -3.18216592e-01, -1.51106983e-01, -6.78279161e-01, -6.01663709e-01,\n",
       "       -1.61915533e-02, -9.03930739e-02,  2.62691416e-02, -2.97684222e-01,\n",
       "        1.10289037e-01, -3.38407755e-01, -5.95129915e-02,  2.63735294e-01,\n",
       "       -3.29507411e-01,  4.78093505e-01,  2.51381606e-01, -1.57886371e-01,\n",
       "        1.40351444e-01, -3.93466264e-01,  1.92772478e-01, -7.41310492e-02,\n",
       "        2.98146904e-01, -7.00074509e-02, -1.16108082e-01, -4.61097397e-02,\n",
       "       -1.13725305e-01, -7.02235520e-01,  5.26073039e-01, -1.70459092e-01,\n",
       "       -6.83845058e-02, -8.90836939e-02, -4.07350272e-01,  7.57001340e-02,\n",
       "       -1.45777076e-01,  3.37665975e-01, -1.74882293e-01,  1.24072060e-01,\n",
       "       -8.86419509e-03, -2.49625623e-01,  5.10844111e-01, -2.59600729e-01,\n",
       "        3.14149559e-01, -2.00932901e-02, -9.25774813e-01, -3.57062370e-01,\n",
       "       -4.15074714e-02, -4.82994109e-01, -2.25171044e-01, -2.88054179e-02,\n",
       "        3.88035402e-02, -1.22528456e-01, -3.96038406e-02,  5.06696045e-01,\n",
       "        5.25491908e-02, -1.07546046e-01, -3.57237607e-02,  5.48003018e-01,\n",
       "        2.14629352e-01,  5.76682150e-01, -1.27650529e-01,  8.92916881e-03,\n",
       "       -1.61111400e-01, -3.06547076e-01, -3.86772782e-01, -1.95126876e-01,\n",
       "       -2.70372704e-02, -5.71676433e-01, -6.49803085e-03, -6.41506165e-02,\n",
       "       -5.22352159e-01, -6.78315908e-02, -5.38260974e-02,  3.27923983e-01,\n",
       "       -8.76360536e-02, -3.29863727e-01, -2.64383018e-01,  1.92283854e-01,\n",
       "       -5.57203650e-01,  4.45123404e-01,  2.70971239e-01,  2.85356343e-01,\n",
       "       -4.23700720e-01,  6.47591203e-02, -3.90204862e-02,  2.48076051e-01,\n",
       "       -6.48813024e-02, -1.86707035e-01,  1.58154264e-01,  3.46113533e-01,\n",
       "        2.13892013e-01,  1.83959767e-01, -8.06438997e-02, -1.45448312e-01,\n",
       "        6.39687330e-02, -1.06736213e-01, -3.29601504e-02,  2.81275243e-01,\n",
       "       -2.29078233e-02,  2.30845705e-01,  2.52209216e-01, -1.35275036e-01,\n",
       "        4.65041026e-02,  4.41879779e-01, -3.68005097e-01,  2.66371012e-01],\n",
       "      dtype=float32)"
      ]
     },
     "execution_count": 46,
     "metadata": {},
     "output_type": "execute_result"
    }
   ],
   "source": [
    "v"
   ]
  },
  {
   "cell_type": "markdown",
   "metadata": {},
   "source": [
    "Как и с другими векторными моделями, проверять Адаграм нужно на реальной задаче."
   ]
  },
  {
   "cell_type": "markdown",
   "metadata": {},
   "source": [
    "### Адаграм в определении перефразирования"
   ]
  },
  {
   "cell_type": "markdown",
   "metadata": {},
   "source": [
    "В задаче перефразирования нужно определить, отличаются ли тексты по смыслу. Это стандартная задача для оценки векторных представлений.\n",
    "Корпус для семинара можно скачать вот тут - http://paraphraser.ru/download/get?file_id=1\n",
    "\n",
    "Для английского языка самый известный корпус - https://www.microsoft.com/en-us/download/details.aspx?id=52398"
   ]
  },
  {
   "cell_type": "code",
   "execution_count": 196,
   "metadata": {},
   "outputs": [],
   "source": [
    "corpus_xml = html.fromstring(open('paraphraser/paraphrases.xml', 'rb').read())\n",
    "texts_1 = []\n",
    "texts_2 = []\n",
    "classes = []\n",
    "\n",
    "for p in corpus_xml.xpath('//paraphrase'):\n",
    "    texts_1.append(p.xpath('./value[@name=\"text_1\"]/text()')[0])\n",
    "    texts_2.append(p.xpath('./value[@name=\"text_2\"]/text()')[0])\n",
    "    classes.append(p.xpath('./value[@name=\"class\"]/text()')[0])\n",
    "    \n",
    "data = pd.DataFrame({'text_1':texts_1, 'text_2':texts_2, 'label':classes})"
   ]
  },
  {
   "cell_type": "code",
   "execution_count": 197,
   "metadata": {},
   "outputs": [
    {
     "data": {
      "text/html": [
       "<div>\n",
       "<style scoped>\n",
       "    .dataframe tbody tr th:only-of-type {\n",
       "        vertical-align: middle;\n",
       "    }\n",
       "\n",
       "    .dataframe tbody tr th {\n",
       "        vertical-align: top;\n",
       "    }\n",
       "\n",
       "    .dataframe thead th {\n",
       "        text-align: right;\n",
       "    }\n",
       "</style>\n",
       "<table border=\"1\" class=\"dataframe\">\n",
       "  <thead>\n",
       "    <tr style=\"text-align: right;\">\n",
       "      <th></th>\n",
       "      <th>text_1</th>\n",
       "      <th>text_2</th>\n",
       "      <th>label</th>\n",
       "    </tr>\n",
       "  </thead>\n",
       "  <tbody>\n",
       "    <tr>\n",
       "      <th>0</th>\n",
       "      <td>Полицейским разрешат стрелять на поражение по ...</td>\n",
       "      <td>Полиции могут разрешить стрелять по хулиганам ...</td>\n",
       "      <td>0</td>\n",
       "    </tr>\n",
       "    <tr>\n",
       "      <th>1</th>\n",
       "      <td>Право полицейских на проникновение в жилище ре...</td>\n",
       "      <td>Правила внесудебного проникновения полицейских...</td>\n",
       "      <td>0</td>\n",
       "    </tr>\n",
       "    <tr>\n",
       "      <th>2</th>\n",
       "      <td>Президент Египта ввел чрезвычайное положение в...</td>\n",
       "      <td>Власти Египта угрожают ввести в стране чрезвыч...</td>\n",
       "      <td>0</td>\n",
       "    </tr>\n",
       "    <tr>\n",
       "      <th>3</th>\n",
       "      <td>Вернувшихся из Сирии россиян волнует вопрос тр...</td>\n",
       "      <td>Самолеты МЧС вывезут россиян из разрушенной Си...</td>\n",
       "      <td>-1</td>\n",
       "    </tr>\n",
       "    <tr>\n",
       "      <th>4</th>\n",
       "      <td>В Москву из Сирии вернулись 2 самолета МЧС с р...</td>\n",
       "      <td>Самолеты МЧС вывезут россиян из разрушенной Си...</td>\n",
       "      <td>0</td>\n",
       "    </tr>\n",
       "    <tr>\n",
       "      <th>...</th>\n",
       "      <td>...</td>\n",
       "      <td>...</td>\n",
       "      <td>...</td>\n",
       "    </tr>\n",
       "    <tr>\n",
       "      <th>7222</th>\n",
       "      <td>Путин освободил от должности ряд генералов</td>\n",
       "      <td>Путин снял с должностей более 20 руководителей...</td>\n",
       "      <td>0</td>\n",
       "    </tr>\n",
       "    <tr>\n",
       "      <th>7223</th>\n",
       "      <td>Облака над Москвой в День Победы разгонят девя...</td>\n",
       "      <td>Путеводитель по Дню Победы: как провести 9 мая...</td>\n",
       "      <td>-1</td>\n",
       "    </tr>\n",
       "    <tr>\n",
       "      <th>7224</th>\n",
       "      <td>Любляна отпразднует День Победы вместе с Москвой</td>\n",
       "      <td>В Москве ограничат движение в связи с Днем Победы</td>\n",
       "      <td>-1</td>\n",
       "    </tr>\n",
       "    <tr>\n",
       "      <th>7225</th>\n",
       "      <td>Девять самолетов ВВС разгонят облака над Москв...</td>\n",
       "      <td>В Москве ограничат движение в связи с Днем Победы</td>\n",
       "      <td>-1</td>\n",
       "    </tr>\n",
       "    <tr>\n",
       "      <th>7226</th>\n",
       "      <td>9 мая метрополитен Петербурга будет работать к...</td>\n",
       "      <td>Мартынов: комендантский час в Донецке 9 мая бу...</td>\n",
       "      <td>-1</td>\n",
       "    </tr>\n",
       "  </tbody>\n",
       "</table>\n",
       "<p>7227 rows × 3 columns</p>\n",
       "</div>"
      ],
      "text/plain": [
       "                                                 text_1  \\\n",
       "0     Полицейским разрешат стрелять на поражение по ...   \n",
       "1     Право полицейских на проникновение в жилище ре...   \n",
       "2     Президент Египта ввел чрезвычайное положение в...   \n",
       "3     Вернувшихся из Сирии россиян волнует вопрос тр...   \n",
       "4     В Москву из Сирии вернулись 2 самолета МЧС с р...   \n",
       "...                                                 ...   \n",
       "7222         Путин освободил от должности ряд генералов   \n",
       "7223  Облака над Москвой в День Победы разгонят девя...   \n",
       "7224   Любляна отпразднует День Победы вместе с Москвой   \n",
       "7225  Девять самолетов ВВС разгонят облака над Москв...   \n",
       "7226  9 мая метрополитен Петербурга будет работать к...   \n",
       "\n",
       "                                                 text_2 label  \n",
       "0     Полиции могут разрешить стрелять по хулиганам ...     0  \n",
       "1     Правила внесудебного проникновения полицейских...     0  \n",
       "2     Власти Египта угрожают ввести в стране чрезвыч...     0  \n",
       "3     Самолеты МЧС вывезут россиян из разрушенной Си...    -1  \n",
       "4     Самолеты МЧС вывезут россиян из разрушенной Си...     0  \n",
       "...                                                 ...   ...  \n",
       "7222  Путин снял с должностей более 20 руководителей...     0  \n",
       "7223  Путеводитель по Дню Победы: как провести 9 мая...    -1  \n",
       "7224  В Москве ограничат движение в связи с Днем Победы    -1  \n",
       "7225  В Москве ограничат движение в связи с Днем Победы    -1  \n",
       "7226  Мартынов: комендантский час в Донецке 9 мая бу...    -1  \n",
       "\n",
       "[7227 rows x 3 columns]"
      ]
     },
     "execution_count": 197,
     "metadata": {},
     "output_type": "execute_result"
    }
   ],
   "source": [
    "data"
   ]
  },
  {
   "cell_type": "code",
   "execution_count": 48,
   "metadata": {},
   "outputs": [],
   "source": [
    "data['text_1_norm'] = data['text_1'].apply(normalize)\n",
    "data['text_2_norm'] = data['text_2'].apply(normalize)"
   ]
  },
  {
   "cell_type": "markdown",
   "metadata": {},
   "source": [
    "Векторизуем пары текстов с помощью Адаграма, обучим какую-нибудь модель и оценим качество (также как делали на семинаре по обычным эмбедингам). \n"
   ]
  },
  {
   "cell_type": "markdown",
   "metadata": {},
   "source": [
    "Для того, чтобы сопоставить слову нужный вектор нужно вытащить и его контекст слева и справа. "
   ]
  },
  {
   "cell_type": "code",
   "execution_count": 49,
   "metadata": {},
   "outputs": [],
   "source": [
    "def get_embedding_adagram(text, model, window, dim):\n",
    "    \n",
    "    \n",
    "    word2context = []\n",
    "    for i in range(len(text)-1):\n",
    "        left = max(0, i-window)\n",
    "        word = text[i]\n",
    "        left_context = text[left:i]\n",
    "        right_context = text[i+1:i+window]\n",
    "        context = left_context + right_context\n",
    "        word2context.append((word, context))\n",
    "    \n",
    "    \n",
    "    \n",
    "    vectors = np.zeros((len(word2context), dim))\n",
    "    \n",
    "    for i,word in enumerate(word2context):\n",
    "        word, context = word\n",
    "        try:\n",
    "            sense = model.disambiguate(word, context).argmax()\n",
    "            v = model.sense_vector(word, sense)\n",
    "            vectors[i] = v \n",
    "\n",
    "        except (KeyError):\n",
    "            continue\n",
    "    \n",
    "    if vectors.any():\n",
    "        vector = np.average(vectors, axis=0)\n",
    "    else:\n",
    "        vector = np.zeros((dim))\n",
    "    \n",
    "    return vector\n",
    "        "
   ]
  },
  {
   "cell_type": "code",
   "execution_count": 50,
   "metadata": {},
   "outputs": [],
   "source": [
    "data['text_1_norm'] = data['text_1'].apply(normalize)\n",
    "data['text_2_norm'] = data['text_2'].apply(normalize)"
   ]
  },
  {
   "cell_type": "code",
   "execution_count": 51,
   "metadata": {},
   "outputs": [
    {
     "data": {
      "text/plain": [
       "0       [полицейский, разрешить, стрелять, поражение, ...\n",
       "1       [право, полицейский, проникновение, жилища, ре...\n",
       "2       [президент, египет, ввести, чрезвычайный, поло...\n",
       "3       [вернуться, сирия, россиянин, волновать, вопро...\n",
       "4       [в, москва, сирия, вернуться, 2, самолёт, мчс,...\n",
       "                              ...                        \n",
       "7222       [путин, освободить, должность, ряд, генералов]\n",
       "7223    [облако, москва, день, победа, разогнать, девя...\n",
       "7224    [люблян, отпраздновать, день, победа, вместе, ...\n",
       "7225    [девять, самолёт, ввс, разогнать, облако, моск...\n",
       "7226    [9, май, метрополитен, петербург, работать, кр...\n",
       "Name: text_1_norm, Length: 7227, dtype: object"
      ]
     },
     "execution_count": 51,
     "metadata": {},
     "output_type": "execute_result"
    }
   ],
   "source": [
    "data['text_1_norm']"
   ]
  },
  {
   "cell_type": "markdown",
   "metadata": {},
   "source": [
    "Сделаем все точно также как и на прошлом семинаре."
   ]
  },
  {
   "cell_type": "code",
   "execution_count": 52,
   "metadata": {},
   "outputs": [],
   "source": [
    "dim = 300\n",
    "X_text_1 = np.zeros((len(data['text_1_norm']), dim))\n",
    "X_text_2 = np.zeros((len(data['text_2_norm']), dim))\n",
    "\n",
    "for i, text in enumerate(data['text_1_norm'].values):\n",
    "    X_text_1[i] = get_embedding_adagram(text, vm, 5, dim)\n",
    "    \n",
    "for i, text in enumerate(data['text_2_norm'].values):\n",
    "    X_text_2[i] = get_embedding_adagram(text, vm, 5, dim)"
   ]
  },
  {
   "cell_type": "code",
   "execution_count": 53,
   "metadata": {},
   "outputs": [],
   "source": [
    "X_text = np.concatenate([X_text_1, X_text_2], axis=1)"
   ]
  },
  {
   "cell_type": "code",
   "execution_count": 54,
   "metadata": {},
   "outputs": [],
   "source": [
    "y = data['label'].values"
   ]
  },
  {
   "cell_type": "code",
   "execution_count": 66,
   "metadata": {},
   "outputs": [
    {
     "name": "stdout",
     "output_type": "stream",
     "text": [
      "              precision    recall  f1-score   support\n",
      "\n",
      "          -1       0.60      0.48      0.53       629\n",
      "           0       0.47      0.79      0.58       737\n",
      "           1       0.47      0.06      0.11       441\n",
      "\n",
      "    accuracy                           0.50      1807\n",
      "   macro avg       0.51      0.44      0.41      1807\n",
      "weighted avg       0.51      0.50      0.45      1807\n",
      "\n"
     ]
    }
   ],
   "source": [
    "train_X, valid_X, train_y, valid_y = train_test_split(X_text, y,random_state=1)\n",
    "clf = RandomForestClassifier(n_estimators=200,\n",
    "                             class_weight='balanced')\n",
    "clf.fit(train_X, train_y)\n",
    "preds = clf.predict(valid_X)\n",
    "print(classification_report(valid_y, preds))\n"
   ]
  },
  {
   "cell_type": "code",
   "execution_count": 67,
   "metadata": {},
   "outputs": [
    {
     "name": "stdout",
     "output_type": "stream",
     "text": [
      "              precision    recall  f1-score   support\n",
      "\n",
      "          -1       0.48      0.49      0.48       629\n",
      "           0       0.45      0.56      0.50       737\n",
      "           1       0.33      0.18      0.23       441\n",
      "\n",
      "    accuracy                           0.44      1807\n",
      "   macro avg       0.42      0.41      0.41      1807\n",
      "weighted avg       0.43      0.44      0.43      1807\n",
      "\n"
     ]
    }
   ],
   "source": [
    "train_X, valid_X, train_y, valid_y = train_test_split(X_text, y, random_state=1)\n",
    "clf = LogisticRegression(C=1, )\n",
    "clf.fit(train_X, train_y)\n",
    "preds = clf.predict(valid_X)\n",
    "print(classification_report(valid_y, preds))\n"
   ]
  },
  {
   "cell_type": "markdown",
   "metadata": {},
   "source": [
    "Сделаем ещё нормальную валидацию."
   ]
  },
  {
   "cell_type": "code",
   "execution_count": 70,
   "metadata": {},
   "outputs": [],
   "source": [
    "clf = RandomForestClassifier(n_estimators=100,\n",
    "                             class_weight='balanced')\n",
    "scores = cross_val_score(clf, X_text, y, scoring='f1_macro', cv=5)"
   ]
  },
  {
   "cell_type": "code",
   "execution_count": 71,
   "metadata": {},
   "outputs": [
    {
     "data": {
      "text/plain": [
       "(0.34470547315247746, 0.04293272651770666)"
      ]
     },
     "execution_count": 71,
     "metadata": {},
     "output_type": "execute_result"
    }
   ],
   "source": [
    "np.mean(scores), np.std(scores)"
   ]
  },
  {
   "cell_type": "code",
   "execution_count": 72,
   "metadata": {},
   "outputs": [],
   "source": [
    "clf = LogisticRegression(C=1)\n",
    "scores = cross_val_score(clf, X_text, y, scoring='f1_macro', cv=5)"
   ]
  },
  {
   "cell_type": "code",
   "execution_count": 73,
   "metadata": {},
   "outputs": [
    {
     "data": {
      "text/plain": [
       "(0.38360340331946163, 0.03179156416116992)"
      ]
     },
     "execution_count": 73,
     "metadata": {},
     "output_type": "execute_result"
    }
   ],
   "source": [
    "np.mean(scores), np.std(scores)"
   ]
  },
  {
   "cell_type": "markdown",
   "metadata": {},
   "source": [
    "Давайте теперь посмотрим на каждую из задач по отдельности."
   ]
  },
  {
   "cell_type": "markdown",
   "metadata": {},
   "source": [
    "### WSI"
   ]
  },
  {
   "cell_type": "markdown",
   "metadata": {},
   "source": [
    "WSI можно представить как задачу кластеризации контекстов, в которых встречается слово (про кластеризацию можно почитать в соседнем ноутбуке clustering_tutorial)"
   ]
  },
  {
   "cell_type": "markdown",
   "metadata": {},
   "source": [
    "Возьмем данные диалоговского соревнования 2018 года - https://github.com/nlpub/russe-wsi-kit/blob/master/data/main/wiki-wiki/train.csv (только train часть для простоты)\n",
    "\n",
    "В данных примеры использования целевых слов и индексы значений, которые могут быть у этого слова."
   ]
  },
  {
   "cell_type": "markdown",
   "metadata": {},
   "source": [
    "В качестве метрики используется Adjusted Rand Index. https://en.wikipedia.org/wiki/Rand_index , http://scikit-learn.org/stable/modules/generated/sklearn.metrics.adjusted_rand_score.html\n",
    "\n",
    "Эта метрика похожа на accuracy, она нужна когда у нас нет единого стандарта описания лейблов. В этой задаче у нас есть индексы значений в золотом стандарте и номера кластеров, которые мы получим в своем решении. Мы не можем сравнить их напрямую (кластер 1 и индекс 1 не означает, что мы сделали правильное предсказание). Нам важно, чтобы к одному и тому же кластеру/индексу относились одни и те же слова в контекстах, а слова с разными индексами имели и разные кластеры. ARI именно это и считает."
   ]
  },
  {
   "cell_type": "code",
   "execution_count": 74,
   "metadata": {},
   "outputs": [],
   "source": [
    "df = pd.read_csv('train.csv', sep='\\t')"
   ]
  },
  {
   "cell_type": "code",
   "execution_count": 75,
   "metadata": {},
   "outputs": [
    {
     "data": {
      "text/html": [
       "<div>\n",
       "<style scoped>\n",
       "    .dataframe tbody tr th:only-of-type {\n",
       "        vertical-align: middle;\n",
       "    }\n",
       "\n",
       "    .dataframe tbody tr th {\n",
       "        vertical-align: top;\n",
       "    }\n",
       "\n",
       "    .dataframe thead th {\n",
       "        text-align: right;\n",
       "    }\n",
       "</style>\n",
       "<table border=\"1\" class=\"dataframe\">\n",
       "  <thead>\n",
       "    <tr style=\"text-align: right;\">\n",
       "      <th></th>\n",
       "      <th>context_id</th>\n",
       "      <th>word</th>\n",
       "      <th>gold_sense_id</th>\n",
       "      <th>predict_sense_id</th>\n",
       "      <th>positions</th>\n",
       "      <th>context</th>\n",
       "    </tr>\n",
       "  </thead>\n",
       "  <tbody>\n",
       "    <tr>\n",
       "      <th>0</th>\n",
       "      <td>1</td>\n",
       "      <td>замок</td>\n",
       "      <td>1</td>\n",
       "      <td>NaN</td>\n",
       "      <td>0-5, 339-344</td>\n",
       "      <td>замок владимира мономаха в любече . многочисле...</td>\n",
       "    </tr>\n",
       "    <tr>\n",
       "      <th>1</th>\n",
       "      <td>2</td>\n",
       "      <td>замок</td>\n",
       "      <td>1</td>\n",
       "      <td>NaN</td>\n",
       "      <td>11-16, 17-22, 188-193</td>\n",
       "      <td>шильонский замок замок шильйон ( ) , известный...</td>\n",
       "    </tr>\n",
       "    <tr>\n",
       "      <th>2</th>\n",
       "      <td>3</td>\n",
       "      <td>замок</td>\n",
       "      <td>1</td>\n",
       "      <td>NaN</td>\n",
       "      <td>299-304</td>\n",
       "      <td>проведения архитектурно - археологических рабо...</td>\n",
       "    </tr>\n",
       "    <tr>\n",
       "      <th>3</th>\n",
       "      <td>4</td>\n",
       "      <td>замок</td>\n",
       "      <td>1</td>\n",
       "      <td>NaN</td>\n",
       "      <td>111-116</td>\n",
       "      <td>топи с . , л . белокуров легенда о завещании м...</td>\n",
       "    </tr>\n",
       "    <tr>\n",
       "      <th>4</th>\n",
       "      <td>5</td>\n",
       "      <td>замок</td>\n",
       "      <td>1</td>\n",
       "      <td>NaN</td>\n",
       "      <td>134-139, 262-267</td>\n",
       "      <td>великий князь литовский гедимин после успешной...</td>\n",
       "    </tr>\n",
       "    <tr>\n",
       "      <th>...</th>\n",
       "      <td>...</td>\n",
       "      <td>...</td>\n",
       "      <td>...</td>\n",
       "      <td>...</td>\n",
       "      <td>...</td>\n",
       "      <td>...</td>\n",
       "    </tr>\n",
       "    <tr>\n",
       "      <th>95</th>\n",
       "      <td>96</td>\n",
       "      <td>замок</td>\n",
       "      <td>1</td>\n",
       "      <td>NaN</td>\n",
       "      <td>163-168, 213-218, 364-369</td>\n",
       "      <td>без каминов и очагов . у входа в башню было по...</td>\n",
       "    </tr>\n",
       "    <tr>\n",
       "      <th>96</th>\n",
       "      <td>97</td>\n",
       "      <td>замок</td>\n",
       "      <td>1</td>\n",
       "      <td>NaN</td>\n",
       "      <td>221-226, 276-281</td>\n",
       "      <td>v . в том сражении шотландцы потерпели сокруши...</td>\n",
       "    </tr>\n",
       "    <tr>\n",
       "      <th>97</th>\n",
       "      <td>98</td>\n",
       "      <td>замок</td>\n",
       "      <td>1</td>\n",
       "      <td>NaN</td>\n",
       "      <td>0-5, 16-21, 179-184</td>\n",
       "      <td>замок данноттар замок данноттар ( ) расположен...</td>\n",
       "    </tr>\n",
       "    <tr>\n",
       "      <th>98</th>\n",
       "      <td>99</td>\n",
       "      <td>замок</td>\n",
       "      <td>1</td>\n",
       "      <td>NaN</td>\n",
       "      <td>232-237</td>\n",
       "      <td>. благодаря поэме байрона заключение бонивара ...</td>\n",
       "    </tr>\n",
       "    <tr>\n",
       "      <th>99</th>\n",
       "      <td>100</td>\n",
       "      <td>замок</td>\n",
       "      <td>1</td>\n",
       "      <td>NaN</td>\n",
       "      <td>5-10, 150-155, 289-294</td>\n",
       "      <td>года замок утратил свое военное значение , так...</td>\n",
       "    </tr>\n",
       "  </tbody>\n",
       "</table>\n",
       "<p>100 rows × 6 columns</p>\n",
       "</div>"
      ],
      "text/plain": [
       "    context_id   word  gold_sense_id  predict_sense_id  \\\n",
       "0            1  замок              1               NaN   \n",
       "1            2  замок              1               NaN   \n",
       "2            3  замок              1               NaN   \n",
       "3            4  замок              1               NaN   \n",
       "4            5  замок              1               NaN   \n",
       "..         ...    ...            ...               ...   \n",
       "95          96  замок              1               NaN   \n",
       "96          97  замок              1               NaN   \n",
       "97          98  замок              1               NaN   \n",
       "98          99  замок              1               NaN   \n",
       "99         100  замок              1               NaN   \n",
       "\n",
       "                    positions  \\\n",
       "0                0-5, 339-344   \n",
       "1       11-16, 17-22, 188-193   \n",
       "2                     299-304   \n",
       "3                     111-116   \n",
       "4            134-139, 262-267   \n",
       "..                        ...   \n",
       "95  163-168, 213-218, 364-369   \n",
       "96           221-226, 276-281   \n",
       "97        0-5, 16-21, 179-184   \n",
       "98                    232-237   \n",
       "99     5-10, 150-155, 289-294   \n",
       "\n",
       "                                              context  \n",
       "0   замок владимира мономаха в любече . многочисле...  \n",
       "1   шильонский замок замок шильйон ( ) , известный...  \n",
       "2   проведения архитектурно - археологических рабо...  \n",
       "3   топи с . , л . белокуров легенда о завещании м...  \n",
       "4   великий князь литовский гедимин после успешной...  \n",
       "..                                                ...  \n",
       "95  без каминов и очагов . у входа в башню было по...  \n",
       "96  v . в том сражении шотландцы потерпели сокруши...  \n",
       "97  замок данноттар замок данноттар ( ) расположен...  \n",
       "98  . благодаря поэме байрона заключение бонивара ...  \n",
       "99  года замок утратил свое военное значение , так...  \n",
       "\n",
       "[100 rows x 6 columns]"
      ]
     },
     "execution_count": 75,
     "metadata": {},
     "output_type": "execute_result"
    }
   ],
   "source": [
    "df.head(100)"
   ]
  },
  {
   "cell_type": "markdown",
   "metadata": {},
   "source": [
    "Попробуем решить эту задачу фастекстом."
   ]
  },
  {
   "cell_type": "markdown",
   "metadata": {},
   "source": [
    "Возьмем функцию для эмбединга предложений из прошлого семинара. (Вектора слов усредняются)"
   ]
  },
  {
   "cell_type": "code",
   "execution_count": 152,
   "metadata": {},
   "outputs": [],
   "source": [
    "def get_embedding(text, model, dim):\n",
    "    \n",
    "    # чтобы не доставать одно слово несколько раз\n",
    "    # сделаем счетчик, а потом векторы домножим на частоту\n",
    "    vectors = np.zeros((len(text), dim))\n",
    "    \n",
    "    for i,word in enumerate(text):\n",
    "        try:\n",
    "            v = model.wv[word]\n",
    "            vectors[i] = v\n",
    "        except (KeyError, ValueError):\n",
    "            continue\n",
    "    \n",
    "    if vectors.any():\n",
    "        vector = np.average(vectors, axis=0)\n",
    "    else:\n",
    "        vector = np.zeros((dim))\n",
    "    \n",
    "    return vector\n",
    "        "
   ]
  },
  {
   "cell_type": "code",
   "execution_count": 111,
   "metadata": {},
   "outputs": [],
   "source": [
    "fast_text = gensim.models.FastText(corpus_file='corpus.txt', vector_size=200, \n",
    "                                   max_vocab_size=300000)"
   ]
  },
  {
   "cell_type": "markdown",
   "metadata": {},
   "source": [
    "Данные соревнования - не новостные тексты, поэтому можно обучить модель на чем-то другом. Тексты из википедии наверное подойдут."
   ]
  },
  {
   "cell_type": "markdown",
   "metadata": {},
   "source": [
    "С помощью функции groupby мы можем сделать словарь: слово, значения которого надо найти - всего его контексты и размеченные значения."
   ]
  },
  {
   "cell_type": "code",
   "execution_count": 112,
   "metadata": {},
   "outputs": [],
   "source": [
    "grouped_df = df.groupby('word')[['word', 'context', 'gold_sense_id']]"
   ]
  },
  {
   "cell_type": "code",
   "execution_count": 113,
   "metadata": {},
   "outputs": [
    {
     "name": "stdout",
     "output_type": "stream",
     "text": [
      "    word                                            context  gold_sense_id\n",
      "383  бор  бор ( элемент ) бор — элемент тринадцатой груп...              1\n",
      "384  бор  бор - углерод - кремний семейство сплавов на о...              1\n",
      "385  бор  с большим выделением теплоты , образуется окси...              1\n",
      "386  бор  это объясняется прежде всего тем , что у компл...              1\n",
      "387  бор  совсем малочисленна . элементарный бор в приро...              1\n",
      "388  бор  действующем при месторождении горно - химическ...              1\n",
      "389  бор  b c ) . при нагревании в атмосфере кислорода и...              1\n",
      "390  бор  собственных минералов бора в чужих минералах о...              1\n",
      "391  бор  бор - углерод - кремний семейство сплавов на о...              1\n",
      "392  бор  с другими галогенами с образованием тригалоген...              1\n",
      "393  бор  и в стабильны и входят в состав природного бор...              1\n",
      "394  бор  номером . обозначается символом b ( ) . в своб...              1\n",
      "395  бор  и взаимные переходы которых определяются темпе...              1\n",
      "396  бор  . оксид бора formula_  — типичный кислотный ок...              1\n",
      "397  бор  бор ( растение ) бор ( ) — род растений семейс...              2\n",
      "398  бор  каштакский бор каштакский бор — бор , находящи...              2\n",
      "399  бор  бор ( растение ) бор ( ) — род растений семейс...              2\n",
      "400  бор  сосновый бор ( город ) сосно́вый бор — город (...              2\n",
      "401  бор  образом искусственный остров , поэтому для сое...              2\n",
      "402  бор   км к северу от города бузулук в обширной прир...              2\n",
      "403  бор  образовавшийся таким образом сросткинский сосн...              2\n",
      "404  бор  григоровский бор григоровский бор — историческ...              2\n",
      "405  бор  ичалковский бор площадью гектаров отнесен к ка...              2\n",
      "406  бор  его трассе ( на старых картах отчетливо видно ...              2\n",
      "407  бор  . в xix веке в серебряном бору размещался арти...              2\n",
      "408  бор  пески , мощность которых местами достигает мет...              2\n",
      "409  бор  заказника и его статус определяются положением...              2\n",
      "410  бор  каштакский бор каштакский бор — бор , находящи...              2\n",
      "411  бор  на территории бора действовал государственный ...              2\n",
      "412  бор  . фридлянда и инженера а . а . белоголового бы...              2\n",
      "413  бор  до $ . в настоящее время на территории серебря...              2\n",
      "414  бор  серебряный бор есть теория , что название сере...              2\n",
      "415  бор  бузулукский бор бузулу́кский бор — островной м...              2\n",
      "416  бор  . во второй половине xx века , сразу после вел...              2\n",
      "417  бор  , лента бора срастается с соседней лентой касм...              2\n",
      "418  бор  была существенно увеличена в дальнейшем на тер...              2\n",
      "419  бор  бузулук в обширной приречной котловине , имеющ...              2\n",
      "420  бор  ичалковский бор специальным распоряжением сове...              2\n",
      "421  бор  к металлургическому району города . древостой ...              2\n",
      "422  бор  , которые понравятся и детям , и взрослым . в ...              2\n",
      "423  бор  колонии цапли , а в лесу гнездились соколы — п...              2\n",
      "424  бор  серебряном бору , в отдельный подвид сосны обы...              2\n",
      "425  бор  окрестностях семипалатинска . ширина бора на з...              2\n",
      "426  бор  года №  ичалковский бор , его пещеры и карсты ...              2\n",
      "427  бор  серебряный бор есть теория , что название сере...              2\n",
      "428  бор  нашлось необходимого обоснования ( по краеведч...              2\n",
      "429  бор  бор ( лес ) различают следующие основные групп...              2\n",
      "430  бор  ичалковский бор специальным распоряжением сове...              2\n",
      "431  бор  , км² . от самого села до бора можно дойти по ...              2\n",
      "432  бор  озеро на дне холодной пещеры даже в теплое вре...              2\n",
      "433  бор  серебряный бор есть теория , что название сере...              2\n",
      "434  бор  ленточный бор ле́нточные бо́ры — сосновые трав...              2\n",
      "435  бор  в окрестностях барнаула , составляет —  км . н...              2\n",
      "436  бор  также в сосновом бору открыта секция биатлона ...              2\n",
      "437  бор  экспресс банк , мособлбанк , внешпромбанк , ба...              2\n",
      "438  бор  каштакский бор каштакский бор — бор , находящи...              2 \n",
      "\n",
      "\n",
      "      word                                            context  gold_sense_id\n",
      "0    замок  замок владимира мономаха в любече . многочисле...              1\n",
      "1    замок  шильонский замок замок шильйон ( ) , известный...              1\n",
      "2    замок  проведения архитектурно - археологических рабо...              1\n",
      "3    замок  топи с . , л . белокуров легенда о завещании м...              1\n",
      "4    замок  великий князь литовский гедимин после успешной...              1\n",
      "..     ...                                                ...            ...\n",
      "133  замок  с корпусом из дуба , вяза и других твердых пор...              2\n",
      "134  замок  ключ в таком замке не имел бородки в привычном...              2\n",
      "135  замок  бизнесмен из российского города павлово ( на о...              2\n",
      "136  замок  ) творчески переработал наработки отца и запат...              2\n",
      "137  замок  участвовал в национальном смотре достижений ( ...              2\n",
      "\n",
      "[138 rows x 3 columns] \n",
      "\n",
      "\n",
      "    word                                            context  gold_sense_id\n",
      "138  лук  они были основными слушателями баллад , а криз...              1\n",
      "139  лук  якутский лук якутский лук принадлежит к северн...              1\n",
      "140  лук  из всех трех типов луков — классики , олимпика...              1\n",
      "141  лук  английский длинный лук английский длинный лук ...              1\n",
      "142  лук  металлических утяжелителей дуг . составной лук...              1\n",
      "..   ...                                                ...            ...\n",
      "243  лук  гусиный лук желтый стебель плотный , голый , в...              2\n",
      "244  лук  кислоты в этом виде лука в раза превышает тако...              2\n",
      "245  лук  на шею коровам , лошадям и другим домашним жив...              2\n",
      "246  лук  гадючий лук латинское название рода дано по за...              2\n",
      "247  лук  способствует нормализации водно - солевого обм...              2\n",
      "\n",
      "[110 rows x 3 columns] \n",
      "\n",
      "\n",
      "     word                                            context  gold_sense_id\n",
      "248  суда  перехода поместья к новому владельцу в ) год п...              1\n",
      "249  суда  опасный квартал города . и… оказалась не в том...              1\n",
      "250  суда  пленум верховного суда российской федерации пл...              1\n",
      "251  суда  повторяют византийские формы , на xvi—xvii век...              1\n",
      "252  суда  военная коллегия верховного суда ссср военная ...              1\n",
      "..    ...                                                ...            ...\n",
      "378  суда  и добирались до берегов северной америки . kno...              2\n",
      "379  суда  железобетонные суда либерти железобетонные суд...              2\n",
      "380  суда  железобетонные суда либерти железобетонные суд...              2\n",
      "381  суда  суда викингов флот викингов состоял преимущест...              2\n",
      "382  суда  океанографические исследовательские суда проек...              2\n",
      "\n",
      "[135 rows x 3 columns] \n",
      "\n",
      "\n"
     ]
    }
   ],
   "source": [
    "\n",
    "for key, _ in grouped_df:\n",
    "    print(grouped_df.get_group(key), \"\\n\\n\")"
   ]
  },
  {
   "cell_type": "markdown",
   "metadata": {},
   "source": [
    "По сути нам нужно кластеризовать контексты, в которых употреблено слово."
   ]
  },
  {
   "cell_type": "markdown",
   "metadata": {},
   "source": [
    "Попробуем разные методы кластеризации."
   ]
  },
  {
   "cell_type": "code",
   "execution_count": 114,
   "metadata": {},
   "outputs": [],
   "source": [
    "from sklearn.cluster import *"
   ]
  },
  {
   "cell_type": "code",
   "execution_count": 200,
   "metadata": {
    "scrolled": true
   },
   "outputs": [
    {
     "name": "stdout",
     "output_type": "stream",
     "text": [
      "0.014062731423848826\n"
     ]
    }
   ],
   "source": [
    "ARI = []\n",
    "\n",
    "for key, _ in grouped_df:\n",
    "    texts = grouped_df.get_group(key)['context'].apply(normalize)\n",
    "    X = np.zeros((len(texts), 200))\n",
    "    \n",
    "    for i, text in enumerate(texts):\n",
    "        text = [word for word in text if word != key]\n",
    "        X[i] = get_embedding(text, fast_text, 200)\n",
    "        \n",
    "    cluster = AffinityPropagation(damping=0.9)\n",
    "#     cluster = KMeans(3)\n",
    "#     cluster = DBSCAN(min_samples=1, eps=0.1)\n",
    "    cluster.fit(X)\n",
    "    labels = np.array(cluster.labels_)+1\n",
    "    \n",
    "    ARI.append(adjusted_rand_score(grouped_df.get_group(key)['gold_sense_id'], labels))\n",
    "    \n",
    "print(np.mean(ARI))"
   ]
  },
  {
   "cell_type": "markdown",
   "metadata": {},
   "source": [
    "## WordNet"
   ]
  },
  {
   "cell_type": "markdown",
   "metadata": {},
   "source": [
    "Выводить значения просто из текста тяжело, поэтому можно попробовать воспользоваться словарями (wsi сделанное людьми). Самый известный такой словарь - WordNet (https://wordnet.princeton.edu/), который есть в nltk. Для русского есть https://ruwordnet.ru/ru , но он конечно попроще и данные нужно запрашивать."
   ]
  },
  {
   "cell_type": "markdown",
   "metadata": {},
   "source": [
    "WordNet - это лексическая база данных, где существительные, прилагательные и глаголы английского сгруппированы по значению. К тому же между ними установлены связи (гипонимия, гипоронимия, миронимия и т.п.)."
   ]
  },
  {
   "cell_type": "code",
   "execution_count": 168,
   "metadata": {},
   "outputs": [
    {
     "name": "stderr",
     "output_type": "stream",
     "text": [
      "[nltk_data] Downloading package wordnet to\n",
      "[nltk_data]     /Users/mnefedov/nltk_data...\n",
      "[nltk_data]   Package wordnet is already up-to-date!\n"
     ]
    },
    {
     "data": {
      "text/plain": [
       "True"
      ]
     },
     "execution_count": 168,
     "metadata": {},
     "output_type": "execute_result"
    }
   ],
   "source": [
    "# запустите если не установлен ворднет\n",
    "import nltk\n",
    "nltk.download('wordnet')"
   ]
  },
  {
   "cell_type": "markdown",
   "metadata": {},
   "source": [
    "Группа синонимичных слов в WordNet'е называются синсеты. "
   ]
  },
  {
   "cell_type": "code",
   "execution_count": 169,
   "metadata": {},
   "outputs": [
    {
     "data": {
      "text/plain": [
       "117659"
      ]
     },
     "execution_count": 169,
     "metadata": {},
     "output_type": "execute_result"
    }
   ],
   "source": [
    "# всего синсетов\n",
    "len(list(wn.all_synsets()))"
   ]
  },
  {
   "cell_type": "markdown",
   "metadata": {},
   "source": [
    "Из них существительных:"
   ]
  },
  {
   "cell_type": "code",
   "execution_count": 170,
   "metadata": {},
   "outputs": [
    {
     "data": {
      "text/plain": [
       "82115"
      ]
     },
     "execution_count": 170,
     "metadata": {},
     "output_type": "execute_result"
    }
   ],
   "source": [
    "len(list(wn.all_synsets('n')))"
   ]
  },
  {
   "cell_type": "markdown",
   "metadata": {},
   "source": [
    "А глаголов:"
   ]
  },
  {
   "cell_type": "code",
   "execution_count": 171,
   "metadata": {},
   "outputs": [
    {
     "data": {
      "text/plain": [
       "13767"
      ]
     },
     "execution_count": 171,
     "metadata": {},
     "output_type": "execute_result"
    }
   ],
   "source": [
    "len(list(wn.all_synsets('v')))"
   ]
  },
  {
   "cell_type": "markdown",
   "metadata": {},
   "source": [
    "А прилагательных:"
   ]
  },
  {
   "cell_type": "code",
   "execution_count": 172,
   "metadata": {},
   "outputs": [
    {
     "data": {
      "text/plain": [
       "18156"
      ]
     },
     "execution_count": 172,
     "metadata": {},
     "output_type": "execute_result"
    }
   ],
   "source": [
    "len(list(wn.all_synsets('a')))"
   ]
  },
  {
   "cell_type": "markdown",
   "metadata": {},
   "source": [
    "Синсеты для слова можно достать вот так:"
   ]
  },
  {
   "cell_type": "code",
   "execution_count": 201,
   "metadata": {},
   "outputs": [
    {
     "data": {
      "text/plain": [
       "[Synset('go.n.01'),\n",
       " Synset('adam.n.03'),\n",
       " Synset('crack.n.09'),\n",
       " Synset('go.n.04'),\n",
       " Synset('travel.v.01'),\n",
       " Synset('go.v.02'),\n",
       " Synset('go.v.03'),\n",
       " Synset('become.v.01'),\n",
       " Synset('go.v.05'),\n",
       " Synset('run.v.05'),\n",
       " Synset('run.v.03'),\n",
       " Synset('proceed.v.04'),\n",
       " Synset('go.v.09'),\n",
       " Synset('go.v.10'),\n",
       " Synset('sound.v.02'),\n",
       " Synset('function.v.01'),\n",
       " Synset('run_low.v.01'),\n",
       " Synset('move.v.13'),\n",
       " Synset('survive.v.01'),\n",
       " Synset('go.v.16'),\n",
       " Synset('die.v.01'),\n",
       " Synset('belong.v.03'),\n",
       " Synset('go.v.19'),\n",
       " Synset('start.v.09'),\n",
       " Synset('move.v.15'),\n",
       " Synset('go.v.22'),\n",
       " Synset('go.v.23'),\n",
       " Synset('blend.v.02'),\n",
       " Synset('go.v.25'),\n",
       " Synset('fit.v.02'),\n",
       " Synset('rifle.v.02'),\n",
       " Synset('go.v.28'),\n",
       " Synset('plump.v.04'),\n",
       " Synset('fail.v.04'),\n",
       " Synset('go.a.01')]"
      ]
     },
     "execution_count": 201,
     "metadata": {},
     "output_type": "execute_result"
    }
   ],
   "source": [
    "wn.synsets('go')"
   ]
  },
  {
   "cell_type": "markdown",
   "metadata": {},
   "source": [
    "Можно ограничить часть речи:"
   ]
  },
  {
   "cell_type": "code",
   "execution_count": 174,
   "metadata": {},
   "outputs": [
    {
     "data": {
      "text/plain": [
       "[Synset('travel.v.01'),\n",
       " Synset('go.v.02'),\n",
       " Synset('go.v.03'),\n",
       " Synset('become.v.01'),\n",
       " Synset('go.v.05'),\n",
       " Synset('run.v.05'),\n",
       " Synset('run.v.03'),\n",
       " Synset('proceed.v.04'),\n",
       " Synset('go.v.09'),\n",
       " Synset('go.v.10'),\n",
       " Synset('sound.v.02'),\n",
       " Synset('function.v.01'),\n",
       " Synset('run_low.v.01'),\n",
       " Synset('move.v.13'),\n",
       " Synset('survive.v.01'),\n",
       " Synset('go.v.16'),\n",
       " Synset('die.v.01'),\n",
       " Synset('belong.v.03'),\n",
       " Synset('go.v.19'),\n",
       " Synset('start.v.09'),\n",
       " Synset('move.v.15'),\n",
       " Synset('go.v.22'),\n",
       " Synset('go.v.23'),\n",
       " Synset('blend.v.02'),\n",
       " Synset('go.v.25'),\n",
       " Synset('fit.v.02'),\n",
       " Synset('rifle.v.02'),\n",
       " Synset('go.v.28'),\n",
       " Synset('plump.v.04'),\n",
       " Synset('fail.v.04')]"
      ]
     },
     "execution_count": 174,
     "metadata": {},
     "output_type": "execute_result"
    }
   ],
   "source": [
    "wn.synsets('go', pos='v')"
   ]
  },
  {
   "cell_type": "markdown",
   "metadata": {},
   "source": [
    "У многих из них есть определения:"
   ]
  },
  {
   "cell_type": "code",
   "execution_count": 206,
   "metadata": {},
   "outputs": [
    {
     "name": "stdout",
     "output_type": "stream",
     "text": [
      "car - a motor vehicle with four wheels; usually propelled by an internal combustion engine\n",
      "car - a wheeled vehicle adapted to the rails of railroad\n",
      "car - the compartment that is suspended from an airship and that carries personnel and the cargo and the power plant\n",
      "car - where passengers ride up and down\n",
      "car - a conveyance for passengers or freight on a cable railway\n"
     ]
    }
   ],
   "source": [
    "word = 'car'\n",
    "for synset in wn.synsets(word):\n",
    "    print(word + ' - ' + synset.definition())\n",
    "#     print()"
   ]
  },
  {
   "cell_type": "markdown",
   "metadata": {},
   "source": [
    "И даже примеры:"
   ]
  },
  {
   "cell_type": "code",
   "execution_count": 207,
   "metadata": {},
   "outputs": [
    {
     "name": "stdout",
     "output_type": "stream",
     "text": [
      "car - he needs a car to get to work\n",
      "car - three cars had jumped the rails\n",
      "car - \n",
      "car - the car was on the top floor\n",
      "car - they took a cable car to the top of the mountain\n"
     ]
    }
   ],
   "source": [
    "word = 'car'\n",
    "for synset in wn.synsets(word):\n",
    "    print(word + ' - ' + ' | '.join(synset.examples()))\n",
    "#     print()"
   ]
  },
  {
   "cell_type": "markdown",
   "metadata": {},
   "source": [
    "Посмотрим на связанные синсеты (гипонимы, антонимы, синонимы, меронимы)."
   ]
  },
  {
   "cell_type": "code",
   "execution_count": 177,
   "metadata": {},
   "outputs": [],
   "source": [
    "s = wn.synsets('car')[0]"
   ]
  },
  {
   "cell_type": "code",
   "execution_count": 178,
   "metadata": {
    "scrolled": true
   },
   "outputs": [
    {
     "data": {
      "text/plain": [
       "[Synset('accelerator.n.01'),\n",
       " Synset('air_bag.n.01'),\n",
       " Synset('auto_accessory.n.01'),\n",
       " Synset('automobile_engine.n.01'),\n",
       " Synset('automobile_horn.n.01'),\n",
       " Synset('buffer.n.06'),\n",
       " Synset('bumper.n.02'),\n",
       " Synset('car_door.n.01'),\n",
       " Synset('car_mirror.n.01'),\n",
       " Synset('car_seat.n.01'),\n",
       " Synset('car_window.n.01'),\n",
       " Synset('fender.n.01'),\n",
       " Synset('first_gear.n.01'),\n",
       " Synset('floorboard.n.02'),\n",
       " Synset('gasoline_engine.n.01'),\n",
       " Synset('glove_compartment.n.01'),\n",
       " Synset('grille.n.02'),\n",
       " Synset('high_gear.n.01'),\n",
       " Synset('hood.n.09'),\n",
       " Synset('luggage_compartment.n.01'),\n",
       " Synset('rear_window.n.01'),\n",
       " Synset('reverse.n.02'),\n",
       " Synset('roof.n.02'),\n",
       " Synset('running_board.n.01'),\n",
       " Synset('stabilizer_bar.n.01'),\n",
       " Synset('sunroof.n.01'),\n",
       " Synset('tail_fin.n.02'),\n",
       " Synset('third_gear.n.01'),\n",
       " Synset('window.n.02')]"
      ]
     },
     "execution_count": 178,
     "metadata": {},
     "output_type": "execute_result"
    }
   ],
   "source": [
    "s.part_meronyms()"
   ]
  },
  {
   "cell_type": "markdown",
   "metadata": {},
   "source": [
    "Антонимы только достаются не очень удобно:"
   ]
  },
  {
   "cell_type": "code",
   "execution_count": 179,
   "metadata": {},
   "outputs": [
    {
     "data": {
      "text/plain": [
       "[Lemma('bad.n.01.bad')]"
      ]
     },
     "execution_count": 179,
     "metadata": {},
     "output_type": "execute_result"
    }
   ],
   "source": [
    "wn.synsets('good')[2].lemmas()[0].antonyms()"
   ]
  },
  {
   "cell_type": "code",
   "execution_count": 212,
   "metadata": {},
   "outputs": [
    {
     "data": {
      "text/plain": [
       "[Synset('good.n.01'),\n",
       " Synset('good.n.02'),\n",
       " Synset('good.n.03'),\n",
       " Synset('commodity.n.01'),\n",
       " Synset('good.a.01'),\n",
       " Synset('full.s.06'),\n",
       " Synset('good.a.03'),\n",
       " Synset('estimable.s.02'),\n",
       " Synset('beneficial.s.01'),\n",
       " Synset('good.s.06'),\n",
       " Synset('good.s.07'),\n",
       " Synset('adept.s.01'),\n",
       " Synset('good.s.09'),\n",
       " Synset('dear.s.02'),\n",
       " Synset('dependable.s.04'),\n",
       " Synset('good.s.12'),\n",
       " Synset('good.s.13'),\n",
       " Synset('effective.s.04'),\n",
       " Synset('good.s.15'),\n",
       " Synset('good.s.16'),\n",
       " Synset('good.s.17'),\n",
       " Synset('good.s.18'),\n",
       " Synset('good.s.19'),\n",
       " Synset('good.s.20'),\n",
       " Synset('good.s.21'),\n",
       " Synset('well.r.01'),\n",
       " Synset('thoroughly.r.02')]"
      ]
     },
     "execution_count": 212,
     "metadata": {},
     "output_type": "execute_result"
    }
   ],
   "source": [
    "wn.synsets('good')"
   ]
  },
  {
   "cell_type": "markdown",
   "metadata": {},
   "source": [
    "Можно засунуть это все в граф и нарисовать:"
   ]
  },
  {
   "cell_type": "code",
   "execution_count": 180,
   "metadata": {},
   "outputs": [
    {
     "name": "stdout",
     "output_type": "stream",
     "text": [
      "Requirement already satisfied: networkx in /Users/mnefedov/.pyenv/versions/3.7.2/lib/python3.7/site-packages (2.5.1)\n",
      "Requirement already satisfied: decorator<5,>=4.3 in /Users/mnefedov/.pyenv/versions/3.7.2/lib/python3.7/site-packages (from networkx) (4.4.2)\n",
      "\u001b[33mWARNING: You are using pip version 21.0.1; however, version 21.3.1 is available.\n",
      "You should consider upgrading via the '/Users/mnefedov/.pyenv/versions/3.7.2/bin/python3.7 -m pip install --upgrade pip' command.\u001b[0m\n"
     ]
    }
   ],
   "source": [
    "!pip install networkx"
   ]
  },
  {
   "cell_type": "code",
   "execution_count": 181,
   "metadata": {},
   "outputs": [
    {
     "name": "stdout",
     "output_type": "stream",
     "text": [
      "[Synset('accelerator.n.01'), Synset('air_bag.n.01'), Synset('auto_accessory.n.01'), Synset('automobile_engine.n.01'), Synset('automobile_horn.n.01'), Synset('buffer.n.06'), Synset('bumper.n.02'), Synset('car_door.n.01'), Synset('car_mirror.n.01'), Synset('car_seat.n.01'), Synset('car_window.n.01'), Synset('fender.n.01'), Synset('first_gear.n.01'), Synset('floorboard.n.02'), Synset('gasoline_engine.n.01'), Synset('glove_compartment.n.01'), Synset('grille.n.02'), Synset('high_gear.n.01'), Synset('hood.n.09'), Synset('luggage_compartment.n.01'), Synset('rear_window.n.01'), Synset('reverse.n.02'), Synset('roof.n.02'), Synset('running_board.n.01'), Synset('stabilizer_bar.n.01'), Synset('sunroof.n.01'), Synset('tail_fin.n.02'), Synset('third_gear.n.01'), Synset('window.n.02')]\n"
     ]
    }
   ],
   "source": [
    "import networkx as nx\n",
    "\n",
    "words = wn.synsets('car')\n",
    "hyponyms = words[0].part_meronyms()\n",
    "print(hyponyms)\n",
    "\n",
    "G=nx.Graph()\n",
    "\n",
    "for w in hyponyms: \n",
    "    G.add_edge(words[0].name().split('.')[0],\n",
    "               w.name().split('.')[0], \n",
    "               weight=words[0].wup_similarity(w))"
   ]
  },
  {
   "cell_type": "code",
   "execution_count": 182,
   "metadata": {
    "scrolled": false
   },
   "outputs": [
    {
     "data": {
      "image/png": "[encoded data removed]",
      "text/plain": [
       "<Figure size 720x720 with 1 Axes>"
      ]
     },
     "metadata": {},
     "output_type": "display_data"
    }
   ],
   "source": [
    "plt.figure(figsize=(10,10))\n",
    "plt.axis('off')\n",
    "\n",
    "nx.draw_networkx(G,with_labels=True,node_size=2000,\n",
    "                 font_size=10,\n",
    "                 node_shape='s',\n",
    "                 alpha=0.9,\n",
    "                 node_color='red')\n"
   ]
  },
  {
   "cell_type": "markdown",
   "metadata": {},
   "source": [
    "Можно посчитать близость между синсетами (зависит от того, какой путь нужно пройти по этим связям от одного объекта до другого и есть ли он вообще)"
   ]
  },
  {
   "cell_type": "code",
   "execution_count": 183,
   "metadata": {},
   "outputs": [],
   "source": [
    "car = wn.synsets('car')[0]\n",
    "bike = wn.synsets('bike')[0]"
   ]
  },
  {
   "cell_type": "code",
   "execution_count": 184,
   "metadata": {},
   "outputs": [
    {
     "data": {
      "text/plain": [
       "0.3333333333333333"
      ]
     },
     "execution_count": 184,
     "metadata": {},
     "output_type": "execute_result"
    }
   ],
   "source": [
    "bike.path_similarity(car)"
   ]
  },
  {
   "cell_type": "markdown",
   "metadata": {},
   "source": [
    "Есть и другие метрики:"
   ]
  },
  {
   "cell_type": "code",
   "execution_count": 185,
   "metadata": {},
   "outputs": [
    {
     "data": {
      "text/plain": [
       "2.538973871058276"
      ]
     },
     "execution_count": 185,
     "metadata": {},
     "output_type": "execute_result"
    }
   ],
   "source": [
    "wn.lch_similarity(bike, car)"
   ]
  },
  {
   "cell_type": "code",
   "execution_count": 186,
   "metadata": {},
   "outputs": [
    {
     "data": {
      "text/plain": [
       "0.9166666666666666"
      ]
     },
     "execution_count": 186,
     "metadata": {},
     "output_type": "execute_result"
    }
   ],
   "source": [
    "wn.wup_similarity(bike, car)"
   ]
  },
  {
   "cell_type": "markdown",
   "metadata": {},
   "source": [
    "Датасеты для обучения и оценки WSD моделей обычно используют смыслы из WordNet. Например, http://lcl.uniroma1.it/wsdeval/ Там очень много данных, поэтому я взял небольшой кусок"
   ]
  },
  {
   "cell_type": "code",
   "execution_count": 187,
   "metadata": {},
   "outputs": [],
   "source": [
    "corpus_wsd = []\n",
    "corpus = open('corpus_wsd_50k.txt').read().split('\\n\\n')\n",
    "for sent in corpus:\n",
    "    corpus_wsd.append([s.split('\\t') for s in sent.split('\\n')])"
   ]
  },
  {
   "cell_type": "markdown",
   "metadata": {},
   "source": [
    "Корпус состоит из предложений, где у каждого слова три поля - значение, лемма и само слово. Значение пустое, когда слово однозначное, а у многозначных слов стоит тэг вида **'long%3:00:02::'** Это тэг wordnet'ного формата"
   ]
  },
  {
   "cell_type": "code",
   "execution_count": 215,
   "metadata": {},
   "outputs": [
    {
     "data": {
      "text/plain": [
       "[['', 'have', 'Have'],\n",
       " ['', 'you', 'you'],\n",
       " ['permit%2:41:00::', 'permit', 'permitted'],\n",
       " ['', 'it', 'it'],\n",
       " ['', 'to', 'to'],\n",
       " ['become%2:42:01::', 'become', 'become'],\n",
       " ['', 'a', 'a'],\n",
       " ['giveaway%1:21:00::', 'giveaway', 'giveaway'],\n",
       " ['program%1:09:01::', 'program', 'program'],\n",
       " ['rather%4:02:02::', 'rather', 'rather'],\n",
       " ['', 'than', 'than'],\n",
       " ['', 'one', 'one'],\n",
       " ['', 'that', 'that'],\n",
       " ['have%2:42:00::', 'have', 'has'],\n",
       " ['', 'the', 'the'],\n",
       " ['goal%1:09:00::', 'goal', 'goal'],\n",
       " ['', 'of', 'of'],\n",
       " ['improved%3:00:00::', 'improved', 'improved'],\n",
       " ['employee%1:18:00::', 'employee', 'employee'],\n",
       " ['morale%1:26:00::', 'morale', 'morale'],\n",
       " ['', 'and', 'and'],\n",
       " ['', ',', ','],\n",
       " ['consequently%4:02:00::', 'consequently', 'consequently'],\n",
       " ['', ',', ','],\n",
       " ['increased%3:00:00::', 'increased', 'increased'],\n",
       " ['productivity%1:07:00::', 'productivity', 'productivity'],\n",
       " ['', '?', '?']]"
      ]
     },
     "execution_count": 215,
     "metadata": {},
     "output_type": "execute_result"
    }
   ],
   "source": [
    "corpus_wsd[1]"
   ]
  },
  {
   "cell_type": "markdown",
   "metadata": {},
   "source": [
    "Вот так можно достать соответствующий этому тэгу синсет:"
   ]
  },
  {
   "cell_type": "code",
   "execution_count": 216,
   "metadata": {},
   "outputs": [
    {
     "data": {
      "text/plain": [
       "Synset('program.n.02')"
      ]
     },
     "execution_count": 216,
     "metadata": {},
     "output_type": "execute_result"
    }
   ],
   "source": [
    "wn.lemma_from_key('program%1:09:01::').synset()"
   ]
  },
  {
   "cell_type": "code",
   "execution_count": 217,
   "metadata": {},
   "outputs": [
    {
     "data": {
      "text/plain": [
       "'a system of projects or services intended to meet a public need'"
      ]
     },
     "execution_count": 217,
     "metadata": {},
     "output_type": "execute_result"
    }
   ],
   "source": [
    "wn.lemma_from_key('program%1:09:01::').synset().definition()"
   ]
  },
  {
   "cell_type": "code",
   "execution_count": null,
   "metadata": {},
   "outputs": [],
   "source": []
  },
  {
   "cell_type": "code",
   "execution_count": null,
   "metadata": {},
   "outputs": [],
   "source": []
  }
 ],
 "metadata": {
  "kernelspec": {
   "display_name": "Python 3",
   "language": "python",
   "name": "python3"
  },
  "language_info": {
   "codemirror_mode": {
    "name": "ipython",
    "version": 3
   },
   "file_extension": ".py",
   "mimetype": "text/x-python",
   "name": "python",
   "nbconvert_exporter": "python",
   "pygments_lexer": "ipython3",
   "version": "3.7.2"
  }
 },
 "nbformat": 4,
 "nbformat_minor": 2
}
