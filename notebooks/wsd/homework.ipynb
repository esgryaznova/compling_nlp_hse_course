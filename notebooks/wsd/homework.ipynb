{
 "cells": [
  {
   "cell_type": "markdown",
   "id": "d0ca41e2",
   "metadata": {},
   "source": [
    "# Домашнее задание № 7"
   ]
  },
  {
   "cell_type": "markdown",
   "id": "6f0588a6",
   "metadata": {},
   "source": [
    "### Задание 1 Реализовать алгоритм Леска и проверить его на реальном датасете (8 баллов)"
   ]
  },
  {
   "cell_type": "markdown",
   "id": "d6a5283f",
   "metadata": {},
   "source": [
    "Ворднет можно использовать для дизамбигуации. Самый простой алгоритм дизамбигуации - алгоритм Леска. В нём нужное значение слова находится через пересечение слов контекста, в котором употреблено это слово, с определениями значений слова из ворднета. Значение с максимальным пересечением - нужное."
   ]
  },
  {
   "cell_type": "markdown",
   "id": "f6f082cd",
   "metadata": {},
   "source": [
    "Реализуйте его"
   ]
  },
  {
   "cell_type": "code",
   "execution_count": 186,
   "id": "668e6803",
   "metadata": {},
   "outputs": [],
   "source": [
    "def lesk( word, sentence ):\n",
    "    \"\"\"Ваш код тут\"\"\"\n",
    "    bestsense = 0\n",
    "    maxoverlap = 0\n",
    "    #ваш код\n",
    "    \n",
    "    for i, syns in enumerate(synsets):\n",
    "        # ваш код \n",
    "        \n",
    "        \n",
    "    return bestsense\n"
   ]
  },
  {
   "cell_type": "markdown",
   "id": "2f815be9",
   "metadata": {},
   "source": [
    "Работать функция должна как-то так:"
   ]
  },
  {
   "cell_type": "code",
   "execution_count": 216,
   "id": "67bc4d08",
   "metadata": {},
   "outputs": [
    {
     "data": {
      "text/plain": [
       "1"
      ]
     },
     "execution_count": 216,
     "metadata": {},
     "output_type": "execute_result"
    }
   ],
   "source": [
    "# на вход подается элемент результата работы уже написанной вами функции get_words_in_context\n",
    "lesk('day', 'some point or period in time'.split()) # для примера контекст совпадает с одним из определений\n",
    "# а на выходе индекс подходящего синсета"
   ]
  },
  {
   "cell_type": "code",
   "execution_count": 216,
   "id": "965d2dce",
   "metadata": {},
   "outputs": [
    {
     "data": {
      "text/plain": [
       "[Synset('day.n.01'),\n",
       " Synset('day.n.02'),\n",
       " Synset('day.n.03'),\n",
       " Synset('day.n.04'),\n",
       " Synset('day.n.05'),\n",
       " Synset('day.n.06'),\n",
       " Synset('day.n.07'),\n",
       " Synset('sidereal_day.n.01'),\n",
       " Synset('day.n.09'),\n",
       " Synset('day.n.10')]"
      ]
     },
     "execution_count": 216,
     "metadata": {},
     "output_type": "execute_result"
    }
   ],
   "source": [
    "wn.synsets('day')"
   ]
  },
  {
   "cell_type": "code",
   "execution_count": 217,
   "id": "204a4cb0",
   "metadata": {},
   "outputs": [
    {
     "data": {
      "text/plain": [
       "'some point or period in time'"
      ]
     },
     "execution_count": 217,
     "metadata": {},
     "output_type": "execute_result"
    }
   ],
   "source": [
    "# с помощью этого индекса достаем нужный синсет\n",
    "wn.synsets('day')[1].definition()"
   ]
  },
  {
   "cell_type": "markdown",
   "id": "d1a4309c",
   "metadata": {},
   "source": [
    "**Проверьте насколько хорошо работает такой метод на датасете из семинара**"
   ]
  },
  {
   "cell_type": "code",
   "execution_count": 25,
   "id": "1aa7ae8f",
   "metadata": {},
   "outputs": [],
   "source": [
    "corpus_wsd = []\n",
    "corpus = open('corpus_wsd_50k.txt').read().split('\\n\\n')\n",
    "for sent in corpus:\n",
    "    corpus_wsd.append([s.split('\\t') for s in sent.split('\\n')])"
   ]
  },
  {
   "cell_type": "markdown",
   "id": "ecf01fee",
   "metadata": {},
   "source": [
    "Корпус состоит из предложений, где у каждого слова три поля - значение, лемма и само слово. Значение пустое, когда слово однозначное, а у многозначных слов стоит тэг вида **'long%3:00:02::'** Это тэг wordnet'ного формата"
   ]
  },
  {
   "cell_type": "code",
   "execution_count": 26,
   "id": "a87b02c6",
   "metadata": {},
   "outputs": [
    {
     "data": {
      "text/plain": [
       "[['', 'how', 'How'],\n",
       " ['long%3:00:02::', 'long', 'long'],\n",
       " ['', 'have', 'has'],\n",
       " ['', 'it', 'it'],\n",
       " ['be%2:42:03::', 'be', 'been'],\n",
       " ['', 'since', 'since'],\n",
       " ['', 'you', 'you'],\n",
       " ['review%2:31:00::', 'review', 'reviewed'],\n",
       " ['', 'the', 'the'],\n",
       " ['objective%1:09:00::', 'objective', 'objectives'],\n",
       " ['', 'of', 'of'],\n",
       " ['', 'you', 'your'],\n",
       " ['benefit%1:21:00::', 'benefit', 'benefit'],\n",
       " ['', 'and', 'and'],\n",
       " ['service%1:04:07::', 'service', 'service'],\n",
       " ['program%1:09:01::', 'program', 'program'],\n",
       " ['', '?', '?']]"
      ]
     },
     "execution_count": 26,
     "metadata": {},
     "output_type": "execute_result"
    }
   ],
   "source": [
    "corpus_wsd[0]"
   ]
  },
  {
   "cell_type": "markdown",
   "id": "9b11363d",
   "metadata": {},
   "source": [
    "Вот так можно достать соответствующий этому тэгу синсет:"
   ]
  },
  {
   "cell_type": "code",
   "execution_count": 217,
   "id": "f5fefa16",
   "metadata": {},
   "outputs": [
    {
     "data": {
      "text/plain": [
       "Synset('review.v.01')"
      ]
     },
     "execution_count": 217,
     "metadata": {},
     "output_type": "execute_result"
    }
   ],
   "source": [
    "wn.lemma_from_key('review%2:31:00::').synset()"
   ]
  },
  {
   "cell_type": "markdown",
   "id": "3bb068f3",
   "metadata": {},
   "source": [
    "Когда с помощью алгоритма Леска вы найдете подходящее значение, их можно просто сравнить"
   ]
  },
  {
   "cell_type": "code",
   "execution_count": 223,
   "id": "b2bc390d",
   "metadata": {},
   "outputs": [
    {
     "data": {
      "text/plain": [
       "[Synset('hanker.v.01'),\n",
       " Synset('long.a.01'),\n",
       " Synset('long.a.02'),\n",
       " Synset('long.s.03'),\n",
       " Synset('retentive.a.01'),\n",
       " Synset('long.a.05'),\n",
       " Synset('long.a.06'),\n",
       " Synset('long.s.07'),\n",
       " Synset('farseeing.s.02'),\n",
       " Synset('long.s.09'),\n",
       " Synset('long.r.01'),\n",
       " Synset('long.r.02')]"
      ]
     },
     "execution_count": 223,
     "metadata": {},
     "output_type": "execute_result"
    }
   ],
   "source": [
    "wn.synsets('long')[i]"
   ]
  },
  {
   "cell_type": "code",
   "execution_count": 226,
   "id": "bd3cbf2d",
   "metadata": {},
   "outputs": [
    {
     "data": {
      "text/plain": [
       "True"
      ]
     },
     "execution_count": 226,
     "metadata": {},
     "output_type": "execute_result"
    }
   ],
   "source": [
    "# тут подходит второй синсет (!в вашем решении вместо индекса единицы будет результат работы функции lesk)\n",
    "wn.synsets('long')[1] == wn.lemma_from_key('long%3:00:02::').synset()"
   ]
  },
  {
   "cell_type": "code",
   "execution_count": 227,
   "id": "eca9e9e6",
   "metadata": {},
   "outputs": [
    {
     "data": {
      "text/plain": [
       "[(Synset('hanker.v.01'), False),\n",
       " (Synset('long.a.01'), True),\n",
       " (Synset('long.a.02'), False),\n",
       " (Synset('long.s.03'), False),\n",
       " (Synset('retentive.a.01'), False),\n",
       " (Synset('long.a.05'), False),\n",
       " (Synset('long.a.06'), False),\n",
       " (Synset('long.s.07'), False),\n",
       " (Synset('farseeing.s.02'), False),\n",
       " (Synset('long.s.09'), False),\n",
       " (Synset('long.r.01'), False),\n",
       " (Synset('long.r.02'), False)]"
      ]
     },
     "execution_count": 227,
     "metadata": {},
     "output_type": "execute_result"
    }
   ],
   "source": [
    "# можно сравнить со всеми, чтобы убедиться\n",
    "[(syns, wn.synsets('long')[i] == wn.lemma_from_key('long%3:00:02::').synset()) \n",
    "  for i, syns in enumerate(wn.synsets('long'))]"
   ]
  },
  {
   "cell_type": "markdown",
   "id": "799b8806",
   "metadata": {},
   "source": [
    "**Вам нужно для каждого многозначного слова (т.е. у него есть тэг в первом поле) с помощью алгоритма Леска предсказать нужный синсет и сравнить с правильным. Посчитайте процент правильных предсказаний (accuracy).**\n",
    "\n",
    "Если считается слишком долго, возьмите поменьше предложений (например, только тысячу)"
   ]
  },
  {
   "cell_type": "markdown",
   "id": "c48b45d4",
   "metadata": {},
   "source": [
    "### Задание 2* (2 балла)"
   ]
  },
  {
   "cell_type": "markdown",
   "id": "c57ef129",
   "metadata": {},
   "source": [
    "В семинаре для WSI на данных Диалога использовался только Fastext. Попробуйте заменить его на адаграм (обучите свою модель или используйте предобученную out.pkl или https://s3.amazonaws.com/kostia.lopuhin/all.a010.p10.d300.w5.m100.nonorm.slim.joblib), а также поэкспериментируйте с разными алгоритмами кластеризации и их параметрами (можно использовать только те алгоритмы, которые обучаются достаточно быстро)"
   ]
  },
  {
   "cell_type": "markdown",
   "id": "b89e5ea3",
   "metadata": {},
   "source": [
    "Для каждого эксперимента рассчитайте ARI"
   ]
  },
  {
   "cell_type": "code",
   "execution_count": null,
   "id": "1c17e25c",
   "metadata": {},
   "outputs": [],
   "source": []
  }
 ],
 "metadata": {
  "kernelspec": {
   "display_name": "Python 3",
   "language": "python",
   "name": "python3"
  },
  "language_info": {
   "codemirror_mode": {
    "name": "ipython",
    "version": 3
   },
   "file_extension": ".py",
   "mimetype": "text/x-python",
   "name": "python",
   "nbconvert_exporter": "python",
   "pygments_lexer": "ipython3",
   "version": "3.7.2"
  }
 },
 "nbformat": 4,
 "nbformat_minor": 5
}
