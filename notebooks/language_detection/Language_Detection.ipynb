{
 "cells": [
  {
   "cell_type": "markdown",
   "metadata": {},
   "source": [
    "Семинар 2. Определение языка (language detection)\n",
    "--------------------"
   ]
  },
  {
   "cell_type": "markdown",
   "metadata": {},
   "source": [
    "<img src=\"./img.jpg\">"
   ]
  },
  {
   "cell_type": "code",
   "execution_count": 1,
   "metadata": {},
   "outputs": [],
   "source": [
    "import wikipedia\n",
    "import numpy as np\n",
    "import os\n",
    "import json\n",
    "import requests"
   ]
  },
  {
   "cell_type": "code",
   "execution_count": 2,
   "metadata": {},
   "outputs": [],
   "source": [
    "# посмотрим какие языки есть в википедии и какие коды им соответствуют\n",
    "code2lang = wikipedia.languages()"
   ]
  },
  {
   "cell_type": "code",
   "execution_count": 97,
   "metadata": {},
   "outputs": [
    {
     "name": "stdout",
     "output_type": "stream",
     "text": [
      "[('aeb-latn', 'Tûnsî'), ('tly', 'толышә зывон'), ('kri', 'Krio'), ('sv', 'svenska'), ('li', 'Limburgs'), ('abs', 'bahasa ambon'), ('ilo', 'Ilokano'), ('brh', 'Bráhuí'), ('ug-latn', 'Uyghurche'), ('ks', 'कॉशुर / کٲشُر'), ('am', 'አማርኛ'), ('luz', 'لئری دوٙمینی'), ('os', 'Ирон'), ('kiu', 'Kırmancki'), ('mni', 'মেইতেই লোন্'), ('gl', 'galego'), ('su', 'Basa Sunda'), ('aln', 'Gegë'), ('diq', 'Zazaki'), ('rif', 'Tarifit'), ('inh', 'ГӀалгӀай'), ('skr-arab', 'سرائیکی'), ('vro', 'Võro'), ('yue', '粵語'), ('gv', 'Gaelg'), ('it', 'italiano'), ('so', 'Soomaaliga'), ('ar', 'العربية'), ('haw', 'Hawaiʻi'), ('mus', 'Mvskoke')]\n"
     ]
    }
   ],
   "source": [
    "print(list(code2lang.items())[:30])"
   ]
  },
  {
   "cell_type": "code",
   "execution_count": 4,
   "metadata": {},
   "outputs": [],
   "source": [
    "# выберем несколько языков с кириллическим алфавитом (судя по названию языка)\n",
    "langs = ['be', 'bg', 'ky', 'lez' , 'mhr', 'mn', 'mk', 'mo', 'ru', 'sty', 'uk', 'en']"
   ]
  },
  {
   "cell_type": "code",
   "execution_count": 101,
   "metadata": {},
   "outputs": [
    {
     "data": {
      "text/plain": [
       "[('be', 'беларуская'),\n",
       " ('bg', 'български'),\n",
       " ('ky', 'Кыргызча'),\n",
       " ('lez', 'лезги'),\n",
       " ('mhr', 'олык марий'),\n",
       " ('mn', 'монгол'),\n",
       " ('mk', 'македонски'),\n",
       " ('mo', 'молдовеняскэ'),\n",
       " ('ru', 'русский'),\n",
       " ('sty', 'cебертатар'),\n",
       " ('uk', 'українська'),\n",
       " ('en', 'English')]"
      ]
     },
     "execution_count": 101,
     "metadata": {},
     "output_type": "execute_result"
    }
   ],
   "source": [
    "# расшифровка \n",
    "[(lang, code2lang[lang]) for lang  in langs]"
   ]
  },
  {
   "cell_type": "markdown",
   "metadata": {},
   "source": [
    "Выбрать какие-то случайные статьи можно с помощью функции wikipedia.random(n) (n - число статей)\n",
    "\n",
    "Скачивание занимает некоторое время и может выдавать всякие непредсказуемые ошибки, поэтому не забывайте про добавлять обработчик исключения в аналогичные функции."
   ]
  },
  {
   "cell_type": "code",
   "execution_count": null,
   "metadata": {},
   "outputs": [],
   "source": [
    "def get_texts_for_lang(lang, n=100): # функция для скачивания статей из википедии\n",
    "    wikipedia.set_lang(lang)\n",
    "    wiki_content = []\n",
    "    pages = wikipedia.random(n)\n",
    "    \n",
    "    for page_name in pages:\n",
    "        try:\n",
    "            page = wikipedia.page(page_name)\n",
    "        \n",
    "        except Exception as e:\n",
    "            print('Skipping page {}'.format(page_name), e)\n",
    "            continue\n",
    "\n",
    "        wiki_content.append('{}\\n{}'.format(page.title, page.content.replace('==', '')))\n",
    "\n",
    "    return wiki_content"
   ]
  },
  {
   "cell_type": "code",
   "execution_count": null,
   "metadata": {},
   "outputs": [],
   "source": [
    "# скачиваем по 120 случайных статей для каждого языка\n",
    "wiki_texts_test = {}\n",
    "for lang in langs:\n",
    "    try:\n",
    "        wiki_texts_test[lang] = get_texts_for_lang(lang, 10)\n",
    "    except Exception as e:\n",
    "        print('ERROR ON - ', lang, e)\n",
    "        continue\n",
    "    print(lang, len(wiki_texts_test[lang]))"
   ]
  },
  {
   "cell_type": "markdown",
   "metadata": {},
   "source": [
    "Я сделал это заранее, чтобы вам не пришлось мучаться. Скачайте их тут - https://github.com/mannefedov/compling_nlp_hse_course/blob/master/data/wiki_texts.json"
   ]
  },
  {
   "cell_type": "code",
   "execution_count": 6,
   "metadata": {},
   "outputs": [],
   "source": [
    "wiki_texts = json.loads(open('wiki_texts.json', 'r', encoding='utf8').read())"
   ]
  },
  {
   "cell_type": "markdown",
   "metadata": {},
   "source": [
    "## Как можно определить язык?"
   ]
  },
  {
   "cell_type": "markdown",
   "metadata": {},
   "source": [
    "### 1 По набору букв"
   ]
  },
  {
   "cell_type": "markdown",
   "metadata": {},
   "source": [
    "У каждого языка есть какой-то определенный набор символов, которые в нем используются. Даже между двумя очень близкими языками есть различия на уровне символовов. Попробуем определять язык по множеству символов."
   ]
  },
  {
   "cell_type": "code",
   "execution_count": 7,
   "metadata": {},
   "outputs": [],
   "source": [
    "from collections import defaultdict\n",
    "from string import punctuation, digits\n",
    "punctuation = set(punctuation + '«»—…“”\\n\\t' + digits)"
   ]
  },
  {
   "cell_type": "markdown",
   "metadata": {},
   "source": [
    "Создадим множества символов, представляющих язык, по скачанным текстам."
   ]
  },
  {
   "cell_type": "markdown",
   "metadata": {},
   "source": [
    "Нужно создать словарь, в котром каждому ключу соотвествует множество. Удобно это сделать с помощью defaultdict. Он устроен примерно как обычный питоновский словарь, но ему можно задать значение нового ключа по умолчанию. \n",
    "Синтаксис такой:\n",
    "\n",
    "***d = defaultdict(callable)***\n",
    "\n",
    "\n",
    "callable - это такой питоновский объект, который можно вызвать (добавив скобки) и он что-то вернет. Соответственно, для каждого нового элемента будет вызываться этот callable и присваивать элементу значение, которое он вернет. \n",
    "Например, **set** - это callable, который при вызове ***set()*** вернет пустое множество. То есть, каждому новому элементу будет соответствовать пустое множество. Аналогично будет с int, dict, tuple, str, float.\n",
    "\n",
    "Если нужно сделать какой-то особое значение по умолчанию, можно написать отдельную функцию или сделать это через lambda. Например, lamda: {'хороших':0, 'плохих':0} сделает так, чтобы каждому элементу по умолчанию ставился словарь с двумя ключами (хороших, плохих) и нулевыми значениями.\n",
    "\n",
    "Когда используете defaultdict, помните, d['random_stuff'] не выдаст никакой ошибки и у вас в словаре появится этот объект.\n"
   ]
  },
  {
   "cell_type": "code",
   "execution_count": 8,
   "metadata": {},
   "outputs": [],
   "source": [
    "lang2chars = defaultdict(set)\n",
    "\n",
    "# операция \"-\" для множества означает разность, т.е. \"все елементы x, которых нет в y\"\n",
    "# удобно таким образом отфильтровать все знаки пунктуации\n",
    "for lang in wiki_texts:\n",
    "    for text in wiki_texts[lang]:\n",
    "        text_set = set(text.lower()) - punctuation\n",
    "        lang2chars[lang].update(text_set)"
   ]
  },
  {
   "cell_type": "code",
   "execution_count": 9,
   "metadata": {},
   "outputs": [
    {
     "data": {
      "text/plain": [
       "dict_keys(['bg', 'mn', 'be', 'en', 'ky', 'uk', 'mhr', 'ru', 'mk', 'lez'])"
      ]
     },
     "execution_count": 9,
     "metadata": {},
     "output_type": "execute_result"
    }
   ],
   "source": [
    "lang2chars.keys()"
   ]
  },
  {
   "cell_type": "code",
   "execution_count": 10,
   "metadata": {},
   "outputs": [
    {
     "data": {
      "text/plain": [
       "166"
      ]
     },
     "execution_count": 10,
     "metadata": {},
     "output_type": "execute_result"
    }
   ],
   "source": [
    "# посмотрим на какой-нибудь язык\n",
    "len(lang2chars['ru'])"
   ]
  },
  {
   "cell_type": "code",
   "execution_count": 95,
   "metadata": {
    "scrolled": true
   },
   "outputs": [
    {
     "data": {
      "text/plain": [
       "['r', 'ç', 'è', 'τ', '҂']"
      ]
     },
     "execution_count": 95,
     "metadata": {},
     "output_type": "execute_result"
    }
   ],
   "source": [
    "list(lang2chars['ru'])[:5]"
   ]
  },
  {
   "cell_type": "markdown",
   "metadata": {},
   "source": [
    "Теперь сделаем функцию, которая предсказывает язык на основе пересечения множеств символов."
   ]
  },
  {
   "cell_type": "code",
   "execution_count": 14,
   "metadata": {},
   "outputs": [],
   "source": [
    "# оператор & означает пересечение\n",
    "\n",
    "def predict_language(text, lang2char):\n",
    "    text_chars = set(text.lower())\n",
    "    lang2sim = {}\n",
    "    for lang in lang2char:\n",
    "        intersect = len((text_chars - punctuation) & lang2char[lang])\n",
    "        lang2sim[lang] = intersect\n",
    "    \n",
    "    return max(lang2sim.items(), key=lambda x: x[1])[0]"
   ]
  },
  {
   "cell_type": "code",
   "execution_count": 15,
   "metadata": {},
   "outputs": [
    {
     "data": {
      "text/plain": [
       "'bg'"
      ]
     },
     "execution_count": 15,
     "metadata": {},
     "output_type": "execute_result"
    }
   ],
   "source": [
    "predict_language('что это за язык такой?', lang2chars)"
   ]
  },
  {
   "cell_type": "code",
   "execution_count": 16,
   "metadata": {},
   "outputs": [],
   "source": [
    "# отклассифицурем все тексты, которые у нас есть\n",
    "from sklearn.metrics import classification_report, confusion_matrix"
   ]
  },
  {
   "cell_type": "code",
   "execution_count": 17,
   "metadata": {},
   "outputs": [],
   "source": [
    "true_labels = []\n",
    "predicted_labels = []\n",
    "\n",
    "for lang in wiki_texts:\n",
    "    for text in wiki_texts[lang]:\n",
    "        true_labels.append(lang)\n",
    "        predicted_labels.append(predict_language(text, lang2chars))"
   ]
  },
  {
   "cell_type": "code",
   "execution_count": 18,
   "metadata": {},
   "outputs": [
    {
     "name": "stdout",
     "output_type": "stream",
     "text": [
      "              precision    recall  f1-score   support\n",
      "\n",
      "          be       1.00      0.15      0.27        97\n",
      "          bg       0.36      1.00      0.53        98\n",
      "          en       1.00      0.27      0.42        94\n",
      "          ky       1.00      0.50      0.67       100\n",
      "         lez       1.00      0.78      0.88       100\n",
      "         mhr       1.00      0.93      0.96        97\n",
      "          mk       1.00      1.00      1.00       100\n",
      "          mn       0.71      1.00      0.83        98\n",
      "          ru       0.71      0.30      0.42        91\n",
      "          uk       0.50      0.88      0.64        93\n",
      "\n",
      "   micro avg       0.68      0.68      0.68       968\n",
      "   macro avg       0.83      0.68      0.66       968\n",
      "weighted avg       0.83      0.68      0.67       968\n",
      "\n"
     ]
    }
   ],
   "source": [
    "print(classification_report(true_labels, predicted_labels))"
   ]
  },
  {
   "cell_type": "code",
   "execution_count": 19,
   "metadata": {},
   "outputs": [],
   "source": [
    "labels = list(set(true_labels))"
   ]
  },
  {
   "cell_type": "code",
   "execution_count": 20,
   "metadata": {},
   "outputs": [
    {
     "name": "stdout",
     "output_type": "stream",
     "text": [
      "[[ 90   0   0   5   1   0   1   0   0   0]\n",
      " [  0  25   2  62   5   0   0   0   0   0]\n",
      " [  0   0  27  61   3   0   0   0   0   0]\n",
      " [  0   0   0  98   0   0   0   0   0   0]\n",
      " [  0   0   0   0  98   0   0   0   0   0]\n",
      " [  0   0   0  18  32  50   0   0   0   0]\n",
      " [  0   0   9   2   0   0  82   0   0   0]\n",
      " [  0   0   0   1   0   0  81  15   0   0]\n",
      " [  0   0   0   0   0   0   0   0 100   0]\n",
      " [  0   0   0  22   0   0   0   0   0  78]]\n"
     ]
    }
   ],
   "source": [
    "print(confusion_matrix(true_labels, predicted_labels, labels = labels))"
   ]
  },
  {
   "cell_type": "code",
   "execution_count": null,
   "metadata": {},
   "outputs": [],
   "source": []
  },
  {
   "cell_type": "code",
   "execution_count": 21,
   "metadata": {},
   "outputs": [],
   "source": [
    "import seaborn as sns\n",
    "import matplotlib.pyplot as plt\n",
    "%matplotlib inline  "
   ]
  },
  {
   "cell_type": "code",
   "execution_count": 22,
   "metadata": {},
   "outputs": [
    {
     "data": {
      "image/png": "[encoded data removed]",
      "text/plain": [
       "<matplotlib.figure.Figure at 0x7f670c020358>"
      ]
     },
     "metadata": {},
     "output_type": "display_data"
    }
   ],
   "source": [
    "fig, ax = plt.subplots(figsize=(10,5))\n",
    "sns.heatmap(data=confusion_matrix(true_labels, predicted_labels, labels = labels), \n",
    "            annot=True, \n",
    "            fmt=\"d\", xticklabels=labels, yticklabels=labels, ax=ax)\n",
    "plt.title(\"Confusion matrix\")\n",
    "plt.show()"
   ]
  },
  {
   "cell_type": "markdown",
   "metadata": {},
   "source": [
    "### 2 По набору буквенных нграм"
   ]
  },
  {
   "cell_type": "markdown",
   "metadata": {},
   "source": [
    "Буквенных нграм слишком много для одного множества, поэтому нужно как-то выделить топ-N."
   ]
  },
  {
   "cell_type": "markdown",
   "metadata": {},
   "source": [
    "Для частотностей есть Counter. По сути это ***defaultdict(int)*** только немного удобнее.\n",
    "Можно создавать Counter из любого itarable объекта, складывать два каунтера (одинаковые знаения сложатся, а новые просто добавятся, удобно сортировать элементы по частотности методов Counter.most_common(topn)"
   ]
  },
  {
   "cell_type": "code",
   "execution_count": 29,
   "metadata": {},
   "outputs": [],
   "source": [
    "from collections import Counter"
   ]
  },
  {
   "cell_type": "code",
   "execution_count": 30,
   "metadata": {},
   "outputs": [],
   "source": [
    "# функция для создания нграммов из строки\n",
    "def n_grams(a, n):\n",
    "    ngrams = [a[i:i+n].translate(table).strip(' ') for i in range(0, len(a)+1-n)]\n",
    "    return set(ngrams)"
   ]
  },
  {
   "cell_type": "code",
   "execution_count": 50,
   "metadata": {},
   "outputs": [],
   "source": [
    "# посчитаем частотность нграммов\n",
    "lang2char_ngrams_freqs = defaultdict(Counter)\n",
    "table = str.maketrans({ch: None for ch in punctuation})\n",
    "\n",
    "for lang in wiki_texts:\n",
    "    for text in wiki_texts[lang]:\n",
    "        char_ngrams = n_grams(text.lower().translate(table), 3)\n",
    "        lang2char_ngrams_freqs[lang].update(filter(bool, char_ngrams))\n",
    "\n",
    "# сделаем множества с топ 300 нграммамим\n",
    "\n",
    "lang2char_ngrams = {}\n",
    "for lang in lang2char_ngrams_freqs:\n",
    "    topn = [word for word, freq in lang2char_ngrams_freqs[lang].most_common(100)]\n",
    "    lang2char_ngrams[lang] = set(topn)\n"
   ]
  },
  {
   "cell_type": "code",
   "execution_count": 94,
   "metadata": {
    "scrolled": true
   },
   "outputs": [
    {
     "data": {
      "text/plain": [
       "['да', 'нов', 'пер', 'ере', 'о']"
      ]
     },
     "execution_count": 94,
     "metadata": {},
     "output_type": "execute_result"
    }
   ],
   "source": [
    "list(lang2char_ngrams['ru'])[:5]"
   ]
  },
  {
   "cell_type": "code",
   "execution_count": 52,
   "metadata": {},
   "outputs": [],
   "source": [
    "def predict_language(text, lang2char):\n",
    "    text_ngrams = n_grams(text.lower().translate(table), 2)\n",
    "    \n",
    "    lang2sim = {}\n",
    "    \n",
    "    for lang in lang2char:\n",
    "        intersect = len((text_ngrams - punctuation) & lang2char[lang])\n",
    "        lang2sim[lang] = intersect\n",
    "    \n",
    "    return max(lang2sim, key=lambda x: lang2sim[x])\n",
    "#     return lang2sim"
   ]
  },
  {
   "cell_type": "code",
   "execution_count": 53,
   "metadata": {},
   "outputs": [
    {
     "data": {
      "text/plain": [
       "'en'"
      ]
     },
     "execution_count": 53,
     "metadata": {},
     "output_type": "execute_result"
    }
   ],
   "source": [
    "predict_language('What kinda language is that', lang2char_ngrams)"
   ]
  },
  {
   "cell_type": "code",
   "execution_count": 54,
   "metadata": {},
   "outputs": [
    {
     "data": {
      "text/plain": [
       "'ru'"
      ]
     },
     "execution_count": 54,
     "metadata": {},
     "output_type": "execute_result"
    }
   ],
   "source": [
    "predict_language('Какой это язык?', lang2char_ngrams)"
   ]
  },
  {
   "cell_type": "code",
   "execution_count": 61,
   "metadata": {},
   "outputs": [],
   "source": [
    "true_labels = []\n",
    "predicted_labels = []\n",
    "\n",
    "for lang in wiki_texts:\n",
    "    for text in wiki_texts[lang]:\n",
    "        true_labels.append(lang)\n",
    "        predicted_labels.append(predict_language(text, lang2char_ngrams))"
   ]
  },
  {
   "cell_type": "code",
   "execution_count": 62,
   "metadata": {},
   "outputs": [
    {
     "name": "stdout",
     "output_type": "stream",
     "text": [
      "              precision    recall  f1-score   support\n",
      "\n",
      "          be       1.00      0.94      0.97        97\n",
      "          bg       1.00      0.24      0.39        98\n",
      "          en       0.87      1.00      0.93        94\n",
      "          ky       1.00      0.60      0.75       100\n",
      "         lez       0.99      0.92      0.95       100\n",
      "         mhr       0.99      0.77      0.87        97\n",
      "          mk       0.97      0.78      0.87       100\n",
      "          mn       0.83      0.98      0.90        98\n",
      "          ru       0.41      0.99      0.58        91\n",
      "          uk       0.93      0.99      0.96        93\n",
      "\n",
      "   micro avg       0.82      0.82      0.82       968\n",
      "   macro avg       0.90      0.82      0.82       968\n",
      "weighted avg       0.90      0.82      0.82       968\n",
      "\n"
     ]
    }
   ],
   "source": [
    "print(classification_report(true_labels, predicted_labels))"
   ]
  },
  {
   "cell_type": "markdown",
   "metadata": {},
   "source": [
    "Местами есть проблемы, но в основном все отлично"
   ]
  },
  {
   "cell_type": "markdown",
   "metadata": {},
   "source": [
    "## Задание"
   ]
  },
  {
   "cell_type": "markdown",
   "metadata": {},
   "source": [
    "Напишите функцию, которая будет принимать текст производной длинны и языка (из тех, что у нас уже есть) и выводить основной язык и слова, которые не соответствуют это языку текста.\n",
    "\n",
    "То есть по запросу \"шо это за язык?\n",
    "должно получится \"Основной язык  - ru, не соотвествующее слова: шо\""
   ]
  },
  {
   "cell_type": "code",
   "execution_count": 74,
   "metadata": {},
   "outputs": [],
   "source": [
    "def predict_foreign_words(text):\n",
    "    \n",
    "    words = [word.translate(table).strip(' ') for word in text.lower().split()]\n",
    "    \n",
    "    \n",
    "    ### ВАШ КОД ЗДЕСЬ\n",
    "    ### .....\n",
    "    ### ......\n",
    "    \n",
    "    return lang, foreign_words"
   ]
  },
  {
   "cell_type": "markdown",
   "metadata": {},
   "source": [
    "Вот так это примерно работает (у меня получается плохо)"
   ]
  },
  {
   "cell_type": "code",
   "execution_count": 75,
   "metadata": {},
   "outputs": [
    {
     "name": "stdout",
     "output_type": "stream",
     "text": [
      "('ru', [('младший', 'mn'), ('лейтенант', 'bg'), ('мальчик', 'ky'), ('everybody', 'en'), ('хотят', 'bg'), ('to', 'en'), ('dance', 'en'), ('с', 'bg')])\n"
     ]
    }
   ],
   "source": [
    "test_text_1 = 'Младший лейтенант мальчик молодой everybody хотят to dance с тобой'\n",
    "print(predict_foreign_words(test_text_1))"
   ]
  },
  {
   "cell_type": "code",
   "execution_count": 76,
   "metadata": {},
   "outputs": [
    {
     "name": "stdout",
     "output_type": "stream",
     "text": [
      "('uk', [('тут', 'mn'), ('хтонэбудь', 'mn'), ('розмовляйе', 'mhr'), ('порусски', 'bg')])\n"
     ]
    }
   ],
   "source": [
    "test_text_2 = 'Тут хто-нэбудь розмовляйе по-русски?'\n",
    "print(predict_foreign_words(test_text_2 ))"
   ]
  },
  {
   "cell_type": "code",
   "execution_count": 77,
   "metadata": {},
   "outputs": [
    {
     "name": "stdout",
     "output_type": "stream",
     "text": [
      "('ru', [('як', 'bg'), ('дабрацца', 'bg'), ('российского', 'uk'), ('пасольства', 'be')])\n"
     ]
    }
   ],
   "source": [
    "test_text_3 = 'Як дабрацца российского пасольства??'\n",
    "print(predict_foreign_words(test_text_3 ))"
   ]
  },
  {
   "cell_type": "code",
   "execution_count": 78,
   "metadata": {},
   "outputs": [
    {
     "name": "stdout",
     "output_type": "stream",
     "text": [
      "('mhr', [('ончыч', 'mn'), ('ӱжара', 'be'), ('газета', 'mn'), ('редакторлан', 'ru'), ('тыршенвара', 'bg'), ('исполкомын', 'uk'), ('вуйлатышыжланкпсс', 'ky'), ('райкомын', 'ky'), ('икымше', 'ky'), ('секретарьжылан', 'ru')])\n"
     ]
    }
   ],
   "source": [
    "test_text_4 = 'Ончыч Куженер кундемысе «Ӱжара» газета редакторлан тыршен,\\\n",
    "вара райсовет исполкомын вуйлатышыжлан,\\\n",
    "КПСС райкомын икымше секретарьжылан ыштен.'\n",
    "print(predict_foreign_words(test_text_4))"
   ]
  },
  {
   "cell_type": "markdown",
   "metadata": {},
   "source": [
    "### Дополнительное задание"
   ]
  },
  {
   "cell_type": "markdown",
   "metadata": {},
   "source": [
    "До этого мы учитывали только само наличие нграмм или символов, но очевидно, что важно ещё и распределние частот по этим нграммам. В родственных языках символы могут быть почти одинаковые, но вот частота употребления точно будет отличаться."
   ]
  },
  {
   "cell_type": "markdown",
   "metadata": {},
   "source": [
    "Попробуем представить каждый язык как распределение на символьных нграммах."
   ]
  },
  {
   "cell_type": "code",
   "execution_count": 83,
   "metadata": {},
   "outputs": [],
   "source": [
    "import numpy as np"
   ]
  },
  {
   "cell_type": "code",
   "execution_count": 84,
   "metadata": {},
   "outputs": [],
   "source": [
    "# cоздадим общий словарь нграммов с частотностью\n",
    "vocab = Counter()\n",
    "\n",
    "for lang in wiki_texts:\n",
    "    for text in wiki_texts[lang]:\n",
    "        vocab.update(n_grams(text, 2))\n",
    "\n",
    "# выберем топ-300 нграммов и сохраним их в список\n",
    "vocab = [word for word,_ in vocab.most_common(5000)]\n",
    "#сделаем словарь нграм-индекс, индекс слова для удобства\n",
    "id2ngram = {i:ngram for i, ngram in enumerate(vocab)}\n",
    "ngram2id = {ngram:i for i, ngram in enumerate(vocab)}"
   ]
  },
  {
   "cell_type": "markdown",
   "metadata": {},
   "source": [
    "Теперь нужно представить каждый язык, как вектор размером словаря."
   ]
  },
  {
   "cell_type": "code",
   "execution_count": 100,
   "metadata": {},
   "outputs": [],
   "source": [
    "# воспользуемся defauldict\n",
    "# по умолчанию каждому элементу поставим в соотвествие np.zeros((len(vocab)))"
   ]
  },
  {
   "cell_type": "code",
   "execution_count": 85,
   "metadata": {},
   "outputs": [],
   "source": [
    "lang2vec = defaultdict(lambda: np.zeros((len(vocab))))"
   ]
  },
  {
   "cell_type": "markdown",
   "metadata": {},
   "source": [
    "Теперь попробуйте написать код, который заполнит вектора языков числами."
   ]
  },
  {
   "cell_type": "code",
   "execution_count": 86,
   "metadata": {},
   "outputs": [],
   "source": [
    "for lang in wiki_texts:\n",
    "    for text in wiki_texts[lang]:\n",
    "        ngrams = n_grams(text.lower().translate(table), 2)\n",
    "        for ngram in ngrams:\n",
    "            if ngram in ngram2id:\n",
    "                lang2vec[lang][ngram2id[ngram]] += 1\n",
    "            \n",
    "            "
   ]
  },
  {
   "cell_type": "markdown",
   "metadata": {},
   "source": [
    "Перепишите функцию определения языка, чтобы она считала не пересечение с множеством, а косинусную близость."
   ]
  },
  {
   "cell_type": "code",
   "execution_count": 88,
   "metadata": {},
   "outputs": [],
   "source": [
    "from sklearn.metrics.pairwise import cosine_similarity\n",
    "\n",
    "def predict_language(text, lang2vec):\n",
    "    \n",
    "    \n",
    "    # ваш код здесь\n",
    "    # ...\n",
    "    \n",
    "    lang2sim = {}\n",
    "    \n",
    "    for lang in lang2vec:\n",
    "        # ваш код здесь\n",
    "        #...\n",
    "        \n",
    "    \n",
    "    return max(lang2sim, key=lambda x: lang2sim[x])\n"
   ]
  },
  {
   "cell_type": "markdown",
   "metadata": {},
   "source": [
    "Проверьте качество на небольшой тестовой выборке. Скачать можно тут - https://github.com/mannefedov/compling_nlp_hse_course/blob/master/data/wiki_texts_test.json"
   ]
  },
  {
   "cell_type": "code",
   "execution_count": 89,
   "metadata": {},
   "outputs": [],
   "source": [
    "wiki_texts_test = json.loads(open('wiki_texts_test.json', encoding='utf8').read())"
   ]
  },
  {
   "cell_type": "code",
   "execution_count": 90,
   "metadata": {},
   "outputs": [],
   "source": [
    "true_labels = []\n",
    "predicted_labels = []\n",
    "\n",
    "for lang in wiki_texts_test:\n",
    "    for text in wiki_texts_test[lang]:\n",
    "        true_labels.append(lang)\n",
    "        predicted_labels.append(predict_language(text, lang2vec))"
   ]
  },
  {
   "cell_type": "code",
   "execution_count": null,
   "metadata": {},
   "outputs": [],
   "source": []
  },
  {
   "cell_type": "code",
   "execution_count": 92,
   "metadata": {},
   "outputs": [],
   "source": [
    "print(classification_report(true_labels, predicted_labels))"
   ]
  },
  {
   "cell_type": "code",
   "execution_count": null,
   "metadata": {},
   "outputs": [],
   "source": []
  }
 ],
 "metadata": {
  "anaconda-cloud": {},
  "kernelspec": {
   "display_name": "Python 3",
   "language": "python",
   "name": "python3"
  },
  "language_info": {
   "codemirror_mode": {
    "name": "ipython",
    "version": 3
   },
   "file_extension": ".py",
   "mimetype": "text/x-python",
   "name": "python",
   "nbconvert_exporter": "python",
   "pygments_lexer": "ipython3",
   "version": "3.5.2"
  }
 },
 "nbformat": 4,
 "nbformat_minor": 1
}
