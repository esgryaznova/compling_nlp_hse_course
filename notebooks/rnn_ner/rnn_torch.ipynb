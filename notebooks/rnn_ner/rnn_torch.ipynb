{
 "cells": [
  {
   "cell_type": "markdown",
   "metadata": {},
   "source": [
    "# Дисклеймер\n",
    "Эту тетрадку нужно запускать в колабе или в vast.ai. Не мучатесь с установкой библиотек и с обучением на cpu."
   ]
  },
  {
   "cell_type": "code",
   "execution_count": 4,
   "metadata": {
    "scrolled": true
   },
   "outputs": [
    {
     "name": "stdout",
     "output_type": "stream",
     "text": [
      "Reading package lists... Done\n",
      "Building dependency tree       \n",
      "Reading state information... Done\n",
      "The following additional packages will be installed:\n",
      "  libpsl5 publicsuffix\n",
      "Suggested packages:\n",
      "  zip\n",
      "The following NEW packages will be installed:\n",
      "  libpsl5 publicsuffix unzip wget\n",
      "0 upgraded, 4 newly installed, 0 to remove and 10 not upgraded.\n",
      "Need to get 623 kB of archives.\n",
      "After this operation, 1887 kB of additional disk space will be used.\n",
      "Get:1 http://archive.ubuntu.com/ubuntu bionic/main amd64 libpsl5 amd64 0.19.1-5build1 [41.8 kB]\n",
      "Get:2 http://archive.ubuntu.com/ubuntu bionic/main amd64 publicsuffix all 20180223.1310-1 [97.6 kB]\n",
      "Get:3 http://archive.ubuntu.com/ubuntu bionic-updates/main amd64 wget amd64 1.19.4-1ubuntu2.2 [316 kB]\n",
      "Get:4 http://archive.ubuntu.com/ubuntu bionic-updates/main amd64 unzip amd64 6.0-21ubuntu1.1 [168 kB]\n",
      "Fetched 623 kB in 0s (1951 kB/s)\n",
      "debconf: delaying package configuration, since apt-utils is not installed\n",
      "Selecting previously unselected package libpsl5:amd64.\n",
      "(Reading database ... 6773 files and directories currently installed.)\n",
      "Preparing to unpack .../libpsl5_0.19.1-5build1_amd64.deb ...\n",
      "Unpacking libpsl5:amd64 (0.19.1-5build1) ...\n",
      "Selecting previously unselected package publicsuffix.\n",
      "Preparing to unpack .../publicsuffix_20180223.1310-1_all.deb ...\n",
      "Unpacking publicsuffix (20180223.1310-1) ...\n",
      "Selecting previously unselected package wget.\n",
      "Preparing to unpack .../wget_1.19.4-1ubuntu2.2_amd64.deb ...\n",
      "Unpacking wget (1.19.4-1ubuntu2.2) ...\n",
      "Selecting previously unselected package unzip.\n",
      "Preparing to unpack .../unzip_6.0-21ubuntu1.1_amd64.deb ...\n",
      "Unpacking unzip (6.0-21ubuntu1.1) ...\n",
      "Setting up libpsl5:amd64 (0.19.1-5build1) ...\n",
      "Setting up unzip (6.0-21ubuntu1.1) ...\n",
      "Setting up publicsuffix (20180223.1310-1) ...\n",
      "Setting up wget (1.19.4-1ubuntu2.2) ...\n",
      "Processing triggers for libc-bin (2.27-3ubuntu1.4) ...\n"
     ]
    }
   ],
   "source": [
    "!apt-get -y install unzip wget"
   ]
  },
  {
   "cell_type": "code",
   "execution_count": 5,
   "metadata": {},
   "outputs": [
    {
     "name": "stdout",
     "output_type": "stream",
     "text": [
      "Archive:  data.zip\n",
      "  inflating: lenta_sample.csv        \n",
      "  inflating: __MACOSX/._lenta_sample.csv  \n"
     ]
    }
   ],
   "source": [
    "!unzip data.zip"
   ]
  },
  {
   "cell_type": "code",
   "execution_count": 6,
   "metadata": {
    "scrolled": true
   },
   "outputs": [
    {
     "name": "stdout",
     "output_type": "stream",
     "text": [
      "Collecting pandas\n",
      "  Downloading pandas-1.2.4-cp38-cp38-manylinux1_x86_64.whl (9.7 MB)\n",
      "\u001b[K     |████████████████████████████████| 9.7 MB 14.8 MB/s eta 0:00:01\n",
      "\u001b[?25hCollecting scikit-learn\n",
      "  Downloading scikit_learn-0.24.2-cp38-cp38-manylinux2010_x86_64.whl (24.9 MB)\n",
      "\u001b[K     |████████████████████████████████| 24.9 MB 29.5 MB/s eta 0:00:01\n",
      "\u001b[?25hCollecting matplotlib\n",
      "  Downloading matplotlib-3.4.2-cp38-cp38-manylinux1_x86_64.whl (10.3 MB)\n",
      "\u001b[K     |████████████████████████████████| 10.3 MB 24.3 MB/s eta 0:00:01\n",
      "\u001b[?25hRequirement already satisfied: python-dateutil>=2.7.3 in /opt/conda/lib/python3.8/site-packages (from pandas) (2.8.1)\n",
      "Requirement already satisfied: pytz>=2017.3 in /opt/conda/lib/python3.8/site-packages (from pandas) (2021.1)\n",
      "Requirement already satisfied: numpy>=1.16.5 in /opt/conda/lib/python3.8/site-packages (from pandas) (1.19.2)\n",
      "Collecting threadpoolctl>=2.0.0\n",
      "  Downloading threadpoolctl-2.1.0-py3-none-any.whl (12 kB)\n",
      "Collecting scipy>=0.19.1\n",
      "  Downloading scipy-1.6.3-cp38-cp38-manylinux1_x86_64.whl (27.2 MB)\n",
      "\u001b[K     |████████████████████████████████| 27.2 MB 21.6 MB/s eta 0:00:01\n",
      "\u001b[?25hCollecting joblib>=0.11\n",
      "  Downloading joblib-1.0.1-py3-none-any.whl (303 kB)\n",
      "\u001b[K     |████████████████████████████████| 303 kB 50.8 MB/s eta 0:00:01\n",
      "\u001b[?25hCollecting kiwisolver>=1.0.1\n",
      "  Downloading kiwisolver-1.3.1-cp38-cp38-manylinux1_x86_64.whl (1.2 MB)\n",
      "\u001b[K     |████████████████████████████████| 1.2 MB 48.5 MB/s eta 0:00:01\n",
      "\u001b[?25hRequirement already satisfied: pyparsing>=2.2.1 in /opt/conda/lib/python3.8/site-packages (from matplotlib) (2.4.7)\n",
      "Requirement already satisfied: pillow>=6.2.0 in /opt/conda/lib/python3.8/site-packages (from matplotlib) (8.1.2)\n",
      "Collecting cycler>=0.10\n",
      "  Downloading cycler-0.10.0-py2.py3-none-any.whl (6.5 kB)\n",
      "Requirement already satisfied: six>=1.5 in /opt/conda/lib/python3.8/site-packages (from python-dateutil>=2.7.3->pandas) (1.15.0)\n",
      "Installing collected packages: pandas, threadpoolctl, scipy, joblib, scikit-learn, kiwisolver, cycler, matplotlib\n",
      "Successfully installed cycler-0.10.0 joblib-1.0.1 kiwisolver-1.3.1 matplotlib-3.4.2 pandas-1.2.4 scikit-learn-0.24.2 scipy-1.6.3 threadpoolctl-2.1.0\n"
     ]
    }
   ],
   "source": [
    "!pip install pandas scikit-learn matplotlib"
   ]
  },
  {
   "cell_type": "markdown",
   "metadata": {},
   "source": [
    "## Рекуррентные нейронные сети\n",
    "\n",
    "Рекуррентные нейронные сети (RNN) предназначены для работы с последовательностями (в том числе текстом). По устройству они похожи на цикл, где каждый шаг связан с предудущим. Работают RNN сильно дольше сверток, так как сверточные слои применяются независимо и можно параллельно вычислить все трансформации, а в RNN вычислять шаг можно только после того, как вычеслен предыдущий. Неэффективность, как правило, компенсируется точностью, поэтому RNN являются стандартным инструментом при работе с текстами."
   ]
  },
  {
   "cell_type": "markdown",
   "metadata": {},
   "source": [
    "Давайте посмотрим, как в торче использовать рекуррентные слои и как их соединять с Embedding и Linear слоями."
   ]
  },
  {
   "cell_type": "markdown",
   "metadata": {},
   "source": [
    "Для начала попробуем уже привычную классификацию новостей из ленты"
   ]
  },
  {
   "cell_type": "code",
   "execution_count": 1,
   "metadata": {},
   "outputs": [],
   "source": [
    "import torch\n",
    "import torch.nn as nn\n",
    "import torch.nn.functional as F\n",
    "import torch.optim as optim\n",
    "import torch.utils.data"
   ]
  },
  {
   "cell_type": "code",
   "execution_count": 2,
   "metadata": {},
   "outputs": [],
   "source": [
    "import pandas as pd\n",
    "import numpy as np\n",
    "from string import punctuation\n",
    "from sklearn.model_selection import train_test_split\n",
    "from collections import Counter\n",
    "from IPython.display import Image\n",
    "from IPython.core.display import HTML \n",
    "import matplotlib.pyplot as plt\n",
    "%matplotlib inline"
   ]
  },
  {
   "cell_type": "code",
   "execution_count": 3,
   "metadata": {},
   "outputs": [],
   "source": [
    "data = pd.read_csv('lenta_sample.csv')"
   ]
  },
  {
   "cell_type": "code",
   "execution_count": 4,
   "metadata": {},
   "outputs": [],
   "source": [
    "data.dropna(subset=['topic', 'text'], inplace=True)"
   ]
  },
  {
   "cell_type": "markdown",
   "metadata": {},
   "source": [
    "Предобработка нам тут особо не важна."
   ]
  },
  {
   "cell_type": "code",
   "execution_count": 5,
   "metadata": {},
   "outputs": [],
   "source": [
    "def preprocess(text):\n",
    "    tokens = text.lower().split()\n",
    "    tokens = [token.strip(punctuation) for token in tokens]\n",
    "    return tokens"
   ]
  },
  {
   "cell_type": "markdown",
   "metadata": {},
   "source": [
    "В предыдущей домашке не хватало фмеры. Ее нет в керасе, но можно взять вот такую функцию (взятую со стаковерфлоу)"
   ]
  },
  {
   "cell_type": "markdown",
   "metadata": {},
   "source": [
    "Предобработка точно такая же"
   ]
  },
  {
   "cell_type": "code",
   "execution_count": 6,
   "metadata": {},
   "outputs": [],
   "source": [
    "# словарь\n",
    "vocab = Counter()\n",
    "\n",
    "for text in data.text:\n",
    "    vocab.update(preprocess(text))"
   ]
  },
  {
   "cell_type": "code",
   "execution_count": 7,
   "metadata": {},
   "outputs": [
    {
     "data": {
      "text/plain": [
       "670782"
      ]
     },
     "execution_count": 7,
     "metadata": {},
     "output_type": "execute_result"
    }
   ],
   "source": [
    "len(vocab)"
   ]
  },
  {
   "cell_type": "code",
   "execution_count": 8,
   "metadata": {},
   "outputs": [],
   "source": [
    "# отфильтрованный словарь\n",
    "filtered_vocab = set()\n",
    "\n",
    "for word in vocab:\n",
    "    if vocab[word] > 30:\n",
    "        filtered_vocab.add(word)"
   ]
  },
  {
   "cell_type": "code",
   "execution_count": 9,
   "metadata": {},
   "outputs": [
    {
     "data": {
      "text/plain": [
       "55293"
      ]
     },
     "execution_count": 9,
     "metadata": {},
     "output_type": "execute_result"
    }
   ],
   "source": [
    "len(filtered_vocab)"
   ]
  },
  {
   "cell_type": "code",
   "execution_count": 10,
   "metadata": {},
   "outputs": [],
   "source": [
    "# индексируем слова\n",
    "word2id = {'PAD':0}\n",
    "\n",
    "for word in filtered_vocab:\n",
    "    word2id[word] = len(word2id)"
   ]
  },
  {
   "cell_type": "code",
   "execution_count": 11,
   "metadata": {},
   "outputs": [],
   "source": [
    "id2word = {i:word for word, i in word2id.items()}"
   ]
  },
  {
   "cell_type": "code",
   "execution_count": 12,
   "metadata": {},
   "outputs": [],
   "source": [
    "class Dataset(torch.utils.data.Dataset):\n",
    "\n",
    "    def __init__(self, word2id, MAX_LEN, texts, targets):\n",
    "        \n",
    "        # храним сырой датасет\n",
    "        # еще лучше можно сделать, если считывать из файла при генерации\n",
    "        self.texts = [torch.LongTensor([word2id[w] for w in self.preprocess(t) if w in word2id][:MAX_LEN]) for t in texts]\n",
    "        self.texts = torch.nn.utils.rnn.pad_sequence(self.texts, batch_first=True)\n",
    "        \n",
    "        # мы не считаем словарь прямо тут, т.к. нам нужно шерить словарь между трейном и валидацией\n",
    "        self.word2id = word2id\n",
    "        self.MAX_LEN = MAX_LEN\n",
    "        self.length = len(texts)\n",
    "        # таргеты можно сразу целиком выделить \n",
    "        \n",
    "        self.target = torch.LongTensor(targets)\n",
    "\n",
    "    def __len__(self):\n",
    "        # нужно уметь возвращать длину датасета, в нашем случае это просто сделать\n",
    "        # если не загружать данные целиком, а читать из файла - это может быть сложнее\n",
    "        return self.length\n",
    "\n",
    "    def __getitem__(self, index):\n",
    "\n",
    "        # в index будут индексы от 0 до self.length\n",
    "        # по ним мы достанем тексты, предобработаем,переведем в векторы, западим и вернем\n",
    "\n",
    "        ids = self.texts[index]\n",
    "        y = self.target[index]\n",
    "\n",
    "        return ids, y\n",
    "    \n",
    "    def preprocess(self, text):\n",
    "        tokens = text.lower().split()\n",
    "        tokens = [token.strip(punctuation) for token in tokens]\n",
    "        tokens = [token for token in tokens if token]\n",
    "        return tokens\n",
    "\n",
    "\n",
    "\n",
    "\n"
   ]
  },
  {
   "cell_type": "code",
   "execution_count": 13,
   "metadata": {},
   "outputs": [],
   "source": [
    "MAX_LEN = 200"
   ]
  },
  {
   "cell_type": "code",
   "execution_count": 14,
   "metadata": {},
   "outputs": [],
   "source": [
    "texts = data.text.values\n",
    "id2label = {i:l for i,l in enumerate(set(data.topic))}\n",
    "label2id = {l:i for i,l in id2label.items()}\n",
    "targets = [label2id[l] for l in data.topic]"
   ]
  },
  {
   "cell_type": "code",
   "execution_count": 15,
   "metadata": {},
   "outputs": [],
   "source": [
    "train_texts, valid_texts, train_targets, valid_targets = train_test_split(texts, targets, test_size=0.05)"
   ]
  },
  {
   "cell_type": "code",
   "execution_count": 16,
   "metadata": {},
   "outputs": [],
   "source": [
    "training_set = Dataset(word2id, MAX_LEN, train_texts, train_targets)\n",
    "training_generator = torch.utils.data.DataLoader(training_set, batch_size=256, shuffle=True, )"
   ]
  },
  {
   "cell_type": "code",
   "execution_count": 17,
   "metadata": {},
   "outputs": [],
   "source": [
    "valid_set = Dataset(word2id, MAX_LEN, valid_texts, valid_targets)\n",
    "valid_generator = torch.utils.data.DataLoader(valid_set, batch_size=256, shuffle=True)"
   ]
  },
  {
   "cell_type": "code",
   "execution_count": 18,
   "metadata": {},
   "outputs": [],
   "source": [
    "from sklearn.metrics import f1_score\n",
    "\n",
    "def train(model, iterator, optimizer, criterion, print_every=1000):\n",
    "    \n",
    "    epoch_loss = []\n",
    "    epoch_f1 = []\n",
    "    \n",
    "    model.train()  \n",
    "\n",
    "    for i, (texts, ys) in enumerate(iterator):\n",
    "        \n",
    "        optimizer.zero_grad()   \n",
    "        predictions = model(texts.to(device)).squeeze()  \n",
    "        loss = criterion(predictions, ys.to(device))        \n",
    "        \n",
    "        \n",
    "        \n",
    "        loss.backward()\n",
    "        optimizer.step()     \n",
    "        preds = predictions.detach().to('cpu').numpy().argmax(1).tolist()\n",
    "        y_true = ys.tolist()\n",
    "        \n",
    "        epoch_loss.append(loss.item())\n",
    "        epoch_f1.append(f1_score(y_true, preds, average=\"micro\"))\n",
    "        \n",
    "        if not (i+1) % print_every:\n",
    "            print(f'Loss: {np.mean(epoch_loss)}; F1 measure: {np.mean(epoch_f1)}')\n",
    "        \n",
    "    return np.mean(epoch_f1)\n",
    "\n",
    "\n",
    "def evaluate(model, iterator, criterion):\n",
    "    \n",
    "    epoch_loss = []\n",
    "    epoch_f1 = []\n",
    "    \n",
    "    model.eval()  \n",
    "    with torch.no_grad():\n",
    "        for texts, ys in iterator:   \n",
    "\n",
    "            predictions = model(texts.to(device)).squeeze()  \n",
    "            loss = criterion(predictions, ys.to(device))        \n",
    "            preds = predictions.detach().to('cpu').numpy().argmax(1).tolist()\n",
    "            y_true = ys.tolist()\n",
    "            \n",
    "\n",
    "            epoch_loss.append(loss.item())  \n",
    "            epoch_f1.append(f1_score(y_true, preds, average=\"micro\"))\n",
    "            \n",
    "    return np.mean(epoch_f1)# / len(iterator)"
   ]
  },
  {
   "cell_type": "markdown",
   "metadata": {},
   "source": [
    "Есть несколько разновидностей рекуррентных слоев - RNN (vanila rnn), GRU, LSTM. "
   ]
  },
  {
   "cell_type": "markdown",
   "metadata": {},
   "source": [
    "Первый - самый простой рекуррентный слой, где на каждом шаге используется предыдущее состояние и текущий вектор, оба они умножаются на соответствующую матрицу весов и получившиеся вектора складываются в один, который передается на следующий шаг. Проблема с обычными RNN в том, что информация о предыдущих состояних очень быстро затирается и учитывать нелокальные зависимости не получается. \n"
   ]
  },
  {
   "cell_type": "markdown",
   "metadata": {},
   "source": [
    "\n",
    "LSTM и GRU частично решают это проблему добавление дополнительных матриц весов и активаций, которые будут отвечать за то, чтобы нужная информация сохранялась на протяжении всей последовательности. GRU немного проще и поэтому немного быстрее, но это не всегда значит, что LSTM лучше по качеству. \n"
   ]
  },
  {
   "cell_type": "code",
   "execution_count": 19,
   "metadata": {},
   "outputs": [
    {
     "data": {
      "text/html": [
       "<img src=\"https://habrastorage.org/webt/xt/_q/nj/xt_qnjgfjengqoqd4gizkq4j_wk.png\" width=\"1000\" height=\"1000\"/>"
      ],
      "text/plain": [
       "<IPython.core.display.Image object>"
      ]
     },
     "execution_count": 19,
     "metadata": {},
     "output_type": "execute_result"
    }
   ],
   "source": [
    "# lstm cell\n",
    "Image(url=\"https://habrastorage.org/webt/xt/_q/nj/xt_qnjgfjengqoqd4gizkq4j_wk.png\",\n",
    "     width=1000, height=1000)"
   ]
  },
  {
   "cell_type": "markdown",
   "metadata": {},
   "source": [
    "Ссылки, чтобы разобраться подробнее:  \n",
    "    http://karpathy.github.io/2015/05/21/rnn-effectiveness/  \n",
    "    https://towardsdatascience.com/illustrated-guide-to-lstms-and-gru-s-a-step-by-step-explanation-44e9eb85bf21  \n",
    "    https://colah.github.io/posts/2015-08-Understanding-LSTMs/  \n",
    "    \n",
    "    \n",
    "    \n",
    "    "
   ]
  },
  {
   "cell_type": "markdown",
   "metadata": {},
   "source": [
    "Использовать RNN слой в torch достаточно просто при условии, что применяется общий паддинг (все обучающие данные до одной длины).\n",
    "Нужно просто поставить его после другого слоя, который возвращает последовательность.\n",
    "На выходе из vanila RNN  и GRU  мы получим два объекта - (output и h), а на выходе из LSTM - (output, (h, c)).\n",
    "В output будут лежать скрытые состояния (h_t) на всех шагах последовательности. А в h - последнее скрытое состояние последовательности. У LSTM еще есть последнее внутреннее состояние c. На картинке выше видно, что он используется при расчете h, но внутри сети еще и передается между последовательностями отдельно. \n",
    "\n",
    "Для классификации мы можем использовать h, так как в нем накоплена вся информация о последовательности и можно уже к этому вектору применять софтмакс, чтобы получить вероятности классов."
   ]
  },
  {
   "cell_type": "code",
   "execution_count": 20,
   "metadata": {},
   "outputs": [],
   "source": [
    "class Clf(nn.Module):\n",
    "    \n",
    "    def __init__(self, output_dim):\n",
    "        \n",
    "        super().__init__()          \n",
    "        self.VOCAB_SIZE = len(word2id)\n",
    "        self.EMB_DIM = 50\n",
    "        self.RNN_UNITS = 128\n",
    "        \n",
    "        \n",
    "        self.embedding = nn.Embedding(self.VOCAB_SIZE, self.EMB_DIM)\n",
    "        \n",
    "        # все три типа рнн слоев применяются почти одинаково\n",
    "#         self.rnn = nn.LSTM(self.EMB_DIM, self.RNN_UNITS, batch_first=True)\n",
    "        self.rnn = nn.GRU(self.EMB_DIM, self.RNN_UNITS, batch_first=True)\n",
    "#         self.rnn = nn.RNN(self.EMB_DIM, self.RNN_UNITS, batch_first=True)\n",
    "        self.fc = nn.Linear(self.RNN_UNITS, output_dim)\n",
    "        self.act = nn.LogSoftmax(1) \n",
    "        \n",
    "        \n",
    "    def forward(self, text):\n",
    "\n",
    "        embedded = self.embedding(text)\n",
    "        # применяем rnn слой\n",
    "        rnn_output, (h, *_) = self.rnn(embedded)\n",
    "        \n",
    "        # lstm всегда будет возвращать трехмерный h\n",
    "        # (1, 256, 128) - в текущем случае\n",
    "        # от первой размерности нужно избавиться\n",
    "        # для этого нужна функция squeeze(0) где ноль индекс размерности\n",
    "        \n",
    "        # для GRU или RNN эта строчка ничего не изменит и все будет работать\n",
    "        h = h.squeeze(0)\n",
    "        \n",
    "        output = self.act(self.fc(h))        \n",
    "        return output\n",
    "\n",
    "\n",
    "device = torch.device('cuda' if torch.cuda.is_available() else 'cpu')  \n",
    "model = Clf(len(label2id))\n",
    "optimizer = optim.Adam(model.parameters(), lr=0.001)\n",
    "criterion = nn.NLLLoss() \n",
    "model = model.to(device)\n",
    "criterion = criterion.to(device)"
   ]
  },
  {
   "cell_type": "code",
   "execution_count": 21,
   "metadata": {
    "scrolled": true
   },
   "outputs": [
    {
     "name": "stdout",
     "output_type": "stream",
     "text": [
      "0\n",
      "Loss: 2.3700149035453797; F1 measure: 0.213359375\n",
      "Loss: 2.3331090700626373; F1 measure: 0.212421875\n",
      "Loss: 2.2547484000523883; F1 measure: 0.2358203125\n",
      "Loss: 2.1554035997390746; F1 measure: 0.268388671875\n",
      "Loss: 2.056787453174591; F1 measure: 0.3053515625\n",
      "Eval -  0.5508159722222222\n",
      "1\n",
      "Loss: 1.2984862744808197; F1 measure: 0.60140625\n",
      "Loss: 1.2393755167722702; F1 measure: 0.6197265625\n",
      "Loss: 1.1944325002034506; F1 measure: 0.6339192708333333\n",
      "Loss: 1.1523097196221352; F1 measure: 0.647744140625\n",
      "Loss: 1.1127120413780212; F1 measure: 0.65971875\n",
      "Eval -  0.7247150383141763\n",
      "2\n",
      "Loss: 0.8344336587190628; F1 measure: 0.7448046875\n",
      "Loss: 0.8252625700831413; F1 measure: 0.74810546875\n",
      "Loss: 0.8142835609118144; F1 measure: 0.7508984375\n",
      "Loss: 0.7989979486167431; F1 measure: 0.754453125\n",
      "Loss: 0.7850586802363396; F1 measure: 0.7583828125\n",
      "Eval -  0.7666343390804599\n",
      "3\n",
      "Loss: 0.6430188620090485; F1 measure: 0.7987109375\n",
      "Loss: 0.6335504747927189; F1 measure: 0.8025\n",
      "Loss: 0.6356003288427988; F1 measure: 0.80203125\n",
      "Loss: 0.6305458659678698; F1 measure: 0.80279296875\n",
      "Loss: 0.6242742669582367; F1 measure: 0.8043046875\n",
      "Eval -  0.7851616379310344\n",
      "4\n",
      "Loss: 0.5186176463961601; F1 measure: 0.8337890625\n",
      "Loss: 0.5181113524734974; F1 measure: 0.8353125\n",
      "Loss: 0.5190469771623611; F1 measure: 0.8349088541666667\n",
      "Loss: 0.520758700221777; F1 measure: 0.83486328125\n",
      "Loss: 0.5196268438100815; F1 measure: 0.8355234375\n",
      "Eval -  0.7912278496168582\n",
      "5\n",
      "Loss: 0.43842388421297074; F1 measure: 0.863515625\n",
      "Loss: 0.43692936316132547; F1 measure: 0.86236328125\n",
      "Loss: 0.4374125594894091; F1 measure: 0.8623567708333333\n",
      "Loss: 0.4383550577610731; F1 measure: 0.861689453125\n",
      "Loss: 0.43647893679141997; F1 measure: 0.862578125\n",
      "Eval -  0.7981764846743296\n",
      "6\n",
      "Loss: 0.359384478777647; F1 measure: 0.8884375\n",
      "Loss: 0.3586208900809288; F1 measure: 0.88927734375\n",
      "Loss: 0.36185421933730444; F1 measure: 0.8870182291666666\n",
      "Loss: 0.36424450654536483; F1 measure: 0.885869140625\n",
      "Loss: 0.364161028534174; F1 measure: 0.8855859375\n",
      "Eval -  0.7916738505747126\n",
      "7\n",
      "Loss: 0.284687140583992; F1 measure: 0.91234375\n",
      "Loss: 0.2838332697749138; F1 measure: 0.911875\n",
      "Loss: 0.28969630350669223; F1 measure: 0.9102473958333334\n",
      "Loss: 0.2930147705972195; F1 measure: 0.90921875\n",
      "Loss: 0.29528693395853045; F1 measure: 0.9085703125\n",
      "Eval -  0.7942193486590038\n",
      "8\n",
      "Loss: 0.22699383333325385; F1 measure: 0.9329296875\n",
      "Loss: 0.22894252270460128; F1 measure: 0.9323828125\n",
      "Loss: 0.23068149109681446; F1 measure: 0.9315104166666667\n",
      "Loss: 0.23242167096585034; F1 measure: 0.930302734375\n",
      "Loss: 0.23416637170314789; F1 measure: 0.9291484375\n",
      "Eval -  0.7841678639846743\n",
      "9\n",
      "Loss: 0.1661054788529873; F1 measure: 0.9523828125\n",
      "Loss: 0.1734994785115123; F1 measure: 0.949765625\n",
      "Loss: 0.17483642069001992; F1 measure: 0.9495963541666667\n",
      "Loss: 0.17668531807139515; F1 measure: 0.94849609375\n",
      "Loss: 0.178256261870265; F1 measure: 0.9478515625\n",
      "Eval -  0.7859093630268199\n"
     ]
    }
   ],
   "source": [
    "f1s = []\n",
    "f1s_eval = []\n",
    "\n",
    "for i in range(10):\n",
    "    print(i)\n",
    "    f1s.append(train(model, training_generator, optimizer, criterion, 100))\n",
    "    evl = evaluate(model, valid_generator, criterion)\n",
    "    print('Eval - ', evl)\n",
    "    f1s_eval.append(evl)"
   ]
  },
  {
   "cell_type": "code",
   "execution_count": 22,
   "metadata": {},
   "outputs": [
    {
     "data": {
      "image/png": "[encoded data removed]",
      "text/plain": [
       "<Figure size 432x288 with 1 Axes>"
      ]
     },
     "metadata": {
      "needs_background": "light"
     },
     "output_type": "display_data"
    }
   ],
   "source": [
    "plt.plot(f1s)\n",
    "plt.plot(f1s_eval)\n",
    "plt.title('model f1 micro')\n",
    "plt.ylabel('f1')\n",
    "plt.xlabel('epoch')\n",
    "plt.legend(['train', 'val'], loc='upper left')\n",
    "plt.show()"
   ]
  },
  {
   "cell_type": "code",
   "execution_count": 23,
   "metadata": {},
   "outputs": [
    {
     "data": {
      "text/plain": [
       "0.7981764846743296"
      ]
     },
     "execution_count": 23,
     "metadata": {},
     "output_type": "execute_result"
    }
   ],
   "source": [
    "max(f1s_eval)"
   ]
  },
  {
   "cell_type": "markdown",
   "metadata": {},
   "source": [
    "Основной параметр в RNN слое - units. Чем он больше, тем больше весов будет в модели. Он будет соответствовать размеру вектора состояния. \n",
    "\n",
    "Рекуррентные слои можно накладывать друг на друга. В торче проще всего это сделать указав параметр num_layers - он автоматически создаст нужное количество слоев и соединит их между собой. Если num_layers > 1, то в output будут скрытые состояния с последнего слоя, а вот в h - будут последние состояния со всех слоев. Последнее состояние последнего слоя можно выбрать из обоих по индексу.\n",
    "\n",
    "\n",
    "Также можно просто добавить несколько слоев отдельно и передавать в следующий output из предыдущего. Это позволяет создавать слои с разным параметром units (num_layers создает слое и одним и тем же параметром).\n",
    "\n",
    "\n"
   ]
  },
  {
   "cell_type": "code",
   "execution_count": 25,
   "metadata": {},
   "outputs": [],
   "source": [
    "class Clf(nn.Module):\n",
    "    \n",
    "    def __init__(self, output_dim):\n",
    "        \n",
    "        super().__init__()          \n",
    "        self.VOCAB_SIZE = len(word2id)\n",
    "        self.EMB_DIM = 50\n",
    "        self.RNN_UNITS = 128\n",
    "        \n",
    "        \n",
    "        self.embedding = nn.Embedding(self.VOCAB_SIZE, self.EMB_DIM)\n",
    "        self.rnn = nn.LSTM(self.EMB_DIM, self.RNN_UNITS, num_layers=3, \n",
    "                           batch_first=True)\n",
    "        self.fc = nn.Linear(self.RNN_UNITS, output_dim)\n",
    "        self.act = nn.LogSoftmax(1) \n",
    "        \n",
    "        \n",
    "    def forward(self, text):\n",
    "\n",
    "        embedded = self.embedding(text)\n",
    "        # применяем rnn слой\n",
    "        rnn_output, (h, *_) = self.rnn(embedded)\n",
    "        # тут тоже будет трехмерный h\n",
    "        # но первый будет не 1 а равный num_layers\n",
    "        # мы возьмем последний с помощью индекса -1\n",
    "        # squeeze(0) тут не нужен и его и не получится применить\n",
    "        output = self.act(self.fc(h[-1]))        \n",
    "        return output\n",
    "\n",
    "\n",
    "device = torch.device('cuda' if torch.cuda.is_available() else 'cpu')  \n",
    "model = Clf(len(label2id))\n",
    "optimizer = optim.Adam(model.parameters(), lr=0.001)\n",
    "criterion = nn.NLLLoss() \n",
    "model = model.to(device)\n",
    "criterion = criterion.to(device)"
   ]
  },
  {
   "cell_type": "code",
   "execution_count": 26,
   "metadata": {
    "scrolled": true
   },
   "outputs": [
    {
     "name": "stdout",
     "output_type": "stream",
     "text": [
      "0\n",
      "Loss: 2.3617623233795166; F1 measure: 0.2179296875\n",
      "Loss: 2.334479993581772; F1 measure: 0.21482421875\n",
      "Loss: 2.300838855902354; F1 measure: 0.21990885416666667\n",
      "Loss: 2.2364641678333284; F1 measure: 0.23462890625\n",
      "Loss: 2.1687480256557463; F1 measure: 0.2551015625\n",
      "Eval -  0.3497910680076628\n",
      "1\n",
      "Loss: 1.7937491714954377; F1 measure: 0.384921875\n",
      "Loss: 1.7583761912584306; F1 measure: 0.402421875\n",
      "Loss: 1.7272389276822409; F1 measure: 0.41765625\n",
      "Loss: 1.6929814237356187; F1 measure: 0.43291015625\n",
      "Loss: 1.6524979219436646; F1 measure: 0.4494375\n",
      "Eval -  0.5580244252873563\n",
      "2\n",
      "Loss: 1.3534621369838715; F1 measure: 0.5637890625\n",
      "Loss: 1.347797576189041; F1 measure: 0.5688671875\n",
      "Loss: 1.3199949526786805; F1 measure: 0.5770572916666666\n",
      "Loss: 1.295353894531727; F1 measure: 0.584501953125\n",
      "Loss: 1.2750313370227813; F1 measure: 0.59059375\n",
      "Eval -  0.6372778975095785\n",
      "3\n",
      "Loss: 1.0782435339689256; F1 measure: 0.6580859375\n",
      "Loss: 1.0622646456956863; F1 measure: 0.66775390625\n",
      "Loss: 1.0449156379699707; F1 measure: 0.6735416666666667\n",
      "Loss: 1.0276973754167558; F1 measure: 0.679765625\n",
      "Loss: 1.008345558643341; F1 measure: 0.6875546875\n",
      "Eval -  0.7173114224137931\n",
      "4\n",
      "Loss: 0.8344289755821228; F1 measure: 0.750859375\n",
      "Loss: 0.8304936391115189; F1 measure: 0.750625\n",
      "Loss: 0.8240054986874262; F1 measure: 0.7523567708333333\n",
      "Loss: 0.8129899188876152; F1 measure: 0.7552734375\n",
      "Loss: 0.8034976202249527; F1 measure: 0.7575625\n",
      "Eval -  0.7531734913793104\n",
      "5\n",
      "Loss: 0.6941744810342789; F1 measure: 0.7912109375\n",
      "Loss: 0.6877205783128738; F1 measure: 0.7917578125\n",
      "Loss: 0.6847568049033483; F1 measure: 0.7916796875\n",
      "Loss: 0.6810659089684487; F1 measure: 0.792509765625\n",
      "Loss: 0.6791190255880356; F1 measure: 0.7926796875\n",
      "Eval -  0.7614038553639847\n",
      "6\n",
      "Loss: 0.6025507915019989; F1 measure: 0.81359375\n",
      "Loss: 0.5967927643656731; F1 measure: 0.81748046875\n",
      "Loss: 0.5963641339540482; F1 measure: 0.8163541666666667\n",
      "Loss: 0.5944479934871196; F1 measure: 0.816748046875\n",
      "Loss: 0.5893809888362884; F1 measure: 0.8181171875\n",
      "Eval -  0.7689469588122605\n",
      "7\n",
      "Loss: 0.5028524842858314; F1 measure: 0.84296875\n",
      "Loss: 0.5039751522243023; F1 measure: 0.84279296875\n",
      "Loss: 0.5085151822368303; F1 measure: 0.8419401041666666\n",
      "Loss: 0.5065407755225897; F1 measure: 0.84267578125\n",
      "Loss: 0.5092811302542687; F1 measure: 0.842171875\n",
      "Eval -  0.7737170737547893\n",
      "8\n",
      "Loss: 0.4210300129652023; F1 measure: 0.87296875\n",
      "Loss: 0.4256823307275772; F1 measure: 0.869765625\n",
      "Loss: 0.4290482051173846; F1 measure: 0.8676953125\n",
      "Loss: 0.43412051871418955; F1 measure: 0.866142578125\n",
      "Loss: 0.4374466893672943; F1 measure: 0.864578125\n",
      "Eval -  0.7783758381226054\n",
      "9\n",
      "Loss: 0.3661569781601429; F1 measure: 0.8903125\n",
      "Loss: 0.37188968479633333; F1 measure: 0.8887109375\n",
      "Loss: 0.3699196836352348; F1 measure: 0.887890625\n",
      "Loss: 0.3715294837579131; F1 measure: 0.886689453125\n",
      "Loss: 0.3757590047419071; F1 measure: 0.884796875\n",
      "Eval -  0.7666109913793103\n"
     ]
    }
   ],
   "source": [
    "f1s = []\n",
    "f1s_eval = []\n",
    "\n",
    "for i in range(10):\n",
    "    print(i)\n",
    "    f1s.append(train(model, training_generator, optimizer, criterion, 100))\n",
    "    evl = evaluate(model, valid_generator, criterion)\n",
    "    print('Eval - ', evl)\n",
    "    f1s_eval.append(evl)"
   ]
  },
  {
   "cell_type": "code",
   "execution_count": 27,
   "metadata": {},
   "outputs": [
    {
     "data": {
      "image/png": "[encoded data removed]",
      "text/plain": [
       "<Figure size 432x288 with 1 Axes>"
      ]
     },
     "metadata": {
      "needs_background": "light"
     },
     "output_type": "display_data"
    }
   ],
   "source": [
    "plt.plot(f1s)\n",
    "plt.plot(f1s_eval)\n",
    "plt.title('model f1 micro')\n",
    "plt.ylabel('f1')\n",
    "plt.xlabel('epoch')\n",
    "plt.legend(['train', 'val'], loc='upper left')\n",
    "plt.show()"
   ]
  },
  {
   "cell_type": "code",
   "execution_count": 28,
   "metadata": {},
   "outputs": [
    {
     "data": {
      "text/plain": [
       "0.7783758381226054"
      ]
     },
     "execution_count": 28,
     "metadata": {},
     "output_type": "execute_result"
    }
   ],
   "source": [
    "max(f1s_eval)"
   ]
  },
  {
   "cell_type": "markdown",
   "metadata": {},
   "source": [
    "### Bidirectional"
   ]
  },
  {
   "cell_type": "markdown",
   "metadata": {},
   "source": [
    "Рекурретную сеть можно применить в прямом и обратном порядке и объединить состояния в одно (половина вектора будет про инфу до, половина про инфу после). Это назвается bidirectional. Можно превратить слой в двунаправленный параметром bidirectional=True или же отдельно подать в слой сначала прямую последовательность, а потом перевернутую (а выходы сконкатенировать). \n",
    "\n",
    "\n",
    "Для простой классификации (когда мы используем только последний стейт) первый способ не очень-то поможет (т.к. на последнем стейте у нас будет только первый стейт с обратного прохода). \n",
    "\n",
    "А вот если мы развернем последовательность (второй способ), то последним окажется стейт, соответствующий первому слову в тексте. Когда мы объединим его с вектором из прямого прогона, то получится полная информация с двух направления.\n",
    "\n",
    "\n",
    "NB: когда мы указываем bidirectional=True, то этот слой применяется и напрямую и обратно. Поэтому в отдельном применении к перевернутой последовательности я тоже использую один слой. Но кажется, что логичнее иметь один слой для прямого прогона и один для обратного."
   ]
  },
  {
   "cell_type": "code",
   "execution_count": 29,
   "metadata": {},
   "outputs": [],
   "source": [
    "class Clf(nn.Module):\n",
    "    \n",
    "    def __init__(self, output_dim):\n",
    "        \n",
    "        super().__init__()          \n",
    "        self.VOCAB_SIZE = len(word2id)\n",
    "        self.EMB_DIM = 50\n",
    "        self.RNN_UNITS = 128\n",
    "        \n",
    "        \n",
    "        self.embedding = nn.Embedding(self.VOCAB_SIZE, self.EMB_DIM)\n",
    "        \n",
    "        # через параметр делается вот так, а в forward будет точно также как в сетке выше\n",
    "#         self.rnn = nn.LSTM(self.EMB_DIM, self.RNN_UNITS, num_layers=1, \n",
    "#                            batch_first=True, bidirectional=True)\n",
    "        \n",
    "        #через разворот входной последовательности\n",
    "        self.rnn = nn.LSTM(self.EMB_DIM, self.RNN_UNITS, num_layers=1, \n",
    "                           batch_first=True)\n",
    "        \n",
    "        # bidirectional создает 2 вектора размерности unit, соответственно на следующем слое умножаем размерность на 2\n",
    "        self.fc = nn.Linear(self.RNN_UNITS*2, output_dim)\n",
    "        \n",
    "        self.act = nn.LogSoftmax(1) \n",
    "        \n",
    "        \n",
    "    def forward(self, text):\n",
    "\n",
    "        embedded = self.embedding(text)\n",
    "        embedded_backward = torch.flip(embedded, (1, ))\n",
    "        \n",
    "        # применяем rnn слой напрямую и в обратную\n",
    "        rnn_output, (h, *_) = self.rnn(embedded)\n",
    "        rnn_output_backward, (h_backward, *_) = self.rnn(embedded_backward)\n",
    "        \n",
    "        # у нас 1 слой и для lstm мы также добавляем squeeze(0)\n",
    "        h, h_backward = h.squeeze(0), h_backward.squeeze(0)\n",
    "        \n",
    "        # конкатим последнии стейты\n",
    "        rnn_output_bidirectional = torch.cat([h, h_backward], 1) # 2 - номер dim по которому конкатим\n",
    "        output = self.act(self.fc(rnn_output_bidirectional))        \n",
    "        return output\n",
    "\n",
    "\n",
    "device = torch.device('cuda' if torch.cuda.is_available() else 'cpu')  \n",
    "model = Clf(len(label2id))\n",
    "optimizer = optim.Adam(model.parameters(), lr=0.001)\n",
    "criterion = nn.NLLLoss() \n",
    "model = model.to(device)\n",
    "criterion = criterion.to(device)"
   ]
  },
  {
   "cell_type": "code",
   "execution_count": 30,
   "metadata": {
    "scrolled": true
   },
   "outputs": [
    {
     "name": "stdout",
     "output_type": "stream",
     "text": [
      "0\n",
      "Loss: 2.3372486877441405; F1 measure: 0.2190234375\n",
      "Loss: 2.206665351986885; F1 measure: 0.26642578125\n",
      "Loss: 2.0734622244040173; F1 measure: 0.3178125\n",
      "Loss: 1.9476312279701233; F1 measure: 0.364375\n",
      "Loss: 1.8403240699768066; F1 measure: 0.4031328125\n",
      "Eval -  0.6114715038314176\n",
      "1\n",
      "Loss: 1.2095031917095185; F1 measure: 0.6300390625\n",
      "Loss: 1.166721830368042; F1 measure: 0.644375\n",
      "Loss: 1.1288194676240286; F1 measure: 0.6559505208333334\n",
      "Loss: 1.0938479445874691; F1 measure: 0.667470703125\n",
      "Loss: 1.06243725669384; F1 measure: 0.676671875\n",
      "Eval -  0.7259925766283525\n",
      "2\n",
      "Loss: 0.8171924716234207; F1 measure: 0.7472265625\n",
      "Loss: 0.8103998801112176; F1 measure: 0.7501171875\n",
      "Loss: 0.7957117237647374; F1 measure: 0.7546875\n",
      "Loss: 0.7849208126962185; F1 measure: 0.75771484375\n",
      "Loss: 0.7740571024417877; F1 measure: 0.7604765625\n",
      "Eval -  0.7663876915708813\n",
      "3\n",
      "Loss: 0.6426291182637215; F1 measure: 0.7962109375\n",
      "Loss: 0.6469307927787304; F1 measure: 0.79453125\n",
      "Loss: 0.6388481957713763; F1 measure: 0.7966927083333334\n",
      "Loss: 0.6336217307299375; F1 measure: 0.79826171875\n",
      "Loss: 0.629605474114418; F1 measure: 0.7996875\n",
      "Eval -  0.7799688697318008\n",
      "4\n",
      "Loss: 0.537582311630249; F1 measure: 0.8264453125\n",
      "Loss: 0.536359294950962; F1 measure: 0.82650390625\n",
      "Loss: 0.5350742428501447; F1 measure: 0.82734375\n",
      "Loss: 0.5335178373008966; F1 measure: 0.827783203125\n",
      "Loss: 0.5337618681192398; F1 measure: 0.8276015625\n",
      "Eval -  0.7955010775862069\n",
      "5\n",
      "Loss: 0.4572770294547081; F1 measure: 0.852265625\n",
      "Loss: 0.45972884237766265; F1 measure: 0.85099609375\n",
      "Loss: 0.4622336432337761; F1 measure: 0.8502213541666667\n",
      "Loss: 0.4588065794110298; F1 measure: 0.85115234375\n",
      "Loss: 0.4590543664097786; F1 measure: 0.8510078125\n",
      "Eval -  0.7949760536398467\n",
      "6\n",
      "Loss: 0.38768602028489113; F1 measure: 0.870703125\n",
      "Loss: 0.3906697415560484; F1 measure: 0.8723046875\n",
      "Loss: 0.391552209208409; F1 measure: 0.8726432291666667\n",
      "Loss: 0.39255832325667145; F1 measure: 0.871865234375\n",
      "Loss: 0.3920662746727467; F1 measure: 0.87175\n",
      "Eval -  0.7939685105363985\n",
      "7\n",
      "Loss: 0.3238652621209621; F1 measure: 0.895390625\n",
      "Loss: 0.3220719303935766; F1 measure: 0.89638671875\n",
      "Loss: 0.32585082347194355; F1 measure: 0.8945182291666667\n",
      "Loss: 0.3284278103709221; F1 measure: 0.89365234375\n",
      "Loss: 0.33159339654445646; F1 measure: 0.89221875\n",
      "Eval -  0.7975634578544062\n",
      "8\n",
      "Loss: 0.25968551114201543; F1 measure: 0.916953125\n",
      "Loss: 0.2593874606490135; F1 measure: 0.91634765625\n",
      "Loss: 0.26511427740255994; F1 measure: 0.9147526041666667\n",
      "Loss: 0.2678984479606152; F1 measure: 0.91419921875\n",
      "Loss: 0.2716942505538464; F1 measure: 0.9127734375\n",
      "Eval -  0.7984644396551724\n",
      "9\n",
      "Loss: 0.20780025683343412; F1 measure: 0.9365625\n",
      "Loss: 0.2123702511936426; F1 measure: 0.934375\n",
      "Loss: 0.21325475285450618; F1 measure: 0.9335286458333333\n",
      "Loss: 0.21505800604820252; F1 measure: 0.932587890625\n",
      "Loss: 0.2163568303436041; F1 measure: 0.932109375\n",
      "Eval -  0.7932297653256706\n"
     ]
    }
   ],
   "source": [
    "f1s = []\n",
    "f1s_eval = []\n",
    "\n",
    "for i in range(10):\n",
    "    print(i)\n",
    "    f1s.append(train(model, training_generator, optimizer, criterion, 100))\n",
    "    evl = evaluate(model, valid_generator, criterion)\n",
    "    print('Eval - ', evl)\n",
    "    f1s_eval.append(evl)"
   ]
  },
  {
   "cell_type": "code",
   "execution_count": 31,
   "metadata": {},
   "outputs": [
    {
     "data": {
      "image/png": "[encoded data removed]",
      "text/plain": [
       "<Figure size 432x288 with 1 Axes>"
      ]
     },
     "metadata": {
      "needs_background": "light"
     },
     "output_type": "display_data"
    }
   ],
   "source": [
    "plt.plot(f1s)\n",
    "plt.plot(f1s_eval)\n",
    "plt.title('model f1 micro')\n",
    "plt.ylabel('f1')\n",
    "plt.xlabel('epoch')\n",
    "plt.legend(['train', 'val'], loc='upper left')\n",
    "plt.show()"
   ]
  },
  {
   "cell_type": "code",
   "execution_count": 32,
   "metadata": {},
   "outputs": [
    {
     "data": {
      "text/plain": [
       "0.7984644396551724"
      ]
     },
     "execution_count": 32,
     "metadata": {},
     "output_type": "execute_result"
    }
   ],
   "source": [
    "max(f1s_eval)"
   ]
  },
  {
   "cell_type": "markdown",
   "metadata": {},
   "source": [
    "## Pack и Pad"
   ]
  },
  {
   "cell_type": "markdown",
   "metadata": {},
   "source": [
    "До этого момента расхождение между torch и tf для RNN было минимальным, касающимся только логики самого языка. Проблема в том, что rnn на торче, обычно пишутся по-другому. В торче иначе подходят к обработке последовательностей разной длины.\n",
    "\n",
    "Выше мы делали общий паддинг, чтобы иметь возможность создать Tensor. Однако при общем паддинге получается, что через RNN будет пропускаться много нулевых элементов последовательности. И чем больше максимальная длина последовательностей отличается от средней, тем больше будет этих лишних нулей в тензоре. В торче можно передавать в RNN слои последовательности разной длины. Сложность в том, что в батче длины все равно должны быть одинаковые.\n",
    "\n",
    "В торче есть специальный формат для rnn, который называется packed sequence, который упаковывает последовательности в куски одинаковой длины, которые можно напрямую передавать в RNN слои.\n",
    "\n",
    "**Full Disclosure**: Не могу сказать, что я до конца понял, как это работает. Туториалов по торчу слишком мало и сам формат какой-то неоправданно усложненный. По крайней мере оно работает. "
   ]
  },
  {
   "cell_type": "markdown",
   "metadata": {},
   "source": [
    "Нужно немного переписать Dataset и train и validation лупы. \n",
    "\n",
    "В датасете нужно удалить все пустые последовательности, потому что они несовместимы с пакингом. \n",
    "\n",
    "Изменения в train/evaluate значительнее, смотрите комментарии ниже."
   ]
  },
  {
   "cell_type": "code",
   "execution_count": 33,
   "metadata": {},
   "outputs": [],
   "source": [
    "\n",
    "\n",
    "class Dataset(torch.utils.data.Dataset):\n",
    "\n",
    "    def __init__(self, word2id, MAX_LEN, texts, targets):\n",
    "        \n",
    "        # чтобы у нас был цельный тензор мы все еще делаем общий паддинг\n",
    "        # Можно было бы убрать ограничение MAX_LEN в 200, \n",
    "        # но обучаться будет все-таки дольше даже с пакингом, поэтому оставим так\n",
    "        self.texts = [torch.LongTensor([word2id[w] for w in self.preprocess(t) if w in word2id][:MAX_LEN]) for t in texts]\n",
    "        self.texts = torch.nn.utils.rnn.pad_sequence(self.texts, batch_first=True)\n",
    "\n",
    "        self.word2id = word2id\n",
    "        self.MAX_LEN = MAX_LEN\n",
    "        self.target = torch.LongTensor(targets)\n",
    "        \n",
    "        \n",
    "        # в texts из-за фильтрованного словаря может получиться пустая последовательность\n",
    "        # когда мы ниже будем делать pack-pad это приведет к ошибке\n",
    "        # и вообще обучаться на нулях не очень\n",
    "        # поэтому отфильтруем texts и targets с ненулевыми последовательностями в texts\n",
    "        self.target = self.target[self.texts.sum(1).bool()] #сумма по dim=1 будет ненулевая(=True) если есть 1 ненулевой индекс\n",
    "        self.texts = self.texts[self.texts.sum(1).bool()] \n",
    "        self.length = len(self.texts)\n",
    "        \n",
    "\n",
    "    def __len__(self):\n",
    "        return self.length\n",
    "\n",
    "    def __getitem__(self, index):\n",
    "        ids = self.texts[index]\n",
    "        y = self.target[index]\n",
    "\n",
    "        return ids, y\n",
    "    \n",
    "    def preprocess(self, text):\n",
    "        tokens = text.lower().split()\n",
    "        tokens = [token.strip(punctuation) for token in tokens]\n",
    "        tokens = [token for token in tokens if token]\n",
    "        return tokens\n",
    "\n",
    "\n",
    "\n",
    "def train(model, iterator, optimizer, criterion, print_every=1000):\n",
    "    \n",
    "    epoch_loss = []\n",
    "    epoch_f1 = []\n",
    "    \n",
    "    model.train()  \n",
    "\n",
    "    for i, (texts, ys) in enumerate(iterator):\n",
    "        \n",
    "        optimizer.zero_grad()\n",
    "        \n",
    "        # У нас есть тензор с общим паддингом/т.е. лишними нулями\n",
    "        # чтобы преобразовать такой тензор в оптимальный (packed) формат \n",
    "        # нам нужны изначальный длиный этих последовательностей (без нулей).\n",
    "        # Эту инфу легко восстановить из самого тензора - \n",
    "        # заменяем все значения на True/False (нули будут False)\n",
    "        # и суммируем (True равнозначен единице)\n",
    "        # Сумма True будет равна длине последовательности без нулей\n",
    "        lengths = texts.bool().sum(1)\n",
    "        \n",
    "        # теперь нужно отсортировать тензор по убыванию длин последовательностей\n",
    "        # функция .sort - вернет сами отсортированные длины и индексы, с помощью которых\n",
    "        # можно также отсортировать тензор с текстами и таргетами (чтобы они сходились)\n",
    "        length_sorted, perm_index = lengths.sort(0, descending=True)\n",
    "        texts, ys = texts[perm_index], ys[perm_index]\n",
    "        \n",
    "        \n",
    "        predictions = model(texts.to(device), length_sorted.to(device)).squeeze()  \n",
    "        loss = criterion(predictions, ys.to(device))        \n",
    "        \n",
    "        \n",
    "        \n",
    "        loss.backward()\n",
    "        optimizer.step()     \n",
    "        preds = predictions.detach().to('cpu').numpy().argmax(1).tolist()\n",
    "        y_true = ys.tolist()\n",
    "        \n",
    "        epoch_loss.append(loss.item())\n",
    "        epoch_f1.append(f1_score(y_true, preds, average=\"micro\"))\n",
    "        \n",
    "        if not (i+1) % print_every:\n",
    "            print(f'Loss: {np.mean(epoch_loss)}; F1 measure: {np.mean(epoch_f1)}')\n",
    "        \n",
    "    return np.mean(epoch_f1)\n",
    "\n",
    "\n",
    "def evaluate(model, iterator, criterion):\n",
    "    \n",
    "    epoch_loss = []\n",
    "    epoch_f1 = []\n",
    "    \n",
    "    model.eval()  \n",
    "    with torch.no_grad():\n",
    "        for texts, ys in iterator:\n",
    "            # тут все также как и в функции выше\n",
    "            lengths = texts.bool().sum(1)\n",
    "            length_sorted, perm_index = lengths.sort(0, descending=True)\n",
    "            texts, ys = texts[perm_index], ys[perm_index]\n",
    "            \n",
    "            \n",
    "            predictions = model(texts.to(device), length_sorted.to(device)).squeeze()\n",
    "            loss = criterion(predictions, ys.to(device))        \n",
    "            preds = predictions.detach().to('cpu').numpy().argmax(1).tolist()\n",
    "            y_true = ys.tolist()\n",
    "            \n",
    "\n",
    "            epoch_loss.append(loss.item())  \n",
    "            epoch_f1.append(f1_score(y_true, preds, average=\"micro\"))\n",
    "            \n",
    "    return np.mean(epoch_f1)"
   ]
  },
  {
   "cell_type": "markdown",
   "metadata": {},
   "source": [
    "Пересоздаем датасет с измененным классом"
   ]
  },
  {
   "cell_type": "code",
   "execution_count": 34,
   "metadata": {},
   "outputs": [],
   "source": [
    "texts = data.text.values\n",
    "id2label = {i:l for i,l in enumerate(set(data.topic))}\n",
    "label2id = {l:i for i,l in id2label.items()}\n",
    "targets = [label2id[l] for l in data.topic]\n",
    "\n",
    "train_texts, valid_texts, train_targets, valid_targets = train_test_split(texts, targets, test_size=0.05)\n",
    "\n",
    "training_set = Dataset(word2id, MAX_LEN, train_texts, train_targets)\n",
    "training_generator = torch.utils.data.DataLoader(training_set, batch_size=1024, shuffle=True, )\n",
    "\n",
    "valid_set = Dataset(word2id, MAX_LEN, valid_texts, valid_targets)\n",
    "valid_generator = torch.utils.data.DataLoader(valid_set, batch_size=1024, shuffle=True)"
   ]
  },
  {
   "cell_type": "markdown",
   "metadata": {},
   "source": [
    "Теперь самое сложное"
   ]
  },
  {
   "cell_type": "markdown",
   "metadata": {},
   "source": [
    "Определение слоев остается таким же как и раньше. Но нужно сильно поменять forward. \n",
    "\n",
    "С входящими данными нужно сделать следующее - прогнать тензор с общим паддингом через ембеддинг слой, упаковать последовательность эмбедингов, чтобы убрать нули, прогнать packed последовательность через rnn, распаковать выход rnn в тензор с общим паддингом, выбрать стейт соответствующий последнему ненулевому индексу в каждой последовательности.  \n",
    "\n",
    "Смотрите в код и комментарии, чтобы понять, где что."
   ]
  },
  {
   "cell_type": "code",
   "execution_count": 35,
   "metadata": {},
   "outputs": [],
   "source": [
    "class Clf(nn.Module):\n",
    "    \n",
    "    def __init__(self, output_dim):\n",
    "        \n",
    "        super().__init__()          \n",
    "        self.VOCAB_SIZE = len(word2id)\n",
    "        self.EMB_DIM = 100\n",
    "        self.LSTM_UNITS = 128\n",
    "\n",
    "        \n",
    "        self.embedding = nn.Embedding(self.VOCAB_SIZE, self.EMB_DIM)\n",
    "        self.rnn = nn.LSTM(self.EMB_DIM, self.LSTM_UNITS, num_layers=1, bidirectional=True,\n",
    "                            batch_first=True) \n",
    "\n",
    "        self.fc = nn.Linear(self.LSTM_UNITS*2, output_dim)\n",
    "        self.act = nn.LogSoftmax(1) \n",
    "        \n",
    "        \n",
    "#     def embedding_masking(self, \n",
    "#                           x,\n",
    "#                           pad_mask,\n",
    "#                           value: float = 0.):\n",
    "#         x = x.masked_fill((~(pad_mask.bool())).unsqueeze(-1), value)\n",
    "#         return x\n",
    "    \n",
    "    \n",
    "    # теперь нам еще нужны длины последовательностей, добавляем их аргументом\n",
    "    def forward(self, text, lengths):\n",
    "        \n",
    "        # эмбедим как обычно\n",
    "        embedded = self.embedding(text)\n",
    "        \n",
    "        \n",
    "        # теперь используем torch.nn.utils.rnn.pack_padded_sequence\n",
    "        # чтобы упаковать последовательности\n",
    "        # для упаковывания нужны длины (lengths)\n",
    "        packed_embedded = torch.nn.utils.rnn.pack_padded_sequence(embedded,\n",
    "                                                                  lengths.cpu(), \n",
    "                                                                  batch_first=True)\n",
    "\n",
    "        # rnn слои могут работать с таким форматом сразу\n",
    "        # поэтому тут никаких изменений\n",
    "        rnn_output, (h, *_) = self.rnn(packed_embedded)\n",
    "        \n",
    "        \n",
    "        # используем pad_packed_sequence чтобы вернуть упакованные последовательности\n",
    "        # к обычным тензорам\n",
    "        # дополнительный параметр тут - максимальная длина последовательности до которой\n",
    "        # нужно добавить нулей (мы можем взять ее из изначального тензора с общим паддингом)\n",
    "        # text имеет размерность (batch_size, max_len); size(1) вытащит max_len\n",
    "        unpacked_rnn_output, _ = torch.nn.utils.rnn.pad_packed_sequence(rnn_output,\n",
    "                                                                        total_length=text.size(1),\n",
    "                                                                        batch_first=True)\n",
    "        \n",
    "        \n",
    "        # теперь самая запутанная часть!\n",
    "        # Мы восстановили тензор из запакованной последовательности\n",
    "        # и на последних состояних у нас могут быть нули (если длина последовательности меньше max_len)\n",
    "        # Поэтому для каждой последовательности нам нужно достать состояние \n",
    "        # соответствующее ее последнему ненулевому токену\n",
    "        # Получить индекс последнего ненулевого элемента не сложно - это просто длина (которая у нас уже есть) минус 1\n",
    "        # минус 1 нужен т.к. индексы начинаются с нуля\n",
    "        \n",
    "        # НО в торче нельзя достать элемент как в numpy - X[:, lengths-1]\n",
    "        # нужно создать маску и использовать функцию .gather \n",
    "        # вот тут есть визиуализация как она работает - \n",
    "        # https://stackoverflow.com/questions/50999977/what-does-the-gather-function-do-in-pytorch-in-layman-terms\n",
    "        \n",
    "        # Не уверен, что я понимаю, что происходит ниже\n",
    "        # Но оно работает правильно\n",
    "        # Для всех последовательностей в батче выбирается 1 вектор состояния,\n",
    "        # соответствующий последнему ненулевому элементу\n",
    "        \n",
    "        \n",
    "        # изначально lengths - одномерный\n",
    "        # создаем ему искусственные размерности через unsqueeze\n",
    "        # получим (256, 1, 1)\n",
    "        mask = (lengths-1).unsqueeze(1).unsqueeze(1)\n",
    "        \n",
    "        # теперь нужно расширить маску чтобы было (256, 1, 256)\n",
    "        # т.е. маска будет захватывать 1 полный вектор для всех последовательностей\n",
    "        mask = mask.expand((unpacked_rnn_output.size(0), 1, unpacked_rnn_output.size(2)))\n",
    "        \n",
    "        # теперь накладываем маску на unpacked_rnn_output\n",
    "        # результат будет трехмерный\n",
    "        # но одна размерность будет 1 и ее можно убрать через squeeze\n",
    "        # получиться (batch_size, hidden_size)\n",
    "        lh = unpacked_rnn_output.gather(1, mask).squeeze(1)\n",
    "        \n",
    "        \n",
    "        # ну и дальше все также\n",
    "        hidden = self.fc(lh)\n",
    "        outputs=self.act(hidden)\n",
    "        \n",
    "        return outputs\n",
    "\n",
    "device = torch.device('cuda' if torch.cuda.is_available() else 'cpu')  \n",
    "model = Clf(len(label2id))\n",
    "\n",
    "\n",
    "optimizer = optim.Adam(model.parameters(), lr=0.001)\n",
    "criterion = nn.NLLLoss() \n",
    "model = model.to(device)\n",
    "criterion = criterion.to(device)"
   ]
  },
  {
   "cell_type": "code",
   "execution_count": 36,
   "metadata": {
    "scrolled": true
   },
   "outputs": [
    {
     "name": "stdout",
     "output_type": "stream",
     "text": [
      "0\n",
      "Loss: 2.3831879353523253; F1 measure: 0.21904296875\n",
      "Eval -  0.3236781529017857\n",
      "1\n",
      "Loss: 1.8424859702587129; F1 measure: 0.3822265625\n",
      "Eval -  0.4840262276785714\n",
      "2\n",
      "Loss: 1.372575581073761; F1 measure: 0.566435546875\n",
      "Eval -  0.6146937779017857\n",
      "3\n",
      "Loss: 1.0586782974004745; F1 measure: 0.681552734375\n",
      "Eval -  0.6886509486607143\n",
      "4\n",
      "Loss: 0.8514716416597367; F1 measure: 0.744794921875\n",
      "Eval -  0.7217145647321428\n",
      "5\n",
      "Loss: 0.702330869436264; F1 measure: 0.786552734375\n",
      "Eval -  0.7543422154017857\n",
      "6\n",
      "Loss: 0.6021782660484314; F1 measure: 0.8147265625\n",
      "Eval -  0.7556849888392857\n",
      "7\n",
      "Loss: 0.5182842272520065; F1 measure: 0.840732421875\n",
      "Eval -  0.7697056361607143\n",
      "8\n",
      "Loss: 0.4490975624322891; F1 measure: 0.86158203125\n",
      "Eval -  0.7579520089285714\n",
      "9\n",
      "Loss: 0.39140950292348864; F1 measure: 0.88099609375\n",
      "Eval -  0.7763846261160714\n"
     ]
    }
   ],
   "source": [
    "f1s = []\n",
    "f1s_eval = []\n",
    "\n",
    "for i in range(10):\n",
    "    print(i)\n",
    "    f1s.append(train(model, training_generator, optimizer, criterion, 100))\n",
    "    evl = evaluate(model, valid_generator, criterion)\n",
    "    print('Eval - ', evl)\n",
    "    f1s_eval.append(evl)"
   ]
  },
  {
   "cell_type": "code",
   "execution_count": 37,
   "metadata": {},
   "outputs": [
    {
     "data": {
      "image/png": "[encoded data removed]",
      "text/plain": [
       "<Figure size 432x288 with 1 Axes>"
      ]
     },
     "metadata": {
      "needs_background": "light"
     },
     "output_type": "display_data"
    }
   ],
   "source": [
    "plt.plot(f1s)\n",
    "plt.plot(f1s_eval)\n",
    "plt.title('model f1 micro')\n",
    "plt.ylabel('f1')\n",
    "plt.xlabel('epoch')\n",
    "plt.legend(['train', 'val'], loc='upper left')\n",
    "plt.show()"
   ]
  },
  {
   "cell_type": "code",
   "execution_count": 38,
   "metadata": {},
   "outputs": [
    {
     "data": {
      "text/plain": [
       "0.7763846261160714"
      ]
     },
     "execution_count": 38,
     "metadata": {},
     "output_type": "execute_result"
    }
   ],
   "source": [
    "max(f1s_eval)"
   ]
  },
  {
   "cell_type": "markdown",
   "metadata": {},
   "source": [
    "# Sequence labelling"
   ]
  },
  {
   "cell_type": "markdown",
   "metadata": {},
   "source": [
    "Бывают задачи, когда нужно предсказать какой-то класс каждому элементу последовательности. Это называется sequence labelling (разметка последовательности). Под этот паттерн попадает предсказание части речи, определение именованных сущностей, определение опечаток и т.п.\n",
    "\n",
    "Выше мы использовали h (последний стейт), а теперь нужно взять output."
   ]
  },
  {
   "cell_type": "markdown",
   "metadata": {},
   "source": [
    "Возьмем данные opencorpora"
   ]
  },
  {
   "cell_type": "code",
   "execution_count": 48,
   "metadata": {
    "colab": {
     "base_uri": "https://localhost:8080/",
     "height": 224
    },
    "colab_type": "code",
    "id": "M0V-1lxg50NF",
    "outputId": "90e5c19e-d7d4-40bf-fb51-285d80faea9a"
   },
   "outputs": [
    {
     "name": "stdout",
     "output_type": "stream",
     "text": [
      "--2021-06-04 11:51:01--  http://opencorpora.org/files/export/annot/annot.opcorpora.no_ambig.nonmod.xml.zip\n",
      "Resolving opencorpora.org (opencorpora.org)... 46.4.87.221\n",
      "Connecting to opencorpora.org (opencorpora.org)|46.4.87.221|:80... connected.\n",
      "HTTP request sent, awaiting response... 200 OK\n",
      "Length: 7164759 (6.8M) [application/zip]\n",
      "Saving to: ‘annot.opcorpora.no_ambig.nonmod.xml.zip’\n",
      "\n",
      "annot.opcorpora.no_ 100%[===================>]   6.83M  22.1MB/s    in 0.3s    \n",
      "\n",
      "2021-06-04 11:51:01 (22.1 MB/s) - ‘annot.opcorpora.no_ambig.nonmod.xml.zip’ saved [7164759/7164759]\n",
      "\n"
     ]
    }
   ],
   "source": [
    "!wget http://opencorpora.org/files/export/annot/annot.opcorpora.no_ambig.nonmod.xml.zip "
   ]
  },
  {
   "cell_type": "code",
   "execution_count": 49,
   "metadata": {
    "colab": {
     "base_uri": "https://localhost:8080/",
     "height": 51
    },
    "colab_type": "code",
    "id": "JHLr7nmv-F3c",
    "outputId": "8ea35612-0630-47d9-b28e-fa77a532c558"
   },
   "outputs": [
    {
     "name": "stdout",
     "output_type": "stream",
     "text": [
      "Archive:  annot.opcorpora.no_ambig.nonmod.xml.zip\n",
      "  inflating: annot.opcorpora.no_ambig.nonmod.xml  \n"
     ]
    }
   ],
   "source": [
    "!unzip annot.opcorpora.no_ambig.nonmod.xml.zip"
   ]
  },
  {
   "cell_type": "code",
   "execution_count": 50,
   "metadata": {},
   "outputs": [
    {
     "name": "stdout",
     "output_type": "stream",
     "text": [
      "Requirement already satisfied: lxml in /opt/conda/lib/python3.8/site-packages (4.6.3)\r\n"
     ]
    }
   ],
   "source": [
    "!pip install lxml"
   ]
  },
  {
   "cell_type": "code",
   "execution_count": 39,
   "metadata": {
    "colab": {},
    "colab_type": "code",
    "id": "dh8OpwE5-F6h"
   },
   "outputs": [],
   "source": [
    "from lxml import etree\n",
    "from collections import defaultdict"
   ]
  },
  {
   "cell_type": "code",
   "execution_count": 40,
   "metadata": {
    "colab": {},
    "colab_type": "code",
    "id": "GCuVu_w9-bC2"
   },
   "outputs": [],
   "source": [
    "open_corpora = etree.fromstring(open('annot.opcorpora.no_ambig.nonmod.xml', 'rb').read())"
   ]
  },
  {
   "cell_type": "markdown",
   "metadata": {
    "colab_type": "text",
    "id": "KAi-Sq0A9num"
   },
   "source": [
    "Преобразуем в более удобный формат."
   ]
  },
  {
   "cell_type": "code",
   "execution_count": 41,
   "metadata": {
    "colab": {},
    "colab_type": "code",
    "id": "PWp7bYeD-bEg"
   },
   "outputs": [],
   "source": [
    "sents = []\n",
    "labels = []\n",
    "\n",
    "\n",
    "for sentence in open_corpora.xpath('//tokens'):\n",
    "    length = len(sentence.xpath('token'))\n",
    "    ended = False\n",
    "    sent = []\n",
    "    label = []\n",
    "    for i,token in enumerate(sentence.xpath('token')):\n",
    "        word = token.xpath('@text')\n",
    "        gram_info = token.xpath('tfr/v/l/g/@v')\n",
    "        \n",
    "        if (i+1)==length and gram_info[0] == 'PNCT':\n",
    "            gram_info = ['SENT']\n",
    "            ended = True\n",
    "        \n",
    "            \n",
    "        sent.append(word[0])\n",
    "        label.append(gram_info[0])\n",
    "    sents.append(sent)\n",
    "    labels.append(label)\n",
    "\n",
    "        "
   ]
  },
  {
   "cell_type": "markdown",
   "metadata": {},
   "source": [
    "Пример данных"
   ]
  },
  {
   "cell_type": "code",
   "execution_count": 42,
   "metadata": {},
   "outputs": [
    {
     "data": {
      "text/plain": [
       "[('«', 'PNCT'),\n",
       " ('Школа', 'NOUN'),\n",
       " ('злословия', 'NOUN'),\n",
       " ('»', 'PNCT'),\n",
       " ('учит', 'VERB'),\n",
       " ('прикусить', 'INFN'),\n",
       " ('язык', 'NOUN')]"
      ]
     },
     "execution_count": 42,
     "metadata": {},
     "output_type": "execute_result"
    }
   ],
   "source": [
    "list(zip(sents[0], labels[0]))"
   ]
  },
  {
   "cell_type": "code",
   "execution_count": 43,
   "metadata": {},
   "outputs": [],
   "source": [
    "# словарь\n",
    "vocab = Counter()\n",
    "\n",
    "for sent in sents:\n",
    "    vocab.update([x.lower() for x in sent])"
   ]
  },
  {
   "cell_type": "code",
   "execution_count": 44,
   "metadata": {
    "scrolled": true
   },
   "outputs": [
    {
     "data": {
      "text/plain": [
       "54634"
      ]
     },
     "execution_count": 44,
     "metadata": {},
     "output_type": "execute_result"
    }
   ],
   "source": [
    "# тут словарь не очень большой и тут нужно предсказывать нужно часть речи для всего\n",
    "# поэтому не будем фильтровать словарь\n",
    "len(vocab)"
   ]
  },
  {
   "cell_type": "code",
   "execution_count": 45,
   "metadata": {},
   "outputs": [],
   "source": [
    "# индексируем слова\n",
    "word2id = {'PAD':0}\n",
    "\n",
    "for word in vocab:\n",
    "    word2id[word] = len(word2id)"
   ]
  },
  {
   "cell_type": "code",
   "execution_count": 46,
   "metadata": {},
   "outputs": [],
   "source": [
    "id2word = {i:word for word, i in word2id.items()}"
   ]
  },
  {
   "cell_type": "markdown",
   "metadata": {},
   "source": [
    "В отличие от простой классификации тут нужно предсказывать последовательность классов. Для обучения нужно закодировать классы точно также как и тексты"
   ]
  },
  {
   "cell_type": "code",
   "execution_count": 47,
   "metadata": {},
   "outputs": [],
   "source": [
    "tags = set()\n",
    "for seq in labels:\n",
    "    tags.update(seq)\n",
    "\n",
    "label2id = {'PAD':0}\n",
    "for tag in tags:\n",
    "    label2id[tag] = len(label2id)\n",
    "\n",
    "    \n",
    "id2label = {i:l for l, i in label2id.items()}\n",
    "tags = [id2label[i] for i in range(len(label2id))]"
   ]
  },
  {
   "cell_type": "markdown",
   "metadata": {},
   "source": [
    "И паддить также нужно и тексты и таргеты, чтобы длины у них совпадали"
   ]
  },
  {
   "cell_type": "code",
   "execution_count": 48,
   "metadata": {},
   "outputs": [],
   "source": [
    "MAX_LEN = max(len(s) for s in sents)"
   ]
  },
  {
   "cell_type": "code",
   "execution_count": 49,
   "metadata": {},
   "outputs": [],
   "source": [
    "class Dataset(torch.utils.data.Dataset):\n",
    "\n",
    "    def __init__(self, word2id, label2id, MAX_LEN, texts, labels):\n",
    "        \n",
    "        # храним сырой датасет\n",
    "        # еще лучше можно сделать, если считывать из файла при генерации\n",
    "        self.texts = [torch.LongTensor([word2id[w.lower()] for w in t][:MAX_LEN]) for t in texts]\n",
    "        self.texts = torch.nn.utils.rnn.pad_sequence(self.texts, batch_first=True)\n",
    "        self.targets = [torch.LongTensor([label2id[l] for l in seq][:MAX_LEN]) for seq in labels]\n",
    "        self.targets = torch.nn.utils.rnn.pad_sequence(self.targets, batch_first=True)\n",
    "        \n",
    "        # мы не считаем словарь прямо тут, т.к. нам нужно шерить словарь между трейном и валидацией\n",
    "        self.word2id = word2id\n",
    "        self.label2id = label2id\n",
    "        self.MAX_LEN = MAX_LEN\n",
    "        self.length = len(texts)\n",
    "    \n",
    "    def __len__(self):\n",
    "        # нужно уметь возвращать длину датасета, в нашем случае это просто сделать\n",
    "        # если не загружать данные целиком, а читать из файла - это может быть сложнее\n",
    "        return self.length\n",
    "\n",
    "    def __getitem__(self, index):\n",
    "        ids = self.texts[index]\n",
    "        y = self.targets[index]\n",
    "\n",
    "        return ids, y\n",
    "    \n",
    "    def preprocess(self, text):\n",
    "        tokens = text.lower().split()\n",
    "        tokens = [token.strip(punctuation) for token in tokens]\n",
    "        tokens = [token for token in tokens if token]\n",
    "        return tokens\n"
   ]
  },
  {
   "cell_type": "code",
   "execution_count": 50,
   "metadata": {},
   "outputs": [],
   "source": [
    "BATCH_SIZE = 256"
   ]
  },
  {
   "cell_type": "code",
   "execution_count": 51,
   "metadata": {},
   "outputs": [],
   "source": [
    "train_texts, valid_texts, train_labels, valid_labels = train_test_split(sents, labels, test_size=0.05)"
   ]
  },
  {
   "cell_type": "code",
   "execution_count": 52,
   "metadata": {},
   "outputs": [],
   "source": [
    "training_set = Dataset(word2id, label2id, MAX_LEN, train_texts, train_labels)\n",
    "training_generator = torch.utils.data.DataLoader(training_set, batch_size=BATCH_SIZE, shuffle=True, )"
   ]
  },
  {
   "cell_type": "code",
   "execution_count": 53,
   "metadata": {},
   "outputs": [],
   "source": [
    "valid_set = Dataset(word2id, label2id, MAX_LEN, valid_texts, valid_labels)\n",
    "valid_generator = torch.utils.data.DataLoader(valid_set, batch_size=BATCH_SIZE, shuffle=True)"
   ]
  },
  {
   "cell_type": "markdown",
   "metadata": {},
   "source": [
    "Для сравнения сначала обучим сеть только с помощью Dense слоев."
   ]
  },
  {
   "cell_type": "code",
   "execution_count": 54,
   "metadata": {},
   "outputs": [],
   "source": [
    "from sklearn.metrics import f1_score\n",
    "\n",
    "def train(model, iterator, optimizer, criterion, print_every=1000):\n",
    "    \n",
    "    epoch_loss = []\n",
    "    model.train()  \n",
    "\n",
    "    for i, (texts, ys) in enumerate(iterator):\n",
    "        \n",
    "        optimizer.zero_grad()   \n",
    "        predictions = model(texts.to(device))\n",
    "        loss = criterion(predictions.permute(0, 2, 1), ys.to(device))\n",
    "        \n",
    "        loss.backward()\n",
    "        optimizer.step()     \n",
    "        preds = predictions.detach().to('cpu').numpy().argmax(1).tolist()\n",
    "        y_true = ys.tolist()\n",
    "        \n",
    "        epoch_loss.append(loss.item())\n",
    "        \n",
    "        if not (i+1) % print_every:\n",
    "            print(f'Loss: {np.mean(epoch_loss)}')\n",
    "        \n",
    "    return np.mean(epoch_loss)\n",
    "\n",
    "\n",
    "def evaluate(model, iterator, criterion):\n",
    "    \n",
    "    epoch_loss = []\n",
    "    \n",
    "    model.eval()  \n",
    "    with torch.no_grad():\n",
    "        for texts, ys in iterator:   \n",
    "            \n",
    "            predictions = model(texts.to(device)).squeeze()  \n",
    "            loss = criterion(predictions.permute(0, 2, 1), ys.to(device))        \n",
    "            preds = predictions.detach().to('cpu').numpy().argmax(1).tolist()\n",
    "            y_true = ys.tolist()\n",
    "            \n",
    "\n",
    "            epoch_loss.append(loss.item())\n",
    "            \n",
    "    return np.mean(epoch_loss)"
   ]
  },
  {
   "cell_type": "markdown",
   "metadata": {},
   "source": [
    "Не будем делать пакинг, чтобы было попроще"
   ]
  },
  {
   "cell_type": "code",
   "execution_count": 55,
   "metadata": {},
   "outputs": [],
   "source": [
    "class Clf(nn.Module):\n",
    "    \n",
    "    def __init__(self, output_dim):\n",
    "        \n",
    "        super().__init__()          \n",
    "        self.VOCAB_SIZE = len(word2id)\n",
    "        self.EMB_DIM = 100\n",
    "        self.LSTM_UNITS = 128\n",
    "        \n",
    "        \n",
    "        self.embedding = nn.Embedding(self.VOCAB_SIZE, self.EMB_DIM)\n",
    "        self.rnn = nn.LSTM(self.EMB_DIM, self.LSTM_UNITS, num_layers=1, bidirectional=True,\n",
    "                            batch_first=True) \n",
    "\n",
    "        \n",
    "        self.fc = nn.Linear(self.LSTM_UNITS*2,output_dim)\n",
    "        self.act = nn.LogSoftmax(2) \n",
    "        \n",
    "        \n",
    "    def forward(self, text):\n",
    "\n",
    "        embedded = self.embedding(text)\n",
    "        rnn_output, (h, *_) = self.rnn(embedded)\n",
    "        hidden = self.fc(rnn_output)\n",
    "        outputs=self.act(hidden)\n",
    "\n",
    "        return outputs\n",
    "\n",
    "\n",
    "device = torch.device('cuda' if torch.cuda.is_available() else 'cpu')  \n",
    "model = Clf(len(label2id))\n",
    "optimizer = optim.Adam(model.parameters(), lr=0.001)\n",
    "criterion = nn.NLLLoss() \n",
    "model = model.to(device)\n",
    "criterion = criterion.to(device)"
   ]
  },
  {
   "cell_type": "markdown",
   "metadata": {},
   "source": [
    "Ф-меру тут расчитать будет сложнее, поэтому пока просто посчитаем лосс, а в конце сделаем общую ф-меру"
   ]
  },
  {
   "cell_type": "code",
   "execution_count": 56,
   "metadata": {
    "scrolled": true
   },
   "outputs": [
    {
     "name": "stdout",
     "output_type": "stream",
     "text": [
      "0\n",
      "Loss: 0.575894824663798\n",
      "Loss: 0.3530729463944832\n",
      "Loss: 0.27161992482013175\n",
      "1\n",
      "Loss: 0.08987584536274275\n",
      "Loss: 0.08617440412441889\n",
      "Loss: 0.08291676135526763\n",
      "2\n",
      "Loss: 0.06852500326931477\n",
      "Loss: 0.06616999277224143\n",
      "Loss: 0.06410420549412568\n",
      "3\n",
      "Loss: 0.05456961207091808\n",
      "Loss: 0.05416192971169949\n",
      "Loss: 0.05310431623624431\n",
      "4\n",
      "Loss: 0.04675999681154887\n",
      "Loss: 0.04601671596368154\n",
      "Loss: 0.044871056121256615\n",
      "5\n",
      "Loss: 0.03987998552620411\n",
      "Loss: 0.03890239285926024\n",
      "Loss: 0.03783602499299579\n",
      "6\n",
      "Loss: 0.033493749673167865\n",
      "Loss: 0.03269342494507631\n",
      "Loss: 0.03208171038164033\n",
      "7\n",
      "Loss: 0.02867095023393631\n",
      "Loss: 0.02804863496373097\n",
      "Loss: 0.027490093807379403\n",
      "8\n",
      "Loss: 0.0247644929215312\n",
      "Loss: 0.02418655725196004\n",
      "Loss: 0.023728503100574016\n",
      "9\n",
      "Loss: 0.021308195715149244\n",
      "Loss: 0.02092552436515689\n",
      "Loss: 0.020674644514090484\n"
     ]
    }
   ],
   "source": [
    "losses = []\n",
    "losses_eval = []\n",
    "\n",
    "for i in range(10):\n",
    "    print(i)\n",
    "    losses.append(train(model, training_generator, optimizer, criterion, 30))\n",
    "    losses_eval.append(evaluate(model, valid_generator, criterion))"
   ]
  },
  {
   "cell_type": "code",
   "execution_count": 57,
   "metadata": {},
   "outputs": [
    {
     "data": {
      "image/png": "[encoded data removed]",
      "text/plain": [
       "<Figure size 432x288 with 1 Axes>"
      ]
     },
     "metadata": {
      "needs_background": "light"
     },
     "output_type": "display_data"
    }
   ],
   "source": [
    "plt.plot(losses)\n",
    "plt.plot(losses_eval)\n",
    "plt.title('model loss')\n",
    "plt.ylabel('loss')\n",
    "plt.xlabel('epoch')\n",
    "plt.legend(['train', 'val'], loc='upper left')\n",
    "plt.show()"
   ]
  },
  {
   "cell_type": "markdown",
   "metadata": {},
   "source": [
    "Лучше конечно еще оценивать правильность всей последовательности, но пока сделаем только поэлементную оценку."
   ]
  },
  {
   "cell_type": "code",
   "execution_count": 58,
   "metadata": {},
   "outputs": [],
   "source": [
    "from sklearn.metrics import classification_report"
   ]
  },
  {
   "cell_type": "code",
   "execution_count": 59,
   "metadata": {},
   "outputs": [],
   "source": [
    "# предсказываем весь валидационный сет\n",
    "pred = model(valid_set.texts.to(device)).argmax(2).detach().cpu()"
   ]
  },
  {
   "cell_type": "code",
   "execution_count": 60,
   "metadata": {},
   "outputs": [
    {
     "name": "stdout",
     "output_type": "stream",
     "text": [
      "              precision    recall  f1-score   support\n",
      "\n",
      "         PAD       1.00      1.00      1.00     66659\n",
      "        INFN       0.59      0.33      0.43       222\n",
      "        TIME       0.00      0.00      0.00         2\n",
      "        PRTF       0.00      0.00      0.00        74\n",
      "        ADVB       0.74      0.75      0.74       280\n",
      "        INTJ       0.00      0.00      0.00        26\n",
      "        NUMB       0.79      0.78      0.79       318\n",
      "        PRTS       0.00      0.00      0.00        83\n",
      "        UNKN       0.31      0.15      0.20       288\n",
      "        COMP       0.00      0.00      0.00        23\n",
      "        LATN       0.70      0.45      0.55       207\n",
      "        SENT       0.99      1.00      1.00      1111\n",
      "        Prnt       0.00      0.00      0.00         0\n",
      "        PNCT       0.99      1.00      1.00      1499\n",
      "        VERB       0.63      0.73      0.67       939\n",
      "        SYMB       0.00      0.00      0.00        16\n",
      "        NPRO       0.92      0.94      0.93       282\n",
      "        CONJ       0.97      0.97      0.97       561\n",
      "        PREP       0.98      0.99      0.99      1216\n",
      "        ROMN       0.00      0.00      0.00        14\n",
      "        PRED       0.88      0.79      0.84        29\n",
      "        DATE       0.00      0.00      0.00         1\n",
      "        PRCL       0.94      0.92      0.93       253\n",
      "        ADJS       1.00      0.03      0.07        59\n",
      "        NUMR       0.00      0.00      0.00        24\n",
      "        ADJF       0.70      0.75      0.73      1243\n",
      "        HANI       0.00      0.00      0.00         9\n",
      "        NOUN       0.82      0.91      0.86      3887\n",
      "        GREK       0.00      0.00      0.00         4\n",
      "        GRND       0.00      0.00      0.00        32\n",
      "\n",
      "   micro avg       0.97      0.97      0.97     79361\n",
      "   macro avg       0.47      0.42      0.42     79361\n",
      "weighted avg       0.97      0.97      0.97     79361\n",
      "\n"
     ]
    }
   ],
   "source": [
    "# сплющиваем последовательности классов в 1 последовательность и \n",
    "# считаем метрики как будто это обычная классификация\n",
    "print(classification_report(valid_set.targets.reshape(-1), pred.reshape(-1), labels=list(range(len(tags))),\n",
    "                                                                             target_names=tags,\n",
    "                                                                             zero_division=0))"
   ]
  },
  {
   "cell_type": "markdown",
   "metadata": {},
   "source": [
    "# Предсказание/Inference"
   ]
  },
  {
   "cell_type": "markdown",
   "metadata": {},
   "source": [
    "После оценки часто хочется посмотреть как будет работать модель на каких-то отдельных примерах. Для этого нужно воспрозвести весь пайплайн и прогонять через него нужный текст."
   ]
  },
  {
   "cell_type": "code",
   "execution_count": 61,
   "metadata": {},
   "outputs": [],
   "source": [
    "import re\n",
    "\n",
    "def tokenize(text, word2id):\n",
    "    # токенизирует и переводит в индексы\n",
    "    tokens = re.findall('\\w+|[^\\w\\s]+', text)\n",
    "    \n",
    "    # в тф тут мы должны были еще думать а паддинге\n",
    "    # но в торче на единичных примерах падить не нужно\n",
    "    ids = [word2id.get(token.lower(), 0) for token in tokens]\n",
    "    return tokens, ids\n",
    "\n",
    "def pred2tags(pred, id2label):\n",
    "    # декодирует индексы в части речи\n",
    "    pred = pred.argmax(2)[0].numpy()\n",
    "\n",
    "    labels = [id2label[l] for l in pred]\n",
    "    return labels\n",
    "\n",
    "def label_seq(text, word2id, id2label, max_len, model):\n",
    "    tokens, ids = tokenize(text, word2id)\n",
    "    pred = model(torch.LongTensor([ids]))\n",
    "    labels = pred2tags(pred, id2label)\n",
    "    \n",
    "    return list(zip(tokens, labels))"
   ]
  },
  {
   "cell_type": "code",
   "execution_count": 62,
   "metadata": {},
   "outputs": [
    {
     "data": {
      "text/plain": [
       "Clf(\n",
       "  (embedding): Embedding(54635, 100)\n",
       "  (rnn): LSTM(100, 128, batch_first=True, bidirectional=True)\n",
       "  (fc): Linear(in_features=256, out_features=30, bias=True)\n",
       "  (act): LogSoftmax(dim=2)\n",
       ")"
      ]
     },
     "execution_count": 62,
     "metadata": {},
     "output_type": "execute_result"
    }
   ],
   "source": [
    "model.to('cpu')"
   ]
  },
  {
   "cell_type": "code",
   "execution_count": 63,
   "metadata": {},
   "outputs": [
    {
     "data": {
      "text/plain": [
       "[('Какой', 'ADJF'),\n",
       " ('-', 'PNCT'),\n",
       " ('то', 'CONJ'),\n",
       " ('новый', 'ADJF'),\n",
       " ('текст', 'NOUN'),\n",
       " ('для', 'PREP'),\n",
       " ('проверки', 'NOUN'),\n",
       " ('работы', 'NOUN'),\n",
       " ('.', 'PNCT')]"
      ]
     },
     "execution_count": 63,
     "metadata": {},
     "output_type": "execute_result"
    }
   ],
   "source": [
    "label_seq('Какой-то новый текст для проверки работы.', word2id, id2label, MAX_LEN, model)"
   ]
  },
  {
   "cell_type": "markdown",
   "metadata": {},
   "source": [
    "Выглядит неплохо!"
   ]
  }
 ],
 "metadata": {
  "kernelspec": {
   "display_name": "Python 3",
   "language": "python",
   "name": "python3"
  },
  "language_info": {
   "codemirror_mode": {
    "name": "ipython",
    "version": 3
   },
   "file_extension": ".py",
   "mimetype": "text/x-python",
   "name": "python",
   "nbconvert_exporter": "python",
   "pygments_lexer": "ipython3",
   "version": "3.8.8"
  }
 },
 "nbformat": 4,
 "nbformat_minor": 4
}
