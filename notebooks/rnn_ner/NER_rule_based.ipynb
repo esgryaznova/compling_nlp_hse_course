{
 "cells": [
  {
   "cell_type": "markdown",
   "metadata": {},
   "source": [
    "# Извлечение именованных сущностей."
   ]
  },
  {
   "cell_type": "markdown",
   "metadata": {},
   "source": [
    "Именованные сущности - общий термин, который используют для обозначения какого-то множества слов (словосочетаний, последовательностей символов), которые представляют какой-то особый инетерес в контексте решаемой практической задачи и которые нужно отделить от остальных слов. Это могут быть какие-то стандартные вещи: имена, фамилии, названия организаций, локации, денежные суммы, даты, номера телефонов, а могут быть и более специфичные: статьи кодексов, белки, симптомы, товары.\n"
   ]
  },
  {
   "cell_type": "markdown",
   "metadata": {},
   "source": [
    "В многих случаях достаточно написать регулярку, чтобы решить задачу на приемлемом уровне (например собрать все номера телефонов совсем несложно). Но когда сущности выражются нестандартным образом, а множество представителей сущности постоянно расширяется - задача становится очень сложной."
   ]
  },
  {
   "cell_type": "markdown",
   "metadata": {},
   "source": [
    "Стандартные сущности ещё можно извлекать с помощью готовых инструментов."
   ]
  },
  {
   "cell_type": "markdown",
   "metadata": {},
   "source": [
    "Для английского удобно использовать [SpaCy](https://spacy.io/). Там сразу извлекаются сущности с хорошим качеством."
   ]
  },
  {
   "cell_type": "markdown",
   "metadata": {},
   "source": [
    "Для русского (если не хочется ничего делать) можно использовать тэги из pymorphy."
   ]
  },
  {
   "cell_type": "code",
   "execution_count": 19,
   "metadata": {
    "scrolled": true
   },
   "outputs": [
    {
     "name": "stdout",
     "output_type": "stream",
     "text": [
      "Requirement already satisfied: natasha in /Users/mnefedov/.pyenv/versions/3.6.5/lib/python3.6/site-packages (1.4.0)\r\n",
      "Requirement already satisfied: ipymarkup in /Users/mnefedov/.pyenv/versions/3.6.5/lib/python3.6/site-packages (0.9.0)\r\n",
      "Requirement already satisfied: intervaltree>=3 in /Users/mnefedov/.pyenv/versions/3.6.5/lib/python3.6/site-packages (from ipymarkup) (3.1.0)\r\n",
      "Requirement already satisfied: sortedcontainers<3.0,>=2.0 in /Users/mnefedov/.pyenv/versions/3.6.5/lib/python3.6/site-packages (from intervaltree>=3->ipymarkup) (2.1.0)\r\n",
      "Requirement already satisfied: pymorphy2 in /Users/mnefedov/.pyenv/versions/3.6.5/lib/python3.6/site-packages (from natasha) (0.8)\r\n",
      "Requirement already satisfied: yargy>=0.14.0 in /Users/mnefedov/.pyenv/versions/3.6.5/lib/python3.6/site-packages (from natasha) (0.15.0)\r\n",
      "Requirement already satisfied: slovnet>=0.3.0 in /Users/mnefedov/.pyenv/versions/3.6.5/lib/python3.6/site-packages (from natasha) (0.5.0)\r\n",
      "Requirement already satisfied: navec>=0.9.0 in /Users/mnefedov/.pyenv/versions/3.6.5/lib/python3.6/site-packages (from natasha) (0.10.0)\r\n",
      "Requirement already satisfied: razdel>=0.5.0 in /Users/mnefedov/.pyenv/versions/3.6.5/lib/python3.6/site-packages (from natasha) (0.5.0)\r\n",
      "Requirement already satisfied: numpy in /Users/mnefedov/.pyenv/versions/3.6.5/lib/python3.6/site-packages (from navec>=0.9.0->natasha) (1.18.1)\r\n",
      "Requirement already satisfied: docopt>=0.6 in /Users/mnefedov/.pyenv/versions/3.6.5/lib/python3.6/site-packages (from pymorphy2->natasha) (0.6.2)\r\n",
      "Requirement already satisfied: pymorphy2-dicts<3.0,>=2.4 in /Users/mnefedov/.pyenv/versions/3.6.5/lib/python3.6/site-packages (from pymorphy2->natasha) (2.4.393442.3710985)\r\n",
      "Requirement already satisfied: dawg-python>=0.7 in /Users/mnefedov/.pyenv/versions/3.6.5/lib/python3.6/site-packages (from pymorphy2->natasha) (0.7.2)\r\n"
     ]
    }
   ],
   "source": [
    "!pip install natasha ipymarkup"
   ]
  },
  {
   "cell_type": "code",
   "execution_count": 128,
   "metadata": {},
   "outputs": [],
   "source": [
    "from pymorphy2 import MorphAnalyzer\n",
    "morph = MorphAnalyzer()"
   ]
  },
  {
   "cell_type": "code",
   "execution_count": 130,
   "metadata": {},
   "outputs": [
    {
     "name": "stdout",
     "output_type": "stream",
     "text": [
      "Тэги -  NOUN,anim,masc,Name sing,nomn\n",
      "True\n"
     ]
    }
   ],
   "source": [
    "p = morph.parse('Михаил')[0].tag\n",
    "print('Тэги - ', p)\n",
    "print('Name' in p) #тэг имени"
   ]
  },
  {
   "cell_type": "code",
   "execution_count": 131,
   "metadata": {},
   "outputs": [
    {
     "name": "stdout",
     "output_type": "stream",
     "text": [
      "Тэги -  NOUN,anim,masc,Sgtm,Surn sing,nomn\n",
      "True\n"
     ]
    }
   ],
   "source": [
    "p = morph.parse('Иванов')[0].tag\n",
    "print('Тэги - ', p)\n",
    "print('Surn' in p) #тэг фамилии"
   ]
  },
  {
   "cell_type": "code",
   "execution_count": 132,
   "metadata": {},
   "outputs": [
    {
     "name": "stdout",
     "output_type": "stream",
     "text": [
      "Тэги -  NOUN,anim,masc,Patr sing,nomn\n",
      "True\n"
     ]
    }
   ],
   "source": [
    "p = morph.parse('Петрович')[0].tag\n",
    "print('Тэги - ', p)\n",
    "print('Patr' in p) #тэг отчества"
   ]
  },
  {
   "cell_type": "code",
   "execution_count": 137,
   "metadata": {},
   "outputs": [
    {
     "name": "stdout",
     "output_type": "stream",
     "text": [
      "Тэги -  NOUN,inan,neut,Sgtm,Geox sing,nomn\n",
      "True\n"
     ]
    }
   ],
   "source": [
    "p = morph.parse('Одинцово')[0].tag\n",
    "print('Тэги - ', p)\n",
    "print('Geox' in p) #тэг локация"
   ]
  },
  {
   "cell_type": "code",
   "execution_count": 138,
   "metadata": {},
   "outputs": [
    {
     "name": "stdout",
     "output_type": "stream",
     "text": [
      "Тэги -  NOUN,inan,masc,Orgn sing,nomn\n",
      "True\n"
     ]
    }
   ],
   "source": [
    "p = morph.parse('Яндекс')[0].tag\n",
    "print('Тэги - ', p)\n",
    "print('Orgn' in p) #тэг организация"
   ]
  },
  {
   "cell_type": "code",
   "execution_count": 142,
   "metadata": {},
   "outputs": [
    {
     "name": "stdout",
     "output_type": "stream",
     "text": [
      "Тэги -  NOUN,inan,masc,Sgtm,Fixd,Abbr,Orgn sing,gent\n",
      "True\n"
     ]
    }
   ],
   "source": [
    "p = morph.parse('МГУ')[0].tag\n",
    "print('Тэги - ', p)\n",
    "print('Orgn' in p) #тэг организация"
   ]
  },
  {
   "cell_type": "code",
   "execution_count": 129,
   "metadata": {},
   "outputs": [
    {
     "name": "stdout",
     "output_type": "stream",
     "text": [
      "Тэги -  UNKN\n",
      "False\n"
     ]
    }
   ],
   "source": [
    "p = morph.parse('ВШЭ')[0].tag\n",
    "print('Тэги - ', p)\n",
    "print('Orgn' in p) #тэг организация"
   ]
  },
  {
   "cell_type": "markdown",
   "metadata": {},
   "source": [
    "## &uarr;&uarr;&uarr;\n",
    "### Попробуйте другие слова для этих типов сущностей, чтобы понять, что работает, а что нет"
   ]
  },
  {
   "cell_type": "markdown",
   "metadata": {},
   "source": [
    "Рядом стоящие слова одного тэга можно склеить в один. Или сначала собрать нграмы и если какое-то одно слово в нграмме принадлежит к какому-то типу сущности, то распространить его на весь нграм."
   ]
  },
  {
   "cell_type": "markdown",
   "metadata": {},
   "source": [
    "Другой инструмент - natasha (https://github.com/natasha/natasha)"
   ]
  },
  {
   "cell_type": "markdown",
   "metadata": {},
   "source": [
    "До недавнего времени это была просто библиотека с правилами, написанными на yargy https://github.com/natasha/yargy (специальной грамматике на питоне), а теперь это уже многоцелевая русскоязычная нлп-библиотека. Извлекать сущности тут можно либо предобученной моделью либо правилами."
   ]
  },
  {
   "cell_type": "code",
   "execution_count": 130,
   "metadata": {},
   "outputs": [],
   "source": [
    "from natasha import (\n",
    "    Segmenter,\n",
    "    MorphVocab,\n",
    "    NewsEmbedding,\n",
    "    NewsMorphTagger,\n",
    "    NewsSyntaxParser,\n",
    "    NewsNERTagger,\n",
    "    PER,\n",
    "    NamesExtractor,\n",
    "    Doc,\n",
    "    DatesExtractor,\n",
    "    MoneyExtractor,\n",
    "    AddrExtractor,\n",
    "    \n",
    ")\n",
    "\n",
    "\n",
    "# для красивой отрисовки есть отдельная библиотека\n",
    "from ipymarkup import show_span_box_markup\n",
    "\n",
    "\n",
    "# интерфейс загрузки моделей пока не самый простой\n",
    "# со временем наверное станет получше\n",
    "segmenter = Segmenter()\n",
    "morph_vocab = MorphVocab()\n",
    "\n",
    "emb = NewsEmbedding()\n",
    "ner_tagger = NewsNERTagger(emb)\n",
    "\n",
    "\n",
    "# правила загружаются вот так\n",
    "names_extractor = NamesExtractor(morph_vocab)\n",
    "dates_extractor = DatesExtractor(morph_vocab)\n",
    "money_extractor = MoneyExtractor(morph_vocab)\n",
    "addr_extractor = AddrExtractor(morph_vocab)"
   ]
  },
  {
   "cell_type": "code",
   "execution_count": 131,
   "metadata": {},
   "outputs": [
    {
     "data": {
      "text/html": [
       "<div class=\"tex2jax_ignore\" style=\"white-space: pre-wrap\"><span style=\"padding: 2px; border-radius: 4px; border: 1px solid #c8e6c9; background: #e8f5e9\">Влад Веселов<span style=\"vertical-align: middle; margin-left: 2px; font-size: 0.7em; color: #66bb6a;\">PER</span></span>. <span style=\"padding: 2px; border-radius: 4px; border: 1px solid #c8e6c9; background: #e8f5e9\">Андрей Петрович<span style=\"vertical-align: middle; margin-left: 2px; font-size: 0.7em; color: #66bb6a;\">PER</span></span>. <span style=\"padding: 2px; border-radius: 4px; border: 1px solid #c8e6c9; background: #e8f5e9\">Алиса Викторовна<span style=\"vertical-align: middle; margin-left: 2px; font-size: 0.7em; color: #66bb6a;\">PER</span></span>. Студия <span style=\"padding: 2px; border-radius: 4px; border: 1px solid #c8e6c9; background: #e8f5e9\">Артемия Лебедева<span style=\"vertical-align: middle; margin-left: 2px; font-size: 0.7em; color: #66bb6a;\">PER</span></span></div>"
      ],
      "text/plain": [
       "<IPython.core.display.HTML object>"
      ]
     },
     "metadata": {},
     "output_type": "display_data"
    }
   ],
   "source": [
    "text = 'Влад Веселов. Андрей Петрович. Алиса Викторовна. Студия Артемия Лебедева'\n",
    "# для моделей нужно превратить текст в класс Doc (похоже на spacy)\n",
    "doc = Doc(text)\n",
    "\n",
    "\n",
    "# потом модели применяются к тексту\n",
    "doc.segment(segmenter) # сегментер нужно применить, иначе нер не будет работать\n",
    "doc.tag_ner(ner_tagger)\n",
    "show_span_box_markup(text, doc.spans)"
   ]
  },
  {
   "cell_type": "code",
   "execution_count": 132,
   "metadata": {
    "scrolled": true
   },
   "outputs": [
    {
     "data": {
      "text/html": [
       "<div class=\"tex2jax_ignore\" style=\"white-space: pre-wrap\"><span style=\"padding: 2px; border-radius: 4px; border: 1px solid #c8e6c9; background: #e8f5e9\">Влад Веселов<span style=\"vertical-align: middle; margin-left: 2px; font-size: 0.7em; color: #66bb6a;\">PER</span></span>. <span style=\"padding: 2px; border-radius: 4px; border: 1px solid #c8e6c9; background: #e8f5e9\">Андрей Петрович<span style=\"vertical-align: middle; margin-left: 2px; font-size: 0.7em; color: #66bb6a;\">PER</span></span>. <span style=\"padding: 2px; border-radius: 4px; border: 1px solid #c8e6c9; background: #e8f5e9\">Алиса Викторовна<span style=\"vertical-align: middle; margin-left: 2px; font-size: 0.7em; color: #66bb6a;\">PER</span></span>. <span style=\"padding: 2px; border-radius: 4px; border: 1px solid #c8e6c9; background: #e8f5e9\">Студия Артемия<span style=\"vertical-align: middle; margin-left: 2px; font-size: 0.7em; color: #66bb6a;\">PER</span></span> <span style=\"padding: 2px; border-radius: 4px; border: 1px solid #c8e6c9; background: #e8f5e9\">Лебедева<span style=\"vertical-align: middle; margin-left: 2px; font-size: 0.7em; color: #66bb6a;\">PER</span></span></div>"
      ],
      "text/plain": [
       "<IPython.core.display.HTML object>"
      ]
     },
     "metadata": {},
     "output_type": "display_data"
    }
   ],
   "source": [
    "matches = names_extractor(text)\n",
    "spans = [(_.start, _.stop, 'PER') for _ in matches]\n",
    "show_span_box_markup(text, spans)"
   ]
  },
  {
   "cell_type": "code",
   "execution_count": 147,
   "metadata": {},
   "outputs": [
    {
     "data": {
      "text/html": [
       "<div class=\"tex2jax_ignore\" style=\"white-space: pre-wrap\">Более того в <span style=\"padding: 2px; border-radius: 4px; border: 1px solid #ffcdd2; background: #ffebee\">Москве<span style=\"vertical-align: middle; margin-left: 2px; font-size: 0.7em; color: #e57373;\">LOC</span></span>, на улице <span style=\"padding: 2px; border-radius: 4px; border: 1px solid #ffcdd2; background: #ffebee\">Такой<span style=\"vertical-align: middle; margin-left: 2px; font-size: 0.7em; color: #e57373;\">LOC</span></span>. На реке <span style=\"padding: 2px; border-radius: 4px; border: 1px solid #ffcdd2; background: #ffebee\">Оке<span style=\"vertical-align: middle; margin-left: 2px; font-size: 0.7em; color: #e57373;\">LOC</span></span>. В <span style=\"padding: 2px; border-radius: 4px; border: 1px solid #ffcdd2; background: #ffebee\">германии<span style=\"vertical-align: middle; margin-left: 2px; font-size: 0.7em; color: #e57373;\">LOC</span></span></div>"
      ],
      "text/plain": [
       "<IPython.core.display.HTML object>"
      ]
     },
     "metadata": {},
     "output_type": "display_data"
    }
   ],
   "source": [
    "text = 'Более того в Москве, на улице Такой. На реке Оке. В германии'\n",
    "\n",
    "doc = Doc(text)\n",
    "doc.segment(segmenter)\n",
    "doc.tag_ner(ner_tagger)\n",
    "show_span_box_markup(text, doc.spans)"
   ]
  },
  {
   "cell_type": "code",
   "execution_count": 148,
   "metadata": {},
   "outputs": [
    {
     "data": {
      "text/html": [
       "<div class=\"tex2jax_ignore\" style=\"white-space: pre-wrap\">Более того в <span style=\"padding: 2px; border-radius: 4px; border: 1px solid #ffcdd2; background: #ffebee\">Москве<span style=\"vertical-align: middle; margin-left: 2px; font-size: 0.7em; color: #e57373;\">LOC</span></span>, на <span style=\"padding: 2px; border-radius: 4px; border: 1px solid #ffcdd2; background: #ffebee\">улице Такой<span style=\"vertical-align: middle; margin-left: 2px; font-size: 0.7em; color: #e57373;\">LOC</span></span>. На реке Оке. В германии</div>"
      ],
      "text/plain": [
       "<IPython.core.display.HTML object>"
      ]
     },
     "metadata": {},
     "output_type": "display_data"
    }
   ],
   "source": [
    "matches = addr_extractor(text)\n",
    "spans = [(_.start, _.stop, 'LOC') for _ in matches]\n",
    "show_span_box_markup(text, spans)"
   ]
  },
  {
   "cell_type": "code",
   "execution_count": 81,
   "metadata": {},
   "outputs": [
    {
     "data": {
      "text/html": [
       "<div class=\"tex2jax_ignore\" style=\"white-space: pre-wrap\"><span style=\"padding: 2px; border-radius: 4px; border: 1px solid #ffe0b2; background: #fff3e0\">ФСБ<span style=\"vertical-align: middle; margin-left: 2px; font-size: 0.7em; color: #ffb74d;\">ORG</span></span>. <span style=\"padding: 2px; border-radius: 4px; border: 1px solid #ffe0b2; background: #fff3e0\">Московский государственный университет<span style=\"vertical-align: middle; margin-left: 2px; font-size: 0.7em; color: #ffb74d;\">ORG</span></span>. Высшая школа экономики. <span style=\"padding: 2px; border-radius: 4px; border: 1px solid #ffe0b2; background: #fff3e0\">ВШЭ. Mail.ru<span style=\"vertical-align: middle; margin-left: 2px; font-size: 0.7em; color: #ffb74d;\">ORG</span></span> </div>"
      ],
      "text/plain": [
       "<IPython.core.display.HTML object>"
      ]
     },
     "metadata": {},
     "output_type": "display_data"
    }
   ],
   "source": [
    "text = 'ФСБ. Московский государственный университет. Высшая школа экономики. ВШЭ. Mail.ru '\n",
    "doc = Doc(text)\n",
    "doc.segment(segmenter)\n",
    "doc.tag_ner(ner_tagger)\n",
    "show_span_box_markup(text, doc.spans)"
   ]
  },
  {
   "cell_type": "code",
   "execution_count": 138,
   "metadata": {
    "scrolled": true
   },
   "outputs": [
    {
     "data": {
      "text/html": [
       "<div class=\"tex2jax_ignore\" style=\"white-space: pre-wrap\">С <span style=\"padding: 2px; border-radius: 4px; border: 1px solid #bbdefb; background: #e3f2fd\">2015 г.</span> по <span style=\"padding: 2px; border-radius: 4px; border: 1px solid #bbdefb; background: #e3f2fd\">2017 год</span>. <span style=\"padding: 2px; border-radius: 4px; border: 1px solid #bbdefb; background: #e3f2fd\">16 апреля 1993 года</span>. В четверг . <span style=\"padding: 2px; border-radius: 4px; border: 1px solid #bbdefb; background: #e3f2fd\">23.12.18</span></div>"
      ],
      "text/plain": [
       "<IPython.core.display.HTML object>"
      ]
     },
     "metadata": {},
     "output_type": "display_data"
    }
   ],
   "source": [
    "text = 'С 2015 г. по 2017 год. 16 апреля 1993 года. В четверг . 23.12.18'\n",
    "\n",
    "matches = dates_extractor(text)\n",
    "spans = [(_.start, _.stop) for _ in matches]\n",
    "show_span_box_markup(text, spans)"
   ]
  },
  {
   "cell_type": "code",
   "execution_count": 146,
   "metadata": {},
   "outputs": [
    {
     "data": {
      "text/html": [
       "<div class=\"tex2jax_ignore\" style=\"white-space: pre-wrap\">Он заплатил ему 3,<span style=\"padding: 2px; border-radius: 4px; border: 1px solid #bbdefb; background: #e3f2fd\">000,000,000 рублей</span>.</div>"
      ],
      "text/plain": [
       "<IPython.core.display.HTML object>"
      ]
     },
     "metadata": {},
     "output_type": "display_data"
    }
   ],
   "source": [
    "text = \"Он заплатил ему 3,000,000,000 рублей.\"\n",
    "\n",
    "matches = money_extractor(text)\n",
    "spans = [(_.start, _.stop) for _ in matches]\n",
    "show_span_box_markup(text, spans)"
   ]
  },
  {
   "cell_type": "code",
   "execution_count": 143,
   "metadata": {},
   "outputs": [
    {
     "data": {
      "text/html": [
       "<div class=\"tex2jax_ignore\" style=\"white-space: pre-wrap\">Он заплатил ему <span style=\"padding: 2px; border-radius: 4px; border: 1px solid #bbdefb; background: #e3f2fd\">3000 000 000 рублей</span>.</div>"
      ],
      "text/plain": [
       "<IPython.core.display.HTML object>"
      ]
     },
     "metadata": {},
     "output_type": "display_data"
    }
   ],
   "source": [
    "text = \"Он заплатил ему 3000 000 000 рублей.\"\n",
    "\n",
    "matches = money_extractor(text)\n",
    "spans = [(_.start, _.stop) for _ in matches]\n",
    "show_span_box_markup(text, spans)"
   ]
  },
  {
   "cell_type": "markdown",
   "metadata": {},
   "source": [
    "Ещё есть томита-парсер, но с ним очень тяжело работать (никакого развития, скудная документация, закрытый код, никакого сообщества) https://tech.yandex.ru/tomita/"
   ]
  },
  {
   "cell_type": "markdown",
   "metadata": {},
   "source": [
    "Если нужно улучшить выделение стандартныйх типов или научиться извлекать специфичные сущности, нужно писать правила в Yargy. "
   ]
  },
  {
   "cell_type": "markdown",
   "metadata": {},
   "source": [
    "Возьмем тексты объявлений на авито по категории Консоли и попробуем научиться выделять названия приставок Xbox и Playstation."
   ]
  },
  {
   "cell_type": "code",
   "execution_count": 46,
   "metadata": {},
   "outputs": [
    {
     "name": "stderr",
     "output_type": "stream",
     "text": [
      "/Users/mnefedov/.pyenv/versions/3.6.5/lib/python3.6/site-packages/ipykernel_launcher.py:2: FutureWarning: Passing a negative integer is deprecated in version 1.0 and will not be supported in future version. Instead, use None to not limit the column width.\n",
      "  \n"
     ]
    }
   ],
   "source": [
    "import pandas as pd\n",
    "pd.set_option('display.max_colwidth', -1)"
   ]
  },
  {
   "cell_type": "markdown",
   "metadata": {},
   "source": [
    "Посмотрим на данные."
   ]
  },
  {
   "cell_type": "code",
   "execution_count": 48,
   "metadata": {},
   "outputs": [],
   "source": [
    "data = pd.read_csv('pristavki.csv', header=None, names=['text'])"
   ]
  },
  {
   "cell_type": "code",
   "execution_count": 49,
   "metadata": {},
   "outputs": [
    {
     "data": {
      "text/plain": [
       "(9285, 1)"
      ]
     },
     "execution_count": 49,
     "metadata": {},
     "output_type": "execute_result"
    }
   ],
   "source": [
    "data.shape"
   ]
  },
  {
   "cell_type": "markdown",
   "metadata": {},
   "source": [
    "Давайте попробуем сначала полные варианты: Xbox 360, Xbox one, Playstation 1,2,3,4."
   ]
  },
  {
   "cell_type": "code",
   "execution_count": 50,
   "metadata": {},
   "outputs": [],
   "source": [
    "from yargy import Parser, rule, or_\n",
    "from yargy.predicates import in_, in_caseless\n",
    "from yargy.tokenizer import MorphTokenizer\n",
    "from yargy.pipelines import morph_pipeline, caseless_pipeline\n",
    "from yargy.interpretation import fact\n",
    "from IPython.display import display"
   ]
  },
  {
   "cell_type": "markdown",
   "metadata": {},
   "source": [
    "Для начала определим саму сущность, которую будет извлекать. Сущность будет называться Pristavka и неё будет два атрибута: название и версия. Делается это вот так:"
   ]
  },
  {
   "cell_type": "code",
   "execution_count": 51,
   "metadata": {},
   "outputs": [],
   "source": [
    "\n",
    "Pristavka = fact(\n",
    "    'Pristavka',\n",
    "    ['name', 'model']\n",
    ")"
   ]
  },
  {
   "cell_type": "markdown",
   "metadata": {},
   "source": [
    "(Чуть позже станет понятнее зачем так делать)"
   ]
  },
  {
   "cell_type": "markdown",
   "metadata": {},
   "source": [
    "Теперь сделаем правило для иксбокса. Просто напишем несколько вариантов написания Xbox и версий.\n",
    "Такой список называется Газзетир. В Yargy его удобно задавать через morph_pipeline. Туда можно написать слова или последовательности, а он их нормализует, чтобы потом сопоставлять с текстом.\n"
   ]
  },
  {
   "cell_type": "markdown",
   "metadata": {},
   "source": [
    "В итоге у нас два газзетира. Мы оборачиваем их в правило (rule). Работать это будет примерно как регулярка. "
   ]
  },
  {
   "cell_type": "code",
   "execution_count": 165,
   "metadata": {},
   "outputs": [],
   "source": [
    "Xbox = rule(\n",
    "    morph_pipeline(['Xbox', 'X box', \"Иксбокс\"])\n",
    "    .interpretation(Pristavka.name), # то, что сматчиться будет в атрибуте name\n",
    "    morph_pipeline(['360', 'one'])\n",
    "    .interpretation(Pristavka.model)) # то, что сматчиться будет в атрибуте version\n"
   ]
  },
  {
   "cell_type": "markdown",
   "metadata": {},
   "source": [
    "Правило для плейстешена будет аналогичное."
   ]
  },
  {
   "cell_type": "code",
   "execution_count": 166,
   "metadata": {},
   "outputs": [],
   "source": [
    "PS = rule(\n",
    "    morph_pipeline(['Playstation', 'Play station', 'PS']).interpretation(Pristavka.name),\n",
    "    morph_pipeline(['1', '2', '3', '4']).interpretation(Pristavka.model)    \n",
    "    )"
   ]
  },
  {
   "cell_type": "markdown",
   "metadata": {},
   "source": [
    "Теперь сделаем общее правило, которое будет искать плейстешены или иксбоксы и извлекать их как сущность типа Pristavka."
   ]
  },
  {
   "cell_type": "code",
   "execution_count": 167,
   "metadata": {},
   "outputs": [],
   "source": [
    "PRISTAVKA = or_(PS, Xbox).interpretation(Pristavka)\n",
    "\n",
    "parser = Parser(PRISTAVKA) # создаем парсер, которым будем проходить по тексту"
   ]
  },
  {
   "cell_type": "markdown",
   "metadata": {},
   "source": [
    "Попробуем сматчить по текстам."
   ]
  },
  {
   "cell_type": "code",
   "execution_count": 168,
   "metadata": {},
   "outputs": [],
   "source": [
    "matches = []\n",
    "\n",
    "for sent in data.text[:100]:\n",
    "    for match in parser.findall(sent):\n",
    "        matches.append(match.fact)"
   ]
  },
  {
   "cell_type": "code",
   "execution_count": 169,
   "metadata": {
    "scrolled": true
   },
   "outputs": [
    {
     "name": "stdout",
     "output_type": "stream",
     "text": [
      "PS 3\n",
      "Ps 4\n",
      "PS 1\n",
      "PS 3\n",
      "PlayStation 3\n",
      "PS 3\n",
      "Xbox 360\n",
      "Playstation 3\n",
      "Ps 4\n",
      "ps 2\n"
     ]
    }
   ],
   "source": [
    "for m in matches[:10]:\n",
    "    print(m.name, m.model)"
   ]
  },
  {
   "cell_type": "markdown",
   "metadata": {},
   "source": [
    "У приставок ещё могут быть подификации вроде Slim, X, S и т.д, но не всегда. Чтобы учесть это можно добавить ещё одно правило с .optional() на конце."
   ]
  },
  {
   "cell_type": "code",
   "execution_count": null,
   "metadata": {},
   "outputs": [],
   "source": []
  },
  {
   "cell_type": "code",
   "execution_count": 170,
   "metadata": {},
   "outputs": [],
   "source": [
    "Pristavka = fact(\n",
    "    'Pristavka',\n",
    "    ['name', 'model','version']\n",
    ")\n",
    "\n",
    "Xbox = rule(\n",
    "    morph_pipeline(['Xbox', 'X box', \"Иксбокс\"]).interpretation(Pristavka.name),\n",
    "    morph_pipeline(['360', 'one']).interpretation(Pristavka.model),\n",
    "    morph_pipeline(['s', 'x', 'e']).interpretation(Pristavka.version).optional()) \n",
    "\n",
    "PS = rule(\n",
    "    morph_pipeline(['Playstation', 'Play station', 'PS']).interpretation(Pristavka.name),\n",
    "    morph_pipeline(['1', '2', '3', '4']).interpretation(Pristavka.model),\n",
    "    morph_pipeline(['Slim', 'SuperSlim', 'слим']).interpretation(Pristavka.version).optional()\n",
    "    )\n",
    "PRISTAVKA = or_(PS, Xbox).interpretation(Pristavka)\n",
    "\n",
    "parser = Parser(PRISTAVKA) # создаем парсер, которым будем проходить по тексту"
   ]
  },
  {
   "cell_type": "code",
   "execution_count": 171,
   "metadata": {},
   "outputs": [
    {
     "data": {
      "text/plain": [
       "Pristavka(\n",
       "    name='Playstation',\n",
       "    model='3',\n",
       "    version='slim'\n",
       ")"
      ]
     },
     "execution_count": 171,
     "metadata": {},
     "output_type": "execute_result"
    }
   ],
   "source": [
    "list(parser.findall('Playstation 3 slim'))[0].fact"
   ]
  },
  {
   "cell_type": "code",
   "execution_count": 172,
   "metadata": {},
   "outputs": [
    {
     "data": {
      "text/plain": [
       "Pristavka(\n",
       "    name='Playstation',\n",
       "    model='3',\n",
       "    version=None\n",
       ")"
      ]
     },
     "execution_count": 172,
     "metadata": {},
     "output_type": "execute_result"
    }
   ],
   "source": [
    "list(parser.findall('Playstation 3 арарв'))[0].fact"
   ]
  },
  {
   "cell_type": "code",
   "execution_count": 92,
   "metadata": {},
   "outputs": [],
   "source": [
    "matches = []\n",
    "\n",
    "for sent in data.text[:1000]:\n",
    "    for match in parser.findall(sent):\n",
    "        matches.append(match.fact)"
   ]
  },
  {
   "cell_type": "code",
   "execution_count": 96,
   "metadata": {},
   "outputs": [
    {
     "data": {
      "text/plain": [
       "381"
      ]
     },
     "execution_count": 96,
     "metadata": {},
     "output_type": "execute_result"
    }
   ],
   "source": [
    "len(matches)"
   ]
  },
  {
   "cell_type": "code",
   "execution_count": 102,
   "metadata": {
    "scrolled": true
   },
   "outputs": [
    {
     "name": "stdout",
     "output_type": "stream",
     "text": [
      "PS 3\n",
      "Ps 4\n",
      "PS 1\n",
      "PS 3\n",
      "PlayStation 3\n",
      "PS 3\n",
      "Xbox 360\n",
      "Playstation 3\n",
      "Ps 4\n",
      "ps 2\n"
     ]
    }
   ],
   "source": [
    "for m in matches[:10]:\n",
    "    print(m.name, m.model)"
   ]
  },
  {
   "cell_type": "markdown",
   "metadata": {},
   "source": [
    "Все работает как и должно."
   ]
  },
  {
   "cell_type": "markdown",
   "metadata": {},
   "source": [
    "Хорошо бы ещё приводить все варианты названия к нормальному виду. Вот как это можно сделать."
   ]
  },
  {
   "cell_type": "markdown",
   "metadata": {},
   "source": [
    "Если можно заменить весь газзетир на какое-то одно слово, то можно просто добавить в интерпретации значение .сonst('something')"
   ]
  },
  {
   "cell_type": "code",
   "execution_count": 121,
   "metadata": {},
   "outputs": [],
   "source": [
    "Pristavka = fact(\n",
    "    'Pristavka',\n",
    "    ['name', 'model','version']\n",
    ")\n",
    "\n",
    "Xbox = rule(\n",
    "    morph_pipeline(['Xbox', 'X box', \"Иксбокс\"]).interpretation(Pristavka.name.const('Xbox')),\n",
    "    morph_pipeline(['360', 'one']).interpretation(Pristavka.model),\n",
    "    morph_pipeline(['s', 'x', 'e']).interpretation(Pristavka.version).optional()) \n",
    "\n",
    "PS = rule(\n",
    "    morph_pipeline(['Playstation', 'Play station', 'PS']).interpretation(Pristavka.name.const('Playstation')),\n",
    "    morph_pipeline(['1', '2', '3', '4']).interpretation(Pristavka.model),\n",
    "    morph_pipeline(['Slim', 'SuperSlim', 'слим']).interpretation(Pristavka.version).optional()\n",
    "    )\n",
    "PRISTAVKA = or_(PS, Xbox).interpretation(Pristavka)\n",
    "\n",
    "parser = Parser(PRISTAVKA) # создаем парсер, которым будем проходить по тексту"
   ]
  },
  {
   "cell_type": "code",
   "execution_count": 122,
   "metadata": {},
   "outputs": [],
   "source": [
    "matches = []\n",
    "\n",
    "for sent in data.text[:200]:\n",
    "    for match in parser.findall(sent):\n",
    "        matches.append(match.fact)"
   ]
  },
  {
   "cell_type": "code",
   "execution_count": 123,
   "metadata": {
    "scrolled": true
   },
   "outputs": [
    {
     "name": "stdout",
     "output_type": "stream",
     "text": [
      "Playstation 3\n",
      "Playstation 4\n",
      "Playstation 1\n",
      "Playstation 3\n",
      "Playstation 3\n",
      "Playstation 3\n",
      "Xbox 360\n",
      "Playstation 3\n",
      "Playstation 4\n",
      "Playstation 2\n"
     ]
    }
   ],
   "source": [
    "for m in matches[:10]:\n",
    "    print(m.name, m.model)"
   ]
  },
  {
   "cell_type": "markdown",
   "metadata": {},
   "source": [
    "В общем случае к нормальной форме приводит .normalized() добавленный к атрибуту в интерпретации. Но он работает через pymorphy2, а он работает с русским языком. Поэтому в нашем случае его можно использовать только для привода к нижнему регистру."
   ]
  },
  {
   "cell_type": "markdown",
   "metadata": {},
   "source": [
    "Когда у каждого и слов в газзетире есть своя нормальная форма, можно сделать газзетир словарём, где ключи это нужные формы, а значения - нормальные формы. А в интерпретации к .normalized() добавить .custom() и через него дергать нужную правильную форму."
   ]
  },
  {
   "cell_type": "code",
   "execution_count": 112,
   "metadata": {},
   "outputs": [],
   "source": [
    "Pristavka = fact(\n",
    "    'Pristavka',\n",
    "    ['name', 'model','version']\n",
    ")\n",
    "\n",
    "VERSIONS = {\n",
    "    'super slim': 'SuperSlim',\n",
    "    'superslim': 'SuperSlim',\n",
    "    'slim': 'Slim',\n",
    "    'fat': 'Fat',\n",
    "    'pro': 'PRO',\n",
    "    'vita': 'VITA'\n",
    "}\n",
    "\n",
    "Xbox = rule(\n",
    "    morph_pipeline(['Xbox', 'X box', \"Иксбокс\"]).interpretation(Pristavka.name.const('Xbox')),\n",
    "    morph_pipeline(['360', 'one']).interpretation(Pristavka.model.normalized()),\n",
    "    in_caseless('sxe').interpretation(Pristavka.version.normalized()).optional()) \n",
    "\n",
    "PS = rule(\n",
    "    morph_pipeline(['Playstation', 'Play station', 'PS']).interpretation(Pristavka.name.const('Playstation')),\n",
    "    # для простоты можно написать вот так\n",
    "    in_('1234').interpretation(Pristavka.model.normalized()),\n",
    "    #изменения вот тут                                                      вот тут дергаем правильную форму\n",
    "    caseless_pipeline(VERSIONS).interpretation(Pristavka.version.normalized().custom(VERSIONS.get)).optional()\n",
    "    )\n",
    "PRISTAVKA = or_(PS, Xbox).interpretation(Pristavka)\n",
    "\n",
    "parser = Parser(PRISTAVKA) # создаем парсер, которым будем проходить по тексту"
   ]
  },
  {
   "cell_type": "code",
   "execution_count": 188,
   "metadata": {},
   "outputs": [
    {
     "data": {
      "text/plain": [
       "Pristavka(\n",
       "    name='PS',\n",
       "    model='3',\n",
       "    version='SlIm'\n",
       ")"
      ]
     },
     "execution_count": 188,
     "metadata": {},
     "output_type": "execute_result"
    }
   ],
   "source": [
    "list(parser.findall('PS 3 SlIm  PS 3 SlIm PS 3 SlIm'))[1].fact"
   ]
  },
  {
   "cell_type": "code",
   "execution_count": 174,
   "metadata": {},
   "outputs": [
    {
     "data": {
      "text/plain": [
       "Pristavka(\n",
       "    name='XbOx',\n",
       "    model='360',\n",
       "    version='X'\n",
       ")"
      ]
     },
     "execution_count": 174,
     "metadata": {},
     "output_type": "execute_result"
    }
   ],
   "source": [
    "list(parser.findall('XbOx 360 X'))[0].fact"
   ]
  },
  {
   "cell_type": "code",
   "execution_count": 118,
   "metadata": {},
   "outputs": [],
   "source": [
    "matches = []\n",
    "\n",
    "for sent in data.text:\n",
    "    for match in parser.findall(sent):\n",
    "        matches.append(match.fact)"
   ]
  },
  {
   "cell_type": "code",
   "execution_count": 119,
   "metadata": {
    "scrolled": true
   },
   "outputs": [
    {
     "name": "stdout",
     "output_type": "stream",
     "text": [
      "Playstation 3\n",
      "Playstation 4\n",
      "Playstation 1\n",
      "Playstation 3\n",
      "Playstation 3\n",
      "Playstation 3\n",
      "Xbox 360\n",
      "Playstation 3\n",
      "Playstation 4\n",
      "Playstation 2\n"
     ]
    }
   ],
   "source": [
    "for m in matches[:10]:\n",
    "    print(m.name, m.model)"
   ]
  },
  {
   "cell_type": "code",
   "execution_count": 120,
   "metadata": {},
   "outputs": [
    {
     "data": {
      "text/plain": [
       "3351"
      ]
     },
     "execution_count": 120,
     "metadata": {},
     "output_type": "execute_result"
    }
   ],
   "source": [
    "len(matches)"
   ]
  },
  {
   "cell_type": "markdown",
   "metadata": {},
   "source": [
    "Улучшения для этого типа сущностей довольно очевидные и простые - нужно расширять газзетиры, можно добавить другие приставки вроде денди и нинтендо."
   ]
  },
  {
   "cell_type": "markdown",
   "metadata": {},
   "source": [
    "Для сущностей, которые нельзя перечислить словарём, нужны контекстные правила. В целом они не сильно сложнее того, что мы сейчас написали. Возможно вам понадобятся другие полезные штуки из Yargy (предикат - and_, учёт грамматической информации - gram('NOUN'), согласование по роду, числу и падежу - gnc).\n",
    "\n",
    "Учить сразу все не имеет смысла. Возьмите практическую задачу, документацию к Yargy (https://yargy.readthedocs.io/ru/latest/index.html) и разбирайте только то, что вам нужно. "
   ]
  },
  {
   "cell_type": "code",
   "execution_count": null,
   "metadata": {},
   "outputs": [],
   "source": []
  }
 ],
 "metadata": {
  "kernelspec": {
   "display_name": "Python 3",
   "language": "python",
   "name": "python3"
  },
  "language_info": {
   "codemirror_mode": {
    "name": "ipython",
    "version": 3
   },
   "file_extension": ".py",
   "mimetype": "text/x-python",
   "name": "python",
   "nbconvert_exporter": "python",
   "pygments_lexer": "ipython3",
   "version": "3.7.2"
  }
 },
 "nbformat": 4,
 "nbformat_minor": 2
}
