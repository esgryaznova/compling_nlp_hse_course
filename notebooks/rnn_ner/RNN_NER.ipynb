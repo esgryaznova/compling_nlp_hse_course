{
 "cells": [
  {
   "cell_type": "markdown",
   "metadata": {},
   "source": [
    "# Дисклеймер\n",
    "Эту тетрадку нужно запускать в колабе или в vast.ai. Не мучатесь с установкой библиотек и с обучением на cpu."
   ]
  },
  {
   "cell_type": "code",
   "execution_count": 1,
   "metadata": {
    "scrolled": true
   },
   "outputs": [
    {
     "name": "stdout",
     "output_type": "stream",
     "text": [
      "Collecting pandas\n",
      "  Downloading pandas-1.4.0-cp38-cp38-manylinux_2_17_x86_64.manylinux2014_x86_64.whl (11.7 MB)\n",
      "\u001b[K     |████████████████████████████████| 11.7 MB 5.9 MB/s eta 0:00:01     |██████████████████████████████  | 10.9 MB 5.9 MB/s eta 0:00:01\n",
      "\u001b[?25hCollecting scikit-learn\n",
      "  Downloading scikit_learn-1.0.2-cp38-cp38-manylinux_2_17_x86_64.manylinux2014_x86_64.whl (26.7 MB)\n",
      "\u001b[K     |████████████████████████████████| 26.7 MB 9.9 MB/s eta 0:00:01\n",
      "\u001b[?25hCollecting matplotlib\n",
      "  Downloading matplotlib-3.5.1-cp38-cp38-manylinux_2_5_x86_64.manylinux1_x86_64.whl (11.3 MB)\n",
      "\u001b[K     |████████████████████████████████| 11.3 MB 17.2 MB/s eta 0:00:01    |███▌                            | 1.2 MB 17.2 MB/s eta 0:00:01     |█████▏                          | 1.8 MB 17.2 MB/s eta 0:00:01\n",
      "\u001b[?25hRequirement already satisfied: pytz>=2020.1 in /usr/local/lib/python3.8/dist-packages (from pandas) (2021.3)\n",
      "Requirement already satisfied: python-dateutil>=2.8.1 in /usr/local/lib/python3.8/dist-packages (from pandas) (2.8.2)\n",
      "Requirement already satisfied: numpy>=1.18.5; platform_machine != \"aarch64\" and platform_machine != \"arm64\" and python_version < \"3.10\" in /usr/local/lib/python3.8/dist-packages (from pandas) (1.22.1)\n",
      "Collecting scipy>=1.1.0\n",
      "  Downloading scipy-1.8.0-cp38-cp38-manylinux_2_17_x86_64.manylinux2014_x86_64.whl (41.6 MB)\n",
      "\u001b[K     |████████████████████████████████| 41.6 MB 7.9 MB/s eta 0:00:011     |███████████████████             | 24.7 MB 30.7 MB/s eta 0:00:01\n",
      "\u001b[?25hCollecting joblib>=0.11\n",
      "  Downloading joblib-1.1.0-py2.py3-none-any.whl (306 kB)\n",
      "\u001b[K     |████████████████████████████████| 306 kB 25.8 MB/s eta 0:00:01\n",
      "\u001b[?25hCollecting threadpoolctl>=2.0.0\n",
      "  Downloading threadpoolctl-3.1.0-py3-none-any.whl (14 kB)\n",
      "Requirement already satisfied: packaging>=20.0 in /usr/local/lib/python3.8/dist-packages (from matplotlib) (21.3)\n",
      "Collecting pillow>=6.2.0\n",
      "  Downloading Pillow-9.0.1-cp38-cp38-manylinux_2_17_x86_64.manylinux2014_x86_64.whl (4.3 MB)\n",
      "\u001b[K     |████████████████████████████████| 4.3 MB 31.3 MB/s eta 0:00:01\n",
      "\u001b[?25hRequirement already satisfied: pyparsing>=2.2.1 in /usr/local/lib/python3.8/dist-packages (from matplotlib) (3.0.7)\n",
      "Collecting kiwisolver>=1.0.1\n",
      "  Downloading kiwisolver-1.3.2-cp38-cp38-manylinux_2_5_x86_64.manylinux1_x86_64.whl (1.2 MB)\n",
      "\u001b[K     |████████████████████████████████| 1.2 MB 40.4 MB/s eta 0:00:01\n",
      "\u001b[?25hCollecting cycler>=0.10\n",
      "  Downloading cycler-0.11.0-py3-none-any.whl (6.4 kB)\n",
      "Collecting fonttools>=4.22.0\n",
      "  Downloading fonttools-4.29.1-py3-none-any.whl (895 kB)\n",
      "\u001b[K     |████████████████████████████████| 895 kB 51.2 MB/s eta 0:00:01\n",
      "\u001b[?25hRequirement already satisfied: six>=1.5 in /usr/lib/python3/dist-packages (from python-dateutil>=2.8.1->pandas) (1.14.0)\n",
      "Installing collected packages: pandas, scipy, joblib, threadpoolctl, scikit-learn, pillow, kiwisolver, cycler, fonttools, matplotlib\n",
      "Successfully installed cycler-0.11.0 fonttools-4.29.1 joblib-1.1.0 kiwisolver-1.3.2 matplotlib-3.5.1 pandas-1.4.0 pillow-9.0.1 scikit-learn-1.0.2 scipy-1.8.0 threadpoolctl-3.1.0\n",
      "\u001b[33mWARNING: You are using pip version 20.2.4; however, version 22.0.2 is available.\n",
      "You should consider upgrading via the '/usr/bin/python3 -m pip install --upgrade pip' command.\u001b[0m\n"
     ]
    }
   ],
   "source": [
    "!pip install pandas scikit-learn matplotlib"
   ]
  },
  {
   "cell_type": "markdown",
   "metadata": {},
   "source": [
    "## Рекуррентные нейронные сети"
   ]
  },
  {
   "cell_type": "markdown",
   "metadata": {},
   "source": [
    "Рекуррентные нейронные сети (RNN) предназначены для работы с последовательностями (в том числе текстом). По устройству они похожи на цикл, где каждый шаг связан с предудущими через внешние переменные, в которые записывается нужная информация по каким-то условиям. Так как в рекурентных сетях вычисления происходят последовательно, обучение плохо поддается параллелизации. Простыми словами, рекурректные сети медленные. Но их неэффективность часто компенсируется точностью, поэтому рекурректные сети - это стандартный инструмент при работе с текстами.  "
   ]
  },
  {
   "cell_type": "markdown",
   "metadata": {},
   "source": [
    "## Классификация текста с помощью RNN"
   ]
  },
  {
   "cell_type": "markdown",
   "metadata": {},
   "source": [
    "Давайте посмотрим, как в тензорфлоу использовать рекуррентные слои и как их соединять с Embedding и Dense слоями."
   ]
  },
  {
   "cell_type": "markdown",
   "metadata": {},
   "source": [
    "## Код с прошлых занятий"
   ]
  },
  {
   "cell_type": "code",
   "execution_count": 2,
   "metadata": {},
   "outputs": [],
   "source": [
    "import tensorflow as tf"
   ]
  },
  {
   "cell_type": "code",
   "execution_count": 3,
   "metadata": {},
   "outputs": [],
   "source": [
    "import pandas as pd\n",
    "import numpy as np\n",
    "from string import punctuation\n",
    "from sklearn.model_selection import train_test_split\n",
    "from collections import Counter\n",
    "from IPython.display import Image\n",
    "from IPython.core.display import HTML \n",
    "import matplotlib.pyplot as plt\n",
    "%matplotlib inline"
   ]
  },
  {
   "cell_type": "markdown",
   "metadata": {},
   "source": [
    "Возьмем небольшой кусок датасета [lenta.ru](https://github.com/yutkin/Lenta.Ru-News-Dataset). Попробуем предсказывать тематику текста"
   ]
  },
  {
   "cell_type": "code",
   "execution_count": 9,
   "metadata": {},
   "outputs": [],
   "source": [
    "data = pd.read_csv('lenta_40k.csv.zip')"
   ]
  },
  {
   "cell_type": "code",
   "execution_count": 10,
   "metadata": {},
   "outputs": [
    {
     "data": {
      "text/html": [
       "<div>\n",
       "<style scoped>\n",
       "    .dataframe tbody tr th:only-of-type {\n",
       "        vertical-align: middle;\n",
       "    }\n",
       "\n",
       "    .dataframe tbody tr th {\n",
       "        vertical-align: top;\n",
       "    }\n",
       "\n",
       "    .dataframe thead th {\n",
       "        text-align: right;\n",
       "    }\n",
       "</style>\n",
       "<table border=\"1\" class=\"dataframe\">\n",
       "  <thead>\n",
       "    <tr style=\"text-align: right;\">\n",
       "      <th></th>\n",
       "      <th>text</th>\n",
       "      <th>topic</th>\n",
       "    </tr>\n",
       "  </thead>\n",
       "  <tbody>\n",
       "    <tr>\n",
       "      <th>0</th>\n",
       "      <td>Россия должна сотрудничать с Всемирным антидоп...</td>\n",
       "      <td>Спорт</td>\n",
       "    </tr>\n",
       "    <tr>\n",
       "      <th>1</th>\n",
       "      <td>Уголовный суд Кувейта 28 июня освободил под за...</td>\n",
       "      <td>Мир</td>\n",
       "    </tr>\n",
       "    <tr>\n",
       "      <th>2</th>\n",
       "      <td>Французский журнал Charlie Hebdo опубликовал н...</td>\n",
       "      <td>Интернет и СМИ</td>\n",
       "    </tr>\n",
       "    <tr>\n",
       "      <th>3</th>\n",
       "      <td>В Петербурге в доме № 53 по улице Лени Голиков...</td>\n",
       "      <td>Россия</td>\n",
       "    </tr>\n",
       "    <tr>\n",
       "      <th>4</th>\n",
       "      <td>В московском аэропорту \"Домодедово\" задержан г...</td>\n",
       "      <td>Россия</td>\n",
       "    </tr>\n",
       "  </tbody>\n",
       "</table>\n",
       "</div>"
      ],
      "text/plain": [
       "                                                text           topic\n",
       "0  Россия должна сотрудничать с Всемирным антидоп...           Спорт\n",
       "1  Уголовный суд Кувейта 28 июня освободил под за...             Мир\n",
       "2  Французский журнал Charlie Hebdo опубликовал н...  Интернет и СМИ\n",
       "3  В Петербурге в доме № 53 по улице Лени Голиков...          Россия\n",
       "4  В московском аэропорту \"Домодедово\" задержан г...          Россия"
      ]
     },
     "execution_count": 10,
     "metadata": {},
     "output_type": "execute_result"
    }
   ],
   "source": [
    "data.head(5)"
   ]
  },
  {
   "cell_type": "markdown",
   "metadata": {},
   "source": [
    "Предобработка нам тут особо не важна."
   ]
  },
  {
   "cell_type": "code",
   "execution_count": 11,
   "metadata": {},
   "outputs": [],
   "source": [
    "def preprocess(text):\n",
    "    tokens = text.lower().split()\n",
    "    tokens = [token.strip(punctuation) for token in tokens]\n",
    "    return tokens"
   ]
  },
  {
   "cell_type": "markdown",
   "metadata": {},
   "source": [
    "В tf есть много встроенны метрик, но нет f1 меры. Можно воспользоваться вот такой функцией, взятой со stackoverflow"
   ]
  },
  {
   "cell_type": "code",
   "execution_count": 12,
   "metadata": {},
   "outputs": [],
   "source": [
    "from tensorflow.keras import backend as K\n",
    "def f1(y_true, y_pred):\n",
    "    def recall(y_true, y_pred):\n",
    "        \"\"\"Recall metric.\n",
    "\n",
    "        Only computes a batch-wise average of recall.\n",
    "\n",
    "        Computes the recall, a metric for multi-label classification of\n",
    "        how many relevant items are selected.\n",
    "        \"\"\"\n",
    "        true_positives = K.sum(K.round(K.clip(y_true * y_pred, 0, 1)))\n",
    "        possible_positives = K.sum(K.round(K.clip(y_true, 0, 1)))\n",
    "        recall = true_positives / (possible_positives + K.epsilon())\n",
    "        return recall\n",
    "\n",
    "    def precision(y_true, y_pred):\n",
    "        \"\"\"Precision metric.\n",
    "\n",
    "        Only computes a batch-wise average of precision.\n",
    "\n",
    "        Computes the precision, a metric for multi-label classification of\n",
    "        how many selected items are relevant.\n",
    "        \"\"\"\n",
    "        true_positives = K.sum(K.round(K.clip(y_true * y_pred, 0, 1)))\n",
    "        predicted_positives = K.sum(K.round(K.clip(y_pred, 0, 1)))\n",
    "        precision = true_positives / (predicted_positives + K.epsilon())\n",
    "        return precision\n",
    "    precision = precision(y_true, y_pred)\n",
    "    recall = recall(y_true, y_pred)\n",
    "    return 2*((precision*recall)/(precision+recall+K.epsilon()))"
   ]
  },
  {
   "cell_type": "markdown",
   "metadata": {},
   "source": [
    "Как и раньше, создаем словарь, фильтруем, чтобы он был адекватного размера и переводим токены в индексы"
   ]
  },
  {
   "cell_type": "code",
   "execution_count": 13,
   "metadata": {},
   "outputs": [],
   "source": [
    "# словарь\n",
    "vocab = Counter()\n",
    "\n",
    "for text in data.text:\n",
    "    vocab.update(preprocess(text))"
   ]
  },
  {
   "cell_type": "code",
   "execution_count": 14,
   "metadata": {},
   "outputs": [
    {
     "data": {
      "text/plain": [
       "354611"
      ]
     },
     "execution_count": 14,
     "metadata": {},
     "output_type": "execute_result"
    }
   ],
   "source": [
    "len(vocab)"
   ]
  },
  {
   "cell_type": "code",
   "execution_count": 15,
   "metadata": {},
   "outputs": [],
   "source": [
    "# отфильтрованный словарь\n",
    "filtered_vocab = set()\n",
    "\n",
    "for word in vocab:\n",
    "    if vocab[word] > 30:\n",
    "        filtered_vocab.add(word)"
   ]
  },
  {
   "cell_type": "code",
   "execution_count": 16,
   "metadata": {},
   "outputs": [
    {
     "data": {
      "text/plain": [
       "24091"
      ]
     },
     "execution_count": 16,
     "metadata": {},
     "output_type": "execute_result"
    }
   ],
   "source": [
    "len(filtered_vocab)"
   ]
  },
  {
   "cell_type": "code",
   "execution_count": 17,
   "metadata": {},
   "outputs": [],
   "source": [
    "# индексируем слова\n",
    "word2id = {'PAD':0, 'UNK':1}\n",
    "\n",
    "for word in filtered_vocab:\n",
    "    word2id[word] = len(word2id)"
   ]
  },
  {
   "cell_type": "code",
   "execution_count": 18,
   "metadata": {},
   "outputs": [],
   "source": [
    "id2word = {i:word for word, i in word2id.items()}"
   ]
  },
  {
   "cell_type": "code",
   "execution_count": 19,
   "metadata": {},
   "outputs": [],
   "source": [
    "# переводим тексты в последовательности индексов\n",
    "X = []\n",
    "\n",
    "for text in data.text:\n",
    "    tokens = preprocess(text)\n",
    "    ids = [word2id.get(token, 1) for token in tokens]\n",
    "    X.append(ids)"
   ]
  },
  {
   "cell_type": "code",
   "execution_count": 20,
   "metadata": {},
   "outputs": [],
   "source": [
    "MAX_LEN = max(len(x) for x in X)"
   ]
  },
  {
   "cell_type": "markdown",
   "metadata": {},
   "source": [
    "Можно посчитать среднюю или медианную длину, если максимальная кажется слишком большой."
   ]
  },
  {
   "cell_type": "code",
   "execution_count": 21,
   "metadata": {},
   "outputs": [],
   "source": [
    "MEAN_LEN = np.median([len(x) for x in X])"
   ]
  },
  {
   "cell_type": "code",
   "execution_count": 22,
   "metadata": {},
   "outputs": [
    {
     "data": {
      "text/plain": [
       "(1748, 170.0)"
      ]
     },
     "execution_count": 22,
     "metadata": {},
     "output_type": "execute_result"
    }
   ],
   "source": [
    "MAX_LEN, MEAN_LEN"
   ]
  },
  {
   "cell_type": "code",
   "execution_count": 23,
   "metadata": {},
   "outputs": [],
   "source": [
    "MAX_LEN = int(MEAN_LEN + 30)"
   ]
  },
  {
   "cell_type": "code",
   "execution_count": 24,
   "metadata": {},
   "outputs": [],
   "source": [
    "# паддинг\n",
    "X = tf.keras.preprocessing.sequence.pad_sequences(X, maxlen=MAX_LEN)"
   ]
  },
  {
   "cell_type": "code",
   "execution_count": 25,
   "metadata": {},
   "outputs": [
    {
     "data": {
      "text/plain": [
       "(44356, 200)"
      ]
     },
     "execution_count": 25,
     "metadata": {},
     "output_type": "execute_result"
    }
   ],
   "source": [
    "X.shape"
   ]
  },
  {
   "cell_type": "code",
   "execution_count": 26,
   "metadata": {},
   "outputs": [],
   "source": [
    "id2label = {i:label for i, label in enumerate(set(data.topic.values))}\n",
    "label2id = {l:i for i, l in id2label.items()}"
   ]
  },
  {
   "cell_type": "code",
   "execution_count": 27,
   "metadata": {},
   "outputs": [],
   "source": [
    "y = tf.keras.utils.to_categorical([label2id[label] for label in data.topic.values])"
   ]
  },
  {
   "cell_type": "code",
   "execution_count": 28,
   "metadata": {},
   "outputs": [
    {
     "data": {
      "text/plain": [
       "19"
      ]
     },
     "execution_count": 28,
     "metadata": {},
     "output_type": "execute_result"
    }
   ],
   "source": [
    "len(label2id)"
   ]
  },
  {
   "cell_type": "markdown",
   "metadata": {},
   "source": [
    "В этот раз добавим стратификацию, т.к. в данных у нас дисбаланс классов."
   ]
  },
  {
   "cell_type": "code",
   "execution_count": 29,
   "metadata": {},
   "outputs": [],
   "source": [
    "X_train, X_valid, y_train, y_valid = train_test_split(X, y, test_size=0.05, stratify=y)"
   ]
  },
  {
   "cell_type": "markdown",
   "metadata": {},
   "source": [
    "Есть несколько разновидностей рекуррентных слоев - RNN (vanila rnn), GRU, LSTM. "
   ]
  },
  {
   "cell_type": "markdown",
   "metadata": {},
   "source": [
    "Первый - самый простой рекуррентный слой, где на каждом шаге используется предыдущее состояние и текущий вектор, они складываются и умножаются на матрицу весов с функцией активации, полученный вектор передается на следующий шаг. Проблема с обычными RNN в том, что информация о предыдущих состояних очень быстро затирается и учитывать нелокальные зависимости не получается. \n"
   ]
  },
  {
   "cell_type": "markdown",
   "metadata": {},
   "source": [
    "Можно схематично представить Vanilla RNN вот таким циклом в питоне:"
   ]
  },
  {
   "cell_type": "code",
   "execution_count": null,
   "metadata": {},
   "outputs": [],
   "source": [
    "# это вектор внутреннего состояния, можно его рассматривать как память \n",
    "hidden_state = [0, 0, ...] \n",
    "\n",
    "# ванила рнн это цикл по векторам слов в тексте\n",
    "for token_vector in text_vectors:\n",
    "    # на каждом шаге вектор текущего слова складывается с вектором памяти и к ним применяется\n",
    "    # полносвязный слой и функция активации tanh (гиперболический тангенс)\n",
    "    # tanh переводит числа в интервал от -1 до 1\n",
    "    hidden_state = tanh(W(hidden_state + token_vector))\n",
    "\n"
   ]
  },
  {
   "cell_type": "markdown",
   "metadata": {},
   "source": [
    "\n",
    "LSTM и GRU частично решают эту проблему добавлением дополнительных матриц весов и активаций, которые будут отвечать за то, чтобы нужная информация сохранялась на протяжении всей последовательности, а ненужная удалялась."
   ]
  },
  {
   "cell_type": "markdown",
   "metadata": {},
   "source": [
    "Схематично LSTM можно представить вот так:"
   ]
  },
  {
   "cell_type": "code",
   "execution_count": null,
   "metadata": {},
   "outputs": [],
   "source": [
    "# в LSTM две переменные для памяти (отсюда и название Long-short memory network, \n",
    "#                                одна переменная для короткой памяти другая для долгой)\n",
    "# cell_state используется только внутри ячейки (это long memory)\n",
    "cell_state = [0, 0, ...]\n",
    "# а hidden_state также передается наружу (его можно использовать для классификации)\n",
    "hidden_state = [0, 0, ...]\n",
    "\n",
    "# цикл точно также идет по векторам слов в тексте\n",
    "for token_vector in text_vectors:\n",
    "    # запоминание/забывание в LSTM реализовано с помощью механизма, который называется gate\n",
    "    # есть три гейта - гейт забывания (forget_gate), входной гейт (input gate), и выходной гейт (output_gate)\n",
    "    # гейт - это полносвязный слой с функцией активации сигмоида (она выдает числа от 0 до 1)\n",
    "    # по сути это веса которые пременяются к hidden_state, cell_state\n",
    "    # например, результат forget_gate может выглядеть как [0.02, 0.01, 0.99]\n",
    "    # он будет означать что нужно почти полностью забыть то что хранится в 1 и 2 размерности, но оставить то что в 3\n",
    "    forget_gate = sigmoid(W_forget(hidden_state + token_vector))\n",
    "    input_gate = sigmoid(W_input(hidden_state + token_vector))\n",
    "    output_gate = sigmoid(W_output(hidden_state + token_vector))\n",
    "    \n",
    "    # гейты это веса, а сами значения для векторов cell_state и hidden_state получаются через tanh\n",
    "    # обновление cell_state, hidden_state происходит следующим образом:\n",
    "    # 1. forget_gate применяется к cell_state. Это поточечное умножение двух векторов \n",
    "    # (в питоне * означает обычное умножение, правильно было бы написать pointwise_multiply\n",
    "    #  но т.к. это просто схема я написал просто *) \n",
    "    # Этот шаг отвечает за удаление из долгой памяти\n",
    "    # Т.е гейт смотрит на текущую кратковременную память и текущее слова и решает, что можно удалить из долгой памяти\n",
    "    forget = forget_gate * cell_state\n",
    "    \n",
    "    # 2. в cell_state сохраняется новая информация\n",
    "    # Чтобы что-то сохранить в долгую память нужно скомбинировать текущее слово и короткую память\n",
    "    # и привести это к формату в котором хранится долговременная память \n",
    "    # Комбинирование - это просто сложение hidden_state и token_vector\n",
    "    # А приведение к нужному формату это полносвязный слой и все тот же tanh\n",
    "    candidate = tanh(W_candidate(hidden_state + token_vector))\n",
    "    # важность новой информации определяет input_gate\n",
    "    input = candidate * input_gate\n",
    "    # итоговый cell_state получается удалением ненужного и добавлением актуального\n",
    "    cell_state = forget + input\n",
    "    # таким образом на каждом шаге гейты забывания и запоминания решают что и в какой пропорции помнить, а что забыть\n",
    "    # обратите внимание, что это не статичные веса (10 % забываем,  20% запоминаем), \n",
    "    # каждый раз веса получаются разные в зависимости от текущего слова и короткой памяти\n",
    "    \n",
    "    # 3. обновляется короткая память (hidden_state)\n",
    "    # hidden_state вычисляется из обновленного cell_state с помощью output_gate\n",
    "    # Можно интепретировать это как-то так:\n",
    "    # модель выбирает из памяти только наиболее релевантную текущему слову информацию\n",
    "    # Если текущее слово глагол, то в hidden_state может записаться информация о самом глаголе (значение, время, лицо)\n",
    "    # а также информация о связанных с ним словах (местоимении, именной группе, отрицательной частите)\n",
    "    hidden_state = tanh(cell_state) * output_gate\n",
    "    \n",
    "    "
   ]
  },
  {
   "cell_type": "markdown",
   "metadata": {},
   "source": [
    "А GRU вот так:"
   ]
  },
  {
   "cell_type": "code",
   "execution_count": null,
   "metadata": {},
   "outputs": [],
   "source": [
    "# в GRU только одна переменная для памяти\n",
    "hidden_state = [0, 0, ...]\n",
    "\n",
    "for token_vector in text_vectors:\n",
    "    # механизм запоминания/забывания тоже реализован через гейты\n",
    "    # В GRU 2 гейта - reset (забывание) и update (запоминание)\n",
    "    # расчитываются они применением полносвязного слоя к текущему слову и памяти с сигмоидой\n",
    "    reset = sigmoid(W_reset(token_vector + hidden_state))\n",
    "    update = sigmoid(W_update(token_vector + hidden_state))\n",
    "    \n",
    "    # Обновление hidden_state устроено следующим образом:\n",
    "    # 1. Из памяти выбирается только нужная информация с помощью reset gate\n",
    "    # На основе актуальной памяти и текущего вектора считается новый потенциальный вектор hidden_state\n",
    "    # Это делается полносвязным слоем и tanh\n",
    "    candidate_hidden_state = tanh(W_candidate((hidden_state * reset) + token_vector)) \n",
    "    \n",
    "    # 2. update gate решает в какой пропорции совместить память и потенциальный hidden_state\n",
    "    # тут два раза используется update но во втором случае он вычитается из единицы\n",
    "    # вычитание из единицы отзеркаливает update (если update [0.2, 0.45], то 1-update = [0.8, 0.55])\n",
    "    # Если значения в update маленькие, то в 1-update будут большие, т.е. \n",
    "    # модель возьмет почти все из памяти и почти ничего из потенциального вектора (и наоборот)\n",
    "    hidden_state = (update * candidate_hidden_state) + ( (1-update) * hidden_state )\n",
    "    "
   ]
  },
  {
   "cell_type": "markdown",
   "metadata": {},
   "source": [
    "На картинке все три типа можно изобразить вот так:"
   ]
  },
  {
   "cell_type": "code",
   "execution_count": 135,
   "metadata": {},
   "outputs": [
    {
     "data": {
      "text/html": [
       "<img src=\"https://habrastorage.org/webt/xt/_q/nj/xt_qnjgfjengqoqd4gizkq4j_wk.png\" width=\"1000\" height=\"1000\"/>"
      ],
      "text/plain": [
       "<IPython.core.display.Image object>"
      ]
     },
     "execution_count": 135,
     "metadata": {},
     "output_type": "execute_result"
    }
   ],
   "source": [
    "# lstm cell\n",
    "Image(url=\"https://habrastorage.org/webt/xt/_q/nj/xt_qnjgfjengqoqd4gizkq4j_wk.png\",\n",
    "     width=1000, height=1000)"
   ]
  },
  {
   "cell_type": "markdown",
   "metadata": {},
   "source": [
    "На практике выбор стоит между LSTM и GRU. По описанию и графику можно заметить, что в LSTM 4 матрицы с весами, а в GRU 3. Таким образом, GRU - немного проще (а значит быстрее) LSTM. Но это не значит, что LSTM лучше работает (сложное не значит хорошее). Как и с другими алгоритмами машинного обучения все зависит от задачи. Лучше пробовать и то и другое (или даже совмещать)."
   ]
  },
  {
   "cell_type": "markdown",
   "metadata": {},
   "source": [
    "Ссылки, чтобы разобраться подробнее:  \n",
    "    http://karpathy.github.io/2015/05/21/rnn-effectiveness/  \n",
    "    https://towardsdatascience.com/illustrated-guide-to-lstms-and-gru-s-a-step-by-step-explanation-44e9eb85bf21  \n",
    "    https://colah.github.io/posts/2015-08-Understanding-LSTMs/  \n",
    "    \n",
    "    \n",
    "    \n",
    "    "
   ]
  },
  {
   "cell_type": "markdown",
   "metadata": {},
   "source": [
    "Использовать RNN слой в tf проще, чем понять, как он устроен. Нужно просто поставить его после другого слоя, который возвращает последовательность (например, после Embedding слоя).\n",
    "\n",
    "При return_sequences=False в следующий слой будет передаваться только последнее состояние - 1 вектор, т.е. не нужно конкатенировать"
   ]
  },
  {
   "cell_type": "code",
   "execution_count": 36,
   "metadata": {},
   "outputs": [],
   "source": [
    "inputs = tf.keras.layers.Input(shape=(MAX_LEN,))\n",
    "embeddings = tf.keras.layers.Embedding(input_dim=len(word2id), output_dim=30)(inputs, )\n",
    "\n",
    "\n",
    "# rnn = tf.keras.layers.SimpleRNN(128, return_sequences=False)(embeddings)\n",
    "rnn = tf.keras.layers.LSTM(128, return_sequences=False)(embeddings)\n",
    "# rnn = tf.keras.layers.GRU(128, return_sequences=False)(embeddings)\n",
    "\n",
    "outputs = tf.keras.layers.Dense(len(label2id), activation='softmax')(rnn)\n",
    "\n",
    "model = tf.keras.Model(inputs=inputs, outputs=outputs)\n",
    "optimizer = tf.keras.optimizers.Adam(learning_rate=0.001)\n",
    "model.compile(optimizer=optimizer,\n",
    "              loss='categorical_crossentropy',\n",
    "              metrics=[f1, tf.keras.metrics.RecallAtPrecision(0.8, name='rec@prec')])\n"
   ]
  },
  {
   "cell_type": "markdown",
   "metadata": {},
   "source": [
    "Схема задачи, чтобы было понятнее:"
   ]
  },
  {
   "cell_type": "code",
   "execution_count": 32,
   "metadata": {},
   "outputs": [
    {
     "data": {
      "text/html": [
       "<img src=\"https://i.ibb.co/72k8z32/lstm-clf-Page-2-1.png\" width=\"500\" height=\"500\"/>"
      ],
      "text/plain": [
       "<IPython.core.display.Image object>"
      ]
     },
     "execution_count": 32,
     "metadata": {},
     "output_type": "execute_result"
    }
   ],
   "source": [
    "# вместо lstm может быть gru\n",
    "Image(url=\"https://i.ibb.co/72k8z32/lstm-clf-Page-2-1.png\",\n",
    "     width=500, height=500)\n"
   ]
  },
  {
   "cell_type": "code",
   "execution_count": 33,
   "metadata": {},
   "outputs": [
    {
     "name": "stdout",
     "output_type": "stream",
     "text": [
      "Model: \"model\"\n",
      "_________________________________________________________________\n",
      " Layer (type)                Output Shape              Param #   \n",
      "=================================================================\n",
      " input_2 (InputLayer)        [(None, 200)]             0         \n",
      "                                                                 \n",
      " embedding_1 (Embedding)     (None, 200, 30)           722790    \n",
      "                                                                 \n",
      " lstm_1 (LSTM)               (None, 128)               81408     \n",
      "                                                                 \n",
      " dense_1 (Dense)             (None, 19)                2451      \n",
      "                                                                 \n",
      "=================================================================\n",
      "Total params: 806,649\n",
      "Trainable params: 806,649\n",
      "Non-trainable params: 0\n",
      "_________________________________________________________________\n"
     ]
    }
   ],
   "source": [
    "model.summary()"
   ]
  },
  {
   "cell_type": "code",
   "execution_count": 37,
   "metadata": {
    "scrolled": true
   },
   "outputs": [
    {
     "name": "stdout",
     "output_type": "stream",
     "text": [
      "Epoch 1/20\n",
      "43/43 [==============================] - 2s 33ms/step - loss: 2.5083 - f1: 0.0000e+00 - rec@prec: 0.0000e+00 - val_loss: 2.3241 - val_f1: 0.0000e+00 - val_rec@prec: 0.0000e+00\n",
      "Epoch 2/20\n",
      "43/43 [==============================] - 1s 25ms/step - loss: 2.3084 - f1: 0.0000e+00 - rec@prec: 0.0000e+00 - val_loss: 2.2830 - val_f1: 0.0000e+00 - val_rec@prec: 0.0018\n",
      "Epoch 3/20\n",
      "43/43 [==============================] - 1s 25ms/step - loss: 2.1326 - f1: 5.9709e-04 - rec@prec: 1.4239e-04 - val_loss: 1.9174 - val_f1: 0.0000e+00 - val_rec@prec: 0.0117\n",
      "Epoch 4/20\n",
      "43/43 [==============================] - 1s 25ms/step - loss: 1.7739 - f1: 0.1232 - rec@prec: 0.0837 - val_loss: 1.6870 - val_f1: 0.1958 - val_rec@prec: 0.1285\n",
      "Epoch 5/20\n",
      "43/43 [==============================] - 1s 25ms/step - loss: 1.5227 - f1: 0.3298 - rec@prec: 0.2244 - val_loss: 1.5234 - val_f1: 0.4209 - val_rec@prec: 0.2471\n",
      "Epoch 6/20\n",
      "43/43 [==============================] - 1s 25ms/step - loss: 1.3076 - f1: 0.5382 - rec@prec: 0.3656 - val_loss: 1.3850 - val_f1: 0.5502 - val_rec@prec: 0.2750\n",
      "Epoch 7/20\n",
      "43/43 [==============================] - 1s 25ms/step - loss: 1.1447 - f1: 0.6285 - rec@prec: 0.5004 - val_loss: 1.4062 - val_f1: 0.5688 - val_rec@prec: 0.3179\n",
      "Epoch 8/20\n",
      "43/43 [==============================] - 1s 25ms/step - loss: 1.0241 - f1: 0.6729 - rec@prec: 0.5872 - val_loss: 1.2478 - val_f1: 0.6308 - val_rec@prec: 0.4657\n",
      "Epoch 9/20\n",
      "43/43 [==============================] - 1s 25ms/step - loss: 0.9867 - f1: 0.6919 - rec@prec: 0.6390 - val_loss: 1.2668 - val_f1: 0.6214 - val_rec@prec: 0.4328\n",
      "Epoch 10/20\n",
      "43/43 [==============================] - 1s 25ms/step - loss: 0.8140 - f1: 0.7568 - rec@prec: 0.7379 - val_loss: 1.1637 - val_f1: 0.6520 - val_rec@prec: 0.5266\n",
      "Epoch 11/20\n",
      "43/43 [==============================] - 1s 25ms/step - loss: 0.6892 - f1: 0.7932 - rec@prec: 0.8056 - val_loss: 1.1453 - val_f1: 0.6742 - val_rec@prec: 0.5618\n",
      "Epoch 12/20\n",
      "43/43 [==============================] - 1s 25ms/step - loss: 0.6119 - f1: 0.8194 - rec@prec: 0.8446 - val_loss: 1.1970 - val_f1: 0.6723 - val_rec@prec: 0.5491\n",
      "Epoch 13/20\n",
      "43/43 [==============================] - 1s 25ms/step - loss: 0.5437 - f1: 0.8434 - rec@prec: 0.8737 - val_loss: 1.1849 - val_f1: 0.6840 - val_rec@prec: 0.5762\n",
      "Epoch 14/20\n",
      "43/43 [==============================] - 1s 24ms/step - loss: 0.5276 - f1: 0.8481 - rec@prec: 0.8804 - val_loss: 1.2236 - val_f1: 0.6710 - val_rec@prec: 0.5455\n",
      "Epoch 15/20\n",
      "43/43 [==============================] - 1s 25ms/step - loss: 0.4519 - f1: 0.8737 - rec@prec: 0.9113 - val_loss: 1.2482 - val_f1: 0.6882 - val_rec@prec: 0.5690\n",
      "Epoch 16/20\n",
      "43/43 [==============================] - 1s 25ms/step - loss: 0.3904 - f1: 0.8926 - rec@prec: 0.9328 - val_loss: 1.2391 - val_f1: 0.6791 - val_rec@prec: 0.5640\n",
      "Epoch 17/20\n",
      "43/43 [==============================] - 1s 25ms/step - loss: 0.3470 - f1: 0.9061 - rec@prec: 0.9474 - val_loss: 1.2515 - val_f1: 0.6760 - val_rec@prec: 0.5636\n",
      "Epoch 18/20\n",
      "43/43 [==============================] - 1s 25ms/step - loss: 0.3577 - f1: 0.9018 - rec@prec: 0.9439 - val_loss: 1.2844 - val_f1: 0.6884 - val_rec@prec: 0.5703\n",
      "Epoch 19/20\n",
      "43/43 [==============================] - 1s 25ms/step - loss: 0.2735 - f1: 0.9271 - rec@prec: 0.9661 - val_loss: 1.2849 - val_f1: 0.6809 - val_rec@prec: 0.5784\n",
      "Epoch 20/20\n",
      "43/43 [==============================] - 1s 24ms/step - loss: 0.2384 - f1: 0.9402 - rec@prec: 0.9728 - val_loss: 1.3452 - val_f1: 0.6863 - val_rec@prec: 0.5848\n"
     ]
    },
    {
     "data": {
      "text/plain": [
       "<keras.callbacks.History at 0x7f7fa2c9da60>"
      ]
     },
     "execution_count": 37,
     "metadata": {},
     "output_type": "execute_result"
    }
   ],
   "source": [
    "model.fit(X_train, y_train, \n",
    "          validation_data=(X_valid, y_valid),\n",
    "          batch_size=1000,\n",
    "         epochs=20)"
   ]
  },
  {
   "cell_type": "code",
   "execution_count": 38,
   "metadata": {},
   "outputs": [
    {
     "name": "stdout",
     "output_type": "stream",
     "text": [
      "dict_keys(['loss', 'f1', 'rec@prec', 'val_loss', 'val_f1', 'val_rec@prec'])\n"
     ]
    },
    {
     "data": {
      "image/png": "[encoded data removed]",
      "text/plain": [
       "<Figure size 432x288 with 1 Axes>"
      ]
     },
     "metadata": {
      "needs_background": "light"
     },
     "output_type": "display_data"
    }
   ],
   "source": [
    "print(model.history.history.keys())\n",
    "# summarize history for accuracy\n",
    "plt.plot(model.history.history['rec@prec'])\n",
    "plt.plot(model.history.history['val_rec@prec'])\n",
    "plt.title('model f1')\n",
    "plt.ylabel('f1')\n",
    "plt.xlabel('epoch')\n",
    "plt.legend(['train', 'val'], loc='upper left')\n",
    "plt.show()"
   ]
  },
  {
   "cell_type": "markdown",
   "metadata": {},
   "source": [
    "Рекуррентные слои можно накладывать друг на друга. Нужно только указать параметр return_sequences=True, т.к. слой ожидает на вход последовательность. Длина последовательности не изменяется, поэтому можно совмещать сколько угодно слоев. Это называется stacked LSTM/GRU."
   ]
  },
  {
   "cell_type": "markdown",
   "metadata": {},
   "source": [
    "Основной параметр в LSTM/GRU слое - units. Чем он больше, тем больше весов будет в модели. Он будет соответствовать размеру вектора состояния (hidden_state). Он может быть любой даже при накладывании слоев друг на друга (они могут быть одинаковые как тут, первый может быть больше, второй может быть больше)."
   ]
  },
  {
   "cell_type": "code",
   "execution_count": 39,
   "metadata": {},
   "outputs": [],
   "source": [
    "inputs = tf.keras.layers.Input(shape=(MAX_LEN,))\n",
    "embeddings = tf.keras.layers.Embedding(input_dim=len(word2id), output_dim=30)(inputs, )\n",
    "\n",
    "lstm_1 = tf.keras.layers.LSTM(128, return_sequences=True)(embeddings)\n",
    "lstm_2 = tf.keras.layers.GRU(128, return_sequences=False)(lstm_1)\n",
    "\n",
    "dense = tf.keras.layers.Dense(64, activation='relu')(lstm_2)\n",
    "outputs = tf.keras.layers.Dense(len(label2id), activation='softmax')(dense)\n",
    "\n",
    "model = tf.keras.Model(inputs=inputs, outputs=outputs)\n",
    "optimizer = tf.keras.optimizers.Adam(learning_rate=0.001)\n",
    "model.compile(optimizer=optimizer,\n",
    "              loss='categorical_crossentropy',\n",
    "              metrics=[f1, tf.keras.metrics.RecallAtPrecision(0.8, name='rec@prec')])\n"
   ]
  },
  {
   "cell_type": "code",
   "execution_count": 40,
   "metadata": {},
   "outputs": [
    {
     "name": "stdout",
     "output_type": "stream",
     "text": [
      "Model: \"model_2\"\n",
      "_________________________________________________________________\n",
      " Layer (type)                Output Shape              Param #   \n",
      "=================================================================\n",
      " input_4 (InputLayer)        [(None, 200)]             0         \n",
      "                                                                 \n",
      " embedding_3 (Embedding)     (None, 200, 30)           722790    \n",
      "                                                                 \n",
      " lstm_3 (LSTM)               (None, 200, 128)          81408     \n",
      "                                                                 \n",
      " gru (GRU)                   (None, 128)               99072     \n",
      "                                                                 \n",
      " dense_3 (Dense)             (None, 64)                8256      \n",
      "                                                                 \n",
      " dense_4 (Dense)             (None, 19)                1235      \n",
      "                                                                 \n",
      "=================================================================\n",
      "Total params: 912,761\n",
      "Trainable params: 912,761\n",
      "Non-trainable params: 0\n",
      "_________________________________________________________________\n"
     ]
    }
   ],
   "source": [
    "model.summary()"
   ]
  },
  {
   "cell_type": "code",
   "execution_count": 41,
   "metadata": {
    "scrolled": true
   },
   "outputs": [
    {
     "name": "stdout",
     "output_type": "stream",
     "text": [
      "Epoch 1/15\n",
      "22/22 [==============================] - 4s 108ms/step - loss: 2.6695 - f1: 0.0099 - rec@prec: 0.0000e+00 - val_loss: 2.4315 - val_f1: 0.0000e+00 - val_rec@prec: 0.0000e+00\n",
      "Epoch 2/15\n",
      "22/22 [==============================] - 2s 86ms/step - loss: 2.3530 - f1: 0.0000e+00 - rec@prec: 0.0000e+00 - val_loss: 2.3125 - val_f1: 0.0000e+00 - val_rec@prec: 0.0000e+00\n",
      "Epoch 3/15\n",
      "22/22 [==============================] - 2s 86ms/step - loss: 2.2797 - f1: 0.0000e+00 - rec@prec: 2.3732e-05 - val_loss: 2.2368 - val_f1: 0.0000e+00 - val_rec@prec: 4.5086e-04\n",
      "Epoch 4/15\n",
      "22/22 [==============================] - 2s 87ms/step - loss: 2.1177 - f1: 0.0030 - rec@prec: 0.0000e+00 - val_loss: 1.9894 - val_f1: 0.0183 - val_rec@prec: 9.0171e-04\n",
      "Epoch 5/15\n",
      "22/22 [==============================] - 2s 87ms/step - loss: 1.8945 - f1: 0.0197 - rec@prec: 1.4239e-04 - val_loss: 1.9322 - val_f1: 0.0189 - val_rec@prec: 4.5086e-04\n",
      "Epoch 6/15\n",
      "22/22 [==============================] - 2s 87ms/step - loss: 1.7634 - f1: 0.0802 - rec@prec: 4.7463e-05 - val_loss: 1.8737 - val_f1: 0.0290 - val_rec@prec: 0.0018\n",
      "Epoch 7/15\n",
      "22/22 [==============================] - 2s 87ms/step - loss: 1.6485 - f1: 0.1295 - rec@prec: 0.0000e+00 - val_loss: 1.7834 - val_f1: 0.1476 - val_rec@prec: 0.0018\n",
      "Epoch 8/15\n",
      "22/22 [==============================] - 2s 87ms/step - loss: 1.4533 - f1: 0.2811 - rec@prec: 0.1292 - val_loss: 1.6056 - val_f1: 0.3243 - val_rec@prec: 0.1537\n",
      "Epoch 9/15\n",
      "22/22 [==============================] - 2s 87ms/step - loss: 1.2488 - f1: 0.4650 - rec@prec: 0.2339 - val_loss: 1.6344 - val_f1: 0.4222 - val_rec@prec: 0.1691\n",
      "Epoch 10/15\n",
      "22/22 [==============================] - 2s 87ms/step - loss: 1.1327 - f1: 0.5502 - rec@prec: 0.3331 - val_loss: 1.4895 - val_f1: 0.4869 - val_rec@prec: 0.2471\n",
      "Epoch 11/15\n",
      "22/22 [==============================] - 2s 87ms/step - loss: 0.9933 - f1: 0.6499 - rec@prec: 0.5143 - val_loss: 1.6932 - val_f1: 0.4699 - val_rec@prec: 0.1889\n",
      "Epoch 12/15\n",
      "22/22 [==============================] - 2s 86ms/step - loss: 0.9627 - f1: 0.6628 - rec@prec: 0.5468 - val_loss: 1.5382 - val_f1: 0.5462 - val_rec@prec: 0.2809\n",
      "Epoch 13/15\n",
      "22/22 [==============================] - 2s 87ms/step - loss: 0.8334 - f1: 0.7281 - rec@prec: 0.6840 - val_loss: 1.5375 - val_f1: 0.5668 - val_rec@prec: 0.3377\n",
      "Epoch 14/15\n",
      "22/22 [==============================] - 2s 87ms/step - loss: 0.7661 - f1: 0.7570 - rec@prec: 0.7357 - val_loss: 1.5966 - val_f1: 0.5712 - val_rec@prec: 0.3151\n",
      "Epoch 15/15\n",
      "22/22 [==============================] - 2s 86ms/step - loss: 0.6930 - f1: 0.7889 - rec@prec: 0.7866 - val_loss: 1.6052 - val_f1: 0.5857 - val_rec@prec: 0.3562\n"
     ]
    },
    {
     "data": {
      "text/plain": [
       "<keras.callbacks.History at 0x7f7f806ca8e0>"
      ]
     },
     "execution_count": 41,
     "metadata": {},
     "output_type": "execute_result"
    }
   ],
   "source": [
    "model.fit(X_train, y_train, \n",
    "          validation_data=(X_valid, y_valid),\n",
    "          batch_size=2000,\n",
    "          epochs=15)"
   ]
  },
  {
   "cell_type": "code",
   "execution_count": 42,
   "metadata": {},
   "outputs": [
    {
     "name": "stdout",
     "output_type": "stream",
     "text": [
      "dict_keys(['loss', 'f1', 'rec@prec', 'val_loss', 'val_f1', 'val_rec@prec'])\n"
     ]
    },
    {
     "data": {
      "image/png": "[encoded data removed]",
      "text/plain": [
       "<Figure size 432x288 with 1 Axes>"
      ]
     },
     "metadata": {
      "needs_background": "light"
     },
     "output_type": "display_data"
    }
   ],
   "source": [
    "print(model.history.history.keys())\n",
    "# summarize history for accuracy\n",
    "plt.plot(model.history.history['f1'])\n",
    "plt.plot(model.history.history['val_f1'])\n",
    "plt.title('model f1')\n",
    "plt.ylabel('f1')\n",
    "plt.xlabel('epoch')\n",
    "plt.legend(['train', 'val'], loc='upper left')\n",
    "plt.show()"
   ]
  },
  {
   "cell_type": "markdown",
   "metadata": {},
   "source": [
    "Рекурретную сеть можно применить в прямом и обратном порядке и объединить состояния в одно (половина вектора будет про инфу до, половина про инфу после). Это назвается Bidirectional и делается в tf очень просто. "
   ]
  },
  {
   "cell_type": "code",
   "execution_count": 58,
   "metadata": {},
   "outputs": [],
   "source": [
    "inputs = tf.keras.layers.Input(shape=(MAX_LEN,))\n",
    "embeddings = tf.keras.layers.Embedding(input_dim=len(word2id), output_dim=100)(inputs, )\n",
    "\n",
    "lstm = tf.keras.layers.Bidirectional(tf.keras.layers.LSTM(128, return_sequences=False))(embeddings)\n",
    "\n",
    "outputs = tf.keras.layers.Dense(len(label2id), activation='softmax')(lstm)\n",
    "\n",
    "model = tf.keras.Model(inputs=inputs, outputs=outputs)\n",
    "optimizer = tf.keras.optimizers.Adam()\n",
    "model.compile(optimizer=optimizer,\n",
    "              loss='categorical_crossentropy',\n",
    "              metrics=[f1, tf.keras.metrics.RecallAtPrecision(0.8, name='rec@prec')])\n"
   ]
  },
  {
   "cell_type": "markdown",
   "metadata": {},
   "source": [
    "Схема задачи, чтобы было понятнее."
   ]
  },
  {
   "cell_type": "code",
   "execution_count": 59,
   "metadata": {},
   "outputs": [
    {
     "data": {
      "text/html": [
       "<img src=\"https://i.ibb.co/B4hmnWd/lstm-clf-Page-2.png\" width=\"500\" height=\"500\"/>"
      ],
      "text/plain": [
       "<IPython.core.display.Image object>"
      ]
     },
     "execution_count": 59,
     "metadata": {},
     "output_type": "execute_result"
    }
   ],
   "source": [
    "Image(url=\"https://i.ibb.co/B4hmnWd/lstm-clf-Page-2.png\",\n",
    "     width=500, height=500)\n"
   ]
  },
  {
   "cell_type": "code",
   "execution_count": 60,
   "metadata": {},
   "outputs": [
    {
     "name": "stdout",
     "output_type": "stream",
     "text": [
      "Model: \"model_7\"\n",
      "_________________________________________________________________\n",
      " Layer (type)                Output Shape              Param #   \n",
      "=================================================================\n",
      " input_9 (InputLayer)        [(None, 200)]             0         \n",
      "                                                                 \n",
      " embedding_8 (Embedding)     (None, 200, 100)          2409300   \n",
      "                                                                 \n",
      " bidirectional_4 (Bidirectio  (None, 256)              234496    \n",
      " nal)                                                            \n",
      "                                                                 \n",
      " dense_9 (Dense)             (None, 19)                4883      \n",
      "                                                                 \n",
      "=================================================================\n",
      "Total params: 2,648,679\n",
      "Trainable params: 2,648,679\n",
      "Non-trainable params: 0\n",
      "_________________________________________________________________\n"
     ]
    }
   ],
   "source": [
    "model.summary()\n",
    "# обратите внимание на размер output в biderectional\n",
    "# он равен units * 2"
   ]
  },
  {
   "cell_type": "code",
   "execution_count": 61,
   "metadata": {
    "scrolled": true
   },
   "outputs": [
    {
     "name": "stdout",
     "output_type": "stream",
     "text": [
      "Epoch 1/20\n",
      "22/22 [==============================] - 5s 121ms/step - loss: 2.6147 - f1: 0.0000e+00 - rec@prec: 0.0000e+00 - val_loss: 2.3442 - val_f1: 0.0000e+00 - val_rec@prec: 0.0000e+00\n",
      "Epoch 2/20\n",
      "22/22 [==============================] - 2s 97ms/step - loss: 2.3141 - f1: 0.0000e+00 - rec@prec: 1.1866e-04 - val_loss: 2.2899 - val_f1: 0.0000e+00 - val_rec@prec: 0.0018\n",
      "Epoch 3/20\n",
      "22/22 [==============================] - 2s 98ms/step - loss: 2.2363 - f1: 0.0000e+00 - rec@prec: 2.3732e-04 - val_loss: 2.0846 - val_f1: 0.0000e+00 - val_rec@prec: 0.0090\n",
      "Epoch 4/20\n",
      "22/22 [==============================] - 2s 98ms/step - loss: 1.9523 - f1: 0.0507 - rec@prec: 0.0558 - val_loss: 1.9542 - val_f1: 0.1443 - val_rec@prec: 0.0987\n",
      "Epoch 5/20\n",
      "22/22 [==============================] - 2s 97ms/step - loss: 1.6758 - f1: 0.2488 - rec@prec: 0.1336 - val_loss: 1.5703 - val_f1: 0.2775 - val_rec@prec: 0.1785\n",
      "Epoch 6/20\n",
      "22/22 [==============================] - 2s 98ms/step - loss: 1.4334 - f1: 0.4029 - rec@prec: 0.2555 - val_loss: 1.4734 - val_f1: 0.4771 - val_rec@prec: 0.2155\n",
      "Epoch 7/20\n",
      "22/22 [==============================] - 2s 98ms/step - loss: 1.2790 - f1: 0.5601 - rec@prec: 0.4085 - val_loss: 1.4399 - val_f1: 0.5499 - val_rec@prec: 0.3070\n",
      "Epoch 8/20\n",
      "22/22 [==============================] - 2s 97ms/step - loss: 1.1517 - f1: 0.6437 - rec@prec: 0.5310 - val_loss: 1.4695 - val_f1: 0.5342 - val_rec@prec: 0.2962\n",
      "Epoch 9/20\n",
      "22/22 [==============================] - 2s 97ms/step - loss: 1.2577 - f1: 0.5685 - rec@prec: 0.3958 - val_loss: 1.4390 - val_f1: 0.5293 - val_rec@prec: 0.3602\n",
      "Epoch 10/20\n",
      "22/22 [==============================] - 2s 98ms/step - loss: 1.0789 - f1: 0.6529 - rec@prec: 0.5694 - val_loss: 1.2361 - val_f1: 0.6290 - val_rec@prec: 0.4630\n",
      "Epoch 11/20\n",
      "22/22 [==============================] - 2s 99ms/step - loss: 0.9334 - f1: 0.7118 - rec@prec: 0.6564 - val_loss: 1.1905 - val_f1: 0.6437 - val_rec@prec: 0.5185\n",
      "Epoch 12/20\n",
      "22/22 [==============================] - 2s 98ms/step - loss: 0.8277 - f1: 0.7472 - rec@prec: 0.7365 - val_loss: 1.1546 - val_f1: 0.6538 - val_rec@prec: 0.5316\n",
      "Epoch 13/20\n",
      "22/22 [==============================] - 2s 99ms/step - loss: 0.7388 - f1: 0.7831 - rec@prec: 0.7850 - val_loss: 1.1228 - val_f1: 0.6779 - val_rec@prec: 0.5500\n",
      "Epoch 14/20\n",
      "22/22 [==============================] - 2s 98ms/step - loss: 0.6731 - f1: 0.8050 - rec@prec: 0.8178 - val_loss: 1.1484 - val_f1: 0.6840 - val_rec@prec: 0.5595\n",
      "Epoch 15/20\n",
      "22/22 [==============================] - 2s 97ms/step - loss: 0.6414 - f1: 0.8137 - rec@prec: 0.8310 - val_loss: 1.1398 - val_f1: 0.6768 - val_rec@prec: 0.5410\n",
      "Epoch 16/20\n",
      "22/22 [==============================] - 2s 97ms/step - loss: 0.6076 - f1: 0.8257 - rec@prec: 0.8480 - val_loss: 1.1160 - val_f1: 0.6979 - val_rec@prec: 0.5721\n",
      "Epoch 17/20\n",
      "22/22 [==============================] - 2s 97ms/step - loss: 0.5203 - f1: 0.8549 - rec@prec: 0.8857 - val_loss: 1.1201 - val_f1: 0.6916 - val_rec@prec: 0.6060\n",
      "Epoch 18/20\n",
      "22/22 [==============================] - 2s 97ms/step - loss: 0.4846 - f1: 0.8654 - rec@prec: 0.8986 - val_loss: 1.1369 - val_f1: 0.7101 - val_rec@prec: 0.5744\n",
      "Epoch 19/20\n",
      "22/22 [==============================] - 2s 98ms/step - loss: 0.4355 - f1: 0.8803 - rec@prec: 0.9184 - val_loss: 1.1648 - val_f1: 0.6912 - val_rec@prec: 0.5528\n",
      "Epoch 20/20\n",
      "22/22 [==============================] - 2s 96ms/step - loss: 0.4027 - f1: 0.8903 - rec@prec: 0.9283 - val_loss: 1.1446 - val_f1: 0.7185 - val_rec@prec: 0.6046\n"
     ]
    },
    {
     "data": {
      "text/plain": [
       "<keras.callbacks.History at 0x7f7c584d9fa0>"
      ]
     },
     "execution_count": 61,
     "metadata": {},
     "output_type": "execute_result"
    }
   ],
   "source": [
    "model.fit(X_train, y_train, \n",
    "          validation_data=(X_valid, y_valid),\n",
    "          batch_size=2000,\n",
    "         epochs=20)"
   ]
  },
  {
   "cell_type": "code",
   "execution_count": 62,
   "metadata": {},
   "outputs": [
    {
     "name": "stdout",
     "output_type": "stream",
     "text": [
      "dict_keys(['loss', 'f1', 'rec@prec', 'val_loss', 'val_f1', 'val_rec@prec'])\n"
     ]
    },
    {
     "data": {
      "image/png": "[encoded data removed]",
      "text/plain": [
       "<Figure size 432x288 with 1 Axes>"
      ]
     },
     "metadata": {
      "needs_background": "light"
     },
     "output_type": "display_data"
    }
   ],
   "source": [
    "print(model.history.history.keys())\n",
    "# summarize history for accuracy\n",
    "plt.plot(model.history.history['f1'])\n",
    "plt.plot(model.history.history['val_f1'])\n",
    "plt.title('model f1')\n",
    "plt.ylabel('f1')\n",
    "plt.xlabel('epoch')\n",
    "plt.legend(['train', 'val'], loc='upper left')\n",
    "plt.show()"
   ]
  },
  {
   "cell_type": "markdown",
   "metadata": {},
   "source": [
    "NB: когда мы оборачиваем LSTM в Bidirectional, то этот слой применяется и напрямую и обратно. Кажется, что логичнее иметь один слой для прямого прогона и один для обратного.\n",
    "В Bidirectional можно также указать отдельный backward_layer, чтобы использовался новый слой."
   ]
  },
  {
   "cell_type": "code",
   "execution_count": 76,
   "metadata": {},
   "outputs": [],
   "source": [
    "inputs = tf.keras.layers.Input(shape=(MAX_LEN,))\n",
    "embeddings = tf.keras.layers.Embedding(input_dim=len(word2id), output_dim=100)(inputs, )\n",
    "\n",
    "# 1 слой на 2 прогона вручную\n",
    "# lstm = tf.keras.layers.LSTM(128, return_sequences=False)\n",
    "# lstm_forward = lstm(embeddings)\n",
    "# lstm_backward = lstm(embeddings[::-1])\n",
    "\n",
    "# 2 слоя вручную\n",
    "# lstm_forward =  tf.keras.layers.LSTM(128, return_sequences=False)(embeddings)\n",
    "# lstm_backward =  tf.keras.layers.LSTM(128, return_sequences=False, go_backwards=True)(embeddings)\n",
    "\n",
    "# hidden = tf.keras.layers.concatenate([lstm_forward, lstm_backward])\n",
    "\n",
    "# 2 слоя через Bidirectional\n",
    "hidden = tf.keras.layers.Bidirectional(\n",
    "                                       tf.keras.layers.LSTM(128, return_sequences=False),\n",
    "                        backward_layer=tf.keras.layers.LSTM(128, return_sequences=False, \n",
    "                                                            go_backwards=True))(embeddings)\n",
    "\n",
    "outputs = tf.keras.layers.Dense(len(label2id), activation='softmax')(hidden)\n",
    "\n",
    "model = tf.keras.Model(inputs=inputs, outputs=outputs)\n",
    "\n",
    "model.compile(optimizer='rmsprop',\n",
    "              loss='categorical_crossentropy',\n",
    "              metrics=[f1, tf.keras.metrics.RecallAtPrecision(0.8, name='rec@prec')])\n"
   ]
  },
  {
   "cell_type": "code",
   "execution_count": 77,
   "metadata": {},
   "outputs": [
    {
     "name": "stdout",
     "output_type": "stream",
     "text": [
      "Model: \"model_12\"\n",
      "_________________________________________________________________\n",
      " Layer (type)                Output Shape              Param #   \n",
      "=================================================================\n",
      " input_15 (InputLayer)       [(None, 200)]             0         \n",
      "                                                                 \n",
      " embedding_14 (Embedding)    (None, 200, 100)          2409300   \n",
      "                                                                 \n",
      " bidirectional_10 (Bidirecti  (None, 256)              234496    \n",
      " onal)                                                           \n",
      "                                                                 \n",
      " dense_14 (Dense)            (None, 19)                4883      \n",
      "                                                                 \n",
      "=================================================================\n",
      "Total params: 2,648,679\n",
      "Trainable params: 2,648,679\n",
      "Non-trainable params: 0\n",
      "_________________________________________________________________\n"
     ]
    }
   ],
   "source": [
    "model.summary()\n",
    "# обратите внимание на размер output в biderectional\n",
    "# он равен units * 2"
   ]
  },
  {
   "cell_type": "code",
   "execution_count": 78,
   "metadata": {
    "scrolled": true
   },
   "outputs": [
    {
     "name": "stdout",
     "output_type": "stream",
     "text": [
      "Epoch 1/20\n",
      "22/22 [==============================] - 4s 121ms/step - loss: 2.4343 - f1: 0.0000e+00 - rec@prec: 0.0000e+00 - val_loss: 2.2398 - val_f1: 0.0000e+00 - val_rec@prec: 4.5086e-04\n",
      "Epoch 2/20\n",
      "22/22 [==============================] - 2s 98ms/step - loss: 2.1074 - f1: 0.0000e+00 - rec@prec: 8.7807e-04 - val_loss: 1.9977 - val_f1: 0.0125 - val_rec@prec: 0.0018\n",
      "Epoch 3/20\n",
      "22/22 [==============================] - 2s 97ms/step - loss: 1.9147 - f1: 0.0021 - rec@prec: 6.6448e-04 - val_loss: 1.8456 - val_f1: 0.0672 - val_rec@prec: 0.0681\n",
      "Epoch 4/20\n",
      "22/22 [==============================] - 2s 97ms/step - loss: 1.8161 - f1: 0.0812 - rec@prec: 3.0851e-04 - val_loss: 1.7612 - val_f1: 0.1201 - val_rec@prec: 0.0586\n",
      "Epoch 5/20\n",
      "22/22 [==============================] - 2s 97ms/step - loss: 1.6648 - f1: 0.2516 - rec@prec: 0.0865 - val_loss: 1.6184 - val_f1: 0.3754 - val_rec@prec: 0.2042\n",
      "Epoch 6/20\n",
      "22/22 [==============================] - 2s 98ms/step - loss: 1.5044 - f1: 0.4125 - rec@prec: 0.1946 - val_loss: 1.6998 - val_f1: 0.4179 - val_rec@prec: 0.1447\n",
      "Epoch 7/20\n",
      "22/22 [==============================] - 2s 97ms/step - loss: 1.3542 - f1: 0.5101 - rec@prec: 0.3207 - val_loss: 1.6846 - val_f1: 0.3860 - val_rec@prec: 0.1492\n",
      "Epoch 8/20\n",
      "22/22 [==============================] - 2s 97ms/step - loss: 1.2541 - f1: 0.5575 - rec@prec: 0.3993 - val_loss: 1.5674 - val_f1: 0.4625 - val_rec@prec: 0.1894\n",
      "Epoch 9/20\n",
      "22/22 [==============================] - 2s 97ms/step - loss: 1.1841 - f1: 0.5861 - rec@prec: 0.4374 - val_loss: 1.3501 - val_f1: 0.5083 - val_rec@prec: 0.3043\n",
      "Epoch 10/20\n",
      "22/22 [==============================] - 2s 97ms/step - loss: 1.1504 - f1: 0.6118 - rec@prec: 0.4799 - val_loss: 1.2321 - val_f1: 0.5804 - val_rec@prec: 0.4220\n",
      "Epoch 11/20\n",
      "22/22 [==============================] - 2s 96ms/step - loss: 1.0830 - f1: 0.6302 - rec@prec: 0.5185 - val_loss: 1.2949 - val_f1: 0.5742 - val_rec@prec: 0.3535\n",
      "Epoch 12/20\n",
      "22/22 [==============================] - 2s 97ms/step - loss: 0.9984 - f1: 0.6650 - rec@prec: 0.5849 - val_loss: 1.2056 - val_f1: 0.6136 - val_rec@prec: 0.4720\n",
      "Epoch 13/20\n",
      "22/22 [==============================] - 2s 97ms/step - loss: 0.9203 - f1: 0.6982 - rec@prec: 0.6435 - val_loss: 1.3708 - val_f1: 0.5794 - val_rec@prec: 0.3593\n",
      "Epoch 14/20\n",
      "22/22 [==============================] - 2s 97ms/step - loss: 0.8698 - f1: 0.7214 - rec@prec: 0.6829 - val_loss: 1.6940 - val_f1: 0.5481 - val_rec@prec: 0.3025\n",
      "Epoch 15/20\n",
      "22/22 [==============================] - 2s 97ms/step - loss: 0.8253 - f1: 0.7334 - rec@prec: 0.7158 - val_loss: 1.2597 - val_f1: 0.6389 - val_rec@prec: 0.4657\n",
      "Epoch 16/20\n",
      "22/22 [==============================] - 2s 97ms/step - loss: 0.7629 - f1: 0.7599 - rec@prec: 0.7578 - val_loss: 1.1541 - val_f1: 0.6375 - val_rec@prec: 0.5289\n",
      "Epoch 17/20\n",
      "22/22 [==============================] - 2s 97ms/step - loss: 0.6842 - f1: 0.7894 - rec@prec: 0.8002 - val_loss: 1.2847 - val_f1: 0.6420 - val_rec@prec: 0.4851\n",
      "Epoch 18/20\n",
      "22/22 [==============================] - 2s 97ms/step - loss: 0.6495 - f1: 0.7974 - rec@prec: 0.8146 - val_loss: 1.1482 - val_f1: 0.6748 - val_rec@prec: 0.5546\n",
      "Epoch 19/20\n",
      "22/22 [==============================] - 2s 97ms/step - loss: 0.6056 - f1: 0.8176 - rec@prec: 0.8438 - val_loss: 1.3032 - val_f1: 0.6586 - val_rec@prec: 0.4477\n",
      "Epoch 20/20\n",
      "22/22 [==============================] - 2s 97ms/step - loss: 0.6077 - f1: 0.8195 - rec@prec: 0.8447 - val_loss: 1.2281 - val_f1: 0.6867 - val_rec@prec: 0.5487\n"
     ]
    },
    {
     "data": {
      "text/plain": [
       "<keras.callbacks.History at 0x7f7ba99874f0>"
      ]
     },
     "execution_count": 78,
     "metadata": {},
     "output_type": "execute_result"
    }
   ],
   "source": [
    "model.fit(X_train, y_train, \n",
    "          validation_data=(X_valid, y_valid),\n",
    "          batch_size=2000,\n",
    "         epochs=20)"
   ]
  },
  {
   "cell_type": "code",
   "execution_count": 80,
   "metadata": {},
   "outputs": [
    {
     "name": "stdout",
     "output_type": "stream",
     "text": [
      "dict_keys(['loss', 'f1', 'rec@prec', 'val_loss', 'val_f1', 'val_rec@prec'])\n"
     ]
    },
    {
     "data": {
      "image/png": "[encoded data removed]",
      "text/plain": [
       "<Figure size 432x288 with 1 Axes>"
      ]
     },
     "metadata": {
      "needs_background": "light"
     },
     "output_type": "display_data"
    }
   ],
   "source": [
    "print(model.history.history.keys())\n",
    "# summarize history for accuracy\n",
    "plt.plot(model.history.history['f1'])\n",
    "plt.plot(model.history.history['val_f1'])\n",
    "plt.title('model f1')\n",
    "plt.ylabel('f1')\n",
    "plt.xlabel('epoch')\n",
    "plt.legend(['train', 'val'], loc='upper left')\n",
    "plt.show()"
   ]
  },
  {
   "cell_type": "markdown",
   "metadata": {},
   "source": [
    "# Sequence labelling"
   ]
  },
  {
   "cell_type": "markdown",
   "metadata": {},
   "source": [
    "На выходе из рекурректной сети получается по вектору на каждый элемент последовательности. Мы можем использовать только последний, если нам нужно просто классифицировать весь текст (на последнем состоянии по идее должна была накопиться информация о всей последовательности).\n",
    "\n",
    "Кроме этого, мы можем классифицировать каждый элемент последовательности. Это называется sequence labelling (разметка последовательности). Под этот паттерн попадает предсказание части речи, определение именованных сущностей, определение опечаток и другие задачи, где длина обоих последовательностей совпадает.\n",
    "\n",
    "Давайте попробуем выделять именованные сущности."
   ]
  },
  {
   "cell_type": "markdown",
   "metadata": {},
   "source": [
    "Данные возьмем из бибиотеки datasets (часть huggingface)"
   ]
  },
  {
   "cell_type": "code",
   "execution_count": 83,
   "metadata": {
    "scrolled": true
   },
   "outputs": [],
   "source": [
    "!pip install datasets"
   ]
  },
  {
   "cell_type": "code",
   "execution_count": 82,
   "metadata": {},
   "outputs": [],
   "source": [
    "from datasets import load_dataset"
   ]
  },
  {
   "cell_type": "markdown",
   "metadata": {},
   "source": [
    "В этой библиотеке несколько датасетов для именованных сущностей. Мы возьмем датасет, собранный по википедии. Он мультиязычный, но для семинара мы возьмем только русскую часть."
   ]
  },
  {
   "cell_type": "code",
   "execution_count": 84,
   "metadata": {},
   "outputs": [
    {
     "data": {
      "application/vnd.jupyter.widget-view+json": {
       "model_id": "a2f19792fc03447ab4777f9b090e7ef3",
       "version_major": 2,
       "version_minor": 0
      },
      "text/plain": [
       "Downloading:   0%|          | 0.00/3.94k [00:00<?, ?B/s]"
      ]
     },
     "metadata": {},
     "output_type": "display_data"
    },
    {
     "data": {
      "application/vnd.jupyter.widget-view+json": {
       "model_id": "6a8b449793c648588016e35cf8e908eb",
       "version_major": 2,
       "version_minor": 0
      },
      "text/plain": [
       "Downloading:   0%|          | 0.00/12.6k [00:00<?, ?B/s]"
      ]
     },
     "metadata": {},
     "output_type": "display_data"
    },
    {
     "name": "stdout",
     "output_type": "stream",
     "text": [
      "Downloading and preparing dataset wikiann/ru (download: 223.17 MiB, generated: 9.87 MiB, post-processed: Unknown size, total: 233.04 MiB) to /root/.cache/huggingface/datasets/wikiann/ru/1.1.0/4bfd4fe4468ab78bb6e096968f61fab7a888f44f9d3371c2f3fea7e74a5a354e...\n"
     ]
    },
    {
     "data": {
      "application/vnd.jupyter.widget-view+json": {
       "model_id": "9850f4e5b39e40a08597717351e1859c",
       "version_major": 2,
       "version_minor": 0
      },
      "text/plain": [
       "Downloading:   0%|          | 0.00/234M [00:00<?, ?B/s]"
      ]
     },
     "metadata": {},
     "output_type": "display_data"
    },
    {
     "data": {
      "application/vnd.jupyter.widget-view+json": {
       "model_id": "",
       "version_major": 2,
       "version_minor": 0
      },
      "text/plain": [
       "0 examples [00:00, ? examples/s]"
      ]
     },
     "metadata": {},
     "output_type": "display_data"
    },
    {
     "data": {
      "application/vnd.jupyter.widget-view+json": {
       "model_id": "",
       "version_major": 2,
       "version_minor": 0
      },
      "text/plain": [
       "0 examples [00:00, ? examples/s]"
      ]
     },
     "metadata": {},
     "output_type": "display_data"
    },
    {
     "data": {
      "application/vnd.jupyter.widget-view+json": {
       "model_id": "",
       "version_major": 2,
       "version_minor": 0
      },
      "text/plain": [
       "0 examples [00:00, ? examples/s]"
      ]
     },
     "metadata": {},
     "output_type": "display_data"
    },
    {
     "name": "stdout",
     "output_type": "stream",
     "text": [
      "Dataset wikiann downloaded and prepared to /root/.cache/huggingface/datasets/wikiann/ru/1.1.0/4bfd4fe4468ab78bb6e096968f61fab7a888f44f9d3371c2f3fea7e74a5a354e. Subsequent calls will reuse this data.\n"
     ]
    },
    {
     "data": {
      "application/vnd.jupyter.widget-view+json": {
       "model_id": "d4502bebbde24a90ae9aafc4c918a609",
       "version_major": 2,
       "version_minor": 0
      },
      "text/plain": [
       "  0%|          | 0/3 [00:00<?, ?it/s]"
      ]
     },
     "metadata": {},
     "output_type": "display_data"
    }
   ],
   "source": [
    "dataset = load_dataset(\"wikiann\", 'ru')"
   ]
  },
  {
   "cell_type": "markdown",
   "metadata": {},
   "source": [
    "Датасет уже заранее разбит на трейн, валидацию и тест."
   ]
  },
  {
   "cell_type": "code",
   "execution_count": 85,
   "metadata": {},
   "outputs": [
    {
     "data": {
      "text/plain": [
       "DatasetDict({\n",
       "    validation: Dataset({\n",
       "        features: ['tokens', 'ner_tags', 'langs', 'spans'],\n",
       "        num_rows: 10000\n",
       "    })\n",
       "    test: Dataset({\n",
       "        features: ['tokens', 'ner_tags', 'langs', 'spans'],\n",
       "        num_rows: 10000\n",
       "    })\n",
       "    train: Dataset({\n",
       "        features: ['tokens', 'ner_tags', 'langs', 'spans'],\n",
       "        num_rows: 20000\n",
       "    })\n",
       "})"
      ]
     },
     "execution_count": 85,
     "metadata": {},
     "output_type": "execute_result"
    }
   ],
   "source": [
    "dataset"
   ]
  },
  {
   "cell_type": "markdown",
   "metadata": {},
   "source": [
    "Пример данных"
   ]
  },
  {
   "cell_type": "code",
   "execution_count": 86,
   "metadata": {},
   "outputs": [
    {
     "data": {
      "text/plain": [
       "(['Илизаров', ',', 'Гавриил', 'Абрамович'], [1, 2, 2, 2])"
      ]
     },
     "execution_count": 86,
     "metadata": {},
     "output_type": "execute_result"
    }
   ],
   "source": [
    "dataset['train']['tokens'][0], dataset['train']['ner_tags'][0]"
   ]
  },
  {
   "cell_type": "markdown",
   "metadata": {},
   "source": [
    "Индексы в разметке соответствуют вот таким классам:"
   ]
  },
  {
   "cell_type": "code",
   "execution_count": 88,
   "metadata": {},
   "outputs": [
    {
     "data": {
      "text/plain": [
       "['O', 'B-PER', 'I-PER', 'B-ORG', 'I-ORG', 'B-LOC', 'I-LOC']"
      ]
     },
     "execution_count": 88,
     "metadata": {},
     "output_type": "execute_result"
    }
   ],
   "source": [
    "['O', 'B-PER', 'I-PER', 'B-ORG', 'I-ORG',  'B-LOC', 'I-LOC']"
   ]
  },
  {
   "cell_type": "markdown",
   "metadata": {},
   "source": [
    "Что они значат?"
   ]
  },
  {
   "cell_type": "code",
   "execution_count": 89,
   "metadata": {},
   "outputs": [
    {
     "data": {
      "text/html": [
       "<img src=\"https://editor.analyticsvidhya.com/uploads/19617Intro%20image.jpg\" width=\"700\" height=\"600\"/>"
      ],
      "text/plain": [
       "<IPython.core.display.Image object>"
      ]
     },
     "execution_count": 89,
     "metadata": {},
     "output_type": "execute_result"
    }
   ],
   "source": [
    "Image(url=\"https://editor.analyticsvidhya.com/uploads/19617Intro%20image.jpg\",\n",
    "     width=700, height=600)"
   ]
  },
  {
   "cell_type": "markdown",
   "metadata": {},
   "source": [
    "**PER, ORG, LOC** - это типы именованных сущностей, Person, Organization и Location. Это стандартные типы сущностей, которые чаще всего приходится выделять. Оценочные датасеты обычно размечены этими типами. Другие популярные сущности - номера телефонов, числа, имейлы, дата, время, но их обычно определяют правилами (регулярками например).\n",
    "\n",
    "**I, B** - эта часть тэга показывает в какой части именованной сущности находится токен. **B - beggining** (начало), **I - inside** (внутри, т.е. после начала).\n",
    "\n",
    "**O** - это отрицательный класс (outside или other), т.е. несущность.\n",
    "\n",
    "Такую разметку назвают IOB, она помогает точнее определять сущности и различать рядом стоящие сущности одного типа. Есть и другие типы (например, BILOU - L означает last, последний токен в сущности, а U - unit, сущность из 1 токена). "
   ]
  },
  {
   "cell_type": "markdown",
   "metadata": {},
   "source": [
    "Именованной сущностью в принципе можно считать любую последовательность токенов, которую нужно выделить из текста. В биоинформатике, например, сущностями считаются белки, гены, препараты, заболевания, а при разборе научных статей можно выделять цитаты, ключевые метрики, методы (используемые алгоритмы и модели). \n",
    "\n",
    "Для того, чтобы извлекать специфичные типы сущностей вам скорее всего придется либо а) самому размечать данные, либо б) создавать словари, правила и грамматики. А скорее всего и то, и другое. Сущности, размеченные моделью обычно еще нужно привести к стандартному виду и делается это в большинстве случаев маппингом на словарь стандартных форм (например, Вышка, ВШЭ, вше, НИУВШЭ, Высшая школа экономики -> НИУ ВШЭ). Маппинг можно делать с помощью простого словаря или с помощью какой-нибудь функции близости (например, расстояния редактирования).\n",
    "\n",
    "С помощью правил также можно размечать данные и обучать на этом более сложные модели (в надежде, что сложные модели запомнят разметку и дополнительно научатся обобщать). Такой подход называется weak labelling/weak supervision. Для этого есть такие библиотеки: [Snorkel](https://www.snorkel.org/) , [Rubrix](https://github.com/recognai/rubrix)\n",
    "\n",
    "Для создания грамматик на русском языке можно использовать [Tomita Parser](https://yandex.ru/dev/tomita/), [Yargy](https://github.com/natasha/yargy). Томита быстрее, но сложнее в использовании (внутри там майстем). Yargy написан на питоне и его проще освоить, внутри там пайморфи. В тетрадке NER_rule_based.ipynb (лежит в этой же папке) есть пример написания грамматик на Yargy. "
   ]
  },
  {
   "cell_type": "markdown",
   "metadata": {},
   "source": [
    "Давайте посмотрим, как обучать модели, когда разметка уже есть"
   ]
  },
  {
   "cell_type": "code",
   "execution_count": 90,
   "metadata": {},
   "outputs": [],
   "source": [
    "# словарь\n",
    "vocab = Counter()\n",
    "\n",
    "for sent in dataset['train']['tokens']:\n",
    "    vocab.update([x.lower() for x in sent])"
   ]
  },
  {
   "cell_type": "code",
   "execution_count": 91,
   "metadata": {
    "scrolled": true
   },
   "outputs": [
    {
     "data": {
      "text/plain": [
       "36015"
      ]
     },
     "execution_count": 91,
     "metadata": {},
     "output_type": "execute_result"
    }
   ],
   "source": [
    "# тут словарь не очень большой и тут нужно предсказывать тэги для всех слов\n",
    "# поэтому не будем фильтровать словарь\n",
    "len(vocab)"
   ]
  },
  {
   "cell_type": "code",
   "execution_count": 92,
   "metadata": {},
   "outputs": [],
   "source": [
    "# индексируем слова\n",
    "word2id = {'PAD':0, 'UNK':1}\n",
    "\n",
    "for word in vocab:\n",
    "    word2id[word] = len(word2id)"
   ]
  },
  {
   "cell_type": "code",
   "execution_count": 93,
   "metadata": {},
   "outputs": [],
   "source": [
    "id2word = {i:word for word, i in word2id.items()}"
   ]
  },
  {
   "cell_type": "code",
   "execution_count": 94,
   "metadata": {},
   "outputs": [],
   "source": [
    "# переводим тексты в последовательности индексов\n",
    "X = []\n",
    "\n",
    "for sent in dataset['train']['tokens']:\n",
    "    tokens = [w.lower() for w in sent]\n",
    "    ids = [word2id.get(token, 1) for token in tokens]\n",
    "    X.append(ids)"
   ]
  },
  {
   "cell_type": "code",
   "execution_count": 95,
   "metadata": {},
   "outputs": [],
   "source": [
    "# переводим тексты в последовательности индексов\n",
    "X_test = []\n",
    "\n",
    "for sent in dataset['test']['tokens']:\n",
    "    tokens = [w.lower() for w in sent]\n",
    "    ids = [word2id.get(token, 1) for token in tokens]\n",
    "    X_test.append(ids)"
   ]
  },
  {
   "cell_type": "code",
   "execution_count": 96,
   "metadata": {},
   "outputs": [],
   "source": [
    "MAX_LEN = max(len(x) for x in X)\n",
    "\n",
    "# паддинг\n",
    "X = tf.keras.preprocessing.sequence.pad_sequences(X, maxlen=MAX_LEN, padding='post')\n",
    "X_test = tf.keras.preprocessing.sequence.pad_sequences(X_test, maxlen=MAX_LEN, padding='post')"
   ]
  },
  {
   "cell_type": "markdown",
   "metadata": {},
   "source": [
    "Теги уже переведены в индексы, но обратный маппинг мы тоже сделаем, чтобы дальше удобнее было проверять работу модели. \n",
    "Длина последовательностей тегов должна совпадать с длиной последовательностей токенов, поэтому тут тоже нужно сделать паддинг, но в этом случае мы не можем паддить нулями, т.к. ноль у нас уже забронирован тэгом O. Добавим дополнительный тэг пад и будем использовать его индекс при паддинге (value=7)"
   ]
  },
  {
   "cell_type": "code",
   "execution_count": 97,
   "metadata": {},
   "outputs": [],
   "source": [
    "id2labels = {0:'O', 1:'B-PER', 2:'I-PER', 3:'B-ORG', 4:'I-ORG', 5: 'B-LOC', 6:'I-LOC', 7:'PAD'}\n",
    "label2id = {v:k for k,v in id2labels.items()} "
   ]
  },
  {
   "cell_type": "code",
   "execution_count": 98,
   "metadata": {},
   "outputs": [],
   "source": [
    "y = tf.keras.preprocessing.sequence.pad_sequences(dataset['train']['ner_tags'], value=7,\n",
    "                                                  maxlen=MAX_LEN,  padding='post')\n",
    "y_test = tf.keras.preprocessing.sequence.pad_sequences(dataset['test']['ner_tags'], value=7,\n",
    "                                                       maxlen=MAX_LEN,  padding='post')"
   ]
  },
  {
   "cell_type": "markdown",
   "metadata": {},
   "source": [
    "Схема задачи, чтобы было понятнее, что мы предсказываем"
   ]
  },
  {
   "cell_type": "code",
   "execution_count": 99,
   "metadata": {},
   "outputs": [
    {
     "data": {
      "text/html": [
       "<img src=\"https://i.ibb.co/YkbN9Vg/lstm-clf.png\" width=\"500\" height=\"500\"/>"
      ],
      "text/plain": [
       "<IPython.core.display.Image object>"
      ]
     },
     "execution_count": 99,
     "metadata": {},
     "output_type": "execute_result"
    }
   ],
   "source": [
    "Image(url=\"https://i.ibb.co/YkbN9Vg/lstm-clf.png\",\n",
    "     width=500, height=500)\n"
   ]
  },
  {
   "cell_type": "code",
   "execution_count": 100,
   "metadata": {},
   "outputs": [
    {
     "data": {
      "text/plain": [
       "((20000, 54), (10000, 54))"
      ]
     },
     "execution_count": 100,
     "metadata": {},
     "output_type": "execute_result"
    }
   ],
   "source": [
    "X.shape, X_test.shape"
   ]
  },
  {
   "cell_type": "code",
   "execution_count": 101,
   "metadata": {},
   "outputs": [
    {
     "data": {
      "text/plain": [
       "((20000, 54), (10000, 54))"
      ]
     },
     "execution_count": 101,
     "metadata": {},
     "output_type": "execute_result"
    }
   ],
   "source": [
    "y.shape, y_test.shape"
   ]
  },
  {
   "cell_type": "code",
   "execution_count": 102,
   "metadata": {},
   "outputs": [],
   "source": [
    "inputs = tf.keras.layers.Input(shape=(MAX_LEN,))\n",
    "embeddings = tf.keras.layers.Embedding(input_dim=len(word2id), output_dim=100)(inputs)\n",
    "\n",
    "lstm_1 = tf.keras.layers.Bidirectional(tf.keras.layers.LSTM(128, return_sequences=True))(embeddings)\n",
    "\n",
    "outputs = tf.keras.layers.Dense(len(label2id), activation='softmax')(lstm_1)\n",
    "\n",
    "model = tf.keras.Model(inputs=inputs, outputs=outputs)\n",
    "model.compile(optimizer='adam',\n",
    "              loss='sparse_categorical_crossentropy', \n",
    "             metrics=['accuracy'])\n"
   ]
  },
  {
   "cell_type": "code",
   "execution_count": 103,
   "metadata": {
    "scrolled": true
   },
   "outputs": [
    {
     "name": "stdout",
     "output_type": "stream",
     "text": [
      "Epoch 1/5\n",
      "157/157 [==============================] - 4s 15ms/step - loss: 0.3182 - accuracy: 0.9225 - val_loss: 0.1692 - val_accuracy: 0.9502\n",
      "Epoch 2/5\n",
      "157/157 [==============================] - 2s 12ms/step - loss: 0.1299 - accuracy: 0.9587 - val_loss: 0.0979 - val_accuracy: 0.9695\n",
      "Epoch 3/5\n",
      "157/157 [==============================] - 2s 12ms/step - loss: 0.0660 - accuracy: 0.9800 - val_loss: 0.0634 - val_accuracy: 0.9808\n",
      "Epoch 4/5\n",
      "157/157 [==============================] - 2s 12ms/step - loss: 0.0322 - accuracy: 0.9911 - val_loss: 0.0545 - val_accuracy: 0.9833\n",
      "Epoch 5/5\n",
      "157/157 [==============================] - 2s 12ms/step - loss: 0.0168 - accuracy: 0.9958 - val_loss: 0.0540 - val_accuracy: 0.9840\n"
     ]
    },
    {
     "data": {
      "text/plain": [
       "<keras.callbacks.History at 0x7f7ba98a8610>"
      ]
     },
     "execution_count": 103,
     "metadata": {},
     "output_type": "execute_result"
    }
   ],
   "source": [
    "model.fit(X, y, \n",
    "          validation_data=(X_test, y_test),\n",
    "          batch_size=128,\n",
    "         epochs=5)"
   ]
  },
  {
   "cell_type": "code",
   "execution_count": 104,
   "metadata": {},
   "outputs": [
    {
     "name": "stdout",
     "output_type": "stream",
     "text": [
      "dict_keys(['loss', 'accuracy', 'val_loss', 'val_accuracy'])\n"
     ]
    },
    {
     "data": {
      "image/png": "[encoded data removed]",
      "text/plain": [
       "<Figure size 432x288 with 1 Axes>"
      ]
     },
     "metadata": {
      "needs_background": "light"
     },
     "output_type": "display_data"
    }
   ],
   "source": [
    "print(model.history.history.keys())\n",
    "plt.plot(model.history.history['accuracy'])\n",
    "plt.plot(model.history.history['val_accuracy'])\n",
    "plt.title('model acc')\n",
    "plt.ylabel('accuracy')\n",
    "plt.xlabel('epoch')\n",
    "plt.legend(['train', 'val'], loc='upper left')\n",
    "plt.show()"
   ]
  },
  {
   "cell_type": "markdown",
   "metadata": {},
   "source": [
    "Оценивать предсказания последовательностей нужно отдельно. Лучше конечно еще оценивать правильность всей последовательности, но пока сделаем только поэлементную оценку."
   ]
  },
  {
   "cell_type": "code",
   "execution_count": 105,
   "metadata": {},
   "outputs": [],
   "source": [
    "from sklearn.metrics import classification_report"
   ]
  },
  {
   "cell_type": "code",
   "execution_count": 106,
   "metadata": {},
   "outputs": [],
   "source": [
    "pred = model.predict(X_test).argmax(2)"
   ]
  },
  {
   "cell_type": "code",
   "execution_count": 107,
   "metadata": {},
   "outputs": [
    {
     "data": {
      "text/plain": [
       "array([[0, 0, 3, ..., 7, 7, 7],\n",
       "       [0, 3, 4, ..., 7, 7, 7],\n",
       "       [0, 0, 0, ..., 7, 7, 7],\n",
       "       ...,\n",
       "       [1, 2, 0, ..., 7, 7, 7],\n",
       "       [3, 0, 4, ..., 7, 7, 7],\n",
       "       [0, 0, 0, ..., 7, 7, 7]])"
      ]
     },
     "execution_count": 107,
     "metadata": {},
     "output_type": "execute_result"
    }
   ],
   "source": [
    "pred"
   ]
  },
  {
   "cell_type": "code",
   "execution_count": 108,
   "metadata": {},
   "outputs": [
    {
     "name": "stdout",
     "output_type": "stream",
     "text": [
      "              precision    recall  f1-score   support\n",
      "\n",
      "           O       0.91      0.97      0.94     40480\n",
      "       B-PER       0.81      0.85      0.83      3542\n",
      "       I-PER       0.86      0.88      0.87      7544\n",
      "       B-ORG       0.72      0.67      0.69      4074\n",
      "       I-ORG       0.85      0.73      0.79      8008\n",
      "       B-LOC       0.82      0.65      0.72      4560\n",
      "       I-LOC       0.88      0.69      0.77      3060\n",
      "         PAD       1.00      1.00      1.00    468732\n",
      "\n",
      "    accuracy                           0.98    540000\n",
      "   macro avg       0.86      0.81      0.83    540000\n",
      "weighted avg       0.98      0.98      0.98    540000\n",
      "\n"
     ]
    }
   ],
   "source": [
    "print(classification_report(y_test.reshape(-1), pred.reshape(-1), labels=list(id2labels.keys()),\n",
    "                                                                     target_names=list(id2labels.values()),\n",
    "                                                                     zero_division=0))"
   ]
  },
  {
   "cell_type": "markdown",
   "metadata": {},
   "source": [
    "# Предсказание/Inference"
   ]
  },
  {
   "cell_type": "markdown",
   "metadata": {},
   "source": [
    "После оценки часто хочется посмотреть как будет работать модель на каких-то отдельных примерах. Для этого нужно воспрозвести весь пайплайн и прогонять через него нужный текст."
   ]
  },
  {
   "cell_type": "code",
   "execution_count": 109,
   "metadata": {},
   "outputs": [],
   "source": [
    "import re\n",
    "\n",
    "def tokenize(text, word2id):\n",
    "    # токенизирует и переводит в индексы\n",
    "    tokens = re.findall('\\w+|[^\\w\\s]+', text)\n",
    "    ids = [word2id.get(token.lower(), 1) for token in tokens]\n",
    "    return tokens, ids\n",
    "\n",
    "def pred2tags(pred, id2label, length):\n",
    "    # декодирует индексы в части речи\n",
    "    # length нужно чтобы откидывать паддинги или некорректные предсказания\n",
    "    pred = pred.argmax(2)[0, :length]\n",
    "    labels = [id2label[l] for l in pred]\n",
    "    return labels\n",
    "\n",
    "def label_seq(text, word2id, id2label, max_len, model):\n",
    "    tokens, ids = tokenize(text, word2id)\n",
    "    pred = model.predict(tf.keras.preprocessing.sequence.pad_sequences([ids], \n",
    "                                                                       maxlen=max_len, \n",
    "                                                                       padding='post'))\n",
    "    labels = pred2tags(pred, id2label, len(ids))\n",
    "    \n",
    "    return list(zip(tokens, labels))"
   ]
  },
  {
   "cell_type": "code",
   "execution_count": 110,
   "metadata": {},
   "outputs": [
    {
     "data": {
      "text/plain": [
       "[('Алексей', 'B-PER'),\n",
       " ('сказал', 'I-PER'),\n",
       " ('Светлане', 'I-PER'),\n",
       " (',', 'O'),\n",
       " ('чтобы', 'O'),\n",
       " ('она', 'O'),\n",
       " ('собиралась', 'O'),\n",
       " ('на', 'O'),\n",
       " ('поезд', 'O'),\n",
       " ('в', 'O'),\n",
       " ('Москву', 'B-LOC'),\n",
       " ('.', 'O')]"
      ]
     },
     "execution_count": 110,
     "metadata": {},
     "output_type": "execute_result"
    }
   ],
   "source": [
    "label_seq('Алексей сказал Светлане, чтобы она собиралась на поезд в Москву.', word2id, id2labels, MAX_LEN, model)"
   ]
  },
  {
   "cell_type": "code",
   "execution_count": 112,
   "metadata": {},
   "outputs": [
    {
     "data": {
      "text/plain": [
       "[('Я', 'O'),\n",
       " ('поступил', 'O'),\n",
       " ('в', 'O'),\n",
       " ('ВШЭ', 'B-ORG'),\n",
       " ('в', 'O'),\n",
       " ('Питере', 'I-PER')]"
      ]
     },
     "execution_count": 112,
     "metadata": {},
     "output_type": "execute_result"
    }
   ],
   "source": [
    "label_seq('Я поступил в ВШЭ в Питере', word2id, id2labels, MAX_LEN, model)"
   ]
  },
  {
   "cell_type": "code",
   "execution_count": 114,
   "metadata": {},
   "outputs": [
    {
     "data": {
      "text/plain": [
       "[('Виктор', 'B-PER'),\n",
       " (',', 'I-PER'),\n",
       " ('Семен', 'I-PER'),\n",
       " (',', 'O'),\n",
       " ('Петр', 'B-PER'),\n",
       " (',', 'O'),\n",
       " ('Арагорн', 'O')]"
      ]
     },
     "execution_count": 114,
     "metadata": {},
     "output_type": "execute_result"
    }
   ],
   "source": [
    "label_seq('Виктор, Семен, Петр, Арагорн', word2id, id2labels, MAX_LEN, model)"
   ]
  },
  {
   "cell_type": "code",
   "execution_count": null,
   "metadata": {},
   "outputs": [],
   "source": []
  }
 ],
 "metadata": {
  "kernelspec": {
   "display_name": "Python 3 (ipykernel)",
   "language": "python",
   "name": "python3"
  },
  "language_info": {
   "codemirror_mode": {
    "name": "ipython",
    "version": 3
   },
   "file_extension": ".py",
   "mimetype": "text/x-python",
   "name": "python",
   "nbconvert_exporter": "python",
   "pygments_lexer": "ipython3",
   "version": "3.8.10"
  }
 },
 "nbformat": 4,
 "nbformat_minor": 4
}
