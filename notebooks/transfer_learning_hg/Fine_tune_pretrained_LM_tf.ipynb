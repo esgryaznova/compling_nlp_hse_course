{
 "cells": [
  {
   "cell_type": "code",
   "execution_count": 1,
   "metadata": {},
   "outputs": [
    {
     "name": "stdout",
     "output_type": "stream",
     "text": [
      "Reading package lists... Done\n",
      "Building dependency tree       \n",
      "Reading state information... Done\n",
      "unzip is already the newest version (6.0-21ubuntu1.1).\n",
      "0 upgraded, 0 newly installed, 0 to remove and 11 not upgraded.\n"
     ]
    }
   ],
   "source": [
    "!apt-get install unzip"
   ]
  },
  {
   "cell_type": "code",
   "execution_count": 2,
   "metadata": {
    "scrolled": true
   },
   "outputs": [
    {
     "name": "stdout",
     "output_type": "stream",
     "text": [
      "Archive:  data.zip\n",
      "  inflating: lenta_sample.csv        \n",
      "  inflating: __MACOSX/._lenta_sample.csv  \n"
     ]
    }
   ],
   "source": [
    "!unzip data.zip"
   ]
  },
  {
   "cell_type": "code",
   "execution_count": 42,
   "metadata": {
    "scrolled": true
   },
   "outputs": [
    {
     "name": "stdout",
     "output_type": "stream",
     "text": [
      "Requirement already satisfied: transformers in /usr/local/lib/python3.6/dist-packages (4.6.1)\n",
      "Requirement already satisfied: sklearn in /usr/local/lib/python3.6/dist-packages (0.0)\n",
      "Requirement already satisfied: pandas in /usr/local/lib/python3.6/dist-packages (1.1.5)\n",
      "Collecting matplotlib\n",
      "  Downloading matplotlib-3.3.4-cp36-cp36m-manylinux1_x86_64.whl (11.5 MB)\n",
      "\u001b[K     |████████████████████████████████| 11.5 MB 13.1 MB/s eta 0:00:01\n",
      "\u001b[?25hRequirement already satisfied: huggingface-hub==0.0.8 in /usr/local/lib/python3.6/dist-packages (from transformers) (0.0.8)\n",
      "Requirement already satisfied: sacremoses in /usr/local/lib/python3.6/dist-packages (from transformers) (0.0.45)\n",
      "Requirement already satisfied: filelock in /usr/local/lib/python3.6/dist-packages (from transformers) (3.0.12)\n",
      "Requirement already satisfied: regex!=2019.12.17 in /usr/local/lib/python3.6/dist-packages (from transformers) (2021.4.4)\n",
      "Requirement already satisfied: requests in /usr/local/lib/python3.6/dist-packages (from transformers) (2.25.1)\n",
      "Requirement already satisfied: dataclasses; python_version < \"3.7\" in /usr/local/lib/python3.6/dist-packages (from transformers) (0.8)\n",
      "Requirement already satisfied: packaging in /usr/local/lib/python3.6/dist-packages (from transformers) (20.9)\n",
      "Requirement already satisfied: tokenizers<0.11,>=0.10.1 in /usr/local/lib/python3.6/dist-packages (from transformers) (0.10.3)\n",
      "Requirement already satisfied: numpy>=1.17 in /usr/local/lib/python3.6/dist-packages (from transformers) (1.19.5)\n",
      "Requirement already satisfied: tqdm>=4.27 in /usr/local/lib/python3.6/dist-packages (from transformers) (4.61.0)\n",
      "Requirement already satisfied: importlib-metadata; python_version < \"3.8\" in /usr/local/lib/python3.6/dist-packages (from transformers) (4.0.1)\n",
      "Requirement already satisfied: scikit-learn in /usr/local/lib/python3.6/dist-packages (from sklearn) (0.24.2)\n",
      "Requirement already satisfied: pytz>=2017.2 in /usr/local/lib/python3.6/dist-packages (from pandas) (2021.1)\n",
      "Requirement already satisfied: python-dateutil>=2.7.3 in /usr/local/lib/python3.6/dist-packages (from pandas) (2.8.1)\n",
      "Requirement already satisfied: pyparsing!=2.0.4,!=2.1.2,!=2.1.6,>=2.0.3 in /usr/local/lib/python3.6/dist-packages (from matplotlib) (2.4.7)\n",
      "Collecting pillow>=6.2.0\n",
      "  Downloading Pillow-8.2.0-cp36-cp36m-manylinux1_x86_64.whl (3.0 MB)\n",
      "\u001b[K     |████████████████████████████████| 3.0 MB 10.8 MB/s eta 0:00:01\n",
      "\u001b[?25hCollecting cycler>=0.10\n",
      "  Downloading cycler-0.10.0-py2.py3-none-any.whl (6.5 kB)\n",
      "Collecting kiwisolver>=1.0.1\n",
      "  Downloading kiwisolver-1.3.1-cp36-cp36m-manylinux1_x86_64.whl (1.1 MB)\n",
      "\u001b[K     |████████████████████████████████| 1.1 MB 15.4 MB/s eta 0:00:01\n",
      "\u001b[?25hRequirement already satisfied: joblib in /usr/local/lib/python3.6/dist-packages (from sacremoses->transformers) (1.0.1)\n",
      "Requirement already satisfied: six in /usr/local/lib/python3.6/dist-packages (from sacremoses->transformers) (1.15.0)\n",
      "Requirement already satisfied: click in /usr/local/lib/python3.6/dist-packages (from sacremoses->transformers) (8.0.1)\n",
      "Requirement already satisfied: chardet<5,>=3.0.2 in /usr/local/lib/python3.6/dist-packages (from requests->transformers) (4.0.0)\n",
      "Requirement already satisfied: idna<3,>=2.5 in /usr/lib/python3/dist-packages (from requests->transformers) (2.6)\n",
      "Requirement already satisfied: urllib3<1.27,>=1.21.1 in /usr/local/lib/python3.6/dist-packages (from requests->transformers) (1.26.4)\n",
      "Requirement already satisfied: certifi>=2017.4.17 in /usr/local/lib/python3.6/dist-packages (from requests->transformers) (2020.12.5)\n",
      "Requirement already satisfied: zipp>=0.5 in /usr/local/lib/python3.6/dist-packages (from importlib-metadata; python_version < \"3.8\"->transformers) (3.4.1)\n",
      "Requirement already satisfied: typing-extensions>=3.6.4; python_version < \"3.8\" in /usr/local/lib/python3.6/dist-packages (from importlib-metadata; python_version < \"3.8\"->transformers) (3.7.4.3)\n",
      "Requirement already satisfied: scipy>=0.19.1 in /usr/local/lib/python3.6/dist-packages (from scikit-learn->sklearn) (1.5.4)\n",
      "Requirement already satisfied: threadpoolctl>=2.0.0 in /usr/local/lib/python3.6/dist-packages (from scikit-learn->sklearn) (2.1.0)\n",
      "Installing collected packages: pillow, cycler, kiwisolver, matplotlib\n",
      "Successfully installed cycler-0.10.0 kiwisolver-1.3.1 matplotlib-3.3.4 pillow-8.2.0\n",
      "\u001b[33mWARNING: You are using pip version 20.2.4; however, version 21.1.2 is available.\n",
      "You should consider upgrading via the '/usr/bin/python3 -m pip install --upgrade pip' command.\u001b[0m\n"
     ]
    }
   ],
   "source": [
    "!pip install transformers sklearn pandas matplotlib"
   ]
  },
  {
   "cell_type": "code",
   "execution_count": 43,
   "metadata": {
    "scrolled": true
   },
   "outputs": [],
   "source": [
    "# стандартные библиотеки\n",
    "import os, re\n",
    "import numpy as np\n",
    "from time import time\n",
    "from sklearn.model_selection import train_test_split\n",
    "import pandas as pd\n",
    "from collections import Counter\n",
    "from string import punctuation\n",
    "import matplotlib.pyplot as plt\n",
    "%matplotlib inline\n",
    "\n",
    "\n",
    "# tf и huggingface \n",
    "import tensorflow as tf\n",
    "from transformers import TFAutoModel\n",
    "from transformers import AutoTokenizer\n"
   ]
  },
  {
   "cell_type": "markdown",
   "metadata": {},
   "source": [
    "Возьмем данные lenta.ru, но не целиком. Fine-tuning больших моделей лучше всего подходит, когда данных совсем мало и стандартным алгоритмам просто не хватает информации, чтобы обучиться. Поэтому возьмем только небольшой процент всех данных."
   ]
  },
  {
   "cell_type": "code",
   "execution_count": 2,
   "metadata": {},
   "outputs": [],
   "source": [
    "data = pd.read_csv('lenta_sample.csv')\n",
    "data.dropna(subset=['topic', 'text'], inplace=True)"
   ]
  },
  {
   "cell_type": "code",
   "execution_count": 3,
   "metadata": {},
   "outputs": [],
   "source": [
    "data_frac = pd.concat([data[data.topic=='Россия'].sample(frac=0.001),\n",
    "                      data[data.topic=='Мир'].sample(frac=0.001),\n",
    "                      data[data.topic=='Экономика'].sample(frac=0.002),\n",
    "                      data[data.topic=='Спорт'].sample(frac=0.003),\n",
    "                      data[data.topic=='Наука и техника'].sample(frac=0.005),\n",
    "                      data[data.topic=='Бывший СССР'].sample(frac=0.005),\n",
    "                      data[data.topic=='Культура'].sample(frac=0.005),\n",
    "                      data[data.topic=='Интернет и СМИ'].sample(frac=0.005),\n",
    "                      data[data.topic=='Из жизни'].sample(frac=0.01),\n",
    "                      data[data.topic=='Дом'].sample(frac=0.01),\n",
    "                      data[data.topic=='Силовые структуры'].sample(frac=0.01),\n",
    "                      data[data.topic=='Ценности'].sample(frac=0.03),\n",
    "                      data[data.topic=='Бизнес'].sample(frac=0.03),\n",
    "                      data[data.topic=='69-я параллель'].sample(frac=0.05),\n",
    "                      data[data.topic=='Крым'].sample(frac=0.05),\n",
    "                      data[data.topic=='Культпросвет'].sample(frac=0.2),\n",
    "                      data[data.topic=='Легпром'].sample(frac=0.8),\n",
    "                      data[data.topic=='Библиотека']]).reset_index(drop=True)"
   ]
  },
  {
   "cell_type": "code",
   "execution_count": 4,
   "metadata": {},
   "outputs": [
    {
     "data": {
      "text/plain": [
       "Из жизни             55\n",
       "Бывший СССР          54\n",
       "Наука и техника      54\n",
       "Культура             53\n",
       "Ценности             45\n",
       "Дом                  45\n",
       "Бизнес               44\n",
       "Интернет и СМИ       44\n",
       "Силовые структуры    40\n",
       "Спорт                39\n",
       "Экономика            32\n",
       "Россия               32\n",
       "Мир                  27\n",
       "69-я параллель       13\n",
       "Легпром              13\n",
       "Библиотека           10\n",
       "Крым                  7\n",
       "Name: topic, dtype: int64"
      ]
     },
     "execution_count": 4,
     "metadata": {},
     "output_type": "execute_result"
    }
   ],
   "source": [
    "data_frac.topic.value_counts()"
   ]
  },
  {
   "cell_type": "code",
   "execution_count": 5,
   "metadata": {},
   "outputs": [
    {
     "data": {
      "text/plain": [
       "(607, 6)"
      ]
     },
     "execution_count": 5,
     "metadata": {},
     "output_type": "execute_result"
    }
   ],
   "source": [
    "data_frac.shape"
   ]
  },
  {
   "cell_type": "code",
   "execution_count": 6,
   "metadata": {},
   "outputs": [],
   "source": [
    "data = data_frac"
   ]
  },
  {
   "cell_type": "markdown",
   "metadata": {},
   "source": [
    "### Загружаем предобученную модель из huggingface transformers"
   ]
  },
  {
   "cell_type": "markdown",
   "metadata": {},
   "source": [
    "Список всех доступных моделей можно найти тут - https://huggingface.co/models  \n",
    "А вот тут основные с описанием - https://huggingface.co/transformers/pretrained_models.html"
   ]
  },
  {
   "cell_type": "markdown",
   "metadata": {},
   "source": [
    "На HG предпочитают торч, поэтому многие модели не загрузятся в тф. Там есть специальный тэг, по которому можно фильтровать модели. Самые стандартные (англоязычный и мультиязычный) берты от гугла работают с тф. А вот стандартный ru-bert от DeepPavlov только на торче (смотрите в тетрадке по торчу к этому семинару)"
   ]
  },
  {
   "cell_type": "code",
   "execution_count": 7,
   "metadata": {},
   "outputs": [],
   "source": [
    "# # Можно сказать оригинальный берт\n",
    "# tokenizer = AutoTokenizer.from_pretrained('bert-base-cased')\n",
    "# model_bert = AutoModel.from_pretrained('bert-base-cased')"
   ]
  },
  {
   "cell_type": "code",
   "execution_count": 10,
   "metadata": {},
   "outputs": [
    {
     "data": {
      "application/vnd.jupyter.widget-view+json": {
       "model_id": "a10055f866224eff931313ce7b6cd4df",
       "version_major": 2,
       "version_minor": 0
      },
      "text/plain": [
       "Downloading:   0%|          | 0.00/1.08G [00:00<?, ?B/s]"
      ]
     },
     "metadata": {},
     "output_type": "display_data"
    },
    {
     "name": "stderr",
     "output_type": "stream",
     "text": [
      "Some layers from the model checkpoint at bert-base-multilingual-cased were not used when initializing TFBertModel: ['mlm___cls', 'nsp___cls']\n",
      "- This IS expected if you are initializing TFBertModel from the checkpoint of a model trained on another task or with another architecture (e.g. initializing a BertForSequenceClassification model from a BertForPreTraining model).\n",
      "- This IS NOT expected if you are initializing TFBertModel from the checkpoint of a model that you expect to be exactly identical (initializing a BertForSequenceClassification model from a BertForSequenceClassification model).\n",
      "All the layers of TFBertModel were initialized from the model checkpoint at bert-base-multilingual-cased.\n",
      "If your task is similar to the task the model of the checkpoint was trained on, you can already use TFBertModel for predictions without further training.\n"
     ]
    }
   ],
   "source": [
    "# # Мультиязычный берт\n",
    "tokenizer = AutoTokenizer.from_pretrained('bert-base-multilingual-cased')\n",
    "model_bert = TFAutoModel.from_pretrained('bert-base-multilingual-cased')"
   ]
  },
  {
   "cell_type": "code",
   "execution_count": 43,
   "metadata": {},
   "outputs": [
    {
     "name": "stderr",
     "output_type": "stream",
     "text": [
      "Some layers from the model checkpoint at Geotrend/bert-base-ru-cased were not used when initializing TFBertModel: ['mlm___cls']\n",
      "- This IS expected if you are initializing TFBertModel from the checkpoint of a model trained on another task or with another architecture (e.g. initializing a BertForSequenceClassification model from a BertForPreTraining model).\n",
      "- This IS NOT expected if you are initializing TFBertModel from the checkpoint of a model that you expect to be exactly identical (initializing a BertForSequenceClassification model from a BertForSequenceClassification model).\n",
      "All the layers of TFBertModel were initialized from the model checkpoint at Geotrend/bert-base-ru-cased.\n",
      "If your task is similar to the task the model of the checkpoint was trained on, you can already use TFBertModel for predictions without further training.\n"
     ]
    }
   ],
   "source": [
    "# # # Rubert который есть на тф от неизвестного пользователя геотренд\n",
    "# tokenizer = AutoTokenizer.from_pretrained(\"Geotrend/bert-base-ru-cased\")\n",
    "# model_bert = TFAutoModel.from_pretrained(\"Geotrend/bert-base-ru-cased\")"
   ]
  },
  {
   "cell_type": "markdown",
   "metadata": {},
   "source": [
    "Мы загружаем не только модель, а еще и токенайзер, т.е. свою предобработку нам писать не нужно"
   ]
  },
  {
   "cell_type": "code",
   "execution_count": 11,
   "metadata": {},
   "outputs": [
    {
     "data": {
      "text/plain": [
       "'Рыбкин поможет Хакамаде стать президентом России'"
      ]
     },
     "execution_count": 11,
     "metadata": {},
     "output_type": "execute_result"
    }
   ],
   "source": [
    "data.loc[4, 'title']"
   ]
  },
  {
   "cell_type": "markdown",
   "metadata": {},
   "source": [
    "Перевести токены в индексы очень просто"
   ]
  },
  {
   "cell_type": "code",
   "execution_count": 12,
   "metadata": {},
   "outputs": [
    {
     "data": {
      "text/plain": [
       "[101,\n",
       " 525,\n",
       " 10292,\n",
       " 67725,\n",
       " 10267,\n",
       " 96358,\n",
       " 104998,\n",
       " 530,\n",
       " 34411,\n",
       " 73287,\n",
       " 10205,\n",
       " 50121,\n",
       " 48841,\n",
       " 12152,\n",
       " 102]"
      ]
     },
     "execution_count": 12,
     "metadata": {},
     "output_type": "execute_result"
    }
   ],
   "source": [
    "tokenizer.encode(data.loc[4, 'title'])"
   ]
  },
  {
   "cell_type": "markdown",
   "metadata": {},
   "source": [
    "В этих моделях как правило используется BPE"
   ]
  },
  {
   "cell_type": "code",
   "execution_count": 13,
   "metadata": {},
   "outputs": [
    {
     "data": {
      "text/plain": [
       "['[CLS]',\n",
       " 'Р',\n",
       " '##ы',\n",
       " '##бки',\n",
       " '##н',\n",
       " 'пом',\n",
       " '##ожет',\n",
       " 'Х',\n",
       " '##ака',\n",
       " '##мад',\n",
       " '##е',\n",
       " 'стать',\n",
       " 'президентом',\n",
       " 'России',\n",
       " '[SEP]']"
      ]
     },
     "execution_count": 13,
     "metadata": {},
     "output_type": "execute_result"
    }
   ],
   "source": [
    "# переводим индекс токена обратно в текст\n",
    "encoded = tokenizer.encode(data.loc[4, 'title'])\n",
    "[tokenizer.decode([x]) for x in encoded]"
   ]
  },
  {
   "cell_type": "markdown",
   "metadata": {},
   "source": [
    "Индексы можно напрямую передавать в модель."
   ]
  },
  {
   "cell_type": "code",
   "execution_count": 14,
   "metadata": {},
   "outputs": [],
   "source": [
    "text = data.loc[4, 'title']\n",
    "text_ids = tf.constant([tokenizer.encode(text, add_special_tokens=True)])\n",
    "output = model_bert(text_ids, output_attentions=False)"
   ]
  },
  {
   "cell_type": "markdown",
   "metadata": {},
   "source": [
    "На выходе мы получим tuple из двух элементов. "
   ]
  },
  {
   "cell_type": "markdown",
   "metadata": {},
   "source": [
    "Первый элемент - состояния енкодера для каждого из элементов последовательности"
   ]
  },
  {
   "cell_type": "code",
   "execution_count": 15,
   "metadata": {},
   "outputs": [
    {
     "data": {
      "text/plain": [
       "TensorShape([1, 15, 768])"
      ]
     },
     "execution_count": 15,
     "metadata": {},
     "output_type": "execute_result"
    }
   ],
   "source": [
    "output[0].shape # в пайторче вместо .shape используется size()"
   ]
  },
  {
   "cell_type": "markdown",
   "metadata": {},
   "source": [
    "Второй - состояние енкодера на первом элементе, пропущенное через активацию (обычно этот элемент не используют)"
   ]
  },
  {
   "cell_type": "code",
   "execution_count": 16,
   "metadata": {},
   "outputs": [
    {
     "data": {
      "text/plain": [
       "TensorShape([1, 768])"
      ]
     },
     "execution_count": 16,
     "metadata": {},
     "output_type": "execute_result"
    }
   ],
   "source": [
    "output[1].shape"
   ]
  },
  {
   "cell_type": "markdown",
   "metadata": {},
   "source": [
    "Обычно в задачах используют либо состояние первого элемента"
   ]
  },
  {
   "cell_type": "code",
   "execution_count": 17,
   "metadata": {},
   "outputs": [
    {
     "data": {
      "text/plain": [
       "TensorShape([1, 768])"
      ]
     },
     "execution_count": 17,
     "metadata": {},
     "output_type": "execute_result"
    }
   ],
   "source": [
    "output[0][:,0].shape"
   ]
  },
  {
   "cell_type": "markdown",
   "metadata": {},
   "source": [
    "Либо усредненное состояние "
   ]
  },
  {
   "cell_type": "code",
   "execution_count": 18,
   "metadata": {},
   "outputs": [
    {
     "data": {
      "text/plain": [
       "TensorShape([1, 768])"
      ]
     },
     "execution_count": 18,
     "metadata": {},
     "output_type": "execute_result"
    }
   ],
   "source": [
    "tf.math.reduce_mean(output[0], axis=1).shape"
   ]
  },
  {
   "cell_type": "markdown",
   "metadata": {},
   "source": [
    "Полученные эмбеддинги уже можно использовать для какой-нибудь кластеризации или поиска похожих. А если есть разметка, то можно обучить на этих векторах стандартную модель из sklearn или даже дообучить всего Берта под конкретную задачу!"
   ]
  },
  {
   "cell_type": "markdown",
   "metadata": {},
   "source": [
    "Давайте попробуем дообучить (fine-tune) модель на данных lenta ru"
   ]
  },
  {
   "cell_type": "code",
   "execution_count": 19,
   "metadata": {},
   "outputs": [],
   "source": [
    "from tensorflow.keras import backend as K\n",
    "def f1(y_true, y_pred):\n",
    "    def recall(y_true, y_pred):\n",
    "        \"\"\"Recall metric.\n",
    "\n",
    "        Only computes a batch-wise average of recall.\n",
    "\n",
    "        Computes the recall, a metric for multi-label classification of\n",
    "        how many relevant items are selected.\n",
    "        \"\"\"\n",
    "        true_positives = K.sum(K.round(K.clip(y_true * y_pred, 0, 1)))\n",
    "        possible_positives = K.sum(K.round(K.clip(y_true, 0, 1)))\n",
    "        recall = true_positives / (possible_positives + K.epsilon())\n",
    "        return recall\n",
    "\n",
    "    def precision(y_true, y_pred):\n",
    "        \"\"\"Precision metric.\n",
    "\n",
    "        Only computes a batch-wise average of precision.\n",
    "\n",
    "        Computes the precision, a metric for multi-label classification of\n",
    "        how many selected items are relevant.\n",
    "        \"\"\"\n",
    "        true_positives = K.sum(K.round(K.clip(y_true * y_pred, 0, 1)))\n",
    "        predicted_positives = K.sum(K.round(K.clip(y_pred, 0, 1)))\n",
    "        precision = true_positives / (predicted_positives + K.epsilon())\n",
    "        return precision\n",
    "    precision = precision(y_true, y_pred)\n",
    "    recall = recall(y_true, y_pred)\n",
    "    return 2*((precision*recall)/(precision+recall+K.epsilon()))"
   ]
  },
  {
   "cell_type": "markdown",
   "metadata": {},
   "source": [
    "Будем обучаться на заголовках, а не на самих текстах"
   ]
  },
  {
   "cell_type": "code",
   "execution_count": 20,
   "metadata": {},
   "outputs": [],
   "source": [
    "# переводим тексты в последовательности индексов\n",
    "# У берта есть ограничение на максимальную длину последовательности - 512\n",
    "# Для заголовков это не очень актуально, но для других данных пригодится\n",
    "\n",
    "X = []\n",
    "\n",
    "for text in data.title:\n",
    "    ids = tokenizer.encode(text)\n",
    "    \n",
    "    X.append(ids[:512])"
   ]
  },
  {
   "cell_type": "code",
   "execution_count": 21,
   "metadata": {},
   "outputs": [],
   "source": [
    "X = tf.keras.preprocessing.sequence.pad_sequences(X, padding='post', maxlen=512)"
   ]
  },
  {
   "cell_type": "code",
   "execution_count": 22,
   "metadata": {},
   "outputs": [],
   "source": [
    "id2label = {i:label for i, label in enumerate(set(data.topic.values))}\n",
    "label2id = {l:i for i, l in id2label.items()}\n",
    "\n",
    "y = tf.keras.utils.to_categorical([label2id[label] for label in data.topic.values])\n"
   ]
  },
  {
   "cell_type": "code",
   "execution_count": 23,
   "metadata": {},
   "outputs": [
    {
     "data": {
      "text/plain": [
       "(607, 512)"
      ]
     },
     "execution_count": 23,
     "metadata": {},
     "output_type": "execute_result"
    }
   ],
   "source": [
    "X.shape"
   ]
  },
  {
   "cell_type": "markdown",
   "metadata": {},
   "source": [
    "В этот раз добавим стратификацию, т.к. в данных у нас дисбаланс классов."
   ]
  },
  {
   "cell_type": "code",
   "execution_count": 24,
   "metadata": {},
   "outputs": [],
   "source": [
    "train_index, valid_index = train_test_split(list(range(len(X))), test_size=0.05, stratify=data.topic)"
   ]
  },
  {
   "cell_type": "code",
   "execution_count": 25,
   "metadata": {},
   "outputs": [],
   "source": [
    "X_train, y_train = X[train_index], y[train_index]\n",
    "X_valid, y_valid = X[valid_index], y[valid_index]"
   ]
  },
  {
   "cell_type": "code",
   "execution_count": 37,
   "metadata": {},
   "outputs": [
    {
     "name": "stdout",
     "output_type": "stream",
     "text": [
      "WARNING:tensorflow:The parameters `output_attentions`, `output_hidden_states` and `use_cache` cannot be updated when calling a model.They have to be set to True/False in the config object (i.e.: `config=XConfig.from_pretrained('name', output_attentions=True)`).\n",
      "WARNING:tensorflow:The parameter `return_dict` cannot be set in graph mode and will always be set to `True`.\n"
     ]
    }
   ],
   "source": [
    "\n",
    "input_word_ids = tf.keras.layers.Input(shape=(512,), dtype=tf.int32,\n",
    "                                     name=\"input_ids\")\n",
    "\n",
    "output = model_bert({\"input_ids\":input_word_ids})\n",
    "\n",
    "# добавим дропаут чтобы не переобучалось\n",
    "drop = tf.keras.layers.Dropout(0.3)(output[0][:, 0])\n",
    "dense = tf.keras.layers.Dense(y.shape[1], activation='softmax')(drop)\n",
    "\n",
    "model_clf = tf.keras.Model(inputs=input_word_ids, outputs=dense)\n",
    "\n",
    "# лосс нужно поставить поменьше\n",
    "model_clf.compile(tf.optimizers.Adam(lr=2e-6), \n",
    "                  loss='categorical_crossentropy', \n",
    "                  metrics=['accuracy', \n",
    "                           f1])\n",
    "\n",
    "\n"
   ]
  },
  {
   "cell_type": "markdown",
   "metadata": {},
   "source": [
    "С батчсайзом тут приходится уже быть осторожным, т.к. берт занимает очень много места на видеокарте. "
   ]
  },
  {
   "cell_type": "code",
   "execution_count": 38,
   "metadata": {},
   "outputs": [
    {
     "name": "stdout",
     "output_type": "stream",
     "text": [
      "Epoch 1/20\n",
      "WARNING:tensorflow:The parameters `output_attentions`, `output_hidden_states` and `use_cache` cannot be updated when calling a model.They have to be set to True/False in the config object (i.e.: `config=XConfig.from_pretrained('name', output_attentions=True)`).\n",
      "WARNING:tensorflow:The parameter `return_dict` cannot be set in graph mode and will always be set to `True`.\n",
      "WARNING:tensorflow:Gradients do not exist for variables ['tf_bert_model/bert/pooler/dense/kernel:0', 'tf_bert_model/bert/pooler/dense/bias:0'] when minimizing the loss.\n",
      "WARNING:tensorflow:The parameters `output_attentions`, `output_hidden_states` and `use_cache` cannot be updated when calling a model.They have to be set to True/False in the config object (i.e.: `config=XConfig.from_pretrained('name', output_attentions=True)`).\n",
      "WARNING:tensorflow:The parameter `return_dict` cannot be set in graph mode and will always be set to `True`.\n",
      "WARNING:tensorflow:Gradients do not exist for variables ['tf_bert_model/bert/pooler/dense/kernel:0', 'tf_bert_model/bert/pooler/dense/bias:0'] when minimizing the loss.\n",
      "36/36 [==============================] - ETA: 0s - loss: 2.9986 - accuracy: 0.1233 - f1: 0.0064WARNING:tensorflow:The parameters `output_attentions`, `output_hidden_states` and `use_cache` cannot be updated when calling a model.They have to be set to True/False in the config object (i.e.: `config=XConfig.from_pretrained('name', output_attentions=True)`).\n",
      "WARNING:tensorflow:The parameter `return_dict` cannot be set in graph mode and will always be set to `True`.\n",
      "36/36 [==============================] - 47s 648ms/step - loss: 2.9986 - accuracy: 0.1233 - f1: 0.0064 - val_loss: 2.4953 - val_accuracy: 0.1935 - val_f1: 0.0000e+00\n",
      "Epoch 2/20\n",
      "36/36 [==============================] - 16s 442ms/step - loss: 1.9715 - accuracy: 0.4132 - f1: 0.1411 - val_loss: 1.8663 - val_accuracy: 0.4839 - val_f1: 0.1181\n",
      "Epoch 3/20\n",
      "36/36 [==============================] - 16s 447ms/step - loss: 1.3084 - accuracy: 0.6615 - f1: 0.4522 - val_loss: 1.5755 - val_accuracy: 0.5806 - val_f1: 0.4188\n",
      "Epoch 4/20\n",
      "36/36 [==============================] - 16s 451ms/step - loss: 0.9227 - accuracy: 0.7934 - f1: 0.6675 - val_loss: 1.4404 - val_accuracy: 0.6129 - val_f1: 0.5473\n",
      "Epoch 5/20\n",
      "36/36 [==============================] - 16s 446ms/step - loss: 0.6839 - accuracy: 0.8542 - f1: 0.7956 - val_loss: 1.3580 - val_accuracy: 0.6129 - val_f1: 0.5994\n",
      "Epoch 6/20\n",
      "36/36 [==============================] - 16s 451ms/step - loss: 0.5661 - accuracy: 0.8872 - f1: 0.8277 - val_loss: 1.3306 - val_accuracy: 0.6129 - val_f1: 0.6040\n",
      "Epoch 7/20\n",
      "36/36 [==============================] - 16s 444ms/step - loss: 0.4172 - accuracy: 0.9184 - f1: 0.8992 - val_loss: 1.3062 - val_accuracy: 0.6452 - val_f1: 0.6177\n",
      "Epoch 8/20\n",
      "36/36 [==============================] - 16s 457ms/step - loss: 0.3594 - accuracy: 0.9375 - f1: 0.9089 - val_loss: 1.2756 - val_accuracy: 0.6452 - val_f1: 0.6296\n",
      "Epoch 9/20\n",
      "36/36 [==============================] - 16s 445ms/step - loss: 0.3136 - accuracy: 0.9323 - f1: 0.9198 - val_loss: 1.2862 - val_accuracy: 0.6452 - val_f1: 0.6548\n",
      "Epoch 10/20\n",
      "36/36 [==============================] - 16s 445ms/step - loss: 0.2430 - accuracy: 0.9618 - f1: 0.9548 - val_loss: 1.3400 - val_accuracy: 0.6452 - val_f1: 0.6429\n",
      "Epoch 11/20\n",
      "36/36 [==============================] - 16s 447ms/step - loss: 0.2227 - accuracy: 0.9653 - f1: 0.9545 - val_loss: 1.3080 - val_accuracy: 0.6774 - val_f1: 0.6552\n",
      "Epoch 12/20\n",
      "36/36 [==============================] - 16s 449ms/step - loss: 0.1861 - accuracy: 0.9670 - f1: 0.9583 - val_loss: 1.3753 - val_accuracy: 0.6452 - val_f1: 0.6548\n",
      "Epoch 13/20\n",
      "36/36 [==============================] - 16s 451ms/step - loss: 0.1660 - accuracy: 0.9722 - f1: 0.9650 - val_loss: 1.4156 - val_accuracy: 0.6452 - val_f1: 0.6548\n",
      "Epoch 14/20\n",
      "36/36 [==============================] - 16s 456ms/step - loss: 0.1455 - accuracy: 0.9740 - f1: 0.9721 - val_loss: 1.3274 - val_accuracy: 0.6452 - val_f1: 0.6782\n",
      "Epoch 15/20\n",
      "36/36 [==============================] - 16s 450ms/step - loss: 0.1200 - accuracy: 0.9878 - f1: 0.9846 - val_loss: 1.3830 - val_accuracy: 0.6774 - val_f1: 0.6782\n",
      "Epoch 16/20\n",
      "36/36 [==============================] - 16s 449ms/step - loss: 0.1087 - accuracy: 0.9826 - f1: 0.9820 - val_loss: 1.4291 - val_accuracy: 0.6774 - val_f1: 0.6440\n",
      "Epoch 17/20\n",
      "36/36 [==============================] - 16s 450ms/step - loss: 0.0937 - accuracy: 0.9861 - f1: 0.9858 - val_loss: 1.4497 - val_accuracy: 0.6774 - val_f1: 0.6440\n",
      "Epoch 18/20\n",
      "36/36 [==============================] - 17s 460ms/step - loss: 0.0827 - accuracy: 0.9861 - f1: 0.9885 - val_loss: 1.4664 - val_accuracy: 0.6129 - val_f1: 0.6552\n",
      "Epoch 19/20\n",
      "36/36 [==============================] - 16s 448ms/step - loss: 0.0722 - accuracy: 0.9913 - f1: 0.9895 - val_loss: 1.4370 - val_accuracy: 0.6452 - val_f1: 0.6663\n",
      "Epoch 20/20\n",
      "36/36 [==============================] - 16s 449ms/step - loss: 0.0732 - accuracy: 0.9913 - f1: 0.9913 - val_loss: 1.3792 - val_accuracy: 0.6452 - val_f1: 0.6897\n"
     ]
    },
    {
     "data": {
      "text/plain": [
       "<tensorflow.python.keras.callbacks.History at 0x7f66e4082630>"
      ]
     },
     "execution_count": 38,
     "metadata": {},
     "output_type": "execute_result"
    }
   ],
   "source": [
    "model_clf.fit(X_train, y_train, \n",
    "          validation_data=(X_valid, y_valid),\n",
    "          batch_size=16,\n",
    "         epochs=20)"
   ]
  },
  {
   "cell_type": "code",
   "execution_count": 44,
   "metadata": {},
   "outputs": [
    {
     "name": "stdout",
     "output_type": "stream",
     "text": [
      "dict_keys(['loss', 'accuracy', 'f1', 'val_loss', 'val_accuracy', 'val_f1'])\n"
     ]
    },
    {
     "data": {
      "image/png": "[encoded data removed]",
      "text/plain": [
       "<Figure size 432x288 with 1 Axes>"
      ]
     },
     "metadata": {
      "needs_background": "light"
     },
     "output_type": "display_data"
    }
   ],
   "source": [
    "print(model_clf.history.history.keys())\n",
    "plt.plot(model_clf.history.history['f1'])\n",
    "plt.plot(model_clf.history.history['val_f1'])\n",
    "plt.title('model f1')\n",
    "plt.ylabel('f1')\n",
    "plt.xlabel('epoch')\n",
    "plt.legend(['train', 'val'], loc='upper left')\n",
    "plt.show()"
   ]
  },
  {
   "cell_type": "code",
   "execution_count": 45,
   "metadata": {},
   "outputs": [],
   "source": [
    "from sklearn.metrics import classification_report"
   ]
  },
  {
   "cell_type": "code",
   "execution_count": 48,
   "metadata": {},
   "outputs": [],
   "source": [
    "pred = model_clf.predict(X_valid).argmax(1)"
   ]
  },
  {
   "cell_type": "code",
   "execution_count": 55,
   "metadata": {},
   "outputs": [
    {
     "name": "stdout",
     "output_type": "stream",
     "text": [
      "                   precision    recall  f1-score   support\n",
      "\n",
      "            Спорт       1.00      1.00      1.00         2\n",
      "         Ценности       1.00      0.50      0.67         2\n",
      "          Легпром       0.00      0.00      0.00         1\n",
      "              Дом       0.67      1.00      0.80         2\n",
      "   Интернет и СМИ       0.50      0.50      0.50         2\n",
      "         Культура       1.00      1.00      1.00         3\n",
      "        Экономика       0.00      0.00      0.00         2\n",
      "             Крым       0.00      0.00      0.00         0\n",
      "   69-я параллель       1.00      1.00      1.00         1\n",
      "           Россия       1.00      1.00      1.00         2\n",
      "      Бывший СССР       0.40      0.67      0.50         3\n",
      "       Библиотека       0.00      0.00      0.00         0\n",
      "  Наука и техника       0.75      1.00      0.86         3\n",
      "         Из жизни       0.50      0.33      0.40         3\n",
      "Силовые структуры       0.50      0.50      0.50         2\n",
      "              Мир       0.00      0.00      0.00         1\n",
      "           Бизнес       0.50      0.50      0.50         2\n",
      "\n",
      "        micro avg       0.65      0.65      0.65        31\n",
      "        macro avg       0.52      0.53      0.51        31\n",
      "     weighted avg       0.62      0.65      0.62        31\n",
      "\n"
     ]
    }
   ],
   "source": [
    "print(classification_report(y_valid.argmax(1), pred, labels=list(range(len(label2id))),\n",
    "                            target_names=list(label2id), zero_division=0))"
   ]
  },
  {
   "cell_type": "markdown",
   "metadata": {},
   "source": [
    "Ф-мера в 65 выглядит не очень, но нужно помнить, что мы обучились на 600 примерах. Для сравнения можно попробовать обучить лстм на тех же данных."
   ]
  },
  {
   "cell_type": "code",
   "execution_count": 60,
   "metadata": {},
   "outputs": [],
   "source": [
    "\n",
    "def preprocess(text):\n",
    "    tokens = text.lower().split()\n",
    "    tokens = [token.strip(punctuation) for token in tokens]\n",
    "    return tokens\n",
    "\n",
    "vocab = Counter()\n",
    "\n",
    "for text in data.title:\n",
    "    vocab.update(preprocess(text))\n",
    "\n",
    "# индексируем слова\n",
    "word2id = {'PAD':0}\n",
    "\n",
    "for word in vocab:\n",
    "    word2id[word] = len(word2id)\n",
    "\n",
    "id2word = {i:word for word, i in word2id.items()}\n",
    "\n",
    "X = []\n",
    "\n",
    "for text in data.title:\n",
    "    tokens = preprocess(text)\n",
    "    ids = [word2id[token] for token in tokens]\n",
    "    X.append(ids)\n",
    "\n",
    "MAX_LEN = max(len(x) for x in X)\n",
    "\n",
    "\n",
    "# паддинг\n",
    "X = tf.keras.preprocessing.sequence.pad_sequences(X, padding='post', maxlen=MAX_LEN)\n",
    "\n",
    "\n",
    "id2label = {i:label for i, label in enumerate(set(data.topic.values))}\n",
    "label2id = {l:i for i, l in id2label.items()}\n",
    "\n",
    "y = tf.keras.utils.to_categorical([label2id[label] for label in data.topic.values])\n",
    "\n",
    "\n",
    "X_train, X_valid, y_train, y_valid = train_test_split(X, y, test_size=0.05, stratify=data.topic)"
   ]
  },
  {
   "cell_type": "code",
   "execution_count": 61,
   "metadata": {},
   "outputs": [],
   "source": [
    "inputs = tf.keras.layers.Input(shape=(MAX_LEN,))\n",
    "embeddings = tf.keras.layers.Embedding(input_dim=len(word2id), output_dim=30)(inputs, )\n",
    "\n",
    "lstm = tf.keras.layers.LSTM(128, return_sequences=False)(embeddings)\n",
    "\n",
    "outputs = tf.keras.layers.Dense(len(label2id), activation='softmax')(lstm)\n",
    "\n",
    "model = tf.keras.Model(inputs=inputs, outputs=outputs)\n",
    "optimizer = tf.keras.optimizers.Adam(learning_rate=0.001)\n",
    "model.compile(optimizer=optimizer,\n",
    "              loss='categorical_crossentropy',\n",
    "              metrics=['accuracy', f1])\n"
   ]
  },
  {
   "cell_type": "code",
   "execution_count": 62,
   "metadata": {},
   "outputs": [
    {
     "name": "stdout",
     "output_type": "stream",
     "text": [
      "Model: \"model_3\"\n",
      "_________________________________________________________________\n",
      "Layer (type)                 Output Shape              Param #   \n",
      "=================================================================\n",
      "input_1 (InputLayer)         [(None, 13)]              0         \n",
      "_________________________________________________________________\n",
      "embedding (Embedding)        (None, 13, 30)            92580     \n",
      "_________________________________________________________________\n",
      "lstm (LSTM)                  (None, 128)               81408     \n",
      "_________________________________________________________________\n",
      "dense_3 (Dense)              (None, 17)                2193      \n",
      "=================================================================\n",
      "Total params: 176,181\n",
      "Trainable params: 176,181\n",
      "Non-trainable params: 0\n",
      "_________________________________________________________________\n"
     ]
    }
   ],
   "source": [
    "model.summary()"
   ]
  },
  {
   "cell_type": "code",
   "execution_count": 65,
   "metadata": {
    "scrolled": true
   },
   "outputs": [
    {
     "name": "stdout",
     "output_type": "stream",
     "text": [
      "Epoch 1/50\n",
      "18/18 [==============================] - 1s 42ms/step - loss: 0.5776 - accuracy: 0.8108 - f1: 0.8024 - val_loss: 5.0685 - val_accuracy: 0.1613 - val_f1: 0.1818\n",
      "Epoch 2/50\n",
      "18/18 [==============================] - 1s 44ms/step - loss: 0.4634 - accuracy: 0.8611 - f1: 0.8810 - val_loss: 5.4626 - val_accuracy: 0.1935 - val_f1: 0.2105\n",
      "Epoch 3/50\n",
      "18/18 [==============================] - 1s 49ms/step - loss: 0.3959 - accuracy: 0.8802 - f1: 0.8930 - val_loss: 5.5292 - val_accuracy: 0.1935 - val_f1: 0.2034\n",
      "Epoch 4/50\n",
      "18/18 [==============================] - 1s 36ms/step - loss: 0.4465 - accuracy: 0.8490 - f1: 0.8561 - val_loss: 5.5703 - val_accuracy: 0.1613 - val_f1: 0.1786\n",
      "Epoch 5/50\n",
      "18/18 [==============================] - 1s 28ms/step - loss: 0.4964 - accuracy: 0.8403 - f1: 0.8439 - val_loss: 5.1263 - val_accuracy: 0.2258 - val_f1: 0.2333\n",
      "Epoch 6/50\n",
      "18/18 [==============================] - 1s 31ms/step - loss: 0.4767 - accuracy: 0.8264 - f1: 0.8378 - val_loss: 5.3636 - val_accuracy: 0.1935 - val_f1: 0.1695\n",
      "Epoch 7/50\n",
      "18/18 [==============================] - 1s 56ms/step - loss: 0.4688 - accuracy: 0.8316 - f1: 0.8273 - val_loss: 5.1942 - val_accuracy: 0.2258 - val_f1: 0.2414\n",
      "Epoch 8/50\n",
      "18/18 [==============================] - 1s 48ms/step - loss: 0.4015 - accuracy: 0.8698 - f1: 0.8653 - val_loss: 5.0938 - val_accuracy: 0.1935 - val_f1: 0.2000\n",
      "Epoch 9/50\n",
      "18/18 [==============================] - 1s 61ms/step - loss: 0.2625 - accuracy: 0.9288 - f1: 0.9145 - val_loss: 5.3238 - val_accuracy: 0.1935 - val_f1: 0.1935\n",
      "Epoch 10/50\n",
      "18/18 [==============================] - 1s 30ms/step - loss: 0.2145 - accuracy: 0.9444 - f1: 0.9330 - val_loss: 5.3917 - val_accuracy: 0.2258 - val_f1: 0.2373\n",
      "Epoch 11/50\n",
      "18/18 [==============================] - 1s 42ms/step - loss: 0.1563 - accuracy: 0.9670 - f1: 0.9540 - val_loss: 5.5105 - val_accuracy: 0.2258 - val_f1: 0.2414\n",
      "Epoch 12/50\n",
      "18/18 [==============================] - 1s 35ms/step - loss: 0.1414 - accuracy: 0.9722 - f1: 0.9492 - val_loss: 5.5531 - val_accuracy: 0.2258 - val_f1: 0.2414\n",
      "Epoch 13/50\n",
      "18/18 [==============================] - 1s 45ms/step - loss: 0.1289 - accuracy: 0.9826 - f1: 0.9563 - val_loss: 5.6018 - val_accuracy: 0.2581 - val_f1: 0.2623\n",
      "Epoch 14/50\n",
      "18/18 [==============================] - 1s 37ms/step - loss: 0.1166 - accuracy: 0.9809 - f1: 0.9687 - val_loss: 5.6850 - val_accuracy: 0.2581 - val_f1: 0.2667\n",
      "Epoch 15/50\n",
      "18/18 [==============================] - 1s 35ms/step - loss: 0.1247 - accuracy: 0.9826 - f1: 0.9689 - val_loss: 5.7706 - val_accuracy: 0.2581 - val_f1: 0.2623\n",
      "Epoch 16/50\n",
      "18/18 [==============================] - 1s 29ms/step - loss: 0.1345 - accuracy: 0.9757 - f1: 0.9665 - val_loss: 5.5791 - val_accuracy: 0.2581 - val_f1: 0.2712\n",
      "Epoch 17/50\n",
      "18/18 [==============================] - 1s 42ms/step - loss: 0.1035 - accuracy: 0.9861 - f1: 0.9843 - val_loss: 5.6203 - val_accuracy: 0.2258 - val_f1: 0.2333\n",
      "Epoch 18/50\n",
      "18/18 [==============================] - 1s 31ms/step - loss: 0.0761 - accuracy: 0.9931 - f1: 0.9922 - val_loss: 5.7007 - val_accuracy: 0.2903 - val_f1: 0.2712\n",
      "Epoch 19/50\n",
      "18/18 [==============================] - 1s 35ms/step - loss: 0.0612 - accuracy: 0.9896 - f1: 0.9896 - val_loss: 5.5799 - val_accuracy: 0.2258 - val_f1: 0.2333\n",
      "Epoch 20/50\n",
      "18/18 [==============================] - 1s 34ms/step - loss: 0.0935 - accuracy: 0.9826 - f1: 0.9826 - val_loss: 5.6579 - val_accuracy: 0.1935 - val_f1: 0.2034\n",
      "Epoch 21/50\n",
      "18/18 [==============================] - 1s 38ms/step - loss: 0.0773 - accuracy: 0.9844 - f1: 0.9843 - val_loss: 5.5731 - val_accuracy: 0.2258 - val_f1: 0.2295\n",
      "Epoch 22/50\n",
      "18/18 [==============================] - 1s 33ms/step - loss: 0.0795 - accuracy: 0.9844 - f1: 0.9843 - val_loss: 5.8790 - val_accuracy: 0.2258 - val_f1: 0.2069\n",
      "Epoch 23/50\n",
      "18/18 [==============================] - 1s 43ms/step - loss: 0.2056 - accuracy: 0.9462 - f1: 0.9470 - val_loss: 5.5455 - val_accuracy: 0.2581 - val_f1: 0.2712\n",
      "Epoch 24/50\n",
      "18/18 [==============================] - 1s 47ms/step - loss: 0.2173 - accuracy: 0.9444 - f1: 0.9442 - val_loss: 5.4937 - val_accuracy: 0.2258 - val_f1: 0.2069\n",
      "Epoch 25/50\n",
      "18/18 [==============================] - 1s 38ms/step - loss: 0.1690 - accuracy: 0.9479 - f1: 0.9487 - val_loss: 5.2770 - val_accuracy: 0.1935 - val_f1: 0.2034\n",
      "Epoch 26/50\n",
      "18/18 [==============================] - 1s 41ms/step - loss: 0.1229 - accuracy: 0.9635 - f1: 0.9644 - val_loss: 5.6531 - val_accuracy: 0.2258 - val_f1: 0.2069\n",
      "Epoch 27/50\n",
      "18/18 [==============================] - 1s 51ms/step - loss: 0.0818 - accuracy: 0.9792 - f1: 0.9792 - val_loss: 5.5096 - val_accuracy: 0.1935 - val_f1: 0.2034\n",
      "Epoch 28/50\n",
      "18/18 [==============================] - 1s 43ms/step - loss: 0.0431 - accuracy: 0.9896 - f1: 0.9896 - val_loss: 5.5717 - val_accuracy: 0.2258 - val_f1: 0.2333\n",
      "Epoch 29/50\n",
      "18/18 [==============================] - 1s 31ms/step - loss: 0.0298 - accuracy: 0.9965 - f1: 0.9965 - val_loss: 5.6698 - val_accuracy: 0.1935 - val_f1: 0.1967\n",
      "Epoch 30/50\n",
      "18/18 [==============================] - 1s 34ms/step - loss: 0.0466 - accuracy: 0.9913 - f1: 0.9904 - val_loss: 5.6979 - val_accuracy: 0.2258 - val_f1: 0.2333\n",
      "Epoch 31/50\n",
      "18/18 [==============================] - 1s 33ms/step - loss: 0.0207 - accuracy: 0.9983 - f1: 0.9983 - val_loss: 5.7404 - val_accuracy: 0.2581 - val_f1: 0.2414\n",
      "Epoch 32/50\n",
      "18/18 [==============================] - 1s 32ms/step - loss: 0.0174 - accuracy: 1.0000 - f1: 1.0000 - val_loss: 6.0309 - val_accuracy: 0.1935 - val_f1: 0.1967\n",
      "Epoch 33/50\n",
      "18/18 [==============================] - 1s 33ms/step - loss: 0.0314 - accuracy: 0.9913 - f1: 0.9913 - val_loss: 5.7681 - val_accuracy: 0.2581 - val_f1: 0.2623\n",
      "Epoch 34/50\n",
      "18/18 [==============================] - 1s 38ms/step - loss: 0.0473 - accuracy: 0.9896 - f1: 0.9896 - val_loss: 6.0656 - val_accuracy: 0.1613 - val_f1: 0.1667\n",
      "Epoch 35/50\n",
      "18/18 [==============================] - 1s 39ms/step - loss: 0.0675 - accuracy: 0.9844 - f1: 0.9844 - val_loss: 5.6886 - val_accuracy: 0.2258 - val_f1: 0.2295\n",
      "Epoch 36/50\n",
      "18/18 [==============================] - 1s 32ms/step - loss: 0.0631 - accuracy: 0.9878 - f1: 0.9878 - val_loss: 5.9304 - val_accuracy: 0.1613 - val_f1: 0.1639\n",
      "Epoch 37/50\n",
      "18/18 [==============================] - 1s 32ms/step - loss: 0.0496 - accuracy: 0.9896 - f1: 0.9904 - val_loss: 5.8286 - val_accuracy: 0.1935 - val_f1: 0.2000\n",
      "Epoch 38/50\n",
      "18/18 [==============================] - 1s 40ms/step - loss: 0.0273 - accuracy: 0.9948 - f1: 0.9956 - val_loss: 5.8222 - val_accuracy: 0.2581 - val_f1: 0.2623\n",
      "Epoch 39/50\n",
      "18/18 [==============================] - 1s 33ms/step - loss: 0.0186 - accuracy: 0.9983 - f1: 0.9983 - val_loss: 5.9481 - val_accuracy: 0.2581 - val_f1: 0.2623\n",
      "Epoch 40/50\n",
      "18/18 [==============================] - 0s 26ms/step - loss: 0.0147 - accuracy: 0.9983 - f1: 0.9983 - val_loss: 5.9353 - val_accuracy: 0.2581 - val_f1: 0.2581\n",
      "Epoch 41/50\n",
      "18/18 [==============================] - 1s 32ms/step - loss: 0.0162 - accuracy: 0.9983 - f1: 0.9983 - val_loss: 5.9686 - val_accuracy: 0.2581 - val_f1: 0.2623\n",
      "Epoch 42/50\n",
      "18/18 [==============================] - 1s 45ms/step - loss: 0.0103 - accuracy: 1.0000 - f1: 1.0000 - val_loss: 6.0620 - val_accuracy: 0.2581 - val_f1: 0.2623\n",
      "Epoch 43/50\n",
      "18/18 [==============================] - 1s 35ms/step - loss: 0.0088 - accuracy: 1.0000 - f1: 1.0000 - val_loss: 6.0691 - val_accuracy: 0.2581 - val_f1: 0.2581\n",
      "Epoch 44/50\n",
      "18/18 [==============================] - 1s 49ms/step - loss: 0.0082 - accuracy: 1.0000 - f1: 1.0000 - val_loss: 6.0912 - val_accuracy: 0.2581 - val_f1: 0.2581\n",
      "Epoch 45/50\n",
      "18/18 [==============================] - 1s 31ms/step - loss: 0.0078 - accuracy: 1.0000 - f1: 1.0000 - val_loss: 6.1112 - val_accuracy: 0.2581 - val_f1: 0.2581\n",
      "Epoch 46/50\n",
      "18/18 [==============================] - 1s 29ms/step - loss: 0.0074 - accuracy: 1.0000 - f1: 1.0000 - val_loss: 6.1312 - val_accuracy: 0.2581 - val_f1: 0.2581\n",
      "Epoch 47/50\n",
      "18/18 [==============================] - 1s 30ms/step - loss: 0.0071 - accuracy: 1.0000 - f1: 1.0000 - val_loss: 6.1489 - val_accuracy: 0.2581 - val_f1: 0.2581\n",
      "Epoch 48/50\n",
      "18/18 [==============================] - 1s 50ms/step - loss: 0.0068 - accuracy: 1.0000 - f1: 1.0000 - val_loss: 6.1693 - val_accuracy: 0.2581 - val_f1: 0.2581\n",
      "Epoch 49/50\n",
      "18/18 [==============================] - 1s 38ms/step - loss: 0.0065 - accuracy: 1.0000 - f1: 1.0000 - val_loss: 6.1857 - val_accuracy: 0.2581 - val_f1: 0.2295\n",
      "Epoch 50/50\n",
      "18/18 [==============================] - 1s 33ms/step - loss: 0.0062 - accuracy: 1.0000 - f1: 1.0000 - val_loss: 6.2041 - val_accuracy: 0.2581 - val_f1: 0.2295\n"
     ]
    },
    {
     "data": {
      "text/plain": [
       "<tensorflow.python.keras.callbacks.History at 0x7f68926e4b38>"
      ]
     },
     "execution_count": 65,
     "metadata": {},
     "output_type": "execute_result"
    }
   ],
   "source": [
    "model.fit(X_train, y_train, \n",
    "          validation_data=(X_valid, y_valid),\n",
    "          batch_size=32,\n",
    "          epochs=50)"
   ]
  },
  {
   "cell_type": "code",
   "execution_count": 66,
   "metadata": {},
   "outputs": [
    {
     "name": "stdout",
     "output_type": "stream",
     "text": [
      "dict_keys(['loss', 'accuracy', 'f1', 'val_loss', 'val_accuracy', 'val_f1'])\n"
     ]
    },
    {
     "data": {
      "image/png": "[encoded data removed]",
      "text/plain": [
       "<Figure size 432x288 with 1 Axes>"
      ]
     },
     "metadata": {
      "needs_background": "light"
     },
     "output_type": "display_data"
    }
   ],
   "source": [
    "print(model.history.history.keys())\n",
    "plt.plot(model.history.history['f1'])\n",
    "plt.plot(model.history.history['val_f1'])\n",
    "plt.title('model f1')\n",
    "plt.ylabel('f1')\n",
    "plt.xlabel('epoch')\n",
    "plt.legend(['train', 'val'], loc='upper left')\n",
    "plt.show()"
   ]
  }
 ],
 "metadata": {
  "kernelspec": {
   "display_name": "Python 3",
   "language": "python",
   "name": "python3"
  },
  "language_info": {
   "codemirror_mode": {
    "name": "ipython",
    "version": 3
   },
   "file_extension": ".py",
   "mimetype": "text/x-python",
   "name": "python",
   "nbconvert_exporter": "python",
   "pygments_lexer": "ipython3",
   "version": "3.6.9"
  }
 },
 "nbformat": 4,
 "nbformat_minor": 4
}
