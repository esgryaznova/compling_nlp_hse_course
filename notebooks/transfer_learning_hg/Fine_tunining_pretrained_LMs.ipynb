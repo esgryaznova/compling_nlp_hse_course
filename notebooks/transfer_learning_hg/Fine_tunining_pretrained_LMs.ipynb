{
 "cells": [
  {
   "cell_type": "markdown",
   "metadata": {},
   "source": [
    "# Использование предобученных трансформеров"
   ]
  },
  {
   "cell_type": "code",
   "execution_count": 1,
   "metadata": {},
   "outputs": [],
   "source": [
    "from IPython.display import Image\n",
    "from IPython.core.display import HTML "
   ]
  },
  {
   "cell_type": "markdown",
   "metadata": {},
   "source": [
    "Большинство SOTA моделей последних лет основаны на 1 нейросетевой архитектуре, которая называется Transformer. Эта архитектура была представлена в 2017 году в статье - [Attention is all you need](https://arxiv.org/abs/1706.03762). \n",
    "\n",
    "На тот момент в обработке последовательностей доминировали рекуррентные нейроные сети, но у них была проблема с \"забыванием\" информации при обработке длинных текстов. Для решения этой проблемы был придуман механизм внимания (attention), который позволял на каждом шаге учитывать информацию от всех предыдущих и последующих элементов. LSTM+Attention некоторое время был sota подходом, но в attention is all you need было показано, что можно получить те же результаты, используя по сути только механизм внимания, без рекуррентности. \n",
    "\n",
    "Отсутствие рекуррентности позволяет гораздо эффективнее распараллеливать вычисления как на 1 gpu/tpu так и на кластере. На тот момент уже было несколько исследований показывающих, что при увеличении количества параметров и данных, модели начинают вести себя неожиданно хорошо (например, у OpenAI была статья в которой они рассказывали, что оставили LSTM на несколько месяцев и потом обнаружили, что она научилась достаточно точно определять тональность текста (без обучения на размеченном датасете) - https://openai.com/blog/unsupervised-sentiment-neuron/). Рекуррентные сети не позволяли серьезно увеличивать размер сетей даже при наличие ресурсов, а трансформеры позволили. \n",
    "\n",
    "Все последующие годы регулярно появлялись (и продолжают появляться) все более и более объемные трансформерные модели (BERT, GPT-1,2,3, Megatron). И каждый раз увеличение размера приводило к новым беспрецедентным результатам. "
   ]
  },
  {
   "cell_type": "markdown",
   "metadata": {},
   "source": [
    "Давайте попробуем чуть более подробно разобрать, как устроен трансформер. Это не простая тема и разбирать её мы будем постепенно.   \n",
    "**В этом семинаре посмотрим в целом на архитектуру и ее ключевые элементы, а также попробуем использовать предобученные трансформерные модели для задачи классификации.**"
   ]
  },
  {
   "cell_type": "markdown",
   "metadata": {},
   "source": [
    "## Seq2seq"
   ]
  },
  {
   "cell_type": "markdown",
   "metadata": {},
   "source": [
    "Для начала вернемся к рекуррентным сетям. Их недостатки наиболее серьезно проявились в задаче seq2seq. В seq2seq по входной последовательности нужно сгенерировать целевую последовательность, а длины последовательностей при этом могут отличаться. Самый каноничный пример seq2seq задачи - машинный перевод.\n",
    "\n",
    "Использование LSTM* для машинного перевода можно схематически представить вот так:\n",
    "\n",
    "*_тут и далее когда я говорю LSTM я на самом деле подразумеваю рекуррентные нейроные сети в целом, просто LSTM самый популярный их представитель, но уточнять это каждый раз неудобно_"
   ]
  },
  {
   "cell_type": "code",
   "execution_count": 21,
   "metadata": {},
   "outputs": [
    {
     "data": {
      "text/html": [
       "<img src=\"https://i.ibb.co/XjP2Gmh/Lstm-seq2seq.png\" width=\"700\" height=\"500\"/>"
      ],
      "text/plain": [
       "<IPython.core.display.Image object>"
      ]
     },
     "execution_count": 21,
     "metadata": {},
     "output_type": "execute_result"
    }
   ],
   "source": [
    "Image(url=\"https://i.ibb.co/XjP2Gmh/Lstm-seq2seq.png\", width=700, height=500)"
   ]
  },
  {
   "cell_type": "markdown",
   "metadata": {},
   "source": [
    "Для такой задачи нужно два LSTM слоя: один кодирует входную последовательность (encoder, или кодировщик), другой генерирует целевую последовательность (decoder или декодировщик). Такой подход работает, но есть серьезный недостаток - на вход декодеру подается только 1 вектор, в котором закодирована вся информация о целевой последовательности. Этот вектор - бутылочное горлышко (botleneck), узкое место, в которое все упирается.\n",
    "\n",
    "Если приводить аналогии, это как пытаться первести текст сходу целиком, прочитав его только 1 раз (попробуйте, например, перевести это предложение, не перечитывая). "
   ]
  },
  {
   "cell_type": "markdown",
   "metadata": {},
   "source": [
    "### Attention"
   ]
  },
  {
   "cell_type": "markdown",
   "metadata": {},
   "source": [
    "Для устранения бутылочного горлышка стали использовать механизм внимания. Он дает декодирующей LSTM доступ ко всем состояниям энкодера, а не только к последнему. Это уже больше похоже на то, как человек переводит текст - текст прочитывается целиком, но при переводе можно возвращаться к каждому отдельному слову исходного текста.   "
   ]
  },
  {
   "cell_type": "markdown",
   "metadata": {},
   "source": [
    "Схематично LSTM+Attention можно представить вот так. Такая архитектура уже в середине десятых годов позволила Google начать переход к нейронному переводу (до этого использовался статистический и правиловый):"
   ]
  },
  {
   "cell_type": "code",
   "execution_count": 14,
   "metadata": {},
   "outputs": [
    {
     "data": {
      "text/html": [
       "<img src=\"https://i.ibb.co/bzwNqwC/lstm-attention-seq2seq.png\" width=\"600\" height=\"500\"/>"
      ],
      "text/plain": [
       "<IPython.core.display.Image object>"
      ]
     },
     "execution_count": 14,
     "metadata": {},
     "output_type": "execute_result"
    }
   ],
   "source": [
    "Image(url=\"https://i.ibb.co/bzwNqwC/lstm-attention-seq2seq.png\",\n",
    "     width=600, height=500)"
   ]
  },
  {
   "cell_type": "markdown",
   "metadata": {},
   "source": [
    "Давайте подробнее посмотрим на механизм внимания. Визуализировать его целиком достаточно сложно, поэтому рассмотрим только 1 шаг (генерацию первого слова в переводе). "
   ]
  },
  {
   "cell_type": "code",
   "execution_count": 19,
   "metadata": {},
   "outputs": [
    {
     "data": {
      "text/html": [
       "<img src=\"https://i.ibb.co/19xB94B/lstm-attention-1-step.png\" width=\"700\" height=\"600\"/>"
      ],
      "text/plain": [
       "<IPython.core.display.Image object>"
      ]
     },
     "execution_count": 19,
     "metadata": {},
     "output_type": "execute_result"
    }
   ],
   "source": [
    "Image(url=\"https://i.ibb.co/19xB94B/lstm-attention-1-step.png\",\n",
    "     width=700, height=600)"
   ]
  },
  {
   "cell_type": "markdown",
   "metadata": {},
   "source": [
    "Само внимание (или attention) можно реализовать разными способами. Мы рассмотрим один возможный подход - через скалярное произведение. \n",
    "\n",
    "После прохода энкодера для каждого элемента входной последовательности существует вектор состояния (его можно считать контекстным эмбедингом слова). На каждом шаге декодера между текущим состоянием декодера и всеми состояними энкодера расчитывается скалярное произведение (можно сказать считается близость между переводным словом и всеми словами входного текста). Результатом такого скалярного произведения является набор весов, соответствующих каждому слову входной последовательности. Эти веса показывают, какие слова релеванты для генерации текущего слова в переводе. \n",
    "\n",
    "Далее каждый вес умножается на соотвутсвующий ему вектор состояния энкодера и эти вектора прибавляются к текущему состоянию декодера (то есть происходит взвешенная сумма векторов слов входной последовательности и итоговая сумма прибавляется или конкатенируется к состояние декодера). "
   ]
  },
  {
   "cell_type": "markdown",
   "metadata": {},
   "source": [
    "Attention убрал существующий bottleneck, но обучать такие модели было очень тяжело, так как в основе был LSTM. В 2017 был предложен подход без использования LSTM - Transformer."
   ]
  },
  {
   "cell_type": "markdown",
   "metadata": {},
   "source": [
    "## Transformer "
   ]
  },
  {
   "cell_type": "markdown",
   "metadata": {},
   "source": [
    "Вот как схематично решается задача машинного перевода с помощью трансформера. Самим трансформером называется блок с вниманием и полносвязными слоями, то есть и энкодер и декодер состоят из идентичных трансформерных блоков. Как и другие слои - трансформерные блоки можно накладывать друг на друга. Количество таких блоков в энкодере и декодере - настраиваемый гиперпараметр модели. "
   ]
  },
  {
   "cell_type": "code",
   "execution_count": 3,
   "metadata": {},
   "outputs": [
    {
     "data": {
      "text/html": [
       "<img src=\"https://i.ibb.co/XY0GK2R/transformer.png\" width=\"700\" height=\"500\"/>"
      ],
      "text/plain": [
       "<IPython.core.display.Image object>"
      ]
     },
     "execution_count": 3,
     "metadata": {},
     "output_type": "execute_result"
    }
   ],
   "source": [
    "Image(url=\"https://i.ibb.co/XY0GK2R/transformer.png\", width=700, height=500)"
   ]
  },
  {
   "cell_type": "markdown",
   "metadata": {},
   "source": [
    "В трансформерных блоках также есть нормализация и skip-связи, но пока мы их пропустим. "
   ]
  },
  {
   "cell_type": "markdown",
   "metadata": {},
   "source": [
    "Attention в трансформере конечно не такой простой как на примере выше. Давайте посмотрим на визуализацию из вот этого поста https://jalammar.github.io/illustrated-transformer/ (его имеет смысл почитать целиком)"
   ]
  },
  {
   "cell_type": "markdown",
   "metadata": {},
   "source": [
    "Attention также вычисляется через скалаярное произведение, но оно считается не между векторами напрямую. \n",
    "\n",
    "Каждый эмбединг одтельного слова преобразуется в 3 отдельных вектора с помощью полносвязного слоя (умножения на матрицу). У них есть названия: query вектор, key вектор и value вектор. "
   ]
  },
  {
   "cell_type": "code",
   "execution_count": 8,
   "metadata": {},
   "outputs": [
    {
     "data": {
      "text/html": [
       "<img src=\"https://jalammar.github.io/images/t/transformer_self_attention_vectors.png\" width=\"400\" height=\"400\"/>"
      ],
      "text/plain": [
       "<IPython.core.display.Image object>"
      ]
     },
     "execution_count": 8,
     "metadata": {},
     "output_type": "execute_result"
    }
   ],
   "source": [
    "Image(url=\"https://jalammar.github.io/images/t/transformer_self_attention_vectors.png\", width=400, height=400)"
   ]
  },
  {
   "cell_type": "markdown",
   "metadata": {},
   "source": [
    "Attention score вычисляется с помощью скалярного произведения query вектора текущего слова и key векторов всех слов в последовательности. Результат скалярного произведения пропускается через softmax, чтобы получить вероятности (это и есть оценки внимания, attention scores, высокая вероятность означает, что на это слово нужно обратить внимание, а низкий - что слово на текущем шаге не важно). \n",
    "\n",
    "Далее выполняется взвешенная сумма всех value векторов (веса = attention скоры). Полученный вектор уже передается дальше в полносвязный слой. При наслаивании транформерных блоков друг на друга на втором слое вместо эмбединга слова уже будет использоваться вектор полученный из предыдущего блока."
   ]
  },
  {
   "cell_type": "code",
   "execution_count": 9,
   "metadata": {},
   "outputs": [
    {
     "data": {
      "text/html": [
       "<img src=\"https://jalammar.github.io/images/t/self-attention-output.png\" width=\"400\" height=\"400\"/>"
      ],
      "text/plain": [
       "<IPython.core.display.Image object>"
      ]
     },
     "execution_count": 9,
     "metadata": {},
     "output_type": "execute_result"
    }
   ],
   "source": [
    "Image(url=\"https://jalammar.github.io/images/t/self-attention-output.png\", width=400, height=400)"
   ]
  },
  {
   "cell_type": "markdown",
   "metadata": {},
   "source": [
    "Но это еще не все. Это пример того, что называется self-attention - когда внимание расчитыватся между элементами одной последовательности. На схеме выше еще есть cross-attention. Он используется в декодере - query вектор тут получается из эмбедингов слов в целевой последовательности, а key и value вектора получаются из выходных векторов энкодера. Cross-attention связывает энкодер и декодер."
   ]
  },
  {
   "cell_type": "markdown",
   "metadata": {},
   "source": [
    "Self-attention также присутствует в декодере. При обучении seq2seq моделей на вход подаются сразу две последовательности (текст и его перевод, например), но целевая последовательность подается постепенно (по 1 слову) и задача декодера - по полной входной последовательности и имеющейся на данный момент целевой последовательности сгенерировать продолжение. При использовании обученной модели для перевода текста сначала в декодер передается пустая последовательсть (а точнее не пустая а с тегом SOS или start, можно тут вспомнить семинар по языковым моделям)."
   ]
  },
  {
   "cell_type": "markdown",
   "metadata": {},
   "source": [
    "#### Positional embedding"
   ]
  },
  {
   "cell_type": "markdown",
   "metadata": {},
   "source": [
    "Еще одна важная составляющая транформера - positinal encoding (на схеме вместо обычного emded - pos emded), позиционной кодирование. Механизм внимания ничего не знает о позиции слов, он рассматривает последовательность как мешок слов, а от LSTM мы избавились. Поэтому нужно как-то закодировать информацию о последовательности в эмбединги слов. В Attention is all you need это было сделано простым добавлением к эмбедингу слова вектора, который зависит от индекса слова в последовательности. В статье они использовали периодичные функции (синус и косинус), которые не нужно обучать - они просто возвращают какое-то значение на каждый индекс последовательности. Количество уникальных векторов генерируемых таким образом конечно ограничено, но очень большое количество и не требуется, так как транформер сам по себе не очень хорошо масштабируется на длинные последовательности (обычно ограниченивают максимальную длину около 512)."
   ]
  },
  {
   "cell_type": "markdown",
   "metadata": {},
   "source": [
    "Вот визуализация позиционных векторов из того же поста (изображено 20 векторов - по строкам, каждый размерности 512 - колонки; видно как вектора меняются при увеличении индекса):"
   ]
  },
  {
   "cell_type": "code",
   "execution_count": 13,
   "metadata": {},
   "outputs": [
    {
     "data": {
      "text/html": [
       "<img src=\"https://jalammar.github.io/images/t/transformer_positional_encoding_large_example.png\" width=\"700\" height=\"500\"/>"
      ],
      "text/plain": [
       "<IPython.core.display.Image object>"
      ]
     },
     "execution_count": 13,
     "metadata": {},
     "output_type": "execute_result"
    }
   ],
   "source": [
    "Image(url=\"https://jalammar.github.io/images/t/transformer_positional_encoding_large_example.png\", \n",
    "      width=700, height=500)\n"
   ]
  },
  {
   "cell_type": "markdown",
   "metadata": {},
   "source": [
    "В трансформере еще много других технических деталей, но для использования пока будет достаточно интуитивного понимания."
   ]
  },
  {
   "cell_type": "markdown",
   "metadata": {},
   "source": [
    "## Использование предобученных моделей"
   ]
  },
  {
   "cell_type": "markdown",
   "metadata": {},
   "source": [
    "С появлением предобученных трансформеных моделей развился transfer learning - это использование моделей для задач, решать которые они изначально не обучались. \n",
    "\n",
    "Большинство предобученных моделей - языковые модели, которые обучались просто продолжать текст или заполнять в нем пропуски. Эмбединги, которые генерирует энкодер таких предобученных моделей уже очень хорошо улавливают смысл и их можно напрямую использовать для классифицикаии. А можно еще немного дообучить весь энкодер на доступных размеченных данных и получить еще лучший результат. Так как в модели уже много знаний, для дообучения нужно буквально несколько примеров. \n",
    "\n",
    "Давайте посмотрим на разницу в качестве дообученной модели и обученной с нуля на имеющихся данных."
   ]
  },
  {
   "cell_type": "code",
   "execution_count": 4,
   "metadata": {
    "scrolled": true
   },
   "outputs": [
    {
     "name": "stdout",
     "output_type": "stream",
     "text": [
      "Requirement already satisfied: sklearn in /usr/local/lib/python3.8/dist-packages (0.0)\n",
      "Requirement already satisfied: pandas in /usr/local/lib/python3.8/dist-packages (1.4.1)\n",
      "Requirement already satisfied: matplotlib in /usr/local/lib/python3.8/dist-packages (3.5.1)\n",
      "Collecting transformers\n",
      "  Downloading transformers-4.16.2-py3-none-any.whl (3.5 MB)\n",
      "\u001b[K     |████████████████████████████████| 3.5 MB 3.9 MB/s eta 0:00:01\n",
      "\u001b[?25hRequirement already satisfied: scikit-learn in /usr/local/lib/python3.8/dist-packages (from sklearn) (1.0.2)\n",
      "Requirement already satisfied: pytz>=2020.1 in /usr/local/lib/python3.8/dist-packages (from pandas) (2021.3)\n",
      "Requirement already satisfied: python-dateutil>=2.8.1 in /usr/local/lib/python3.8/dist-packages (from pandas) (2.8.2)\n",
      "Requirement already satisfied: numpy>=1.18.5; platform_machine != \"aarch64\" and platform_machine != \"arm64\" and python_version < \"3.10\" in /usr/local/lib/python3.8/dist-packages (from pandas) (1.22.1)\n",
      "Requirement already satisfied: packaging>=20.0 in /usr/local/lib/python3.8/dist-packages (from matplotlib) (21.3)\n",
      "Requirement already satisfied: cycler>=0.10 in /usr/local/lib/python3.8/dist-packages (from matplotlib) (0.11.0)\n",
      "Requirement already satisfied: kiwisolver>=1.0.1 in /usr/local/lib/python3.8/dist-packages (from matplotlib) (1.3.2)\n",
      "Requirement already satisfied: fonttools>=4.22.0 in /usr/local/lib/python3.8/dist-packages (from matplotlib) (4.29.1)\n",
      "Requirement already satisfied: pillow>=6.2.0 in /usr/local/lib/python3.8/dist-packages (from matplotlib) (9.0.1)\n",
      "Requirement already satisfied: pyparsing>=2.2.1 in /usr/local/lib/python3.8/dist-packages (from matplotlib) (3.0.7)\n",
      "Requirement already satisfied: requests in /usr/lib/python3/dist-packages (from transformers) (2.22.0)\n",
      "Collecting regex!=2019.12.17\n",
      "  Downloading regex-2022.3.2-cp38-cp38-manylinux_2_17_x86_64.manylinux2014_x86_64.whl (764 kB)\n",
      "\u001b[K     |████████████████████████████████| 764 kB 47.7 MB/s eta 0:00:01\n",
      "\u001b[?25hCollecting pyyaml>=5.1\n",
      "  Downloading PyYAML-6.0-cp38-cp38-manylinux_2_5_x86_64.manylinux1_x86_64.manylinux_2_12_x86_64.manylinux2010_x86_64.whl (701 kB)\n",
      "\u001b[K     |████████████████████████████████| 701 kB 41.4 MB/s eta 0:00:01\n",
      "\u001b[?25hCollecting tqdm>=4.27\n",
      "  Downloading tqdm-4.63.0-py2.py3-none-any.whl (76 kB)\n",
      "\u001b[K     |████████████████████████████████| 76 kB 16.9 MB/s eta 0:00:01\n",
      "\u001b[?25hCollecting tokenizers!=0.11.3,>=0.10.1\n",
      "  Downloading tokenizers-0.11.6-cp38-cp38-manylinux_2_12_x86_64.manylinux2010_x86_64.whl (6.5 MB)\n",
      "\u001b[K     |████████████████████████████████| 6.5 MB 40.5 MB/s eta 0:00:01\n",
      "\u001b[?25hCollecting filelock\n",
      "  Downloading filelock-3.6.0-py3-none-any.whl (10.0 kB)\n",
      "Collecting huggingface-hub<1.0,>=0.1.0\n",
      "  Downloading huggingface_hub-0.4.0-py3-none-any.whl (67 kB)\n",
      "\u001b[K     |████████████████████████████████| 67 kB 16.4 MB/s eta 0:00:01\n",
      "\u001b[?25hCollecting sacremoses\n",
      "  Downloading sacremoses-0.0.47-py2.py3-none-any.whl (895 kB)\n",
      "\u001b[K     |████████████████████████████████| 895 kB 35.4 MB/s eta 0:00:01\n",
      "\u001b[?25hRequirement already satisfied: joblib>=0.11 in /usr/local/lib/python3.8/dist-packages (from scikit-learn->sklearn) (1.1.0)\n",
      "Requirement already satisfied: threadpoolctl>=2.0.0 in /usr/local/lib/python3.8/dist-packages (from scikit-learn->sklearn) (3.1.0)\n",
      "Requirement already satisfied: scipy>=1.1.0 in /usr/local/lib/python3.8/dist-packages (from scikit-learn->sklearn) (1.8.0)\n",
      "Requirement already satisfied: six>=1.5 in /usr/lib/python3/dist-packages (from python-dateutil>=2.8.1->pandas) (1.14.0)\n",
      "Requirement already satisfied: typing-extensions>=3.7.4.3 in /usr/local/lib/python3.8/dist-packages (from huggingface-hub<1.0,>=0.1.0->transformers) (4.0.1)\n",
      "Requirement already satisfied: click in /usr/local/lib/python3.8/dist-packages (from sacremoses->transformers) (8.0.3)\n",
      "Installing collected packages: regex, pyyaml, tqdm, tokenizers, filelock, huggingface-hub, sacremoses, transformers\n",
      "Successfully installed filelock-3.6.0 huggingface-hub-0.4.0 pyyaml-6.0 regex-2022.3.2 sacremoses-0.0.47 tokenizers-0.11.6 tqdm-4.63.0 transformers-4.16.2\n",
      "\u001b[33mWARNING: You are using pip version 20.2.4; however, version 22.0.3 is available.\n",
      "You should consider upgrading via the '/usr/bin/python3 -m pip install --upgrade pip' command.\u001b[0m\n"
     ]
    }
   ],
   "source": [
    "!pip install sklearn pandas matplotlib transformers"
   ]
  },
  {
   "cell_type": "code",
   "execution_count": 1,
   "metadata": {
    "scrolled": true
   },
   "outputs": [],
   "source": [
    "# стандартные библиотеки\n",
    "import os, re\n",
    "import numpy as np\n",
    "from time import time\n",
    "from sklearn.model_selection import train_test_split\n",
    "import pandas as pd\n",
    "from collections import Counter\n",
    "from string import punctuation\n",
    "import matplotlib.pyplot as plt\n",
    "%matplotlib inline\n",
    "\n",
    "\n",
    "# tf и huggingface \n",
    "import tensorflow as tf\n",
    "from transformers import TFAutoModel\n",
    "from transformers import AutoTokenizer\n"
   ]
  },
  {
   "cell_type": "markdown",
   "metadata": {},
   "source": [
    "Возьмем данные lenta.ru, но не целиком. Fine-tuning больших моделей лучше всего подходит, когда данных совсем мало и стандартным алгоритмам просто не хватает информации, чтобы обучиться. Поэтому возьмем только небольшой процент всех данных."
   ]
  },
  {
   "cell_type": "code",
   "execution_count": 2,
   "metadata": {},
   "outputs": [],
   "source": [
    "# data_frac = pd.concat([data[data.topic=='Россия'].sample(frac=0.001),\n",
    "#                       data[data.topic=='Мир'].sample(frac=0.001),\n",
    "#                       data[data.topic=='Экономика'].sample(frac=0.002),\n",
    "#                       data[data.topic=='Спорт'].sample(frac=0.003),\n",
    "#                       data[data.topic=='Наука и техника'].sample(frac=0.005),\n",
    "#                       data[data.topic=='Бывший СССР'].sample(frac=0.005),\n",
    "#                       data[data.topic=='Культура'].sample(frac=0.005),\n",
    "#                       data[data.topic=='Интернет и СМИ'].sample(frac=0.005),\n",
    "#                       data[data.topic=='Из жизни'].sample(frac=0.01),\n",
    "#                       data[data.topic=='Дом'].sample(frac=0.01),\n",
    "#                       data[data.topic=='Силовые структуры'].sample(frac=0.01),\n",
    "#                       data[data.topic=='Ценности'].sample(frac=0.03),\n",
    "#                       data[data.topic=='Бизнес'].sample(frac=0.03),\n",
    "#                       data[data.topic=='69-я параллель'].sample(frac=0.05),\n",
    "#                       data[data.topic=='Крым'].sample(frac=0.05),\n",
    "#                       data[data.topic=='Культпросвет'].sample(frac=0.2),\n",
    "#                       data[data.topic=='Легпром'].sample(frac=0.8),\n",
    "#                       data[data.topic=='Библиотека']]).reset_index(drop=True)"
   ]
  },
  {
   "cell_type": "code",
   "execution_count": 3,
   "metadata": {},
   "outputs": [],
   "source": [
    "data = pd.read_csv('lenta_sample.csv')\n",
    "data.dropna(subset=['topic', 'text'], inplace=True)"
   ]
  },
  {
   "cell_type": "code",
   "execution_count": 4,
   "metadata": {},
   "outputs": [
    {
     "data": {
      "text/plain": [
       "Из жизни             55\n",
       "Наука и техника      54\n",
       "Бывший СССР          54\n",
       "Культура             53\n",
       "Ценности             45\n",
       "Дом                  45\n",
       "Бизнес               44\n",
       "Интернет и СМИ       44\n",
       "Силовые структуры    40\n",
       "Спорт                39\n",
       "Россия               32\n",
       "Экономика            32\n",
       "Мир                  27\n",
       "69-я параллель       13\n",
       "Легпром              13\n",
       "Библиотека           10\n",
       "Крым                  7\n",
       "Name: topic, dtype: int64"
      ]
     },
     "execution_count": 4,
     "metadata": {},
     "output_type": "execute_result"
    }
   ],
   "source": [
    "data.topic.value_counts()"
   ]
  },
  {
   "cell_type": "code",
   "execution_count": 5,
   "metadata": {},
   "outputs": [
    {
     "data": {
      "text/plain": [
       "(607, 6)"
      ]
     },
     "execution_count": 5,
     "metadata": {},
     "output_type": "execute_result"
    }
   ],
   "source": [
    "data.shape"
   ]
  },
  {
   "cell_type": "markdown",
   "metadata": {},
   "source": [
    "### Загружаем предобученную модель из huggingface transformers"
   ]
  },
  {
   "cell_type": "markdown",
   "metadata": {},
   "source": [
    "Список всех доступных моделей можно найти тут - https://huggingface.co/models  \n",
    "А вот тут основные с описанием - https://huggingface.co/transformers/pretrained_models.html"
   ]
  },
  {
   "cell_type": "markdown",
   "metadata": {},
   "source": [
    "На HG предпочитают торч, поэтому многие модели не загрузятся в тф. Там есть специальный тэг, по которому можно фильтровать модели. "
   ]
  },
  {
   "cell_type": "markdown",
   "metadata": {},
   "source": [
    "Виды моделей мы обсудим на следующем занятии, так как их очень много и они существенно отличаются друг от друга. Пока разберем 3 варианта одной из первых предобученных моделей - BERT. "
   ]
  },
  {
   "cell_type": "code",
   "execution_count": 6,
   "metadata": {},
   "outputs": [],
   "source": [
    "# # Можно сказать оригинальный берт\n",
    "# tokenizer = AutoTokenizer.from_pretrained('bert-base-cased')\n",
    "# model_bert = AutoModel.from_pretrained('bert-base-cased')"
   ]
  },
  {
   "cell_type": "code",
   "execution_count": 7,
   "metadata": {},
   "outputs": [
    {
     "name": "stderr",
     "output_type": "stream",
     "text": [
      "2022-03-02 13:24:35.316372: I tensorflow/stream_executor/cuda/cuda_gpu_executor.cc:936] successful NUMA node read from SysFS had negative value (-1), but there must be at least one NUMA node, so returning NUMA node zero\n",
      "2022-03-02 13:24:35.319534: I tensorflow/stream_executor/cuda/cuda_gpu_executor.cc:936] successful NUMA node read from SysFS had negative value (-1), but there must be at least one NUMA node, so returning NUMA node zero\n",
      "2022-03-02 13:24:35.319920: I tensorflow/stream_executor/cuda/cuda_gpu_executor.cc:936] successful NUMA node read from SysFS had negative value (-1), but there must be at least one NUMA node, so returning NUMA node zero\n",
      "2022-03-02 13:24:35.320426: I tensorflow/core/platform/cpu_feature_guard.cc:151] This TensorFlow binary is optimized with oneAPI Deep Neural Network Library (oneDNN) to use the following CPU instructions in performance-critical operations:  AVX2 AVX512F FMA\n",
      "To enable them in other operations, rebuild TensorFlow with the appropriate compiler flags.\n",
      "2022-03-02 13:24:35.320767: I tensorflow/stream_executor/cuda/cuda_gpu_executor.cc:936] successful NUMA node read from SysFS had negative value (-1), but there must be at least one NUMA node, so returning NUMA node zero\n",
      "2022-03-02 13:24:35.321147: I tensorflow/stream_executor/cuda/cuda_gpu_executor.cc:936] successful NUMA node read from SysFS had negative value (-1), but there must be at least one NUMA node, so returning NUMA node zero\n",
      "2022-03-02 13:24:35.321519: I tensorflow/stream_executor/cuda/cuda_gpu_executor.cc:936] successful NUMA node read from SysFS had negative value (-1), but there must be at least one NUMA node, so returning NUMA node zero\n",
      "2022-03-02 13:24:35.620766: I tensorflow/stream_executor/cuda/cuda_gpu_executor.cc:936] successful NUMA node read from SysFS had negative value (-1), but there must be at least one NUMA node, so returning NUMA node zero\n",
      "2022-03-02 13:24:35.621152: I tensorflow/stream_executor/cuda/cuda_gpu_executor.cc:936] successful NUMA node read from SysFS had negative value (-1), but there must be at least one NUMA node, so returning NUMA node zero\n",
      "2022-03-02 13:24:35.621516: I tensorflow/stream_executor/cuda/cuda_gpu_executor.cc:936] successful NUMA node read from SysFS had negative value (-1), but there must be at least one NUMA node, so returning NUMA node zero\n",
      "2022-03-02 13:24:35.621860: I tensorflow/core/common_runtime/gpu/gpu_device.cc:1525] Created device /job:localhost/replica:0/task:0/device:GPU:0 with 8080 MB memory:  -> device: 0, name: NVIDIA GeForce RTX 3080, pci bus id: 0000:01:00.0, compute capability: 8.6\n",
      "2022-03-02 13:24:36.138190: I tensorflow/stream_executor/cuda/cuda_blas.cc:1786] TensorFloat-32 will be used for the matrix multiplication. This will only be logged once.\n",
      "Some layers from the model checkpoint at bert-base-multilingual-uncased were not used when initializing TFBertModel: ['mlm___cls', 'nsp___cls']\n",
      "- This IS expected if you are initializing TFBertModel from the checkpoint of a model trained on another task or with another architecture (e.g. initializing a BertForSequenceClassification model from a BertForPreTraining model).\n",
      "- This IS NOT expected if you are initializing TFBertModel from the checkpoint of a model that you expect to be exactly identical (initializing a BertForSequenceClassification model from a BertForSequenceClassification model).\n",
      "All the layers of TFBertModel were initialized from the model checkpoint at bert-base-multilingual-uncased.\n",
      "If your task is similar to the task the model of the checkpoint was trained on, you can already use TFBertModel for predictions without further training.\n"
     ]
    }
   ],
   "source": [
    "# # # # Мультиязычный берт\n",
    "tokenizer = AutoTokenizer.from_pretrained('bert-base-multilingual-uncased')\n",
    "model_bert = TFAutoModel.from_pretrained('bert-base-multilingual-uncased')"
   ]
  },
  {
   "cell_type": "code",
   "execution_count": 8,
   "metadata": {},
   "outputs": [],
   "source": [
    "# # # # Rubert который есть на тф от неизвестного пользователя геотренд\n",
    "# tokenizer = AutoTokenizer.from_pretrained(\"Geotrend/bert-base-ru-cased\")\n",
    "# model_bert = TFAutoModel.from_pretrained(\"Geotrend/bert-base-ru-cased\")"
   ]
  },
  {
   "cell_type": "markdown",
   "metadata": {},
   "source": [
    "Мы загружаем не только модель, а еще и токенайзер, т.е. свою предобработку нам писать не нужно"
   ]
  },
  {
   "cell_type": "code",
   "execution_count": 9,
   "metadata": {},
   "outputs": [
    {
     "data": {
      "text/plain": [
       "'По факту пожара на\\xa0заводе в\\xa0Югре заведено дело'"
      ]
     },
     "execution_count": 9,
     "metadata": {},
     "output_type": "execute_result"
    }
   ],
   "source": [
    "data.loc[4, 'title']"
   ]
  },
  {
   "cell_type": "markdown",
   "metadata": {},
   "source": [
    "Перевести токены в индексы очень просто"
   ]
  },
  {
   "cell_type": "code",
   "execution_count": 10,
   "metadata": {},
   "outputs": [
    {
     "data": {
      "text/plain": [
       "[101,\n",
       " 10291,\n",
       " 56538,\n",
       " 10236,\n",
       " 10291,\n",
       " 55974,\n",
       " 10185,\n",
       " 10124,\n",
       " 65784,\n",
       " 309,\n",
       " 37873,\n",
       " 14608,\n",
       " 10242,\n",
       " 56615,\n",
       " 26069,\n",
       " 102]"
      ]
     },
     "execution_count": 10,
     "metadata": {},
     "output_type": "execute_result"
    }
   ],
   "source": [
    "tokenizer.encode(data.loc[4, 'title'])"
   ]
  },
  {
   "cell_type": "markdown",
   "metadata": {},
   "source": [
    "В этих моделях как правило используется BPE"
   ]
  },
  {
   "cell_type": "code",
   "execution_count": 11,
   "metadata": {},
   "outputs": [
    {
     "data": {
      "text/plain": [
       "['[CLS]',\n",
       " 'по',\n",
       " 'факт',\n",
       " '##у',\n",
       " 'по',\n",
       " '##жар',\n",
       " '##а',\n",
       " 'на',\n",
       " 'заводе',\n",
       " 'в',\n",
       " 'юг',\n",
       " '##ре',\n",
       " 'за',\n",
       " '##ведено',\n",
       " 'дело',\n",
       " '[SEP]']"
      ]
     },
     "execution_count": 11,
     "metadata": {},
     "output_type": "execute_result"
    }
   ],
   "source": [
    "# переводим индекс токена обратно в текст\n",
    "encoded = tokenizer.encode(data.loc[4, 'title'])\n",
    "[tokenizer.decode([x]) for x in encoded]"
   ]
  },
  {
   "cell_type": "markdown",
   "metadata": {},
   "source": [
    "Индексы можно напрямую передавать в модель."
   ]
  },
  {
   "cell_type": "code",
   "execution_count": 12,
   "metadata": {},
   "outputs": [],
   "source": [
    "text = data.loc[4, 'title']\n",
    "text_ids = tf.constant([tokenizer.encode(text, add_special_tokens=True)])\n",
    "output = model_bert(text_ids, output_attentions=False)"
   ]
  },
  {
   "cell_type": "markdown",
   "metadata": {},
   "source": [
    "На выходе мы получим tuple из двух элементов. "
   ]
  },
  {
   "cell_type": "markdown",
   "metadata": {},
   "source": [
    "Первый элемент - состояния енкодера для каждого из элементов последовательности"
   ]
  },
  {
   "cell_type": "code",
   "execution_count": 13,
   "metadata": {},
   "outputs": [
    {
     "data": {
      "text/plain": [
       "TensorShape([1, 16, 768])"
      ]
     },
     "execution_count": 13,
     "metadata": {},
     "output_type": "execute_result"
    }
   ],
   "source": [
    "output[0].shape # в пайторче вместо .shape используется size()"
   ]
  },
  {
   "cell_type": "markdown",
   "metadata": {},
   "source": [
    "Второй - состояние енкодера на первом элементе, пропущенное через активацию (обычно этот элемент не используют)"
   ]
  },
  {
   "cell_type": "code",
   "execution_count": 14,
   "metadata": {},
   "outputs": [
    {
     "data": {
      "text/plain": [
       "TensorShape([1, 768])"
      ]
     },
     "execution_count": 14,
     "metadata": {},
     "output_type": "execute_result"
    }
   ],
   "source": [
    "output[1].shape"
   ]
  },
  {
   "cell_type": "markdown",
   "metadata": {},
   "source": [
    "Обычно в задачах используют либо состояние первого элемента"
   ]
  },
  {
   "cell_type": "code",
   "execution_count": 15,
   "metadata": {},
   "outputs": [
    {
     "data": {
      "text/plain": [
       "TensorShape([1, 768])"
      ]
     },
     "execution_count": 15,
     "metadata": {},
     "output_type": "execute_result"
    }
   ],
   "source": [
    "output[0][:,0].shape"
   ]
  },
  {
   "cell_type": "markdown",
   "metadata": {},
   "source": [
    "Либо усредненное состояние "
   ]
  },
  {
   "cell_type": "code",
   "execution_count": 16,
   "metadata": {},
   "outputs": [
    {
     "data": {
      "text/plain": [
       "TensorShape([1, 768])"
      ]
     },
     "execution_count": 16,
     "metadata": {},
     "output_type": "execute_result"
    }
   ],
   "source": [
    "tf.math.reduce_mean(output[0], axis=1).shape"
   ]
  },
  {
   "cell_type": "markdown",
   "metadata": {},
   "source": [
    "Полученные эмбеддинги уже можно использовать для какой-нибудь кластеризации или поиска похожих. А если есть разметка, то можно обучить на этих векторах стандартную модель из sklearn или даже дообучить всего Берта под конкретную задачу!"
   ]
  },
  {
   "cell_type": "markdown",
   "metadata": {},
   "source": [
    "Давайте попробуем дообучить (fine-tune) модель на данных lenta ru"
   ]
  },
  {
   "cell_type": "markdown",
   "metadata": {},
   "source": [
    "Будем обучаться на заголовках, а не на самих текстах"
   ]
  },
  {
   "cell_type": "code",
   "execution_count": 17,
   "metadata": {},
   "outputs": [],
   "source": [
    "# переводим тексты в последовательности индексов\n",
    "# У берта есть ограничение на максимальную длину последовательности - 512\n",
    "# Для заголовков это не очень актуально, но для других данных пригодится\n",
    "\n",
    "X = []\n",
    "\n",
    "for text in data.title:\n",
    "    ids = tokenizer.encode(text)\n",
    "    \n",
    "    X.append(ids[:512])"
   ]
  },
  {
   "cell_type": "code",
   "execution_count": 18,
   "metadata": {},
   "outputs": [],
   "source": [
    "X = tf.keras.preprocessing.sequence.pad_sequences(X, padding='post', maxlen=512)"
   ]
  },
  {
   "cell_type": "code",
   "execution_count": 19,
   "metadata": {},
   "outputs": [],
   "source": [
    "id2label = {i:label for i, label in enumerate(set(data.topic.values))}\n",
    "label2id = {l:i for i, l in id2label.items()}\n",
    "\n",
    "y = tf.keras.utils.to_categorical([label2id[label] for label in data.topic.values])\n"
   ]
  },
  {
   "cell_type": "code",
   "execution_count": 20,
   "metadata": {},
   "outputs": [
    {
     "data": {
      "text/plain": [
       "(607, 512)"
      ]
     },
     "execution_count": 20,
     "metadata": {},
     "output_type": "execute_result"
    }
   ],
   "source": [
    "X.shape"
   ]
  },
  {
   "cell_type": "markdown",
   "metadata": {},
   "source": [
    "В этот раз добавим стратификацию, т.к. в данных у нас дисбаланс классов."
   ]
  },
  {
   "cell_type": "code",
   "execution_count": 21,
   "metadata": {},
   "outputs": [],
   "source": [
    "train_index, valid_index = train_test_split(list(range(len(X))), test_size=0.05, stratify=data.topic)"
   ]
  },
  {
   "cell_type": "code",
   "execution_count": 22,
   "metadata": {},
   "outputs": [],
   "source": [
    "X_train, y_train = X[train_index], y[train_index]\n",
    "X_valid, y_valid = X[valid_index], y[valid_index]"
   ]
  },
  {
   "cell_type": "markdown",
   "metadata": {},
   "source": [
    "Загруженную модель в tf.keras можно использовать просто как слой в нейронной сети. Давайте сделаем новую модель, которая будет принимать на вход индексы символьных нграмм, пропускать их через берт, и затем брать первый вектор из энкодера и классифицировать его."
   ]
  },
  {
   "cell_type": "markdown",
   "metadata": {},
   "source": [
    "У нас есть два варианты дообучения - обучать только последний классификатор, не трогая берт, либо обучать все целиком, используя предобученной состояние энкодера как отправную точку."
   ]
  },
  {
   "cell_type": "markdown",
   "metadata": {},
   "source": [
    "#### Дообучение с замораживанием предобученной модели"
   ]
  },
  {
   "cell_type": "code",
   "execution_count": 104,
   "metadata": {},
   "outputs": [
    {
     "name": "stderr",
     "output_type": "stream",
     "text": [
      "Some layers from the model checkpoint at bert-base-multilingual-uncased were not used when initializing TFBertModel: ['nsp___cls', 'mlm___cls']\n",
      "- This IS expected if you are initializing TFBertModel from the checkpoint of a model trained on another task or with another architecture (e.g. initializing a BertForSequenceClassification model from a BertForPreTraining model).\n",
      "- This IS NOT expected if you are initializing TFBertModel from the checkpoint of a model that you expect to be exactly identical (initializing a BertForSequenceClassification model from a BertForSequenceClassification model).\n",
      "All the layers of TFBertModel were initialized from the model checkpoint at bert-base-multilingual-uncased.\n",
      "If your task is similar to the task the model of the checkpoint was trained on, you can already use TFBertModel for predictions without further training.\n"
     ]
    }
   ],
   "source": [
    "model_bert = TFAutoModel.from_pretrained('bert-base-multilingual-uncased', trainable=False)"
   ]
  },
  {
   "cell_type": "code",
   "execution_count": 105,
   "metadata": {},
   "outputs": [],
   "source": [
    "\n",
    "input_word_ids = tf.keras.layers.Input(shape=(512,), dtype=tf.int32,\n",
    "                                     name=\"input_ids\")\n",
    "\n",
    "output = model_bert({\"input_ids\":input_word_ids})\n",
    "\n",
    "# добавим дропаут чтобы не переобучалось\n",
    "drop = tf.keras.layers.Dropout(0.1)(output[0][:, 0]) # [0][:, 0] - означает что мы берем первое \n",
    "                                                     # состояние у всех текстов в батче\n",
    "dense = tf.keras.layers.Dense(y.shape[1], activation='softmax')(drop)\n",
    "\n",
    "model_clf = tf.keras.Model(inputs=input_word_ids, outputs=dense)\n",
    "\n",
    "# обычно при дообучении трансформеров нужно ставить очень маленький лосс\n",
    "# но когда мы обучаем только итоговый классификатор то можно ставить побольше\n",
    "model_clf.compile(tf.optimizers.Adam(learning_rate=2e-3), \n",
    "                  loss='categorical_crossentropy', \n",
    "                  metrics=['accuracy', \n",
    "                           tf.keras.metrics.RecallAtPrecision(0.80, name='rec_prec')])\n",
    "\n",
    "\n"
   ]
  },
  {
   "cell_type": "markdown",
   "metadata": {},
   "source": [
    "С батчсайзом тут приходится уже быть осторожным, т.к. берт занимает очень много места на видеокарте. "
   ]
  },
  {
   "cell_type": "code",
   "execution_count": 106,
   "metadata": {},
   "outputs": [
    {
     "name": "stdout",
     "output_type": "stream",
     "text": [
      "Epoch 1/20\n",
      "29/29 [==============================] - 14s 303ms/step - loss: 2.8849 - accuracy: 0.0816 - rec_prec: 0.0000e+00 - val_loss: 2.7325 - val_accuracy: 0.0968 - val_rec_prec: 0.0000e+00\n",
      "Epoch 2/20\n",
      "29/29 [==============================] - 7s 255ms/step - loss: 2.8319 - accuracy: 0.0764 - rec_prec: 0.0000e+00 - val_loss: 2.7668 - val_accuracy: 0.0323 - val_rec_prec: 0.0000e+00\n",
      "Epoch 3/20\n",
      "29/29 [==============================] - 7s 255ms/step - loss: 2.8210 - accuracy: 0.0781 - rec_prec: 0.0000e+00 - val_loss: 2.7403 - val_accuracy: 0.0645 - val_rec_prec: 0.0000e+00\n",
      "Epoch 4/20\n",
      "29/29 [==============================] - 7s 255ms/step - loss: 2.7993 - accuracy: 0.0764 - rec_prec: 0.0000e+00 - val_loss: 2.7685 - val_accuracy: 0.0968 - val_rec_prec: 0.0000e+00\n",
      "Epoch 5/20\n",
      "29/29 [==============================] - 7s 255ms/step - loss: 2.8160 - accuracy: 0.0764 - rec_prec: 0.0017 - val_loss: 2.7251 - val_accuracy: 0.0968 - val_rec_prec: 0.0000e+00\n",
      "Epoch 6/20\n",
      "29/29 [==============================] - 7s 255ms/step - loss: 2.8055 - accuracy: 0.0816 - rec_prec: 0.0000e+00 - val_loss: 2.7445 - val_accuracy: 0.0968 - val_rec_prec: 0.0000e+00\n",
      "Epoch 7/20\n",
      "29/29 [==============================] - 7s 256ms/step - loss: 2.8278 - accuracy: 0.0764 - rec_prec: 0.0000e+00 - val_loss: 2.7252 - val_accuracy: 0.0645 - val_rec_prec: 0.0000e+00\n",
      "Epoch 8/20\n",
      "29/29 [==============================] - 7s 256ms/step - loss: 2.8185 - accuracy: 0.0781 - rec_prec: 0.0000e+00 - val_loss: 2.7170 - val_accuracy: 0.0968 - val_rec_prec: 0.0000e+00\n",
      "Epoch 9/20\n",
      "29/29 [==============================] - 7s 256ms/step - loss: 2.8014 - accuracy: 0.0799 - rec_prec: 0.0017 - val_loss: 2.7384 - val_accuracy: 0.0968 - val_rec_prec: 0.0000e+00\n",
      "Epoch 10/20\n",
      "29/29 [==============================] - 7s 255ms/step - loss: 2.7948 - accuracy: 0.1007 - rec_prec: 0.0000e+00 - val_loss: 2.8033 - val_accuracy: 0.0968 - val_rec_prec: 0.0000e+00\n",
      "Epoch 11/20\n",
      "29/29 [==============================] - 7s 255ms/step - loss: 2.7951 - accuracy: 0.0816 - rec_prec: 0.0000e+00 - val_loss: 2.7328 - val_accuracy: 0.0968 - val_rec_prec: 0.0000e+00\n",
      "Epoch 12/20\n",
      "29/29 [==============================] - 7s 255ms/step - loss: 2.7878 - accuracy: 0.0885 - rec_prec: 0.0017 - val_loss: 2.6848 - val_accuracy: 0.0968 - val_rec_prec: 0.0000e+00\n",
      "Epoch 13/20\n",
      "29/29 [==============================] - 7s 256ms/step - loss: 2.7898 - accuracy: 0.0833 - rec_prec: 0.0000e+00 - val_loss: 2.7423 - val_accuracy: 0.0968 - val_rec_prec: 0.0000e+00\n",
      "Epoch 14/20\n",
      "29/29 [==============================] - 7s 256ms/step - loss: 2.7665 - accuracy: 0.1042 - rec_prec: 0.0000e+00 - val_loss: 2.7986 - val_accuracy: 0.0323 - val_rec_prec: 0.0000e+00\n",
      "Epoch 15/20\n",
      "29/29 [==============================] - 7s 256ms/step - loss: 2.8075 - accuracy: 0.0833 - rec_prec: 0.0000e+00 - val_loss: 2.6995 - val_accuracy: 0.0968 - val_rec_prec: 0.0000e+00\n",
      "Epoch 16/20\n",
      "29/29 [==============================] - 7s 256ms/step - loss: 2.7989 - accuracy: 0.0938 - rec_prec: 0.0000e+00 - val_loss: 2.7357 - val_accuracy: 0.1290 - val_rec_prec: 0.0000e+00\n",
      "Epoch 17/20\n",
      "29/29 [==============================] - 7s 256ms/step - loss: 2.7965 - accuracy: 0.0920 - rec_prec: 0.0000e+00 - val_loss: 2.7177 - val_accuracy: 0.1613 - val_rec_prec: 0.0000e+00\n",
      "Epoch 18/20\n",
      "29/29 [==============================] - 7s 256ms/step - loss: 2.7691 - accuracy: 0.0885 - rec_prec: 0.0000e+00 - val_loss: 2.7593 - val_accuracy: 0.0645 - val_rec_prec: 0.0000e+00\n",
      "Epoch 19/20\n",
      "29/29 [==============================] - 7s 256ms/step - loss: 2.7937 - accuracy: 0.0990 - rec_prec: 0.0000e+00 - val_loss: 2.7587 - val_accuracy: 0.0968 - val_rec_prec: 0.0000e+00\n",
      "Epoch 20/20\n",
      "29/29 [==============================] - 7s 256ms/step - loss: 2.7721 - accuracy: 0.1059 - rec_prec: 0.0000e+00 - val_loss: 2.7181 - val_accuracy: 0.0968 - val_rec_prec: 0.0000e+00\n"
     ]
    },
    {
     "data": {
      "text/plain": [
       "<keras.callbacks.History at 0x7f3c94563a00>"
      ]
     },
     "execution_count": 106,
     "metadata": {},
     "output_type": "execute_result"
    }
   ],
   "source": [
    "model_clf.fit(X_train, y_train, \n",
    "          validation_data=(X_valid, y_valid),\n",
    "          batch_size=20,\n",
    "         epochs=20)"
   ]
  },
  {
   "cell_type": "code",
   "execution_count": 108,
   "metadata": {},
   "outputs": [
    {
     "name": "stdout",
     "output_type": "stream",
     "text": [
      "dict_keys(['loss', 'accuracy', 'rec_prec', 'val_loss', 'val_accuracy', 'val_rec_prec'])\n"
     ]
    },
    {
     "data": {
      "image/png": "[encoded data removed]",
      "text/plain": [
       "<Figure size 432x288 with 1 Axes>"
      ]
     },
     "metadata": {
      "needs_background": "light"
     },
     "output_type": "display_data"
    }
   ],
   "source": [
    "print(model_clf.history.history.keys())\n",
    "plt.plot(model_clf.history.history['accuracy'])\n",
    "plt.plot(model_clf.history.history['val_accuracy'])\n",
    "plt.title('model accuracy')\n",
    "plt.ylabel('accuracy')\n",
    "plt.xlabel('epoch')\n",
    "plt.legend(['train', 'val'], loc='upper left')\n",
    "plt.show()"
   ]
  },
  {
   "cell_type": "code",
   "execution_count": 109,
   "metadata": {},
   "outputs": [],
   "source": [
    "from sklearn.metrics import classification_report"
   ]
  },
  {
   "cell_type": "code",
   "execution_count": 111,
   "metadata": {},
   "outputs": [],
   "source": [
    "pred = model_clf.predict(X_valid, batch_size=10).argmax(1)"
   ]
  },
  {
   "cell_type": "code",
   "execution_count": 112,
   "metadata": {},
   "outputs": [
    {
     "name": "stdout",
     "output_type": "stream",
     "text": [
      "                   precision    recall  f1-score   support\n",
      "\n",
      "  Наука и техника       0.00      0.00      0.00         3\n",
      "         Культура       0.00      0.00      0.00         3\n",
      "         Ценности       0.00      0.00      0.00         2\n",
      "      Бывший СССР       0.00      0.00      0.00         3\n",
      "       Библиотека       0.00      0.00      0.00         0\n",
      "        Экономика       0.00      0.00      0.00         2\n",
      "         Из жизни       0.10      1.00      0.18         3\n",
      "           Бизнес       0.00      0.00      0.00         2\n",
      "             Крым       0.00      0.00      0.00         0\n",
      "              Дом       0.00      0.00      0.00         2\n",
      "            Спорт       0.00      0.00      0.00         2\n",
      "           Россия       0.00      0.00      0.00         2\n",
      "              Мир       0.00      0.00      0.00         1\n",
      "   Интернет и СМИ       0.00      0.00      0.00         2\n",
      "          Легпром       0.00      0.00      0.00         1\n",
      "   69-я параллель       0.00      0.00      0.00         1\n",
      "Силовые структуры       0.00      0.00      0.00         2\n",
      "\n",
      "        micro avg       0.10      0.10      0.10        31\n",
      "        macro avg       0.01      0.06      0.01        31\n",
      "     weighted avg       0.01      0.10      0.02        31\n",
      "\n"
     ]
    }
   ],
   "source": [
    "print(classification_report(y_valid.argmax(1), pred, labels=list(range(len(label2id))),\n",
    "                            target_names=list(label2id), zero_division=0))"
   ]
  },
  {
   "cell_type": "markdown",
   "metadata": {},
   "source": [
    "Дообучение с замораживанием может не работать, давайте попробуем обучать все сразу"
   ]
  },
  {
   "cell_type": "markdown",
   "metadata": {},
   "source": [
    "#### Дообучение без замораживания "
   ]
  },
  {
   "cell_type": "code",
   "execution_count": 23,
   "metadata": {},
   "outputs": [
    {
     "name": "stderr",
     "output_type": "stream",
     "text": [
      "Some layers from the model checkpoint at bert-base-multilingual-uncased were not used when initializing TFBertModel: ['mlm___cls', 'nsp___cls']\n",
      "- This IS expected if you are initializing TFBertModel from the checkpoint of a model trained on another task or with another architecture (e.g. initializing a BertForSequenceClassification model from a BertForPreTraining model).\n",
      "- This IS NOT expected if you are initializing TFBertModel from the checkpoint of a model that you expect to be exactly identical (initializing a BertForSequenceClassification model from a BertForSequenceClassification model).\n",
      "All the layers of TFBertModel were initialized from the model checkpoint at bert-base-multilingual-uncased.\n",
      "If your task is similar to the task the model of the checkpoint was trained on, you can already use TFBertModel for predictions without further training.\n"
     ]
    }
   ],
   "source": [
    "model_bert = TFAutoModel.from_pretrained('bert-base-multilingual-uncased', trainable=True)"
   ]
  },
  {
   "cell_type": "code",
   "execution_count": 24,
   "metadata": {},
   "outputs": [],
   "source": [
    "\n",
    "input_word_ids = tf.keras.layers.Input(shape=(512,), dtype=tf.int32,\n",
    "                                     name=\"input_ids\")\n",
    "\n",
    "output = model_bert({\"input_ids\":input_word_ids})\n",
    "drop = tf.keras.layers.Dropout(0.3)(output[0][:, 0]) \n",
    "dense = tf.keras.layers.Dense(y.shape[1], activation='softmax')(drop)\n",
    "\n",
    "model_clf = tf.keras.Model(inputs=input_word_ids, outputs=dense)\n",
    "\n",
    "\n",
    "model_clf.compile(tf.optimizers.Adam(learning_rate=2e-6,\n",
    "                                    ), \n",
    "                  loss='categorical_crossentropy', \n",
    "                  metrics=['accuracy', \n",
    "                           tf.keras.metrics.RecallAtPrecision(0.80, name='rec_prec')])\n",
    "\n",
    "\n"
   ]
  },
  {
   "cell_type": "markdown",
   "metadata": {},
   "source": [
    "Батч сайз нужно поставить еще меньше"
   ]
  },
  {
   "cell_type": "code",
   "execution_count": 25,
   "metadata": {},
   "outputs": [
    {
     "name": "stdout",
     "output_type": "stream",
     "text": [
      "Epoch 1/20\n",
      "WARNING:tensorflow:Gradients do not exist for variables ['tf_bert_model_1/bert/pooler/dense/kernel:0', 'tf_bert_model_1/bert/pooler/dense/bias:0'] when minimizing the loss. If you're using `model.compile()`, did you forget to provide a `loss`argument?\n",
      "WARNING:tensorflow:Gradients do not exist for variables ['tf_bert_model_1/bert/pooler/dense/kernel:0', 'tf_bert_model_1/bert/pooler/dense/bias:0'] when minimizing the loss. If you're using `model.compile()`, did you forget to provide a `loss`argument?\n",
      "288/288 [==============================] - 31s 92ms/step - loss: 2.8437 - accuracy: 0.0851 - rec_prec: 0.0000e+00 - val_loss: 2.7307 - val_accuracy: 0.0968 - val_rec_prec: 0.0000e+00\n",
      "Epoch 2/20\n",
      "288/288 [==============================] - 25s 88ms/step - loss: 2.7791 - accuracy: 0.0885 - rec_prec: 0.0000e+00 - val_loss: 2.7410 - val_accuracy: 0.1613 - val_rec_prec: 0.0000e+00\n",
      "Epoch 3/20\n",
      "288/288 [==============================] - 25s 88ms/step - loss: 2.7786 - accuracy: 0.0677 - rec_prec: 0.0000e+00 - val_loss: 2.7184 - val_accuracy: 0.1290 - val_rec_prec: 0.0000e+00\n",
      "Epoch 4/20\n",
      "288/288 [==============================] - 25s 88ms/step - loss: 2.7647 - accuracy: 0.0747 - rec_prec: 0.0000e+00 - val_loss: 2.6952 - val_accuracy: 0.1935 - val_rec_prec: 0.0323\n",
      "Epoch 5/20\n",
      "288/288 [==============================] - 25s 88ms/step - loss: 2.7431 - accuracy: 0.0990 - rec_prec: 0.0017 - val_loss: 2.6651 - val_accuracy: 0.1613 - val_rec_prec: 0.0323\n",
      "Epoch 6/20\n",
      "288/288 [==============================] - 25s 88ms/step - loss: 2.6260 - accuracy: 0.1736 - rec_prec: 0.0000e+00 - val_loss: 2.5356 - val_accuracy: 0.2581 - val_rec_prec: 0.0000e+00\n",
      "Epoch 7/20\n",
      "288/288 [==============================] - 25s 88ms/step - loss: 2.2854 - accuracy: 0.2986 - rec_prec: 0.0104 - val_loss: 2.2169 - val_accuracy: 0.3226 - val_rec_prec: 0.0000e+00\n",
      "Epoch 8/20\n",
      "288/288 [==============================] - 25s 88ms/step - loss: 1.8590 - accuracy: 0.4410 - rec_prec: 0.0660 - val_loss: 2.0029 - val_accuracy: 0.3871 - val_rec_prec: 0.2581\n",
      "Epoch 9/20\n",
      "288/288 [==============================] - 25s 88ms/step - loss: 1.4457 - accuracy: 0.5799 - rec_prec: 0.2951 - val_loss: 2.0405 - val_accuracy: 0.4516 - val_rec_prec: 0.0000e+00\n",
      "Epoch 10/20\n",
      "288/288 [==============================] - 25s 88ms/step - loss: 1.1602 - accuracy: 0.6441 - rec_prec: 0.4983 - val_loss: 1.9882 - val_accuracy: 0.4194 - val_rec_prec: 0.2903\n",
      "Epoch 11/20\n",
      "288/288 [==============================] - 25s 88ms/step - loss: 1.0250 - accuracy: 0.6892 - rec_prec: 0.5781 - val_loss: 1.8119 - val_accuracy: 0.4516 - val_rec_prec: 0.2581\n",
      "Epoch 12/20\n",
      "288/288 [==============================] - 25s 88ms/step - loss: 0.8115 - accuracy: 0.7517 - rec_prec: 0.7326 - val_loss: 1.8814 - val_accuracy: 0.4194 - val_rec_prec: 0.0000e+00\n",
      "Epoch 13/20\n",
      "288/288 [==============================] - 25s 88ms/step - loss: 0.7020 - accuracy: 0.7708 - rec_prec: 0.7413 - val_loss: 1.7441 - val_accuracy: 0.4516 - val_rec_prec: 0.3548\n",
      "Epoch 14/20\n",
      "288/288 [==============================] - 25s 88ms/step - loss: 0.5759 - accuracy: 0.8351 - rec_prec: 0.8715 - val_loss: 1.8578 - val_accuracy: 0.3871 - val_rec_prec: 0.3226\n",
      "Epoch 15/20\n",
      "288/288 [==============================] - 25s 87ms/step - loss: 0.4750 - accuracy: 0.8767 - rec_prec: 0.9236 - val_loss: 1.8639 - val_accuracy: 0.5484 - val_rec_prec: 0.2581\n",
      "Epoch 16/20\n",
      "288/288 [==============================] - 25s 88ms/step - loss: 0.3683 - accuracy: 0.9028 - rec_prec: 0.9653 - val_loss: 1.7511 - val_accuracy: 0.6129 - val_rec_prec: 0.2581\n",
      "Epoch 17/20\n",
      "288/288 [==============================] - 25s 88ms/step - loss: 0.3101 - accuracy: 0.9253 - rec_prec: 0.9792 - val_loss: 1.6153 - val_accuracy: 0.5484 - val_rec_prec: 0.4516\n",
      "Epoch 18/20\n",
      "288/288 [==============================] - 25s 88ms/step - loss: 0.2567 - accuracy: 0.9358 - rec_prec: 0.9931 - val_loss: 1.9242 - val_accuracy: 0.4516 - val_rec_prec: 0.4194\n",
      "Epoch 19/20\n",
      "288/288 [==============================] - 25s 88ms/step - loss: 0.2181 - accuracy: 0.9531 - rec_prec: 0.9931 - val_loss: 1.8727 - val_accuracy: 0.5161 - val_rec_prec: 0.4194\n",
      "Epoch 20/20\n",
      "288/288 [==============================] - 25s 88ms/step - loss: 0.1657 - accuracy: 0.9688 - rec_prec: 0.9983 - val_loss: 2.0603 - val_accuracy: 0.4839 - val_rec_prec: 0.3871\n"
     ]
    },
    {
     "data": {
      "text/plain": [
       "<keras.callbacks.History at 0x7ff8800c3b80>"
      ]
     },
     "execution_count": 25,
     "metadata": {},
     "output_type": "execute_result"
    }
   ],
   "source": [
    "model_clf.fit(X_train, y_train, \n",
    "          validation_data=(X_valid, y_valid),\n",
    "          batch_size=2,\n",
    "         epochs=20)"
   ]
  },
  {
   "cell_type": "code",
   "execution_count": 26,
   "metadata": {},
   "outputs": [
    {
     "name": "stdout",
     "output_type": "stream",
     "text": [
      "dict_keys(['loss', 'accuracy', 'rec_prec', 'val_loss', 'val_accuracy', 'val_rec_prec'])\n"
     ]
    },
    {
     "data": {
      "image/png": "[encoded data removed]",
      "text/plain": [
       "<Figure size 432x288 with 1 Axes>"
      ]
     },
     "metadata": {
      "needs_background": "light"
     },
     "output_type": "display_data"
    }
   ],
   "source": [
    "print(model_clf.history.history.keys())\n",
    "plt.plot(model_clf.history.history['accuracy'])\n",
    "plt.plot(model_clf.history.history['val_accuracy'])\n",
    "plt.title('model rec_prec')\n",
    "plt.ylabel('rec_prec')\n",
    "plt.xlabel('epoch')\n",
    "plt.legend(['train', 'val'], loc='upper left')\n",
    "plt.show()"
   ]
  },
  {
   "cell_type": "code",
   "execution_count": 28,
   "metadata": {},
   "outputs": [],
   "source": [
    "from sklearn.metrics import classification_report"
   ]
  },
  {
   "cell_type": "code",
   "execution_count": 29,
   "metadata": {},
   "outputs": [],
   "source": [
    "pred = model_clf.predict(X_valid, batch_size=5).argmax(1)"
   ]
  },
  {
   "cell_type": "code",
   "execution_count": 30,
   "metadata": {},
   "outputs": [
    {
     "name": "stdout",
     "output_type": "stream",
     "text": [
      "                   precision    recall  f1-score   support\n",
      "\n",
      "Силовые структуры       0.00      0.00      0.00         2\n",
      "        Экономика       0.00      0.00      0.00         2\n",
      "      Бывший СССР       1.00      0.33      0.50         3\n",
      "   Интернет и СМИ       0.00      0.00      0.00         2\n",
      "         Ценности       0.50      1.00      0.67         2\n",
      "          Легпром       0.00      0.00      0.00         1\n",
      "  Наука и техника       1.00      0.33      0.50         3\n",
      "              Мир       0.00      0.00      0.00         1\n",
      "         Культура       1.00      1.00      1.00         3\n",
      "              Дом       0.67      1.00      0.80         2\n",
      "           Бизнес       0.25      0.50      0.33         2\n",
      "         Из жизни       0.25      0.33      0.29         3\n",
      "            Спорт       1.00      0.50      0.67         2\n",
      "   69-я параллель       0.50      1.00      0.67         1\n",
      "           Россия       0.50      1.00      0.67         2\n",
      "             Крым       0.00      0.00      0.00         0\n",
      "       Библиотека       0.00      0.00      0.00         0\n",
      "\n",
      "        micro avg       0.48      0.48      0.48        31\n",
      "        macro avg       0.39      0.41      0.36        31\n",
      "     weighted avg       0.52      0.48      0.44        31\n",
      "\n"
     ]
    }
   ],
   "source": [
    "print(classification_report(y_valid.argmax(1), pred, labels=list(range(len(label2id))),\n",
    "                            target_names=list(label2id), zero_division=0))"
   ]
  },
  {
   "cell_type": "markdown",
   "metadata": {},
   "source": [
    "Ф-мера выглядит не очень, но нужно помнить, что мы обучились на 600 примерах. Для сравнения можно попробовать обучить лстм на тех же данных."
   ]
  },
  {
   "cell_type": "code",
   "execution_count": 31,
   "metadata": {},
   "outputs": [],
   "source": [
    "\n",
    "def preprocess(text):\n",
    "    tokens = text.lower().split()\n",
    "    tokens = [token.strip(punctuation) for token in tokens]\n",
    "    return tokens\n",
    "\n",
    "vocab = Counter()\n",
    "\n",
    "for text in data.title:\n",
    "    vocab.update(preprocess(text))\n",
    "\n",
    "# индексируем слова\n",
    "word2id = {'PAD':0}\n",
    "\n",
    "for word in vocab:\n",
    "    word2id[word] = len(word2id)\n",
    "\n",
    "id2word = {i:word for word, i in word2id.items()}\n",
    "\n",
    "X = []\n",
    "\n",
    "for text in data.title:\n",
    "    tokens = preprocess(text)\n",
    "    ids = [word2id[token] for token in tokens]\n",
    "    X.append(ids)\n",
    "\n",
    "MAX_LEN = max(len(x) for x in X)\n",
    "\n",
    "\n",
    "# паддинг\n",
    "X = tf.keras.preprocessing.sequence.pad_sequences(X, padding='post', maxlen=MAX_LEN)\n",
    "\n",
    "\n",
    "id2label = {i:label for i, label in enumerate(set(data.topic.values))}\n",
    "label2id = {l:i for i, l in id2label.items()}\n",
    "\n",
    "y = tf.keras.utils.to_categorical([label2id[label] for label in data.topic.values])\n",
    "\n",
    "\n",
    "X_train, X_valid, y_train, y_valid = train_test_split(X, y, test_size=0.05, stratify=data.topic)"
   ]
  },
  {
   "cell_type": "code",
   "execution_count": 41,
   "metadata": {},
   "outputs": [],
   "source": [
    "inputs = tf.keras.layers.Input(shape=(MAX_LEN,))\n",
    "embeddings = tf.keras.layers.Embedding(input_dim=len(word2id), output_dim=30)(inputs, )\n",
    "\n",
    "lstm = tf.keras.layers.LSTM(128, return_sequences=False)(embeddings)\n",
    "\n",
    "outputs = tf.keras.layers.Dense(len(label2id), activation='softmax')(lstm)\n",
    "\n",
    "model = tf.keras.Model(inputs=inputs, outputs=outputs)\n",
    "optimizer = tf.keras.optimizers.Adam(learning_rate=0.001)\n",
    "model.compile(optimizer=optimizer,\n",
    "              loss='categorical_crossentropy',\n",
    "              metrics=['accuracy'])\n"
   ]
  },
  {
   "cell_type": "code",
   "execution_count": 42,
   "metadata": {},
   "outputs": [
    {
     "name": "stdout",
     "output_type": "stream",
     "text": [
      "Model: \"model_3\"\n",
      "_________________________________________________________________\n",
      " Layer (type)                Output Shape              Param #   \n",
      "=================================================================\n",
      " input_3 (InputLayer)        [(None, 13)]              0         \n",
      "                                                                 \n",
      " embedding_2 (Embedding)     (None, 13, 30)            93060     \n",
      "                                                                 \n",
      " lstm_2 (LSTM)               (None, 128)               81408     \n",
      "                                                                 \n",
      " dense_3 (Dense)             (None, 17)                2193      \n",
      "                                                                 \n",
      "=================================================================\n",
      "Total params: 176,661\n",
      "Trainable params: 176,661\n",
      "Non-trainable params: 0\n",
      "_________________________________________________________________\n"
     ]
    }
   ],
   "source": [
    "model.summary()"
   ]
  },
  {
   "cell_type": "code",
   "execution_count": 43,
   "metadata": {
    "scrolled": true
   },
   "outputs": [
    {
     "name": "stdout",
     "output_type": "stream",
     "text": [
      "Epoch 1/50\n",
      "18/18 [==============================] - 1s 14ms/step - loss: 2.8162 - accuracy: 0.0729 - val_loss: 2.7711 - val_accuracy: 0.0968\n",
      "Epoch 2/50\n",
      "18/18 [==============================] - 0s 2ms/step - loss: 2.7351 - accuracy: 0.0642 - val_loss: 2.6892 - val_accuracy: 0.0968\n",
      "Epoch 3/50\n",
      "18/18 [==============================] - 0s 2ms/step - loss: 2.6613 - accuracy: 0.0851 - val_loss: 2.6483 - val_accuracy: 0.0968\n",
      "Epoch 4/50\n",
      "18/18 [==============================] - 0s 2ms/step - loss: 2.3986 - accuracy: 0.1128 - val_loss: 2.5514 - val_accuracy: 0.1613\n",
      "Epoch 5/50\n",
      "18/18 [==============================] - 0s 2ms/step - loss: 2.2006 - accuracy: 0.1458 - val_loss: 2.6177 - val_accuracy: 0.1290\n",
      "Epoch 6/50\n",
      "18/18 [==============================] - 0s 2ms/step - loss: 2.0251 - accuracy: 0.2049 - val_loss: 2.7911 - val_accuracy: 0.0968\n",
      "Epoch 7/50\n",
      "18/18 [==============================] - 0s 2ms/step - loss: 1.8497 - accuracy: 0.2917 - val_loss: 3.2586 - val_accuracy: 0.1613\n",
      "Epoch 8/50\n",
      "18/18 [==============================] - 0s 2ms/step - loss: 1.7228 - accuracy: 0.3177 - val_loss: 3.8721 - val_accuracy: 0.0645\n",
      "Epoch 9/50\n",
      "18/18 [==============================] - 0s 2ms/step - loss: 1.5600 - accuracy: 0.3924 - val_loss: 3.8411 - val_accuracy: 0.0645\n",
      "Epoch 10/50\n",
      "18/18 [==============================] - 0s 2ms/step - loss: 1.3515 - accuracy: 0.4635 - val_loss: 4.1551 - val_accuracy: 0.0645\n",
      "Epoch 11/50\n",
      "18/18 [==============================] - 0s 2ms/step - loss: 1.1789 - accuracy: 0.5521 - val_loss: 4.9646 - val_accuracy: 0.0323\n",
      "Epoch 12/50\n",
      "18/18 [==============================] - 0s 2ms/step - loss: 1.0983 - accuracy: 0.5538 - val_loss: 4.9894 - val_accuracy: 0.0000e+00\n",
      "Epoch 13/50\n",
      "18/18 [==============================] - 0s 2ms/step - loss: 0.9929 - accuracy: 0.6059 - val_loss: 5.0363 - val_accuracy: 0.0323\n",
      "Epoch 14/50\n",
      "18/18 [==============================] - 0s 2ms/step - loss: 0.9389 - accuracy: 0.6389 - val_loss: 5.1786 - val_accuracy: 0.0323\n",
      "Epoch 15/50\n",
      "18/18 [==============================] - 0s 2ms/step - loss: 0.7653 - accuracy: 0.7431 - val_loss: 5.3990 - val_accuracy: 0.0645\n",
      "Epoch 16/50\n",
      "18/18 [==============================] - 0s 2ms/step - loss: 0.5789 - accuracy: 0.8368 - val_loss: 5.7955 - val_accuracy: 0.0323\n",
      "Epoch 17/50\n",
      "18/18 [==============================] - 0s 2ms/step - loss: 0.4664 - accuracy: 0.8611 - val_loss: 6.1752 - val_accuracy: 0.0323\n",
      "Epoch 18/50\n",
      "18/18 [==============================] - 0s 2ms/step - loss: 0.3884 - accuracy: 0.8837 - val_loss: 6.5543 - val_accuracy: 0.0323\n",
      "Epoch 19/50\n",
      "18/18 [==============================] - 0s 2ms/step - loss: 0.3799 - accuracy: 0.8872 - val_loss: 6.7627 - val_accuracy: 0.0000e+00\n",
      "Epoch 20/50\n",
      "18/18 [==============================] - 0s 2ms/step - loss: 0.3244 - accuracy: 0.9028 - val_loss: 6.8807 - val_accuracy: 0.0323\n",
      "Epoch 21/50\n",
      "18/18 [==============================] - 0s 2ms/step - loss: 0.2932 - accuracy: 0.9219 - val_loss: 7.0021 - val_accuracy: 0.0323\n",
      "Epoch 22/50\n",
      "18/18 [==============================] - 0s 2ms/step - loss: 0.2937 - accuracy: 0.9167 - val_loss: 7.4604 - val_accuracy: 0.0645\n",
      "Epoch 23/50\n",
      "18/18 [==============================] - 0s 2ms/step - loss: 0.2315 - accuracy: 0.9271 - val_loss: 7.1362 - val_accuracy: 0.0645\n",
      "Epoch 24/50\n",
      "18/18 [==============================] - 0s 2ms/step - loss: 0.1477 - accuracy: 0.9688 - val_loss: 7.1336 - val_accuracy: 0.0323\n",
      "Epoch 25/50\n",
      "18/18 [==============================] - 0s 2ms/step - loss: 0.1295 - accuracy: 0.9705 - val_loss: 7.5310 - val_accuracy: 0.0645\n",
      "Epoch 26/50\n",
      "18/18 [==============================] - 0s 2ms/step - loss: 0.1062 - accuracy: 0.9792 - val_loss: 7.1313 - val_accuracy: 0.0323\n",
      "Epoch 27/50\n",
      "18/18 [==============================] - 0s 2ms/step - loss: 0.0900 - accuracy: 0.9844 - val_loss: 7.5880 - val_accuracy: 0.0323\n",
      "Epoch 28/50\n",
      "18/18 [==============================] - 0s 2ms/step - loss: 0.0810 - accuracy: 0.9878 - val_loss: 7.6163 - val_accuracy: 0.0645\n",
      "Epoch 29/50\n",
      "18/18 [==============================] - 0s 2ms/step - loss: 0.0674 - accuracy: 0.9931 - val_loss: 7.6164 - val_accuracy: 0.0645\n",
      "Epoch 30/50\n",
      "18/18 [==============================] - 0s 2ms/step - loss: 0.0618 - accuracy: 0.9965 - val_loss: 7.6558 - val_accuracy: 0.0645\n",
      "Epoch 31/50\n",
      "18/18 [==============================] - 0s 2ms/step - loss: 0.0530 - accuracy: 0.9948 - val_loss: 7.7527 - val_accuracy: 0.0645\n",
      "Epoch 32/50\n",
      "18/18 [==============================] - 0s 2ms/step - loss: 0.0385 - accuracy: 0.9983 - val_loss: 7.7974 - val_accuracy: 0.0323\n",
      "Epoch 33/50\n",
      "18/18 [==============================] - 0s 2ms/step - loss: 0.0284 - accuracy: 1.0000 - val_loss: 7.7886 - val_accuracy: 0.0645\n",
      "Epoch 34/50\n",
      "18/18 [==============================] - 0s 2ms/step - loss: 0.0240 - accuracy: 1.0000 - val_loss: 7.9705 - val_accuracy: 0.0645\n",
      "Epoch 35/50\n",
      "18/18 [==============================] - 0s 2ms/step - loss: 0.0211 - accuracy: 1.0000 - val_loss: 7.9637 - val_accuracy: 0.0645\n",
      "Epoch 36/50\n",
      "18/18 [==============================] - 0s 2ms/step - loss: 0.0189 - accuracy: 1.0000 - val_loss: 8.0197 - val_accuracy: 0.0645\n",
      "Epoch 37/50\n",
      "18/18 [==============================] - 0s 2ms/step - loss: 0.0170 - accuracy: 1.0000 - val_loss: 8.0520 - val_accuracy: 0.0645\n",
      "Epoch 38/50\n",
      "18/18 [==============================] - 0s 2ms/step - loss: 0.0155 - accuracy: 1.0000 - val_loss: 8.0837 - val_accuracy: 0.0645\n",
      "Epoch 39/50\n",
      "18/18 [==============================] - 0s 2ms/step - loss: 0.0141 - accuracy: 1.0000 - val_loss: 8.1199 - val_accuracy: 0.0645\n",
      "Epoch 40/50\n",
      "18/18 [==============================] - 0s 2ms/step - loss: 0.0130 - accuracy: 1.0000 - val_loss: 8.1520 - val_accuracy: 0.0645\n",
      "Epoch 41/50\n",
      "18/18 [==============================] - 0s 2ms/step - loss: 0.0120 - accuracy: 1.0000 - val_loss: 8.1884 - val_accuracy: 0.0645\n",
      "Epoch 42/50\n",
      "18/18 [==============================] - 0s 2ms/step - loss: 0.0112 - accuracy: 1.0000 - val_loss: 8.2208 - val_accuracy: 0.0645\n",
      "Epoch 43/50\n",
      "18/18 [==============================] - 0s 2ms/step - loss: 0.0104 - accuracy: 1.0000 - val_loss: 8.2496 - val_accuracy: 0.0645\n",
      "Epoch 44/50\n",
      "18/18 [==============================] - 0s 2ms/step - loss: 0.0097 - accuracy: 1.0000 - val_loss: 8.2885 - val_accuracy: 0.0645\n",
      "Epoch 45/50\n",
      "18/18 [==============================] - 0s 2ms/step - loss: 0.0092 - accuracy: 1.0000 - val_loss: 8.3067 - val_accuracy: 0.0645\n",
      "Epoch 46/50\n",
      "18/18 [==============================] - 0s 2ms/step - loss: 0.0086 - accuracy: 1.0000 - val_loss: 8.3418 - val_accuracy: 0.0645\n",
      "Epoch 47/50\n",
      "18/18 [==============================] - 0s 2ms/step - loss: 0.0081 - accuracy: 1.0000 - val_loss: 8.3619 - val_accuracy: 0.0645\n",
      "Epoch 48/50\n",
      "18/18 [==============================] - 0s 2ms/step - loss: 0.0077 - accuracy: 1.0000 - val_loss: 8.3884 - val_accuracy: 0.0645\n",
      "Epoch 49/50\n",
      "18/18 [==============================] - 0s 2ms/step - loss: 0.0073 - accuracy: 1.0000 - val_loss: 8.4162 - val_accuracy: 0.0645\n",
      "Epoch 50/50\n",
      "18/18 [==============================] - 0s 2ms/step - loss: 0.0069 - accuracy: 1.0000 - val_loss: 8.4390 - val_accuracy: 0.0645\n"
     ]
    },
    {
     "data": {
      "text/plain": [
       "<keras.callbacks.History at 0x7ff7c485aa00>"
      ]
     },
     "execution_count": 43,
     "metadata": {},
     "output_type": "execute_result"
    }
   ],
   "source": [
    "model.fit(X_train, y_train, \n",
    "          validation_data=(X_valid, y_valid),\n",
    "          batch_size=32,\n",
    "          epochs=50)"
   ]
  },
  {
   "cell_type": "code",
   "execution_count": 44,
   "metadata": {},
   "outputs": [
    {
     "name": "stdout",
     "output_type": "stream",
     "text": [
      "dict_keys(['loss', 'accuracy', 'val_loss', 'val_accuracy'])\n"
     ]
    },
    {
     "data": {
      "image/png": "[encoded data removed]",
      "text/plain": [
       "<Figure size 432x288 with 1 Axes>"
      ]
     },
     "metadata": {
      "needs_background": "light"
     },
     "output_type": "display_data"
    }
   ],
   "source": [
    "print(model.history.history.keys())\n",
    "plt.plot(model.history.history['accuracy'])\n",
    "plt.plot(model.history.history['val_accuracy'])\n",
    "plt.title('model rec_prec')\n",
    "plt.ylabel('rec_prec')\n",
    "plt.xlabel('epoch')\n",
    "plt.legend(['train', 'val'], loc='upper left')\n",
    "plt.show()"
   ]
  },
  {
   "cell_type": "code",
   "execution_count": 45,
   "metadata": {},
   "outputs": [
    {
     "name": "stdout",
     "output_type": "stream",
     "text": [
      "                   precision    recall  f1-score   support\n",
      "\n",
      "Силовые структуры       0.00      0.00      0.00         2\n",
      "        Экономика       0.25      0.50      0.33         2\n",
      "      Бывший СССР       0.00      0.00      0.00         3\n",
      "   Интернет и СМИ       0.00      0.00      0.00         2\n",
      "         Ценности       0.00      0.00      0.00         2\n",
      "          Легпром       0.00      0.00      0.00         1\n",
      "  Наука и техника       0.00      0.00      0.00         3\n",
      "              Мир       0.00      0.00      0.00         1\n",
      "         Культура       0.00      0.00      0.00         3\n",
      "              Дом       0.00      0.00      0.00         2\n",
      "           Бизнес       0.08      0.50      0.14         2\n",
      "         Из жизни       0.00      0.00      0.00         3\n",
      "            Спорт       0.00      0.00      0.00         2\n",
      "   69-я параллель       0.00      0.00      0.00         1\n",
      "           Россия       0.00      0.00      0.00         2\n",
      "             Крым       0.00      0.00      0.00         0\n",
      "       Библиотека       0.00      0.00      0.00         0\n",
      "\n",
      "        micro avg       0.06      0.06      0.06        31\n",
      "        macro avg       0.02      0.06      0.03        31\n",
      "     weighted avg       0.02      0.06      0.03        31\n",
      "\n"
     ]
    }
   ],
   "source": [
    "pred = model.predict(X_valid, batch_size=5).argmax(1)\n",
    "\n",
    "print(classification_report(y_valid.argmax(1), pred, labels=list(range(len(label2id))),\n",
    "                            target_names=list(label2id), zero_division=0))"
   ]
  },
  {
   "cell_type": "markdown",
   "metadata": {},
   "source": [
    "Модель очень сильно переобучается. Она полностью выучивает обучающую выборку, но с предсказанием новых данных все очень плохо (разрыв в качестве с предобученной моделью огромный). Увеличение количества параметров не поможет - будет точно такая же картина. Для того, чтобы увеличить качество необходимо больше данных. "
   ]
  },
  {
   "cell_type": "code",
   "execution_count": null,
   "metadata": {},
   "outputs": [],
   "source": []
  }
 ],
 "metadata": {
  "kernelspec": {
   "display_name": "Python 3 (ipykernel)",
   "language": "python",
   "name": "python3"
  },
  "language_info": {
   "codemirror_mode": {
    "name": "ipython",
    "version": 3
   },
   "file_extension": ".py",
   "mimetype": "text/x-python",
   "name": "python",
   "nbconvert_exporter": "python",
   "pygments_lexer": "ipython3",
   "version": "3.8.10"
  }
 },
 "nbformat": 4,
 "nbformat_minor": 4
}
