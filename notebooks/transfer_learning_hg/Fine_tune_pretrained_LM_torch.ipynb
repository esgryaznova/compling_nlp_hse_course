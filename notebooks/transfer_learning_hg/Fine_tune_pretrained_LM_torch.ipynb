{
 "cells": [
  {
   "cell_type": "code",
   "execution_count": 1,
   "metadata": {},
   "outputs": [
    {
     "name": "stdout",
     "output_type": "stream",
     "text": [
      "Reading package lists... Done\n",
      "Building dependency tree       \n",
      "Reading state information... Done\n",
      "Suggested packages:\n",
      "  zip\n",
      "The following NEW packages will be installed:\n",
      "  unzip\n",
      "0 upgraded, 1 newly installed, 0 to remove and 10 not upgraded.\n",
      "Need to get 168 kB of archives.\n",
      "After this operation, 567 kB of additional disk space will be used.\n",
      "Get:1 http://archive.ubuntu.com/ubuntu bionic-updates/main amd64 unzip amd64 6.0-21ubuntu1.1 [168 kB]\n",
      "Fetched 168 kB in 2s (100 kB/s) \n",
      "debconf: delaying package configuration, since apt-utils is not installed\n",
      "Selecting previously unselected package unzip.\n",
      "(Reading database ... 6773 files and directories currently installed.)\n",
      "Preparing to unpack .../unzip_6.0-21ubuntu1.1_amd64.deb ...\n",
      "Unpacking unzip (6.0-21ubuntu1.1) ...\n",
      "Setting up unzip (6.0-21ubuntu1.1) ...\n"
     ]
    }
   ],
   "source": [
    "!apt-get install unzip"
   ]
  },
  {
   "cell_type": "code",
   "execution_count": 2,
   "metadata": {
    "scrolled": true
   },
   "outputs": [
    {
     "name": "stdout",
     "output_type": "stream",
     "text": [
      "Archive:  data.zip\n",
      "  inflating: lenta_sample.csv        \n",
      "  inflating: __MACOSX/._lenta_sample.csv  \n"
     ]
    }
   ],
   "source": [
    "!unzip data.zip"
   ]
  },
  {
   "cell_type": "code",
   "execution_count": 41,
   "metadata": {
    "scrolled": true
   },
   "outputs": [
    {
     "name": "stdout",
     "output_type": "stream",
     "text": [
      "Requirement already satisfied: transformers in /opt/conda/lib/python3.8/site-packages (4.6.1)\n",
      "Requirement already satisfied: sklearn in /opt/conda/lib/python3.8/site-packages (0.0)\n",
      "Requirement already satisfied: pandas in /opt/conda/lib/python3.8/site-packages (1.2.4)\n",
      "Collecting matplotlib\n",
      "  Downloading matplotlib-3.4.2-cp38-cp38-manylinux1_x86_64.whl (10.3 MB)\n",
      "\u001b[K     |████████████████████████████████| 10.3 MB 1.5 MB/s eta 0:00:01\n",
      "\u001b[?25hRequirement already satisfied: tqdm>=4.27 in /opt/conda/lib/python3.8/site-packages (from transformers) (4.51.0)\n",
      "Requirement already satisfied: packaging in /opt/conda/lib/python3.8/site-packages (from transformers) (20.9)\n",
      "Requirement already satisfied: numpy>=1.17 in /opt/conda/lib/python3.8/site-packages (from transformers) (1.19.2)\n",
      "Requirement already satisfied: requests in /opt/conda/lib/python3.8/site-packages (from transformers) (2.24.0)\n",
      "Requirement already satisfied: tokenizers<0.11,>=0.10.1 in /opt/conda/lib/python3.8/site-packages (from transformers) (0.10.3)\n",
      "Requirement already satisfied: sacremoses in /opt/conda/lib/python3.8/site-packages (from transformers) (0.0.45)\n",
      "Requirement already satisfied: regex!=2019.12.17 in /opt/conda/lib/python3.8/site-packages (from transformers) (2021.4.4)\n",
      "Requirement already satisfied: filelock in /opt/conda/lib/python3.8/site-packages (from transformers) (3.0.12)\n",
      "Requirement already satisfied: huggingface-hub==0.0.8 in /opt/conda/lib/python3.8/site-packages (from transformers) (0.0.8)\n",
      "Requirement already satisfied: scikit-learn in /opt/conda/lib/python3.8/site-packages (from sklearn) (0.24.2)\n",
      "Requirement already satisfied: pytz>=2017.3 in /opt/conda/lib/python3.8/site-packages (from pandas) (2021.1)\n",
      "Requirement already satisfied: python-dateutil>=2.7.3 in /opt/conda/lib/python3.8/site-packages (from pandas) (2.8.1)\n",
      "Requirement already satisfied: pillow>=6.2.0 in /opt/conda/lib/python3.8/site-packages (from matplotlib) (8.1.2)\n",
      "Requirement already satisfied: pyparsing>=2.2.1 in /opt/conda/lib/python3.8/site-packages (from matplotlib) (2.4.7)\n",
      "Collecting kiwisolver>=1.0.1\n",
      "  Downloading kiwisolver-1.3.1-cp38-cp38-manylinux1_x86_64.whl (1.2 MB)\n",
      "\u001b[K     |████████████████████████████████| 1.2 MB 14.8 MB/s eta 0:00:01\n",
      "\u001b[?25hCollecting cycler>=0.10\n",
      "  Downloading cycler-0.10.0-py2.py3-none-any.whl (6.5 kB)\n",
      "Requirement already satisfied: certifi>=2017.4.17 in /opt/conda/lib/python3.8/site-packages (from requests->transformers) (2020.12.5)\n",
      "Requirement already satisfied: chardet<4,>=3.0.2 in /opt/conda/lib/python3.8/site-packages (from requests->transformers) (3.0.4)\n",
      "Requirement already satisfied: idna<3,>=2.5 in /opt/conda/lib/python3.8/site-packages (from requests->transformers) (2.10)\n",
      "Requirement already satisfied: urllib3!=1.25.0,!=1.25.1,<1.26,>=1.21.1 in /opt/conda/lib/python3.8/site-packages (from requests->transformers) (1.25.11)\n",
      "Requirement already satisfied: click in /opt/conda/lib/python3.8/site-packages (from sacremoses->transformers) (8.0.1)\n",
      "Requirement already satisfied: six in /opt/conda/lib/python3.8/site-packages (from sacremoses->transformers) (1.15.0)\n",
      "Requirement already satisfied: joblib in /opt/conda/lib/python3.8/site-packages (from sacremoses->transformers) (1.0.1)\n",
      "Requirement already satisfied: threadpoolctl>=2.0.0 in /opt/conda/lib/python3.8/site-packages (from scikit-learn->sklearn) (2.1.0)\n",
      "Requirement already satisfied: scipy>=0.19.1 in /opt/conda/lib/python3.8/site-packages (from scikit-learn->sklearn) (1.6.3)\n",
      "Installing collected packages: kiwisolver, cycler, matplotlib\n",
      "Successfully installed cycler-0.10.0 kiwisolver-1.3.1 matplotlib-3.4.2\n"
     ]
    }
   ],
   "source": [
    "!pip install transformers sklearn pandas matplotlib"
   ]
  },
  {
   "cell_type": "code",
   "execution_count": 48,
   "metadata": {
    "scrolled": true
   },
   "outputs": [],
   "source": [
    "# стандартные библиотеки\n",
    "import os, re\n",
    "import numpy as np\n",
    "from time import time\n",
    "from sklearn.model_selection import train_test_split\n",
    "import pandas as pd\n",
    "from collections import Counter\n",
    "from string import punctuation\n",
    "import matplotlib.pyplot as plt\n",
    "%matplotlib inline\n",
    "\n",
    "\n",
    "# pytortch и huggingface \n",
    "import torch\n",
    "import torch.nn as nn\n",
    "import torch.nn.functional as F\n",
    "import torch.optim as optim\n",
    "import torch.utils.data\n",
    "from transformers import AutoModel\n",
    "from transformers import AutoTokenizer\n"
   ]
  },
  {
   "cell_type": "markdown",
   "metadata": {},
   "source": [
    "Возьмем данные lenta.ru, но не целиком. Fine-tuning больших моделей лучше всего подходит, когда данных совсем мало и стандартным алгоритмам просто не хватает информации, чтобы обучиться. Поэтому возьмем только небольшой процент всех данных."
   ]
  },
  {
   "cell_type": "code",
   "execution_count": 6,
   "metadata": {},
   "outputs": [],
   "source": [
    "data = pd.read_csv('lenta_sample.csv')\n",
    "data.dropna(subset=['topic', 'text'], inplace=True)"
   ]
  },
  {
   "cell_type": "code",
   "execution_count": 7,
   "metadata": {},
   "outputs": [],
   "source": [
    "data_frac = pd.concat([data[data.topic=='Россия'].sample(frac=0.001),\n",
    "                      data[data.topic=='Мир'].sample(frac=0.001),\n",
    "                      data[data.topic=='Экономика'].sample(frac=0.002),\n",
    "                      data[data.topic=='Спорт'].sample(frac=0.003),\n",
    "                      data[data.topic=='Наука и техника'].sample(frac=0.005),\n",
    "                      data[data.topic=='Бывший СССР'].sample(frac=0.005),\n",
    "                      data[data.topic=='Культура'].sample(frac=0.005),\n",
    "                      data[data.topic=='Интернет и СМИ'].sample(frac=0.005),\n",
    "                      data[data.topic=='Из жизни'].sample(frac=0.01),\n",
    "                      data[data.topic=='Дом'].sample(frac=0.01),\n",
    "                      data[data.topic=='Силовые структуры'].sample(frac=0.01),\n",
    "                      data[data.topic=='Ценности'].sample(frac=0.03),\n",
    "                      data[data.topic=='Бизнес'].sample(frac=0.03),\n",
    "                      data[data.topic=='69-я параллель'].sample(frac=0.05),\n",
    "                      data[data.topic=='Крым'].sample(frac=0.05),\n",
    "                      data[data.topic=='Культпросвет'].sample(frac=0.2),\n",
    "                      data[data.topic=='Легпром'].sample(frac=0.8),\n",
    "                      data[data.topic=='Библиотека']]).reset_index(drop=True)"
   ]
  },
  {
   "cell_type": "code",
   "execution_count": 8,
   "metadata": {},
   "outputs": [
    {
     "data": {
      "text/plain": [
       "Из жизни             55\n",
       "Бывший СССР          54\n",
       "Наука и техника      54\n",
       "Культура             53\n",
       "Ценности             45\n",
       "Дом                  45\n",
       "Бизнес               44\n",
       "Интернет и СМИ       44\n",
       "Силовые структуры    40\n",
       "Спорт                39\n",
       "Россия               32\n",
       "Экономика            32\n",
       "Мир                  27\n",
       "69-я параллель       13\n",
       "Легпром              13\n",
       "Библиотека           10\n",
       "Крым                  7\n",
       "Name: topic, dtype: int64"
      ]
     },
     "execution_count": 8,
     "metadata": {},
     "output_type": "execute_result"
    }
   ],
   "source": [
    "data_frac.topic.value_counts()"
   ]
  },
  {
   "cell_type": "code",
   "execution_count": 9,
   "metadata": {},
   "outputs": [
    {
     "data": {
      "text/plain": [
       "(607, 6)"
      ]
     },
     "execution_count": 9,
     "metadata": {},
     "output_type": "execute_result"
    }
   ],
   "source": [
    "data_frac.shape"
   ]
  },
  {
   "cell_type": "code",
   "execution_count": 10,
   "metadata": {},
   "outputs": [],
   "source": [
    "data = data_frac"
   ]
  },
  {
   "cell_type": "markdown",
   "metadata": {},
   "source": [
    "### Загружаем предобученную модель из huggingface transformers"
   ]
  },
  {
   "cell_type": "markdown",
   "metadata": {},
   "source": [
    "Список всех доступных моделей можно найти тут - https://huggingface.co/models  \n",
    "А вот тут основные с описанием - https://huggingface.co/transformers/pretrained_models.html"
   ]
  },
  {
   "cell_type": "markdown",
   "metadata": {},
   "source": [
    "На HG предпочитают торч, поэтому, если вы решили работать в торче, вам повезло. "
   ]
  },
  {
   "cell_type": "markdown",
   "metadata": {},
   "source": [
    "Данные у нас на русском, поэтому мы возьмем rubert от DeepPavlov (остальные модели загружаются также)"
   ]
  },
  {
   "cell_type": "code",
   "execution_count": 11,
   "metadata": {},
   "outputs": [],
   "source": [
    "# # Eng Bert\n",
    "# tokenizer = AutoTokenizer.from_pretrained('bert-base-cased')\n",
    "# model_bert = AutoModel.from_pretrained('bert-base-cased')"
   ]
  },
  {
   "cell_type": "code",
   "execution_count": 12,
   "metadata": {},
   "outputs": [
    {
     "data": {
      "application/vnd.jupyter.widget-view+json": {
       "model_id": "ad3bb0cb0dd241b4a5a61c0abaf543a6",
       "version_major": 2,
       "version_minor": 0
      },
      "text/plain": [
       "HBox(children=(HTML(value='Downloading'), FloatProgress(value=0.0, max=642.0), HTML(value='')))"
      ]
     },
     "metadata": {},
     "output_type": "display_data"
    },
    {
     "name": "stdout",
     "output_type": "stream",
     "text": [
      "\n"
     ]
    },
    {
     "data": {
      "application/vnd.jupyter.widget-view+json": {
       "model_id": "fba39980fc8f4e7cbdb2743747bc93cb",
       "version_major": 2,
       "version_minor": 0
      },
      "text/plain": [
       "HBox(children=(HTML(value='Downloading'), FloatProgress(value=0.0, max=1649718.0), HTML(value='')))"
      ]
     },
     "metadata": {},
     "output_type": "display_data"
    },
    {
     "name": "stdout",
     "output_type": "stream",
     "text": [
      "\n"
     ]
    },
    {
     "data": {
      "application/vnd.jupyter.widget-view+json": {
       "model_id": "d28790c514f0462497062a57aa0783c4",
       "version_major": 2,
       "version_minor": 0
      },
      "text/plain": [
       "HBox(children=(HTML(value='Downloading'), FloatProgress(value=0.0, max=112.0), HTML(value='')))"
      ]
     },
     "metadata": {},
     "output_type": "display_data"
    },
    {
     "name": "stdout",
     "output_type": "stream",
     "text": [
      "\n"
     ]
    },
    {
     "data": {
      "application/vnd.jupyter.widget-view+json": {
       "model_id": "c0fe2ed0955b40039f773c24631150c0",
       "version_major": 2,
       "version_minor": 0
      },
      "text/plain": [
       "HBox(children=(HTML(value='Downloading'), FloatProgress(value=0.0, max=2.0), HTML(value='')))"
      ]
     },
     "metadata": {},
     "output_type": "display_data"
    },
    {
     "name": "stdout",
     "output_type": "stream",
     "text": [
      "\n"
     ]
    },
    {
     "data": {
      "application/vnd.jupyter.widget-view+json": {
       "model_id": "7c98c8042bcb41fdb35b922d7bffae04",
       "version_major": 2,
       "version_minor": 0
      },
      "text/plain": [
       "HBox(children=(HTML(value='Downloading'), FloatProgress(value=0.0, max=711456796.0), HTML(value='')))"
      ]
     },
     "metadata": {},
     "output_type": "display_data"
    },
    {
     "name": "stdout",
     "output_type": "stream",
     "text": [
      "\n"
     ]
    }
   ],
   "source": [
    "# # Rubert - от IPavlov\n",
    "tokenizer = AutoTokenizer.from_pretrained(\"DeepPavlov/rubert-base-cased\")\n",
    "model_bert = AutoModel.from_pretrained(\"DeepPavlov/rubert-base-cased\").to(torch.device('cuda'))"
   ]
  },
  {
   "cell_type": "code",
   "execution_count": 5,
   "metadata": {},
   "outputs": [],
   "source": [
    "# # Multilingual Bert - от гугла\n",
    "# tokenizer = BertTokenizer.from_pretrained('bert-base-multilingual-cased')\n",
    "# model_bert = AutoModel.from_pretrained('bert-base-multilingual-cased')"
   ]
  },
  {
   "cell_type": "markdown",
   "metadata": {},
   "source": [
    "Мы загружаем не только модель, а еще и токенайзер, т.е. свою предобработку нам писать не нужно"
   ]
  },
  {
   "cell_type": "code",
   "execution_count": 13,
   "metadata": {},
   "outputs": [
    {
     "data": {
      "text/plain": [
       "'Барнаульцы устроили давку на\\xa0открытии первого в\\xa0городе «Макдоналдса»'"
      ]
     },
     "execution_count": 13,
     "metadata": {},
     "output_type": "execute_result"
    }
   ],
   "source": [
    "data.loc[0, 'title']"
   ]
  },
  {
   "cell_type": "markdown",
   "metadata": {},
   "source": [
    "Перевести токены в индексы очень просто"
   ]
  },
  {
   "cell_type": "code",
   "execution_count": 15,
   "metadata": {},
   "outputs": [
    {
     "data": {
      "text/plain": [
       "[101,\n",
       " 10876,\n",
       " 63355,\n",
       " 2230,\n",
       " 4402,\n",
       " 31022,\n",
       " 9167,\n",
       " 3247,\n",
       " 1469,\n",
       " 28136,\n",
       " 9825,\n",
       " 845,\n",
       " 6925,\n",
       " 304,\n",
       " 16401,\n",
       " 38344,\n",
       " 27384,\n",
       " 3730,\n",
       " 326,\n",
       " 102]"
      ]
     },
     "execution_count": 15,
     "metadata": {},
     "output_type": "execute_result"
    }
   ],
   "source": [
    "tokenizer.encode(data.loc[0, 'title'])"
   ]
  },
  {
   "cell_type": "markdown",
   "metadata": {},
   "source": [
    "В этих моделях как правило используется BPE"
   ]
  },
  {
   "cell_type": "code",
   "execution_count": 16,
   "metadata": {},
   "outputs": [
    {
     "data": {
      "text/plain": [
       "['[CLS]',\n",
       " 'бар',\n",
       " '##нау',\n",
       " '##ль',\n",
       " '##цы',\n",
       " 'устроили',\n",
       " 'дав',\n",
       " '##ку',\n",
       " 'на',\n",
       " 'открытии',\n",
       " 'первого',\n",
       " 'в',\n",
       " 'городе',\n",
       " '«',\n",
       " 'мак',\n",
       " '##дона',\n",
       " '##лд',\n",
       " '##са',\n",
       " '»',\n",
       " '[SEP]']"
      ]
     },
     "execution_count": 16,
     "metadata": {},
     "output_type": "execute_result"
    }
   ],
   "source": [
    "# переводим индекс токена обратно в текст\n",
    "encoded = tokenizer.encode(data.loc[0, 'title'])\n",
    "[tokenizer.decode([x]) for x in encoded]"
   ]
  },
  {
   "cell_type": "markdown",
   "metadata": {},
   "source": [
    "Индексы можно напрямую передавать в модель."
   ]
  },
  {
   "cell_type": "code",
   "execution_count": 17,
   "metadata": {},
   "outputs": [],
   "source": [
    "text = data.loc[0, 'title']\n",
    "text_ids = torch.tensor([tokenizer.encode(text, add_special_tokens=True)])\n",
    "output = model_bert(text_ids.to(torch.device('cuda')))"
   ]
  },
  {
   "cell_type": "markdown",
   "metadata": {},
   "source": [
    "На выходе мы получим tuple из двух элементов. "
   ]
  },
  {
   "cell_type": "markdown",
   "metadata": {},
   "source": [
    "Первый элемент - состояния енкодера для каждого из элементов последовательности"
   ]
  },
  {
   "cell_type": "code",
   "execution_count": 18,
   "metadata": {},
   "outputs": [
    {
     "data": {
      "text/plain": [
       "torch.Size([1, 20, 768])"
      ]
     },
     "execution_count": 18,
     "metadata": {},
     "output_type": "execute_result"
    }
   ],
   "source": [
    "output[0].size() # в пайторче вместо .shape используется size()"
   ]
  },
  {
   "cell_type": "markdown",
   "metadata": {},
   "source": [
    "Второй - состояние енкодера на первом элементе, пропущенное через активацию (обычно этот элемент не используют)"
   ]
  },
  {
   "cell_type": "code",
   "execution_count": 19,
   "metadata": {},
   "outputs": [
    {
     "data": {
      "text/plain": [
       "torch.Size([1, 768])"
      ]
     },
     "execution_count": 19,
     "metadata": {},
     "output_type": "execute_result"
    }
   ],
   "source": [
    "output[1].size()"
   ]
  },
  {
   "cell_type": "markdown",
   "metadata": {},
   "source": [
    "Обычно в задачах используют либо состояние первого элемента"
   ]
  },
  {
   "cell_type": "code",
   "execution_count": 20,
   "metadata": {},
   "outputs": [
    {
     "data": {
      "text/plain": [
       "torch.Size([1, 768])"
      ]
     },
     "execution_count": 20,
     "metadata": {},
     "output_type": "execute_result"
    }
   ],
   "source": [
    "output[0][:,0].size()"
   ]
  },
  {
   "cell_type": "markdown",
   "metadata": {},
   "source": [
    "Либо усредненное состояние "
   ]
  },
  {
   "cell_type": "code",
   "execution_count": 21,
   "metadata": {},
   "outputs": [
    {
     "data": {
      "text/plain": [
       "torch.Size([1, 768])"
      ]
     },
     "execution_count": 21,
     "metadata": {},
     "output_type": "execute_result"
    }
   ],
   "source": [
    "torch.mean(output[0], axis=1).size()"
   ]
  },
  {
   "cell_type": "markdown",
   "metadata": {},
   "source": [
    "Полученные эмбеддинги уже можно использовать для какой-нибудь кластеризации или поиска похожих. А если есть разметка, то можно обучить на этих векторах стандартную модель из sklearn или даже дообучить всего Берта под конкретную задачу!"
   ]
  },
  {
   "cell_type": "markdown",
   "metadata": {},
   "source": [
    "Датасет и трейн/тест лупы возьмем из предыдущих семинаров. Единственное изменение - в датасете мы используем токенайзер"
   ]
  },
  {
   "cell_type": "code",
   "execution_count": 26,
   "metadata": {},
   "outputs": [],
   "source": [
    "class Dataset(torch.utils.data.Dataset):\n",
    "\n",
    "    def __init__(self, tokenizer, MAX_LEN, texts, targets):\n",
    "        \n",
    "        self.tokenizer = tokenizer\n",
    "        self.texts = [torch.LongTensor(tokenizer.encode(t)[:MAX_LEN]) for t in texts]\n",
    "        self.texts = torch.nn.utils.rnn.pad_sequence(self.texts, batch_first=True,\n",
    "                                                     padding_value=self.tokenizer.pad_token_id)\n",
    "        \n",
    "        self.MAX_LEN = MAX_LEN\n",
    "        self.length = len(texts)\n",
    "        \n",
    "        self.target = torch.LongTensor(targets)\n",
    "\n",
    "    def __len__(self):\n",
    "        return self.length\n",
    "\n",
    "    def __getitem__(self, index):\n",
    "        ids = self.texts[index]\n",
    "        y = self.target[index]\n",
    "\n",
    "        return ids, y\n",
    "    \n",
    "    def preprocess(self, text):\n",
    "        tokens = text.lower().split()\n",
    "        tokens = [token.strip(punctuation) for token in tokens]\n",
    "        tokens = [token for token in tokens if token]\n",
    "        return tokens"
   ]
  },
  {
   "cell_type": "code",
   "execution_count": 27,
   "metadata": {},
   "outputs": [],
   "source": [
    "from sklearn.metrics import f1_score\n",
    "\n",
    "def train(model, iterator, optimizer, criterion, print_every=1000):\n",
    "    \n",
    "    epoch_loss = []\n",
    "    epoch_f1 = []\n",
    "    \n",
    "    model.train()  \n",
    "\n",
    "    for i, (texts, ys) in enumerate(iterator):\n",
    "        \n",
    "        optimizer.zero_grad()   \n",
    "        predictions = model(texts.to(device)).squeeze()  \n",
    "        loss = criterion(predictions, ys.to(device))        \n",
    "        \n",
    "        \n",
    "        \n",
    "        loss.backward()\n",
    "        optimizer.step()     \n",
    "        preds = predictions.detach().to('cpu').numpy().argmax(1).tolist()\n",
    "        y_true = ys.tolist()\n",
    "        \n",
    "        epoch_loss.append(loss.item())\n",
    "        epoch_f1.append(f1_score(y_true, preds, average=\"micro\"))\n",
    "        \n",
    "        if not (i+1) % print_every:\n",
    "            print(f'Loss: {np.mean(epoch_loss)}; F1 measure: {np.mean(epoch_f1)}')\n",
    "        \n",
    "    return np.mean(epoch_f1)\n",
    "\n",
    "\n",
    "def evaluate(model, iterator, criterion):\n",
    "    \n",
    "    epoch_loss = []\n",
    "    epoch_f1 = []\n",
    "    \n",
    "    model.eval()  \n",
    "    with torch.no_grad():\n",
    "        for texts, ys in iterator:   \n",
    "\n",
    "            predictions = model(texts.to(device)).squeeze()  \n",
    "            loss = criterion(predictions, ys.to(device))        \n",
    "            preds = predictions.detach().to('cpu').numpy().argmax(1).tolist()\n",
    "            y_true = ys.tolist()\n",
    "            \n",
    "\n",
    "            epoch_loss.append(loss.item())  \n",
    "            epoch_f1.append(f1_score(y_true, preds, average=\"micro\"))\n",
    "            \n",
    "    return np.mean(epoch_f1)# / len(iterator)"
   ]
  },
  {
   "cell_type": "code",
   "execution_count": null,
   "metadata": {},
   "outputs": [],
   "source": []
  },
  {
   "cell_type": "code",
   "execution_count": 28,
   "metadata": {},
   "outputs": [],
   "source": [
    "# в берте максимальная длина обычно ограничена 512\n",
    "MAX_LEN = 512"
   ]
  },
  {
   "cell_type": "code",
   "execution_count": 29,
   "metadata": {},
   "outputs": [],
   "source": [
    "texts = data.title.values\n",
    "id2label = {i:l for i,l in enumerate(set(data.topic))}\n",
    "label2id = {l:i for i,l in id2label.items()}\n",
    "targets = [label2id[l] for l in data.topic]"
   ]
  },
  {
   "cell_type": "code",
   "execution_count": 30,
   "metadata": {},
   "outputs": [],
   "source": [
    "train_texts, valid_texts, train_targets, valid_targets = train_test_split(texts, targets, test_size=0.05)"
   ]
  },
  {
   "cell_type": "markdown",
   "metadata": {},
   "source": [
    "Берт - очень большая модель, поэтому с батчсайзом нужно быть аккуратнее"
   ]
  },
  {
   "cell_type": "code",
   "execution_count": 32,
   "metadata": {},
   "outputs": [],
   "source": [
    "training_set = Dataset(tokenizer, MAX_LEN, train_texts, train_targets)\n",
    "training_generator = torch.utils.data.DataLoader(training_set, batch_size=16, shuffle=True, )\n",
    "valid_set = Dataset(tokenizer, MAX_LEN, valid_texts, valid_targets)\n",
    "valid_generator = torch.utils.data.DataLoader(valid_set, batch_size=16, shuffle=True)"
   ]
  },
  {
   "cell_type": "code",
   "execution_count": null,
   "metadata": {},
   "outputs": [],
   "source": []
  },
  {
   "cell_type": "code",
   "execution_count": null,
   "metadata": {},
   "outputs": [],
   "source": []
  },
  {
   "cell_type": "code",
   "execution_count": 36,
   "metadata": {},
   "outputs": [],
   "source": [
    "import torch.nn as nn\n",
    "\n",
    "class CLF(nn.Module):\n",
    "    \n",
    "    def __init__(self, pretrained_model, num_classes):\n",
    "        super().__init__()          \n",
    "        self.tokenizer = tokenizer # токенизатор\n",
    "        self.pretrained_model = pretrained_model # предобученная модель\n",
    "        #\n",
    "        self.drop = nn.Dropout(0.3) # добавим дропаут чтобы не переобучалось\n",
    "        self.fc = nn.Linear(768, num_classes) \n",
    "        self.act = nn.LogSoftmax(1) \n",
    "        \n",
    "    def forward(self, texts):\n",
    "        \n",
    "        mask = (texts != tokenizer.pad_token_id).long()\n",
    "        \n",
    "        # прогоняем через BERT\n",
    "        hidden = self.pretrained_model(texts, attention_mask=mask)[0]\n",
    "\n",
    "        # берем самое первое состояние и применяем к нему линейный слой и активацию\n",
    "        dense_outputs=self.fc(self.drop(hidden[:,0] ))\n",
    "        outputs=self.act(dense_outputs)\n",
    "        \n",
    "        return outputs"
   ]
  },
  {
   "cell_type": "markdown",
   "metadata": {},
   "source": [
    "Лосс при дообучении нужно брать поменьше (2e-5, 2e-6, 2e-7)"
   ]
  },
  {
   "cell_type": "code",
   "execution_count": 37,
   "metadata": {},
   "outputs": [],
   "source": [
    "device = torch.device('cuda' if torch.cuda.is_available() else 'cpu')  \n",
    "model = CLF(model_bert, len(label2id))\n",
    "optimizer = optim.Adam(model.parameters(), lr=2e-6)\n",
    "criterion = nn.NLLLoss() \n",
    "model = model.to(device)\n",
    "criterion = criterion.to(device)"
   ]
  },
  {
   "cell_type": "markdown",
   "metadata": {},
   "source": [
    "Модель готова"
   ]
  },
  {
   "cell_type": "code",
   "execution_count": 38,
   "metadata": {},
   "outputs": [
    {
     "name": "stdout",
     "output_type": "stream",
     "text": [
      "0\n",
      "Eval -  0.35833333333333334\n",
      "1\n",
      "Eval -  0.5833333333333333\n",
      "2\n",
      "Eval -  0.5520833333333333\n",
      "3\n",
      "Eval -  0.5166666666666666\n",
      "4\n",
      "Eval -  0.5833333333333333\n",
      "5\n",
      "Eval -  0.5479166666666666\n",
      "6\n",
      "Eval -  0.5479166666666666\n",
      "7\n",
      "Eval -  0.5520833333333333\n",
      "8\n",
      "Eval -  0.5541666666666667\n",
      "9\n",
      "Eval -  0.58125\n",
      "10\n",
      "Eval -  0.5458333333333334\n",
      "11\n",
      "Eval -  0.5750000000000001\n",
      "12\n",
      "Eval -  0.5458333333333334\n",
      "13\n",
      "Eval -  0.5479166666666666\n",
      "14\n",
      "Eval -  0.5479166666666666\n",
      "15\n",
      "Eval -  0.55\n",
      "16\n",
      "Eval -  0.5541666666666667\n",
      "17\n",
      "Eval -  0.5458333333333334\n",
      "18\n",
      "Eval -  0.5458333333333334\n",
      "19\n",
      "Eval -  0.5479166666666666\n"
     ]
    }
   ],
   "source": [
    "f1s = []\n",
    "f1s_eval = []\n",
    "\n",
    "for i in range(20):\n",
    "    print(i)\n",
    "    f1s.append(train(model, training_generator, optimizer, criterion, 2000))\n",
    "    evl = evaluate(model, valid_generator, criterion)\n",
    "    print('Eval - ', evl)\n",
    "    f1s_eval.append(evl)"
   ]
  },
  {
   "cell_type": "code",
   "execution_count": 43,
   "metadata": {},
   "outputs": [
    {
     "data": {
      "image/png": "[encoded data removed]",
      "text/plain": [
       "<Figure size 432x288 with 1 Axes>"
      ]
     },
     "metadata": {
      "needs_background": "light"
     },
     "output_type": "display_data"
    }
   ],
   "source": [
    "plt.plot(f1s)\n",
    "plt.plot(f1s_eval)\n",
    "plt.title('model f1 micro')\n",
    "plt.ylabel('f1')\n",
    "plt.xlabel('epoch')\n",
    "plt.legend(['train', 'val'], loc='upper left')\n",
    "plt.show()"
   ]
  },
  {
   "cell_type": "code",
   "execution_count": 44,
   "metadata": {},
   "outputs": [
    {
     "data": {
      "text/plain": [
       "0.5833333333333333"
      ]
     },
     "execution_count": 44,
     "metadata": {},
     "output_type": "execute_result"
    }
   ],
   "source": [
    "max(f1s_eval)"
   ]
  },
  {
   "cell_type": "markdown",
   "metadata": {},
   "source": [
    "Такое значение Ф-меры конечно не впечатляет, но нужно помнить, что мы обучались на 600 примерах. Никакая нейронка не обучится на таком количестве данных. "
   ]
  },
  {
   "cell_type": "markdown",
   "metadata": {},
   "source": [
    "Вот для сравнения LSTM"
   ]
  },
  {
   "cell_type": "code",
   "execution_count": 50,
   "metadata": {},
   "outputs": [],
   "source": [
    "def preprocess(text):\n",
    "    tokens = text.lower().split()\n",
    "    tokens = [token.strip(punctuation) for token in tokens]\n",
    "    return tokens\n",
    "\n",
    "vocab = Counter()\n",
    "\n",
    "for text in data.text:\n",
    "    vocab.update(preprocess(text))\n",
    "\n",
    "\n",
    "# индексируем слова\n",
    "word2id = {'PAD':0}\n",
    "\n",
    "for word in vocab:\n",
    "    word2id[word] = len(word2id)\n",
    "\n",
    "id2word = {i:word for word, i in word2id.items()}\n",
    "\n",
    "class Dataset(torch.utils.data.Dataset):\n",
    "\n",
    "    def __init__(self, word2id, MAX_LEN, texts, targets):\n",
    "        self.texts = [torch.LongTensor([word2id[w] for w in self.preprocess(t) if w in word2id][:MAX_LEN]) for t in texts]\n",
    "        self.texts = torch.nn.utils.rnn.pad_sequence(self.texts, batch_first=True)\n",
    "        self.word2id = word2id\n",
    "        self.MAX_LEN = MAX_LEN\n",
    "        self.length = len(texts)\n",
    "        self.target = torch.LongTensor(targets)\n",
    "\n",
    "    def __len__(self):\n",
    "        return self.length\n",
    "\n",
    "    def __getitem__(self, index):\n",
    "        ids = self.texts[index]\n",
    "        y = self.target[index]\n",
    "\n",
    "        return ids, y\n",
    "    \n",
    "    def preprocess(self, text):\n",
    "        tokens = text.lower().split()\n",
    "        tokens = [token.strip(punctuation) for token in tokens]\n",
    "        tokens = [token for token in tokens if token]\n",
    "        return tokens\n",
    "\n",
    "\n",
    "MAX_LEN = 50\n",
    "\n",
    "texts = data.title.values\n",
    "id2label = {i:l for i,l in enumerate(set(data.topic))}\n",
    "label2id = {l:i for i,l in id2label.items()}\n",
    "targets = [label2id[l] for l in data.topic]\n",
    "\n",
    "train_texts, valid_texts, train_targets, valid_targets = train_test_split(texts, targets, test_size=0.05,\n",
    "                                                                         stratify=data.topic)\n",
    "\n",
    "training_set = Dataset(word2id, MAX_LEN, train_texts, train_targets)\n",
    "training_generator = torch.utils.data.DataLoader(training_set, batch_size=32, shuffle=True, )\n",
    "\n",
    "valid_set = Dataset(word2id, MAX_LEN, valid_texts, valid_targets)\n",
    "valid_generator = torch.utils.data.DataLoader(valid_set, batch_size=32, shuffle=True)"
   ]
  },
  {
   "cell_type": "code",
   "execution_count": 51,
   "metadata": {},
   "outputs": [],
   "source": [
    "class Clf(nn.Module):\n",
    "    \n",
    "    def __init__(self, output_dim):\n",
    "        \n",
    "        super().__init__()          \n",
    "        self.VOCAB_SIZE = len(word2id)\n",
    "        self.EMB_DIM = 30\n",
    "        self.RNN_UNITS = 128\n",
    "        \n",
    "        \n",
    "        self.embedding = nn.Embedding(self.VOCAB_SIZE, self.EMB_DIM)\n",
    "        self.rnn = nn.LSTM(self.EMB_DIM, self.RNN_UNITS, num_layers=1, \n",
    "                           batch_first=True)\n",
    "        self.fc = nn.Linear(self.RNN_UNITS, output_dim)\n",
    "        self.act = nn.LogSoftmax(1) \n",
    "        \n",
    "        \n",
    "    def forward(self, text):\n",
    "\n",
    "        embedded = self.embedding(text)\n",
    "        rnn_output, (h, *_) = self.rnn(embedded)\n",
    "        output = self.act(self.fc(h[-1]))        \n",
    "        return output\n",
    "\n",
    "\n",
    "device = torch.device('cuda' if torch.cuda.is_available() else 'cpu')  \n",
    "model = Clf(len(label2id))\n",
    "optimizer = optim.Adam(model.parameters(), lr=0.001)\n",
    "criterion = nn.NLLLoss() \n",
    "model = model.to(device)\n",
    "criterion = criterion.to(device)"
   ]
  },
  {
   "cell_type": "code",
   "execution_count": 53,
   "metadata": {
    "scrolled": true
   },
   "outputs": [
    {
     "name": "stdout",
     "output_type": "stream",
     "text": [
      "0\n",
      "Eval -  0.12903225806451613\n",
      "1\n",
      "Eval -  0.16129032258064516\n",
      "2\n",
      "Eval -  0.1935483870967742\n",
      "3\n",
      "Eval -  0.16129032258064516\n",
      "4\n",
      "Eval -  0.12903225806451613\n",
      "5\n",
      "Eval -  0.0967741935483871\n",
      "6\n",
      "Eval -  0.12903225806451613\n",
      "7\n",
      "Eval -  0.12903225806451613\n",
      "8\n",
      "Eval -  0.12903225806451613\n",
      "9\n",
      "Eval -  0.12903225806451613\n",
      "10\n",
      "Eval -  0.0967741935483871\n",
      "11\n",
      "Eval -  0.16129032258064516\n",
      "12\n",
      "Eval -  0.12903225806451613\n",
      "13\n",
      "Eval -  0.0967741935483871\n",
      "14\n",
      "Eval -  0.16129032258064516\n",
      "15\n",
      "Eval -  0.12903225806451613\n",
      "16\n",
      "Eval -  0.06451612903225806\n",
      "17\n",
      "Eval -  0.0967741935483871\n",
      "18\n",
      "Eval -  0.0967741935483871\n",
      "19\n",
      "Eval -  0.12903225806451613\n",
      "20\n",
      "Eval -  0.16129032258064516\n",
      "21\n",
      "Eval -  0.0967741935483871\n",
      "22\n",
      "Eval -  0.12903225806451613\n",
      "23\n",
      "Eval -  0.12903225806451613\n",
      "24\n",
      "Eval -  0.0967741935483871\n",
      "25\n",
      "Eval -  0.0967741935483871\n",
      "26\n",
      "Eval -  0.12903225806451613\n",
      "27\n",
      "Eval -  0.0967741935483871\n",
      "28\n",
      "Eval -  0.12903225806451613\n",
      "29\n",
      "Eval -  0.0967741935483871\n",
      "30\n",
      "Eval -  0.12903225806451613\n",
      "31\n",
      "Eval -  0.0967741935483871\n",
      "32\n",
      "Eval -  0.12903225806451613\n",
      "33\n",
      "Eval -  0.0967741935483871\n",
      "34\n",
      "Eval -  0.06451612903225806\n",
      "35\n",
      "Eval -  0.12903225806451613\n",
      "36\n",
      "Eval -  0.06451612903225806\n",
      "37\n",
      "Eval -  0.06451612903225806\n",
      "38\n",
      "Eval -  0.12903225806451613\n",
      "39\n",
      "Eval -  0.0967741935483871\n",
      "40\n",
      "Eval -  0.0967741935483871\n",
      "41\n",
      "Eval -  0.06451612903225806\n",
      "42\n",
      "Eval -  0.06451612903225806\n",
      "43\n",
      "Eval -  0.06451612903225806\n",
      "44\n",
      "Eval -  0.0967741935483871\n",
      "45\n",
      "Eval -  0.06451612903225806\n",
      "46\n",
      "Eval -  0.06451612903225806\n",
      "47\n",
      "Eval -  0.06451612903225806\n",
      "48\n",
      "Eval -  0.03225806451612903\n",
      "49\n",
      "Eval -  0.06451612903225806\n"
     ]
    }
   ],
   "source": [
    "f1s = []\n",
    "f1s_eval = []\n",
    "\n",
    "for i in range(50):\n",
    "    print(i)\n",
    "    f1s.append(train(model, training_generator, optimizer, criterion, 100))\n",
    "    evl = evaluate(model, valid_generator, criterion)\n",
    "    print('Eval - ', evl)\n",
    "    f1s_eval.append(evl)"
   ]
  },
  {
   "cell_type": "code",
   "execution_count": 54,
   "metadata": {},
   "outputs": [
    {
     "data": {
      "image/png": "[encoded data removed]",
      "text/plain": [
       "<Figure size 432x288 with 1 Axes>"
      ]
     },
     "metadata": {
      "needs_background": "light"
     },
     "output_type": "display_data"
    }
   ],
   "source": [
    "plt.plot(f1s)\n",
    "plt.plot(f1s_eval)\n",
    "plt.title('model f1 micro')\n",
    "plt.ylabel('f1')\n",
    "plt.xlabel('epoch')\n",
    "plt.legend(['train', 'val'], loc='upper left')\n",
    "plt.show()"
   ]
  },
  {
   "cell_type": "code",
   "execution_count": null,
   "metadata": {},
   "outputs": [],
   "source": []
  },
  {
   "cell_type": "code",
   "execution_count": null,
   "metadata": {},
   "outputs": [],
   "source": []
  }
 ],
 "metadata": {
  "kernelspec": {
   "display_name": "Python 3",
   "language": "python",
   "name": "python3"
  },
  "language_info": {
   "codemirror_mode": {
    "name": "ipython",
    "version": 3
   },
   "file_extension": ".py",
   "mimetype": "text/x-python",
   "name": "python",
   "nbconvert_exporter": "python",
   "pygments_lexer": "ipython3",
   "version": "3.8.8"
  }
 },
 "nbformat": 4,
 "nbformat_minor": 4
}
