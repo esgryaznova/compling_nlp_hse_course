{
 "cells": [
  {
   "cell_type": "markdown",
   "metadata": {},
   "source": [
    "# Дисклеймер\n",
    "Эту тетрадку лучше запускать в колабе или в vast.ai. Не мучатесь с установкой библиотек и с обучением на cpu."
   ]
  },
  {
   "cell_type": "code",
   "execution_count": 72,
   "metadata": {
    "scrolled": true
   },
   "outputs": [],
   "source": [
    "# !pip install pandas scikit-learn gensim matplotlib"
   ]
  },
  {
   "cell_type": "markdown",
   "metadata": {},
   "source": [
    "## Введение в нейронные сети "
   ]
  },
  {
   "cell_type": "markdown",
   "metadata": {},
   "source": [
    "Все задачи, которые мы решали до этого, можно решать с помощью нейронных сетей. Часто нейронные сети будут наилучшим выбором, особенно когда у нас текстовые или картиночные данные и их достаточно много (примерно от 50к). Но в любом случае, перед тем как доставать нейронки лучше прогнать несколько стандартных моделей. Часто они решат задачу на приемлимом уровне и время, затраченное на обучение нейронки, не окупит себя. Также с табличными данными лучше просто использовать бустинги."
   ]
  },
  {
   "cell_type": "markdown",
   "metadata": {},
   "source": [
    "Для написания нейронок есть два основных фреймворка -  tensorflow и pytorch. Сказать, что лучше, тяжело. В целом, тензорфлоу с встроенным keras (раньше был отдельным фреймворком) сильно проще для новичков, но многое в нём происходит \"под капотом\". Когда все работает это даже хорошо, но когда что-то ломается, очень сложно понять, что именно.  Pytorch сложнее в освоении и многие вещи там приходится делать вручную, но это заставляет разобраться в технических деталях и дает большую свободу. \n",
    "\n",
    "В наших занятиях мы попробуем tensorflow."
   ]
  },
  {
   "cell_type": "code",
   "execution_count": 1,
   "metadata": {},
   "outputs": [],
   "source": [
    "import tensorflow as tf"
   ]
  },
  {
   "cell_type": "markdown",
   "metadata": {},
   "source": [
    "Для наглядности возьмем две разные задачи - классификации и регресии. В обоих задачах мы будем работать с текстом и по большей части весь пайплайн у нас будет одинаков. Отличаться будут только последние штрихи в самих моделях."
   ]
  },
  {
   "cell_type": "markdown",
   "metadata": {},
   "source": [
    "## Регрессия на данных Avito"
   ]
  },
  {
   "cell_type": "markdown",
   "metadata": {},
   "source": [
    "Данные из соревнования - https://www.kaggle.com/c/avito-demand-prediction/overview  \n",
    "Я взял только поле description, так как наша задача разобраться с нейронками, а не добиться самого большого качества."
   ]
  },
  {
   "cell_type": "code",
   "execution_count": 2,
   "metadata": {},
   "outputs": [],
   "source": [
    "import pandas as pd\n",
    "import numpy as np\n",
    "from string import punctuation\n",
    "from sklearn.model_selection import train_test_split\n",
    "from collections import Counter\n",
    "import matplotlib.pyplot as plt\n",
    "%matplotlib inline"
   ]
  },
  {
   "cell_type": "markdown",
   "metadata": {},
   "source": [
    "Во всех предыдущих семинарах мы обрезали данные Авито, так как модели не могли столько переварить. В случае нейронок такой проблемы нет, модель обучается на батчах (кусках данных) и можно использовать неограниченное количество данных. Но для семинара будет слишком долго обучаться, поэтому пока тоже возьмем только 10 %."
   ]
  },
  {
   "cell_type": "code",
   "execution_count": 3,
   "metadata": {},
   "outputs": [],
   "source": [
    "avito = pd.read_csv('avito_data.csv').dropna().sample(frac=0.1)"
   ]
  },
  {
   "cell_type": "code",
   "execution_count": 28,
   "metadata": {
    "scrolled": true
   },
   "outputs": [
    {
     "data": {
      "text/html": [
       "<div>\n",
       "<style scoped>\n",
       "    .dataframe tbody tr th:only-of-type {\n",
       "        vertical-align: middle;\n",
       "    }\n",
       "\n",
       "    .dataframe tbody tr th {\n",
       "        vertical-align: top;\n",
       "    }\n",
       "\n",
       "    .dataframe thead th {\n",
       "        text-align: right;\n",
       "    }\n",
       "</style>\n",
       "<table border=\"1\" class=\"dataframe\">\n",
       "  <thead>\n",
       "    <tr style=\"text-align: right;\">\n",
       "      <th></th>\n",
       "      <th>description</th>\n",
       "      <th>deal_probability</th>\n",
       "    </tr>\n",
       "  </thead>\n",
       "  <tbody>\n",
       "    <tr>\n",
       "      <th>1056015</th>\n",
       "      <td>очень игривая ласковая девочка кличка Рада про...</td>\n",
       "      <td>0.09346</td>\n",
       "    </tr>\n",
       "    <tr>\n",
       "      <th>675100</th>\n",
       "      <td>Тетрадь \"Проверим себя \" 4 класс,окружающий ми...</td>\n",
       "      <td>0.00000</td>\n",
       "    </tr>\n",
       "    <tr>\n",
       "      <th>729638</th>\n",
       "      <td>Если у ваших близких или друзей намечается важ...</td>\n",
       "      <td>0.35468</td>\n",
       "    </tr>\n",
       "    <tr>\n",
       "      <th>286811</th>\n",
       "      <td>Страна вывоза Объединённые Арабские Эмираты,Ст...</td>\n",
       "      <td>0.73760</td>\n",
       "    </tr>\n",
       "    <tr>\n",
       "      <th>263617</th>\n",
       "      <td>Очки в отличном состоянии!/\\nОправа итальянска...</td>\n",
       "      <td>0.00000</td>\n",
       "    </tr>\n",
       "    <tr>\n",
       "      <th>...</th>\n",
       "      <td>...</td>\n",
       "      <td>...</td>\n",
       "    </tr>\n",
       "    <tr>\n",
       "      <th>1497885</th>\n",
       "      <td>развивающие игрушки и погремушки. в отличном с...</td>\n",
       "      <td>0.00000</td>\n",
       "    </tr>\n",
       "    <tr>\n",
       "      <th>770848</th>\n",
       "      <td>Продам утепленный комбинезон на мальчика. Разм...</td>\n",
       "      <td>0.00000</td>\n",
       "    </tr>\n",
       "    <tr>\n",
       "      <th>1414269</th>\n",
       "      <td>Monnalisa 30размер. Абсолютно новые. Пересыл</td>\n",
       "      <td>0.00000</td>\n",
       "    </tr>\n",
       "    <tr>\n",
       "      <th>367424</th>\n",
       "      <td>В идеальном состоянии. Не бита не крашена. Сиг...</td>\n",
       "      <td>0.73760</td>\n",
       "    </tr>\n",
       "    <tr>\n",
       "      <th>690356</th>\n",
       "      <td>нарядный сарафан на 2-3 г.</td>\n",
       "      <td>0.00000</td>\n",
       "    </tr>\n",
       "  </tbody>\n",
       "</table>\n",
       "<p>138715 rows × 2 columns</p>\n",
       "</div>"
      ],
      "text/plain": [
       "                                               description  deal_probability\n",
       "1056015  очень игривая ласковая девочка кличка Рада про...           0.09346\n",
       "675100   Тетрадь \"Проверим себя \" 4 класс,окружающий ми...           0.00000\n",
       "729638   Если у ваших близких или друзей намечается важ...           0.35468\n",
       "286811   Страна вывоза Объединённые Арабские Эмираты,Ст...           0.73760\n",
       "263617   Очки в отличном состоянии!/\\nОправа итальянска...           0.00000\n",
       "...                                                    ...               ...\n",
       "1497885  развивающие игрушки и погремушки. в отличном с...           0.00000\n",
       "770848   Продам утепленный комбинезон на мальчика. Разм...           0.00000\n",
       "1414269       Monnalisa 30размер. Абсолютно новые. Пересыл           0.00000\n",
       "367424   В идеальном состоянии. Не бита не крашена. Сиг...           0.73760\n",
       "690356                          нарядный сарафан на 2-3 г.           0.00000\n",
       "\n",
       "[138715 rows x 2 columns]"
      ]
     },
     "execution_count": 28,
     "metadata": {},
     "output_type": "execute_result"
    }
   ],
   "source": [
    "avito"
   ]
  },
  {
   "cell_type": "markdown",
   "metadata": {},
   "source": [
    "Предобработка нам не так важна. Главное - получить из текстов токены."
   ]
  },
  {
   "cell_type": "code",
   "execution_count": 6,
   "metadata": {},
   "outputs": [],
   "source": [
    "def preprocess(text):\n",
    "    tokens = text.lower().split()\n",
    "    tokens = [token.strip(punctuation) for token in tokens]\n",
    "    return tokens"
   ]
  },
  {
   "cell_type": "markdown",
   "metadata": {},
   "source": [
    "Теперь нам нужно собрать все уникальные слова в словарь. Лучше сразу посчитать количество упоминаний, чтобы отсеять самые редкие."
   ]
  },
  {
   "cell_type": "markdown",
   "metadata": {},
   "source": [
    "Теперь нам нужно заменить в каждом тексте слова на числа (индексы в словаре). "
   ]
  },
  {
   "cell_type": "markdown",
   "metadata": {},
   "source": [
    "Создадим для этого специальный словарь с индексами. В этот словарь нам нужно положить дополнительный токен - PAD (чуть ниже станет понятнее)"
   ]
  },
  {
   "cell_type": "code",
   "execution_count": 35,
   "metadata": {},
   "outputs": [],
   "source": [
    "word2id = { 'PAD':0}\n",
    "\n",
    "for word in filtered_vocab:\n",
    "    word2id[word] = len(word2id)"
   ]
  },
  {
   "cell_type": "code",
   "execution_count": 6,
   "metadata": {},
   "outputs": [],
   "source": [
    "vocab = Counter()\n",
    "\n",
    "for text in avito.description:\n",
    "    vocab.update(preprocess(text))"
   ]
  },
  {
   "cell_type": "markdown",
   "metadata": {},
   "source": [
    "почти 300к слов - это много, учитывая, что это только 10% данных"
   ]
  },
  {
   "cell_type": "code",
   "execution_count": 7,
   "metadata": {},
   "outputs": [
    {
     "data": {
      "text/plain": [
       "284191"
      ]
     },
     "execution_count": 7,
     "metadata": {},
     "output_type": "execute_result"
    }
   ],
   "source": [
    "len(vocab)"
   ]
  },
  {
   "cell_type": "markdown",
   "metadata": {},
   "source": [
    "Возьмем только те, что встретились больше 30 раз."
   ]
  },
  {
   "cell_type": "code",
   "execution_count": 8,
   "metadata": {},
   "outputs": [],
   "source": [
    "filtered_vocab = set()\n",
    "\n",
    "for word in vocab:\n",
    "    if vocab[word] > 30:\n",
    "        filtered_vocab.add(word)"
   ]
  },
  {
   "cell_type": "markdown",
   "metadata": {},
   "source": [
    "11к - уже нормальная цифра"
   ]
  },
  {
   "cell_type": "markdown",
   "metadata": {},
   "source": [
    "В нашей задаче нам не понадобится раскодировать индексы, но если бы мы делали языковую модель, нам бы понадобился ещё и обратный словарь."
   ]
  },
  {
   "cell_type": "code",
   "execution_count": 36,
   "metadata": {},
   "outputs": [],
   "source": [
    "id2word = {i:word for word, i in word2id.items()}"
   ]
  },
  {
   "cell_type": "markdown",
   "metadata": {},
   "source": [
    "Заменяем слова на индексы."
   ]
  },
  {
   "cell_type": "code",
   "execution_count": 37,
   "metadata": {},
   "outputs": [],
   "source": [
    "\n",
    "X = []\n",
    "\n",
    "for text in avito.description:\n",
    "    tokens = preprocess(text)\n",
    "    ids = [word2id.get(token, 1) for token in tokens]\n",
    "    X.append(ids)"
   ]
  },
  {
   "cell_type": "markdown",
   "metadata": {},
   "source": [
    "А теперь про паддинг. "
   ]
  },
  {
   "cell_type": "markdown",
   "metadata": {},
   "source": [
    "Все тексты в нашем трейне разной длины и это проблема, так как модель ожидает последовательности одной длины. Для этого есть паддинг - т.е. забивание последовательности нулями до определенной длинны (мы не просто так присвоили PAD нулевой индекс - это важно)"
   ]
  },
  {
   "cell_type": "markdown",
   "metadata": {},
   "source": [
    "Лучше всего сделать паддиг до самого длинного текста, но это зачастую не оптимально или даже невозможно из-за нехватки ресурсов. Поэтому значение паддинга приходится подбирать на глаз. \n",
    "\n",
    "Пояснение: если значение паддинга меньше длины текста, то этот текст обрежется."
   ]
  },
  {
   "cell_type": "code",
   "execution_count": 38,
   "metadata": {},
   "outputs": [],
   "source": [
    "MAX_LEN = max(len(x) for x in X)"
   ]
  },
  {
   "cell_type": "markdown",
   "metadata": {},
   "source": [
    "700 - довольно мого, довайте попробуем поменьше."
   ]
  },
  {
   "cell_type": "code",
   "execution_count": 39,
   "metadata": {},
   "outputs": [
    {
     "data": {
      "text/plain": [
       "564"
      ]
     },
     "execution_count": 39,
     "metadata": {},
     "output_type": "execute_result"
    }
   ],
   "source": [
    "MAX_LEN"
   ]
  },
  {
   "cell_type": "code",
   "execution_count": 40,
   "metadata": {},
   "outputs": [],
   "source": [
    "MAX_LEN = 100"
   ]
  },
  {
   "cell_type": "code",
   "execution_count": 41,
   "metadata": {},
   "outputs": [],
   "source": [
    "X = tf.keras.preprocessing.sequence.pad_sequences(X, maxlen=MAX_LEN)"
   ]
  },
  {
   "cell_type": "code",
   "execution_count": 42,
   "metadata": {},
   "outputs": [
    {
     "data": {
      "text/plain": [
       "(138715, 100)"
      ]
     },
     "execution_count": 42,
     "metadata": {},
     "output_type": "execute_result"
    }
   ],
   "source": [
    "X.shape"
   ]
  },
  {
   "cell_type": "markdown",
   "metadata": {},
   "source": [
    "Мы почти готовы к обучению. Осталось достать таргет и разбить выборку на трейн и тест."
   ]
  },
  {
   "cell_type": "code",
   "execution_count": 43,
   "metadata": {},
   "outputs": [],
   "source": [
    "y = avito.deal_probability.values"
   ]
  },
  {
   "cell_type": "code",
   "execution_count": 44,
   "metadata": {},
   "outputs": [],
   "source": [
    "X_train, X_valid, y_train, y_valid = train_test_split(X, y, test_size=0.05)"
   ]
  },
  {
   "cell_type": "markdown",
   "metadata": {},
   "source": [
    "Теперь сама модель. В tf.keras два способа построения моделей: Sequential и Functional. В первом мы как будто создаем список и добавляем в него слои, а во втором вручную применяем каждый слой к результату предыдущего слоя."
   ]
  },
  {
   "cell_type": "markdown",
   "metadata": {},
   "source": [
    "### Sequential"
   ]
  },
  {
   "cell_type": "code",
   "execution_count": 45,
   "metadata": {},
   "outputs": [],
   "source": [
    "model = tf.keras.Sequential()\n",
    "# первым добавляем эмбединг слой\n",
    "# он каждому слову сопоставит вектор заданой размерности\n",
    "# также нам нужно передать параметры нашей выборки - размер словаря (input_dim) и длинну текста (input_length)\n",
    "model.add(tf.keras.layers.Embedding(input_dim=len(word2id), \n",
    "                                    input_length=MAX_LEN, output_dim=100))\n",
    "\n",
    "# вообще для работы с последовательностями нужно использовать рекурентные или сверточные слои\n",
    "# но с ними мы познакомимся в следующий раз\n",
    "# Пока, чтобы получить один вектор из последовательности векторов,\n",
    "# просто склеим их в один \n",
    "model.add(tf.keras.layers.Flatten())\n",
    "\n",
    "# теперь можно добавить любое количество полносвязных слоев, но не обязательно\n",
    "# model.add(tf.keras.layers.Dense(100, activation='relu'))\n",
    "\n",
    "# теперь последний слой, выход которого и будет предсказанием\n",
    "# тут нужно указать количество классов и функцию активации\n",
    "# в задаче регрессии мы предсказываем одно число == один класс, \n",
    "# а активация в задаче регрессии должна быть linear или sigmoid, если число от 0 до 1 (как у нас в задаче)\n",
    "# model.add(tf.keras.layers.Dense(1, activation='sigmoid'))\n",
    "model.add(tf.keras.layers.Dense(1, activation='linear'))\n",
    "\n",
    "# компилируем модель\n",
    "# выбираем лосс - функция, по которой модель будет оценивать качество и обновлять веса\n",
    "# для регрессии стандартно используется mean_squared_error\n",
    "# выбираем оптимизатор - он влияет на то, как будет обновляться модель \n",
    "# (подробнее вот тут - \n",
    "# https://medium.com/datadriveninvestor/overview-of-different-optimizers-for-neural-networks-e0ed119440c3 ).\n",
    "# По умолчанию можно ставить adam и менять только learning_rate\n",
    "\n",
    "# также можно указать метрики, по которым уже мы будет оценивать качество модели и принимать решения о смене параметров\n",
    "# мы используем метрику соревнования RMSE\n",
    "model.compile(optimizer='adam', loss='mse', metrics=[tf.keras.metrics.RootMeanSquaredError()])"
   ]
  },
  {
   "cell_type": "markdown",
   "metadata": {},
   "source": [
    "Обучаем"
   ]
  },
  {
   "cell_type": "code",
   "execution_count": 46,
   "metadata": {
    "scrolled": true
   },
   "outputs": [
    {
     "name": "stdout",
     "output_type": "stream",
     "text": [
      "Epoch 1/10\n",
      "1030/1030 [==============================] - 9s 9ms/step - loss: 0.0672 - root_mean_squared_error: 0.2591 - val_loss: 0.0631 - val_root_mean_squared_error: 0.2513\n",
      "Epoch 2/10\n",
      "1030/1030 [==============================] - 9s 8ms/step - loss: 0.0487 - root_mean_squared_error: 0.2207 - val_loss: 0.0674 - val_root_mean_squared_error: 0.2596\n",
      "Epoch 3/10\n",
      "1030/1030 [==============================] - 8s 8ms/step - loss: 0.0378 - root_mean_squared_error: 0.1944 - val_loss: 0.0737 - val_root_mean_squared_error: 0.2714\n",
      "Epoch 4/10\n",
      "1030/1030 [==============================] - 8s 8ms/step - loss: 0.0317 - root_mean_squared_error: 0.1781 - val_loss: 0.0769 - val_root_mean_squared_error: 0.2773\n",
      "Epoch 5/10\n",
      "1030/1030 [==============================] - 8s 8ms/step - loss: 0.0299 - root_mean_squared_error: 0.1729 - val_loss: 0.0791 - val_root_mean_squared_error: 0.2813\n",
      "Epoch 6/10\n",
      "1030/1030 [==============================] - 8s 8ms/step - loss: 0.0278 - root_mean_squared_error: 0.1667 - val_loss: 0.0806 - val_root_mean_squared_error: 0.2839\n",
      "Epoch 7/10\n",
      "1030/1030 [==============================] - 8s 8ms/step - loss: 0.0267 - root_mean_squared_error: 0.1634 - val_loss: 0.0847 - val_root_mean_squared_error: 0.2910\n",
      "Epoch 8/10\n",
      "1030/1030 [==============================] - 8s 8ms/step - loss: 0.0258 - root_mean_squared_error: 0.1607 - val_loss: 0.0859 - val_root_mean_squared_error: 0.2931\n",
      "Epoch 9/10\n",
      "1030/1030 [==============================] - 8s 8ms/step - loss: 0.0245 - root_mean_squared_error: 0.1566 - val_loss: 0.0875 - val_root_mean_squared_error: 0.2959\n",
      "Epoch 10/10\n",
      "1030/1030 [==============================] - 8s 8ms/step - loss: 0.0247 - root_mean_squared_error: 0.1573 - val_loss: 0.0898 - val_root_mean_squared_error: 0.2997\n"
     ]
    },
    {
     "data": {
      "text/plain": [
       "<tensorflow.python.keras.callbacks.History at 0x1adc58978>"
      ]
     },
     "execution_count": 46,
     "metadata": {},
     "output_type": "execute_result"
    }
   ],
   "source": [
    "\n",
    "model.fit(X_train, y_train, \n",
    "          validation_data=(X_valid, y_valid),\n",
    "          batch_size=128,\n",
    "         epochs=10)"
   ]
  },
  {
   "cell_type": "markdown",
   "metadata": {},
   "source": [
    "Обучение можно визуализировать"
   ]
  },
  {
   "cell_type": "code",
   "execution_count": 47,
   "metadata": {},
   "outputs": [
    {
     "name": "stdout",
     "output_type": "stream",
     "text": [
      "dict_keys(['loss', 'root_mean_squared_error', 'val_loss', 'val_root_mean_squared_error'])\n"
     ]
    },
    {
     "data": {
      "image/png": "[encoded data removed]",
      "text/plain": [
       "<Figure size 432x288 with 1 Axes>"
      ]
     },
     "metadata": {
      "needs_background": "light"
     },
     "output_type": "display_data"
    }
   ],
   "source": [
    "print(model.history.history.keys())\n",
    "# summarize history for accuracy\n",
    "plt.plot(model.history.history['root_mean_squared_error'])\n",
    "plt.plot(model.history.history['val_root_mean_squared_error'])\n",
    "plt.title('model RMSE')\n",
    "plt.ylabel('RMSE')\n",
    "plt.xlabel('epoch')\n",
    "plt.legend(['train', 'val'], loc='upper left')\n",
    "plt.show()"
   ]
  },
  {
   "cell_type": "markdown",
   "metadata": {},
   "source": [
    "Это график плохой модели. Качество на валидационной выборке никак не растет, а это значит мы ничему хорошему не обучаемся. Но не всегда это проблема самой модели. В самих данных может быть недостаточно информации для предсказания (в этом конкретном случае так и есть, это сложно сореванование и текст описания в итоговых моделях не был основным признаком)"
   ]
  },
  {
   "cell_type": "markdown",
   "metadata": {},
   "source": [
    "Теперь почти тоже самое только в функциональном виде.\n",
    "Вместо склеивания векторов в один попробуем просто их усреднять."
   ]
  },
  {
   "cell_type": "code",
   "execution_count": 48,
   "metadata": {},
   "outputs": [],
   "source": [
    "# input можно не задавать и указывать параметры в эмбединг слое,\n",
    "# но это может пригодиться, когда мы хотим сделать больше входных слоев\n",
    "inputs = tf.keras.layers.Input(shape=(100,))\n",
    "\n",
    "\n",
    "embeddings = tf.keras.layers.Embedding(input_dim=len(word2id), output_dim=10)(inputs)\n",
    "mean = tf.keras.layers.Lambda(lambda x: tf.keras.backend.mean(x,  axis=1))(embeddings)\n",
    "dense = tf.keras.layers.Dense(64, activation='relu')(mean)\n",
    "dense = tf.keras.layers.Dense(64, activation='relu')(mean)\n",
    "outputs = tf.keras.layers.Dense(1, activation='sigmoid')(dense)\n",
    "\n",
    "model = tf.keras.Model(inputs=inputs, outputs=outputs)\n",
    "optimizer = tf.keras.optimizers.Adam(learning_rate=0.0001)\n",
    "model.compile(optimizer=optimizer,\n",
    "              loss='mse',\n",
    "              metrics=[tf.keras.metrics.RootMeanSquaredError()])\n"
   ]
  },
  {
   "cell_type": "code",
   "execution_count": 49,
   "metadata": {},
   "outputs": [
    {
     "name": "stdout",
     "output_type": "stream",
     "text": [
      "Epoch 1/10\n",
      "258/258 [==============================] - 1s 2ms/step - loss: 0.1872 - root_mean_squared_error: 0.4326 - val_loss: 0.1521 - val_root_mean_squared_error: 0.3900\n",
      "Epoch 2/10\n",
      "258/258 [==============================] - 0s 2ms/step - loss: 0.1391 - root_mean_squared_error: 0.3728 - val_loss: 0.1010 - val_root_mean_squared_error: 0.3179\n",
      "Epoch 3/10\n",
      "258/258 [==============================] - 0s 2ms/step - loss: 0.0925 - root_mean_squared_error: 0.3040 - val_loss: 0.0756 - val_root_mean_squared_error: 0.2749\n",
      "Epoch 4/10\n",
      "258/258 [==============================] - 0s 2ms/step - loss: 0.0734 - root_mean_squared_error: 0.2710 - val_loss: 0.0702 - val_root_mean_squared_error: 0.2650\n",
      "Epoch 5/10\n",
      "258/258 [==============================] - 1s 3ms/step - loss: 0.0699 - root_mean_squared_error: 0.2644 - val_loss: 0.0694 - val_root_mean_squared_error: 0.2635\n",
      "Epoch 6/10\n",
      "258/258 [==============================] - 1s 2ms/step - loss: 0.0696 - root_mean_squared_error: 0.2638 - val_loss: 0.0692 - val_root_mean_squared_error: 0.2630\n",
      "Epoch 7/10\n",
      "258/258 [==============================] - 1s 2ms/step - loss: 0.0697 - root_mean_squared_error: 0.2640 - val_loss: 0.0690 - val_root_mean_squared_error: 0.2627\n",
      "Epoch 8/10\n",
      "258/258 [==============================] - 0s 2ms/step - loss: 0.0685 - root_mean_squared_error: 0.2618 - val_loss: 0.0689 - val_root_mean_squared_error: 0.2624\n",
      "Epoch 9/10\n",
      "258/258 [==============================] - 0s 2ms/step - loss: 0.0689 - root_mean_squared_error: 0.2626 - val_loss: 0.0687 - val_root_mean_squared_error: 0.2621\n",
      "Epoch 10/10\n",
      "258/258 [==============================] - 0s 2ms/step - loss: 0.0689 - root_mean_squared_error: 0.2625 - val_loss: 0.0686 - val_root_mean_squared_error: 0.2618\n"
     ]
    },
    {
     "data": {
      "text/plain": [
       "<tensorflow.python.keras.callbacks.History at 0x18d6c2748>"
      ]
     },
     "execution_count": 49,
     "metadata": {},
     "output_type": "execute_result"
    }
   ],
   "source": [
    "model.fit(X_train, y_train, \n",
    "          validation_data=(X_valid, y_valid),\n",
    "          batch_size=512,\n",
    "         epochs=10)"
   ]
  },
  {
   "cell_type": "code",
   "execution_count": 50,
   "metadata": {},
   "outputs": [
    {
     "name": "stdout",
     "output_type": "stream",
     "text": [
      "dict_keys(['loss', 'root_mean_squared_error', 'val_loss', 'val_root_mean_squared_error'])\n"
     ]
    },
    {
     "data": {
      "image/png": "[encoded data removed]",
      "text/plain": [
       "<Figure size 432x288 with 1 Axes>"
      ]
     },
     "metadata": {
      "needs_background": "light"
     },
     "output_type": "display_data"
    }
   ],
   "source": [
    "print(model.history.history.keys())\n",
    "# summarize history for accuracy\n",
    "plt.plot(model.history.history['root_mean_squared_error'])\n",
    "plt.plot(model.history.history['val_root_mean_squared_error'])\n",
    "plt.title('model RMSE')\n",
    "plt.ylabel('RMSE')\n",
    "plt.xlabel('epoch')\n",
    "plt.legend(['train', 'val'], loc='upper left')\n",
    "plt.show()"
   ]
  },
  {
   "cell_type": "markdown",
   "metadata": {},
   "source": [
    "График должен выглядеть как-то так, но разница между начальными и конечными числами должна быть побольше."
   ]
  },
  {
   "cell_type": "markdown",
   "metadata": {},
   "source": [
    "Обучать эмбединги под задачу в теории правильнее всего, но на практике бывает лучше использовать предобученные эмбединги (word2vec, fastext, glove). Отдельно эмбединги обучаются быстрее и можно использовать гораздо больше данных, так как нам не нужна разметка."
   ]
  },
  {
   "cell_type": "markdown",
   "metadata": {},
   "source": [
    "Обучим фастекст модель."
   ]
  },
  {
   "cell_type": "code",
   "execution_count": 51,
   "metadata": {},
   "outputs": [],
   "source": [
    "import gensim"
   ]
  },
  {
   "cell_type": "code",
   "execution_count": 15,
   "metadata": {},
   "outputs": [],
   "source": [
    "texts = avito.description.apply(preprocess).tolist()"
   ]
  },
  {
   "cell_type": "code",
   "execution_count": 23,
   "metadata": {
    "scrolled": true
   },
   "outputs": [
    {
     "name": "stdout",
     "output_type": "stream",
     "text": [
      "CPU times: user 2min 3s, sys: 621 ms, total: 2min 4s\n",
      "Wall time: 46.9 s\n"
     ]
    }
   ],
   "source": [
    "%%time\n",
    "ft = gensim.models.FastText(texts, vector_size=100)"
   ]
  },
  {
   "cell_type": "code",
   "execution_count": 25,
   "metadata": {},
   "outputs": [
    {
     "data": {
      "text/plain": [
       "[('➡️коляска', 0.9847369194030762),\n",
       " ('коляска-люлька', 0.9759660363197327),\n",
       " ('санки-коляска', 0.9555612802505493),\n",
       " ('кресло-коляска', 0.9402867555618286),\n",
       " ('колясочка', 0.933530330657959),\n",
       " ('коляска-трансформер', 0.908164918422699),\n",
       " ('коляски', 0.8965704441070557),\n",
       " ('колясок', 0.8908169269561768),\n",
       " ('коляску-люльку', 0.8881371021270752),\n",
       " ('коляске', 0.884643018245697)]"
      ]
     },
     "execution_count": 25,
     "metadata": {},
     "output_type": "execute_result"
    }
   ],
   "source": [
    "ft.wv.most_similar('коляска')"
   ]
  },
  {
   "cell_type": "markdown",
   "metadata": {},
   "source": [
    "Теперь нам нужно сделать матрицу с векторами. Индексы строчек в этой матрице должны совпадать с индексами слов в словаре."
   ]
  },
  {
   "cell_type": "code",
   "execution_count": 28,
   "metadata": {},
   "outputs": [],
   "source": [
    "weights = np.zeros((len(word2id), 100))\n",
    "\n",
    "for word, i in word2id.items():\n",
    "    # вектор паддинга оставим нулевым\n",
    "    if word == 'PAD':\n",
    "        continue\n",
    "\n",
    "    try:\n",
    "        weights[i] = ft.wv[word]\n",
    "    \n",
    "    \n",
    "    except KeyError:\n",
    "        # для слов, которых нет в модели тоже возьмем какой-то  рандомный вектор\n",
    "        weights[i] = ft.wv['опрагпллирао']"
   ]
  },
  {
   "cell_type": "code",
   "execution_count": 29,
   "metadata": {},
   "outputs": [],
   "source": [
    "inputs = tf.keras.layers.Input(shape=(100,))\n",
    "\n",
    "# передаем матрицу в эмбединг слой\n",
    "# указываем параметр trainable=False, чтобы вектора не обучались\n",
    "# Пояснение: кажется, что обучение векторов отключать не стоит, так как модель должна взять готовые \n",
    "# эмбединги и подогнать их к нашей задаче. На практитке это однако не работает - эмбединги просто \n",
    "# обучатся заново\n",
    "embeddings = tf.keras.layers.Embedding(input_dim=len(word2id), output_dim=100, trainable=False,\n",
    "                                      weights=[weights])(inputs, )\n",
    "mean = tf.keras.layers.Lambda(lambda x: tf.keras.backend.mean(x,  axis=1))(embeddings)\n",
    "dense = tf.keras.layers.Dense(64, activation='relu')(mean)\n",
    "dense = tf.keras.layers.Dense(64, activation='relu')(mean)\n",
    "outputs = tf.keras.layers.Dense(1, activation='linear')(dense)\n",
    "\n",
    "model = tf.keras.Model(inputs=inputs, outputs=outputs)\n",
    "optimizer = tf.keras.optimizers.Adam(learning_rate=0.0001)\n",
    "model.compile(optimizer=optimizer,\n",
    "              loss='mse',\n",
    "              metrics=[tf.keras.metrics.RootMeanSquaredError()])\n"
   ]
  },
  {
   "cell_type": "code",
   "execution_count": 52,
   "metadata": {},
   "outputs": [
    {
     "name": "stdout",
     "output_type": "stream",
     "text": [
      "Epoch 1/30\n",
      "258/258 [==============================] - 1s 2ms/step - loss: 0.0683 - root_mean_squared_error: 0.2614 - val_loss: 0.0684 - val_root_mean_squared_error: 0.2615\n",
      "Epoch 2/30\n",
      "258/258 [==============================] - 0s 2ms/step - loss: 0.0682 - root_mean_squared_error: 0.2611 - val_loss: 0.0682 - val_root_mean_squared_error: 0.2611\n",
      "Epoch 3/30\n",
      "258/258 [==============================] - 0s 2ms/step - loss: 0.0680 - root_mean_squared_error: 0.2607 - val_loss: 0.0680 - val_root_mean_squared_error: 0.2608\n",
      "Epoch 4/30\n",
      "258/258 [==============================] - 0s 2ms/step - loss: 0.0677 - root_mean_squared_error: 0.2603 - val_loss: 0.0678 - val_root_mean_squared_error: 0.2603\n",
      "Epoch 5/30\n",
      "258/258 [==============================] - 0s 2ms/step - loss: 0.0675 - root_mean_squared_error: 0.2598 - val_loss: 0.0675 - val_root_mean_squared_error: 0.2599\n",
      "Epoch 6/30\n",
      "258/258 [==============================] - 0s 2ms/step - loss: 0.0672 - root_mean_squared_error: 0.2593 - val_loss: 0.0673 - val_root_mean_squared_error: 0.2594\n",
      "Epoch 7/30\n",
      "258/258 [==============================] - 0s 2ms/step - loss: 0.0669 - root_mean_squared_error: 0.2587 - val_loss: 0.0670 - val_root_mean_squared_error: 0.2588\n",
      "Epoch 8/30\n",
      "258/258 [==============================] - 0s 2ms/step - loss: 0.0666 - root_mean_squared_error: 0.2580 - val_loss: 0.0665 - val_root_mean_squared_error: 0.2580\n",
      "Epoch 9/30\n",
      "258/258 [==============================] - 0s 2ms/step - loss: 0.0661 - root_mean_squared_error: 0.2570 - val_loss: 0.0660 - val_root_mean_squared_error: 0.2569\n",
      "Epoch 10/30\n",
      "258/258 [==============================] - 0s 2ms/step - loss: 0.0655 - root_mean_squared_error: 0.2559 - val_loss: 0.0654 - val_root_mean_squared_error: 0.2558\n",
      "Epoch 11/30\n",
      "258/258 [==============================] - 0s 2ms/step - loss: 0.0649 - root_mean_squared_error: 0.2547 - val_loss: 0.0649 - val_root_mean_squared_error: 0.2547\n",
      "Epoch 12/30\n",
      "258/258 [==============================] - 0s 2ms/step - loss: 0.0643 - root_mean_squared_error: 0.2536 - val_loss: 0.0643 - val_root_mean_squared_error: 0.2536\n",
      "Epoch 13/30\n",
      "258/258 [==============================] - 0s 2ms/step - loss: 0.0637 - root_mean_squared_error: 0.2525 - val_loss: 0.0638 - val_root_mean_squared_error: 0.2526\n",
      "Epoch 14/30\n",
      "258/258 [==============================] - 0s 2ms/step - loss: 0.0632 - root_mean_squared_error: 0.2514 - val_loss: 0.0634 - val_root_mean_squared_error: 0.2517\n",
      "Epoch 15/30\n",
      "258/258 [==============================] - 0s 2ms/step - loss: 0.0627 - root_mean_squared_error: 0.2505 - val_loss: 0.0629 - val_root_mean_squared_error: 0.2509\n",
      "Epoch 16/30\n",
      "258/258 [==============================] - 0s 2ms/step - loss: 0.0623 - root_mean_squared_error: 0.2496 - val_loss: 0.0626 - val_root_mean_squared_error: 0.2502\n",
      "Epoch 17/30\n",
      "258/258 [==============================] - 0s 2ms/step - loss: 0.0619 - root_mean_squared_error: 0.2488 - val_loss: 0.0623 - val_root_mean_squared_error: 0.2496\n",
      "Epoch 18/30\n",
      "258/258 [==============================] - 0s 2ms/step - loss: 0.0616 - root_mean_squared_error: 0.2481 - val_loss: 0.0620 - val_root_mean_squared_error: 0.2491\n",
      "Epoch 19/30\n",
      "258/258 [==============================] - 1s 2ms/step - loss: 0.0613 - root_mean_squared_error: 0.2475 - val_loss: 0.0618 - val_root_mean_squared_error: 0.2485\n",
      "Epoch 20/30\n",
      "258/258 [==============================] - 0s 2ms/step - loss: 0.0610 - root_mean_squared_error: 0.2469 - val_loss: 0.0616 - val_root_mean_squared_error: 0.2481\n",
      "Epoch 21/30\n",
      "258/258 [==============================] - 0s 2ms/step - loss: 0.0607 - root_mean_squared_error: 0.2464 - val_loss: 0.0614 - val_root_mean_squared_error: 0.2478\n",
      "Epoch 22/30\n",
      "258/258 [==============================] - 0s 2ms/step - loss: 0.0605 - root_mean_squared_error: 0.2459 - val_loss: 0.0612 - val_root_mean_squared_error: 0.2474\n",
      "Epoch 23/30\n",
      "258/258 [==============================] - 0s 2ms/step - loss: 0.0603 - root_mean_squared_error: 0.2455 - val_loss: 0.0611 - val_root_mean_squared_error: 0.2471\n",
      "Epoch 24/30\n",
      "258/258 [==============================] - 0s 2ms/step - loss: 0.0601 - root_mean_squared_error: 0.2451 - val_loss: 0.0610 - val_root_mean_squared_error: 0.2469\n",
      "Epoch 25/30\n",
      "258/258 [==============================] - 1s 2ms/step - loss: 0.0599 - root_mean_squared_error: 0.2447 - val_loss: 0.0608 - val_root_mean_squared_error: 0.2467\n",
      "Epoch 26/30\n",
      "258/258 [==============================] - 0s 2ms/step - loss: 0.0597 - root_mean_squared_error: 0.2443 - val_loss: 0.0608 - val_root_mean_squared_error: 0.2465\n",
      "Epoch 27/30\n",
      "258/258 [==============================] - 0s 2ms/step - loss: 0.0595 - root_mean_squared_error: 0.2440 - val_loss: 0.0607 - val_root_mean_squared_error: 0.2463\n",
      "Epoch 28/30\n",
      "258/258 [==============================] - 0s 2ms/step - loss: 0.0593 - root_mean_squared_error: 0.2436 - val_loss: 0.0606 - val_root_mean_squared_error: 0.2461\n",
      "Epoch 29/30\n",
      "258/258 [==============================] - 1s 2ms/step - loss: 0.0592 - root_mean_squared_error: 0.2433 - val_loss: 0.0605 - val_root_mean_squared_error: 0.2460\n",
      "Epoch 30/30\n",
      "258/258 [==============================] - 0s 2ms/step - loss: 0.0590 - root_mean_squared_error: 0.2430 - val_loss: 0.0604 - val_root_mean_squared_error: 0.2458\n"
     ]
    },
    {
     "data": {
      "text/plain": [
       "<tensorflow.python.keras.callbacks.History at 0x18e6f0198>"
      ]
     },
     "execution_count": 52,
     "metadata": {},
     "output_type": "execute_result"
    }
   ],
   "source": [
    "model.fit(X_train, y_train, \n",
    "          validation_data=(X_valid, y_valid),\n",
    "          batch_size=512,\n",
    "         epochs=30)"
   ]
  },
  {
   "cell_type": "code",
   "execution_count": 53,
   "metadata": {},
   "outputs": [
    {
     "name": "stdout",
     "output_type": "stream",
     "text": [
      "dict_keys(['loss', 'root_mean_squared_error', 'val_loss', 'val_root_mean_squared_error'])\n"
     ]
    },
    {
     "data": {
      "image/png": "[encoded data removed]",
      "text/plain": [
       "<Figure size 432x288 with 1 Axes>"
      ]
     },
     "metadata": {
      "needs_background": "light"
     },
     "output_type": "display_data"
    }
   ],
   "source": [
    "print(model.history.history.keys())\n",
    "# summarize history for accuracy\n",
    "plt.plot(model.history.history['root_mean_squared_error'])\n",
    "plt.plot(model.history.history['val_root_mean_squared_error'])\n",
    "plt.title('model RMSE')\n",
    "plt.ylabel('RMSE')\n",
    "plt.xlabel('epoch')\n",
    "plt.legend(['train', 'val'], loc='upper left')\n",
    "plt.show()"
   ]
  },
  {
   "cell_type": "markdown",
   "metadata": {},
   "source": [
    "## Классификация"
   ]
  },
  {
   "cell_type": "markdown",
   "metadata": {},
   "source": [
    "Теперь проделаем тоже самое с классификацией. \n",
    "\n",
    "Данные возьмем из соревнования - https://www.kaggle.com/c/quora-insincere-questions-classification/overview  \n",
    "В этом соревновании нужно было предсказывать токсичность вопроса."
   ]
  },
  {
   "cell_type": "code",
   "execution_count": 55,
   "metadata": {},
   "outputs": [],
   "source": [
    "quora = pd.read_csv('quora.csv')"
   ]
  },
  {
   "cell_type": "code",
   "execution_count": 56,
   "metadata": {},
   "outputs": [
    {
     "data": {
      "text/html": [
       "<div>\n",
       "<style scoped>\n",
       "    .dataframe tbody tr th:only-of-type {\n",
       "        vertical-align: middle;\n",
       "    }\n",
       "\n",
       "    .dataframe tbody tr th {\n",
       "        vertical-align: top;\n",
       "    }\n",
       "\n",
       "    .dataframe thead th {\n",
       "        text-align: right;\n",
       "    }\n",
       "</style>\n",
       "<table border=\"1\" class=\"dataframe\">\n",
       "  <thead>\n",
       "    <tr style=\"text-align: right;\">\n",
       "      <th></th>\n",
       "      <th>qid</th>\n",
       "      <th>question_text</th>\n",
       "      <th>target</th>\n",
       "    </tr>\n",
       "  </thead>\n",
       "  <tbody>\n",
       "    <tr>\n",
       "      <th>0</th>\n",
       "      <td>00002165364db923c7e6</td>\n",
       "      <td>How did Quebec nationalists see their province...</td>\n",
       "      <td>0</td>\n",
       "    </tr>\n",
       "    <tr>\n",
       "      <th>1</th>\n",
       "      <td>000032939017120e6e44</td>\n",
       "      <td>Do you have an adopted dog, how would you enco...</td>\n",
       "      <td>0</td>\n",
       "    </tr>\n",
       "    <tr>\n",
       "      <th>2</th>\n",
       "      <td>0000412ca6e4628ce2cf</td>\n",
       "      <td>Why does velocity affect time? Does velocity a...</td>\n",
       "      <td>0</td>\n",
       "    </tr>\n",
       "    <tr>\n",
       "      <th>3</th>\n",
       "      <td>000042bf85aa498cd78e</td>\n",
       "      <td>How did Otto von Guericke used the Magdeburg h...</td>\n",
       "      <td>0</td>\n",
       "    </tr>\n",
       "    <tr>\n",
       "      <th>4</th>\n",
       "      <td>0000455dfa3e01eae3af</td>\n",
       "      <td>Can I convert montra helicon D to a mountain b...</td>\n",
       "      <td>0</td>\n",
       "    </tr>\n",
       "    <tr>\n",
       "      <th>...</th>\n",
       "      <td>...</td>\n",
       "      <td>...</td>\n",
       "      <td>...</td>\n",
       "    </tr>\n",
       "    <tr>\n",
       "      <th>1306117</th>\n",
       "      <td>ffffcc4e2331aaf1e41e</td>\n",
       "      <td>What other technical skills do you need as a c...</td>\n",
       "      <td>0</td>\n",
       "    </tr>\n",
       "    <tr>\n",
       "      <th>1306118</th>\n",
       "      <td>ffffd431801e5a2f4861</td>\n",
       "      <td>Does MS in ECE have good job prospects in USA ...</td>\n",
       "      <td>0</td>\n",
       "    </tr>\n",
       "    <tr>\n",
       "      <th>1306119</th>\n",
       "      <td>ffffd48fb36b63db010c</td>\n",
       "      <td>Is foam insulation toxic?</td>\n",
       "      <td>0</td>\n",
       "    </tr>\n",
       "    <tr>\n",
       "      <th>1306120</th>\n",
       "      <td>ffffec519fa37cf60c78</td>\n",
       "      <td>How can one start a research project based on ...</td>\n",
       "      <td>0</td>\n",
       "    </tr>\n",
       "    <tr>\n",
       "      <th>1306121</th>\n",
       "      <td>ffffed09fedb5088744a</td>\n",
       "      <td>Who wins in a battle between a Wolverine and a...</td>\n",
       "      <td>0</td>\n",
       "    </tr>\n",
       "  </tbody>\n",
       "</table>\n",
       "<p>1306122 rows × 3 columns</p>\n",
       "</div>"
      ],
      "text/plain": [
       "                          qid  \\\n",
       "0        00002165364db923c7e6   \n",
       "1        000032939017120e6e44   \n",
       "2        0000412ca6e4628ce2cf   \n",
       "3        000042bf85aa498cd78e   \n",
       "4        0000455dfa3e01eae3af   \n",
       "...                       ...   \n",
       "1306117  ffffcc4e2331aaf1e41e   \n",
       "1306118  ffffd431801e5a2f4861   \n",
       "1306119  ffffd48fb36b63db010c   \n",
       "1306120  ffffec519fa37cf60c78   \n",
       "1306121  ffffed09fedb5088744a   \n",
       "\n",
       "                                             question_text  target  \n",
       "0        How did Quebec nationalists see their province...       0  \n",
       "1        Do you have an adopted dog, how would you enco...       0  \n",
       "2        Why does velocity affect time? Does velocity a...       0  \n",
       "3        How did Otto von Guericke used the Magdeburg h...       0  \n",
       "4        Can I convert montra helicon D to a mountain b...       0  \n",
       "...                                                    ...     ...  \n",
       "1306117  What other technical skills do you need as a c...       0  \n",
       "1306118  Does MS in ECE have good job prospects in USA ...       0  \n",
       "1306119                          Is foam insulation toxic?       0  \n",
       "1306120  How can one start a research project based on ...       0  \n",
       "1306121  Who wins in a battle between a Wolverine and a...       0  \n",
       "\n",
       "[1306122 rows x 3 columns]"
      ]
     },
     "execution_count": 56,
     "metadata": {},
     "output_type": "execute_result"
    }
   ],
   "source": [
    "quora"
   ]
  },
  {
   "cell_type": "markdown",
   "metadata": {},
   "source": [
    "Предобработка точно такая же"
   ]
  },
  {
   "cell_type": "code",
   "execution_count": 57,
   "metadata": {},
   "outputs": [],
   "source": [
    "# словарь\n",
    "vocab = Counter()\n",
    "\n",
    "for text in quora.question_text:\n",
    "    vocab.update(preprocess(text))"
   ]
  },
  {
   "cell_type": "code",
   "execution_count": 58,
   "metadata": {},
   "outputs": [
    {
     "data": {
      "text/plain": [
       "273056"
      ]
     },
     "execution_count": 58,
     "metadata": {},
     "output_type": "execute_result"
    }
   ],
   "source": [
    "len(vocab)"
   ]
  },
  {
   "cell_type": "code",
   "execution_count": 59,
   "metadata": {},
   "outputs": [],
   "source": [
    "# отфильтрованный словарь\n",
    "filtered_vocab = set()\n",
    "\n",
    "for word in vocab:\n",
    "    if vocab[word] > 50:\n",
    "        filtered_vocab.add(word)"
   ]
  },
  {
   "cell_type": "code",
   "execution_count": 60,
   "metadata": {},
   "outputs": [
    {
     "data": {
      "text/plain": [
       "14083"
      ]
     },
     "execution_count": 60,
     "metadata": {},
     "output_type": "execute_result"
    }
   ],
   "source": [
    "len(filtered_vocab)"
   ]
  },
  {
   "cell_type": "code",
   "execution_count": 61,
   "metadata": {},
   "outputs": [],
   "source": [
    "# индексируем слова\n",
    "word2id = {'PAD':0}\n",
    "\n",
    "for word in filtered_vocab:\n",
    "    word2id[word] = len(word2id)"
   ]
  },
  {
   "cell_type": "code",
   "execution_count": 62,
   "metadata": {},
   "outputs": [],
   "source": [
    "id2word = {i:word for word, i in word2id.items()}"
   ]
  },
  {
   "cell_type": "code",
   "execution_count": 63,
   "metadata": {},
   "outputs": [],
   "source": [
    "# переводим тексты в последовательности индексов\n",
    "X = []\n",
    "\n",
    "for text in quora.question_text:\n",
    "    tokens = preprocess(text)\n",
    "    ids = [word2id.get(token, 1) for token in tokens]\n",
    "    X.append(ids)"
   ]
  },
  {
   "cell_type": "code",
   "execution_count": 64,
   "metadata": {},
   "outputs": [],
   "source": [
    "MAX_LEN = max(len(x) for x in X)"
   ]
  },
  {
   "cell_type": "code",
   "execution_count": 65,
   "metadata": {},
   "outputs": [
    {
     "data": {
      "text/plain": [
       "134"
      ]
     },
     "execution_count": 65,
     "metadata": {},
     "output_type": "execute_result"
    }
   ],
   "source": [
    "MAX_LEN"
   ]
  },
  {
   "cell_type": "markdown",
   "metadata": {},
   "source": [
    "Тут уже максимальная длина не такая большая"
   ]
  },
  {
   "cell_type": "code",
   "execution_count": 66,
   "metadata": {},
   "outputs": [],
   "source": [
    "# паддинг\n",
    "X = tf.keras.preprocessing.sequence.pad_sequences(X, maxlen=MAX_LEN)"
   ]
  },
  {
   "cell_type": "code",
   "execution_count": 67,
   "metadata": {},
   "outputs": [
    {
     "data": {
      "text/plain": [
       "(1306122, 134)"
      ]
     },
     "execution_count": 67,
     "metadata": {},
     "output_type": "execute_result"
    }
   ],
   "source": [
    "X.shape"
   ]
  },
  {
   "cell_type": "code",
   "execution_count": 68,
   "metadata": {},
   "outputs": [],
   "source": [
    "y = quora.target.values"
   ]
  },
  {
   "cell_type": "code",
   "execution_count": 69,
   "metadata": {},
   "outputs": [],
   "source": [
    "X_train, X_valid, y_train, y_valid = train_test_split(X, y, test_size=0.05)"
   ]
  },
  {
   "cell_type": "markdown",
   "metadata": {},
   "source": [
    "Разлчия в самой модели тоже минимальные - нужно поменять активацию в последнем слое, лосс и метрику."
   ]
  },
  {
   "cell_type": "code",
   "execution_count": 70,
   "metadata": {},
   "outputs": [],
   "source": [
    "inputs = tf.keras.layers.Input(shape=(MAX_LEN,))\n",
    "\n",
    "# передаем матрицу в эмбединг слой\n",
    "# указываем параметр trainable=False, чтобы вектора не обучались\n",
    "# Пояснение: кажется, что обучение векторов отключать не стоит, так как модель должна взять готовые \n",
    "# эмбединги и подогнать их к нашей задаче. На практитке это однако не работает - эмбединги просто \n",
    "# обучатся заново\n",
    "embeddings = tf.keras.layers.Embedding(input_dim=len(word2id), output_dim=100)(inputs, )\n",
    "mean = tf.keras.layers.Flatten()(embeddings)\n",
    "dense = tf.keras.layers.Dense(64, activation='relu')(mean)\n",
    "dense = tf.keras.layers.Dense(64, activation='relu')(mean)\n",
    "outputs = tf.keras.layers.Dense(1, activation='sigmoid')(dense)\n",
    "\n",
    "model = tf.keras.Model(inputs=inputs, outputs=outputs)\n",
    "optimizer = tf.keras.optimizers.Adam(learning_rate=0.0001)\n",
    "model.compile(optimizer=optimizer,\n",
    "              loss='binary_crossentropy',\n",
    "              metrics=['accuracy'])\n"
   ]
  },
  {
   "cell_type": "markdown",
   "metadata": {},
   "source": [
    "Как выбирать batch_size? Размер батча может влиять на качество модели и точно влияет на скорость обучения. Обычно, чем больше батч, тем быстрее будет обучаться модель. Размер батча ограничен памятью видеокарты, поэтому чем лучше gpu, тем больше может быть batch_size. \n",
    "\n",
    "Примерное максимальное значение можно найти быстрым перебором. Если появляется ошибка, то слишком большой batch_size, а если обучается, то можно попробовать поставить побольше."
   ]
  },
  {
   "cell_type": "code",
   "execution_count": 71,
   "metadata": {
    "scrolled": true
   },
   "outputs": [
    {
     "name": "stdout",
     "output_type": "stream",
     "text": [
      "Epoch 1/10\n",
      "63/63 [==============================] - 40s 589ms/step - loss: 0.3748 - accuracy: 0.8755 - val_loss: 0.2258 - val_accuracy: 0.9378\n",
      "Epoch 2/10\n",
      "63/63 [==============================] - 39s 613ms/step - loss: 0.2237 - accuracy: 0.9380 - val_loss: 0.2198 - val_accuracy: 0.9378\n",
      "Epoch 3/10\n",
      "63/63 [==============================] - 39s 616ms/step - loss: 0.2160 - accuracy: 0.9381 - val_loss: 0.2057 - val_accuracy: 0.9378\n",
      "Epoch 4/10\n",
      "63/63 [==============================] - 44s 696ms/step - loss: 0.2001 - accuracy: 0.9380 - val_loss: 0.1826 - val_accuracy: 0.9382\n",
      "Epoch 5/10\n",
      "63/63 [==============================] - 44s 698ms/step - loss: 0.1766 - accuracy: 0.9390 - val_loss: 0.1600 - val_accuracy: 0.9414\n",
      "Epoch 6/10\n",
      "63/63 [==============================] - 43s 675ms/step - loss: 0.1565 - accuracy: 0.9422 - val_loss: 0.1463 - val_accuracy: 0.9443\n",
      "Epoch 7/10\n",
      "63/63 [==============================] - 43s 676ms/step - loss: 0.1438 - accuracy: 0.9453 - val_loss: 0.1380 - val_accuracy: 0.9465\n",
      "Epoch 8/10\n",
      "63/63 [==============================] - 44s 702ms/step - loss: 0.1362 - accuracy: 0.9475 - val_loss: 0.1322 - val_accuracy: 0.9485\n",
      "Epoch 9/10\n",
      "63/63 [==============================] - 42s 671ms/step - loss: 0.1303 - accuracy: 0.9493 - val_loss: 0.1282 - val_accuracy: 0.9498\n",
      "Epoch 10/10\n",
      "63/63 [==============================] - 42s 673ms/step - loss: 0.1267 - accuracy: 0.9502 - val_loss: 0.1253 - val_accuracy: 0.9506\n"
     ]
    },
    {
     "data": {
      "text/plain": [
       "<tensorflow.python.keras.callbacks.History at 0x1ae02cd68>"
      ]
     },
     "execution_count": 71,
     "metadata": {},
     "output_type": "execute_result"
    }
   ],
   "source": [
    "# как выглядит ошибка при слишком большом батче\n",
    "model.fit(X_train, y_train, \n",
    "          validation_data=(X_valid, y_valid),\n",
    "          batch_size=20000,\n",
    "         epochs=10)"
   ]
  },
  {
   "cell_type": "code",
   "execution_count": null,
   "metadata": {},
   "outputs": [],
   "source": []
  },
  {
   "cell_type": "code",
   "execution_count": 73,
   "metadata": {
    "scrolled": true
   },
   "outputs": [],
   "source": [
    "# model.fit(X_train, y_train, \n",
    "#           validation_data=(X_valid, y_valid),\n",
    "#           batch_size=512,\n",
    "#          epochs=10)"
   ]
  },
  {
   "cell_type": "code",
   "execution_count": 74,
   "metadata": {},
   "outputs": [
    {
     "name": "stdout",
     "output_type": "stream",
     "text": [
      "dict_keys(['loss', 'accuracy', 'val_loss', 'val_accuracy'])\n"
     ]
    },
    {
     "data": {
      "image/png": "[encoded data removed]",
      "text/plain": [
       "<Figure size 432x288 with 1 Axes>"
      ]
     },
     "metadata": {
      "needs_background": "light"
     },
     "output_type": "display_data"
    }
   ],
   "source": [
    "print(model.history.history.keys())\n",
    "# summarize history for accuracy\n",
    "plt.plot(model.history.history['accuracy'])\n",
    "plt.plot(model.history.history['val_accuracy'])\n",
    "plt.title('model accuracy')\n",
    "plt.ylabel('accuracy')\n",
    "plt.xlabel('epoch')\n",
    "plt.legend(['train', 'val'], loc='upper left')\n",
    "plt.show()"
   ]
  },
  {
   "cell_type": "markdown",
   "metadata": {},
   "source": [
    "Из-за перекоса в классах accuracy не очень честно оценивает модель. F1 меры в tf.keras нет, но можно просто сделать предикт и посчитать через sklearn"
   ]
  },
  {
   "cell_type": "code",
   "execution_count": 75,
   "metadata": {},
   "outputs": [],
   "source": [
    "from sklearn.metrics import classification_report"
   ]
  },
  {
   "cell_type": "code",
   "execution_count": 76,
   "metadata": {},
   "outputs": [],
   "source": [
    "preds = model.predict(X_valid).reshape(-1)"
   ]
  },
  {
   "cell_type": "code",
   "execution_count": 77,
   "metadata": {},
   "outputs": [
    {
     "name": "stdout",
     "output_type": "stream",
     "text": [
      "              precision    recall  f1-score   support\n",
      "\n",
      "           0       0.96      0.99      0.97     61244\n",
      "           1       0.68      0.39      0.50      4063\n",
      "\n",
      "    accuracy                           0.95     65307\n",
      "   macro avg       0.82      0.69      0.74     65307\n",
      "weighted avg       0.94      0.95      0.94     65307\n",
      "\n"
     ]
    }
   ],
   "source": [
    "# можно подбирать порог для отнесения к токсичному классу\n",
    "print(classification_report(y_valid, (preds > 0.5).astype(int)))"
   ]
  },
  {
   "cell_type": "markdown",
   "metadata": {},
   "source": [
    "## Домашка\n",
    "\n",
    "1) На одной из задач сравните, что лучше: а) конкатенировать эмбединги в один большой эмбединг, б) усреднять эмбединги, в) складывать эмбединги. Зафиксируйте разбиение на train_test  через random_seed, чтобы обучаться и оцениваться на одних и тех же данных. Параметры нейронок не нужно делать одинаковыми. Просто попробуйте добиться максимума от каждого из подходов. \n",
    "\n",
    "2) В одной из задач используйте сразу две предобученные эмбединг модели (можно фастекст и ворд2век, а можно просто 2 фастекста с разными параметрами) в одной нейронке (имеется в виду предобученные до обучения нейронки, т.е вы можете сами обучить фастекст/ворд2век и не искать готовые модели в интернете). Попробуйте усреднять эмбединги и конкатенировать (общие эмбединги потом в один вектор собирайте любым способом - например, тем который оказался лучше в первой задаче).\n",
    "Подсказка: используйте functional api, сделайте два Embedding слоя и к их выходам примените слой Concatenate([emb1, emb2)) или Average([emb1, emb2))\n",
    "\n"
   ]
  },
  {
   "cell_type": "markdown",
   "metadata": {},
   "source": [
    "Бонусный балл можно получить за добавление к пайплайну subword токенизации (через библиотеку tokenizers например)"
   ]
  },
  {
   "cell_type": "markdown",
   "metadata": {},
   "source": [
    "Лучше делать задание на второй задаче, так как в Авито в любом случае разница будет в несколько десятых процентов."
   ]
  }
 ],
 "metadata": {
  "kernelspec": {
   "display_name": "Python 3",
   "language": "python",
   "name": "python3"
  },
  "language_info": {
   "codemirror_mode": {
    "name": "ipython",
    "version": 3
   },
   "file_extension": ".py",
   "mimetype": "text/x-python",
   "name": "python",
   "nbconvert_exporter": "python",
   "pygments_lexer": "ipython3",
   "version": "3.7.2"
  }
 },
 "nbformat": 4,
 "nbformat_minor": 4
}
