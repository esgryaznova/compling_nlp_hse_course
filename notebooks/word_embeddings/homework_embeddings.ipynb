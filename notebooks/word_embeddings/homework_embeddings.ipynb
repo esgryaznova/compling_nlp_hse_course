{
  "cells": [
    {
      "cell_type": "markdown",
      "id": "6af66482",
      "metadata": {
        "id": "6af66482"
      },
      "source": [
        "#### Важное требование ко всей домашке в целом: в jupyter ноутбуке не должно был лишнего кода (т.е. если вы взяли за основу семинар, не забудьте удалить все лишнее)"
      ]
    },
    {
      "cell_type": "code",
      "source": [
        "!pip install pymorphy2\n",
        "!pip install razdel"
      ],
      "metadata": {
        "id": "dlWqssqKhIdH"
      },
      "id": "dlWqssqKhIdH",
      "execution_count": null,
      "outputs": []
    },
    {
      "cell_type": "code",
      "execution_count": 2,
      "id": "1aed5eae",
      "metadata": {
        "id": "1aed5eae"
      },
      "outputs": [],
      "source": [
        "import tensorflow as tf\n",
        "import numpy as np\n",
        "import pandas as pd\n",
        "from string import punctuation\n",
        "from sklearn.model_selection import train_test_split\n",
        "from collections import Counter\n",
        "import matplotlib.pyplot as plt\n",
        "from sklearn.decomposition import TruncatedSVD\n",
        "from sklearn.feature_extraction.text import CountVectorizer\n",
        "from sklearn.metrics.pairwise import cosine_distances\n",
        "\n",
        "from IPython.display import Image\n",
        "from IPython.core.display import HTML \n",
        "%matplotlib inline\n",
        "\n",
        "from razdel import tokenize as razdel_tokenize\n",
        "from pymorphy2 import MorphAnalyzer\n",
        "morph = MorphAnalyzer()\n",
        "import gensim"
      ]
    },
    {
      "cell_type": "markdown",
      "id": "9c422aa0",
      "metadata": {
        "id": "9c422aa0"
      },
      "source": [
        "# Задание 1 (3 балла)"
      ]
    },
    {
      "cell_type": "markdown",
      "id": "e4a72790",
      "metadata": {
        "id": "e4a72790"
      },
      "source": [
        "Обучите word2vec модели с негативным семплированием (cbow и skip-gram) с помощью tensorflow аналогично тому, как это было сделано в семинаре. Вам нужно изменить следующие пункты: \n",
        "1) добавьте лемматизацию в предобработку (любым способом)  \n",
        "2) измените размер окна на 6 для cbow и 12 для skip gram (обратите внимание, что размер окна = #слов слева + #слов справа, в gen_batches в семинаре window не так используется)  \n",
        "3) измените часть с np.random.randint(vocab_size) так, чтобы случайные негативные примеры выбирались обратно пропорционально частотностям слов (частотные должны выбираться реже, а редкие чаще)\n",
        "\n",
        "Выберете несколько не похожих по смыслу слов, и протестируйте полученные эмбединги (найдите ближайшие слова и оцените правильность, как в семинаре)"
      ]
    },
    {
      "cell_type": "code",
      "execution_count": 3,
      "id": "4f71d7cb",
      "metadata": {
        "id": "4f71d7cb"
      },
      "outputs": [],
      "source": [
        "def preprocess(text):\n",
        "    tokens = text.lower().split()\n",
        "    tokens = [token.strip(punctuation) for token in tokens]\n",
        "    tokens = [morph.parse(token)[0].normal_form for token in tokens]\n",
        "    return tokens"
      ]
    },
    {
      "cell_type": "code",
      "source": [
        "texts = open('wiki_data.txt').read().splitlines()[:5000]"
      ],
      "metadata": {
        "id": "o_gMFoz5DJFz"
      },
      "id": "o_gMFoz5DJFz",
      "execution_count": 4,
      "outputs": []
    },
    {
      "cell_type": "code",
      "source": [
        "vocab = Counter()\n",
        "\n",
        "wiki = texts \n",
        "for text in wiki:\n",
        "    vocab.update(preprocess(text))\n",
        "\n",
        "filtered_vocab = set()\n",
        "\n",
        "for word in vocab:\n",
        "    if vocab[word] > 30:\n",
        "        filtered_vocab.add(word)"
      ],
      "metadata": {
        "id": "xA7YSbG56V6L"
      },
      "id": "xA7YSbG56V6L",
      "execution_count": 5,
      "outputs": []
    },
    {
      "cell_type": "code",
      "source": [
        "word2id = { 'PAD':0}\n",
        "\n",
        "for word in filtered_vocab:\n",
        "    word2id[word] = len(word2id)"
      ],
      "metadata": {
        "id": "q3UV08Rn6WLg"
      },
      "id": "q3UV08Rn6WLg",
      "execution_count": 6,
      "outputs": []
    },
    {
      "cell_type": "code",
      "source": [
        "id2word = {i:word for word, i in word2id.items()}"
      ],
      "metadata": {
        "id": "enfDrz316WXi"
      },
      "id": "enfDrz316WXi",
      "execution_count": 7,
      "outputs": []
    },
    {
      "cell_type": "code",
      "source": [
        "sentences = []\n",
        "\n",
        "for text in wiki:\n",
        "    tokens = preprocess(text)\n",
        "    ids = [word2id[token] for token in tokens if token in word2id]\n",
        "    sentences.append(ids)"
      ],
      "metadata": {
        "id": "QaZuzeAK6WgQ"
      },
      "id": "QaZuzeAK6WgQ",
      "execution_count": 8,
      "outputs": []
    },
    {
      "cell_type": "code",
      "source": [
        "# skip gram\n",
        "def gen_batches_sg(sentences, window = 6, batch_size=1000):\n",
        "    while True:\n",
        "        X_target = []\n",
        "        X_context = []\n",
        "        y = []\n",
        "\n",
        "        for sent in sentences:\n",
        "            for i in range(len(sent)-1):\n",
        "                word = sent[i]\n",
        "                context = sent[max(0, i-window//2):i] + sent[i+1:i+window//2]\n",
        "                for context_word in context:\n",
        "                    X_target.append(word)\n",
        "                    X_context.append(context_word)\n",
        "                    y.append(1)\n",
        "                    \n",
        "                    X_target.append(word)\n",
        "                    X_context.append(np.random.randint(vocab_size)) #не знаю как ((\n",
        "                    y.append(0)\n",
        "                    \n",
        "                    if len(X_target) >= batch_size:\n",
        "                        X_target = np.array(X_target)\n",
        "                        X_context = np.array(X_context)\n",
        "                        y = np.array(y)\n",
        "                        yield ((X_target, X_context), y)\n",
        "                        X_target = []\n",
        "                        X_context = []\n",
        "                        y = []\n"
      ],
      "metadata": {
        "id": "mFfW2PLFwGDM"
      },
      "id": "mFfW2PLFwGDM",
      "execution_count": 11,
      "outputs": []
    },
    {
      "cell_type": "code",
      "source": [
        "# # cbow \n",
        "def gen_batches_cbow(sentences, window = 12, batch_size=1000):\n",
        "    while True:\n",
        "        X_target = []\n",
        "        X_context = []\n",
        "        y = []\n",
        "\n",
        "        for sent in sentences:\n",
        "            for i in range(len(sent)-1):\n",
        "                word = sent[i]\n",
        "                context = sent[max(0, i-window//2):i] + sent[i+1:i+window//2]\n",
        "\n",
        "                X_target.append(word)\n",
        "                X_context.append(context)\n",
        "                y.append(1)\n",
        "                \n",
        "                X_target.append(np.random.randint(vocab_size))\n",
        "                X_context.append(context)\n",
        "                y.append(0)\n",
        "\n",
        "                if len(X_target) == batch_size:\n",
        "                    X_target = np.array(X_target)\n",
        "                    X_context = tf.keras.preprocessing.sequence.pad_sequences(X_context, maxlen=window*2)\n",
        "                    y = np.array(y)\n",
        "                    yield ((X_target, X_context), y)\n",
        "                    X_target = []\n",
        "                    X_context = []\n",
        "                    y = []"
      ],
      "metadata": {
        "id": "sk77IrGgwHdA"
      },
      "id": "sk77IrGgwHdA",
      "execution_count": 12,
      "outputs": []
    },
    {
      "cell_type": "code",
      "source": [
        "inputs_target = tf.keras.layers.Input(shape=(1,))\n",
        "inputs_context = tf.keras.layers.Input(shape=(1,))\n",
        "\n",
        "\n",
        "embeddings_target = tf.keras.layers.Embedding(input_dim=len(word2id), output_dim=300)(inputs_target, )\n",
        "embeddings_context = tf.keras.layers.Embedding(input_dim=len(word2id), output_dim=300)(inputs_context, )\n",
        "\n",
        "target = tf.keras.layers.Flatten()(embeddings_target)\n",
        "context = tf.keras.layers.Flatten()(embeddings_context)\n",
        "dot = tf.keras.layers.Dot(1)([target, context])\n",
        "outputs = tf.keras.layers.Activation(activation='sigmoid')(dot)\n",
        "\n",
        "model = tf.keras.Model(inputs=[inputs_target, inputs_context], \n",
        "                       outputs=outputs)\n",
        "optimizer = tf.keras.optimizers.Adam(learning_rate=0.001)\n",
        "model.compile(optimizer=optimizer,\n",
        "              loss='binary_crossentropy',\n",
        "              metrics=['accuracy'])\n"
      ],
      "metadata": {
        "id": "YYCzuK8VwWNU"
      },
      "id": "YYCzuK8VwWNU",
      "execution_count": 13,
      "outputs": []
    },
    {
      "cell_type": "code",
      "source": [
        "vocab_size = len(id2word)\n",
        "model.fit(gen_batches_sg(sentences[:1000], window=6),\n",
        "          validation_data=gen_batches_sg(sentences[1000:],  window=6),\n",
        "          batch_size=1000,\n",
        "          steps_per_epoch=1000,\n",
        "          validation_steps=30,\n",
        "          epochs=2)  "
      ],
      "metadata": {
        "id": "1-cqhkTpw-Vw"
      },
      "id": "1-cqhkTpw-Vw",
      "execution_count": null,
      "outputs": []
    },
    {
      "cell_type": "code",
      "source": [
        "embeddings = model.layers[2].get_weights()[0]"
      ],
      "metadata": {
        "id": "CnQCUIpiz0gr"
      },
      "id": "CnQCUIpiz0gr",
      "execution_count": 17,
      "outputs": []
    },
    {
      "cell_type": "code",
      "source": [
        "def most_similar(word, embeddings):\n",
        "    similar = [id2word[i] for i in \n",
        "               cosine_distances(embeddings[word2id[word]].reshape(1, -1), embeddings).argsort()[0][:10]]\n",
        "    return similar"
      ],
      "metadata": {
        "id": "rRScWrAT6ZB5"
      },
      "id": "rRScWrAT6ZB5",
      "execution_count": 18,
      "outputs": []
    },
    {
      "cell_type": "code",
      "source": [
        "most_similar('церковь', embeddings)"
      ],
      "metadata": {
        "colab": {
          "base_uri": "https://localhost:8080/"
        },
        "id": "PE5FQtCuz5iU",
        "outputId": "9a354cf0-9184-4e39-edda-1354b1851174"
      },
      "id": "PE5FQtCuz5iU",
      "execution_count": 19,
      "outputs": [
        {
          "output_type": "execute_result",
          "data": {
            "text/plain": [
              "['церковь',\n",
              " 'православный',\n",
              " 'приход',\n",
              " 'храм',\n",
              " 'синод',\n",
              " 'епархия',\n",
              " 'здание',\n",
              " 'икона',\n",
              " 'монастырь',\n",
              " 'рпц']"
            ]
          },
          "metadata": {},
          "execution_count": 19
        }
      ]
    },
    {
      "cell_type": "code",
      "source": [
        "most_similar('собака', embeddings)"
      ],
      "metadata": {
        "colab": {
          "base_uri": "https://localhost:8080/"
        },
        "id": "JUClPUuQqsrs",
        "outputId": "d83721f3-c837-43a9-81c1-59776c73afcc"
      },
      "id": "JUClPUuQqsrs",
      "execution_count": 25,
      "outputs": [
        {
          "output_type": "execute_result",
          "data": {
            "text/plain": [
              "['собака',\n",
              " 'энергия',\n",
              " 'поведение',\n",
              " 'воздействие',\n",
              " 'снижение',\n",
              " 'богиня',\n",
              " 'пломба',\n",
              " 'приобретать',\n",
              " 'животное',\n",
              " 'смысл']"
            ]
          },
          "metadata": {},
          "execution_count": 25
        }
      ]
    },
    {
      "cell_type": "code",
      "source": [
        "#cbow negative sampling\n",
        "inputs_target = tf.keras.layers.Input(shape=(1,))\n",
        "inputs_context = tf.keras.layers.Input(shape=(10,))\n",
        "\n",
        "\n",
        "embeddings_target = tf.keras.layers.Embedding(input_dim=len(word2id), output_dim=300)(inputs_target, )\n",
        "embeddings_context = tf.keras.layers.Embedding(input_dim=len(word2id), output_dim=300)(inputs_context, )\n",
        "\n",
        "target = tf.keras.layers.Lambda(lambda x: tf.keras.backend.sum(x, axis=1))(embeddings_target)\n",
        "context = tf.keras.layers.Lambda(lambda x: tf.keras.backend.sum(x, axis=1))(embeddings_context)\n",
        "dot = tf.keras.layers.Dot(1)([target, context])\n",
        "\n",
        "# полученную близость нужно преобразовать в вероятность\n",
        "# когда она одна используется не софтмакс и сигмоида\n",
        "outputs = tf.keras.layers.Activation(activation='sigmoid')(dot)\n",
        "\n",
        "model = tf.keras.Model(inputs=[inputs_target, inputs_context], \n",
        "                       outputs=outputs)\n",
        "\n",
        "\n",
        "optimizer = tf.keras.optimizers.Adam(learning_rate=0.001)\n",
        "model.compile(optimizer=optimizer,\n",
        "              loss='binary_crossentropy',\n",
        "              metrics=['accuracy'])\n"
      ],
      "metadata": {
        "id": "siWUZ7o3z5tI"
      },
      "id": "siWUZ7o3z5tI",
      "execution_count": 26,
      "outputs": []
    },
    {
      "cell_type": "code",
      "source": [
        "model.fit(gen_batches_cbow(sentences[:1000], window=12),\n",
        "          validation_data=gen_batches_cbow(sentences[1000:],  window=12),\n",
        "          batch_size=1000,\n",
        "          steps_per_epoch=1000,\n",
        "          validation_steps=30,\n",
        "          epochs=2)"
      ],
      "metadata": {
        "id": "L1v0Le3E0Eu5"
      },
      "id": "L1v0Le3E0Eu5",
      "execution_count": null,
      "outputs": []
    },
    {
      "cell_type": "code",
      "source": [
        "embeddings = model.layers[2].get_weights()[0]"
      ],
      "metadata": {
        "id": "Vh8WuwKq0J_5"
      },
      "id": "Vh8WuwKq0J_5",
      "execution_count": 29,
      "outputs": []
    },
    {
      "cell_type": "code",
      "source": [
        "most_similar('церковь', embeddings)"
      ],
      "metadata": {
        "colab": {
          "base_uri": "https://localhost:8080/"
        },
        "id": "Rfdi4-FbrfFu",
        "outputId": "e3f1f7b0-1a73-416b-e1d5-8403279ea3e5"
      },
      "id": "Rfdi4-FbrfFu",
      "execution_count": 30,
      "outputs": [
        {
          "output_type": "execute_result",
          "data": {
            "text/plain": [
              "['церковь',\n",
              " 'здание',\n",
              " 'храм',\n",
              " 'православный',\n",
              " 'собор',\n",
              " 'приход',\n",
              " 'часовня',\n",
              " 'освятить',\n",
              " 'икона',\n",
              " 'святой']"
            ]
          },
          "metadata": {},
          "execution_count": 30
        }
      ]
    },
    {
      "cell_type": "code",
      "source": [
        "most_similar('собака', embeddings)"
      ],
      "metadata": {
        "colab": {
          "base_uri": "https://localhost:8080/"
        },
        "id": "tjV5Evo-0Q0q",
        "outputId": "f89a38b1-7375-41e9-e9d4-64b23fda385c"
      },
      "id": "tjV5Evo-0Q0q",
      "execution_count": 32,
      "outputs": [
        {
          "output_type": "execute_result",
          "data": {
            "text/plain": [
              "['собака',\n",
              " 'поведение',\n",
              " 'матрица',\n",
              " 'шрифт',\n",
              " 'полагать',\n",
              " 'коэффициент',\n",
              " 'богиня',\n",
              " 'координата',\n",
              " 'последовательность',\n",
              " 'ухо']"
            ]
          },
          "metadata": {},
          "execution_count": 32
        }
      ]
    },
    {
      "cell_type": "markdown",
      "id": "c3b61b7c",
      "metadata": {
        "id": "c3b61b7c"
      },
      "source": [
        "# Задание 2 (3 балла)"
      ]
    },
    {
      "cell_type": "markdown",
      "id": "66eff080",
      "metadata": {
        "id": "66eff080"
      },
      "source": [
        "Обучите 1 word2vec и 1 fastext модель в gensim. В каждой из модели нужно задать все параметры, которые мы разбирали на семинаре. Заданные значения должны отличаться от дефолтных и от тех, что мы использовали на семинаре."
      ]
    },
    {
      "cell_type": "code",
      "source": [
        "from gensim.models import Word2Vec"
      ],
      "metadata": {
        "id": "tqcAf5grAVb5"
      },
      "id": "tqcAf5grAVb5",
      "execution_count": 33,
      "outputs": []
    },
    {
      "cell_type": "code",
      "source": [
        "texts_2 = open('wiki_data.txt').read().splitlines()[:10000] #возьму побольше, а то пишет, что таких слов нет в словаре"
      ],
      "metadata": {
        "id": "p57-PMkPuojK"
      },
      "id": "p57-PMkPuojK",
      "execution_count": 51,
      "outputs": []
    },
    {
      "cell_type": "code",
      "source": [
        "texts_2 = [preprocess(text) for text in texts_2]"
      ],
      "metadata": {
        "id": "o_2fMqj3vAGu"
      },
      "id": "o_2fMqj3vAGu",
      "execution_count": 52,
      "outputs": []
    },
    {
      "cell_type": "code",
      "source": [
        "#у меня не работает epochs, got an unexpected argument\n",
        "w2v = gensim.models.Word2Vec(texts_2,\n",
        "                             size=150, \n",
        "                             min_count=100, \n",
        "                             max_vocab_size=10000,\n",
        "                             window=6,\n",
        "                             negative = 20,\n",
        "                             sg=1,\n",
        "                             hs=1,\n",
        "                             ns_exponent=1.0,\n",
        "                             sample=1e-4)"
      ],
      "metadata": {
        "id": "HSJyUp9C9p5J"
      },
      "id": "HSJyUp9C9p5J",
      "execution_count": 60,
      "outputs": []
    },
    {
      "cell_type": "code",
      "source": [
        "w2v.wv.most_similar('церковь')"
      ],
      "metadata": {
        "colab": {
          "base_uri": "https://localhost:8080/"
        },
        "id": "EHT-3Cdh9_Ce",
        "outputId": "178c184c-2e2e-4eac-c35b-263250273d2d"
      },
      "id": "EHT-3Cdh9_Ce",
      "execution_count": 61,
      "outputs": [
        {
          "output_type": "execute_result",
          "data": {
            "text/plain": [
              "[('православный', 0.7796241044998169),\n",
              " ('храм', 0.7412840127944946),\n",
              " ('монастырь', 0.7142841219902039),\n",
              " ('собор', 0.7101009488105774),\n",
              " ('приход', 0.6689189672470093),\n",
              " ('часовня', 0.6463629007339478),\n",
              " ('церковный', 0.6461930274963379),\n",
              " ('деревянный', 0.634380042552948),\n",
              " ('епархия', 0.6321039199829102),\n",
              " ('святой', 0.6302167773246765)]"
            ]
          },
          "metadata": {},
          "execution_count": 61
        }
      ]
    },
    {
      "cell_type": "code",
      "source": [
        "w2v.wv.most_similar('кладбище')"
      ],
      "metadata": {
        "colab": {
          "base_uri": "https://localhost:8080/"
        },
        "id": "LMyfV-uLzu7l",
        "outputId": "4cffe8d2-3131-4304-925e-ec2862c7fdbf"
      },
      "id": "LMyfV-uLzu7l",
      "execution_count": 62,
      "outputs": [
        {
          "output_type": "execute_result",
          "data": {
            "text/plain": [
              "[('похоронный', 0.7264834642410278),\n",
              " ('могила', 0.6168270111083984),\n",
              " ('скончаться', 0.4957941770553589),\n",
              " ('москва', 0.4776769280433655),\n",
              " ('часовня', 0.4676167964935303),\n",
              " ('собор', 0.4338022768497467),\n",
              " ('умереть', 0.4176018536090851),\n",
              " ('храм', 0.4157324731349945),\n",
              " ('северо-западный', 0.41288867592811584),\n",
              " ('старое', 0.41215887665748596)]"
            ]
          },
          "metadata": {},
          "execution_count": 62
        }
      ]
    },
    {
      "cell_type": "code",
      "source": [
        "ft = gensim.models.FastText(texts_2,\n",
        "                            min_n=4,\n",
        "                            max_n=7)"
      ],
      "metadata": {
        "id": "pI3UgDmuBfNf"
      },
      "id": "pI3UgDmuBfNf",
      "execution_count": 64,
      "outputs": []
    },
    {
      "cell_type": "code",
      "source": [
        "ft.wv.most_similar('церковь')"
      ],
      "metadata": {
        "colab": {
          "base_uri": "https://localhost:8080/"
        },
        "id": "o46AR6B6BgzI",
        "outputId": "75953482-d1f4-41c5-824e-d792bcd40caa"
      },
      "id": "o46AR6B6BgzI",
      "execution_count": 65,
      "outputs": [
        {
          "output_type": "execute_result",
          "data": {
            "text/plain": [
              "[('«церковь', 0.9992543458938599),\n",
              " ('церкви»', 0.9651113152503967),\n",
              " ('монастырь', 0.9380764961242676),\n",
              " ('собор', 0.9261490106582642),\n",
              " ('храм', 0.9037321209907532),\n",
              " ('штырь', 0.9020834565162659),\n",
              " ('церн', 0.8665990829467773),\n",
              " ('берсерков', 0.8647642135620117),\n",
              " ('монархия', 0.8552401661872864),\n",
              " ('архия', 0.8538483381271362)]"
            ]
          },
          "metadata": {},
          "execution_count": 65
        }
      ]
    },
    {
      "cell_type": "code",
      "source": [
        "ft.wv.most_similar('кино')"
      ],
      "metadata": {
        "colab": {
          "base_uri": "https://localhost:8080/"
        },
        "id": "tp5ZQHjyCPhL",
        "outputId": "b2bd3329-4221-4af4-bee2-fe89873123e3"
      },
      "id": "tp5ZQHjyCPhL",
      "execution_count": 66,
      "outputs": [
        {
          "output_type": "execute_result",
          "data": {
            "text/plain": [
              "[('кино»', 0.9890587329864502),\n",
              " ('киноактёр', 0.9598212838172913),\n",
              " ('кинозал', 0.9594863653182983),\n",
              " ('кинорежиссёр', 0.942828357219696),\n",
              " ('киновед', 0.9426568150520325),\n",
              " ('кинотеатр', 0.9348472356796265),\n",
              " ('драма', 0.9315077662467957),\n",
              " ('спектакль', 0.9257732629776001),\n",
              " ('актёр', 0.9239763021469116),\n",
              " ('киноэкран', 0.920710563659668)]"
            ]
          },
          "metadata": {},
          "execution_count": 66
        }
      ]
    },
    {
      "cell_type": "markdown",
      "id": "e4bb928c",
      "metadata": {
        "id": "e4bb928c"
      },
      "source": [
        "# Задание 3 (4 балла)"
      ]
    },
    {
      "cell_type": "markdown",
      "id": "3019b0d1",
      "metadata": {
        "id": "3019b0d1"
      },
      "source": [
        "Используя датасет для классификации (labeled.csv) и простую нейронную сеть (последняя модель в семинаре), оцените качество полученных эмбедингов в задании 1 и 2 (4 набора эмбедингов), также проверьте 1 любую из предобученных моделей с rus-vectores (но только не tayga_upos_skipgram_300_2_2019). \n",
        "Какая модель показывает наилучший результат?\n",
        "\n",
        "Убедитесь, что для каждой модели вы корректно воспроизводите пайплайн предобработки (в 1 задании у вас лемматизация, не забудьте ее применить к датасету для классификации; у выбранной предобученной модели может быть своя специфичная предобработка - ее нужно воспроизвести)"
      ]
    },
    {
      "cell_type": "code",
      "execution_count": 67,
      "id": "ed908832",
      "metadata": {
        "id": "ed908832"
      },
      "outputs": [],
      "source": [
        "data = pd.read_csv('labeled.csv')\n",
        "data['norm_text'] = data.comment.apply(preprocess)"
      ]
    },
    {
      "cell_type": "code",
      "source": [
        "data.head()"
      ],
      "metadata": {
        "colab": {
          "base_uri": "https://localhost:8080/",
          "height": 206
        },
        "id": "xLlswaOd2Yc9",
        "outputId": "555f2303-fd75-4652-ac33-8d79887e91f7"
      },
      "id": "xLlswaOd2Yc9",
      "execution_count": 68,
      "outputs": [
        {
          "output_type": "execute_result",
          "data": {
            "text/html": [
              "\n",
              "  <div id=\"df-7ba39d68-3f64-49c9-bcd0-acd92aa5ada9\">\n",
              "    <div class=\"colab-df-container\">\n",
              "      <div>\n",
              "<style scoped>\n",
              "    .dataframe tbody tr th:only-of-type {\n",
              "        vertical-align: middle;\n",
              "    }\n",
              "\n",
              "    .dataframe tbody tr th {\n",
              "        vertical-align: top;\n",
              "    }\n",
              "\n",
              "    .dataframe thead th {\n",
              "        text-align: right;\n",
              "    }\n",
              "</style>\n",
              "<table border=\"1\" class=\"dataframe\">\n",
              "  <thead>\n",
              "    <tr style=\"text-align: right;\">\n",
              "      <th></th>\n",
              "      <th>comment</th>\n",
              "      <th>toxic</th>\n",
              "      <th>norm_text</th>\n",
              "    </tr>\n",
              "  </thead>\n",
              "  <tbody>\n",
              "    <tr>\n",
              "      <th>0</th>\n",
              "      <td>Верблюдов-то за что? Дебилы, бл...\\r\\n</td>\n",
              "      <td>1.0</td>\n",
              "      <td>[верблюд-то, за, что, дебил, бл]</td>\n",
              "    </tr>\n",
              "    <tr>\n",
              "      <th>1</th>\n",
              "      <td>Хохлы, это отдушина затюканого россиянина, мол...</td>\n",
              "      <td>1.0</td>\n",
              "      <td>[хохол, это, отдушина, затюканый, россиянин, м...</td>\n",
              "    </tr>\n",
              "    <tr>\n",
              "      <th>2</th>\n",
              "      <td>Собаке - собачья смерть\\r\\n</td>\n",
              "      <td>1.0</td>\n",
              "      <td>[собака, , собачий, смерть]</td>\n",
              "    </tr>\n",
              "    <tr>\n",
              "      <th>3</th>\n",
              "      <td>Страницу обнови, дебил. Это тоже не оскорблени...</td>\n",
              "      <td>1.0</td>\n",
              "      <td>[страница, обновить, дебил, это, тоже, не, оск...</td>\n",
              "    </tr>\n",
              "    <tr>\n",
              "      <th>4</th>\n",
              "      <td>тебя не убедил 6-страничный пдф в том, что Скр...</td>\n",
              "      <td>1.0</td>\n",
              "      <td>[ты, не, убедить, 6-страничный, пдф, в, тот, ч...</td>\n",
              "    </tr>\n",
              "  </tbody>\n",
              "</table>\n",
              "</div>\n",
              "      <button class=\"colab-df-convert\" onclick=\"convertToInteractive('df-7ba39d68-3f64-49c9-bcd0-acd92aa5ada9')\"\n",
              "              title=\"Convert this dataframe to an interactive table.\"\n",
              "              style=\"display:none;\">\n",
              "        \n",
              "  <svg xmlns=\"http://www.w3.org/2000/svg\" height=\"24px\"viewBox=\"0 0 24 24\"\n",
              "       width=\"24px\">\n",
              "    <path d=\"M0 0h24v24H0V0z\" fill=\"none\"/>\n",
              "    <path d=\"M18.56 5.44l.94 2.06.94-2.06 2.06-.94-2.06-.94-.94-2.06-.94 2.06-2.06.94zm-11 1L8.5 8.5l.94-2.06 2.06-.94-2.06-.94L8.5 2.5l-.94 2.06-2.06.94zm10 10l.94 2.06.94-2.06 2.06-.94-2.06-.94-.94-2.06-.94 2.06-2.06.94z\"/><path d=\"M17.41 7.96l-1.37-1.37c-.4-.4-.92-.59-1.43-.59-.52 0-1.04.2-1.43.59L10.3 9.45l-7.72 7.72c-.78.78-.78 2.05 0 2.83L4 21.41c.39.39.9.59 1.41.59.51 0 1.02-.2 1.41-.59l7.78-7.78 2.81-2.81c.8-.78.8-2.07 0-2.86zM5.41 20L4 18.59l7.72-7.72 1.47 1.35L5.41 20z\"/>\n",
              "  </svg>\n",
              "      </button>\n",
              "      \n",
              "  <style>\n",
              "    .colab-df-container {\n",
              "      display:flex;\n",
              "      flex-wrap:wrap;\n",
              "      gap: 12px;\n",
              "    }\n",
              "\n",
              "    .colab-df-convert {\n",
              "      background-color: #E8F0FE;\n",
              "      border: none;\n",
              "      border-radius: 50%;\n",
              "      cursor: pointer;\n",
              "      display: none;\n",
              "      fill: #1967D2;\n",
              "      height: 32px;\n",
              "      padding: 0 0 0 0;\n",
              "      width: 32px;\n",
              "    }\n",
              "\n",
              "    .colab-df-convert:hover {\n",
              "      background-color: #E2EBFA;\n",
              "      box-shadow: 0px 1px 2px rgba(60, 64, 67, 0.3), 0px 1px 3px 1px rgba(60, 64, 67, 0.15);\n",
              "      fill: #174EA6;\n",
              "    }\n",
              "\n",
              "    [theme=dark] .colab-df-convert {\n",
              "      background-color: #3B4455;\n",
              "      fill: #D2E3FC;\n",
              "    }\n",
              "\n",
              "    [theme=dark] .colab-df-convert:hover {\n",
              "      background-color: #434B5C;\n",
              "      box-shadow: 0px 1px 3px 1px rgba(0, 0, 0, 0.15);\n",
              "      filter: drop-shadow(0px 1px 2px rgba(0, 0, 0, 0.3));\n",
              "      fill: #FFFFFF;\n",
              "    }\n",
              "  </style>\n",
              "\n",
              "      <script>\n",
              "        const buttonEl =\n",
              "          document.querySelector('#df-7ba39d68-3f64-49c9-bcd0-acd92aa5ada9 button.colab-df-convert');\n",
              "        buttonEl.style.display =\n",
              "          google.colab.kernel.accessAllowed ? 'block' : 'none';\n",
              "\n",
              "        async function convertToInteractive(key) {\n",
              "          const element = document.querySelector('#df-7ba39d68-3f64-49c9-bcd0-acd92aa5ada9');\n",
              "          const dataTable =\n",
              "            await google.colab.kernel.invokeFunction('convertToInteractive',\n",
              "                                                     [key], {});\n",
              "          if (!dataTable) return;\n",
              "\n",
              "          const docLinkHtml = 'Like what you see? Visit the ' +\n",
              "            '<a target=\"_blank\" href=https://colab.research.google.com/notebooks/data_table.ipynb>data table notebook</a>'\n",
              "            + ' to learn more about interactive tables.';\n",
              "          element.innerHTML = '';\n",
              "          dataTable['output_type'] = 'display_data';\n",
              "          await google.colab.output.renderOutput(dataTable, element);\n",
              "          const docLink = document.createElement('div');\n",
              "          docLink.innerHTML = docLinkHtml;\n",
              "          element.appendChild(docLink);\n",
              "        }\n",
              "      </script>\n",
              "    </div>\n",
              "  </div>\n",
              "  "
            ],
            "text/plain": [
              "                                             comment  ...                                          norm_text\n",
              "0             Верблюдов-то за что? Дебилы, бл...\\r\\n  ...                   [верблюд-то, за, что, дебил, бл]\n",
              "1  Хохлы, это отдушина затюканого россиянина, мол...  ...  [хохол, это, отдушина, затюканый, россиянин, м...\n",
              "2                        Собаке - собачья смерть\\r\\n  ...                        [собака, , собачий, смерть]\n",
              "3  Страницу обнови, дебил. Это тоже не оскорблени...  ...  [страница, обновить, дебил, это, тоже, не, оск...\n",
              "4  тебя не убедил 6-страничный пдф в том, что Скр...  ...  [ты, не, убедить, 6-страничный, пдф, в, тот, ч...\n",
              "\n",
              "[5 rows x 3 columns]"
            ]
          },
          "metadata": {},
          "execution_count": 68
        }
      ]
    },
    {
      "cell_type": "code",
      "execution_count": null,
      "id": "60c18c5a",
      "metadata": {
        "id": "60c18c5a"
      },
      "outputs": [],
      "source": [
        "vocab = Counter()\n",
        "\n",
        "for text in data['norm_text']:\n",
        "    vocab.update(text)\n",
        "    \n",
        "filtered_vocab = set()\n",
        "\n",
        "for word in vocab:\n",
        "    if vocab[word] > 5:\n",
        "        filtered_vocab.add(word)\n",
        "\n",
        "len(filtered_vocab)"
      ]
    },
    {
      "cell_type": "code",
      "source": [
        "word2id = { 'PAD':0}\n",
        "\n",
        "for word in filtered_vocab:\n",
        "    word2id[word] = len(word2id)\n",
        "id2word = {i:word for word, i in word2id.items()}"
      ],
      "metadata": {
        "id": "4uPwokTDCotW"
      },
      "id": "4uPwokTDCotW",
      "execution_count": 70,
      "outputs": []
    },
    {
      "cell_type": "code",
      "source": [
        "X = []\n",
        "\n",
        "for tokens in data['norm_text']:\n",
        "    ids = [word2id[token] for token in tokens if token in word2id]\n",
        "    X.append(ids)"
      ],
      "metadata": {
        "id": "ncKj82zBCwAA"
      },
      "id": "ncKj82zBCwAA",
      "execution_count": 71,
      "outputs": []
    },
    {
      "cell_type": "code",
      "source": [
        "X = tf.keras.preprocessing.sequence.pad_sequences(X, maxlen=100)\n",
        "y = data.toxic.values"
      ],
      "metadata": {
        "id": "DvrJrjDMCyEr"
      },
      "id": "DvrJrjDMCyEr",
      "execution_count": 72,
      "outputs": []
    },
    {
      "cell_type": "code",
      "source": [
        "X_train, X_valid, y_train, y_valid = train_test_split(X, y, test_size=0.05)"
      ],
      "metadata": {
        "id": "t0lDj9_iC0HL"
      },
      "id": "t0lDj9_iC0HL",
      "execution_count": 73,
      "outputs": []
    },
    {
      "cell_type": "code",
      "source": [
        "#ft = gensim.models.FastText(texts + data['norm_text'].values.tolist(), window=10, epochs=10)"
      ],
      "metadata": {
        "id": "4Hq6UfZIDBJB"
      },
      "id": "4Hq6UfZIDBJB",
      "execution_count": null,
      "outputs": []
    },
    {
      "cell_type": "code",
      "source": [
        "weights = np.zeros((len(word2id), 100))\n",
        "\n",
        "for word, i in word2id.items():\n",
        "    # вектор паддинга оставим нулевым\n",
        "    if word == 'PAD':\n",
        "        continue\n",
        "\n",
        "    try:\n",
        "        weights[i] = ft.wv[word]\n",
        "    \n",
        "    \n",
        "    except KeyError:\n",
        "        # для слов, которых нет в модели тоже возьмем какой-то  рандомный вектор\n",
        "        continue\n",
        "        weights[i] = ft.wv['опрагпллирао']"
      ],
      "metadata": {
        "id": "wT8vPByoDByh"
      },
      "id": "wT8vPByoDByh",
      "execution_count": 74,
      "outputs": []
    },
    {
      "cell_type": "code",
      "source": [
        "\n",
        "inputs = tf.keras.layers.Input(shape=(100,))\n",
        "\n",
        "# передаем матрицу в эмбединг слой\n",
        "# указываем параметр trainable=False, чтобы вектора не обучались\n",
        "# Пояснение: кажется, что обучение векторов отключать не стоит, так как модель должна взять готовые \n",
        "# эмбединги и подогнать их к нашей задаче. На практитке это однако не работает - эмбединги просто \n",
        "# обучатся заново\n",
        "embeddings = tf.keras.layers.Embedding(input_dim=len(word2id), output_dim=100, \n",
        "                                       trainable=False,\n",
        "                                       weights=[weights])(inputs, )\n",
        "mean = tf.keras.layers.Lambda(lambda x: tf.keras.backend.mean(x,  axis=1))(embeddings)\n",
        "\n",
        "outputs = tf.keras.layers.Dense(1, activation='sigmoid')(mean)\n",
        "\n",
        "model = tf.keras.Model(inputs=inputs, outputs=outputs)\n",
        "optimizer = tf.keras.optimizers.Adam()\n",
        "model.compile(optimizer=optimizer,\n",
        "              loss='binary_crossentropy',\n",
        "              metrics=['accuracy'])\n"
      ],
      "metadata": {
        "id": "uRVzCqD2DEAO"
      },
      "id": "uRVzCqD2DEAO",
      "execution_count": 75,
      "outputs": []
    },
    {
      "cell_type": "code",
      "source": [
        "model.fit(X_train, y_train, \n",
        "          validation_data=(X_valid, y_valid),\n",
        "          batch_size=32,\n",
        "          epochs=30)"
      ],
      "metadata": {
        "id": "ucQdd9BqDGXG"
      },
      "id": "ucQdd9BqDGXG",
      "execution_count": null,
      "outputs": []
    },
    {
      "cell_type": "code",
      "source": [
        "#сложно(( не понимаю"
      ],
      "metadata": {
        "id": "8QfoQdhq4bK8"
      },
      "id": "8QfoQdhq4bK8",
      "execution_count": 79,
      "outputs": []
    }
  ],
  "metadata": {
    "kernelspec": {
      "display_name": "Python 3",
      "language": "python",
      "name": "python3"
    },
    "language_info": {
      "codemirror_mode": {
        "name": "ipython",
        "version": 3
      },
      "file_extension": ".py",
      "mimetype": "text/x-python",
      "name": "python",
      "nbconvert_exporter": "python",
      "pygments_lexer": "ipython3",
      "version": "3.7.2"
    },
    "colab": {
      "name": "homework.ipynb",
      "provenance": []
    },
    "accelerator": "GPU"
  },
  "nbformat": 4,
  "nbformat_minor": 5
}