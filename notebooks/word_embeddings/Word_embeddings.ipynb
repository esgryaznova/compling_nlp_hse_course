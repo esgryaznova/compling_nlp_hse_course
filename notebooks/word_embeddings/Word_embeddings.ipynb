{
 "cells": [
  {
   "cell_type": "markdown",
   "id": "4d4afc86",
   "metadata": {},
   "source": [
    "## Векторные представления слов"
   ]
  },
  {
   "cell_type": "markdown",
   "id": "9aecffe8",
   "metadata": {},
   "source": [
    "Векторные представления слов (или embeddings) - это наборы чисел, которые должны как-то отражать смысл/значение слов. Формально значение определить очень сложно, поэтому в NLP используются очень упрощенные и утилитарные подходы к пониманию значения. Например, можно считать, что векторные представления хорошо передают смысл слов, если близость (по какой-то выбранной метрике) между похожими словами большая, а между противоположными - большая. Другой пример - с помощью векторных представлений получается хорошо решить задачу, которая требует понимания смысла (т.е. почти любую NLP задачу), значит эти векторные представления хорошо кодируют смысл. "
   ]
  },
  {
   "cell_type": "markdown",
   "id": "113ce347",
   "metadata": {},
   "source": [
    "Есть еще такие тонкости как многозначность и зависимость смысла от контекста, но это уже сильно сложнее и мы оставим их на следующие семинары, а пока просто полностью проигнорируем. К тому же, как и с мешком слов, часто упрощенного подхода будет достаточно."
   ]
  },
  {
   "cell_type": "markdown",
   "id": "ad148a50",
   "metadata": {},
   "source": [
    "Единственная окололингвистическая теоретическая часть, о которой стоит сказать это дистрибутивная гипотеза. Она состоит в том, что лингвистические единицы, встречающиеся в схожих контекстах, имеют близкие значения. Обычно в научных статьях цитируют John Firth (Ферс) - '*You shall know a word by the company it keeps*' (Firth, J. R. 1957:11) \n",
    "Также в \"Филосовских исследованиях\" Витгенштейна есть такое -  *“For a large class of cases—though not for all—in which we employ the word ‘meaning’ it can be defined thus: **the meaning of a word is its use in the language.**”* (1951)\n",
    "\n",
    "Саму область иногда называют дистрибутивная семантика."
   ]
  },
  {
   "cell_type": "markdown",
   "id": "41f39810",
   "metadata": {},
   "source": [
    "Давайте посмотрим, как можно строить векторные представления слов."
   ]
  },
  {
   "cell_type": "code",
   "execution_count": 267,
   "id": "952c8c5a",
   "metadata": {},
   "outputs": [],
   "source": [
    "import tensorflow as tf\n",
    "import numpy as np\n",
    "import pandas as pd\n",
    "from string import punctuation\n",
    "from sklearn.model_selection import train_test_split\n",
    "from collections import Counter\n",
    "import matplotlib.pyplot as plt\n",
    "from sklearn.decomposition import TruncatedSVD\n",
    "from sklearn.feature_extraction.text import CountVectorizer\n",
    "from sklearn.metrics.pairwise import cosine_distances\n",
    "\n",
    "from IPython.display import Image\n",
    "from IPython.core.display import HTML \n",
    "%matplotlib inline"
   ]
  },
  {
   "cell_type": "markdown",
   "id": "ee85cb52",
   "metadata": {},
   "source": [
    "### Матричные выражения "
   ]
  },
  {
   "cell_type": "markdown",
   "id": "069eaa65",
   "metadata": {},
   "source": [
    "Для начала вспомним матричные разложения. В двух методах, которые мы использовали для тематического моделирования одна из матриц была размерности (количество слов в словаре, количество тем), т.е. каждую строчку в этой матрице можно рассматривать как векторное представление слова! Давайте разложим матрицу документы-слова, собранную по википедии и посмотрим на близость векторов слов."
   ]
  },
  {
   "cell_type": "code",
   "execution_count": 268,
   "id": "f682013c",
   "metadata": {},
   "outputs": [
    {
     "data": {
      "text/html": [
       "<img src=\"https://gcdn.pbrd.co/images/YcZxyZhQGrUC.png?o=1\" width=\"1000\" height=\"900\"/>"
      ],
      "text/plain": [
       "<IPython.core.display.Image object>"
      ]
     },
     "execution_count": 268,
     "metadata": {},
     "output_type": "execute_result"
    }
   ],
   "source": [
    "# на картинке TruncatedSVD\n",
    "Image(url=\"https://gcdn.pbrd.co/images/YcZxyZhQGrUC.png?o=1\",\n",
    "     width=1000, height=900)"
   ]
  },
  {
   "cell_type": "code",
   "execution_count": 269,
   "id": "b036f980",
   "metadata": {},
   "outputs": [],
   "source": [
    "# в нашем корпусе 20к текстов\n",
    "wiki = open('wiki_data.txt').read().split('\\n')"
   ]
  },
  {
   "cell_type": "code",
   "execution_count": 270,
   "id": "65bb2fd9",
   "metadata": {},
   "outputs": [
    {
     "data": {
      "text/plain": [
       "20003"
      ]
     },
     "execution_count": 270,
     "metadata": {},
     "output_type": "execute_result"
    }
   ],
   "source": [
    "len(wiki)"
   ]
  },
  {
   "cell_type": "code",
   "execution_count": 271,
   "id": "4b97780b",
   "metadata": {},
   "outputs": [],
   "source": [
    "cv = CountVectorizer(max_features=10000)\n",
    "svd = TruncatedSVD(200)\n",
    "\n",
    "X = cv.fit_transform(wiki)\n",
    "X_svd = svd.fit_transform(X)"
   ]
  },
  {
   "cell_type": "markdown",
   "id": "e8779634",
   "metadata": {},
   "source": [
    "Получившаяся матрица X нас не интересует. Нам нужно вытащить матрицу U, она лежит в svd.components_"
   ]
  },
  {
   "cell_type": "code",
   "execution_count": 272,
   "id": "d86a188d",
   "metadata": {},
   "outputs": [],
   "source": [
    "# изначально U размерности (темы, слова) и для удобства ее нужно перевернуть - транспонировать\n",
    "embeddings = svd.components_.T"
   ]
  },
  {
   "cell_type": "code",
   "execution_count": 273,
   "id": "59ecdf45",
   "metadata": {},
   "outputs": [
    {
     "data": {
      "text/plain": [
       "(10000, 200)"
      ]
     },
     "execution_count": 273,
     "metadata": {},
     "output_type": "execute_result"
    }
   ],
   "source": [
    "embeddings.shape"
   ]
  },
  {
   "cell_type": "markdown",
   "id": "bda1c46b",
   "metadata": {},
   "source": [
    "Теперь вытаскиваем соответствия слов индексам и наоборот"
   ]
  },
  {
   "cell_type": "code",
   "execution_count": 274,
   "id": "2f90e0e5",
   "metadata": {},
   "outputs": [],
   "source": [
    "id2word = cv.get_feature_names_out()\n",
    "word2id = {word:i for i,word in enumerate(id2word)}"
   ]
  },
  {
   "cell_type": "code",
   "execution_count": 280,
   "id": "f4714f62",
   "metadata": {},
   "outputs": [
    {
     "data": {
      "text/plain": [
       "7070"
      ]
     },
     "execution_count": 280,
     "metadata": {},
     "output_type": "execute_result"
    }
   ],
   "source": [
    "word2id['птица']"
   ]
  },
  {
   "cell_type": "markdown",
   "id": "b4801087",
   "metadata": {},
   "source": [
    "Напишем простую функцию, которая для заданного слова найдет ближайшие ему слова в матрице"
   ]
  },
  {
   "cell_type": "code",
   "execution_count": 11,
   "id": "3529ebfa",
   "metadata": {},
   "outputs": [],
   "source": [
    "def most_similar(word, embeddings):\n",
    "    similar = [id2word[i] for i in \n",
    "               cosine_distances(embeddings[word2id[word]].reshape(1, -1), embeddings).argsort()[0][:10]]\n",
    "    return similar"
   ]
  },
  {
   "cell_type": "markdown",
   "id": "ebab8e9c",
   "metadata": {},
   "source": [
    "Испытаем ее на нескольких рандомных словах"
   ]
  },
  {
   "cell_type": "code",
   "execution_count": 12,
   "id": "2a1adc3c",
   "metadata": {},
   "outputs": [
    {
     "data": {
      "text/plain": [
       "['птица',\n",
       " 'самцы',\n",
       " 'самцов',\n",
       " 'птицы',\n",
       " 'самки',\n",
       " 'самка',\n",
       " 'самок',\n",
       " 'длины',\n",
       " 'питается',\n",
       " 'жуки']"
      ]
     },
     "execution_count": 12,
     "metadata": {},
     "output_type": "execute_result"
    }
   ],
   "source": [
    "most_similar('птица', embeddings)"
   ]
  },
  {
   "cell_type": "code",
   "execution_count": 13,
   "id": "8b6cf967",
   "metadata": {},
   "outputs": [
    {
     "data": {
      "text/plain": [
       "['церковь',\n",
       " 'чудотворца',\n",
       " 'каменная',\n",
       " 'храм',\n",
       " 'прихожан',\n",
       " 'храма',\n",
       " 'богослужения',\n",
       " 'орла',\n",
       " 'деревянная',\n",
       " 'святителя']"
      ]
     },
     "execution_count": 13,
     "metadata": {},
     "output_type": "execute_result"
    }
   ],
   "source": [
    "most_similar('церковь', embeddings)"
   ]
  },
  {
   "cell_type": "code",
   "execution_count": 14,
   "id": "3c42970e",
   "metadata": {},
   "outputs": [
    {
     "data": {
      "text/plain": [
       "['москва',\n",
       " 'выставка',\n",
       " 'арт',\n",
       " 'галерея',\n",
       " 'центральный',\n",
       " 'выставке',\n",
       " 'выставках',\n",
       " 'галерее',\n",
       " 'художника',\n",
       " 'постоянная']"
      ]
     },
     "execution_count": 14,
     "metadata": {},
     "output_type": "execute_result"
    }
   ],
   "source": [
    "most_similar('москва', embeddings)"
   ]
  },
  {
   "cell_type": "markdown",
   "id": "346ce174",
   "metadata": {},
   "source": [
    "Кажется, что получается неплохо. "
   ]
  },
  {
   "cell_type": "markdown",
   "id": "08395b4f",
   "metadata": {},
   "source": [
    "Но матричные разложения для этой задачи обычно не применяют. Основной метод для создания векторых представлений слов - это word2vec и его улучшение fastext. "
   ]
  },
  {
   "cell_type": "markdown",
   "id": "5c9f4420",
   "metadata": {},
   "source": [
    "## Word2Vec"
   ]
  },
  {
   "cell_type": "markdown",
   "id": "37de9786",
   "metadata": {},
   "source": [
    "Word2Vec был создан в 2013 году в Google командой под руководством Tomas Mikolov. \n",
    "\n",
    "Он был описан в двух статьях: \n",
    "1) https://arxiv.org/abs/1301.3781   \n",
    "2) https://aclanthology.org/N13-1090/\n",
    "\n",
    "Главным достоинством word2vec была его эффективность (и по скорости и по потреблению ресурсов), что с одной строны позволило большим компаниям обучить модели на огромных корпусах, а с другой дало возможность отдельным исследователям строить качественные специфичные модели (например, на корпусе научных статей по математике), используя небольшие сервера или вообще личные компьютеры. \n",
    "\n",
    "Следующие несколько лет конференции были забиты статьями, рассматривающими word2vec со всех возможных сторон.\n",
    "\n",
    "Сейчас word2vec уже конечно устарел, транформерные модели лучше. Но бейзлайн все еще очень хороший. К тому же с развитием процессоров он стал еще быстрее."
   ]
  },
  {
   "cell_type": "markdown",
   "id": "29cd3f2f",
   "metadata": {},
   "source": [
    "В Word2Vec очень много деталей и оптимизаций, поэтому использовать лучше готовую реализацию (ниже мы это сделаем через gensim). Но для понимания мы попробуем его воспроизвести на tensorflow, параллельно разобрав базовые вещи в deep learning."
   ]
  },
  {
   "cell_type": "markdown",
   "id": "ae6d6286",
   "metadata": {},
   "source": [
    "Для начала нам нужно построить словарь."
   ]
  },
  {
   "cell_type": "markdown",
   "id": "1248f8ae",
   "metadata": {},
   "source": [
    "Предобработка нам не так важна. Главное - получить из текстов токены."
   ]
  },
  {
   "cell_type": "code",
   "execution_count": 282,
   "id": "17f8648d",
   "metadata": {},
   "outputs": [],
   "source": [
    "def preprocess(text):\n",
    "    tokens = text.lower().split()\n",
    "    tokens = [token.strip(punctuation) for token in tokens]\n",
    "    return tokens"
   ]
  },
  {
   "cell_type": "markdown",
   "id": "9964e652",
   "metadata": {},
   "source": [
    "Лучше сразу посчитать количество упоминаний, чтобы отсеять самые редкие."
   ]
  },
  {
   "cell_type": "code",
   "execution_count": 283,
   "id": "6a7314a4",
   "metadata": {},
   "outputs": [],
   "source": [
    "vocab = Counter()\n",
    "\n",
    "for text in wiki:\n",
    "    vocab.update(preprocess(text))"
   ]
  },
  {
   "cell_type": "markdown",
   "id": "c2289def",
   "metadata": {},
   "source": [
    "почти 300к слов - это многовато"
   ]
  },
  {
   "cell_type": "code",
   "execution_count": 284,
   "id": "f175e7af",
   "metadata": {},
   "outputs": [
    {
     "data": {
      "text/plain": [
       "533408"
      ]
     },
     "execution_count": 284,
     "metadata": {},
     "output_type": "execute_result"
    }
   ],
   "source": [
    "len(vocab)"
   ]
  },
  {
   "cell_type": "markdown",
   "id": "6ba6655d",
   "metadata": {},
   "source": [
    "Возьмем только те, что встретились больше 30 раз."
   ]
  },
  {
   "cell_type": "code",
   "execution_count": 285,
   "id": "334cdb3a",
   "metadata": {},
   "outputs": [],
   "source": [
    "filtered_vocab = set()\n",
    "\n",
    "for word in vocab:\n",
    "    if vocab[word] > 30:\n",
    "        filtered_vocab.add(word)"
   ]
  },
  {
   "cell_type": "code",
   "execution_count": 286,
   "id": "78bbe728",
   "metadata": {},
   "outputs": [
    {
     "data": {
      "text/plain": [
       "16310"
      ]
     },
     "execution_count": 286,
     "metadata": {},
     "output_type": "execute_result"
    }
   ],
   "source": [
    "len(filtered_vocab)"
   ]
  },
  {
   "cell_type": "markdown",
   "id": "dc18a6ee",
   "metadata": {},
   "source": [
    "~15к - уже нормальная цифра"
   ]
  },
  {
   "cell_type": "markdown",
   "id": "ec88f467",
   "metadata": {},
   "source": [
    "Теперь нам нужно заменить в каждом тексте слова на числа (индексы в словаре). "
   ]
  },
  {
   "cell_type": "markdown",
   "id": "9d9ae638",
   "metadata": {},
   "source": [
    "Создадим для этого специальный словарь с индексами. В этот словарь нам нужно положить дополнительный токен - PAD (чуть ниже станет понятнее)"
   ]
  },
  {
   "cell_type": "code",
   "execution_count": 287,
   "id": "1ad31ef0",
   "metadata": {},
   "outputs": [],
   "source": [
    "word2id = { 'PAD':0}\n",
    "\n",
    "for word in filtered_vocab:\n",
    "    word2id[word] = len(word2id)"
   ]
  },
  {
   "cell_type": "code",
   "execution_count": 288,
   "id": "3b797373",
   "metadata": {},
   "outputs": [],
   "source": [
    "id2word = {i:word for word, i in word2id.items()}"
   ]
  },
  {
   "cell_type": "markdown",
   "id": "84373999",
   "metadata": {},
   "source": [
    "Заменяем слова на индексы."
   ]
  },
  {
   "cell_type": "code",
   "execution_count": 295,
   "id": "2f115901",
   "metadata": {},
   "outputs": [],
   "source": [
    "\n",
    "sentences = []\n",
    "\n",
    "for text in wiki:\n",
    "    tokens = preprocess(text)\n",
    "    ids = [word2id[token] for token in tokens if token in word2id]\n",
    "    sentences.append(ids)"
   ]
  },
  {
   "cell_type": "markdown",
   "id": "c68ae26a",
   "metadata": {},
   "source": [
    "Далее нужно преобразовать токенизированные тексты в формат для обучения. "
   ]
  },
  {
   "cell_type": "markdown",
   "id": "3f254a38",
   "metadata": {},
   "source": [
    "### Skip Gram"
   ]
  },
  {
   "cell_type": "code",
   "execution_count": 265,
   "id": "db2a735c",
   "metadata": {},
   "outputs": [
    {
     "data": {
      "text/html": [
       "<img src=\"https://leimao.github.io/images/article/2019-08-23-Word2Vec-Classic/word2vec.png\" width=\"600\" height=\"600\"/>"
      ],
      "text/plain": [
       "<IPython.core.display.Image object>"
      ]
     },
     "execution_count": 265,
     "metadata": {},
     "output_type": "execute_result"
    }
   ],
   "source": [
    "Image(url=\"https://leimao.github.io/images/article/2019-08-23-Word2Vec-Classic/word2vec.png\",\n",
    "     width=600, height=600)"
   ]
  },
  {
   "cell_type": "markdown",
   "id": "85d45db6",
   "metadata": {},
   "source": [
    "Word2Vec состоит из двух моделей skip gram и CBOW (continuos bag of words). В обоих алгоритмах происходит итерирование по кусочкам текстов фиксированной длинны (окнам). В каждом окне выбирается центральное целевое слово (target), а слова слева и справа от него считаются контекстом (context). В Skip-gram модель обучается по целевому слову предсказывать контекстные слова, а в CBOW по контексту предсказывается целевое слово. \n",
    "\n",
    "Давайте соберем датасет для skip gram. Датасетом будут просто пары - (целевое слово, контекстное слово). "
   ]
  },
  {
   "cell_type": "code",
   "execution_count": 305,
   "id": "56e6e7f2",
   "metadata": {},
   "outputs": [],
   "source": [
    "# skip gram\n",
    "X = []\n",
    "y = []\n",
    "\n",
    "window = 5\n",
    "for sent in sentences[:1000]:\n",
    "    for i in range(len(sent)-1):\n",
    "        word = sent[i] # target\n",
    "        # слова до и после целевого\n",
    "        # в начале и в конце окно будет неполным, но это не страшно\n",
    "        context = sent[max(0, i-window):i] + sent[i+1:i+window] \n",
    "\n",
    "        for context_word in context:\n",
    "            X.append(word)\n",
    "            y.append(context_word)\n"
   ]
  },
  {
   "cell_type": "code",
   "execution_count": 302,
   "id": "ae28a5a3",
   "metadata": {},
   "outputs": [
    {
     "data": {
      "text/plain": [
       "(11605, 12656)"
      ]
     },
     "execution_count": 302,
     "metadata": {},
     "output_type": "execute_result"
    }
   ],
   "source": [
    "X[1], y[1]"
   ]
  },
  {
   "cell_type": "code",
   "execution_count": 26,
   "id": "8030c45a",
   "metadata": {},
   "outputs": [
    {
     "data": {
      "text/plain": [
       "(1683454, 1683454)"
      ]
     },
     "execution_count": 26,
     "metadata": {},
     "output_type": "execute_result"
    }
   ],
   "source": [
    "len(X), len(y)"
   ]
  },
  {
   "cell_type": "markdown",
   "id": "840ec4b0",
   "metadata": {},
   "source": [
    "Как и в любой задаче машинниого обучения нужно тестироваться на отложенной выборке"
   ]
  },
  {
   "cell_type": "code",
   "execution_count": 27,
   "id": "d71be564",
   "metadata": {},
   "outputs": [],
   "source": [
    "X_train, X_valid, y_train, y_valid = train_test_split(X, y, test_size=0.05)"
   ]
  },
  {
   "cell_type": "markdown",
   "id": "5c201693",
   "metadata": {},
   "source": [
    "### Создаем нейронную сеть"
   ]
  },
  {
   "cell_type": "markdown",
   "id": "c7c0b1ef",
   "metadata": {},
   "source": [
    "Для введения в нейронные сети посмотрите:\n",
    "1) серию видео на канале 3blue1brown - https://www.youtube.com/watch?v=aircAruvnKk  \n",
    "2) лекцию курса dlcoure.ai - https://www.youtube.com/watch?v=kWTC1NvL894"
   ]
  },
  {
   "cell_type": "markdown",
   "id": "62b91edc",
   "metadata": {},
   "source": [
    "Word2Vec можно рассматривать как очень маленькую нейронную сеть - тут всего 1 слой. Сама задача сводится к многоклассой классификации. На вход мы получаем индекс слова, преобразуем его в векторное представление, \n",
    "\n",
    "В tf.keras два способа построения моделей: Sequential и Functional. В первом мы как будто создаем список и добавляем в него слои, а во втором вручную применяем каждый слой к результату предыдущего слоя.\n",
    "\n",
    "Соберем нейронную сеть первым способом."
   ]
  },
  {
   "cell_type": "code",
   "execution_count": 28,
   "id": "4921a30b",
   "metadata": {},
   "outputs": [
    {
     "name": "stderr",
     "output_type": "stream",
     "text": [
      "2022-01-12 11:59:46.595279: I tensorflow/stream_executor/cuda/cuda_gpu_executor.cc:939] successful NUMA node read from SysFS had negative value (-1), but there must be at least one NUMA node, so returning NUMA node zero\n",
      "2022-01-12 11:59:46.613799: I tensorflow/stream_executor/cuda/cuda_gpu_executor.cc:939] successful NUMA node read from SysFS had negative value (-1), but there must be at least one NUMA node, so returning NUMA node zero\n",
      "2022-01-12 11:59:46.614564: I tensorflow/stream_executor/cuda/cuda_gpu_executor.cc:939] successful NUMA node read from SysFS had negative value (-1), but there must be at least one NUMA node, so returning NUMA node zero\n",
      "2022-01-12 11:59:46.615993: I tensorflow/core/platform/cpu_feature_guard.cc:151] This TensorFlow binary is optimized with oneAPI Deep Neural Network Library (oneDNN) to use the following CPU instructions in performance-critical operations:  AVX2 FMA\n",
      "To enable them in other operations, rebuild TensorFlow with the appropriate compiler flags.\n",
      "2022-01-12 11:59:46.617370: I tensorflow/stream_executor/cuda/cuda_gpu_executor.cc:939] successful NUMA node read from SysFS had negative value (-1), but there must be at least one NUMA node, so returning NUMA node zero\n",
      "2022-01-12 11:59:46.618106: I tensorflow/stream_executor/cuda/cuda_gpu_executor.cc:939] successful NUMA node read from SysFS had negative value (-1), but there must be at least one NUMA node, so returning NUMA node zero\n",
      "2022-01-12 11:59:46.618812: I tensorflow/stream_executor/cuda/cuda_gpu_executor.cc:939] successful NUMA node read from SysFS had negative value (-1), but there must be at least one NUMA node, so returning NUMA node zero\n",
      "2022-01-12 11:59:47.177895: I tensorflow/stream_executor/cuda/cuda_gpu_executor.cc:939] successful NUMA node read from SysFS had negative value (-1), but there must be at least one NUMA node, so returning NUMA node zero\n",
      "2022-01-12 11:59:47.178441: I tensorflow/stream_executor/cuda/cuda_gpu_executor.cc:939] successful NUMA node read from SysFS had negative value (-1), but there must be at least one NUMA node, so returning NUMA node zero\n",
      "2022-01-12 11:59:47.178941: I tensorflow/stream_executor/cuda/cuda_gpu_executor.cc:939] successful NUMA node read from SysFS had negative value (-1), but there must be at least one NUMA node, so returning NUMA node zero\n",
      "2022-01-12 11:59:47.179435: I tensorflow/core/common_runtime/gpu/gpu_device.cc:1525] Created device /job:localhost/replica:0/task:0/device:GPU:0 with 9631 MB memory:  -> device: 0, name: GeForce RTX 2080 Ti, pci bus id: 0000:07:00.0, compute capability: 7.5\n",
      "/usr/local/lib/python3.8/dist-packages/keras/optimizer_v2/adam.py:105: UserWarning: The `lr` argument is deprecated, use `learning_rate` instead.\n",
      "  super(Adam, self).__init__(name, **kwargs)\n"
     ]
    }
   ],
   "source": [
    "# инициализируем модель\n",
    "# это что-то типа model = [] \n",
    "model = tf.keras.Sequential()\n",
    "\n",
    "# первым добавляем эмбединг слой\n",
    "# он каждому слову (его индексу) сопоставит вектор заданой размерности\n",
    "# также нам нужно передать параметры нашей выборки - размер словаря (input_dim) и длину текста (input_length)\n",
    "# в нашем случае мы подаем только 1 слово поэтому длина - 1\n",
    "model.add(tf.keras.layers.Embedding(input_dim=len(word2id), \n",
    "                                    input_length=1, \n",
    "                                    output_dim=100)) # также указываем желаемый размер эмбединга\n",
    "\n",
    "# на выходе из Embedding мы получим массив размерности (1, 100)\n",
    "# единичная размерность нам не нужна и ее можно схлопнуть\n",
    "# это можно сделать специальным слоем которые называется Flatten\n",
    "# чтобы было понятнее, вот пример на списках\n",
    "# флаттен делает что-то такое\n",
    "# [[1], [2], [3]] -> [1, 2, 3]\n",
    "model.add(tf.keras.layers.Flatten()) \n",
    "\n",
    "# И теперь 1 реальный слой, который называется полносвязным\n",
    "# Полносвязный слой это матрица, применение полносвязного слоя - это умножение на эту матрицу\n",
    "# В полносвязном слое нужно указать количество чисел которое мы хотим получить на выходе\n",
    "# в нашем случае мы хотим получить по 1 числу на 1 слово в словаре\n",
    "# это число будет соответствовать вероятности предсказания этого слова\n",
    "# На входе у нас вектор 1 слова, а умножение вектора на матрицу можно интепретировать как нахождение близости\n",
    "# с каждым элементом матрицы; т.е. мы берем эмбединг и находим близость с эмбедингами всех других слов в словаре\n",
    "\n",
    "# По умолчанию полносвязный слой не выдает вероятности, чтобы их получить нужно использовать softmax\n",
    "# Софтмакс - это одна из функций активации\n",
    "# Функции аквтивации преобразуют числа каким-то нелинейным способом, которого не добьешься обычным умножением на матрицу\n",
    "# сочетание линейных операций с матрицами и векторами и нелинейных функций - это то что делает нейронные сети такими мощными\n",
    "model.add(tf.keras.layers.Dense(len(word2id), activation='softmax'))\n",
    "\n",
    "# компилируем модель\n",
    "# выбираем лосс - функция, по которой модель будет оценивать качество и обновлять веса\n",
    "# для классификации стандартно используется categorical_crossentropy\n",
    "# У нас стоит sparse_categorical_crossentropy потому что мы подаем индексы, а по умолчанию нужно подавать \n",
    "# one-hot векторы или вероятности\n",
    "\n",
    "# выбираем оптимизатор - он влияет на то, как будет обновляться модель \n",
    "# (подробнее вот тут - \n",
    "# https://medium.com/datadriveninvestor/overview-of-different-optimizers-for-neural-networks-e0ed119440c3 ).\n",
    "# По умолчанию можно ставить adam и менять только learning_rate\n",
    "\n",
    "model.compile(optimizer=tf.keras.optimizers.Adam(lr=0.001), \n",
    "              loss='sparse_categorical_crossentropy',\n",
    "              \n",
    "              )"
   ]
  },
  {
   "cell_type": "markdown",
   "id": "a41e6bf7",
   "metadata": {},
   "source": [
    "Можно посмотреть на размерности, которые будут получаться после каждого слоя"
   ]
  },
  {
   "cell_type": "code",
   "execution_count": 29,
   "id": "6b57cd8c",
   "metadata": {},
   "outputs": [
    {
     "name": "stdout",
     "output_type": "stream",
     "text": [
      "Model: \"sequential\"\n",
      "_________________________________________________________________\n",
      " Layer (type)                Output Shape              Param #   \n",
      "=================================================================\n",
      " embedding (Embedding)       (None, 1, 100)            1631100   \n",
      "                                                                 \n",
      " flatten (Flatten)           (None, 100)               0         \n",
      "                                                                 \n",
      " dense (Dense)               (None, 16311)             1647411   \n",
      "                                                                 \n",
      "=================================================================\n",
      "Total params: 3,278,511\n",
      "Trainable params: 3,278,511\n",
      "Non-trainable params: 0\n",
      "_________________________________________________________________\n",
      "None\n"
     ]
    }
   ],
   "source": [
    "print(model.summary())"
   ]
  },
  {
   "cell_type": "markdown",
   "id": "541ea7f9",
   "metadata": {},
   "source": [
    "Осталось только обучить"
   ]
  },
  {
   "cell_type": "code",
   "execution_count": 30,
   "id": "6410a849",
   "metadata": {},
   "outputs": [
    {
     "name": "stdout",
     "output_type": "stream",
     "text": [
      "Epoch 1/10\n",
      "1600/1600 [==============================] - 8s 5ms/step - loss: 7.8727 - val_loss: 7.5314\n",
      "Epoch 2/10\n",
      "1600/1600 [==============================] - 7s 4ms/step - loss: 7.4530 - val_loss: 7.4054\n",
      "Epoch 3/10\n",
      "1600/1600 [==============================] - 7s 4ms/step - loss: 7.3080 - val_loss: 7.3006\n",
      "Epoch 4/10\n",
      "1600/1600 [==============================] - 7s 4ms/step - loss: 7.1780 - val_loss: 7.2240\n",
      "Epoch 5/10\n",
      "1600/1600 [==============================] - 7s 4ms/step - loss: 7.0605 - val_loss: 7.1654\n",
      "Epoch 6/10\n",
      "1600/1600 [==============================] - 7s 4ms/step - loss: 6.9522 - val_loss: 7.1200\n",
      "Epoch 7/10\n",
      "1600/1600 [==============================] - 7s 4ms/step - loss: 6.8514 - val_loss: 7.0869\n",
      "Epoch 8/10\n",
      "1600/1600 [==============================] - 7s 4ms/step - loss: 6.7579 - val_loss: 7.0638\n",
      "Epoch 9/10\n",
      "1600/1600 [==============================] - 7s 4ms/step - loss: 6.6715 - val_loss: 7.0516\n",
      "Epoch 10/10\n",
      "1600/1600 [==============================] - 7s 4ms/step - loss: 6.5930 - val_loss: 7.0469\n"
     ]
    },
    {
     "data": {
      "text/plain": [
       "<keras.callbacks.History at 0x7f12b4048d30>"
      ]
     },
     "execution_count": 30,
     "metadata": {},
     "output_type": "execute_result"
    }
   ],
   "source": [
    "# нейронные сети обучаются не на всех данных сразу\n",
    "# а по кусочкам (батчам)\n",
    "# размер батча зависит от размера нейронной сети и ресурсов\n",
    "# обычно это значение от 4 до нескольких тысяч\n",
    "model.fit(X_train, y_train, \n",
    "          validation_data=(X_valid, y_valid),\n",
    "          batch_size=1000, \n",
    "         epochs=10)"
   ]
  },
  {
   "cell_type": "markdown",
   "id": "730a8313",
   "metadata": {},
   "source": [
    "Посмотрим на графики функции потерь. Она должна уменьшаться и на трейне и на тесте"
   ]
  },
  {
   "cell_type": "code",
   "execution_count": 31,
   "id": "27b3bb36",
   "metadata": {},
   "outputs": [
    {
     "name": "stdout",
     "output_type": "stream",
     "text": [
      "dict_keys(['loss', 'val_loss'])\n"
     ]
    },
    {
     "data": {
      "image/png": "[encoded data removed]",
      "text/plain": [
       "<Figure size 432x288 with 1 Axes>"
      ]
     },
     "metadata": {
      "needs_background": "light"
     },
     "output_type": "display_data"
    }
   ],
   "source": [
    "print(model.history.history.keys())\n",
    "# summarize history for accuracy\n",
    "plt.plot(model.history.history['loss'])\n",
    "plt.plot(model.history.history['val_loss'])\n",
    "plt.title('model loss')\n",
    "plt.ylabel('loss')\n",
    "plt.xlabel('epoch')\n",
    "plt.legend(['train', 'val'], loc='upper left')\n",
    "plt.show()"
   ]
  },
  {
   "cell_type": "markdown",
   "id": "22d65d78",
   "metadata": {},
   "source": [
    "Но нас интересует не сама задача классификации, а получившиеся векторные представления."
   ]
  },
  {
   "cell_type": "markdown",
   "id": "1793a448",
   "metadata": {},
   "source": [
    "У нас есть два слоя с матрицами размера (длина словаря, 100). Можно взять векторные представления из любого из этих слоев или взять усредненный вектор."
   ]
  },
  {
   "cell_type": "code",
   "execution_count": 32,
   "id": "5b903e82",
   "metadata": {},
   "outputs": [
    {
     "data": {
      "text/plain": [
       "[<keras.layers.embeddings.Embedding at 0x7f12b41c71f0>,\n",
       " <keras.layers.core.flatten.Flatten at 0x7f12b41c7340>,\n",
       " <keras.layers.core.dense.Dense at 0x7f12b41a45b0>]"
      ]
     },
     "execution_count": 32,
     "metadata": {},
     "output_type": "execute_result"
    }
   ],
   "source": [
    "model.layers"
   ]
  },
  {
   "cell_type": "code",
   "execution_count": 33,
   "id": "879f2852",
   "metadata": {},
   "outputs": [
    {
     "data": {
      "text/plain": [
       "(16311, 100)"
      ]
     },
     "execution_count": 33,
     "metadata": {},
     "output_type": "execute_result"
    }
   ],
   "source": [
    "# веса embedding слоя\n",
    "model.layers[0].get_weights()[0].shape"
   ]
  },
  {
   "cell_type": "code",
   "execution_count": 34,
   "id": "6c789439",
   "metadata": {},
   "outputs": [
    {
     "data": {
      "text/plain": [
       "(100, 16311)"
      ]
     },
     "execution_count": 34,
     "metadata": {},
     "output_type": "execute_result"
    }
   ],
   "source": [
    "# веса полносвязного слоя\n",
    "model.layers[2].get_weights()[0].shape"
   ]
  },
  {
   "cell_type": "code",
   "execution_count": 35,
   "id": "b10b6910",
   "metadata": {},
   "outputs": [],
   "source": [
    "embeddings_1 = model.layers[0].get_weights()[0]\n",
    "embeddings_2 = model.layers[2].get_weights()[0].T"
   ]
  },
  {
   "cell_type": "code",
   "execution_count": 36,
   "id": "bb1a3248",
   "metadata": {},
   "outputs": [],
   "source": [
    "embeddings = np.mean([embeddings_1, embeddings_2], axis=0)"
   ]
  },
  {
   "cell_type": "code",
   "execution_count": 37,
   "id": "7b6d5cdc",
   "metadata": {},
   "outputs": [
    {
     "data": {
      "text/plain": [
       "(16311, 100)"
      ]
     },
     "execution_count": 37,
     "metadata": {},
     "output_type": "execute_result"
    }
   ],
   "source": [
    "embeddings.shape"
   ]
  },
  {
   "cell_type": "code",
   "execution_count": 40,
   "id": "f19673bd",
   "metadata": {},
   "outputs": [
    {
     "data": {
      "text/plain": [
       "['птица',\n",
       " 'небольшая',\n",
       " 'влажных',\n",
       " 'многолетнее',\n",
       " 'травянистое',\n",
       " 'высотой',\n",
       " 'семенами',\n",
       " 'длиной',\n",
       " 'коротким',\n",
       " 'бутоны']"
      ]
     },
     "execution_count": 40,
     "metadata": {},
     "output_type": "execute_result"
    }
   ],
   "source": [
    "most_similar('птица', embeddings)"
   ]
  },
  {
   "cell_type": "code",
   "execution_count": 41,
   "id": "fe05034b",
   "metadata": {},
   "outputs": [
    {
     "data": {
      "text/plain": [
       "['церковь',\n",
       " 'иисуса',\n",
       " 'деревянная',\n",
       " 'устроена',\n",
       " 'собор',\n",
       " 'построенная',\n",
       " 'значительным',\n",
       " 'петра',\n",
       " 'павла',\n",
       " 'башня']"
      ]
     },
     "execution_count": 41,
     "metadata": {},
     "output_type": "execute_result"
    }
   ],
   "source": [
    "most_similar('церковь', embeddings)"
   ]
  },
  {
   "cell_type": "markdown",
   "id": "6c84ed4f",
   "metadata": {},
   "source": [
    "### CBOW\n",
    "\n",
    "\n",
    "Теперь попробуем CBOW. В нем нужно по контексту предсказать целевое слово. В отличие от skip-gram тут сразу используется весь контекст, а векторы слов в контексте усредняются в 1 вектор контекста."
   ]
  },
  {
   "cell_type": "markdown",
   "id": "449ee211",
   "metadata": {},
   "source": [
    "Собрать датасет очень просто."
   ]
  },
  {
   "cell_type": "code",
   "execution_count": 316,
   "id": "b79059e0",
   "metadata": {},
   "outputs": [],
   "source": [
    "\n",
    "X = []\n",
    "y = []\n",
    "\n",
    "window = 5\n",
    "for sent in sentences[:10000]:\n",
    "    for i in range(len(sent)-1):\n",
    "        word = sent[i]\n",
    "        context = sent[max(0, i-window):i] + sent[i+1:i+window]\n",
    "        \n",
    "        X.append(context)\n",
    "        y.append(word)\n"
   ]
  },
  {
   "cell_type": "markdown",
   "id": "d2358400",
   "metadata": {},
   "source": [
    "Но нужно его немного поправить. В начале и конце текстов окна будут не полные и соответственно длина контекста будет не одинаковая. Но для преобразования в массив, длины должны быть одинаковыми. Решение этой проблемы - паддинг, добавление недостающего количества нулей  (может быть и другой индекс, но чаще всего именно 0). "
   ]
  },
  {
   "cell_type": "code",
   "execution_count": 308,
   "id": "8bf10994",
   "metadata": {},
   "outputs": [
    {
     "data": {
      "text/plain": [
       "[[6444, 12656, 7765, 2950],\n",
       " [11605, 12656, 7765, 2950, 7540],\n",
       " [11605, 6444, 7765, 2950, 7540, 3322],\n",
       " [11605, 6444, 12656, 2950, 7540, 3322, 12438],\n",
       " [11605, 6444, 12656, 7765, 7540, 3322, 12438, 7765],\n",
       " [11605, 6444, 12656, 7765, 2950, 3322, 12438, 7765, 11689],\n",
       " [6444, 12656, 7765, 2950, 7540, 12438, 7765, 11689, 1881],\n",
       " [12656, 7765, 2950, 7540, 3322, 7765, 11689, 1881, 7765],\n",
       " [7765, 2950, 7540, 3322, 12438, 11689, 1881, 7765, 2200],\n",
       " [2950, 7540, 3322, 12438, 7765, 1881, 7765, 2200, 12905]]"
      ]
     },
     "execution_count": 308,
     "metadata": {},
     "output_type": "execute_result"
    }
   ],
   "source": [
    "# оригинальные контексты\n",
    "X[:10]"
   ]
  },
  {
   "cell_type": "code",
   "execution_count": 311,
   "id": "8091932e",
   "metadata": {},
   "outputs": [
    {
     "name": "stderr",
     "output_type": "stream",
     "text": [
      "/Users/mnefedov/.pyenv/versions/3.7.2/lib/python3.7/site-packages/ipykernel_launcher.py:1: VisibleDeprecationWarning: Creating an ndarray from ragged nested sequences (which is a list-or-tuple of lists-or-tuples-or ndarrays with different lengths or shapes) is deprecated. If you meant to do this, you must specify 'dtype=object' when creating the ndarray.\n",
      "  \"\"\"Entry point for launching an IPython kernel.\n"
     ]
    },
    {
     "data": {
      "text/plain": [
       "array([list([6444, 12656, 7765, 2950]),\n",
       "       list([11605, 12656, 7765, 2950, 7540]),\n",
       "       list([11605, 6444, 7765, 2950, 7540, 3322]),\n",
       "       list([11605, 6444, 12656, 2950, 7540, 3322, 12438]),\n",
       "       list([11605, 6444, 12656, 7765, 7540, 3322, 12438, 7765]),\n",
       "       list([11605, 6444, 12656, 7765, 2950, 3322, 12438, 7765, 11689]),\n",
       "       list([6444, 12656, 7765, 2950, 7540, 12438, 7765, 11689, 1881]),\n",
       "       list([12656, 7765, 2950, 7540, 3322, 7765, 11689, 1881, 7765]),\n",
       "       list([7765, 2950, 7540, 3322, 12438, 11689, 1881, 7765, 2200]),\n",
       "       list([2950, 7540, 3322, 12438, 7765, 1881, 7765, 2200, 12905])],\n",
       "      dtype=object)"
      ]
     },
     "execution_count": 311,
     "metadata": {},
     "output_type": "execute_result"
    }
   ],
   "source": [
    "np.array(X[:10])"
   ]
  },
  {
   "cell_type": "code",
   "execution_count": null,
   "id": "a2b44ae6",
   "metadata": {},
   "outputs": [],
   "source": []
  },
  {
   "cell_type": "code",
   "execution_count": 317,
   "id": "a423d7cd",
   "metadata": {},
   "outputs": [],
   "source": [
    "X = tf.keras.preprocessing.sequence.pad_sequences(X, maxlen=10, padding='post')\n",
    "y = np.array(y)"
   ]
  },
  {
   "cell_type": "code",
   "execution_count": 318,
   "id": "993b116b",
   "metadata": {},
   "outputs": [
    {
     "data": {
      "text/plain": [
       "array([[ 6444, 12656,  7765, ...,     0,     0,     0],\n",
       "       [11605, 12656,  7765, ...,     0,     0,     0],\n",
       "       [11605,  6444,  7765, ...,     0,     0,     0],\n",
       "       ...,\n",
       "       [13508,  5846, 13204, ...,  5200,     0,     0],\n",
       "       [ 5846, 13204,  7765, ...,     0,     0,     0],\n",
       "       [13204,  7765,  5045, ...,     0,     0,     0]], dtype=int32)"
      ]
     },
     "execution_count": 318,
     "metadata": {},
     "output_type": "execute_result"
    }
   ],
   "source": [
    "# контексты после паддинга\n",
    "X"
   ]
  },
  {
   "cell_type": "code",
   "execution_count": 52,
   "id": "41d5dc4d",
   "metadata": {},
   "outputs": [],
   "source": [
    "X_train, X_valid, y_train, y_valid = train_test_split(X, y, test_size=0.05)"
   ]
  },
  {
   "cell_type": "markdown",
   "id": "08a4639c",
   "metadata": {},
   "source": [
    "Сама модель почти полностью совпадает"
   ]
  },
  {
   "cell_type": "code",
   "execution_count": 57,
   "id": "21f963c5",
   "metadata": {},
   "outputs": [],
   "source": [
    "model = tf.keras.Sequential()\n",
    "\n",
    "# 1 отличие - то что на вход подается не 1 слово а целое окно контекста\n",
    "# но на уровне embedding слоя нужно изменить только input_length\n",
    "# она будет равна числу до которого мы делали паддинг\n",
    "model.add(tf.keras.layers.Embedding(input_dim=len(word2id), \n",
    "                                    input_length=10, \n",
    "                                    output_dim=100))\n",
    "\n",
    "# 2 отличие - нужно усреднить контекст в 1 вектор\n",
    "model.add(tf.keras.layers.Lambda(lambda x: tf.keras.backend.sum(x, axis=1)))\n",
    "\n",
    "model.add(tf.keras.layers.Dense(len(word2id), activation='softmax'))\n",
    "model.compile(optimizer=tf.keras.optimizers.Adam(lr=0.001), loss='sparse_categorical_crossentropy',\n",
    "              \n",
    "              )"
   ]
  },
  {
   "cell_type": "code",
   "execution_count": 58,
   "id": "864e36f3",
   "metadata": {},
   "outputs": [
    {
     "name": "stdout",
     "output_type": "stream",
     "text": [
      "Model: \"sequential_4\"\n",
      "_________________________________________________________________\n",
      " Layer (type)                Output Shape              Param #   \n",
      "=================================================================\n",
      " embedding_4 (Embedding)     (None, 10, 100)           1631100   \n",
      "                                                                 \n",
      " lambda_3 (Lambda)           (None, 100)               0         \n",
      "                                                                 \n",
      " dense_4 (Dense)             (None, 16311)             1647411   \n",
      "                                                                 \n",
      "=================================================================\n",
      "Total params: 3,278,511\n",
      "Trainable params: 3,278,511\n",
      "Non-trainable params: 0\n",
      "_________________________________________________________________\n",
      "None\n"
     ]
    }
   ],
   "source": [
    "print(model.summary())"
   ]
  },
  {
   "cell_type": "code",
   "execution_count": 59,
   "id": "34d67f13",
   "metadata": {},
   "outputs": [
    {
     "name": "stdout",
     "output_type": "stream",
     "text": [
      "Epoch 1/5\n",
      "1653/1653 [==============================] - 8s 5ms/step - loss: 7.1693 - val_loss: 6.6003\n",
      "Epoch 2/5\n",
      "1653/1653 [==============================] - 7s 5ms/step - loss: 6.2509 - val_loss: 6.1478\n",
      "Epoch 3/5\n",
      "1653/1653 [==============================] - 7s 5ms/step - loss: 5.8232 - val_loss: 5.9535\n",
      "Epoch 4/5\n",
      "1653/1653 [==============================] - 8s 5ms/step - loss: 5.5460 - val_loss: 5.8524\n",
      "Epoch 5/5\n",
      "1653/1653 [==============================] - 8s 5ms/step - loss: 5.3367 - val_loss: 5.8009\n"
     ]
    },
    {
     "data": {
      "text/plain": [
       "<keras.callbacks.History at 0x7f12a0025190>"
      ]
     },
     "execution_count": 59,
     "metadata": {},
     "output_type": "execute_result"
    }
   ],
   "source": [
    "\n",
    "model.fit(X_train, y_train, \n",
    "          validation_data=(X_valid, y_valid),\n",
    "          batch_size=1000,\n",
    "         epochs=5)"
   ]
  },
  {
   "cell_type": "code",
   "execution_count": 60,
   "id": "9873dcf4",
   "metadata": {},
   "outputs": [],
   "source": [
    "embeddings_1 = model.layers[0].get_weights()[0]\n",
    "embeddings_2 = model.layers[2].get_weights()[0].T\n",
    "embeddings = np.mean([embeddings_1, embeddings_2], axis=0)"
   ]
  },
  {
   "cell_type": "code",
   "execution_count": 61,
   "id": "5a2896c3",
   "metadata": {},
   "outputs": [],
   "source": [
    "embeddings = np.mean([embeddings_1, embeddings_2], axis=0)"
   ]
  },
  {
   "cell_type": "code",
   "execution_count": 62,
   "id": "7b8f0da5",
   "metadata": {},
   "outputs": [
    {
     "data": {
      "text/plain": [
       "(16311, 100)"
      ]
     },
     "execution_count": 62,
     "metadata": {},
     "output_type": "execute_result"
    }
   ],
   "source": [
    "embeddings.shape"
   ]
  },
  {
   "cell_type": "code",
   "execution_count": 63,
   "id": "b7f2dbfe",
   "metadata": {},
   "outputs": [
    {
     "data": {
      "text/plain": [
       "['птица',\n",
       " 'рыба',\n",
       " 'жук',\n",
       " 'обыкновенная',\n",
       " 'чёрная',\n",
       " 'кустарников',\n",
       " 'растениями',\n",
       " 'птиц',\n",
       " 'змея',\n",
       " 'дерево']"
      ]
     },
     "execution_count": 63,
     "metadata": {},
     "output_type": "execute_result"
    }
   ],
   "source": [
    "most_similar('птица', embeddings)"
   ]
  },
  {
   "cell_type": "code",
   "execution_count": null,
   "id": "f96b7ef8",
   "metadata": {},
   "outputs": [],
   "source": []
  },
  {
   "cell_type": "markdown",
   "id": "40dac186",
   "metadata": {},
   "source": [
    "### Negative sampling"
   ]
  },
  {
   "cell_type": "markdown",
   "id": "637385f3",
   "metadata": {},
   "source": [
    "Одна из основных оптимизаций в word2vec - negative sampling. Задача из многоклассовой классификации преобразуется в бинарную классификацию. На вход подается сразу и целевое слово и контекст, а на выходе ожидается вероятность того, что они употребляются вместе. Положительные примеры просто берутся из корпуса, а для того, чтобы собрать негативные примеры, из словаря просто случайно выбираются слова. Возможна ситуация, когда для контекста случайно выбранное слово на самом деле может встретиться в этом контексте, но за счет большого количества примеров, такие неточности не повлияют на итоговый результат."
   ]
  },
  {
   "cell_type": "markdown",
   "id": "ec8312ee",
   "metadata": {},
   "source": [
    "В этот раз не будем сразу генерировать весь датасет. Он получается очень большой и эффективнее генерировать примеры на ходу (т.е. использовать генератор)"
   ]
  },
  {
   "cell_type": "code",
   "execution_count": 64,
   "id": "1928254d",
   "metadata": {},
   "outputs": [],
   "source": [
    "vocab_size = len(id2word)"
   ]
  },
  {
   "cell_type": "markdown",
   "id": "0663f708",
   "metadata": {},
   "source": [
    "Эта функция просто генерирует обучающее примеры батчами. В tf генераторы можно напрямую модавать в fit модели"
   ]
  },
  {
   "cell_type": "code",
   "execution_count": 66,
   "id": "e850e1d2",
   "metadata": {},
   "outputs": [],
   "source": [
    "# skip gram\n",
    "def gen_batches_sg(sentences, window = 5, batch_size=1000):\n",
    "    while True:\n",
    "        X_target = []\n",
    "        X_context = []\n",
    "        y = []\n",
    "\n",
    "        for sent in sentences:\n",
    "            for i in range(len(sent)-1):\n",
    "                word = sent[i]\n",
    "                context = sent[max(0, i-window):i] + sent[i+1:i+window]\n",
    "                for context_word in context:\n",
    "                    X_target.append(word)\n",
    "                    X_context.append(context_word)\n",
    "                    y.append(1)\n",
    "                    \n",
    "                    X_target.append(word)\n",
    "                    X_context.append(np.random.randint(vocab_size))\n",
    "                    y.append(0)\n",
    "                    \n",
    "                    if len(X_target) >= batch_size:\n",
    "                        X_target = np.array(X_target)\n",
    "                        X_context = np.array(X_context)\n",
    "                        y = np.array(y)\n",
    "                        yield ((X_target, X_context), y)\n",
    "                        X_target = []\n",
    "                        X_context = []\n",
    "                        y = []\n"
   ]
  },
  {
   "cell_type": "code",
   "execution_count": 67,
   "id": "33541b1f",
   "metadata": {},
   "outputs": [],
   "source": [
    "# # cbow \n",
    "def gen_batches_cbow(sentences, window = 5, batch_size=1000):\n",
    "    while True:\n",
    "        X_target = []\n",
    "        X_context = []\n",
    "        y = []\n",
    "\n",
    "        for sent in sentences:\n",
    "            for i in range(len(sent)-1):\n",
    "                word = sent[i]\n",
    "                context = sent[max(0, i-window):i] + sent[i+1:i+window]\n",
    "\n",
    "                X_target.append(word)\n",
    "                X_context.append(context)\n",
    "                y.append(1)\n",
    "                \n",
    "                X_target.append(np.random.randint(vocab_size))\n",
    "                X_context.append(context)\n",
    "                y.append(0)\n",
    "\n",
    "                if len(X_target) == batch_size:\n",
    "                    X_target = np.array(X_target)\n",
    "                    X_context = tf.keras.preprocessing.sequence.pad_sequences(X_context, maxlen=window*2)\n",
    "                    y = np.array(y)\n",
    "                    yield ((X_target, X_context), y)\n",
    "                    X_target = []\n",
    "                    X_context = []\n",
    "                    y = []"
   ]
  },
  {
   "cell_type": "markdown",
   "id": "74b09b8a",
   "metadata": {},
   "source": [
    "Саму модель нужно уже задать через Functional API, т.к. у нас будет два входа"
   ]
  },
  {
   "cell_type": "code",
   "execution_count": 69,
   "id": "6e086b72",
   "metadata": {},
   "outputs": [],
   "source": [
    "inputs_target = tf.keras.layers.Input(shape=(1,))\n",
    "inputs_context = tf.keras.layers.Input(shape=(1,))\n",
    "\n",
    "\n",
    "embeddings_target = tf.keras.layers.Embedding(input_dim=len(word2id), output_dim=300)(inputs_target, )\n",
    "embeddings_context = tf.keras.layers.Embedding(input_dim=len(word2id), output_dim=300)(inputs_context, )\n",
    "\n",
    "target = tf.keras.layers.Flatten()(embeddings_target)\n",
    "context = tf.keras.layers.Flatten()(embeddings_context)\n",
    "\n",
    "dot = tf.keras.layers.Dot(1)([target, context])\n",
    "outputs = tf.keras.layers.Activation(activation='sigmoid')(dot)\n",
    "\n",
    "model = tf.keras.Model(inputs=[inputs_target, inputs_context], \n",
    "                       outputs=outputs)\n",
    "optimizer = tf.keras.optimizers.Adam(learning_rate=0.001)\n",
    "model.compile(optimizer=optimizer,\n",
    "              loss='binary_crossentropy',\n",
    "              metrics=['accuracy'])\n",
    "\n",
    "\n"
   ]
  },
  {
   "cell_type": "code",
   "execution_count": 70,
   "id": "952c5ab4",
   "metadata": {},
   "outputs": [
    {
     "name": "stdout",
     "output_type": "stream",
     "text": [
      "Epoch 1/2\n",
      "10000/10000 [==============================] - 36s 4ms/step - loss: 0.4739 - accuracy: 0.7793 - val_loss: 0.5272 - val_accuracy: 0.7593\n",
      "Epoch 2/2\n",
      "10000/10000 [==============================] - 36s 4ms/step - loss: 0.4507 - accuracy: 0.7962 - val_loss: 0.4690 - val_accuracy: 0.7889\n"
     ]
    },
    {
     "data": {
      "text/plain": [
       "<keras.callbacks.History at 0x7f128c6e5a30>"
      ]
     },
     "execution_count": 70,
     "metadata": {},
     "output_type": "execute_result"
    }
   ],
   "source": [
    "model.fit(gen_batches_sg(sentences[:19000], window=5),\n",
    "          validation_data=gen_batches_sg(sentences[19000:],  window=5),\n",
    "          batch_size=1000,\n",
    "          steps_per_epoch=10000,\n",
    "          validation_steps=30,\n",
    "         epochs=2)"
   ]
  },
  {
   "cell_type": "code",
   "execution_count": 73,
   "id": "1a56360e",
   "metadata": {},
   "outputs": [],
   "source": [
    "embeddings = model.layers[2].get_weights()[0]"
   ]
  },
  {
   "cell_type": "code",
   "execution_count": 75,
   "id": "f06af355",
   "metadata": {},
   "outputs": [
    {
     "data": {
      "text/plain": [
       "['церковь',\n",
       " 'храм',\n",
       " 'построена',\n",
       " 'монастыря',\n",
       " 'монастырь',\n",
       " 'святого',\n",
       " 'каменный',\n",
       " 'собора',\n",
       " 'деревянная',\n",
       " 'николая']"
      ]
     },
     "execution_count": 75,
     "metadata": {},
     "output_type": "execute_result"
    }
   ],
   "source": [
    "most_similar('церковь', embeddings)"
   ]
  },
  {
   "cell_type": "code",
   "execution_count": null,
   "id": "5c539e13",
   "metadata": {},
   "outputs": [],
   "source": []
  },
  {
   "cell_type": "code",
   "execution_count": 76,
   "id": "7255ae35",
   "metadata": {},
   "outputs": [],
   "source": [
    "#cbow negative sampling\n",
    "inputs_target = tf.keras.layers.Input(shape=(1,))\n",
    "inputs_context = tf.keras.layers.Input(shape=(10,))\n",
    "\n",
    "\n",
    "embeddings_target = tf.keras.layers.Embedding(input_dim=len(word2id), output_dim=300)(inputs_target, )\n",
    "embeddings_context = tf.keras.layers.Embedding(input_dim=len(word2id), output_dim=300)(inputs_context, )\n",
    "\n",
    "target = tf.keras.layers.Flatten()(embeddings_target)\n",
    "context = tf.keras.layers.Lambda(lambda x: tf.keras.backend.sum(x, axis=1))(embeddings_context)\n",
    "dot = tf.keras.layers.Dot(1)([target, context])\n",
    "\n",
    "# полученную близость нужно преобразовать в вероятность\n",
    "# когда она одна используется не софтмакс и сигмоида\n",
    "outputs = tf.keras.layers.Activation(activation='sigmoid')(dot)\n",
    "\n",
    "model = tf.keras.Model(inputs=[inputs_target, inputs_context], \n",
    "                       outputs=outputs)\n",
    "\n",
    "\n",
    "optimizer = tf.keras.optimizers.Adam(learning_rate=0.001)\n",
    "model.compile(optimizer=optimizer,\n",
    "              loss='binary_crossentropy',\n",
    "              metrics=['accuracy'])\n"
   ]
  },
  {
   "cell_type": "code",
   "execution_count": 79,
   "id": "36a09425",
   "metadata": {},
   "outputs": [
    {
     "name": "stdout",
     "output_type": "stream",
     "text": [
      "Epoch 1/2\n",
      "5000/5000 [==============================] - 22s 4ms/step - loss: 0.3447 - accuracy: 0.8503 - val_loss: 0.2899 - val_accuracy: 0.8804\n",
      "Epoch 2/2\n",
      "5000/5000 [==============================] - 21s 4ms/step - loss: 0.2521 - accuracy: 0.8954 - val_loss: 0.2626 - val_accuracy: 0.8925\n"
     ]
    },
    {
     "data": {
      "text/plain": [
       "<keras.callbacks.History at 0x7f128c478be0>"
      ]
     },
     "execution_count": 79,
     "metadata": {},
     "output_type": "execute_result"
    }
   ],
   "source": [
    "model.fit(gen_batches_cbow(sentences[:19000], window=5),\n",
    "          validation_data=gen_batches_cbow(sentences[19000:],  window=5),\n",
    "          batch_size=1000,\n",
    "          steps_per_epoch=5000,\n",
    "          validation_steps=30,\n",
    "         epochs=2)"
   ]
  },
  {
   "cell_type": "code",
   "execution_count": 80,
   "id": "778836d6",
   "metadata": {},
   "outputs": [],
   "source": [
    "embeddings = model.layers[2].get_weights()[0]"
   ]
  },
  {
   "cell_type": "code",
   "execution_count": 81,
   "id": "953fe0eb",
   "metadata": {},
   "outputs": [
    {
     "data": {
      "text/plain": [
       "['семья',\n",
       " 'переехала',\n",
       " 'родители',\n",
       " 'уехала',\n",
       " 'жила',\n",
       " 'рос',\n",
       " 'сестра',\n",
       " 'мать',\n",
       " 'проживала',\n",
       " 'едет']"
      ]
     },
     "execution_count": 81,
     "metadata": {},
     "output_type": "execute_result"
    }
   ],
   "source": [
    "most_similar('семья', embeddings)"
   ]
  },
  {
   "cell_type": "code",
   "execution_count": 82,
   "id": "07e6b428",
   "metadata": {},
   "outputs": [
    {
     "data": {
      "text/plain": [
       "['церковь',\n",
       " 'храм',\n",
       " 'церкви',\n",
       " 'храма',\n",
       " 'монастыря',\n",
       " 'собор',\n",
       " 'часовня',\n",
       " 'здание',\n",
       " 'колокольня',\n",
       " 'святого']"
      ]
     },
     "execution_count": 82,
     "metadata": {},
     "output_type": "execute_result"
    }
   ],
   "source": [
    "most_similar('церковь', embeddings)"
   ]
  },
  {
   "cell_type": "markdown",
   "id": "c8dc9cac",
   "metadata": {},
   "source": [
    "Другая значимая оптимизация в word2vec - это иерархический софтмакс. Когда мы считали модель без негативного семплирования, то у нас был большой полносвязный слой с софтмаксом. Иерархический софтмакс упрощает расчеты в этом слое, но его уже так просто не воспроизведешь.\n",
    "\n",
    "На этом месте уже лучше перейти к готовой реализации."
   ]
  },
  {
   "cell_type": "markdown",
   "id": "a7af3bf3",
   "metadata": {},
   "source": [
    "## Word2Vec в gensim"
   ]
  },
  {
   "cell_type": "markdown",
   "id": "10b28433",
   "metadata": {},
   "source": [
    "В gensim есть питоновская обертка к оригинальному ворд2веку, которой очень удобно пользоваться."
   ]
  },
  {
   "cell_type": "code",
   "execution_count": 321,
   "id": "d916424d",
   "metadata": {},
   "outputs": [],
   "source": [
    "import gensim"
   ]
  },
  {
   "cell_type": "markdown",
   "id": "5414972b",
   "metadata": {},
   "source": [
    "На вход нужно подавать список списков (токенизированный текст)"
   ]
  },
  {
   "cell_type": "code",
   "execution_count": 322,
   "id": "28b573f7",
   "metadata": {},
   "outputs": [],
   "source": [
    "wiki = open('wiki_data.txt').read().split('\\n')"
   ]
  },
  {
   "cell_type": "code",
   "execution_count": 323,
   "id": "912f3adf",
   "metadata": {},
   "outputs": [],
   "source": [
    "texts = [preprocess(text) for text in wiki]"
   ]
  },
  {
   "cell_type": "code",
   "execution_count": 320,
   "id": "ce4b4186",
   "metadata": {},
   "outputs": [],
   "source": [
    "# f = open('corpus.txt', 'w')\n",
    "# for text in texts:\n",
    "#     f.write(' '.join(text) + '\\n')\n",
    "# f.close()"
   ]
  },
  {
   "cell_type": "code",
   "execution_count": 319,
   "id": "118e3ee0",
   "metadata": {},
   "outputs": [],
   "source": [
    "# corpus = gensim.models.word2vec.LineSentence('corpus.txt', )"
   ]
  },
  {
   "cell_type": "markdown",
   "id": "91051ba2",
   "metadata": {},
   "source": [
    "В саму модель нужно передать корпус для обучения, для остальных параметров есть значения по умолчанию"
   ]
  },
  {
   "cell_type": "code",
   "execution_count": 167,
   "id": "71504b2b",
   "metadata": {
    "scrolled": true
   },
   "outputs": [
    {
     "name": "stdout",
     "output_type": "stream",
     "text": [
      "CPU times: user 39.5 s, sys: 207 ms, total: 39.7 s\n",
      "Wall time: 15.4 s\n"
     ]
    }
   ],
   "source": [
    "%%time\n",
    "w2v = gensim.models.Word2Vec(texts)"
   ]
  },
  {
   "cell_type": "code",
   "execution_count": 165,
   "id": "524499f8",
   "metadata": {},
   "outputs": [
    {
     "data": {
      "text/plain": [
       "[('часовня', 0.8743033409118652),\n",
       " ('построена', 0.8359026312828064),\n",
       " ('богородицы', 0.8297877311706543),\n",
       " ('православная', 0.8275739550590515),\n",
       " ('деревянная', 0.8258281946182251),\n",
       " ('храм', 0.8068298697471619),\n",
       " ('икона', 0.8052462339401245),\n",
       " ('пресвятой', 0.8045442700386047),\n",
       " ('божией', 0.7889246940612793),\n",
       " ('успения', 0.7842323184013367)]"
      ]
     },
     "execution_count": 165,
     "metadata": {},
     "output_type": "execute_result"
    }
   ],
   "source": [
    "w2v.wv.most_similar('церковь')"
   ]
  },
  {
   "cell_type": "markdown",
   "id": "3363b11e",
   "metadata": {},
   "source": [
    "Давайте теперь разберемся с параметрами:"
   ]
  },
  {
   "cell_type": "markdown",
   "id": "f6128bdd",
   "metadata": {},
   "source": [
    "**vector_size** - размер вектора, обычно используют значение 100-1000  \n",
    "\n",
    "**min_count** - минимальная частота слова в корпусе (выше мы тоже фильтровали по частототе 30)  \n",
    "\n",
    "**max_vocab_size** - максимальный размер словаря\n",
    "\n",
    "**window** - размер окна (выше мы использовали значение 10)\n",
    "\n",
    "**epochs** - количество эпох (полных итераций по корпусу)"
   ]
  },
  {
   "cell_type": "code",
   "execution_count": 178,
   "id": "6ea31ac0",
   "metadata": {},
   "outputs": [
    {
     "name": "stdout",
     "output_type": "stream",
     "text": [
      "CPU times: user 24.6 s, sys: 248 ms, total: 24.9 s\n",
      "Wall time: 9.36 s\n"
     ]
    }
   ],
   "source": [
    "%%time\n",
    "w2v = gensim.models.Word2Vec(texts, \n",
    "                             vector_size=300, \n",
    "                             min_count=30, \n",
    "                             max_vocab_size=10000,\n",
    "                             window=5,\n",
    "                             epochs=7)"
   ]
  },
  {
   "cell_type": "code",
   "execution_count": 179,
   "id": "304b59ab",
   "metadata": {},
   "outputs": [
    {
     "data": {
      "text/plain": [
       "[('храм', 0.7513039112091064),\n",
       " ('собор', 0.6645839214324951),\n",
       " ('храма', 0.6581066846847534),\n",
       " ('церкви', 0.6571823358535767),\n",
       " ('монастырь', 0.644494354724884),\n",
       " ('монастыря', 0.6430743336677551),\n",
       " ('святого', 0.6364166736602783),\n",
       " ('святой', 0.6202442049980164),\n",
       " ('собора', 0.6182669401168823),\n",
       " ('николая', 0.5432458519935608)]"
      ]
     },
     "execution_count": 179,
     "metadata": {},
     "output_type": "execute_result"
    }
   ],
   "source": [
    "w2v.wv.most_similar('церковь')"
   ]
  },
  {
   "cell_type": "markdown",
   "id": "004aa64a",
   "metadata": {},
   "source": [
    "CBOW или Skip-gram выбираются через параметр **sg** - 1 это skip-gram, а 0 - cbow (по умолчанию всегда cbow)"
   ]
  },
  {
   "cell_type": "code",
   "execution_count": 180,
   "id": "6982b4b4",
   "metadata": {},
   "outputs": [
    {
     "name": "stdout",
     "output_type": "stream",
     "text": [
      "CPU times: user 1min 23s, sys: 581 ms, total: 1min 23s\n",
      "Wall time: 28.7 s\n"
     ]
    }
   ],
   "source": [
    "%%time\n",
    "w2v = gensim.models.Word2Vec(texts,\n",
    "                             vector_size=300, \n",
    "                             min_count=30, \n",
    "                             max_vocab_size=10000,\n",
    "                             window=5,\n",
    "                             epochs=7,\n",
    "                             sg=1\n",
    "                            )"
   ]
  },
  {
   "cell_type": "markdown",
   "id": "a516ad01",
   "metadata": {},
   "source": [
    "Скип-грам обучается значительно дольше "
   ]
  },
  {
   "cell_type": "code",
   "execution_count": 181,
   "id": "240d2fbe",
   "metadata": {},
   "outputs": [
    {
     "data": {
      "text/plain": [
       "[('храм', 0.6266138553619385),\n",
       " ('храма', 0.5525968074798584),\n",
       " ('собор', 0.5485511422157288),\n",
       " ('церкви', 0.5410593152046204),\n",
       " ('монастыря', 0.5160554647445679),\n",
       " ('монастырь', 0.5113397836685181),\n",
       " ('собора', 0.4808449149131775),\n",
       " ('здание', 0.4742560088634491),\n",
       " ('святого', 0.4521041512489319),\n",
       " ('николая', 0.4474599063396454)]"
      ]
     },
     "execution_count": 181,
     "metadata": {},
     "output_type": "execute_result"
    }
   ],
   "source": [
    "w2v.wv.most_similar('церковь')"
   ]
  },
  {
   "cell_type": "markdown",
   "id": "5180b31b",
   "metadata": {},
   "source": [
    "Увеличения window на cbow практически не влияет"
   ]
  },
  {
   "cell_type": "code",
   "execution_count": 182,
   "id": "a6b81c04",
   "metadata": {},
   "outputs": [
    {
     "name": "stdout",
     "output_type": "stream",
     "text": [
      "CPU times: user 28.8 s, sys: 252 ms, total: 29.1 s\n",
      "Wall time: 10.8 s\n"
     ]
    }
   ],
   "source": [
    "%%time\n",
    "w2v = gensim.models.Word2Vec(texts,\n",
    "                             vector_size=300, \n",
    "                             min_count=30, \n",
    "                             max_vocab_size=10000,\n",
    "                             window=10,\n",
    "                             epochs=7,\n",
    "                             \n",
    "                            )"
   ]
  },
  {
   "cell_type": "markdown",
   "id": "6d8a6dc5",
   "metadata": {},
   "source": [
    "А вот skip-gram сильно замедляется с увеличением окна"
   ]
  },
  {
   "cell_type": "code",
   "execution_count": 183,
   "id": "6cef32e5",
   "metadata": {},
   "outputs": [
    {
     "name": "stdout",
     "output_type": "stream",
     "text": [
      "CPU times: user 2min 25s, sys: 491 ms, total: 2min 25s\n",
      "Wall time: 49.7 s\n"
     ]
    }
   ],
   "source": [
    "%%time\n",
    "w2v = gensim.models.Word2Vec(texts,\n",
    "                             vector_size=300, \n",
    "                             min_count=30, \n",
    "                             max_vocab_size=10000,\n",
    "                             window=10,\n",
    "                             epochs=7,\n",
    "                             sg=1\n",
    "                            )"
   ]
  },
  {
   "cell_type": "code",
   "execution_count": null,
   "id": "b79d046d",
   "metadata": {},
   "outputs": [],
   "source": []
  },
  {
   "cell_type": "markdown",
   "id": "6a9ec418",
   "metadata": {},
   "source": [
    "Выбор между negative_sampling и hierarchical softmax осуществляется через 2 параметра **hs** и **negative**:   \n",
    "1) **hs=0, negative=0** - ни то ни другое не используется  \n",
    "2) **hs=1** - используется hierarchical softmax  \n",
    "3) **hs=0, negative > 0** - используется negative_sampling и число в negative указывает сколько негативных примеров семплировать (в документации советуют значения от 5 до 20)  (по умолчанию)   "
   ]
  },
  {
   "cell_type": "code",
   "execution_count": 170,
   "id": "6fa3ed28",
   "metadata": {},
   "outputs": [
    {
     "name": "stdout",
     "output_type": "stream",
     "text": [
      "CPU times: user 8.99 s, sys: 185 ms, total: 9.18 s\n",
      "Wall time: 9 s\n"
     ]
    }
   ],
   "source": [
    "%%time\n",
    "w2v = gensim.models.Word2Vec(texts,\n",
    "                             hs=0,\n",
    "                             negative=0\n",
    "                            )"
   ]
  },
  {
   "cell_type": "markdown",
   "id": "3ab7c517",
   "metadata": {},
   "source": [
    "Работает быстрее, но качество сильно страдает"
   ]
  },
  {
   "cell_type": "code",
   "execution_count": 171,
   "id": "6868493d",
   "metadata": {},
   "outputs": [
    {
     "data": {
      "text/plain": [
       "[('спрятан', 0.42304709553718567),\n",
       " ('железную', 0.4164682626724243),\n",
       " ('краёв', 0.4125758111476898),\n",
       " ('жизненную', 0.40853172540664673),\n",
       " ('интерфейсом', 0.4083697497844696),\n",
       " ('понижении', 0.4059951603412628),\n",
       " ('откладывать', 0.3957667648792267),\n",
       " ('ленинградскую', 0.3870789408683777),\n",
       " ('36', 0.381250262260437),\n",
       " ('архангельского', 0.37584179639816284)]"
      ]
     },
     "execution_count": 171,
     "metadata": {},
     "output_type": "execute_result"
    }
   ],
   "source": [
    "w2v.wv.most_similar('церковь')"
   ]
  },
  {
   "cell_type": "markdown",
   "id": "4008e899",
   "metadata": {},
   "source": [
    "Иерархический софтмакс работает сильно дольше"
   ]
  },
  {
   "cell_type": "code",
   "execution_count": 172,
   "id": "b9c0725e",
   "metadata": {},
   "outputs": [
    {
     "name": "stdout",
     "output_type": "stream",
     "text": [
      "CPU times: user 1min 25s, sys: 342 ms, total: 1min 25s\n",
      "Wall time: 33 s\n"
     ]
    }
   ],
   "source": [
    "%%time\n",
    "w2v = gensim.models.Word2Vec(texts, \n",
    "                             hs=1\n",
    "                            )"
   ]
  },
  {
   "cell_type": "code",
   "execution_count": 173,
   "id": "ea742df9",
   "metadata": {},
   "outputs": [
    {
     "data": {
      "text/plain": [
       "[('часовня', 0.7753229141235352),\n",
       " ('храм', 0.7011154890060425),\n",
       " ('колокольня', 0.6815000772476196),\n",
       " ('деревянная', 0.6767951250076294),\n",
       " ('построенная', 0.6744670271873474),\n",
       " ('церкви', 0.6732568740844727),\n",
       " ('икона', 0.6712637543678284),\n",
       " ('храма', 0.6560209393501282),\n",
       " ('построена', 0.6511436700820923),\n",
       " ('монастыре', 0.6485512852668762)]"
      ]
     },
     "execution_count": 173,
     "metadata": {},
     "output_type": "execute_result"
    }
   ],
   "source": [
    "w2v.wv.most_similar('церковь')"
   ]
  },
  {
   "cell_type": "markdown",
   "id": "96c3a389",
   "metadata": {},
   "source": [
    "Дефолтная настройка работает достаточно быстро и хорошо"
   ]
  },
  {
   "cell_type": "code",
   "execution_count": 174,
   "id": "bbc7b815",
   "metadata": {},
   "outputs": [
    {
     "name": "stdout",
     "output_type": "stream",
     "text": [
      "CPU times: user 40.7 s, sys: 238 ms, total: 40.9 s\n",
      "Wall time: 15.9 s\n"
     ]
    }
   ],
   "source": [
    "%%time\n",
    "w2v = gensim.models.Word2Vec(texts, \n",
    "                             hs=0,\n",
    "                             negative=5\n",
    "                            )"
   ]
  },
  {
   "cell_type": "code",
   "execution_count": 175,
   "id": "266440a9",
   "metadata": {},
   "outputs": [
    {
     "data": {
      "text/plain": [
       "[('часовня', 0.8404061794281006),\n",
       " ('православная', 0.8251654505729675),\n",
       " ('построена', 0.8183906674385071),\n",
       " ('деревянная', 0.8111212849617004),\n",
       " ('богородицы', 0.8039596676826477),\n",
       " ('храм', 0.8038241267204285),\n",
       " ('икона', 0.7885087132453918),\n",
       " ('пресвятой', 0.7846370339393616),\n",
       " ('монастырь', 0.7819284796714783),\n",
       " ('чудотворца', 0.7770885229110718)]"
      ]
     },
     "execution_count": 175,
     "metadata": {},
     "output_type": "execute_result"
    }
   ],
   "source": [
    "w2v.wv.most_similar('церковь')"
   ]
  },
  {
   "cell_type": "markdown",
   "id": "e1da5a8c",
   "metadata": {},
   "source": [
    "Повышение negative влияет на время обучения"
   ]
  },
  {
   "cell_type": "code",
   "execution_count": 176,
   "id": "ee61c82b",
   "metadata": {},
   "outputs": [
    {
     "name": "stdout",
     "output_type": "stream",
     "text": [
      "CPU times: user 1min 39s, sys: 348 ms, total: 1min 40s\n",
      "Wall time: 35.6 s\n"
     ]
    }
   ],
   "source": [
    "%%time\n",
    "w2v = gensim.models.Word2Vec(texts, \n",
    "                             hs=0,\n",
    "                             negative=20\n",
    "                            )"
   ]
  },
  {
   "cell_type": "code",
   "execution_count": 177,
   "id": "c297b275",
   "metadata": {},
   "outputs": [
    {
     "data": {
      "text/plain": [
       "[('часовня', 0.857257604598999),\n",
       " ('деревянная', 0.8246216177940369),\n",
       " ('построена', 0.8122153282165527),\n",
       " ('храм', 0.8049266934394836),\n",
       " ('богородицы', 0.7839708924293518),\n",
       " ('построенная', 0.772368848323822),\n",
       " ('православная', 0.7637260556221008),\n",
       " ('храме', 0.7629793882369995),\n",
       " ('монастырь', 0.7567533254623413),\n",
       " ('каменная', 0.7556505799293518)]"
      ]
     },
     "execution_count": 177,
     "metadata": {},
     "output_type": "execute_result"
    }
   ],
   "source": [
    "w2v.wv.most_similar('церковь')"
   ]
  },
  {
   "cell_type": "code",
   "execution_count": null,
   "id": "f40a7e24",
   "metadata": {},
   "outputs": [],
   "source": []
  },
  {
   "cell_type": "markdown",
   "id": "b6b5357b",
   "metadata": {},
   "source": [
    "Есть еще несколько параметров, но уже не таких влиятельных:\n",
    "\n",
    "1) **sample** - отвечает за downsampling частотных слов; чем меньше, тем сильнее штрафуются частотные слова (по умолчанию стоит 1e-3, но можно поставить 1e-4, 1e-5). Для sg это будет значительно влиять на скорость (1e-5 будет быстрее)  \n",
    "2) **ns_exponent** -  регулирет downsampling частотных слов в negative sampling; 0 - никакого штрафа за частотность (как у нас выше с полным рандомом), 1 - штрафует пропорционально частотности, значения 0-1 что-то посередине (по умолчанию стоит 0.75)  \n",
    "3) **cbow_mean** - отвечает за функцию агрегации в cbow; 1 - это среднее, 0 - сумма (у нас выше среднее, оно же стоит по умолчанию)  "
   ]
  },
  {
   "cell_type": "code",
   "execution_count": 190,
   "id": "0d1a5345",
   "metadata": {},
   "outputs": [
    {
     "name": "stdout",
     "output_type": "stream",
     "text": [
      "CPU times: user 1min 29s, sys: 345 ms, total: 1min 29s\n",
      "Wall time: 32.3 s\n"
     ]
    }
   ],
   "source": [
    "%%time\n",
    "w2v = gensim.models.Word2Vec(texts, \n",
    "                             sample=1e-5,\n",
    "                             sg=1\n",
    "                            )"
   ]
  },
  {
   "cell_type": "code",
   "execution_count": 191,
   "id": "1c3928c9",
   "metadata": {},
   "outputs": [
    {
     "data": {
      "text/plain": [
       "[('храм', 0.9693702459335327),\n",
       " ('часовня', 0.9608985781669617),\n",
       " ('храма', 0.9532955884933472),\n",
       " ('храме', 0.9456794261932373),\n",
       " ('деревянная', 0.9453122615814209),\n",
       " ('рождества', 0.9441068172454834),\n",
       " ('монастыря', 0.9335580468177795),\n",
       " ('чудотворца', 0.9319661855697632),\n",
       " ('богородицы', 0.9289035201072693),\n",
       " ('деревянный', 0.9278043508529663)]"
      ]
     },
     "execution_count": 191,
     "metadata": {},
     "output_type": "execute_result"
    }
   ],
   "source": [
    "w2v.wv.most_similar('церковь')"
   ]
  },
  {
   "cell_type": "code",
   "execution_count": 192,
   "id": "a6e9b5e7",
   "metadata": {},
   "outputs": [
    {
     "name": "stdout",
     "output_type": "stream",
     "text": [
      "CPU times: user 40.7 s, sys: 254 ms, total: 40.9 s\n",
      "Wall time: 16 s\n"
     ]
    }
   ],
   "source": [
    "%%time\n",
    "w2v = gensim.models.Word2Vec(texts, \n",
    "                             ns_exponent=0.84\n",
    "                            )"
   ]
  },
  {
   "cell_type": "code",
   "execution_count": 193,
   "id": "29ad129d",
   "metadata": {},
   "outputs": [
    {
     "data": {
      "text/plain": [
       "[('часовня', 0.8298123478889465),\n",
       " ('храм', 0.8118749856948853),\n",
       " ('построена', 0.7992591261863708),\n",
       " ('деревянная', 0.7960627675056458),\n",
       " ('монастыря', 0.7658997774124146),\n",
       " ('монастырь', 0.7656899094581604),\n",
       " ('богородицы', 0.7621358036994934),\n",
       " ('православная', 0.76121985912323),\n",
       " ('церкви', 0.7610598802566528),\n",
       " ('собор', 0.7493856549263)]"
      ]
     },
     "execution_count": 193,
     "metadata": {},
     "output_type": "execute_result"
    }
   ],
   "source": [
    "w2v.wv.most_similar('церковь')"
   ]
  },
  {
   "cell_type": "code",
   "execution_count": null,
   "id": "0cb2fda1",
   "metadata": {},
   "outputs": [],
   "source": []
  },
  {
   "cell_type": "code",
   "execution_count": 195,
   "id": "fd8c2eba",
   "metadata": {},
   "outputs": [
    {
     "name": "stdout",
     "output_type": "stream",
     "text": [
      "CPU times: user 40.8 s, sys: 232 ms, total: 41 s\n",
      "Wall time: 16 s\n"
     ]
    }
   ],
   "source": [
    "%%time\n",
    "w2v = gensim.models.Word2Vec(texts, \n",
    "                             cbow_mean=0\n",
    "                            )"
   ]
  },
  {
   "cell_type": "code",
   "execution_count": 196,
   "id": "c08ade15",
   "metadata": {},
   "outputs": [
    {
     "data": {
      "text/plain": [
       "[('православная', 0.9259366393089294),\n",
       " ('деревянная', 0.9255096912384033),\n",
       " ('богородицы', 0.9177859425544739),\n",
       " ('пресвятой', 0.9164575934410095),\n",
       " ('построена', 0.9148902893066406),\n",
       " ('община', 0.9139506220817566),\n",
       " ('икона', 0.9081771969795227),\n",
       " ('часовня', 0.9020712375640869),\n",
       " ('рождества', 0.8993982672691345),\n",
       " ('епархия', 0.8981451988220215)]"
      ]
     },
     "execution_count": 196,
     "metadata": {},
     "output_type": "execute_result"
    }
   ],
   "source": [
    "w2v.wv.most_similar('церковь')"
   ]
  },
  {
   "cell_type": "code",
   "execution_count": null,
   "id": "31490cc2",
   "metadata": {},
   "outputs": [],
   "source": []
  },
  {
   "cell_type": "markdown",
   "id": "7f383ad3",
   "metadata": {},
   "source": [
    "## FastText"
   ]
  },
  {
   "cell_type": "markdown",
   "id": "77a79c3b",
   "metadata": {},
   "source": [
    "В 2015 почти та же команда выпустила улучшение - FastText (статья - https://arxiv.org/abs/1607.04606). Главная доработка в нем - использование символьных нграммов. В оригинальном word2vec словарь обучается вначале и фиксируется, добавлять новые слова к обученной модели нельзя. Соответственно, если слова нет в словаре, то и вектора для него не будет.\n",
    "\n",
    "В FastText каждое слово дополнительно разбивается на символьные нграммы и для каждого символьного нграмма тоже есть свой отдельный эмбеддинг. При предсказании векторы символьных нграммов и целого слова усредняются в 1 вектор. В дальнейшем это позволяет генерировать векторы для слов, которых нет в изначальном словаре. Нужно только чтобы новое слово состояло уже из известных символьных нграмм."
   ]
  },
  {
   "cell_type": "markdown",
   "id": "17faa699",
   "metadata": {},
   "source": [
    "Интерфейс обучения и большинство параметров - точно такие же"
   ]
  },
  {
   "cell_type": "code",
   "execution_count": 197,
   "id": "ea91a3c8",
   "metadata": {},
   "outputs": [
    {
     "name": "stdout",
     "output_type": "stream",
     "text": [
      "CPU times: user 2min 56s, sys: 667 ms, total: 2min 57s\n",
      "Wall time: 1min 8s\n"
     ]
    }
   ],
   "source": [
    "%%time\n",
    "ft = gensim.models.FastText(texts)"
   ]
  },
  {
   "cell_type": "markdown",
   "id": "102ab1e1",
   "metadata": {},
   "source": [
    "Использование символьных нграммов сразу заметно - близким считаются слова похожие по написанию, а не только по смыслу"
   ]
  },
  {
   "cell_type": "code",
   "execution_count": 202,
   "id": "b43dc9e5",
   "metadata": {},
   "outputs": [
    {
     "data": {
      "text/plain": [
       "[('«церковь', 0.9908390641212463),\n",
       " ('церковь»', 0.9904298186302185),\n",
       " ('церковью', 0.9601637125015259),\n",
       " ('церкви»', 0.8868716955184937),\n",
       " ('церкви', 0.8820227980613708),\n",
       " ('церквям', 0.8782130479812622),\n",
       " ('монастыря»', 0.8180803656578064),\n",
       " ('храма', 0.8161970376968384),\n",
       " ('церквях', 0.8152474761009216),\n",
       " ('монастырю', 0.8105190396308899)]"
      ]
     },
     "execution_count": 202,
     "metadata": {},
     "output_type": "execute_result"
    }
   ],
   "source": [
    "ft.wv.most_similar('церковь')"
   ]
  },
  {
   "cell_type": "markdown",
   "id": "5b6b70a2",
   "metadata": {},
   "source": [
    "Дополнительные параметры:\n",
    "\n",
    "1) **min_n** - минимальная длина для символьных нграмм (по умолчанию 3)  \n",
    "2) **max_n** - максимальная длина для символьных нграмм, если поставить меньше min_n, то символьные нграммы не будут использоваться (по умолчанию 6)"
   ]
  },
  {
   "cell_type": "code",
   "execution_count": 203,
   "id": "454cde27",
   "metadata": {},
   "outputs": [
    {
     "name": "stdout",
     "output_type": "stream",
     "text": [
      "CPU times: user 4min 29s, sys: 481 ms, total: 4min 30s\n",
      "Wall time: 1min 41s\n"
     ]
    }
   ],
   "source": [
    "%%time\n",
    "ft = gensim.models.FastText(texts, min_n=2, max_n=8)"
   ]
  },
  {
   "cell_type": "code",
   "execution_count": 205,
   "id": "f0df4504",
   "metadata": {},
   "outputs": [
    {
     "data": {
      "text/plain": [
       "[('церковь»', 0.9192732572555542),\n",
       " ('«церковь', 0.9157706499099731),\n",
       " ('церковью', 0.9103031754493713),\n",
       " ('церкви', 0.7926523089408875),\n",
       " ('монастырь', 0.7874160408973694),\n",
       " ('монастырская', 0.7767997980117798),\n",
       " ('церковно-приходская', 0.770706832408905),\n",
       " ('церкви»', 0.7694923281669617),\n",
       " ('церковная', 0.769381582736969),\n",
       " ('святынь', 0.7627576589584351)]"
      ]
     },
     "execution_count": 205,
     "metadata": {},
     "output_type": "execute_result"
    }
   ],
   "source": [
    "ft.wv.most_similar('церковь')"
   ]
  },
  {
   "cell_type": "markdown",
   "id": "5badb355",
   "metadata": {},
   "source": [
    "### Использование предобученных моделей"
   ]
  },
  {
   "cell_type": "markdown",
   "id": "bc374a8f",
   "metadata": {},
   "source": [
    "В открытом доступе есть много предобученных моделей. Они как правило обучены на неспецифических, но очень больших корпусах (новостных, википедии). Если в решаемой задаче тексты похожи, то лучше использовать предобученные модели. Свои модели имеет смысл обучать, когда данные очень специфичные.\n",
    "\n",
    "Для русского готовые модели можно взять на сайте https://rusvectores.org/ru/models/ \n",
    "\n",
    "Нужно скачать какую-то модели, распаковать и открыть в генсиме.\n"
   ]
  },
  {
   "cell_type": "code",
   "execution_count": 181,
   "id": "5e2684a4",
   "metadata": {},
   "outputs": [
    {
     "name": "stderr",
     "output_type": "stream",
     "text": [
      "/Users/mnefedov/.pyenv/versions/3.6.5/lib/python3.6/site-packages/smart_open/smart_open_lib.py:402: UserWarning: This function is deprecated, use smart_open.open instead. See the migration notes for details: https://github.com/RaRe-Technologies/smart_open/blob/master/README.rst#migrating-to-the-new-open-function\n",
      "  'See the migration notes for details: %s' % _MIGRATION_NOTES_URL\n"
     ]
    }
   ],
   "source": [
    "# я скачал вот эту tayga_upos_skipgram_300_2_2019 \n",
    "# и распаковал архив в папку taiga_w2v_model\n",
    "import gensim\n",
    "model = gensim.models.KeyedVectors.load_word2vec_format('model.bin', binary=True)"
   ]
  },
  {
   "cell_type": "code",
   "execution_count": 182,
   "id": "bb122eda",
   "metadata": {},
   "outputs": [
    {
     "data": {
      "text/plain": [
       "[('март_NOUN', 0.9567033052444458),\n",
       " ('ноябрь_NOUN', 0.9523458480834961),\n",
       " ('декабрь_NOUN', 0.9509049654006958),\n",
       " ('апрель_NOUN', 0.949961245059967),\n",
       " ('январь_NOUN', 0.9472224712371826),\n",
       " ('октябрь_NOUN', 0.937659740447998),\n",
       " ('май_NOUN', 0.911928117275238),\n",
       " ('июнь_NOUN', 0.9011650681495667),\n",
       " ('сентябрь_NOUN', 0.899361252784729),\n",
       " ('июль_NOUN', 0.8842827677726746)]"
      ]
     },
     "execution_count": 182,
     "metadata": {},
     "output_type": "execute_result"
    }
   ],
   "source": [
    "model.most_similar('февраль_NOUN')"
   ]
  },
  {
   "cell_type": "markdown",
   "id": "fd8f36dd",
   "metadata": {},
   "source": [
    "Слова в модели хранятся в нормализованном виде с прибавленной частью речи. Для пребобработки там использовался udpipe, вызывать его в тетрадке неудобно, поэтому можно заменить его на майстем (по большей части все будет совпадать). На сайте есть ссылка на файл с соответствием тэгов майстема тэгам Udpipe (https://github.com/akutuzov/universal-pos-tags/blob/4653e8a9154e93fe2f417c7fdb7a357b7d6ce333/ru-rnc.map)"
   ]
  },
  {
   "cell_type": "code",
   "execution_count": 183,
   "id": "2d5dcca5",
   "metadata": {},
   "outputs": [],
   "source": [
    "mapping = {}\n",
    "\n",
    "for line in open('ru-rnc.map.txt'):\n",
    "    ms, ud = line.strip('\\n').split()\n",
    "    mapping[ms] = ud"
   ]
  },
  {
   "cell_type": "code",
   "execution_count": 184,
   "id": "a590f675",
   "metadata": {},
   "outputs": [
    {
     "data": {
      "text/plain": [
       "{'A': 'ADJ',\n",
       " 'ADV': 'ADV',\n",
       " 'ADVPRO': 'ADV',\n",
       " 'ANUM': 'ADJ',\n",
       " 'APRO': 'DET',\n",
       " 'COM': 'ADJ',\n",
       " 'CONJ': 'SCONJ',\n",
       " 'INTJ': 'INTJ',\n",
       " 'NONLEX': 'X',\n",
       " 'NUM': 'NUM',\n",
       " 'PART': 'PART',\n",
       " 'PR': 'ADP',\n",
       " 'S': 'NOUN',\n",
       " 'SPRO': 'PRON',\n",
       " 'UNKN': 'X',\n",
       " 'V': 'VERB'}"
      ]
     },
     "execution_count": 184,
     "metadata": {},
     "output_type": "execute_result"
    }
   ],
   "source": [
    "mapping"
   ]
  },
  {
   "cell_type": "code",
   "execution_count": 185,
   "id": "d09b0994",
   "metadata": {},
   "outputs": [],
   "source": [
    "from pymystem3 import Mystem\n",
    "m = Mystem()"
   ]
  },
  {
   "cell_type": "code",
   "execution_count": 186,
   "id": "a189810b",
   "metadata": {},
   "outputs": [],
   "source": [
    "\n",
    "def normalize_mystem(text):\n",
    "    tokens = []\n",
    "    norm_words = m.analyze(text)\n",
    "    for norm_word in norm_words:\n",
    "        if 'analysis' not in norm_word:\n",
    "            continue\n",
    "            \n",
    "        if not len(norm_word['analysis']):\n",
    "            lemma = norm_word['text']\n",
    "            pos = 'UNKN'\n",
    "        else:\n",
    "            lemma = norm_word[\"analysis\"][0][\"lex\"].lower().strip()\n",
    "            pos = norm_word[\"analysis\"][0][\"gr\"].split(',')[0]\n",
    "            pos = pos.split('=')[0].strip()\n",
    "        pos = mapping[pos]\n",
    "        tokens.append(lemma+'_'+pos)\n",
    "\n",
    "    return tokens\n"
   ]
  },
  {
   "cell_type": "markdown",
   "id": "7c5490ed",
   "metadata": {},
   "source": [
    "Эту функцию можно применять к любому тексты и получать на выходе токены, по которым можно обращаться к модели напрямую."
   ]
  },
  {
   "cell_type": "code",
   "execution_count": 187,
   "id": "fd4cbd0e",
   "metadata": {},
   "outputs": [
    {
     "data": {
      "text/plain": [
       "['обучать_VERB',\n",
       " 'классификатор_NOUN',\n",
       " 'парафраз_NOUN',\n",
       " 'на_ADP',\n",
       " 'предобученный_ADJ',\n",
       " 'модель_NOUN',\n",
       " 'вы_PRON',\n",
       " 'нужно_ADV',\n",
       " 'быть_VERB',\n",
       " 'дома_ADV']"
      ]
     },
     "execution_count": 187,
     "metadata": {},
     "output_type": "execute_result"
    }
   ],
   "source": [
    "normalize_mystem('Обучить классификатор парафразов на предобученной модели вам нужно будет дома')"
   ]
  },
  {
   "cell_type": "code",
   "execution_count": 189,
   "id": "2e4f1b39",
   "metadata": {},
   "outputs": [
    {
     "data": {
      "text/plain": [
       "(300,)"
      ]
     },
     "execution_count": 189,
     "metadata": {},
     "output_type": "execute_result"
    }
   ],
   "source": [
    "model['обучать_VERB'].shape"
   ]
  },
  {
   "cell_type": "code",
   "execution_count": null,
   "id": "c94d61b3",
   "metadata": {},
   "outputs": [],
   "source": []
  },
  {
   "cell_type": "code",
   "execution_count": null,
   "id": "9295afc6",
   "metadata": {},
   "outputs": [],
   "source": []
  },
  {
   "cell_type": "code",
   "execution_count": null,
   "id": "7eb1ff00",
   "metadata": {},
   "outputs": [],
   "source": []
  },
  {
   "cell_type": "markdown",
   "id": "38dee586",
   "metadata": {},
   "source": [
    "## Использование для классификации"
   ]
  },
  {
   "cell_type": "markdown",
   "id": "65ecfe1f",
   "metadata": {},
   "source": [
    "До этого мы почти никак не оценивали качество эмбедингов, только смотрели на ближайшие по нескольким словам. На практике нужно всегда ориентироваться на задачу, которую нужно решить. Давайте возьмем датасет для классификации и обучим несколько моделей с использованием векторных представлений."
   ]
  },
  {
   "cell_type": "code",
   "execution_count": 207,
   "id": "df109f99",
   "metadata": {},
   "outputs": [],
   "source": [
    "data = pd.read_csv('labeled.csv')"
   ]
  },
  {
   "cell_type": "code",
   "execution_count": 210,
   "id": "f85b7d97",
   "metadata": {},
   "outputs": [],
   "source": [
    "data['norm_text'] = data.comment.apply(preprocess)"
   ]
  },
  {
   "cell_type": "code",
   "execution_count": 211,
   "id": "a9ae9e6f",
   "metadata": {},
   "outputs": [
    {
     "data": {
      "text/html": [
       "<div>\n",
       "<style scoped>\n",
       "    .dataframe tbody tr th:only-of-type {\n",
       "        vertical-align: middle;\n",
       "    }\n",
       "\n",
       "    .dataframe tbody tr th {\n",
       "        vertical-align: top;\n",
       "    }\n",
       "\n",
       "    .dataframe thead th {\n",
       "        text-align: right;\n",
       "    }\n",
       "</style>\n",
       "<table border=\"1\" class=\"dataframe\">\n",
       "  <thead>\n",
       "    <tr style=\"text-align: right;\">\n",
       "      <th></th>\n",
       "      <th>comment</th>\n",
       "      <th>toxic</th>\n",
       "      <th>norm_text</th>\n",
       "    </tr>\n",
       "  </thead>\n",
       "  <tbody>\n",
       "    <tr>\n",
       "      <th>0</th>\n",
       "      <td>Верблюдов-то за что? Дебилы, бл...\\n</td>\n",
       "      <td>1.0</td>\n",
       "      <td>[верблюдов-то, за, что, дебилы, бл]</td>\n",
       "    </tr>\n",
       "    <tr>\n",
       "      <th>1</th>\n",
       "      <td>Хохлы, это отдушина затюканого россиянина, мол...</td>\n",
       "      <td>1.0</td>\n",
       "      <td>[хохлы, это, отдушина, затюканого, россиянина,...</td>\n",
       "    </tr>\n",
       "    <tr>\n",
       "      <th>2</th>\n",
       "      <td>Собаке - собачья смерть\\n</td>\n",
       "      <td>1.0</td>\n",
       "      <td>[собаке, , собачья, смерть]</td>\n",
       "    </tr>\n",
       "    <tr>\n",
       "      <th>3</th>\n",
       "      <td>Страницу обнови, дебил. Это тоже не оскорблени...</td>\n",
       "      <td>1.0</td>\n",
       "      <td>[страницу, обнови, дебил, это, тоже, не, оскор...</td>\n",
       "    </tr>\n",
       "    <tr>\n",
       "      <th>4</th>\n",
       "      <td>тебя не убедил 6-страничный пдф в том, что Скр...</td>\n",
       "      <td>1.0</td>\n",
       "      <td>[тебя, не, убедил, 6-страничный, пдф, в, том, ...</td>\n",
       "    </tr>\n",
       "    <tr>\n",
       "      <th>...</th>\n",
       "      <td>...</td>\n",
       "      <td>...</td>\n",
       "      <td>...</td>\n",
       "    </tr>\n",
       "    <tr>\n",
       "      <th>14407</th>\n",
       "      <td>Вонючий совковый скот прибежал и ноет. А вот и...</td>\n",
       "      <td>1.0</td>\n",
       "      <td>[вонючий, совковый, скот, прибежал, и, ноет, а...</td>\n",
       "    </tr>\n",
       "    <tr>\n",
       "      <th>14408</th>\n",
       "      <td>А кого любить? Гоблина тупорылого что-ли? Или ...</td>\n",
       "      <td>1.0</td>\n",
       "      <td>[а, кого, любить, гоблина, тупорылого, что-ли,...</td>\n",
       "    </tr>\n",
       "    <tr>\n",
       "      <th>14409</th>\n",
       "      <td>Посмотрел Утомленных солнцем 2. И оказалось, ч...</td>\n",
       "      <td>0.0</td>\n",
       "      <td>[посмотрел, утомленных, солнцем, 2, и, оказало...</td>\n",
       "    </tr>\n",
       "    <tr>\n",
       "      <th>14410</th>\n",
       "      <td>КРЫМОТРЕД НАРУШАЕТ ПРАВИЛА РАЗДЕЛА Т.К В НЕМ Н...</td>\n",
       "      <td>1.0</td>\n",
       "      <td>[крымотред, нарушает, правила, раздела, т.к, в...</td>\n",
       "    </tr>\n",
       "    <tr>\n",
       "      <th>14411</th>\n",
       "      <td>До сих пор пересматриваю его видео. Орамбо кст...</td>\n",
       "      <td>0.0</td>\n",
       "      <td>[до, сих, пор, пересматриваю, его, видео, орам...</td>\n",
       "    </tr>\n",
       "  </tbody>\n",
       "</table>\n",
       "<p>14412 rows × 3 columns</p>\n",
       "</div>"
      ],
      "text/plain": [
       "                                                 comment  toxic  \\\n",
       "0                   Верблюдов-то за что? Дебилы, бл...\\n    1.0   \n",
       "1      Хохлы, это отдушина затюканого россиянина, мол...    1.0   \n",
       "2                              Собаке - собачья смерть\\n    1.0   \n",
       "3      Страницу обнови, дебил. Это тоже не оскорблени...    1.0   \n",
       "4      тебя не убедил 6-страничный пдф в том, что Скр...    1.0   \n",
       "...                                                  ...    ...   \n",
       "14407  Вонючий совковый скот прибежал и ноет. А вот и...    1.0   \n",
       "14408  А кого любить? Гоблина тупорылого что-ли? Или ...    1.0   \n",
       "14409  Посмотрел Утомленных солнцем 2. И оказалось, ч...    0.0   \n",
       "14410  КРЫМОТРЕД НАРУШАЕТ ПРАВИЛА РАЗДЕЛА Т.К В НЕМ Н...    1.0   \n",
       "14411  До сих пор пересматриваю его видео. Орамбо кст...    0.0   \n",
       "\n",
       "                                               norm_text  \n",
       "0                    [верблюдов-то, за, что, дебилы, бл]  \n",
       "1      [хохлы, это, отдушина, затюканого, россиянина,...  \n",
       "2                            [собаке, , собачья, смерть]  \n",
       "3      [страницу, обнови, дебил, это, тоже, не, оскор...  \n",
       "4      [тебя, не, убедил, 6-страничный, пдф, в, том, ...  \n",
       "...                                                  ...  \n",
       "14407  [вонючий, совковый, скот, прибежал, и, ноет, а...  \n",
       "14408  [а, кого, любить, гоблина, тупорылого, что-ли,...  \n",
       "14409  [посмотрел, утомленных, солнцем, 2, и, оказало...  \n",
       "14410  [крымотред, нарушает, правила, раздела, т.к, в...  \n",
       "14411  [до, сих, пор, пересматриваю, его, видео, орам...  \n",
       "\n",
       "[14412 rows x 3 columns]"
      ]
     },
     "execution_count": 211,
     "metadata": {},
     "output_type": "execute_result"
    }
   ],
   "source": [
    "data"
   ]
  },
  {
   "cell_type": "markdown",
   "id": "801380ad",
   "metadata": {},
   "source": [
    "Также как и в начале собираем словарь"
   ]
  },
  {
   "cell_type": "code",
   "execution_count": 214,
   "id": "5e6f3dac",
   "metadata": {},
   "outputs": [
    {
     "data": {
      "text/plain": [
       "7232"
      ]
     },
     "execution_count": 214,
     "metadata": {},
     "output_type": "execute_result"
    }
   ],
   "source": [
    "vocab = Counter()\n",
    "\n",
    "for text in data['norm_text']:\n",
    "    vocab.update(text)\n",
    "    \n",
    "filtered_vocab = set()\n",
    "\n",
    "for word in vocab:\n",
    "    if vocab[word] > 5:\n",
    "        filtered_vocab.add(word)\n",
    "\n",
    "len(filtered_vocab)"
   ]
  },
  {
   "cell_type": "code",
   "execution_count": 216,
   "id": "5600572a",
   "metadata": {},
   "outputs": [],
   "source": [
    "word2id = { 'PAD':0}\n",
    "\n",
    "for word in filtered_vocab:\n",
    "    word2id[word] = len(word2id)\n",
    "id2word = {i:word for word, i in word2id.items()}"
   ]
  },
  {
   "cell_type": "markdown",
   "id": "ce34a3b8",
   "metadata": {},
   "source": [
    "Переводим слова в индексы"
   ]
  },
  {
   "cell_type": "code",
   "execution_count": 217,
   "id": "de33c88c",
   "metadata": {},
   "outputs": [],
   "source": [
    "X = []\n",
    "\n",
    "for tokens in data['norm_text']:\n",
    "    ids = [word2id[token] for token in tokens if token in word2id]\n",
    "    X.append(ids)"
   ]
  },
  {
   "cell_type": "code",
   "execution_count": 218,
   "id": "ecbca663",
   "metadata": {},
   "outputs": [],
   "source": [
    "X = tf.keras.preprocessing.sequence.pad_sequences(X, maxlen=100)\n",
    "y = data.toxic.values"
   ]
  },
  {
   "cell_type": "markdown",
   "id": "5703e724",
   "metadata": {},
   "source": [
    "Разбиваем на трейн и тест"
   ]
  },
  {
   "cell_type": "code",
   "execution_count": 219,
   "id": "0997f420",
   "metadata": {},
   "outputs": [],
   "source": [
    "X_train, X_valid, y_train, y_valid = train_test_split(X, y, test_size=0.05)"
   ]
  },
  {
   "cell_type": "code",
   "execution_count": null,
   "id": "c169d9b6",
   "metadata": {},
   "outputs": [],
   "source": []
  },
  {
   "cell_type": "markdown",
   "id": "435e8ed5",
   "metadata": {},
   "source": [
    "Теперь мы можем уже обучать модель"
   ]
  },
  {
   "cell_type": "code",
   "execution_count": 225,
   "id": "90385246",
   "metadata": {},
   "outputs": [],
   "source": [
    "inputs = tf.keras.layers.Input(shape=(100,))\n",
    "\n",
    "embeddings = tf.keras.layers.Embedding(input_dim=len(word2id), output_dim=100)(inputs, )\n",
    "# embedding слой возвращает последовательность векторов\n",
    "# а нам нужно классифицировать сразу весь текст\n",
    "# стандартный подход в этом случае - усреднить единичные вектора в 1 вектор текста\n",
    "mean = tf.keras.layers.Lambda(lambda x: tf.keras.backend.mean(x,  axis=1))(embeddings)\n",
    "# к усредненному вектору мы уже применяем полносвязный слой, который вернет вероятность токсичности\n",
    "outputs = tf.keras.layers.Dense(1, activation='sigmoid')(mean)\n",
    "\n",
    "model = tf.keras.Model(inputs=inputs, outputs=outputs)\n",
    "optimizer = tf.keras.optimizers.Adam()\n",
    "model.compile(optimizer=optimizer,\n",
    "              loss='binary_crossentropy',\n",
    "              metrics=['accuracy'])\n"
   ]
  },
  {
   "cell_type": "code",
   "execution_count": 224,
   "id": "84de337e",
   "metadata": {},
   "outputs": [
    {
     "name": "stdout",
     "output_type": "stream",
     "text": [
      "Epoch 1/10\n",
      "428/428 [==============================] - 1s 3ms/step - loss: 0.3124 - accuracy: 0.8854 - val_loss: 0.4030 - val_accuracy: 0.8447\n",
      "Epoch 2/10\n",
      "428/428 [==============================] - 1s 3ms/step - loss: 0.2851 - accuracy: 0.8947 - val_loss: 0.3988 - val_accuracy: 0.8488\n",
      "Epoch 3/10\n",
      "428/428 [==============================] - 1s 3ms/step - loss: 0.2627 - accuracy: 0.9027 - val_loss: 0.3972 - val_accuracy: 0.8433\n",
      "Epoch 4/10\n",
      "428/428 [==============================] - 1s 3ms/step - loss: 0.2437 - accuracy: 0.9091 - val_loss: 0.3991 - val_accuracy: 0.8419\n",
      "Epoch 5/10\n",
      "428/428 [==============================] - 1s 3ms/step - loss: 0.2269 - accuracy: 0.9167 - val_loss: 0.4018 - val_accuracy: 0.8405\n",
      "Epoch 6/10\n",
      "428/428 [==============================] - 1s 3ms/step - loss: 0.2128 - accuracy: 0.9219 - val_loss: 0.4095 - val_accuracy: 0.8516\n",
      "Epoch 7/10\n",
      "428/428 [==============================] - 1s 3ms/step - loss: 0.2012 - accuracy: 0.9251 - val_loss: 0.4138 - val_accuracy: 0.8530\n",
      "Epoch 8/10\n",
      "428/428 [==============================] - 1s 3ms/step - loss: 0.1891 - accuracy: 0.9298 - val_loss: 0.4187 - val_accuracy: 0.8447\n",
      "Epoch 9/10\n",
      "428/428 [==============================] - 1s 3ms/step - loss: 0.1804 - accuracy: 0.9324 - val_loss: 0.4242 - val_accuracy: 0.8419\n",
      "Epoch 10/10\n",
      "428/428 [==============================] - 1s 3ms/step - loss: 0.1702 - accuracy: 0.9349 - val_loss: 0.4340 - val_accuracy: 0.8460\n"
     ]
    },
    {
     "data": {
      "text/plain": [
       "<tensorflow.python.keras.callbacks.History at 0x15a823470>"
      ]
     },
     "execution_count": 224,
     "metadata": {},
     "output_type": "execute_result"
    }
   ],
   "source": [
    "model.fit(X_train, y_train, \n",
    "          validation_data=(X_valid, y_valid),\n",
    "          batch_size=32,\n",
    "         epochs=10)"
   ]
  },
  {
   "cell_type": "markdown",
   "id": "a2d4fc1c",
   "metadata": {},
   "source": [
    "В этой модели векторные представления обучаются с нуля. Можно подставить в Embedding слой уже готовые вектора из word2vec/fastext"
   ]
  },
  {
   "cell_type": "markdown",
   "id": "c346a1a4",
   "metadata": {},
   "source": [
    "Обучаем fastext. Можно обучать на размеченных данных, можно использовать другой более объемный корпус (например, вики, который мы использовали выше), а можно и на том и на другом"
   ]
  },
  {
   "cell_type": "code",
   "execution_count": 252,
   "id": "b664e3f4",
   "metadata": {},
   "outputs": [
    {
     "name": "stdout",
     "output_type": "stream",
     "text": [
      "CPU times: user 9min 53s, sys: 1.77 s, total: 9min 55s\n",
      "Wall time: 3min 28s\n"
     ]
    }
   ],
   "source": [
    "%%time\n",
    "ft = gensim.models.FastText(texts + data['norm_text'].values.tolist(), window=10, epochs=10)"
   ]
  },
  {
   "cell_type": "markdown",
   "id": "86e45c8d",
   "metadata": {},
   "source": [
    "Теперь нам нужно сделать матрицу с векторами. Индексы строчек в этой матрице должны совпадать с индексами слов в словаре."
   ]
  },
  {
   "cell_type": "code",
   "execution_count": 253,
   "id": "098485ca",
   "metadata": {},
   "outputs": [],
   "source": [
    "weights = np.zeros((len(word2id), 100))\n",
    "\n",
    "for word, i in word2id.items():\n",
    "    # вектор паддинга оставим нулевым\n",
    "    if word == 'PAD':\n",
    "        continue\n",
    "\n",
    "    try:\n",
    "        weights[i] = ft.wv[word]\n",
    "    \n",
    "    \n",
    "    except KeyError:\n",
    "        # для слов, которых нет в модели тоже возьмем какой-то  рандомный вектор\n",
    "        continue\n",
    "        weights[i] = ft.wv['опрагпллирао']"
   ]
  },
  {
   "cell_type": "code",
   "execution_count": 254,
   "id": "e703d96d",
   "metadata": {},
   "outputs": [],
   "source": [
    "\n",
    "\n",
    "inputs = tf.keras.layers.Input(shape=(100,))\n",
    "\n",
    "# передаем матрицу в эмбединг слой\n",
    "# указываем параметр trainable=False, чтобы вектора не обучались\n",
    "# Пояснение: кажется, что обучение векторов отключать не стоит, так как модель должна взять готовые \n",
    "# эмбединги и подогнать их к нашей задаче. На практитке это однако не работает - эмбединги просто \n",
    "# обучатся заново\n",
    "embeddings = tf.keras.layers.Embedding(input_dim=len(word2id), output_dim=100, \n",
    "                                       trainable=False,\n",
    "                                       weights=[weights])(inputs, )\n",
    "mean = tf.keras.layers.Lambda(lambda x: tf.keras.backend.mean(x,  axis=1))(embeddings)\n",
    "\n",
    "outputs = tf.keras.layers.Dense(1, activation='sigmoid')(mean)\n",
    "\n",
    "model = tf.keras.Model(inputs=inputs, outputs=outputs)\n",
    "optimizer = tf.keras.optimizers.Adam()\n",
    "model.compile(optimizer=optimizer,\n",
    "              loss='binary_crossentropy',\n",
    "              metrics=['accuracy'])\n"
   ]
  },
  {
   "cell_type": "markdown",
   "id": "fa8459b5",
   "metadata": {},
   "source": [
    "Так как слой с эмбедингами не обучается, вся модель обучается сильно быстрее"
   ]
  },
  {
   "cell_type": "code",
   "execution_count": 255,
   "id": "0e7f4630",
   "metadata": {
    "scrolled": true
   },
   "outputs": [
    {
     "name": "stdout",
     "output_type": "stream",
     "text": [
      "Epoch 1/30\n",
      "428/428 [==============================] - 1s 933us/step - loss: 0.6706 - accuracy: 0.5838 - val_loss: 0.5857 - val_accuracy: 0.6699\n",
      "Epoch 2/30\n",
      "428/428 [==============================] - 0s 742us/step - loss: 0.5922 - accuracy: 0.6755 - val_loss: 0.5588 - val_accuracy: 0.6824\n",
      "Epoch 3/30\n",
      "428/428 [==============================] - 0s 739us/step - loss: 0.5723 - accuracy: 0.6850 - val_loss: 0.5434 - val_accuracy: 0.7087\n",
      "Epoch 4/30\n",
      "428/428 [==============================] - 0s 740us/step - loss: 0.5563 - accuracy: 0.6992 - val_loss: 0.5331 - val_accuracy: 0.7157\n",
      "Epoch 5/30\n",
      "428/428 [==============================] - 0s 744us/step - loss: 0.5492 - accuracy: 0.7092 - val_loss: 0.5249 - val_accuracy: 0.7171\n",
      "Epoch 6/30\n",
      "428/428 [==============================] - 0s 746us/step - loss: 0.5354 - accuracy: 0.7166 - val_loss: 0.5188 - val_accuracy: 0.7309\n",
      "Epoch 7/30\n",
      "428/428 [==============================] - 0s 744us/step - loss: 0.5415 - accuracy: 0.7208 - val_loss: 0.5129 - val_accuracy: 0.7323\n",
      "Epoch 8/30\n",
      "428/428 [==============================] - 0s 739us/step - loss: 0.5169 - accuracy: 0.7344 - val_loss: 0.5091 - val_accuracy: 0.7420\n",
      "Epoch 9/30\n",
      "428/428 [==============================] - 0s 743us/step - loss: 0.5148 - accuracy: 0.7375 - val_loss: 0.5053 - val_accuracy: 0.7351\n",
      "Epoch 10/30\n",
      "428/428 [==============================] - 0s 736us/step - loss: 0.5193 - accuracy: 0.7322 - val_loss: 0.5019 - val_accuracy: 0.7323\n",
      "Epoch 11/30\n",
      "428/428 [==============================] - 0s 736us/step - loss: 0.5099 - accuracy: 0.7433 - val_loss: 0.5001 - val_accuracy: 0.7490\n",
      "Epoch 12/30\n",
      "428/428 [==============================] - 0s 739us/step - loss: 0.5018 - accuracy: 0.7519 - val_loss: 0.4979 - val_accuracy: 0.7476\n",
      "Epoch 13/30\n",
      "428/428 [==============================] - 0s 742us/step - loss: 0.5018 - accuracy: 0.7537 - val_loss: 0.4956 - val_accuracy: 0.7434\n",
      "Epoch 14/30\n",
      "428/428 [==============================] - 0s 742us/step - loss: 0.5107 - accuracy: 0.7483 - val_loss: 0.4928 - val_accuracy: 0.7420\n",
      "Epoch 15/30\n",
      "428/428 [==============================] - 0s 741us/step - loss: 0.4997 - accuracy: 0.7535 - val_loss: 0.4914 - val_accuracy: 0.7434\n",
      "Epoch 16/30\n",
      "428/428 [==============================] - 0s 740us/step - loss: 0.4932 - accuracy: 0.7583 - val_loss: 0.4903 - val_accuracy: 0.7490\n",
      "Epoch 17/30\n",
      "428/428 [==============================] - 0s 803us/step - loss: 0.4958 - accuracy: 0.7617 - val_loss: 0.4908 - val_accuracy: 0.7559\n",
      "Epoch 18/30\n",
      "428/428 [==============================] - 0s 748us/step - loss: 0.4916 - accuracy: 0.7658 - val_loss: 0.4876 - val_accuracy: 0.7490\n",
      "Epoch 19/30\n",
      "428/428 [==============================] - 0s 743us/step - loss: 0.4977 - accuracy: 0.7629 - val_loss: 0.4873 - val_accuracy: 0.7545\n",
      "Epoch 20/30\n",
      "428/428 [==============================] - 0s 787us/step - loss: 0.4919 - accuracy: 0.7644 - val_loss: 0.4855 - val_accuracy: 0.7531\n",
      "Epoch 21/30\n",
      "428/428 [==============================] - 0s 745us/step - loss: 0.4882 - accuracy: 0.7644 - val_loss: 0.4865 - val_accuracy: 0.7545\n",
      "Epoch 22/30\n",
      "428/428 [==============================] - 0s 751us/step - loss: 0.4919 - accuracy: 0.7680 - val_loss: 0.4836 - val_accuracy: 0.7545\n",
      "Epoch 23/30\n",
      "428/428 [==============================] - 0s 744us/step - loss: 0.4889 - accuracy: 0.7668 - val_loss: 0.4821 - val_accuracy: 0.7545\n",
      "Epoch 24/30\n",
      "428/428 [==============================] - 0s 746us/step - loss: 0.4925 - accuracy: 0.7641 - val_loss: 0.4815 - val_accuracy: 0.7545\n",
      "Epoch 25/30\n",
      "428/428 [==============================] - 0s 738us/step - loss: 0.4784 - accuracy: 0.7724 - val_loss: 0.4806 - val_accuracy: 0.7559\n",
      "Epoch 26/30\n",
      "428/428 [==============================] - 0s 759us/step - loss: 0.4913 - accuracy: 0.7625 - val_loss: 0.4800 - val_accuracy: 0.7559\n",
      "Epoch 27/30\n",
      "428/428 [==============================] - 0s 759us/step - loss: 0.4877 - accuracy: 0.7648 - val_loss: 0.4792 - val_accuracy: 0.7559\n",
      "Epoch 28/30\n",
      "428/428 [==============================] - 0s 761us/step - loss: 0.4878 - accuracy: 0.7691 - val_loss: 0.4789 - val_accuracy: 0.7573\n",
      "Epoch 29/30\n",
      "428/428 [==============================] - 0s 744us/step - loss: 0.4840 - accuracy: 0.7698 - val_loss: 0.4800 - val_accuracy: 0.7601\n",
      "Epoch 30/30\n",
      "428/428 [==============================] - 0s 747us/step - loss: 0.4800 - accuracy: 0.7726 - val_loss: 0.4787 - val_accuracy: 0.7587\n"
     ]
    },
    {
     "data": {
      "text/plain": [
       "<tensorflow.python.keras.callbacks.History at 0x1593b9160>"
      ]
     },
     "execution_count": 255,
     "metadata": {},
     "output_type": "execute_result"
    }
   ],
   "source": [
    "model.fit(X_train, y_train, \n",
    "          validation_data=(X_valid, y_valid),\n",
    "          batch_size=32,\n",
    "         epochs=30)"
   ]
  },
  {
   "cell_type": "markdown",
   "id": "ba5d9d51",
   "metadata": {},
   "source": [
    "Качество получается хуже, но скорее всего это из-за того, что обучающих данных слишком мало для fastext'а"
   ]
  },
  {
   "cell_type": "code",
   "execution_count": 256,
   "id": "afaaac4c",
   "metadata": {},
   "outputs": [
    {
     "name": "stdout",
     "output_type": "stream",
     "text": [
      "dict_keys(['loss', 'accuracy', 'val_loss', 'val_accuracy'])\n"
     ]
    },
    {
     "data": {
      "image/png": "[encoded data removed]",
      "text/plain": [
       "<Figure size 432x288 with 1 Axes>"
      ]
     },
     "metadata": {
      "needs_background": "light"
     },
     "output_type": "display_data"
    }
   ],
   "source": [
    "print(model.history.history.keys())\n",
    "# summarize history for accuracy\n",
    "plt.plot(model.history.history['accuracy'])\n",
    "plt.plot(model.history.history['val_accuracy'])\n",
    "plt.title('model accuracy')\n",
    "plt.ylabel('accuracy')\n",
    "plt.xlabel('epoch')\n",
    "plt.legend(['train', 'val'], loc='upper left')\n",
    "plt.show()"
   ]
  }
 ],
 "metadata": {
  "kernelspec": {
   "display_name": "Python 3",
   "language": "python",
   "name": "python3"
  },
  "language_info": {
   "codemirror_mode": {
    "name": "ipython",
    "version": 3
   },
   "file_extension": ".py",
   "mimetype": "text/x-python",
   "name": "python",
   "nbconvert_exporter": "python",
   "pygments_lexer": "ipython3",
   "version": "3.7.2"
  }
 },
 "nbformat": 4,
 "nbformat_minor": 5
}
